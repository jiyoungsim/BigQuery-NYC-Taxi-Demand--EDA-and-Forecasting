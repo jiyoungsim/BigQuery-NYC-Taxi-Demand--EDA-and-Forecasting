{
 "cells": [
  {
   "cell_type": "markdown",
   "metadata": {},
   "source": [
    "# NYC Taxi Feature Engineering and Prediction\n",
    "### Goals\n",
    "- Feature engineering\n",
    "    - Datetime\n",
    "    - Reverse geocoding (long/lat --> zip)\n",
    "    - Categorical data (zipcode): label encoding\n",
    "- Prediction Models\n",
    "    - Baseline simple linear model\n",
    "    - XGBoost regressor\n",
    "    - LightGBM regressor\n",
    "    - Random forest regressor\n",
    "    \n",
    "### Import Modules"
   ]
  },
  {
   "cell_type": "code",
   "execution_count": 1,
   "metadata": {
    "_cell_guid": "b1076dfc-b9ad-4769-8c92-a6c4dae69d19",
    "_uuid": "8f2839f25d086af736a60e9eeb907d3b93b6e0e5"
   },
   "outputs": [
    {
     "data": {
      "text/html": [
       "        <script type=\"text/javascript\">\n",
       "        window.PlotlyConfig = {MathJaxConfig: 'local'};\n",
       "        if (window.MathJax) {MathJax.Hub.Config({SVG: {font: \"STIX-Web\"}});}\n",
       "        if (typeof require !== 'undefined') {\n",
       "        require.undef(\"plotly\");\n",
       "        requirejs.config({\n",
       "            paths: {\n",
       "                'plotly': ['https://cdn.plot.ly/plotly-latest.min']\n",
       "            }\n",
       "        });\n",
       "        require(['plotly'], function(Plotly) {\n",
       "            window._Plotly = Plotly;\n",
       "        });\n",
       "        }\n",
       "        </script>\n",
       "        "
      ]
     },
     "metadata": {},
     "output_type": "display_data"
    }
   ],
   "source": [
    "import pandas as pd\n",
    "import numpy as np\n",
    "import matplotlib.pyplot as plt\n",
    "import seaborn as sns\n",
    "import cufflinks as cf\n",
    "import plotly.offline\n",
    "cf.go_offline()\n",
    "cf.set_config_file(offline=False, world_readable=True)\n",
    "\n",
    "from google.cloud import bigquery\n",
    "from sklearn.metrics import mean_absolute_error\n",
    "from sklearn.metrics import mean_squared_error\n",
    "from sklearn.model_selection import GridSearchCV\n",
    "import warnings\n",
    "warnings.filterwarnings('ignore')\n",
    "\n",
    "plt.style.use('ggplot')\n",
    "%matplotlib inline"
   ]
  },
  {
   "cell_type": "markdown",
   "metadata": {},
   "source": [
    "### Load Data\n",
    "Assume we're making prediction at certain date. Information like number of passengers, trip distance, dropoff location, etc. will not be available for future trips so we will only use pickup location and time."
   ]
  },
  {
   "cell_type": "code",
   "execution_count": 2,
   "metadata": {},
   "outputs": [
    {
     "name": "stdout",
     "output_type": "stream",
     "text": [
      "Using Kaggle's public dataset BigQuery integration.\n"
     ]
    }
   ],
   "source": [
    "client = bigquery.Client()"
   ]
  },
  {
   "cell_type": "code",
   "execution_count": 3,
   "metadata": {},
   "outputs": [
    {
     "data": {
      "text/html": [
       "<div>\n",
       "<style scoped>\n",
       "    .dataframe tbody tr th:only-of-type {\n",
       "        vertical-align: middle;\n",
       "    }\n",
       "\n",
       "    .dataframe tbody tr th {\n",
       "        vertical-align: top;\n",
       "    }\n",
       "\n",
       "    .dataframe thead th {\n",
       "        text-align: right;\n",
       "    }\n",
       "</style>\n",
       "<table border=\"1\" class=\"dataframe\">\n",
       "  <thead>\n",
       "    <tr style=\"text-align: right;\">\n",
       "      <th></th>\n",
       "      <th>vendor_id</th>\n",
       "      <th>pickup_datetime</th>\n",
       "      <th>dropoff_datetime</th>\n",
       "      <th>passenger_count</th>\n",
       "      <th>trip_distance</th>\n",
       "      <th>pickup_longitude</th>\n",
       "      <th>pickup_latitude</th>\n",
       "      <th>rate_code</th>\n",
       "      <th>store_and_fwd_flag</th>\n",
       "      <th>dropoff_longitude</th>\n",
       "      <th>dropoff_latitude</th>\n",
       "      <th>payment_type</th>\n",
       "      <th>fare_amount</th>\n",
       "      <th>extra</th>\n",
       "      <th>mta_tax</th>\n",
       "      <th>tip_amount</th>\n",
       "      <th>tolls_amount</th>\n",
       "      <th>imp_surcharge</th>\n",
       "      <th>total_amount</th>\n",
       "    </tr>\n",
       "  </thead>\n",
       "  <tbody>\n",
       "    <tr>\n",
       "      <th>0</th>\n",
       "      <td>2</td>\n",
       "      <td>2015-10-19 14:42:59</td>\n",
       "      <td>2015-10-19 14:47:06</td>\n",
       "      <td>2</td>\n",
       "      <td>0.65</td>\n",
       "      <td>-73.964737</td>\n",
       "      <td>40.767078</td>\n",
       "      <td>1.0</td>\n",
       "      <td>N</td>\n",
       "      <td>-73.962372</td>\n",
       "      <td>40.773129</td>\n",
       "      <td>2</td>\n",
       "      <td>5.0</td>\n",
       "      <td>0.0</td>\n",
       "      <td>0.5</td>\n",
       "      <td>0.00</td>\n",
       "      <td>0.0</td>\n",
       "      <td>0.3</td>\n",
       "      <td>5.80</td>\n",
       "    </tr>\n",
       "    <tr>\n",
       "      <th>1</th>\n",
       "      <td>1</td>\n",
       "      <td>2015-11-24 12:28:25</td>\n",
       "      <td>2015-11-24 12:37:33</td>\n",
       "      <td>1</td>\n",
       "      <td>0.60</td>\n",
       "      <td>-73.985336</td>\n",
       "      <td>40.744019</td>\n",
       "      <td>1.0</td>\n",
       "      <td>N</td>\n",
       "      <td>-73.991112</td>\n",
       "      <td>40.748569</td>\n",
       "      <td>1</td>\n",
       "      <td>7.0</td>\n",
       "      <td>0.0</td>\n",
       "      <td>0.5</td>\n",
       "      <td>1.55</td>\n",
       "      <td>0.0</td>\n",
       "      <td>0.3</td>\n",
       "      <td>9.35</td>\n",
       "    </tr>\n",
       "    <tr>\n",
       "      <th>2</th>\n",
       "      <td>2</td>\n",
       "      <td>2015-11-21 20:21:37</td>\n",
       "      <td>2015-11-21 20:44:19</td>\n",
       "      <td>1</td>\n",
       "      <td>2.65</td>\n",
       "      <td>-73.972588</td>\n",
       "      <td>40.755905</td>\n",
       "      <td>1.0</td>\n",
       "      <td>N</td>\n",
       "      <td>-74.000000</td>\n",
       "      <td>40.730560</td>\n",
       "      <td>2</td>\n",
       "      <td>15.0</td>\n",
       "      <td>0.5</td>\n",
       "      <td>0.5</td>\n",
       "      <td>0.00</td>\n",
       "      <td>0.0</td>\n",
       "      <td>0.3</td>\n",
       "      <td>16.30</td>\n",
       "    </tr>\n",
       "    <tr>\n",
       "      <th>3</th>\n",
       "      <td>1</td>\n",
       "      <td>2015-08-20 15:19:46</td>\n",
       "      <td>2015-08-20 15:23:58</td>\n",
       "      <td>1</td>\n",
       "      <td>0.60</td>\n",
       "      <td>-73.989464</td>\n",
       "      <td>40.767578</td>\n",
       "      <td>1.0</td>\n",
       "      <td>N</td>\n",
       "      <td>-73.978683</td>\n",
       "      <td>40.765167</td>\n",
       "      <td>2</td>\n",
       "      <td>4.5</td>\n",
       "      <td>0.0</td>\n",
       "      <td>0.5</td>\n",
       "      <td>0.00</td>\n",
       "      <td>0.0</td>\n",
       "      <td>0.3</td>\n",
       "      <td>5.30</td>\n",
       "    </tr>\n",
       "    <tr>\n",
       "      <th>4</th>\n",
       "      <td>2</td>\n",
       "      <td>2015-01-08 20:59:40</td>\n",
       "      <td>2015-01-08 21:09:31</td>\n",
       "      <td>1</td>\n",
       "      <td>1.74</td>\n",
       "      <td>-73.983673</td>\n",
       "      <td>40.765610</td>\n",
       "      <td>NaN</td>\n",
       "      <td>N</td>\n",
       "      <td>-73.976959</td>\n",
       "      <td>40.785778</td>\n",
       "      <td>2</td>\n",
       "      <td>9.0</td>\n",
       "      <td>0.5</td>\n",
       "      <td>0.5</td>\n",
       "      <td>0.00</td>\n",
       "      <td>0.0</td>\n",
       "      <td>0.3</td>\n",
       "      <td>10.30</td>\n",
       "    </tr>\n",
       "  </tbody>\n",
       "</table>\n",
       "</div>"
      ],
      "text/plain": [
       "  vendor_id     pickup_datetime    dropoff_datetime  passenger_count  \\\n",
       "0         2 2015-10-19 14:42:59 2015-10-19 14:47:06                2   \n",
       "1         1 2015-11-24 12:28:25 2015-11-24 12:37:33                1   \n",
       "2         2 2015-11-21 20:21:37 2015-11-21 20:44:19                1   \n",
       "3         1 2015-08-20 15:19:46 2015-08-20 15:23:58                1   \n",
       "4         2 2015-01-08 20:59:40 2015-01-08 21:09:31                1   \n",
       "\n",
       "   trip_distance  pickup_longitude  pickup_latitude  rate_code  \\\n",
       "0           0.65        -73.964737        40.767078        1.0   \n",
       "1           0.60        -73.985336        40.744019        1.0   \n",
       "2           2.65        -73.972588        40.755905        1.0   \n",
       "3           0.60        -73.989464        40.767578        1.0   \n",
       "4           1.74        -73.983673        40.765610        NaN   \n",
       "\n",
       "  store_and_fwd_flag  dropoff_longitude  dropoff_latitude payment_type  \\\n",
       "0                  N         -73.962372         40.773129            2   \n",
       "1                  N         -73.991112         40.748569            1   \n",
       "2                  N         -74.000000         40.730560            2   \n",
       "3                  N         -73.978683         40.765167            2   \n",
       "4                  N         -73.976959         40.785778            2   \n",
       "\n",
       "   fare_amount  extra  mta_tax  tip_amount  tolls_amount  imp_surcharge  \\\n",
       "0          5.0    0.0      0.5        0.00           0.0            0.3   \n",
       "1          7.0    0.0      0.5        1.55           0.0            0.3   \n",
       "2         15.0    0.5      0.5        0.00           0.0            0.3   \n",
       "3          4.5    0.0      0.5        0.00           0.0            0.3   \n",
       "4          9.0    0.5      0.5        0.00           0.0            0.3   \n",
       "\n",
       "   total_amount  \n",
       "0          5.80  \n",
       "1          9.35  \n",
       "2         16.30  \n",
       "3          5.30  \n",
       "4         10.30  "
      ]
     },
     "execution_count": 3,
     "metadata": {},
     "output_type": "execute_result"
    }
   ],
   "source": [
    "dataset_ref = client.dataset('new_york_taxi_trips', project='bigquery-public-data')\n",
    "dataset = client.get_dataset(dataset_ref)\n",
    "table_ref = dataset_ref.table('tlc_yellow_trips_2015')\n",
    "table = client.get_table(table_ref)\n",
    "\n",
    "client.list_rows(table, max_results=5).to_dataframe()"
   ]
  },
  {
   "cell_type": "markdown",
   "metadata": {},
   "source": [
    "Feature engineering for datetime can be done when we load data."
   ]
  },
  {
   "cell_type": "code",
   "execution_count": 4,
   "metadata": {
    "_cell_guid": "79c7e3d0-c299-4dcb-8224-4455121ee9b0",
    "_uuid": "d629ff2d2480ee46fbb7e2d37f6b5fab8052498a"
   },
   "outputs": [
    {
     "name": "stdout",
     "output_type": "stream",
     "text": [
      "CPU times: user 5.1 s, sys: 509 ms, total: 5.61 s\n",
      "Wall time: 37.9 s\n"
     ]
    }
   ],
   "source": [
    "%%time\n",
    "query = '''\n",
    "        WITH base_data AS (\n",
    "          SELECT nyc_taxi.*, gis.* EXCEPT (zip_code_geom)\n",
    "          FROM (\n",
    "            SELECT pickup_longitude, pickup_latitude, pickup_datetime\n",
    "            FROM `bigquery-public-data.new_york_taxi_trips.tlc_yellow_trips_2015`\n",
    "            WHERE EXTRACT(MONTH FROM pickup_datetime) = 1\n",
    "            AND pickup_latitude  <= 90 AND pickup_latitude >= -90\n",
    "            ) AS nyc_taxi\n",
    "          JOIN (\n",
    "            SELECT zip_code, zip_code_geom\n",
    "            FROM `bigquery-public-data.geo_us_boundaries.zip_codes`\n",
    "            WHERE state_code='NY'\n",
    "            ) AS gis\n",
    "          ON ST_CONTAINS(zip_code_geom, st_geogpoint(pickup_longitude, pickup_latitude))\n",
    "        )\n",
    "        SELECT\n",
    "            zip_code,\n",
    "            DATETIME_TRUNC(pickup_datetime, hour) as pickup_hour,\n",
    "            EXTRACT(DAY FROM pickup_datetime) AS day,\n",
    "            CAST(FORMAT_DATETIME('%u', pickup_datetime) AS INT64) - 1 AS dow,\n",
    "            EXTRACT(HOUR FROM pickup_datetime) AS hour,\n",
    "            CASE WHEN CAST(FORMAT_DATETIME('%u',pickup_datetime) AS INT64) IN (6,7) THEN 1 ELSE 0 END AS is_weekend,\n",
    "            COUNT(1) AS cnt\n",
    "        FROM base_data\n",
    "        GROUP BY zip_code, pickup_hour, day, dow, hour, is_weekend\n",
    "        ORDER BY pickup_hour\n",
    "        '''\n",
    "\n",
    "\n",
    "safe_config = bigquery.QueryJobConfig(maximum_bytes_billed = 10**10)\n",
    "query_job = client.query(query, job_config=safe_config)\n",
    "df = query_job.to_dataframe()"
   ]
  },
  {
   "cell_type": "code",
   "execution_count": 5,
   "metadata": {},
   "outputs": [
    {
     "data": {
      "text/html": [
       "<div>\n",
       "<style scoped>\n",
       "    .dataframe tbody tr th:only-of-type {\n",
       "        vertical-align: middle;\n",
       "    }\n",
       "\n",
       "    .dataframe tbody tr th {\n",
       "        vertical-align: top;\n",
       "    }\n",
       "\n",
       "    .dataframe thead th {\n",
       "        text-align: right;\n",
       "    }\n",
       "</style>\n",
       "<table border=\"1\" class=\"dataframe\">\n",
       "  <thead>\n",
       "    <tr style=\"text-align: right;\">\n",
       "      <th></th>\n",
       "      <th>zip_code</th>\n",
       "      <th>pickup_hour</th>\n",
       "      <th>day</th>\n",
       "      <th>dow</th>\n",
       "      <th>hour</th>\n",
       "      <th>is_weekend</th>\n",
       "      <th>cnt</th>\n",
       "    </tr>\n",
       "  </thead>\n",
       "  <tbody>\n",
       "    <tr>\n",
       "      <th>0</th>\n",
       "      <td>10003</td>\n",
       "      <td>2015-01-01</td>\n",
       "      <td>1</td>\n",
       "      <td>3</td>\n",
       "      <td>0</td>\n",
       "      <td>0</td>\n",
       "      <td>1809</td>\n",
       "    </tr>\n",
       "    <tr>\n",
       "      <th>1</th>\n",
       "      <td>10025</td>\n",
       "      <td>2015-01-01</td>\n",
       "      <td>1</td>\n",
       "      <td>3</td>\n",
       "      <td>0</td>\n",
       "      <td>0</td>\n",
       "      <td>784</td>\n",
       "    </tr>\n",
       "    <tr>\n",
       "      <th>2</th>\n",
       "      <td>10028</td>\n",
       "      <td>2015-01-01</td>\n",
       "      <td>1</td>\n",
       "      <td>3</td>\n",
       "      <td>0</td>\n",
       "      <td>0</td>\n",
       "      <td>835</td>\n",
       "    </tr>\n",
       "    <tr>\n",
       "      <th>3</th>\n",
       "      <td>10075</td>\n",
       "      <td>2015-01-01</td>\n",
       "      <td>1</td>\n",
       "      <td>3</td>\n",
       "      <td>0</td>\n",
       "      <td>0</td>\n",
       "      <td>444</td>\n",
       "    </tr>\n",
       "    <tr>\n",
       "      <th>4</th>\n",
       "      <td>10032</td>\n",
       "      <td>2015-01-01</td>\n",
       "      <td>1</td>\n",
       "      <td>3</td>\n",
       "      <td>0</td>\n",
       "      <td>0</td>\n",
       "      <td>64</td>\n",
       "    </tr>\n",
       "  </tbody>\n",
       "</table>\n",
       "</div>"
      ],
      "text/plain": [
       "  zip_code pickup_hour  day  dow  hour  is_weekend   cnt\n",
       "0    10003  2015-01-01    1    3     0           0  1809\n",
       "1    10025  2015-01-01    1    3     0           0   784\n",
       "2    10028  2015-01-01    1    3     0           0   835\n",
       "3    10075  2015-01-01    1    3     0           0   444\n",
       "4    10032  2015-01-01    1    3     0           0    64"
      ]
     },
     "execution_count": 5,
     "metadata": {},
     "output_type": "execute_result"
    }
   ],
   "source": [
    "df.head()"
   ]
  },
  {
   "cell_type": "code",
   "execution_count": 6,
   "metadata": {},
   "outputs": [
    {
     "name": "stdout",
     "output_type": "stream",
     "text": [
      "<class 'pandas.core.frame.DataFrame'>\n",
      "RangeIndex: 87020 entries, 0 to 87019\n",
      "Data columns (total 7 columns):\n",
      " #   Column       Non-Null Count  Dtype         \n",
      "---  ------       --------------  -----         \n",
      " 0   zip_code     87020 non-null  object        \n",
      " 1   pickup_hour  87020 non-null  datetime64[ns]\n",
      " 2   day          87020 non-null  int64         \n",
      " 3   dow          87020 non-null  int64         \n",
      " 4   hour         87020 non-null  int64         \n",
      " 5   is_weekend   87020 non-null  int64         \n",
      " 6   cnt          87020 non-null  int64         \n",
      "dtypes: datetime64[ns](1), int64(5), object(1)\n",
      "memory usage: 4.6+ MB\n"
     ]
    }
   ],
   "source": [
    "df.info()"
   ]
  },
  {
   "cell_type": "code",
   "execution_count": 7,
   "metadata": {},
   "outputs": [
    {
     "data": {
      "text/html": [
       "<div>\n",
       "<style scoped>\n",
       "    .dataframe tbody tr th:only-of-type {\n",
       "        vertical-align: middle;\n",
       "    }\n",
       "\n",
       "    .dataframe tbody tr th {\n",
       "        vertical-align: top;\n",
       "    }\n",
       "\n",
       "    .dataframe thead th {\n",
       "        text-align: right;\n",
       "    }\n",
       "</style>\n",
       "<table border=\"1\" class=\"dataframe\">\n",
       "  <thead>\n",
       "    <tr style=\"text-align: right;\">\n",
       "      <th></th>\n",
       "      <th>day</th>\n",
       "      <th>dow</th>\n",
       "      <th>hour</th>\n",
       "      <th>is_weekend</th>\n",
       "      <th>cnt</th>\n",
       "    </tr>\n",
       "  </thead>\n",
       "  <tbody>\n",
       "    <tr>\n",
       "      <th>count</th>\n",
       "      <td>87020.000000</td>\n",
       "      <td>87020.000000</td>\n",
       "      <td>87020.000000</td>\n",
       "      <td>87020.000000</td>\n",
       "      <td>87020.000000</td>\n",
       "    </tr>\n",
       "    <tr>\n",
       "      <th>mean</th>\n",
       "      <td>15.871685</td>\n",
       "      <td>3.169593</td>\n",
       "      <td>11.580648</td>\n",
       "      <td>0.303838</td>\n",
       "      <td>141.603080</td>\n",
       "    </tr>\n",
       "    <tr>\n",
       "      <th>std</th>\n",
       "      <td>8.951484</td>\n",
       "      <td>1.936788</td>\n",
       "      <td>6.973099</td>\n",
       "      <td>0.459916</td>\n",
       "      <td>306.902683</td>\n",
       "    </tr>\n",
       "    <tr>\n",
       "      <th>min</th>\n",
       "      <td>1.000000</td>\n",
       "      <td>0.000000</td>\n",
       "      <td>0.000000</td>\n",
       "      <td>0.000000</td>\n",
       "      <td>1.000000</td>\n",
       "    </tr>\n",
       "    <tr>\n",
       "      <th>25%</th>\n",
       "      <td>8.000000</td>\n",
       "      <td>2.000000</td>\n",
       "      <td>6.000000</td>\n",
       "      <td>0.000000</td>\n",
       "      <td>2.000000</td>\n",
       "    </tr>\n",
       "    <tr>\n",
       "      <th>50%</th>\n",
       "      <td>16.000000</td>\n",
       "      <td>3.000000</td>\n",
       "      <td>12.000000</td>\n",
       "      <td>0.000000</td>\n",
       "      <td>12.000000</td>\n",
       "    </tr>\n",
       "    <tr>\n",
       "      <th>75%</th>\n",
       "      <td>24.000000</td>\n",
       "      <td>5.000000</td>\n",
       "      <td>18.000000</td>\n",
       "      <td>1.000000</td>\n",
       "      <td>80.000000</td>\n",
       "    </tr>\n",
       "    <tr>\n",
       "      <th>max</th>\n",
       "      <td>31.000000</td>\n",
       "      <td>6.000000</td>\n",
       "      <td>23.000000</td>\n",
       "      <td>1.000000</td>\n",
       "      <td>2657.000000</td>\n",
       "    </tr>\n",
       "  </tbody>\n",
       "</table>\n",
       "</div>"
      ],
      "text/plain": [
       "                day           dow          hour    is_weekend           cnt\n",
       "count  87020.000000  87020.000000  87020.000000  87020.000000  87020.000000\n",
       "mean      15.871685      3.169593     11.580648      0.303838    141.603080\n",
       "std        8.951484      1.936788      6.973099      0.459916    306.902683\n",
       "min        1.000000      0.000000      0.000000      0.000000      1.000000\n",
       "25%        8.000000      2.000000      6.000000      0.000000      2.000000\n",
       "50%       16.000000      3.000000     12.000000      0.000000     12.000000\n",
       "75%       24.000000      5.000000     18.000000      1.000000     80.000000\n",
       "max       31.000000      6.000000     23.000000      1.000000   2657.000000"
      ]
     },
     "execution_count": 7,
     "metadata": {},
     "output_type": "execute_result"
    }
   ],
   "source": [
    "df.describe()"
   ]
  },
  {
   "cell_type": "markdown",
   "metadata": {},
   "source": [
    "### One Hot Encoding\n",
    "Since we will first train a linear model, we will process one hot encoder to process zipcode."
   ]
  },
  {
   "cell_type": "code",
   "execution_count": 8,
   "metadata": {},
   "outputs": [
    {
     "data": {
      "text/html": [
       "<div>\n",
       "<style scoped>\n",
       "    .dataframe tbody tr th:only-of-type {\n",
       "        vertical-align: middle;\n",
       "    }\n",
       "\n",
       "    .dataframe tbody tr th {\n",
       "        vertical-align: top;\n",
       "    }\n",
       "\n",
       "    .dataframe thead th {\n",
       "        text-align: right;\n",
       "    }\n",
       "</style>\n",
       "<table border=\"1\" class=\"dataframe\">\n",
       "  <thead>\n",
       "    <tr style=\"text-align: right;\">\n",
       "      <th></th>\n",
       "      <th>zip_code</th>\n",
       "      <th>pickup_hour</th>\n",
       "      <th>day</th>\n",
       "      <th>dow</th>\n",
       "      <th>hour</th>\n",
       "      <th>is_weekend</th>\n",
       "      <th>cnt</th>\n",
       "      <th>zip_code_10001</th>\n",
       "      <th>zip_code_10002</th>\n",
       "      <th>zip_code_10003</th>\n",
       "      <th>...</th>\n",
       "      <th>zip_code_12601</th>\n",
       "      <th>zip_code_12729</th>\n",
       "      <th>zip_code_12771</th>\n",
       "      <th>zip_code_13029</th>\n",
       "      <th>zip_code_13118</th>\n",
       "      <th>zip_code_13656</th>\n",
       "      <th>zip_code_13691</th>\n",
       "      <th>zip_code_14072</th>\n",
       "      <th>zip_code_14527</th>\n",
       "      <th>zip_code_14801</th>\n",
       "    </tr>\n",
       "  </thead>\n",
       "  <tbody>\n",
       "    <tr>\n",
       "      <th>0</th>\n",
       "      <td>10003</td>\n",
       "      <td>2015-01-01</td>\n",
       "      <td>1</td>\n",
       "      <td>3</td>\n",
       "      <td>0</td>\n",
       "      <td>0</td>\n",
       "      <td>1809</td>\n",
       "      <td>0.0</td>\n",
       "      <td>0.0</td>\n",
       "      <td>1.0</td>\n",
       "      <td>...</td>\n",
       "      <td>0.0</td>\n",
       "      <td>0.0</td>\n",
       "      <td>0.0</td>\n",
       "      <td>0.0</td>\n",
       "      <td>0.0</td>\n",
       "      <td>0.0</td>\n",
       "      <td>0.0</td>\n",
       "      <td>0.0</td>\n",
       "      <td>0.0</td>\n",
       "      <td>0.0</td>\n",
       "    </tr>\n",
       "    <tr>\n",
       "      <th>1</th>\n",
       "      <td>10025</td>\n",
       "      <td>2015-01-01</td>\n",
       "      <td>1</td>\n",
       "      <td>3</td>\n",
       "      <td>0</td>\n",
       "      <td>0</td>\n",
       "      <td>784</td>\n",
       "      <td>0.0</td>\n",
       "      <td>0.0</td>\n",
       "      <td>0.0</td>\n",
       "      <td>...</td>\n",
       "      <td>0.0</td>\n",
       "      <td>0.0</td>\n",
       "      <td>0.0</td>\n",
       "      <td>0.0</td>\n",
       "      <td>0.0</td>\n",
       "      <td>0.0</td>\n",
       "      <td>0.0</td>\n",
       "      <td>0.0</td>\n",
       "      <td>0.0</td>\n",
       "      <td>0.0</td>\n",
       "    </tr>\n",
       "    <tr>\n",
       "      <th>2</th>\n",
       "      <td>10028</td>\n",
       "      <td>2015-01-01</td>\n",
       "      <td>1</td>\n",
       "      <td>3</td>\n",
       "      <td>0</td>\n",
       "      <td>0</td>\n",
       "      <td>835</td>\n",
       "      <td>0.0</td>\n",
       "      <td>0.0</td>\n",
       "      <td>0.0</td>\n",
       "      <td>...</td>\n",
       "      <td>0.0</td>\n",
       "      <td>0.0</td>\n",
       "      <td>0.0</td>\n",
       "      <td>0.0</td>\n",
       "      <td>0.0</td>\n",
       "      <td>0.0</td>\n",
       "      <td>0.0</td>\n",
       "      <td>0.0</td>\n",
       "      <td>0.0</td>\n",
       "      <td>0.0</td>\n",
       "    </tr>\n",
       "    <tr>\n",
       "      <th>3</th>\n",
       "      <td>10075</td>\n",
       "      <td>2015-01-01</td>\n",
       "      <td>1</td>\n",
       "      <td>3</td>\n",
       "      <td>0</td>\n",
       "      <td>0</td>\n",
       "      <td>444</td>\n",
       "      <td>0.0</td>\n",
       "      <td>0.0</td>\n",
       "      <td>0.0</td>\n",
       "      <td>...</td>\n",
       "      <td>0.0</td>\n",
       "      <td>0.0</td>\n",
       "      <td>0.0</td>\n",
       "      <td>0.0</td>\n",
       "      <td>0.0</td>\n",
       "      <td>0.0</td>\n",
       "      <td>0.0</td>\n",
       "      <td>0.0</td>\n",
       "      <td>0.0</td>\n",
       "      <td>0.0</td>\n",
       "    </tr>\n",
       "    <tr>\n",
       "      <th>4</th>\n",
       "      <td>10032</td>\n",
       "      <td>2015-01-01</td>\n",
       "      <td>1</td>\n",
       "      <td>3</td>\n",
       "      <td>0</td>\n",
       "      <td>0</td>\n",
       "      <td>64</td>\n",
       "      <td>0.0</td>\n",
       "      <td>0.0</td>\n",
       "      <td>0.0</td>\n",
       "      <td>...</td>\n",
       "      <td>0.0</td>\n",
       "      <td>0.0</td>\n",
       "      <td>0.0</td>\n",
       "      <td>0.0</td>\n",
       "      <td>0.0</td>\n",
       "      <td>0.0</td>\n",
       "      <td>0.0</td>\n",
       "      <td>0.0</td>\n",
       "      <td>0.0</td>\n",
       "      <td>0.0</td>\n",
       "    </tr>\n",
       "  </tbody>\n",
       "</table>\n",
       "<p>5 rows × 381 columns</p>\n",
       "</div>"
      ],
      "text/plain": [
       "  zip_code pickup_hour  day  dow  hour  is_weekend   cnt  zip_code_10001  \\\n",
       "0    10003  2015-01-01    1    3     0           0  1809             0.0   \n",
       "1    10025  2015-01-01    1    3     0           0   784             0.0   \n",
       "2    10028  2015-01-01    1    3     0           0   835             0.0   \n",
       "3    10075  2015-01-01    1    3     0           0   444             0.0   \n",
       "4    10032  2015-01-01    1    3     0           0    64             0.0   \n",
       "\n",
       "   zip_code_10002  zip_code_10003  ...  zip_code_12601  zip_code_12729  \\\n",
       "0             0.0             1.0  ...             0.0             0.0   \n",
       "1             0.0             0.0  ...             0.0             0.0   \n",
       "2             0.0             0.0  ...             0.0             0.0   \n",
       "3             0.0             0.0  ...             0.0             0.0   \n",
       "4             0.0             0.0  ...             0.0             0.0   \n",
       "\n",
       "   zip_code_12771  zip_code_13029  zip_code_13118  zip_code_13656  \\\n",
       "0             0.0             0.0             0.0             0.0   \n",
       "1             0.0             0.0             0.0             0.0   \n",
       "2             0.0             0.0             0.0             0.0   \n",
       "3             0.0             0.0             0.0             0.0   \n",
       "4             0.0             0.0             0.0             0.0   \n",
       "\n",
       "   zip_code_13691  zip_code_14072  zip_code_14527  zip_code_14801  \n",
       "0             0.0             0.0             0.0             0.0  \n",
       "1             0.0             0.0             0.0             0.0  \n",
       "2             0.0             0.0             0.0             0.0  \n",
       "3             0.0             0.0             0.0             0.0  \n",
       "4             0.0             0.0             0.0             0.0  \n",
       "\n",
       "[5 rows x 381 columns]"
      ]
     },
     "execution_count": 8,
     "metadata": {},
     "output_type": "execute_result"
    }
   ],
   "source": [
    "from sklearn.preprocessing import OneHotEncoder\n",
    "enc = OneHotEncoder(handle_unknown='ignore')\n",
    "onehot_output = enc.fit_transform(df[['zip_code']]).toarray()\n",
    "onehot_df = pd.concat([df, pd.DataFrame(onehot_output, columns='zip_code_' + enc.categories_[0])], axis=1)\n",
    "onehot_df.head()"
   ]
  },
  {
   "cell_type": "markdown",
   "metadata": {},
   "source": [
    "### Target Variable Distribution"
   ]
  },
  {
   "cell_type": "code",
   "execution_count": 9,
   "metadata": {},
   "outputs": [
    {
     "data": {
      "image/png": "[encoded data removed]",
      "text/plain": [
       "<Figure size 1440x720 with 1 Axes>"
      ]
     },
     "metadata": {
      "needs_background": "light"
     },
     "output_type": "display_data"
    }
   ],
   "source": [
    "plt.figure(figsize=(20,10))\n",
    "sns.distplot(onehot_df['cnt'])\n",
    "plt.title('Target Variable Distribution');"
   ]
  },
  {
   "cell_type": "code",
   "execution_count": 10,
   "metadata": {},
   "outputs": [],
   "source": [
    "onehot_df['log_cnt'] = np.log(onehot_df['cnt'])"
   ]
  },
  {
   "cell_type": "code",
   "execution_count": 11,
   "metadata": {},
   "outputs": [
    {
     "data": {
      "image/png": "[encoded data removed]",
      "text/plain": [
       "<Figure size 1440x720 with 1 Axes>"
      ]
     },
     "metadata": {
      "needs_background": "light"
     },
     "output_type": "display_data"
    }
   ],
   "source": [
    "plt.figure(figsize=(20,10))\n",
    "sns.distplot(onehot_df['log_cnt'])\n",
    "plt.title('Target Variable Distribution (Log)');"
   ]
  },
  {
   "cell_type": "markdown",
   "metadata": {},
   "source": [
    "### Train/Test Split\n",
    "Since our data is time series data, we sill pick a specific date and assume prediction is made on that date. Data prior to the date will be train data and data after the date will be test data."
   ]
  },
  {
   "cell_type": "code",
   "execution_count": 12,
   "metadata": {},
   "outputs": [],
   "source": [
    "def train_test_split(df, date):\n",
    "    '''\n",
    "    Split dataframe into train set and test set\n",
    "    \n",
    "    df: time series df\n",
    "    date: date at which prediction is made\n",
    "    '''\n",
    "    train_df = df[df['pickup_hour'] < date]\n",
    "    test_df = df[df['pickup_hour'] >= date]\n",
    "    return train_df, test_df"
   ]
  },
  {
   "cell_type": "code",
   "execution_count": 13,
   "metadata": {},
   "outputs": [],
   "source": [
    "train_df, test_df = train_test_split(onehot_df, '2015-1-24')"
   ]
  },
  {
   "cell_type": "markdown",
   "metadata": {},
   "source": [
    "Remove unused columns."
   ]
  },
  {
   "cell_type": "code",
   "execution_count": 14,
   "metadata": {},
   "outputs": [],
   "source": [
    "train_df.drop(['pickup_hour', 'zip_code'], axis=1, inplace=True)\n",
    "test_df.drop(['pickup_hour', 'zip_code'], axis=1, inplace=True)"
   ]
  },
  {
   "cell_type": "code",
   "execution_count": 15,
   "metadata": {},
   "outputs": [
    {
     "data": {
      "text/html": [
       "<div>\n",
       "<style scoped>\n",
       "    .dataframe tbody tr th:only-of-type {\n",
       "        vertical-align: middle;\n",
       "    }\n",
       "\n",
       "    .dataframe tbody tr th {\n",
       "        vertical-align: top;\n",
       "    }\n",
       "\n",
       "    .dataframe thead th {\n",
       "        text-align: right;\n",
       "    }\n",
       "</style>\n",
       "<table border=\"1\" class=\"dataframe\">\n",
       "  <thead>\n",
       "    <tr style=\"text-align: right;\">\n",
       "      <th></th>\n",
       "      <th>day</th>\n",
       "      <th>dow</th>\n",
       "      <th>hour</th>\n",
       "      <th>is_weekend</th>\n",
       "      <th>cnt</th>\n",
       "      <th>zip_code_10001</th>\n",
       "      <th>zip_code_10002</th>\n",
       "      <th>zip_code_10003</th>\n",
       "      <th>zip_code_10004</th>\n",
       "      <th>zip_code_10005</th>\n",
       "      <th>...</th>\n",
       "      <th>zip_code_12729</th>\n",
       "      <th>zip_code_12771</th>\n",
       "      <th>zip_code_13029</th>\n",
       "      <th>zip_code_13118</th>\n",
       "      <th>zip_code_13656</th>\n",
       "      <th>zip_code_13691</th>\n",
       "      <th>zip_code_14072</th>\n",
       "      <th>zip_code_14527</th>\n",
       "      <th>zip_code_14801</th>\n",
       "      <th>log_cnt</th>\n",
       "    </tr>\n",
       "  </thead>\n",
       "  <tbody>\n",
       "    <tr>\n",
       "      <th>0</th>\n",
       "      <td>1</td>\n",
       "      <td>3</td>\n",
       "      <td>0</td>\n",
       "      <td>0</td>\n",
       "      <td>1809</td>\n",
       "      <td>0.0</td>\n",
       "      <td>0.0</td>\n",
       "      <td>1.0</td>\n",
       "      <td>0.0</td>\n",
       "      <td>0.0</td>\n",
       "      <td>...</td>\n",
       "      <td>0.0</td>\n",
       "      <td>0.0</td>\n",
       "      <td>0.0</td>\n",
       "      <td>0.0</td>\n",
       "      <td>0.0</td>\n",
       "      <td>0.0</td>\n",
       "      <td>0.0</td>\n",
       "      <td>0.0</td>\n",
       "      <td>0.0</td>\n",
       "      <td>7.500529</td>\n",
       "    </tr>\n",
       "    <tr>\n",
       "      <th>1</th>\n",
       "      <td>1</td>\n",
       "      <td>3</td>\n",
       "      <td>0</td>\n",
       "      <td>0</td>\n",
       "      <td>784</td>\n",
       "      <td>0.0</td>\n",
       "      <td>0.0</td>\n",
       "      <td>0.0</td>\n",
       "      <td>0.0</td>\n",
       "      <td>0.0</td>\n",
       "      <td>...</td>\n",
       "      <td>0.0</td>\n",
       "      <td>0.0</td>\n",
       "      <td>0.0</td>\n",
       "      <td>0.0</td>\n",
       "      <td>0.0</td>\n",
       "      <td>0.0</td>\n",
       "      <td>0.0</td>\n",
       "      <td>0.0</td>\n",
       "      <td>0.0</td>\n",
       "      <td>6.664409</td>\n",
       "    </tr>\n",
       "    <tr>\n",
       "      <th>2</th>\n",
       "      <td>1</td>\n",
       "      <td>3</td>\n",
       "      <td>0</td>\n",
       "      <td>0</td>\n",
       "      <td>835</td>\n",
       "      <td>0.0</td>\n",
       "      <td>0.0</td>\n",
       "      <td>0.0</td>\n",
       "      <td>0.0</td>\n",
       "      <td>0.0</td>\n",
       "      <td>...</td>\n",
       "      <td>0.0</td>\n",
       "      <td>0.0</td>\n",
       "      <td>0.0</td>\n",
       "      <td>0.0</td>\n",
       "      <td>0.0</td>\n",
       "      <td>0.0</td>\n",
       "      <td>0.0</td>\n",
       "      <td>0.0</td>\n",
       "      <td>0.0</td>\n",
       "      <td>6.727432</td>\n",
       "    </tr>\n",
       "    <tr>\n",
       "      <th>3</th>\n",
       "      <td>1</td>\n",
       "      <td>3</td>\n",
       "      <td>0</td>\n",
       "      <td>0</td>\n",
       "      <td>444</td>\n",
       "      <td>0.0</td>\n",
       "      <td>0.0</td>\n",
       "      <td>0.0</td>\n",
       "      <td>0.0</td>\n",
       "      <td>0.0</td>\n",
       "      <td>...</td>\n",
       "      <td>0.0</td>\n",
       "      <td>0.0</td>\n",
       "      <td>0.0</td>\n",
       "      <td>0.0</td>\n",
       "      <td>0.0</td>\n",
       "      <td>0.0</td>\n",
       "      <td>0.0</td>\n",
       "      <td>0.0</td>\n",
       "      <td>0.0</td>\n",
       "      <td>6.095825</td>\n",
       "    </tr>\n",
       "    <tr>\n",
       "      <th>4</th>\n",
       "      <td>1</td>\n",
       "      <td>3</td>\n",
       "      <td>0</td>\n",
       "      <td>0</td>\n",
       "      <td>64</td>\n",
       "      <td>0.0</td>\n",
       "      <td>0.0</td>\n",
       "      <td>0.0</td>\n",
       "      <td>0.0</td>\n",
       "      <td>0.0</td>\n",
       "      <td>...</td>\n",
       "      <td>0.0</td>\n",
       "      <td>0.0</td>\n",
       "      <td>0.0</td>\n",
       "      <td>0.0</td>\n",
       "      <td>0.0</td>\n",
       "      <td>0.0</td>\n",
       "      <td>0.0</td>\n",
       "      <td>0.0</td>\n",
       "      <td>0.0</td>\n",
       "      <td>4.158883</td>\n",
       "    </tr>\n",
       "  </tbody>\n",
       "</table>\n",
       "<p>5 rows × 380 columns</p>\n",
       "</div>"
      ],
      "text/plain": [
       "   day  dow  hour  is_weekend   cnt  zip_code_10001  zip_code_10002  \\\n",
       "0    1    3     0           0  1809             0.0             0.0   \n",
       "1    1    3     0           0   784             0.0             0.0   \n",
       "2    1    3     0           0   835             0.0             0.0   \n",
       "3    1    3     0           0   444             0.0             0.0   \n",
       "4    1    3     0           0    64             0.0             0.0   \n",
       "\n",
       "   zip_code_10003  zip_code_10004  zip_code_10005  ...  zip_code_12729  \\\n",
       "0             1.0             0.0             0.0  ...             0.0   \n",
       "1             0.0             0.0             0.0  ...             0.0   \n",
       "2             0.0             0.0             0.0  ...             0.0   \n",
       "3             0.0             0.0             0.0  ...             0.0   \n",
       "4             0.0             0.0             0.0  ...             0.0   \n",
       "\n",
       "   zip_code_12771  zip_code_13029  zip_code_13118  zip_code_13656  \\\n",
       "0             0.0             0.0             0.0             0.0   \n",
       "1             0.0             0.0             0.0             0.0   \n",
       "2             0.0             0.0             0.0             0.0   \n",
       "3             0.0             0.0             0.0             0.0   \n",
       "4             0.0             0.0             0.0             0.0   \n",
       "\n",
       "   zip_code_13691  zip_code_14072  zip_code_14527  zip_code_14801   log_cnt  \n",
       "0             0.0             0.0             0.0             0.0  7.500529  \n",
       "1             0.0             0.0             0.0             0.0  6.664409  \n",
       "2             0.0             0.0             0.0             0.0  6.727432  \n",
       "3             0.0             0.0             0.0             0.0  6.095825  \n",
       "4             0.0             0.0             0.0             0.0  4.158883  \n",
       "\n",
       "[5 rows x 380 columns]"
      ]
     },
     "execution_count": 15,
     "metadata": {},
     "output_type": "execute_result"
    }
   ],
   "source": [
    "train_df.head()"
   ]
  },
  {
   "cell_type": "code",
   "execution_count": 16,
   "metadata": {},
   "outputs": [
    {
     "data": {
      "text/html": [
       "<div>\n",
       "<style scoped>\n",
       "    .dataframe tbody tr th:only-of-type {\n",
       "        vertical-align: middle;\n",
       "    }\n",
       "\n",
       "    .dataframe tbody tr th {\n",
       "        vertical-align: top;\n",
       "    }\n",
       "\n",
       "    .dataframe thead th {\n",
       "        text-align: right;\n",
       "    }\n",
       "</style>\n",
       "<table border=\"1\" class=\"dataframe\">\n",
       "  <thead>\n",
       "    <tr style=\"text-align: right;\">\n",
       "      <th></th>\n",
       "      <th>day</th>\n",
       "      <th>dow</th>\n",
       "      <th>hour</th>\n",
       "      <th>is_weekend</th>\n",
       "      <th>cnt</th>\n",
       "      <th>zip_code_10001</th>\n",
       "      <th>zip_code_10002</th>\n",
       "      <th>zip_code_10003</th>\n",
       "      <th>zip_code_10004</th>\n",
       "      <th>zip_code_10005</th>\n",
       "      <th>...</th>\n",
       "      <th>zip_code_12729</th>\n",
       "      <th>zip_code_12771</th>\n",
       "      <th>zip_code_13029</th>\n",
       "      <th>zip_code_13118</th>\n",
       "      <th>zip_code_13656</th>\n",
       "      <th>zip_code_13691</th>\n",
       "      <th>zip_code_14072</th>\n",
       "      <th>zip_code_14527</th>\n",
       "      <th>zip_code_14801</th>\n",
       "      <th>log_cnt</th>\n",
       "    </tr>\n",
       "  </thead>\n",
       "  <tbody>\n",
       "    <tr>\n",
       "      <th>65118</th>\n",
       "      <td>24</td>\n",
       "      <td>5</td>\n",
       "      <td>0</td>\n",
       "      <td>1</td>\n",
       "      <td>41</td>\n",
       "      <td>0.0</td>\n",
       "      <td>0.0</td>\n",
       "      <td>0.0</td>\n",
       "      <td>0.0</td>\n",
       "      <td>0.0</td>\n",
       "      <td>...</td>\n",
       "      <td>0.0</td>\n",
       "      <td>0.0</td>\n",
       "      <td>0.0</td>\n",
       "      <td>0.0</td>\n",
       "      <td>0.0</td>\n",
       "      <td>0.0</td>\n",
       "      <td>0.0</td>\n",
       "      <td>0.0</td>\n",
       "      <td>0.0</td>\n",
       "      <td>3.713572</td>\n",
       "    </tr>\n",
       "    <tr>\n",
       "      <th>65119</th>\n",
       "      <td>24</td>\n",
       "      <td>5</td>\n",
       "      <td>0</td>\n",
       "      <td>1</td>\n",
       "      <td>36</td>\n",
       "      <td>0.0</td>\n",
       "      <td>0.0</td>\n",
       "      <td>0.0</td>\n",
       "      <td>0.0</td>\n",
       "      <td>0.0</td>\n",
       "      <td>...</td>\n",
       "      <td>0.0</td>\n",
       "      <td>0.0</td>\n",
       "      <td>0.0</td>\n",
       "      <td>0.0</td>\n",
       "      <td>0.0</td>\n",
       "      <td>0.0</td>\n",
       "      <td>0.0</td>\n",
       "      <td>0.0</td>\n",
       "      <td>0.0</td>\n",
       "      <td>3.583519</td>\n",
       "    </tr>\n",
       "    <tr>\n",
       "      <th>65120</th>\n",
       "      <td>24</td>\n",
       "      <td>5</td>\n",
       "      <td>0</td>\n",
       "      <td>1</td>\n",
       "      <td>2315</td>\n",
       "      <td>0.0</td>\n",
       "      <td>0.0</td>\n",
       "      <td>1.0</td>\n",
       "      <td>0.0</td>\n",
       "      <td>0.0</td>\n",
       "      <td>...</td>\n",
       "      <td>0.0</td>\n",
       "      <td>0.0</td>\n",
       "      <td>0.0</td>\n",
       "      <td>0.0</td>\n",
       "      <td>0.0</td>\n",
       "      <td>0.0</td>\n",
       "      <td>0.0</td>\n",
       "      <td>0.0</td>\n",
       "      <td>0.0</td>\n",
       "      <td>7.747165</td>\n",
       "    </tr>\n",
       "    <tr>\n",
       "      <th>65121</th>\n",
       "      <td>24</td>\n",
       "      <td>5</td>\n",
       "      <td>0</td>\n",
       "      <td>1</td>\n",
       "      <td>516</td>\n",
       "      <td>0.0</td>\n",
       "      <td>0.0</td>\n",
       "      <td>0.0</td>\n",
       "      <td>0.0</td>\n",
       "      <td>0.0</td>\n",
       "      <td>...</td>\n",
       "      <td>0.0</td>\n",
       "      <td>0.0</td>\n",
       "      <td>0.0</td>\n",
       "      <td>0.0</td>\n",
       "      <td>0.0</td>\n",
       "      <td>0.0</td>\n",
       "      <td>0.0</td>\n",
       "      <td>0.0</td>\n",
       "      <td>0.0</td>\n",
       "      <td>6.246107</td>\n",
       "    </tr>\n",
       "    <tr>\n",
       "      <th>65122</th>\n",
       "      <td>24</td>\n",
       "      <td>5</td>\n",
       "      <td>0</td>\n",
       "      <td>1</td>\n",
       "      <td>83</td>\n",
       "      <td>0.0</td>\n",
       "      <td>0.0</td>\n",
       "      <td>0.0</td>\n",
       "      <td>0.0</td>\n",
       "      <td>0.0</td>\n",
       "      <td>...</td>\n",
       "      <td>0.0</td>\n",
       "      <td>0.0</td>\n",
       "      <td>0.0</td>\n",
       "      <td>0.0</td>\n",
       "      <td>0.0</td>\n",
       "      <td>0.0</td>\n",
       "      <td>0.0</td>\n",
       "      <td>0.0</td>\n",
       "      <td>0.0</td>\n",
       "      <td>4.418841</td>\n",
       "    </tr>\n",
       "  </tbody>\n",
       "</table>\n",
       "<p>5 rows × 380 columns</p>\n",
       "</div>"
      ],
      "text/plain": [
       "       day  dow  hour  is_weekend   cnt  zip_code_10001  zip_code_10002  \\\n",
       "65118   24    5     0           1    41             0.0             0.0   \n",
       "65119   24    5     0           1    36             0.0             0.0   \n",
       "65120   24    5     0           1  2315             0.0             0.0   \n",
       "65121   24    5     0           1   516             0.0             0.0   \n",
       "65122   24    5     0           1    83             0.0             0.0   \n",
       "\n",
       "       zip_code_10003  zip_code_10004  zip_code_10005  ...  zip_code_12729  \\\n",
       "65118             0.0             0.0             0.0  ...             0.0   \n",
       "65119             0.0             0.0             0.0  ...             0.0   \n",
       "65120             1.0             0.0             0.0  ...             0.0   \n",
       "65121             0.0             0.0             0.0  ...             0.0   \n",
       "65122             0.0             0.0             0.0  ...             0.0   \n",
       "\n",
       "       zip_code_12771  zip_code_13029  zip_code_13118  zip_code_13656  \\\n",
       "65118             0.0             0.0             0.0             0.0   \n",
       "65119             0.0             0.0             0.0             0.0   \n",
       "65120             0.0             0.0             0.0             0.0   \n",
       "65121             0.0             0.0             0.0             0.0   \n",
       "65122             0.0             0.0             0.0             0.0   \n",
       "\n",
       "       zip_code_13691  zip_code_14072  zip_code_14527  zip_code_14801  \\\n",
       "65118             0.0             0.0             0.0             0.0   \n",
       "65119             0.0             0.0             0.0             0.0   \n",
       "65120             0.0             0.0             0.0             0.0   \n",
       "65121             0.0             0.0             0.0             0.0   \n",
       "65122             0.0             0.0             0.0             0.0   \n",
       "\n",
       "        log_cnt  \n",
       "65118  3.713572  \n",
       "65119  3.583519  \n",
       "65120  7.747165  \n",
       "65121  6.246107  \n",
       "65122  4.418841  \n",
       "\n",
       "[5 rows x 380 columns]"
      ]
     },
     "execution_count": 16,
     "metadata": {},
     "output_type": "execute_result"
    }
   ],
   "source": [
    "test_df.head()"
   ]
  },
  {
   "cell_type": "code",
   "execution_count": 17,
   "metadata": {},
   "outputs": [],
   "source": [
    "y_train_raw = train_df.pop('cnt')\n",
    "y_test_raw = test_df.pop('cnt')\n",
    "y_train_log = train_df.pop('log_cnt')\n",
    "y_test_log = test_df.pop('log_cnt')\n",
    "X_train = train_df.copy()\n",
    "X_test = test_df.copy()"
   ]
  },
  {
   "cell_type": "markdown",
   "metadata": {},
   "source": [
    "### Simple Linear Regression\n",
    "\n",
    "Define function for evaluation."
   ]
  },
  {
   "cell_type": "code",
   "execution_count": 18,
   "metadata": {},
   "outputs": [],
   "source": [
    "def evaluate(y_true, y_pred):\n",
    "    mae = mean_absolute_error(y_true, y_pred)\n",
    "    mse = mean_squared_error(y_true, y_pred)\n",
    "    return {'mae': mae, 'rmse':np.sqrt(mse)}"
   ]
  },
  {
   "cell_type": "markdown",
   "metadata": {},
   "source": [
    "Fit baseline linear regression model."
   ]
  },
  {
   "cell_type": "code",
   "execution_count": 19,
   "metadata": {},
   "outputs": [],
   "source": [
    "from sklearn.linear_model import LinearRegression\n",
    "lr = LinearRegression()\n",
    "lr.fit(X_train, y_train_log)\n",
    "lr_pred = lr.predict(X_test)"
   ]
  },
  {
   "cell_type": "code",
   "execution_count": 20,
   "metadata": {},
   "outputs": [
    {
     "data": {
      "text/plain": [
       "{'mae': 66.94405290178089, 'rmse': 164.3810176941835}"
      ]
     },
     "execution_count": 20,
     "metadata": {},
     "output_type": "execute_result"
    }
   ],
   "source": [
    "lr_eval = evaluate(y_test_raw, np.exp(lr_pred))\n",
    "lr_eval"
   ]
  },
  {
   "cell_type": "code",
   "execution_count": 21,
   "metadata": {},
   "outputs": [
    {
     "data": {
      "image/png": "[encoded data removed]",
      "text/plain": [
       "<Figure size 1440x720 with 1 Axes>"
      ]
     },
     "metadata": {
      "needs_background": "light"
     },
     "output_type": "display_data"
    }
   ],
   "source": [
    "coef = pd.Series(lr.coef_ , index=X_train.columns)\n",
    "coef_sort = coef.sort_values(ascending=False)[:10]\n",
    "\n",
    "plt.figure(figsize=(20,10))\n",
    "sns.barplot(x=coef_sort.values , y=coef_sort.index)\n",
    "plt.title('Largest Coefficients');"
   ]
  },
  {
   "cell_type": "code",
   "execution_count": 22,
   "metadata": {},
   "outputs": [
    {
     "data": {
      "image/png": "[encoded data removed]",
      "text/plain": [
       "<Figure size 1440x720 with 1 Axes>"
      ]
     },
     "metadata": {
      "needs_background": "light"
     },
     "output_type": "display_data"
    }
   ],
   "source": [
    "plt.figure(figsize=(20,10))\n",
    "sns.barplot(x=coef[['day','dow','hour','is_weekend']] , y=['day','dow','hour','is_weekend'])\n",
    "plt.title('Coefficients for Time Variables');"
   ]
  },
  {
   "cell_type": "markdown",
   "metadata": {},
   "source": [
    "### Label Encoding\n",
    "Since many of the variables are categorical/ordinal, distance based models may not be our best choice. We will use some tree based models. Use label encoder for tree based models."
   ]
  },
  {
   "cell_type": "code",
   "execution_count": 23,
   "metadata": {},
   "outputs": [],
   "source": [
    "from sklearn.preprocessing import LabelEncoder\n",
    "le = LabelEncoder()\n",
    "df['zip_code_label'] = le.fit_transform(df['zip_code'])"
   ]
  },
  {
   "cell_type": "code",
   "execution_count": 24,
   "metadata": {},
   "outputs": [
    {
     "data": {
      "text/html": [
       "<div>\n",
       "<style scoped>\n",
       "    .dataframe tbody tr th:only-of-type {\n",
       "        vertical-align: middle;\n",
       "    }\n",
       "\n",
       "    .dataframe tbody tr th {\n",
       "        vertical-align: top;\n",
       "    }\n",
       "\n",
       "    .dataframe thead th {\n",
       "        text-align: right;\n",
       "    }\n",
       "</style>\n",
       "<table border=\"1\" class=\"dataframe\">\n",
       "  <thead>\n",
       "    <tr style=\"text-align: right;\">\n",
       "      <th></th>\n",
       "      <th>zip_code</th>\n",
       "      <th>pickup_hour</th>\n",
       "      <th>day</th>\n",
       "      <th>dow</th>\n",
       "      <th>hour</th>\n",
       "      <th>is_weekend</th>\n",
       "      <th>cnt</th>\n",
       "      <th>zip_code_label</th>\n",
       "    </tr>\n",
       "  </thead>\n",
       "  <tbody>\n",
       "    <tr>\n",
       "      <th>0</th>\n",
       "      <td>10003</td>\n",
       "      <td>2015-01-01</td>\n",
       "      <td>1</td>\n",
       "      <td>3</td>\n",
       "      <td>0</td>\n",
       "      <td>0</td>\n",
       "      <td>1809</td>\n",
       "      <td>2</td>\n",
       "    </tr>\n",
       "    <tr>\n",
       "      <th>1</th>\n",
       "      <td>10025</td>\n",
       "      <td>2015-01-01</td>\n",
       "      <td>1</td>\n",
       "      <td>3</td>\n",
       "      <td>0</td>\n",
       "      <td>0</td>\n",
       "      <td>784</td>\n",
       "      <td>22</td>\n",
       "    </tr>\n",
       "    <tr>\n",
       "      <th>2</th>\n",
       "      <td>10028</td>\n",
       "      <td>2015-01-01</td>\n",
       "      <td>1</td>\n",
       "      <td>3</td>\n",
       "      <td>0</td>\n",
       "      <td>0</td>\n",
       "      <td>835</td>\n",
       "      <td>25</td>\n",
       "    </tr>\n",
       "    <tr>\n",
       "      <th>3</th>\n",
       "      <td>10075</td>\n",
       "      <td>2015-01-01</td>\n",
       "      <td>1</td>\n",
       "      <td>3</td>\n",
       "      <td>0</td>\n",
       "      <td>0</td>\n",
       "      <td>444</td>\n",
       "      <td>41</td>\n",
       "    </tr>\n",
       "    <tr>\n",
       "      <th>4</th>\n",
       "      <td>10032</td>\n",
       "      <td>2015-01-01</td>\n",
       "      <td>1</td>\n",
       "      <td>3</td>\n",
       "      <td>0</td>\n",
       "      <td>0</td>\n",
       "      <td>64</td>\n",
       "      <td>29</td>\n",
       "    </tr>\n",
       "  </tbody>\n",
       "</table>\n",
       "</div>"
      ],
      "text/plain": [
       "  zip_code pickup_hour  day  dow  hour  is_weekend   cnt  zip_code_label\n",
       "0    10003  2015-01-01    1    3     0           0  1809               2\n",
       "1    10025  2015-01-01    1    3     0           0   784              22\n",
       "2    10028  2015-01-01    1    3     0           0   835              25\n",
       "3    10075  2015-01-01    1    3     0           0   444              41\n",
       "4    10032  2015-01-01    1    3     0           0    64              29"
      ]
     },
     "execution_count": 24,
     "metadata": {},
     "output_type": "execute_result"
    }
   ],
   "source": [
    "df.head()"
   ]
  },
  {
   "cell_type": "code",
   "execution_count": 25,
   "metadata": {},
   "outputs": [],
   "source": [
    "train_df, test_df = train_test_split(df, '2015-01-24')"
   ]
  },
  {
   "cell_type": "code",
   "execution_count": 26,
   "metadata": {},
   "outputs": [],
   "source": [
    "train_df.drop(['zip_code','pickup_hour'], axis=1, inplace=True)\n",
    "test_df.drop(['zip_code','pickup_hour'], axis=1, inplace=True)"
   ]
  },
  {
   "cell_type": "code",
   "execution_count": 27,
   "metadata": {},
   "outputs": [],
   "source": [
    "y_train = train_df.pop('cnt')\n",
    "y_test = test_df.pop('cnt')\n",
    "X_train = train_df.copy()\n",
    "X_test = test_df.copy()"
   ]
  },
  {
   "cell_type": "markdown",
   "metadata": {},
   "source": [
    "### Random Forest"
   ]
  },
  {
   "cell_type": "code",
   "execution_count": 28,
   "metadata": {},
   "outputs": [
    {
     "name": "stdout",
     "output_type": "stream",
     "text": [
      "Fitting 3 folds for each of 36 candidates, totalling 108 fits\n"
     ]
    },
    {
     "name": "stderr",
     "output_type": "stream",
     "text": [
      "[Parallel(n_jobs=-1)]: Using backend LokyBackend with 4 concurrent workers.\n",
      "[Parallel(n_jobs=-1)]: Done  33 tasks      | elapsed:  1.2min\n",
      "[Parallel(n_jobs=-1)]: Done 108 out of 108 | elapsed:  6.8min finished\n"
     ]
    },
    {
     "data": {
      "text/plain": [
       "{'max_depth': None, 'max_features': 'auto', 'n_estimators': 500}"
      ]
     },
     "execution_count": 28,
     "metadata": {},
     "output_type": "execute_result"
    }
   ],
   "source": [
    "from sklearn.ensemble import RandomForestRegressor\n",
    "rf = RandomForestRegressor(n_jobs=-1)\n",
    "param = { \n",
    "    'n_estimators': [100, 200, 500],\n",
    "    'max_features': ['auto', 'sqrt', 'log2'],\n",
    "    'max_depth' : [5, 7, 10, None]\n",
    "}\n",
    "\n",
    "rf_grid = GridSearchCV(estimator=rf, param_grid=param, cv=3, verbose=2, n_jobs=-1)\n",
    "rf_grid.fit(X_train, y_train)\n",
    "rf_grid.best_params_"
   ]
  },
  {
   "cell_type": "code",
   "execution_count": 29,
   "metadata": {},
   "outputs": [],
   "source": [
    "rf = RandomForestRegressor(**rf_grid.best_params_, n_jobs=-1)\n",
    "rf.fit(X_train, y_train)\n",
    "rf_pred = rf.predict(X_test)"
   ]
  },
  {
   "cell_type": "code",
   "execution_count": 30,
   "metadata": {},
   "outputs": [
    {
     "data": {
      "text/plain": [
       "{'mae': 34.669216875171216, 'rmse': 109.61552542910226}"
      ]
     },
     "execution_count": 30,
     "metadata": {},
     "output_type": "execute_result"
    }
   ],
   "source": [
    "rf_eval = evaluate(y_test, rf_pred)\n",
    "rf_eval"
   ]
  },
  {
   "cell_type": "code",
   "execution_count": 31,
   "metadata": {},
   "outputs": [
    {
     "data": {
      "image/png": "[encoded data removed]",
      "text/plain": [
       "<Figure size 1440x720 with 1 Axes>"
      ]
     },
     "metadata": {
      "needs_background": "light"
     },
     "output_type": "display_data"
    }
   ],
   "source": [
    "feat_importances = pd.Series(rf.feature_importances_, index=X_train.columns)\n",
    "plt.figure(figsize=(20,10))\n",
    "feat_importances.nlargest(15).plot(kind='barh')\n",
    "plt.title('Random Forest Feature Importance');"
   ]
  },
  {
   "cell_type": "markdown",
   "metadata": {},
   "source": [
    "### XGBoost"
   ]
  },
  {
   "cell_type": "code",
   "execution_count": 32,
   "metadata": {},
   "outputs": [
    {
     "name": "stdout",
     "output_type": "stream",
     "text": [
      "Fitting 3 folds for each of 432 candidates, totalling 1296 fits\n"
     ]
    },
    {
     "name": "stderr",
     "output_type": "stream",
     "text": [
      "[Parallel(n_jobs=-1)]: Using backend LokyBackend with 4 concurrent workers.\n",
      "[Parallel(n_jobs=-1)]: Done  33 tasks      | elapsed:   22.0s\n",
      "[Parallel(n_jobs=-1)]: Done 154 tasks      | elapsed:  1.8min\n",
      "[Parallel(n_jobs=-1)]: Done 357 tasks      | elapsed:  4.2min\n",
      "[Parallel(n_jobs=-1)]: Done 640 tasks      | elapsed:  8.0min\n",
      "[Parallel(n_jobs=-1)]: Done 1005 tasks      | elapsed: 12.9min\n",
      "[Parallel(n_jobs=-1)]: Done 1296 out of 1296 | elapsed: 17.1min finished\n"
     ]
    },
    {
     "data": {
      "text/plain": [
       "{'colsample_bytree': 1.0,\n",
       " 'gamma': 1,\n",
       " 'max_depth': 6,\n",
       " 'min_child_weight': 10,\n",
       " 'subsample': 0.8}"
      ]
     },
     "execution_count": 32,
     "metadata": {},
     "output_type": "execute_result"
    }
   ],
   "source": [
    "from xgboost import XGBRegressor\n",
    "xgb = XGBRegressor(n_jobs=-1)\n",
    "param = {\n",
    "        'min_child_weight': [1, 5, 10],\n",
    "        'gamma': [0, 0.5, 1, 2],\n",
    "        'subsample': [0.6, 0.8, 1.0],\n",
    "        'colsample_bytree': [0.6, 0.8, 1.0],\n",
    "        'max_depth': [3, 4, 5, 6]\n",
    "        }\n",
    "xgb_grid = GridSearchCV(estimator=xgb, param_grid=param, cv=3, verbose=2, n_jobs=-1)\n",
    "xgb_grid.fit(X_train, y_train)\n",
    "xgb_grid.best_params_"
   ]
  },
  {
   "cell_type": "code",
   "execution_count": 33,
   "metadata": {},
   "outputs": [],
   "source": [
    "xgb = XGBRegressor(**xgb_grid.best_params_, n_jobs=-1)\n",
    "xgb.fit(X_train, y_train)\n",
    "xgb_pred = xgb.predict(X_test)"
   ]
  },
  {
   "cell_type": "code",
   "execution_count": 34,
   "metadata": {},
   "outputs": [
    {
     "data": {
      "text/plain": [
       "{'mae': 43.135387968376406, 'rmse': 117.67278475633721}"
      ]
     },
     "execution_count": 34,
     "metadata": {},
     "output_type": "execute_result"
    }
   ],
   "source": [
    "xgb_eval = evaluate(y_test, xgb_pred)\n",
    "xgb_eval"
   ]
  },
  {
   "cell_type": "code",
   "execution_count": 35,
   "metadata": {},
   "outputs": [
    {
     "data": {
      "image/png": "[encoded data removed]",
      "text/plain": [
       "<Figure size 1440x720 with 1 Axes>"
      ]
     },
     "metadata": {
      "needs_background": "light"
     },
     "output_type": "display_data"
    }
   ],
   "source": [
    "feat_importances = pd.Series(xgb.feature_importances_, index=X_train.columns)\n",
    "plt.figure(figsize=(20,10))\n",
    "feat_importances.nlargest(15).plot(kind='barh')\n",
    "plt.title('XGBoost Feature Importance');"
   ]
  },
  {
   "cell_type": "markdown",
   "metadata": {},
   "source": [
    "### LightGBM"
   ]
  },
  {
   "cell_type": "code",
   "execution_count": 36,
   "metadata": {},
   "outputs": [
    {
     "name": "stdout",
     "output_type": "stream",
     "text": [
      "Fitting 3 folds for each of 162 candidates, totalling 486 fits\n"
     ]
    },
    {
     "name": "stderr",
     "output_type": "stream",
     "text": [
      "[Parallel(n_jobs=-1)]: Using backend LokyBackend with 4 concurrent workers.\n",
      "[Parallel(n_jobs=-1)]: Done  33 tasks      | elapsed:    3.7s\n",
      "[Parallel(n_jobs=-1)]: Done 154 tasks      | elapsed:   21.8s\n",
      "[Parallel(n_jobs=-1)]: Done 357 tasks      | elapsed:   51.6s\n",
      "[Parallel(n_jobs=-1)]: Done 486 out of 486 | elapsed:  1.3min finished\n"
     ]
    },
    {
     "data": {
      "text/plain": [
       "{'colsample_bytree': 1.0,\n",
       " 'learning_rate': 0.1,\n",
       " 'n_estimators': 200,\n",
       " 'num_leaves': 31,\n",
       " 'subsample': 0.6}"
      ]
     },
     "execution_count": 36,
     "metadata": {},
     "output_type": "execute_result"
    }
   ],
   "source": [
    "from lightgbm import LGBMRegressor\n",
    "lgbm = LGBMRegressor(n_jobs=-1)\n",
    "param = {'learning_rate': [0.01, 0.05, 0.1],\n",
    "    'n_estimators': [50, 100, 200],\n",
    "    'num_leaves': [16, 31], # large num_leaves helps improve accuracy but might lead to over-fitting\n",
    "    'colsample_bytree' : [0.6, 0.8, 1.0],\n",
    "    'subsample' : [0.6, 0.8, 1.0],\n",
    "    }\n",
    "\n",
    "lgbm_grid = GridSearchCV(estimator=lgbm, param_grid=param, cv=3, verbose=2, n_jobs=-1)\n",
    "lgbm_grid.fit(X_train, y_train)\n",
    "lgbm_grid.best_params_"
   ]
  },
  {
   "cell_type": "code",
   "execution_count": 37,
   "metadata": {},
   "outputs": [],
   "source": [
    "lgbm = LGBMRegressor(**lgbm_grid.best_params_, n_jobs=-1)\n",
    "lgbm.fit(X_train, y_train)\n",
    "lgbm_pred = lgbm.predict(X_test)"
   ]
  },
  {
   "cell_type": "code",
   "execution_count": 38,
   "metadata": {},
   "outputs": [],
   "source": [
    "lgbm_eval = evaluate(y_test_raw, lgbm_pred)"
   ]
  },
  {
   "cell_type": "code",
   "execution_count": 39,
   "metadata": {},
   "outputs": [
    {
     "data": {
      "image/png": "[encoded data removed]",
      "text/plain": [
       "<Figure size 1440x720 with 1 Axes>"
      ]
     },
     "metadata": {
      "needs_background": "light"
     },
     "output_type": "display_data"
    }
   ],
   "source": [
    "feat_importances = pd.Series(lgbm.feature_importances_, index=X_train.columns)\n",
    "plt.figure(figsize=(20,10))\n",
    "feat_importances.nlargest(15).plot(kind='barh')\n",
    "plt.title('LightGBM Feature Importance');"
   ]
  },
  {
   "cell_type": "markdown",
   "metadata": {},
   "source": [
    "### Results\n",
    "Among all the models trained, Random Forest had the best performance."
   ]
  },
  {
   "cell_type": "code",
   "execution_count": 40,
   "metadata": {},
   "outputs": [
    {
     "data": {
      "text/html": [
       "<div>\n",
       "<style scoped>\n",
       "    .dataframe tbody tr th:only-of-type {\n",
       "        vertical-align: middle;\n",
       "    }\n",
       "\n",
       "    .dataframe tbody tr th {\n",
       "        vertical-align: top;\n",
       "    }\n",
       "\n",
       "    .dataframe thead th {\n",
       "        text-align: right;\n",
       "    }\n",
       "</style>\n",
       "<table border=\"1\" class=\"dataframe\">\n",
       "  <thead>\n",
       "    <tr style=\"text-align: right;\">\n",
       "      <th></th>\n",
       "      <th>mae</th>\n",
       "      <th>rmse</th>\n",
       "    </tr>\n",
       "  </thead>\n",
       "  <tbody>\n",
       "    <tr>\n",
       "      <th>linear</th>\n",
       "      <td>66.944053</td>\n",
       "      <td>164.381018</td>\n",
       "    </tr>\n",
       "    <tr>\n",
       "      <th>random forest</th>\n",
       "      <td>34.669217</td>\n",
       "      <td>109.615525</td>\n",
       "    </tr>\n",
       "    <tr>\n",
       "      <th>xgboost</th>\n",
       "      <td>43.135388</td>\n",
       "      <td>117.672785</td>\n",
       "    </tr>\n",
       "    <tr>\n",
       "      <th>lgbm</th>\n",
       "      <td>43.791455</td>\n",
       "      <td>115.520945</td>\n",
       "    </tr>\n",
       "  </tbody>\n",
       "</table>\n",
       "</div>"
      ],
      "text/plain": [
       "                     mae        rmse\n",
       "linear         66.944053  164.381018\n",
       "random forest  34.669217  109.615525\n",
       "xgboost        43.135388  117.672785\n",
       "lgbm           43.791455  115.520945"
      ]
     },
     "execution_count": 40,
     "metadata": {},
     "output_type": "execute_result"
    }
   ],
   "source": [
    "results = pd.DataFrame.from_dict([lr_eval, rf_eval, xgb_eval, lgbm_eval])\n",
    "results.index=['linear','random forest','xgboost','lgbm']\n",
    "results"
   ]
  },
  {
   "cell_type": "code",
   "execution_count": 41,
   "metadata": {},
   "outputs": [],
   "source": [
    "test_df['cnt'] = y_test\n",
    "test_df['lr_pred'] = np.exp(lr_pred)\n",
    "test_df['rf_pred'] = rf_pred\n",
    "test_df['xgb_pred'] = xgb_pred\n",
    "test_df['lgbm_pred'] = lgbm_pred\n",
    "test_df['zip_code'] = le.inverse_transform(test_df['zip_code_label'])\n",
    "test_df['month'] = 1\n",
    "test_df['year'] = 2015\n",
    "test_df['datetime'] = pd.to_datetime(test_df[['year', 'month', 'day', 'hour']])"
   ]
  },
  {
   "cell_type": "code",
   "execution_count": 42,
   "metadata": {},
   "outputs": [
    {
     "data": {
      "text/html": [
       "<div>\n",
       "<style scoped>\n",
       "    .dataframe tbody tr th:only-of-type {\n",
       "        vertical-align: middle;\n",
       "    }\n",
       "\n",
       "    .dataframe tbody tr th {\n",
       "        vertical-align: top;\n",
       "    }\n",
       "\n",
       "    .dataframe thead th {\n",
       "        text-align: right;\n",
       "    }\n",
       "</style>\n",
       "<table border=\"1\" class=\"dataframe\">\n",
       "  <thead>\n",
       "    <tr style=\"text-align: right;\">\n",
       "      <th></th>\n",
       "      <th>day</th>\n",
       "      <th>dow</th>\n",
       "      <th>hour</th>\n",
       "      <th>is_weekend</th>\n",
       "      <th>zip_code_label</th>\n",
       "      <th>cnt</th>\n",
       "      <th>lr_pred</th>\n",
       "      <th>rf_pred</th>\n",
       "      <th>xgb_pred</th>\n",
       "      <th>lgbm_pred</th>\n",
       "      <th>zip_code</th>\n",
       "      <th>month</th>\n",
       "      <th>year</th>\n",
       "      <th>datetime</th>\n",
       "    </tr>\n",
       "  </thead>\n",
       "  <tbody>\n",
       "    <tr>\n",
       "      <th>65118</th>\n",
       "      <td>24</td>\n",
       "      <td>5</td>\n",
       "      <td>0</td>\n",
       "      <td>1</td>\n",
       "      <td>28</td>\n",
       "      <td>41</td>\n",
       "      <td>14.467897</td>\n",
       "      <td>45.038</td>\n",
       "      <td>52.227070</td>\n",
       "      <td>35.001701</td>\n",
       "      <td>10031</td>\n",
       "      <td>1</td>\n",
       "      <td>2015</td>\n",
       "      <td>2015-01-24</td>\n",
       "    </tr>\n",
       "    <tr>\n",
       "      <th>65119</th>\n",
       "      <td>24</td>\n",
       "      <td>5</td>\n",
       "      <td>0</td>\n",
       "      <td>1</td>\n",
       "      <td>194</td>\n",
       "      <td>36</td>\n",
       "      <td>5.501186</td>\n",
       "      <td>51.624</td>\n",
       "      <td>43.799358</td>\n",
       "      <td>28.894170</td>\n",
       "      <td>11205</td>\n",
       "      <td>1</td>\n",
       "      <td>2015</td>\n",
       "      <td>2015-01-24</td>\n",
       "    </tr>\n",
       "    <tr>\n",
       "      <th>65120</th>\n",
       "      <td>24</td>\n",
       "      <td>5</td>\n",
       "      <td>0</td>\n",
       "      <td>1</td>\n",
       "      <td>2</td>\n",
       "      <td>2315</td>\n",
       "      <td>563.514055</td>\n",
       "      <td>2418.618</td>\n",
       "      <td>2301.500732</td>\n",
       "      <td>2374.958964</td>\n",
       "      <td>10003</td>\n",
       "      <td>1</td>\n",
       "      <td>2015</td>\n",
       "      <td>2015-01-24</td>\n",
       "    </tr>\n",
       "    <tr>\n",
       "      <th>65121</th>\n",
       "      <td>24</td>\n",
       "      <td>5</td>\n",
       "      <td>0</td>\n",
       "      <td>1</td>\n",
       "      <td>15</td>\n",
       "      <td>516</td>\n",
       "      <td>270.242434</td>\n",
       "      <td>539.080</td>\n",
       "      <td>678.877563</td>\n",
       "      <td>604.175562</td>\n",
       "      <td>10018</td>\n",
       "      <td>1</td>\n",
       "      <td>2015</td>\n",
       "      <td>2015-01-24</td>\n",
       "    </tr>\n",
       "    <tr>\n",
       "      <th>65122</th>\n",
       "      <td>24</td>\n",
       "      <td>5</td>\n",
       "      <td>0</td>\n",
       "      <td>1</td>\n",
       "      <td>245</td>\n",
       "      <td>83</td>\n",
       "      <td>110.410636</td>\n",
       "      <td>201.318</td>\n",
       "      <td>198.481979</td>\n",
       "      <td>186.107128</td>\n",
       "      <td>11371</td>\n",
       "      <td>1</td>\n",
       "      <td>2015</td>\n",
       "      <td>2015-01-24</td>\n",
       "    </tr>\n",
       "  </tbody>\n",
       "</table>\n",
       "</div>"
      ],
      "text/plain": [
       "       day  dow  hour  is_weekend  zip_code_label   cnt     lr_pred   rf_pred  \\\n",
       "65118   24    5     0           1              28    41   14.467897    45.038   \n",
       "65119   24    5     0           1             194    36    5.501186    51.624   \n",
       "65120   24    5     0           1               2  2315  563.514055  2418.618   \n",
       "65121   24    5     0           1              15   516  270.242434   539.080   \n",
       "65122   24    5     0           1             245    83  110.410636   201.318   \n",
       "\n",
       "          xgb_pred    lgbm_pred zip_code  month  year   datetime  \n",
       "65118    52.227070    35.001701    10031      1  2015 2015-01-24  \n",
       "65119    43.799358    28.894170    11205      1  2015 2015-01-24  \n",
       "65120  2301.500732  2374.958964    10003      1  2015 2015-01-24  \n",
       "65121   678.877563   604.175562    10018      1  2015 2015-01-24  \n",
       "65122   198.481979   186.107128    11371      1  2015 2015-01-24  "
      ]
     },
     "execution_count": 42,
     "metadata": {},
     "output_type": "execute_result"
    }
   ],
   "source": [
    "test_df.head()"
   ]
  },
  {
   "cell_type": "code",
   "execution_count": 43,
   "metadata": {},
   "outputs": [
    {
     "data": {
      "application/vnd.plotly.v1+json": {
       "config": {
        "linkText": "Export to plot.ly",
        "plotlyServerURL": "https://plot.ly",
        "showLink": true
       },
       "data": [
        {
         "line": {
          "color": "rgba(255, 153, 51, 1.0)",
          "dash": "solid",
          "shape": "linear",
          "width": 1.3
         },
         "mode": "lines",
         "name": "cnt",
         "text": "",
         "type": "scatter",
         "x": [
          "2015-01-24 00:00:00",
          "2015-01-24 01:00:00",
          "2015-01-24 02:00:00",
          "2015-01-24 03:00:00",
          "2015-01-24 04:00:00",
          "2015-01-24 05:00:00",
          "2015-01-24 06:00:00",
          "2015-01-24 07:00:00",
          "2015-01-24 08:00:00",
          "2015-01-24 09:00:00",
          "2015-01-24 10:00:00",
          "2015-01-24 11:00:00",
          "2015-01-24 12:00:00",
          "2015-01-24 13:00:00",
          "2015-01-24 14:00:00",
          "2015-01-24 15:00:00",
          "2015-01-24 16:00:00",
          "2015-01-24 17:00:00",
          "2015-01-24 18:00:00",
          "2015-01-24 19:00:00",
          "2015-01-24 20:00:00",
          "2015-01-24 21:00:00",
          "2015-01-24 22:00:00",
          "2015-01-24 23:00:00",
          "2015-01-25 00:00:00",
          "2015-01-25 01:00:00",
          "2015-01-25 02:00:00",
          "2015-01-25 03:00:00",
          "2015-01-25 04:00:00",
          "2015-01-25 05:00:00",
          "2015-01-25 06:00:00",
          "2015-01-25 07:00:00",
          "2015-01-25 08:00:00",
          "2015-01-25 09:00:00",
          "2015-01-25 10:00:00",
          "2015-01-25 11:00:00",
          "2015-01-25 12:00:00",
          "2015-01-25 13:00:00",
          "2015-01-25 14:00:00",
          "2015-01-25 15:00:00",
          "2015-01-25 16:00:00",
          "2015-01-25 17:00:00",
          "2015-01-25 18:00:00",
          "2015-01-25 19:00:00",
          "2015-01-25 20:00:00",
          "2015-01-25 21:00:00",
          "2015-01-25 22:00:00",
          "2015-01-25 23:00:00",
          "2015-01-26 00:00:00",
          "2015-01-26 01:00:00",
          "2015-01-26 02:00:00",
          "2015-01-26 03:00:00",
          "2015-01-26 04:00:00",
          "2015-01-26 05:00:00",
          "2015-01-26 06:00:00",
          "2015-01-26 07:00:00",
          "2015-01-26 08:00:00",
          "2015-01-26 09:00:00",
          "2015-01-26 10:00:00",
          "2015-01-26 11:00:00",
          "2015-01-26 12:00:00",
          "2015-01-26 13:00:00",
          "2015-01-26 14:00:00",
          "2015-01-26 15:00:00",
          "2015-01-26 16:00:00",
          "2015-01-26 17:00:00",
          "2015-01-26 18:00:00",
          "2015-01-26 19:00:00",
          "2015-01-26 20:00:00",
          "2015-01-26 21:00:00",
          "2015-01-26 22:00:00",
          "2015-01-26 23:00:00",
          "2015-01-27 00:00:00",
          "2015-01-27 01:00:00",
          "2015-01-27 02:00:00",
          "2015-01-27 03:00:00",
          "2015-01-27 04:00:00",
          "2015-01-27 05:00:00",
          "2015-01-27 06:00:00",
          "2015-01-27 07:00:00",
          "2015-01-27 08:00:00",
          "2015-01-27 09:00:00",
          "2015-01-27 10:00:00",
          "2015-01-27 11:00:00",
          "2015-01-27 12:00:00",
          "2015-01-27 13:00:00",
          "2015-01-27 14:00:00",
          "2015-01-27 15:00:00",
          "2015-01-27 16:00:00",
          "2015-01-27 17:00:00",
          "2015-01-27 18:00:00",
          "2015-01-27 19:00:00",
          "2015-01-27 20:00:00",
          "2015-01-27 21:00:00",
          "2015-01-27 22:00:00",
          "2015-01-27 23:00:00",
          "2015-01-28 00:00:00",
          "2015-01-28 01:00:00",
          "2015-01-28 02:00:00",
          "2015-01-28 03:00:00",
          "2015-01-28 04:00:00",
          "2015-01-28 05:00:00",
          "2015-01-28 06:00:00",
          "2015-01-28 07:00:00",
          "2015-01-28 08:00:00",
          "2015-01-28 09:00:00",
          "2015-01-28 10:00:00",
          "2015-01-28 11:00:00",
          "2015-01-28 12:00:00",
          "2015-01-28 13:00:00",
          "2015-01-28 14:00:00",
          "2015-01-28 15:00:00",
          "2015-01-28 16:00:00",
          "2015-01-28 17:00:00",
          "2015-01-28 18:00:00",
          "2015-01-28 19:00:00",
          "2015-01-28 20:00:00",
          "2015-01-28 21:00:00",
          "2015-01-28 22:00:00",
          "2015-01-28 23:00:00",
          "2015-01-29 00:00:00",
          "2015-01-29 01:00:00",
          "2015-01-29 02:00:00",
          "2015-01-29 03:00:00",
          "2015-01-29 04:00:00",
          "2015-01-29 05:00:00",
          "2015-01-29 06:00:00",
          "2015-01-29 07:00:00",
          "2015-01-29 08:00:00",
          "2015-01-29 09:00:00",
          "2015-01-29 10:00:00",
          "2015-01-29 11:00:00",
          "2015-01-29 12:00:00",
          "2015-01-29 13:00:00",
          "2015-01-29 14:00:00",
          "2015-01-29 15:00:00",
          "2015-01-29 16:00:00",
          "2015-01-29 17:00:00",
          "2015-01-29 18:00:00",
          "2015-01-29 19:00:00",
          "2015-01-29 20:00:00",
          "2015-01-29 21:00:00",
          "2015-01-29 22:00:00",
          "2015-01-29 23:00:00",
          "2015-01-30 00:00:00",
          "2015-01-30 01:00:00",
          "2015-01-30 02:00:00",
          "2015-01-30 03:00:00",
          "2015-01-30 04:00:00",
          "2015-01-30 05:00:00",
          "2015-01-30 06:00:00",
          "2015-01-30 07:00:00",
          "2015-01-30 08:00:00",
          "2015-01-30 09:00:00",
          "2015-01-30 10:00:00",
          "2015-01-30 11:00:00",
          "2015-01-30 12:00:00",
          "2015-01-30 13:00:00",
          "2015-01-30 14:00:00",
          "2015-01-30 15:00:00",
          "2015-01-30 16:00:00",
          "2015-01-30 17:00:00",
          "2015-01-30 18:00:00",
          "2015-01-30 19:00:00",
          "2015-01-30 20:00:00",
          "2015-01-30 21:00:00",
          "2015-01-30 22:00:00",
          "2015-01-30 23:00:00",
          "2015-01-31 00:00:00",
          "2015-01-31 01:00:00",
          "2015-01-31 02:00:00",
          "2015-01-31 03:00:00",
          "2015-01-31 04:00:00",
          "2015-01-31 05:00:00",
          "2015-01-31 06:00:00",
          "2015-01-31 07:00:00",
          "2015-01-31 08:00:00",
          "2015-01-31 09:00:00",
          "2015-01-31 10:00:00",
          "2015-01-31 11:00:00",
          "2015-01-31 12:00:00",
          "2015-01-31 13:00:00",
          "2015-01-31 14:00:00",
          "2015-01-31 15:00:00",
          "2015-01-31 16:00:00",
          "2015-01-31 17:00:00",
          "2015-01-31 18:00:00",
          "2015-01-31 19:00:00",
          "2015-01-31 20:00:00",
          "2015-01-31 21:00:00",
          "2015-01-31 22:00:00",
          "2015-01-31 23:00:00"
         ],
         "y": [
          25761,
          21727,
          14669,
          10794,
          6992,
          3734,
          4673,
          6810,
          10372,
          15198,
          17905,
          20735,
          22522,
          22043,
          20884,
          21439,
          21232,
          23440,
          26589,
          28297,
          23060,
          23102,
          27166,
          28299,
          26986,
          24268,
          20568,
          15597,
          9128,
          3986,
          4079,
          5712,
          7922,
          12564,
          17180,
          20091,
          22206,
          22437,
          21944,
          20507,
          20071,
          21064,
          22144,
          19382,
          17063,
          15918,
          13389,
          10732,
          7024,
          4324,
          2786,
          2284,
          2621,
          4656,
          11491,
          19417,
          22408,
          19914,
          16553,
          16245,
          17079,
          17271,
          14683,
          9829,
          6611,
          6043,
          6568,
          5305,
          4144,
          3305,
          1481,
          290,
          113,
          49,
          36,
          14,
          21,
          48,
          133,
          336,
          957,
          2197,
          3583,
          4627,
          5496,
          5952,
          6707,
          7853,
          9126,
          11746,
          14483,
          12972,
          11726,
          12229,
          11074,
          8844,
          5355,
          3166,
          2113,
          1461,
          1654,
          3547,
          10816,
          19171,
          22276,
          20314,
          16910,
          16271,
          16561,
          16302,
          17774,
          18107,
          16024,
          20185,
          25615,
          26343,
          24479,
          23954,
          22800,
          16206,
          10358,
          5823,
          3799,
          2602,
          2503,
          4166,
          11775,
          20807,
          23615,
          21847,
          19158,
          18252,
          19199,
          18959,
          20437,
          20091,
          16725,
          20749,
          26539,
          27574,
          27273,
          27305,
          25696,
          22543,
          14882,
          9211,
          6054,
          4046,
          3425,
          4413,
          11618,
          21552,
          24965,
          23031,
          20194,
          20098,
          19929,
          20306,
          21776,
          20411,
          17680,
          22669,
          28996,
          31865,
          30884,
          29980,
          30229,
          29561,
          27538,
          22628,
          17948,
          13223,
          8259,
          4088,
          4990,
          7191,
          11960,
          18283,
          21454,
          24366,
          26007,
          25637,
          24013,
          24717,
          22799,
          24928,
          29730,
          31211,
          26592,
          26673,
          29013,
          29026
         ]
        },
        {
         "line": {
          "color": "rgba(55, 128, 191, 1.0)",
          "dash": "solid",
          "shape": "linear",
          "width": 1.3
         },
         "mode": "lines",
         "name": "lr_pred",
         "text": "",
         "type": "scatter",
         "x": [
          "2015-01-24 00:00:00",
          "2015-01-24 01:00:00",
          "2015-01-24 02:00:00",
          "2015-01-24 03:00:00",
          "2015-01-24 04:00:00",
          "2015-01-24 05:00:00",
          "2015-01-24 06:00:00",
          "2015-01-24 07:00:00",
          "2015-01-24 08:00:00",
          "2015-01-24 09:00:00",
          "2015-01-24 10:00:00",
          "2015-01-24 11:00:00",
          "2015-01-24 12:00:00",
          "2015-01-24 13:00:00",
          "2015-01-24 14:00:00",
          "2015-01-24 15:00:00",
          "2015-01-24 16:00:00",
          "2015-01-24 17:00:00",
          "2015-01-24 18:00:00",
          "2015-01-24 19:00:00",
          "2015-01-24 20:00:00",
          "2015-01-24 21:00:00",
          "2015-01-24 22:00:00",
          "2015-01-24 23:00:00",
          "2015-01-25 00:00:00",
          "2015-01-25 01:00:00",
          "2015-01-25 02:00:00",
          "2015-01-25 03:00:00",
          "2015-01-25 04:00:00",
          "2015-01-25 05:00:00",
          "2015-01-25 06:00:00",
          "2015-01-25 07:00:00",
          "2015-01-25 08:00:00",
          "2015-01-25 09:00:00",
          "2015-01-25 10:00:00",
          "2015-01-25 11:00:00",
          "2015-01-25 12:00:00",
          "2015-01-25 13:00:00",
          "2015-01-25 14:00:00",
          "2015-01-25 15:00:00",
          "2015-01-25 16:00:00",
          "2015-01-25 17:00:00",
          "2015-01-25 18:00:00",
          "2015-01-25 19:00:00",
          "2015-01-25 20:00:00",
          "2015-01-25 21:00:00",
          "2015-01-25 22:00:00",
          "2015-01-25 23:00:00",
          "2015-01-26 00:00:00",
          "2015-01-26 01:00:00",
          "2015-01-26 02:00:00",
          "2015-01-26 03:00:00",
          "2015-01-26 04:00:00",
          "2015-01-26 05:00:00",
          "2015-01-26 06:00:00",
          "2015-01-26 07:00:00",
          "2015-01-26 08:00:00",
          "2015-01-26 09:00:00",
          "2015-01-26 10:00:00",
          "2015-01-26 11:00:00",
          "2015-01-26 12:00:00",
          "2015-01-26 13:00:00",
          "2015-01-26 14:00:00",
          "2015-01-26 15:00:00",
          "2015-01-26 16:00:00",
          "2015-01-26 17:00:00",
          "2015-01-26 18:00:00",
          "2015-01-26 19:00:00",
          "2015-01-26 20:00:00",
          "2015-01-26 21:00:00",
          "2015-01-26 22:00:00",
          "2015-01-26 23:00:00",
          "2015-01-27 00:00:00",
          "2015-01-27 01:00:00",
          "2015-01-27 02:00:00",
          "2015-01-27 03:00:00",
          "2015-01-27 04:00:00",
          "2015-01-27 05:00:00",
          "2015-01-27 06:00:00",
          "2015-01-27 07:00:00",
          "2015-01-27 08:00:00",
          "2015-01-27 09:00:00",
          "2015-01-27 10:00:00",
          "2015-01-27 11:00:00",
          "2015-01-27 12:00:00",
          "2015-01-27 13:00:00",
          "2015-01-27 14:00:00",
          "2015-01-27 15:00:00",
          "2015-01-27 16:00:00",
          "2015-01-27 17:00:00",
          "2015-01-27 18:00:00",
          "2015-01-27 19:00:00",
          "2015-01-27 20:00:00",
          "2015-01-27 21:00:00",
          "2015-01-27 22:00:00",
          "2015-01-27 23:00:00",
          "2015-01-28 00:00:00",
          "2015-01-28 01:00:00",
          "2015-01-28 02:00:00",
          "2015-01-28 03:00:00",
          "2015-01-28 04:00:00",
          "2015-01-28 05:00:00",
          "2015-01-28 06:00:00",
          "2015-01-28 07:00:00",
          "2015-01-28 08:00:00",
          "2015-01-28 09:00:00",
          "2015-01-28 10:00:00",
          "2015-01-28 11:00:00",
          "2015-01-28 12:00:00",
          "2015-01-28 13:00:00",
          "2015-01-28 14:00:00",
          "2015-01-28 15:00:00",
          "2015-01-28 16:00:00",
          "2015-01-28 17:00:00",
          "2015-01-28 18:00:00",
          "2015-01-28 19:00:00",
          "2015-01-28 20:00:00",
          "2015-01-28 21:00:00",
          "2015-01-28 22:00:00",
          "2015-01-28 23:00:00",
          "2015-01-29 00:00:00",
          "2015-01-29 01:00:00",
          "2015-01-29 02:00:00",
          "2015-01-29 03:00:00",
          "2015-01-29 04:00:00",
          "2015-01-29 05:00:00",
          "2015-01-29 06:00:00",
          "2015-01-29 07:00:00",
          "2015-01-29 08:00:00",
          "2015-01-29 09:00:00",
          "2015-01-29 10:00:00",
          "2015-01-29 11:00:00",
          "2015-01-29 12:00:00",
          "2015-01-29 13:00:00",
          "2015-01-29 14:00:00",
          "2015-01-29 15:00:00",
          "2015-01-29 16:00:00",
          "2015-01-29 17:00:00",
          "2015-01-29 18:00:00",
          "2015-01-29 19:00:00",
          "2015-01-29 20:00:00",
          "2015-01-29 21:00:00",
          "2015-01-29 22:00:00",
          "2015-01-29 23:00:00",
          "2015-01-30 00:00:00",
          "2015-01-30 01:00:00",
          "2015-01-30 02:00:00",
          "2015-01-30 03:00:00",
          "2015-01-30 04:00:00",
          "2015-01-30 05:00:00",
          "2015-01-30 06:00:00",
          "2015-01-30 07:00:00",
          "2015-01-30 08:00:00",
          "2015-01-30 09:00:00",
          "2015-01-30 10:00:00",
          "2015-01-30 11:00:00",
          "2015-01-30 12:00:00",
          "2015-01-30 13:00:00",
          "2015-01-30 14:00:00",
          "2015-01-30 15:00:00",
          "2015-01-30 16:00:00",
          "2015-01-30 17:00:00",
          "2015-01-30 18:00:00",
          "2015-01-30 19:00:00",
          "2015-01-30 20:00:00",
          "2015-01-30 21:00:00",
          "2015-01-30 22:00:00",
          "2015-01-30 23:00:00",
          "2015-01-31 00:00:00",
          "2015-01-31 01:00:00",
          "2015-01-31 02:00:00",
          "2015-01-31 03:00:00",
          "2015-01-31 04:00:00",
          "2015-01-31 05:00:00",
          "2015-01-31 06:00:00",
          "2015-01-31 07:00:00",
          "2015-01-31 08:00:00",
          "2015-01-31 09:00:00",
          "2015-01-31 10:00:00",
          "2015-01-31 11:00:00",
          "2015-01-31 12:00:00",
          "2015-01-31 13:00:00",
          "2015-01-31 14:00:00",
          "2015-01-31 15:00:00",
          "2015-01-31 16:00:00",
          "2015-01-31 17:00:00",
          "2015-01-31 18:00:00",
          "2015-01-31 19:00:00",
          "2015-01-31 20:00:00",
          "2015-01-31 21:00:00",
          "2015-01-31 22:00:00",
          "2015-01-31 23:00:00"
         ],
         "y": [
          9427.401699813303,
          9746.491503419784,
          9939.192708449851,
          10249.899054702159,
          10599.498352531262,
          11051.714917320616,
          11394.575023043928,
          11830.040012316498,
          12209.891076447726,
          12631.216891251719,
          13038.158300227768,
          13466.724120511077,
          13904.216099448155,
          14373.82725276858,
          14850.8577025349,
          15345.487739010154,
          15860.501689795527,
          16396.04460370597,
          16929.196516783133,
          17495.226740102113,
          18089.272116047465,
          18684.346699526966,
          19320.5901604219,
          19956.70970933762,
          9805.249003475588,
          10136.53673237727,
          10342.402757595917,
          10683.845280766764,
          11167.9635100459,
          11489.420121713374,
          11880.703634832898,
          12280.626286785566,
          12719.992008409066,
          13131.819332903708,
          13587.692338871399,
          14027.288624913537,
          14482.154174460926,
          14957.81182951233,
          15453.339685302444,
          15993.636551917065,
          16519.230867667033,
          17064.351010668637,
          17636.753132696715,
          18210.24578528261,
          18821.96970700994,
          19448.44855000942,
          20091.097869129087,
          20768.12883039327,
          8225.999241893405,
          8469.693144668427,
          8700.697694707955,
          9026.929748700475,
          9287.383753634522,
          9640.30441992715,
          9994.216998952657,
          10343.687793408746,
          10678.671383530413,
          11030.160988804362,
          11367.120994314178,
          11751.229473933501,
          12165.986299043558,
          12564.36841925771,
          12991.894433908823,
          13420.44979745094,
          13861.707924317867,
          14306.375132795725,
          14772.924575600571,
          15276.92407614379,
          15721.81897546461,
          16228.444733211823,
          16448.20594156909,
          16173.511920632656,
          7590.9817789423705,
          5975.487835052223,
          5505.329600384851,
          3745.523734726108,
          4066.193444958219,
          6798.514511590148,
          9129.157214303043,
          10145.238588697468,
          10856.652009497493,
          11439.389758390265,
          11783.23295648069,
          12197.29885242765,
          12617.252339291392,
          13038.359259640349,
          13484.066969807081,
          13919.571336711524,
          14389.802754102222,
          14882.35682385124,
          15376.542517897651,
          15893.904424500175,
          16422.796428248537,
          16953.346644875925,
          17551.536568701184,
          18126.921333054037,
          8889.577058263587,
          9055.610689032643,
          9343.964077241113,
          9589.480820425802,
          10007.527249706045,
          10423.561609707032,
          10838.731450375502,
          11191.929855544442,
          11578.307320242202,
          11941.71100287055,
          12336.664054415673,
          12723.35579009075,
          13145.737505580113,
          13582.977751967972,
          14057.755384193037,
          14533.707615713442,
          14998.138876691442,
          15491.500793992325,
          16022.723885761263,
          16567.141803059396,
          17098.582493213817,
          17673.965128532443,
          18274.22871225222,
          18880.81513312774,
          9278.233035676702,
          9562.043064245412,
          9741.85893810258,
          10047.380515100534,
          10495.291925878051,
          10857.001685626765,
          11272.66854502243,
          11647.950672421845,
          12031.605381787374,
          12424.019936993927,
          12824.134742574497,
          13250.443714063407,
          13680.200014194608,
          14142.864374079809,
          14617.658737708243,
          15089.064666072409,
          15586.310633313728,
          16128.340181501633,
          16668.09083357034,
          17225.53811806158,
          17808.663200936513,
          18394.64859493159,
          19021.879548332425,
          19661.271940606726,
          9656.811875737927,
          9971.966364853322,
          10289.114843749248,
          10588.291557246277,
          10928.82085106807,
          11338.554790128252,
          11745.032914112422,
          12134.919019259172,
          12535.8978982874,
          12942.230500895344,
          13341.726148445287,
          13796.236414189068,
          14249.147738522786,
          14732.473071376173,
          15230.743891557231,
          15735.560403450396,
          16248.179384149362,
          16801.215677657903,
          17381.196329745457,
          17930.50888354631,
          18539.97382121484,
          19156.004313553643,
          19787.452406225857,
          20468.935551243645,
          9542.302770254406,
          9868.350930270753,
          10186.689895748428,
          10512.882294381718,
          10862.820627608331,
          11167.641889467042,
          11564.282593665956,
          11961.614233743308,
          12371.971244973114,
          12786.770818809739,
          13213.925872634609,
          13642.114292452457,
          14097.291013353015,
          14563.997769688584,
          15041.863895419041,
          15547.135030196961,
          16071.800499932966,
          16598.98465101734,
          17154.00825179428,
          17719.74451597652,
          18323.32982395027,
          18932.347348271735,
          19553.022897054532,
          20217.501746665468
         ]
        },
        {
         "line": {
          "color": "rgba(50, 171, 96, 1.0)",
          "dash": "solid",
          "shape": "linear",
          "width": 1.3
         },
         "mode": "lines",
         "name": "rf_pred",
         "text": "",
         "type": "scatter",
         "x": [
          "2015-01-24 00:00:00",
          "2015-01-24 01:00:00",
          "2015-01-24 02:00:00",
          "2015-01-24 03:00:00",
          "2015-01-24 04:00:00",
          "2015-01-24 05:00:00",
          "2015-01-24 06:00:00",
          "2015-01-24 07:00:00",
          "2015-01-24 08:00:00",
          "2015-01-24 09:00:00",
          "2015-01-24 10:00:00",
          "2015-01-24 11:00:00",
          "2015-01-24 12:00:00",
          "2015-01-24 13:00:00",
          "2015-01-24 14:00:00",
          "2015-01-24 15:00:00",
          "2015-01-24 16:00:00",
          "2015-01-24 17:00:00",
          "2015-01-24 18:00:00",
          "2015-01-24 19:00:00",
          "2015-01-24 20:00:00",
          "2015-01-24 21:00:00",
          "2015-01-24 22:00:00",
          "2015-01-24 23:00:00",
          "2015-01-25 00:00:00",
          "2015-01-25 01:00:00",
          "2015-01-25 02:00:00",
          "2015-01-25 03:00:00",
          "2015-01-25 04:00:00",
          "2015-01-25 05:00:00",
          "2015-01-25 06:00:00",
          "2015-01-25 07:00:00",
          "2015-01-25 08:00:00",
          "2015-01-25 09:00:00",
          "2015-01-25 10:00:00",
          "2015-01-25 11:00:00",
          "2015-01-25 12:00:00",
          "2015-01-25 13:00:00",
          "2015-01-25 14:00:00",
          "2015-01-25 15:00:00",
          "2015-01-25 16:00:00",
          "2015-01-25 17:00:00",
          "2015-01-25 18:00:00",
          "2015-01-25 19:00:00",
          "2015-01-25 20:00:00",
          "2015-01-25 21:00:00",
          "2015-01-25 22:00:00",
          "2015-01-25 23:00:00",
          "2015-01-26 00:00:00",
          "2015-01-26 01:00:00",
          "2015-01-26 02:00:00",
          "2015-01-26 03:00:00",
          "2015-01-26 04:00:00",
          "2015-01-26 05:00:00",
          "2015-01-26 06:00:00",
          "2015-01-26 07:00:00",
          "2015-01-26 08:00:00",
          "2015-01-26 09:00:00",
          "2015-01-26 10:00:00",
          "2015-01-26 11:00:00",
          "2015-01-26 12:00:00",
          "2015-01-26 13:00:00",
          "2015-01-26 14:00:00",
          "2015-01-26 15:00:00",
          "2015-01-26 16:00:00",
          "2015-01-26 17:00:00",
          "2015-01-26 18:00:00",
          "2015-01-26 19:00:00",
          "2015-01-26 20:00:00",
          "2015-01-26 21:00:00",
          "2015-01-26 22:00:00",
          "2015-01-26 23:00:00",
          "2015-01-27 00:00:00",
          "2015-01-27 01:00:00",
          "2015-01-27 02:00:00",
          "2015-01-27 03:00:00",
          "2015-01-27 04:00:00",
          "2015-01-27 05:00:00",
          "2015-01-27 06:00:00",
          "2015-01-27 07:00:00",
          "2015-01-27 08:00:00",
          "2015-01-27 09:00:00",
          "2015-01-27 10:00:00",
          "2015-01-27 11:00:00",
          "2015-01-27 12:00:00",
          "2015-01-27 13:00:00",
          "2015-01-27 14:00:00",
          "2015-01-27 15:00:00",
          "2015-01-27 16:00:00",
          "2015-01-27 17:00:00",
          "2015-01-27 18:00:00",
          "2015-01-27 19:00:00",
          "2015-01-27 20:00:00",
          "2015-01-27 21:00:00",
          "2015-01-27 22:00:00",
          "2015-01-27 23:00:00",
          "2015-01-28 00:00:00",
          "2015-01-28 01:00:00",
          "2015-01-28 02:00:00",
          "2015-01-28 03:00:00",
          "2015-01-28 04:00:00",
          "2015-01-28 05:00:00",
          "2015-01-28 06:00:00",
          "2015-01-28 07:00:00",
          "2015-01-28 08:00:00",
          "2015-01-28 09:00:00",
          "2015-01-28 10:00:00",
          "2015-01-28 11:00:00",
          "2015-01-28 12:00:00",
          "2015-01-28 13:00:00",
          "2015-01-28 14:00:00",
          "2015-01-28 15:00:00",
          "2015-01-28 16:00:00",
          "2015-01-28 17:00:00",
          "2015-01-28 18:00:00",
          "2015-01-28 19:00:00",
          "2015-01-28 20:00:00",
          "2015-01-28 21:00:00",
          "2015-01-28 22:00:00",
          "2015-01-28 23:00:00",
          "2015-01-29 00:00:00",
          "2015-01-29 01:00:00",
          "2015-01-29 02:00:00",
          "2015-01-29 03:00:00",
          "2015-01-29 04:00:00",
          "2015-01-29 05:00:00",
          "2015-01-29 06:00:00",
          "2015-01-29 07:00:00",
          "2015-01-29 08:00:00",
          "2015-01-29 09:00:00",
          "2015-01-29 10:00:00",
          "2015-01-29 11:00:00",
          "2015-01-29 12:00:00",
          "2015-01-29 13:00:00",
          "2015-01-29 14:00:00",
          "2015-01-29 15:00:00",
          "2015-01-29 16:00:00",
          "2015-01-29 17:00:00",
          "2015-01-29 18:00:00",
          "2015-01-29 19:00:00",
          "2015-01-29 20:00:00",
          "2015-01-29 21:00:00",
          "2015-01-29 22:00:00",
          "2015-01-29 23:00:00",
          "2015-01-30 00:00:00",
          "2015-01-30 01:00:00",
          "2015-01-30 02:00:00",
          "2015-01-30 03:00:00",
          "2015-01-30 04:00:00",
          "2015-01-30 05:00:00",
          "2015-01-30 06:00:00",
          "2015-01-30 07:00:00",
          "2015-01-30 08:00:00",
          "2015-01-30 09:00:00",
          "2015-01-30 10:00:00",
          "2015-01-30 11:00:00",
          "2015-01-30 12:00:00",
          "2015-01-30 13:00:00",
          "2015-01-30 14:00:00",
          "2015-01-30 15:00:00",
          "2015-01-30 16:00:00",
          "2015-01-30 17:00:00",
          "2015-01-30 18:00:00",
          "2015-01-30 19:00:00",
          "2015-01-30 20:00:00",
          "2015-01-30 21:00:00",
          "2015-01-30 22:00:00",
          "2015-01-30 23:00:00",
          "2015-01-31 00:00:00",
          "2015-01-31 01:00:00",
          "2015-01-31 02:00:00",
          "2015-01-31 03:00:00",
          "2015-01-31 04:00:00",
          "2015-01-31 05:00:00",
          "2015-01-31 06:00:00",
          "2015-01-31 07:00:00",
          "2015-01-31 08:00:00",
          "2015-01-31 09:00:00",
          "2015-01-31 10:00:00",
          "2015-01-31 11:00:00",
          "2015-01-31 12:00:00",
          "2015-01-31 13:00:00",
          "2015-01-31 14:00:00",
          "2015-01-31 15:00:00",
          "2015-01-31 16:00:00",
          "2015-01-31 17:00:00",
          "2015-01-31 18:00:00",
          "2015-01-31 19:00:00",
          "2015-01-31 20:00:00",
          "2015-01-31 21:00:00",
          "2015-01-31 22:00:00",
          "2015-01-31 23:00:00"
         ],
         "y": [
          26114.079999999994,
          21878.181999999993,
          18070.60199999999,
          13857.097999999993,
          8623.186000000005,
          4185.075999999999,
          4814.344,
          7428.088,
          12363.042000000001,
          16129.858000000002,
          19384.717999999997,
          22116.367999999995,
          23684.172,
          23899.57600000001,
          23857.73,
          23364.558,
          21624.050000000003,
          23328.035999999993,
          27662.852000000003,
          28266.255999999994,
          25454.38399999999,
          25061.561999999994,
          26984.637999999995,
          27549.95,
          26931.319999999992,
          23341.18999999999,
          19805.313999999988,
          15172.097999999996,
          9133.207999999997,
          4146.452000000002,
          4271.209999999997,
          5923.667999999999,
          10018.238,
          14158.507999999993,
          18828.75200000001,
          22500.935999999998,
          24191.016000000003,
          24380.402,
          24344.449999999997,
          22857.819999999996,
          20662.704000000005,
          20864.164,
          21786.499999999993,
          19054.536000000007,
          16833.719999999994,
          16430.158,
          16672.025999999998,
          14948.880000000001,
          10010.751999999999,
          6975.0819999999985,
          4833.778000000001,
          3525.686000000001,
          3091.506,
          3901.6960000000004,
          7720.239999999995,
          12055.865999999998,
          16035.424000000006,
          16714.510000000002,
          16919.327999999994,
          17626.44,
          18938.557999999997,
          19266.403999999995,
          20168.128000000008,
          20141.724000000002,
          18555.664,
          20547.376000000004,
          22618.95799999999,
          21617.275999999994,
          19045.003999999997,
          17815.22,
          15539.846000000001,
          11167.11,
          7996.79,
          3918.362,
          2265.116,
          854.446,
          1012.3019999999999,
          2583.6540000000005,
          9925.971999999998,
          19016.107999999997,
          23398.184,
          22454.793999999998,
          19459.59000000001,
          18916.644000000008,
          19349.736000000004,
          19237.65399999999,
          20551.013999999992,
          20264.593999999994,
          17723.754000000004,
          21442.500000000004,
          27265.956000000013,
          27107.76600000001,
          25572.15199999999,
          25338.962000000003,
          22698.13999999999,
          16203.596,
          10376.602000000006,
          6416.819999999999,
          4138.948,
          2895.8860000000013,
          2688.5680000000007,
          4138.589999999999,
          11310.923999999995,
          20894.447999999997,
          24793.631999999994,
          22891.58000000001,
          20097.156,
          19507.635999999995,
          20164.66,
          19815.06,
          21140.782000000003,
          20657.564000000002,
          17667.811999999994,
          21972.812000000016,
          28076.399999999987,
          28566.804,
          26710.665999999997,
          26575.137999999995,
          24454.336000000007,
          17973.320000000003,
          11383.784000000001,
          7116.124000000001,
          4415.593999999996,
          3189.4700000000007,
          2863.9639999999995,
          4174.450000000001,
          11385.829999999998,
          20950.95200000001,
          24817.685999999998,
          22947.678,
          19980.710000000003,
          19563.09,
          20395.228000000006,
          19917.547999999995,
          21379.237999999994,
          20916.674,
          17766.735999999997,
          22078.496000000006,
          28375.69999999999,
          29793.702000000005,
          28058.990000000016,
          28100.84399999999,
          27176.616000000005,
          23128.543999999994,
          15179.352,
          9673.435999999996,
          6496.3640000000005,
          4330.15,
          3593.1859999999997,
          4411.896000000002,
          11201.032000000001,
          20431.946,
          23879.19199999999,
          22646.604000000007,
          19870.160000000003,
          19755.256000000005,
          20569.063999999995,
          20411.522,
          21919.868000000006,
          21013.532000000003,
          17901.08,
          22438.365999999998,
          28709.796,
          30314.793999999998,
          28080.78200000001,
          27458.827999999994,
          28273.538000000015,
          27580.418,
          26113.145999999997,
          21872.57,
          18068.13,
          13861.515999999998,
          8625.386000000004,
          4159.9259999999995,
          4819.508000000002,
          7413.446000000004,
          12361.386,
          16127.806000000004,
          19402.927999999996,
          22129.007999999998,
          23712.11800000001,
          23908.40600000001,
          23865.161999999997,
          23372.65799999999,
          21635.138,
          23333.40199999999,
          27671.600000000013,
          28278.632000000005,
          25457.390000000007,
          25068.007999999983,
          26981.526000000005,
          27557.827999999994
         ]
        },
        {
         "line": {
          "color": "rgba(128, 0, 128, 1.0)",
          "dash": "solid",
          "shape": "linear",
          "width": 1.3
         },
         "mode": "lines",
         "name": "xgb_pred",
         "text": "",
         "type": "scatter",
         "x": [
          "2015-01-24 00:00:00",
          "2015-01-24 01:00:00",
          "2015-01-24 02:00:00",
          "2015-01-24 03:00:00",
          "2015-01-24 04:00:00",
          "2015-01-24 05:00:00",
          "2015-01-24 06:00:00",
          "2015-01-24 07:00:00",
          "2015-01-24 08:00:00",
          "2015-01-24 09:00:00",
          "2015-01-24 10:00:00",
          "2015-01-24 11:00:00",
          "2015-01-24 12:00:00",
          "2015-01-24 13:00:00",
          "2015-01-24 14:00:00",
          "2015-01-24 15:00:00",
          "2015-01-24 16:00:00",
          "2015-01-24 17:00:00",
          "2015-01-24 18:00:00",
          "2015-01-24 19:00:00",
          "2015-01-24 20:00:00",
          "2015-01-24 21:00:00",
          "2015-01-24 22:00:00",
          "2015-01-24 23:00:00",
          "2015-01-25 00:00:00",
          "2015-01-25 01:00:00",
          "2015-01-25 02:00:00",
          "2015-01-25 03:00:00",
          "2015-01-25 04:00:00",
          "2015-01-25 05:00:00",
          "2015-01-25 06:00:00",
          "2015-01-25 07:00:00",
          "2015-01-25 08:00:00",
          "2015-01-25 09:00:00",
          "2015-01-25 10:00:00",
          "2015-01-25 11:00:00",
          "2015-01-25 12:00:00",
          "2015-01-25 13:00:00",
          "2015-01-25 14:00:00",
          "2015-01-25 15:00:00",
          "2015-01-25 16:00:00",
          "2015-01-25 17:00:00",
          "2015-01-25 18:00:00",
          "2015-01-25 19:00:00",
          "2015-01-25 20:00:00",
          "2015-01-25 21:00:00",
          "2015-01-25 22:00:00",
          "2015-01-25 23:00:00",
          "2015-01-26 00:00:00",
          "2015-01-26 01:00:00",
          "2015-01-26 02:00:00",
          "2015-01-26 03:00:00",
          "2015-01-26 04:00:00",
          "2015-01-26 05:00:00",
          "2015-01-26 06:00:00",
          "2015-01-26 07:00:00",
          "2015-01-26 08:00:00",
          "2015-01-26 09:00:00",
          "2015-01-26 10:00:00",
          "2015-01-26 11:00:00",
          "2015-01-26 12:00:00",
          "2015-01-26 13:00:00",
          "2015-01-26 14:00:00",
          "2015-01-26 15:00:00",
          "2015-01-26 16:00:00",
          "2015-01-26 17:00:00",
          "2015-01-26 18:00:00",
          "2015-01-26 19:00:00",
          "2015-01-26 20:00:00",
          "2015-01-26 21:00:00",
          "2015-01-26 22:00:00",
          "2015-01-26 23:00:00",
          "2015-01-27 00:00:00",
          "2015-01-27 01:00:00",
          "2015-01-27 02:00:00",
          "2015-01-27 03:00:00",
          "2015-01-27 04:00:00",
          "2015-01-27 05:00:00",
          "2015-01-27 06:00:00",
          "2015-01-27 07:00:00",
          "2015-01-27 08:00:00",
          "2015-01-27 09:00:00",
          "2015-01-27 10:00:00",
          "2015-01-27 11:00:00",
          "2015-01-27 12:00:00",
          "2015-01-27 13:00:00",
          "2015-01-27 14:00:00",
          "2015-01-27 15:00:00",
          "2015-01-27 16:00:00",
          "2015-01-27 17:00:00",
          "2015-01-27 18:00:00",
          "2015-01-27 19:00:00",
          "2015-01-27 20:00:00",
          "2015-01-27 21:00:00",
          "2015-01-27 22:00:00",
          "2015-01-27 23:00:00",
          "2015-01-28 00:00:00",
          "2015-01-28 01:00:00",
          "2015-01-28 02:00:00",
          "2015-01-28 03:00:00",
          "2015-01-28 04:00:00",
          "2015-01-28 05:00:00",
          "2015-01-28 06:00:00",
          "2015-01-28 07:00:00",
          "2015-01-28 08:00:00",
          "2015-01-28 09:00:00",
          "2015-01-28 10:00:00",
          "2015-01-28 11:00:00",
          "2015-01-28 12:00:00",
          "2015-01-28 13:00:00",
          "2015-01-28 14:00:00",
          "2015-01-28 15:00:00",
          "2015-01-28 16:00:00",
          "2015-01-28 17:00:00",
          "2015-01-28 18:00:00",
          "2015-01-28 19:00:00",
          "2015-01-28 20:00:00",
          "2015-01-28 21:00:00",
          "2015-01-28 22:00:00",
          "2015-01-28 23:00:00",
          "2015-01-29 00:00:00",
          "2015-01-29 01:00:00",
          "2015-01-29 02:00:00",
          "2015-01-29 03:00:00",
          "2015-01-29 04:00:00",
          "2015-01-29 05:00:00",
          "2015-01-29 06:00:00",
          "2015-01-29 07:00:00",
          "2015-01-29 08:00:00",
          "2015-01-29 09:00:00",
          "2015-01-29 10:00:00",
          "2015-01-29 11:00:00",
          "2015-01-29 12:00:00",
          "2015-01-29 13:00:00",
          "2015-01-29 14:00:00",
          "2015-01-29 15:00:00",
          "2015-01-29 16:00:00",
          "2015-01-29 17:00:00",
          "2015-01-29 18:00:00",
          "2015-01-29 19:00:00",
          "2015-01-29 20:00:00",
          "2015-01-29 21:00:00",
          "2015-01-29 22:00:00",
          "2015-01-29 23:00:00",
          "2015-01-30 00:00:00",
          "2015-01-30 01:00:00",
          "2015-01-30 02:00:00",
          "2015-01-30 03:00:00",
          "2015-01-30 04:00:00",
          "2015-01-30 05:00:00",
          "2015-01-30 06:00:00",
          "2015-01-30 07:00:00",
          "2015-01-30 08:00:00",
          "2015-01-30 09:00:00",
          "2015-01-30 10:00:00",
          "2015-01-30 11:00:00",
          "2015-01-30 12:00:00",
          "2015-01-30 13:00:00",
          "2015-01-30 14:00:00",
          "2015-01-30 15:00:00",
          "2015-01-30 16:00:00",
          "2015-01-30 17:00:00",
          "2015-01-30 18:00:00",
          "2015-01-30 19:00:00",
          "2015-01-30 20:00:00",
          "2015-01-30 21:00:00",
          "2015-01-30 22:00:00",
          "2015-01-30 23:00:00",
          "2015-01-31 00:00:00",
          "2015-01-31 01:00:00",
          "2015-01-31 02:00:00",
          "2015-01-31 03:00:00",
          "2015-01-31 04:00:00",
          "2015-01-31 05:00:00",
          "2015-01-31 06:00:00",
          "2015-01-31 07:00:00",
          "2015-01-31 08:00:00",
          "2015-01-31 09:00:00",
          "2015-01-31 10:00:00",
          "2015-01-31 11:00:00",
          "2015-01-31 12:00:00",
          "2015-01-31 13:00:00",
          "2015-01-31 14:00:00",
          "2015-01-31 15:00:00",
          "2015-01-31 16:00:00",
          "2015-01-31 17:00:00",
          "2015-01-31 18:00:00",
          "2015-01-31 19:00:00",
          "2015-01-31 20:00:00",
          "2015-01-31 21:00:00",
          "2015-01-31 22:00:00",
          "2015-01-31 23:00:00"
         ],
         "y": [
          26304.00390625,
          22128.26953125,
          17268.328125,
          12461.89453125,
          7395.8203125,
          5343.73046875,
          6059.7060546875,
          11996.375,
          15069.6328125,
          18171.21484375,
          20302.93359375,
          22028.203125,
          22829.373046875,
          23550.474609375,
          23670.044921875,
          23263.775390625,
          21405.1171875,
          24009.771484375,
          29141.443359375,
          29981.26953125,
          28620.068359375,
          28079.96484375,
          28510.859375,
          28865.5859375,
          27700.0625,
          23626.021484375,
          19065.14453125,
          14186.1064453125,
          8780.7236328125,
          6000.6904296875,
          5423.669921875,
          9111.787109375,
          12187.7265625,
          15131.58203125,
          20174.6171875,
          21677.591796875,
          22749.62890625,
          23047.119140625,
          23249.634765625,
          22427.88671875,
          19873.146484375,
          20901.39453125,
          23008.18359375,
          20411.00390625,
          17822.296875,
          16813.41015625,
          17352.888671875,
          14931.09765625,
          10823.0126953125,
          6963.79345703125,
          4913.08935546875,
          2998.498291015625,
          2394.976318359375,
          3782.5810546875,
          7175.81201171875,
          15539.89453125,
          19053.9765625,
          18336.30078125,
          17416.953125,
          17256.701171875,
          18033.01171875,
          17906.689453125,
          19047.064453125,
          18894.138671875,
          16226.9140625,
          19442.828125,
          24380.396484375,
          23928.892578125,
          21248.53515625,
          19852.578125,
          15945.095703125,
          10833.044921875,
          8107.21484375,
          3883.4619140625,
          2110.861328125,
          928.09765625,
          1230.4267578125,
          2876.025390625,
          10383.9501953125,
          19869.869140625,
          24447.21875,
          23596.322265625,
          19399.333984375,
          18938.69921875,
          19597.8671875,
          19503.060546875,
          20509.49609375,
          20157.720703125,
          17485.74609375,
          21652.306640625,
          27625.435546875,
          27939.927734375,
          26295.34765625,
          26195.904296875,
          23946.4140625,
          17123.41796875,
          11152.7744140625,
          6308.81787109375,
          4065.52197265625,
          3145.073486328125,
          2951.826904296875,
          4462.990234375,
          12607.3857421875,
          22071.63671875,
          25788.751953125,
          23987.775390625,
          20027.21875,
          19508.498046875,
          20160.951171875,
          20035.599609375,
          21091.271484375,
          20726.46875,
          17715.2890625,
          21932.7890625,
          28271.197265625,
          29148.556640625,
          27476.421875,
          27287.3359375,
          25288.830078125,
          18758.189453125,
          11732.1767578125,
          6915.171875,
          4477.1904296875,
          3444.404052734375,
          3165.6044921875,
          4617.40380859375,
          12517.4306640625,
          21613.45703125,
          25108.208984375,
          23899.0234375,
          20024.912109375,
          19493.09375,
          20146.884765625,
          20016.34765625,
          21096.189453125,
          20694.228515625,
          17774.3515625,
          22034.01171875,
          28647.3984375,
          29547.892578125,
          27975.66796875,
          27818.83984375,
          27281.48828125,
          22782.361328125,
          15303.3037109375,
          10064.64453125,
          6813.18701171875,
          4292.88671875,
          3800.8076171875,
          4757.68115234375,
          11409.5224609375,
          19973.123046875,
          23633.7421875,
          22541.1953125,
          19786.564453125,
          19769.185546875,
          20543.40625,
          20462.8125,
          21569.859375,
          21171.1796875,
          17885.642578125,
          22144.177734375,
          28810.705078125,
          29797.505859375,
          28218.67578125,
          28002.498046875,
          28145.177734375,
          28204.462890625,
          26243.90625,
          22061.837890625,
          17197.919921875,
          12428.1318359375,
          7408.4814453125,
          5315.80810546875,
          6053.48291015625,
          12044.28515625,
          15026.962890625,
          18188.978515625,
          20316.6015625,
          22035.9453125,
          22927.32421875,
          23614.751953125,
          23654.763671875,
          23318.951171875,
          21464.42578125,
          23987.259765625,
          29117.73828125,
          30009.962890625,
          28605.080078125,
          28092.611328125,
          28512.888671875,
          28900.646484375
         ]
        },
        {
         "line": {
          "color": "rgba(219, 64, 82, 1.0)",
          "dash": "solid",
          "shape": "linear",
          "width": 1.3
         },
         "mode": "lines",
         "name": "lgbm_pred",
         "text": "",
         "type": "scatter",
         "x": [
          "2015-01-24 00:00:00",
          "2015-01-24 01:00:00",
          "2015-01-24 02:00:00",
          "2015-01-24 03:00:00",
          "2015-01-24 04:00:00",
          "2015-01-24 05:00:00",
          "2015-01-24 06:00:00",
          "2015-01-24 07:00:00",
          "2015-01-24 08:00:00",
          "2015-01-24 09:00:00",
          "2015-01-24 10:00:00",
          "2015-01-24 11:00:00",
          "2015-01-24 12:00:00",
          "2015-01-24 13:00:00",
          "2015-01-24 14:00:00",
          "2015-01-24 15:00:00",
          "2015-01-24 16:00:00",
          "2015-01-24 17:00:00",
          "2015-01-24 18:00:00",
          "2015-01-24 19:00:00",
          "2015-01-24 20:00:00",
          "2015-01-24 21:00:00",
          "2015-01-24 22:00:00",
          "2015-01-24 23:00:00",
          "2015-01-25 00:00:00",
          "2015-01-25 01:00:00",
          "2015-01-25 02:00:00",
          "2015-01-25 03:00:00",
          "2015-01-25 04:00:00",
          "2015-01-25 05:00:00",
          "2015-01-25 06:00:00",
          "2015-01-25 07:00:00",
          "2015-01-25 08:00:00",
          "2015-01-25 09:00:00",
          "2015-01-25 10:00:00",
          "2015-01-25 11:00:00",
          "2015-01-25 12:00:00",
          "2015-01-25 13:00:00",
          "2015-01-25 14:00:00",
          "2015-01-25 15:00:00",
          "2015-01-25 16:00:00",
          "2015-01-25 17:00:00",
          "2015-01-25 18:00:00",
          "2015-01-25 19:00:00",
          "2015-01-25 20:00:00",
          "2015-01-25 21:00:00",
          "2015-01-25 22:00:00",
          "2015-01-25 23:00:00",
          "2015-01-26 00:00:00",
          "2015-01-26 01:00:00",
          "2015-01-26 02:00:00",
          "2015-01-26 03:00:00",
          "2015-01-26 04:00:00",
          "2015-01-26 05:00:00",
          "2015-01-26 06:00:00",
          "2015-01-26 07:00:00",
          "2015-01-26 08:00:00",
          "2015-01-26 09:00:00",
          "2015-01-26 10:00:00",
          "2015-01-26 11:00:00",
          "2015-01-26 12:00:00",
          "2015-01-26 13:00:00",
          "2015-01-26 14:00:00",
          "2015-01-26 15:00:00",
          "2015-01-26 16:00:00",
          "2015-01-26 17:00:00",
          "2015-01-26 18:00:00",
          "2015-01-26 19:00:00",
          "2015-01-26 20:00:00",
          "2015-01-26 21:00:00",
          "2015-01-26 22:00:00",
          "2015-01-26 23:00:00",
          "2015-01-27 00:00:00",
          "2015-01-27 01:00:00",
          "2015-01-27 02:00:00",
          "2015-01-27 03:00:00",
          "2015-01-27 04:00:00",
          "2015-01-27 05:00:00",
          "2015-01-27 06:00:00",
          "2015-01-27 07:00:00",
          "2015-01-27 08:00:00",
          "2015-01-27 09:00:00",
          "2015-01-27 10:00:00",
          "2015-01-27 11:00:00",
          "2015-01-27 12:00:00",
          "2015-01-27 13:00:00",
          "2015-01-27 14:00:00",
          "2015-01-27 15:00:00",
          "2015-01-27 16:00:00",
          "2015-01-27 17:00:00",
          "2015-01-27 18:00:00",
          "2015-01-27 19:00:00",
          "2015-01-27 20:00:00",
          "2015-01-27 21:00:00",
          "2015-01-27 22:00:00",
          "2015-01-27 23:00:00",
          "2015-01-28 00:00:00",
          "2015-01-28 01:00:00",
          "2015-01-28 02:00:00",
          "2015-01-28 03:00:00",
          "2015-01-28 04:00:00",
          "2015-01-28 05:00:00",
          "2015-01-28 06:00:00",
          "2015-01-28 07:00:00",
          "2015-01-28 08:00:00",
          "2015-01-28 09:00:00",
          "2015-01-28 10:00:00",
          "2015-01-28 11:00:00",
          "2015-01-28 12:00:00",
          "2015-01-28 13:00:00",
          "2015-01-28 14:00:00",
          "2015-01-28 15:00:00",
          "2015-01-28 16:00:00",
          "2015-01-28 17:00:00",
          "2015-01-28 18:00:00",
          "2015-01-28 19:00:00",
          "2015-01-28 20:00:00",
          "2015-01-28 21:00:00",
          "2015-01-28 22:00:00",
          "2015-01-28 23:00:00",
          "2015-01-29 00:00:00",
          "2015-01-29 01:00:00",
          "2015-01-29 02:00:00",
          "2015-01-29 03:00:00",
          "2015-01-29 04:00:00",
          "2015-01-29 05:00:00",
          "2015-01-29 06:00:00",
          "2015-01-29 07:00:00",
          "2015-01-29 08:00:00",
          "2015-01-29 09:00:00",
          "2015-01-29 10:00:00",
          "2015-01-29 11:00:00",
          "2015-01-29 12:00:00",
          "2015-01-29 13:00:00",
          "2015-01-29 14:00:00",
          "2015-01-29 15:00:00",
          "2015-01-29 16:00:00",
          "2015-01-29 17:00:00",
          "2015-01-29 18:00:00",
          "2015-01-29 19:00:00",
          "2015-01-29 20:00:00",
          "2015-01-29 21:00:00",
          "2015-01-29 22:00:00",
          "2015-01-29 23:00:00",
          "2015-01-30 00:00:00",
          "2015-01-30 01:00:00",
          "2015-01-30 02:00:00",
          "2015-01-30 03:00:00",
          "2015-01-30 04:00:00",
          "2015-01-30 05:00:00",
          "2015-01-30 06:00:00",
          "2015-01-30 07:00:00",
          "2015-01-30 08:00:00",
          "2015-01-30 09:00:00",
          "2015-01-30 10:00:00",
          "2015-01-30 11:00:00",
          "2015-01-30 12:00:00",
          "2015-01-30 13:00:00",
          "2015-01-30 14:00:00",
          "2015-01-30 15:00:00",
          "2015-01-30 16:00:00",
          "2015-01-30 17:00:00",
          "2015-01-30 18:00:00",
          "2015-01-30 19:00:00",
          "2015-01-30 20:00:00",
          "2015-01-30 21:00:00",
          "2015-01-30 22:00:00",
          "2015-01-30 23:00:00",
          "2015-01-31 00:00:00",
          "2015-01-31 01:00:00",
          "2015-01-31 02:00:00",
          "2015-01-31 03:00:00",
          "2015-01-31 04:00:00",
          "2015-01-31 05:00:00",
          "2015-01-31 06:00:00",
          "2015-01-31 07:00:00",
          "2015-01-31 08:00:00",
          "2015-01-31 09:00:00",
          "2015-01-31 10:00:00",
          "2015-01-31 11:00:00",
          "2015-01-31 12:00:00",
          "2015-01-31 13:00:00",
          "2015-01-31 14:00:00",
          "2015-01-31 15:00:00",
          "2015-01-31 16:00:00",
          "2015-01-31 17:00:00",
          "2015-01-31 18:00:00",
          "2015-01-31 19:00:00",
          "2015-01-31 20:00:00",
          "2015-01-31 21:00:00",
          "2015-01-31 22:00:00",
          "2015-01-31 23:00:00"
         ],
         "y": [
          25841.056375665245,
          22203.564677514845,
          17415.697154838566,
          12632.975078364663,
          7776.4868184278,
          4709.42508585426,
          6941.5695373722365,
          12234.588143251149,
          15392.114532999583,
          17239.7749833398,
          18822.52552606786,
          21190.11089263568,
          22593.043407456993,
          22901.66046657966,
          23091.587694440936,
          22967.68845042112,
          21855.080084058063,
          23746.340543224927,
          28983.537451951957,
          29554.652395676254,
          28119.082921095705,
          27640.17315024661,
          27682.02540325768,
          27451.82995122439,
          26649.055237221604,
          23538.66448938196,
          18997.8833051894,
          13539.360600942226,
          8469.45682185806,
          4849.229735765731,
          3745.020762252373,
          7107.692971634537,
          10216.306761845985,
          13644.47034583161,
          18830.203767423638,
          21254.970659857136,
          22745.98647815526,
          22881.438586947177,
          23046.19028422226,
          22847.043115296387,
          20901.887186603166,
          21255.183185846538,
          21808.025382750147,
          20333.639808646636,
          17699.0571048979,
          16810.037267451946,
          16237.310904702874,
          14030.279530371918,
          9866.290723337966,
          5937.988190556168,
          3944.8211488468205,
          3118.944575687652,
          2924.245804592625,
          3351.8016053452884,
          8703.708035294432,
          14452.49923329536,
          17740.75248766817,
          18170.90847260513,
          17087.926040210055,
          17458.76960263353,
          18281.817574793477,
          18387.151685088265,
          18943.786859198688,
          18981.679925430934,
          17949.207294425363,
          19813.70313419732,
          23143.1617352022,
          23348.631732354337,
          20595.879137556843,
          19346.84411399812,
          16460.860145426534,
          11543.40086832035,
          8080.024581396978,
          4063.054313349537,
          2394.439423048523,
          1145.985059514127,
          1396.0724902745126,
          2566.4095873277574,
          9527.884614105058,
          18447.17708284188,
          22463.922014246717,
          22868.50216532525,
          19841.76299807106,
          19357.5435861273,
          20122.875690085075,
          20258.037900410258,
          20838.780462680454,
          20780.41754575672,
          18343.339698012085,
          21925.5430738149,
          27358.39761128438,
          27631.018247333384,
          26072.026067397594,
          25393.997194538613,
          23588.398756591745,
          17019.428555730916,
          9929.746407137669,
          5968.924675187138,
          3905.749606272471,
          3299.3442561255865,
          3143.706292454748,
          3784.2266940332966,
          11617.910774054097,
          20257.760701649422,
          23601.0809459343,
          23087.70703894216,
          20274.69218625913,
          19677.952339528914,
          20454.613581567348,
          20543.691816610964,
          21193.689634923023,
          21266.411808253313,
          18607.443167050526,
          22203.25423344979,
          27997.794535571586,
          28512.97502139711,
          26809.272003178674,
          26208.067719772054,
          24928.26979815918,
          18747.990691166968,
          11544.353636523938,
          7088.788437376855,
          4408.386097561165,
          3341.38431606033,
          3217.6906902522655,
          3747.8626289350655,
          11540.486610720865,
          20058.880228328988,
          23243.242483027843,
          22963.071487037203,
          20222.566772041602,
          19742.579884114242,
          20458.41503931953,
          20606.821358542617,
          21183.348401920244,
          21185.062141724782,
          18575.59440221124,
          22231.009060430697,
          28187.596910086475,
          28924.85599167848,
          27432.0366132843,
          27008.72196279023,
          26313.1107542793,
          22803.595399644197,
          14393.88439858215,
          9549.928679934026,
          6516.602119616591,
          4194.526905890456,
          3805.9618974035548,
          4033.047571857619,
          11441.9736468543,
          19241.035185753,
          22524.87431689441,
          22428.36283888588,
          20173.97985086422,
          20004.995470134854,
          20912.186112849926,
          21024.92641223398,
          21655.090340138413,
          21688.76234511551,
          19034.918234514524,
          22792.542016348598,
          28905.575853465085,
          29747.30188112418,
          28330.325476458274,
          27937.888798176715,
          27710.892170054587,
          27362.174075122766,
          25788.779352384383,
          22165.149696466855,
          17406.237444072016,
          12643.1256946754,
          7806.7899205020785,
          4694.287936154134,
          6979.4536060715955,
          12178.01589257683,
          15450.378322319499,
          17225.319979855038,
          18875.307193759978,
          21211.055725844333,
          22720.417194388625,
          22968.827191325185,
          23091.176090489233,
          23011.831266486854,
          21955.45302319564,
          23726.739325567418,
          28958.127208240396,
          29601.979075368567,
          28144.663097570894,
          27672.51675871098,
          27647.34278416396,
          27515.832115279107
         ]
        }
       ],
       "layout": {
        "legend": {
         "bgcolor": "#F5F6F9",
         "font": {
          "color": "#4D5663"
         }
        },
        "paper_bgcolor": "#F5F6F9",
        "plot_bgcolor": "#F5F6F9",
        "template": {
         "data": {
          "bar": [
           {
            "error_x": {
             "color": "#2a3f5f"
            },
            "error_y": {
             "color": "#2a3f5f"
            },
            "marker": {
             "line": {
              "color": "#E5ECF6",
              "width": 0.5
             }
            },
            "type": "bar"
           }
          ],
          "barpolar": [
           {
            "marker": {
             "line": {
              "color": "#E5ECF6",
              "width": 0.5
             }
            },
            "type": "barpolar"
           }
          ],
          "carpet": [
           {
            "aaxis": {
             "endlinecolor": "#2a3f5f",
             "gridcolor": "white",
             "linecolor": "white",
             "minorgridcolor": "white",
             "startlinecolor": "#2a3f5f"
            },
            "baxis": {
             "endlinecolor": "#2a3f5f",
             "gridcolor": "white",
             "linecolor": "white",
             "minorgridcolor": "white",
             "startlinecolor": "#2a3f5f"
            },
            "type": "carpet"
           }
          ],
          "choropleth": [
           {
            "colorbar": {
             "outlinewidth": 0,
             "ticks": ""
            },
            "type": "choropleth"
           }
          ],
          "contour": [
           {
            "colorbar": {
             "outlinewidth": 0,
             "ticks": ""
            },
            "colorscale": [
             [
              0,
              "#0d0887"
             ],
             [
              0.1111111111111111,
              "#46039f"
             ],
             [
              0.2222222222222222,
              "#7201a8"
             ],
             [
              0.3333333333333333,
              "#9c179e"
             ],
             [
              0.4444444444444444,
              "#bd3786"
             ],
             [
              0.5555555555555556,
              "#d8576b"
             ],
             [
              0.6666666666666666,
              "#ed7953"
             ],
             [
              0.7777777777777778,
              "#fb9f3a"
             ],
             [
              0.8888888888888888,
              "#fdca26"
             ],
             [
              1,
              "#f0f921"
             ]
            ],
            "type": "contour"
           }
          ],
          "contourcarpet": [
           {
            "colorbar": {
             "outlinewidth": 0,
             "ticks": ""
            },
            "type": "contourcarpet"
           }
          ],
          "heatmap": [
           {
            "colorbar": {
             "outlinewidth": 0,
             "ticks": ""
            },
            "colorscale": [
             [
              0,
              "#0d0887"
             ],
             [
              0.1111111111111111,
              "#46039f"
             ],
             [
              0.2222222222222222,
              "#7201a8"
             ],
             [
              0.3333333333333333,
              "#9c179e"
             ],
             [
              0.4444444444444444,
              "#bd3786"
             ],
             [
              0.5555555555555556,
              "#d8576b"
             ],
             [
              0.6666666666666666,
              "#ed7953"
             ],
             [
              0.7777777777777778,
              "#fb9f3a"
             ],
             [
              0.8888888888888888,
              "#fdca26"
             ],
             [
              1,
              "#f0f921"
             ]
            ],
            "type": "heatmap"
           }
          ],
          "heatmapgl": [
           {
            "colorbar": {
             "outlinewidth": 0,
             "ticks": ""
            },
            "colorscale": [
             [
              0,
              "#0d0887"
             ],
             [
              0.1111111111111111,
              "#46039f"
             ],
             [
              0.2222222222222222,
              "#7201a8"
             ],
             [
              0.3333333333333333,
              "#9c179e"
             ],
             [
              0.4444444444444444,
              "#bd3786"
             ],
             [
              0.5555555555555556,
              "#d8576b"
             ],
             [
              0.6666666666666666,
              "#ed7953"
             ],
             [
              0.7777777777777778,
              "#fb9f3a"
             ],
             [
              0.8888888888888888,
              "#fdca26"
             ],
             [
              1,
              "#f0f921"
             ]
            ],
            "type": "heatmapgl"
           }
          ],
          "histogram": [
           {
            "marker": {
             "colorbar": {
              "outlinewidth": 0,
              "ticks": ""
             }
            },
            "type": "histogram"
           }
          ],
          "histogram2d": [
           {
            "colorbar": {
             "outlinewidth": 0,
             "ticks": ""
            },
            "colorscale": [
             [
              0,
              "#0d0887"
             ],
             [
              0.1111111111111111,
              "#46039f"
             ],
             [
              0.2222222222222222,
              "#7201a8"
             ],
             [
              0.3333333333333333,
              "#9c179e"
             ],
             [
              0.4444444444444444,
              "#bd3786"
             ],
             [
              0.5555555555555556,
              "#d8576b"
             ],
             [
              0.6666666666666666,
              "#ed7953"
             ],
             [
              0.7777777777777778,
              "#fb9f3a"
             ],
             [
              0.8888888888888888,
              "#fdca26"
             ],
             [
              1,
              "#f0f921"
             ]
            ],
            "type": "histogram2d"
           }
          ],
          "histogram2dcontour": [
           {
            "colorbar": {
             "outlinewidth": 0,
             "ticks": ""
            },
            "colorscale": [
             [
              0,
              "#0d0887"
             ],
             [
              0.1111111111111111,
              "#46039f"
             ],
             [
              0.2222222222222222,
              "#7201a8"
             ],
             [
              0.3333333333333333,
              "#9c179e"
             ],
             [
              0.4444444444444444,
              "#bd3786"
             ],
             [
              0.5555555555555556,
              "#d8576b"
             ],
             [
              0.6666666666666666,
              "#ed7953"
             ],
             [
              0.7777777777777778,
              "#fb9f3a"
             ],
             [
              0.8888888888888888,
              "#fdca26"
             ],
             [
              1,
              "#f0f921"
             ]
            ],
            "type": "histogram2dcontour"
           }
          ],
          "mesh3d": [
           {
            "colorbar": {
             "outlinewidth": 0,
             "ticks": ""
            },
            "type": "mesh3d"
           }
          ],
          "parcoords": [
           {
            "line": {
             "colorbar": {
              "outlinewidth": 0,
              "ticks": ""
             }
            },
            "type": "parcoords"
           }
          ],
          "pie": [
           {
            "automargin": true,
            "type": "pie"
           }
          ],
          "scatter": [
           {
            "marker": {
             "colorbar": {
              "outlinewidth": 0,
              "ticks": ""
             }
            },
            "type": "scatter"
           }
          ],
          "scatter3d": [
           {
            "line": {
             "colorbar": {
              "outlinewidth": 0,
              "ticks": ""
             }
            },
            "marker": {
             "colorbar": {
              "outlinewidth": 0,
              "ticks": ""
             }
            },
            "type": "scatter3d"
           }
          ],
          "scattercarpet": [
           {
            "marker": {
             "colorbar": {
              "outlinewidth": 0,
              "ticks": ""
             }
            },
            "type": "scattercarpet"
           }
          ],
          "scattergeo": [
           {
            "marker": {
             "colorbar": {
              "outlinewidth": 0,
              "ticks": ""
             }
            },
            "type": "scattergeo"
           }
          ],
          "scattergl": [
           {
            "marker": {
             "colorbar": {
              "outlinewidth": 0,
              "ticks": ""
             }
            },
            "type": "scattergl"
           }
          ],
          "scattermapbox": [
           {
            "marker": {
             "colorbar": {
              "outlinewidth": 0,
              "ticks": ""
             }
            },
            "type": "scattermapbox"
           }
          ],
          "scatterpolar": [
           {
            "marker": {
             "colorbar": {
              "outlinewidth": 0,
              "ticks": ""
             }
            },
            "type": "scatterpolar"
           }
          ],
          "scatterpolargl": [
           {
            "marker": {
             "colorbar": {
              "outlinewidth": 0,
              "ticks": ""
             }
            },
            "type": "scatterpolargl"
           }
          ],
          "scatterternary": [
           {
            "marker": {
             "colorbar": {
              "outlinewidth": 0,
              "ticks": ""
             }
            },
            "type": "scatterternary"
           }
          ],
          "surface": [
           {
            "colorbar": {
             "outlinewidth": 0,
             "ticks": ""
            },
            "colorscale": [
             [
              0,
              "#0d0887"
             ],
             [
              0.1111111111111111,
              "#46039f"
             ],
             [
              0.2222222222222222,
              "#7201a8"
             ],
             [
              0.3333333333333333,
              "#9c179e"
             ],
             [
              0.4444444444444444,
              "#bd3786"
             ],
             [
              0.5555555555555556,
              "#d8576b"
             ],
             [
              0.6666666666666666,
              "#ed7953"
             ],
             [
              0.7777777777777778,
              "#fb9f3a"
             ],
             [
              0.8888888888888888,
              "#fdca26"
             ],
             [
              1,
              "#f0f921"
             ]
            ],
            "type": "surface"
           }
          ],
          "table": [
           {
            "cells": {
             "fill": {
              "color": "#EBF0F8"
             },
             "line": {
              "color": "white"
             }
            },
            "header": {
             "fill": {
              "color": "#C8D4E3"
             },
             "line": {
              "color": "white"
             }
            },
            "type": "table"
           }
          ]
         },
         "layout": {
          "annotationdefaults": {
           "arrowcolor": "#2a3f5f",
           "arrowhead": 0,
           "arrowwidth": 1
          },
          "coloraxis": {
           "colorbar": {
            "outlinewidth": 0,
            "ticks": ""
           }
          },
          "colorscale": {
           "diverging": [
            [
             0,
             "#8e0152"
            ],
            [
             0.1,
             "#c51b7d"
            ],
            [
             0.2,
             "#de77ae"
            ],
            [
             0.3,
             "#f1b6da"
            ],
            [
             0.4,
             "#fde0ef"
            ],
            [
             0.5,
             "#f7f7f7"
            ],
            [
             0.6,
             "#e6f5d0"
            ],
            [
             0.7,
             "#b8e186"
            ],
            [
             0.8,
             "#7fbc41"
            ],
            [
             0.9,
             "#4d9221"
            ],
            [
             1,
             "#276419"
            ]
           ],
           "sequential": [
            [
             0,
             "#0d0887"
            ],
            [
             0.1111111111111111,
             "#46039f"
            ],
            [
             0.2222222222222222,
             "#7201a8"
            ],
            [
             0.3333333333333333,
             "#9c179e"
            ],
            [
             0.4444444444444444,
             "#bd3786"
            ],
            [
             0.5555555555555556,
             "#d8576b"
            ],
            [
             0.6666666666666666,
             "#ed7953"
            ],
            [
             0.7777777777777778,
             "#fb9f3a"
            ],
            [
             0.8888888888888888,
             "#fdca26"
            ],
            [
             1,
             "#f0f921"
            ]
           ],
           "sequentialminus": [
            [
             0,
             "#0d0887"
            ],
            [
             0.1111111111111111,
             "#46039f"
            ],
            [
             0.2222222222222222,
             "#7201a8"
            ],
            [
             0.3333333333333333,
             "#9c179e"
            ],
            [
             0.4444444444444444,
             "#bd3786"
            ],
            [
             0.5555555555555556,
             "#d8576b"
            ],
            [
             0.6666666666666666,
             "#ed7953"
            ],
            [
             0.7777777777777778,
             "#fb9f3a"
            ],
            [
             0.8888888888888888,
             "#fdca26"
            ],
            [
             1,
             "#f0f921"
            ]
           ]
          },
          "colorway": [
           "#636efa",
           "#EF553B",
           "#00cc96",
           "#ab63fa",
           "#FFA15A",
           "#19d3f3",
           "#FF6692",
           "#B6E880",
           "#FF97FF",
           "#FECB52"
          ],
          "font": {
           "color": "#2a3f5f"
          },
          "geo": {
           "bgcolor": "white",
           "lakecolor": "white",
           "landcolor": "#E5ECF6",
           "showlakes": true,
           "showland": true,
           "subunitcolor": "white"
          },
          "hoverlabel": {
           "align": "left"
          },
          "hovermode": "closest",
          "mapbox": {
           "style": "light"
          },
          "paper_bgcolor": "white",
          "plot_bgcolor": "#E5ECF6",
          "polar": {
           "angularaxis": {
            "gridcolor": "white",
            "linecolor": "white",
            "ticks": ""
           },
           "bgcolor": "#E5ECF6",
           "radialaxis": {
            "gridcolor": "white",
            "linecolor": "white",
            "ticks": ""
           }
          },
          "scene": {
           "xaxis": {
            "backgroundcolor": "#E5ECF6",
            "gridcolor": "white",
            "gridwidth": 2,
            "linecolor": "white",
            "showbackground": true,
            "ticks": "",
            "zerolinecolor": "white"
           },
           "yaxis": {
            "backgroundcolor": "#E5ECF6",
            "gridcolor": "white",
            "gridwidth": 2,
            "linecolor": "white",
            "showbackground": true,
            "ticks": "",
            "zerolinecolor": "white"
           },
           "zaxis": {
            "backgroundcolor": "#E5ECF6",
            "gridcolor": "white",
            "gridwidth": 2,
            "linecolor": "white",
            "showbackground": true,
            "ticks": "",
            "zerolinecolor": "white"
           }
          },
          "shapedefaults": {
           "line": {
            "color": "#2a3f5f"
           }
          },
          "ternary": {
           "aaxis": {
            "gridcolor": "white",
            "linecolor": "white",
            "ticks": ""
           },
           "baxis": {
            "gridcolor": "white",
            "linecolor": "white",
            "ticks": ""
           },
           "bgcolor": "#E5ECF6",
           "caxis": {
            "gridcolor": "white",
            "linecolor": "white",
            "ticks": ""
           }
          },
          "title": {
           "x": 0.05
          },
          "xaxis": {
           "automargin": true,
           "gridcolor": "white",
           "linecolor": "white",
           "ticks": "",
           "title": {
            "standoff": 15
           },
           "zerolinecolor": "white",
           "zerolinewidth": 2
          },
          "yaxis": {
           "automargin": true,
           "gridcolor": "white",
           "linecolor": "white",
           "ticks": "",
           "title": {
            "standoff": 15
           },
           "zerolinecolor": "white",
           "zerolinewidth": 2
          }
         }
        },
        "title": {
         "font": {
          "color": "#4D5663"
         },
         "text": "Prediction by Datetime"
        },
        "xaxis": {
         "gridcolor": "#E1E5ED",
         "showgrid": true,
         "tickfont": {
          "color": "#4D5663"
         },
         "title": {
          "font": {
           "color": "#4D5663"
          },
          "text": "Datetime"
         },
         "zerolinecolor": "#E1E5ED"
        },
        "yaxis": {
         "gridcolor": "#E1E5ED",
         "showgrid": true,
         "tickfont": {
          "color": "#4D5663"
         },
         "title": {
          "font": {
           "color": "#4D5663"
          },
          "text": "Count"
         },
         "zerolinecolor": "#E1E5ED"
        }
       }
      },
      "text/html": [
       "<div>\n",
       "        \n",
       "        \n",
       "            <div id=\"0b533d53-ded8-470e-acfa-26d2432d70df\" class=\"plotly-graph-div\" style=\"height:525px; width:100%;\"></div>\n",
       "            <script type=\"text/javascript\">\n",
       "                require([\"plotly\"], function(Plotly) {\n",
       "                    window.PLOTLYENV=window.PLOTLYENV || {};\n",
       "                    window.PLOTLYENV.BASE_URL='https://plot.ly';\n",
       "                    \n",
       "                if (document.getElementById(\"0b533d53-ded8-470e-acfa-26d2432d70df\")) {\n",
       "                    Plotly.newPlot(\n",
       "                        '0b533d53-ded8-470e-acfa-26d2432d70df',\n",
       "                        [{\"line\": {\"color\": \"rgba(255, 153, 51, 1.0)\", \"dash\": \"solid\", \"shape\": \"linear\", \"width\": 1.3}, \"mode\": \"lines\", \"name\": \"cnt\", \"text\": \"\", \"type\": \"scatter\", \"x\": [\"2015-01-24 00:00:00\", \"2015-01-24 01:00:00\", \"2015-01-24 02:00:00\", \"2015-01-24 03:00:00\", \"2015-01-24 04:00:00\", \"2015-01-24 05:00:00\", \"2015-01-24 06:00:00\", \"2015-01-24 07:00:00\", \"2015-01-24 08:00:00\", \"2015-01-24 09:00:00\", \"2015-01-24 10:00:00\", \"2015-01-24 11:00:00\", \"2015-01-24 12:00:00\", \"2015-01-24 13:00:00\", \"2015-01-24 14:00:00\", \"2015-01-24 15:00:00\", \"2015-01-24 16:00:00\", \"2015-01-24 17:00:00\", \"2015-01-24 18:00:00\", \"2015-01-24 19:00:00\", \"2015-01-24 20:00:00\", \"2015-01-24 21:00:00\", \"2015-01-24 22:00:00\", \"2015-01-24 23:00:00\", \"2015-01-25 00:00:00\", \"2015-01-25 01:00:00\", \"2015-01-25 02:00:00\", \"2015-01-25 03:00:00\", \"2015-01-25 04:00:00\", \"2015-01-25 05:00:00\", \"2015-01-25 06:00:00\", \"2015-01-25 07:00:00\", \"2015-01-25 08:00:00\", \"2015-01-25 09:00:00\", \"2015-01-25 10:00:00\", \"2015-01-25 11:00:00\", \"2015-01-25 12:00:00\", \"2015-01-25 13:00:00\", \"2015-01-25 14:00:00\", \"2015-01-25 15:00:00\", \"2015-01-25 16:00:00\", \"2015-01-25 17:00:00\", \"2015-01-25 18:00:00\", \"2015-01-25 19:00:00\", \"2015-01-25 20:00:00\", \"2015-01-25 21:00:00\", \"2015-01-25 22:00:00\", \"2015-01-25 23:00:00\", \"2015-01-26 00:00:00\", \"2015-01-26 01:00:00\", \"2015-01-26 02:00:00\", \"2015-01-26 03:00:00\", \"2015-01-26 04:00:00\", \"2015-01-26 05:00:00\", \"2015-01-26 06:00:00\", \"2015-01-26 07:00:00\", \"2015-01-26 08:00:00\", \"2015-01-26 09:00:00\", \"2015-01-26 10:00:00\", \"2015-01-26 11:00:00\", \"2015-01-26 12:00:00\", \"2015-01-26 13:00:00\", \"2015-01-26 14:00:00\", \"2015-01-26 15:00:00\", \"2015-01-26 16:00:00\", \"2015-01-26 17:00:00\", \"2015-01-26 18:00:00\", \"2015-01-26 19:00:00\", \"2015-01-26 20:00:00\", \"2015-01-26 21:00:00\", \"2015-01-26 22:00:00\", \"2015-01-26 23:00:00\", \"2015-01-27 00:00:00\", \"2015-01-27 01:00:00\", \"2015-01-27 02:00:00\", \"2015-01-27 03:00:00\", \"2015-01-27 04:00:00\", \"2015-01-27 05:00:00\", \"2015-01-27 06:00:00\", \"2015-01-27 07:00:00\", \"2015-01-27 08:00:00\", \"2015-01-27 09:00:00\", \"2015-01-27 10:00:00\", \"2015-01-27 11:00:00\", \"2015-01-27 12:00:00\", \"2015-01-27 13:00:00\", \"2015-01-27 14:00:00\", \"2015-01-27 15:00:00\", \"2015-01-27 16:00:00\", \"2015-01-27 17:00:00\", \"2015-01-27 18:00:00\", \"2015-01-27 19:00:00\", \"2015-01-27 20:00:00\", \"2015-01-27 21:00:00\", \"2015-01-27 22:00:00\", \"2015-01-27 23:00:00\", \"2015-01-28 00:00:00\", \"2015-01-28 01:00:00\", \"2015-01-28 02:00:00\", \"2015-01-28 03:00:00\", \"2015-01-28 04:00:00\", \"2015-01-28 05:00:00\", \"2015-01-28 06:00:00\", \"2015-01-28 07:00:00\", \"2015-01-28 08:00:00\", \"2015-01-28 09:00:00\", \"2015-01-28 10:00:00\", \"2015-01-28 11:00:00\", \"2015-01-28 12:00:00\", \"2015-01-28 13:00:00\", \"2015-01-28 14:00:00\", \"2015-01-28 15:00:00\", \"2015-01-28 16:00:00\", \"2015-01-28 17:00:00\", \"2015-01-28 18:00:00\", \"2015-01-28 19:00:00\", \"2015-01-28 20:00:00\", \"2015-01-28 21:00:00\", \"2015-01-28 22:00:00\", \"2015-01-28 23:00:00\", \"2015-01-29 00:00:00\", \"2015-01-29 01:00:00\", \"2015-01-29 02:00:00\", \"2015-01-29 03:00:00\", \"2015-01-29 04:00:00\", \"2015-01-29 05:00:00\", \"2015-01-29 06:00:00\", \"2015-01-29 07:00:00\", \"2015-01-29 08:00:00\", \"2015-01-29 09:00:00\", \"2015-01-29 10:00:00\", \"2015-01-29 11:00:00\", \"2015-01-29 12:00:00\", \"2015-01-29 13:00:00\", \"2015-01-29 14:00:00\", \"2015-01-29 15:00:00\", \"2015-01-29 16:00:00\", \"2015-01-29 17:00:00\", \"2015-01-29 18:00:00\", \"2015-01-29 19:00:00\", \"2015-01-29 20:00:00\", \"2015-01-29 21:00:00\", \"2015-01-29 22:00:00\", \"2015-01-29 23:00:00\", \"2015-01-30 00:00:00\", \"2015-01-30 01:00:00\", \"2015-01-30 02:00:00\", \"2015-01-30 03:00:00\", \"2015-01-30 04:00:00\", \"2015-01-30 05:00:00\", \"2015-01-30 06:00:00\", \"2015-01-30 07:00:00\", \"2015-01-30 08:00:00\", \"2015-01-30 09:00:00\", \"2015-01-30 10:00:00\", \"2015-01-30 11:00:00\", \"2015-01-30 12:00:00\", \"2015-01-30 13:00:00\", \"2015-01-30 14:00:00\", \"2015-01-30 15:00:00\", \"2015-01-30 16:00:00\", \"2015-01-30 17:00:00\", \"2015-01-30 18:00:00\", \"2015-01-30 19:00:00\", \"2015-01-30 20:00:00\", \"2015-01-30 21:00:00\", \"2015-01-30 22:00:00\", \"2015-01-30 23:00:00\", \"2015-01-31 00:00:00\", \"2015-01-31 01:00:00\", \"2015-01-31 02:00:00\", \"2015-01-31 03:00:00\", \"2015-01-31 04:00:00\", \"2015-01-31 05:00:00\", \"2015-01-31 06:00:00\", \"2015-01-31 07:00:00\", \"2015-01-31 08:00:00\", \"2015-01-31 09:00:00\", \"2015-01-31 10:00:00\", \"2015-01-31 11:00:00\", \"2015-01-31 12:00:00\", \"2015-01-31 13:00:00\", \"2015-01-31 14:00:00\", \"2015-01-31 15:00:00\", \"2015-01-31 16:00:00\", \"2015-01-31 17:00:00\", \"2015-01-31 18:00:00\", \"2015-01-31 19:00:00\", \"2015-01-31 20:00:00\", \"2015-01-31 21:00:00\", \"2015-01-31 22:00:00\", \"2015-01-31 23:00:00\"], \"y\": [25761, 21727, 14669, 10794, 6992, 3734, 4673, 6810, 10372, 15198, 17905, 20735, 22522, 22043, 20884, 21439, 21232, 23440, 26589, 28297, 23060, 23102, 27166, 28299, 26986, 24268, 20568, 15597, 9128, 3986, 4079, 5712, 7922, 12564, 17180, 20091, 22206, 22437, 21944, 20507, 20071, 21064, 22144, 19382, 17063, 15918, 13389, 10732, 7024, 4324, 2786, 2284, 2621, 4656, 11491, 19417, 22408, 19914, 16553, 16245, 17079, 17271, 14683, 9829, 6611, 6043, 6568, 5305, 4144, 3305, 1481, 290, 113, 49, 36, 14, 21, 48, 133, 336, 957, 2197, 3583, 4627, 5496, 5952, 6707, 7853, 9126, 11746, 14483, 12972, 11726, 12229, 11074, 8844, 5355, 3166, 2113, 1461, 1654, 3547, 10816, 19171, 22276, 20314, 16910, 16271, 16561, 16302, 17774, 18107, 16024, 20185, 25615, 26343, 24479, 23954, 22800, 16206, 10358, 5823, 3799, 2602, 2503, 4166, 11775, 20807, 23615, 21847, 19158, 18252, 19199, 18959, 20437, 20091, 16725, 20749, 26539, 27574, 27273, 27305, 25696, 22543, 14882, 9211, 6054, 4046, 3425, 4413, 11618, 21552, 24965, 23031, 20194, 20098, 19929, 20306, 21776, 20411, 17680, 22669, 28996, 31865, 30884, 29980, 30229, 29561, 27538, 22628, 17948, 13223, 8259, 4088, 4990, 7191, 11960, 18283, 21454, 24366, 26007, 25637, 24013, 24717, 22799, 24928, 29730, 31211, 26592, 26673, 29013, 29026]}, {\"line\": {\"color\": \"rgba(55, 128, 191, 1.0)\", \"dash\": \"solid\", \"shape\": \"linear\", \"width\": 1.3}, \"mode\": \"lines\", \"name\": \"lr_pred\", \"text\": \"\", \"type\": \"scatter\", \"x\": [\"2015-01-24 00:00:00\", \"2015-01-24 01:00:00\", \"2015-01-24 02:00:00\", \"2015-01-24 03:00:00\", \"2015-01-24 04:00:00\", \"2015-01-24 05:00:00\", \"2015-01-24 06:00:00\", \"2015-01-24 07:00:00\", \"2015-01-24 08:00:00\", \"2015-01-24 09:00:00\", \"2015-01-24 10:00:00\", \"2015-01-24 11:00:00\", \"2015-01-24 12:00:00\", \"2015-01-24 13:00:00\", \"2015-01-24 14:00:00\", \"2015-01-24 15:00:00\", \"2015-01-24 16:00:00\", \"2015-01-24 17:00:00\", \"2015-01-24 18:00:00\", \"2015-01-24 19:00:00\", \"2015-01-24 20:00:00\", \"2015-01-24 21:00:00\", \"2015-01-24 22:00:00\", \"2015-01-24 23:00:00\", \"2015-01-25 00:00:00\", \"2015-01-25 01:00:00\", \"2015-01-25 02:00:00\", \"2015-01-25 03:00:00\", \"2015-01-25 04:00:00\", \"2015-01-25 05:00:00\", \"2015-01-25 06:00:00\", \"2015-01-25 07:00:00\", \"2015-01-25 08:00:00\", \"2015-01-25 09:00:00\", \"2015-01-25 10:00:00\", \"2015-01-25 11:00:00\", \"2015-01-25 12:00:00\", \"2015-01-25 13:00:00\", \"2015-01-25 14:00:00\", \"2015-01-25 15:00:00\", \"2015-01-25 16:00:00\", \"2015-01-25 17:00:00\", \"2015-01-25 18:00:00\", \"2015-01-25 19:00:00\", \"2015-01-25 20:00:00\", \"2015-01-25 21:00:00\", \"2015-01-25 22:00:00\", \"2015-01-25 23:00:00\", \"2015-01-26 00:00:00\", \"2015-01-26 01:00:00\", \"2015-01-26 02:00:00\", \"2015-01-26 03:00:00\", \"2015-01-26 04:00:00\", \"2015-01-26 05:00:00\", \"2015-01-26 06:00:00\", \"2015-01-26 07:00:00\", \"2015-01-26 08:00:00\", \"2015-01-26 09:00:00\", \"2015-01-26 10:00:00\", \"2015-01-26 11:00:00\", \"2015-01-26 12:00:00\", \"2015-01-26 13:00:00\", \"2015-01-26 14:00:00\", \"2015-01-26 15:00:00\", \"2015-01-26 16:00:00\", \"2015-01-26 17:00:00\", \"2015-01-26 18:00:00\", \"2015-01-26 19:00:00\", \"2015-01-26 20:00:00\", \"2015-01-26 21:00:00\", \"2015-01-26 22:00:00\", \"2015-01-26 23:00:00\", \"2015-01-27 00:00:00\", \"2015-01-27 01:00:00\", \"2015-01-27 02:00:00\", \"2015-01-27 03:00:00\", \"2015-01-27 04:00:00\", \"2015-01-27 05:00:00\", \"2015-01-27 06:00:00\", \"2015-01-27 07:00:00\", \"2015-01-27 08:00:00\", \"2015-01-27 09:00:00\", \"2015-01-27 10:00:00\", \"2015-01-27 11:00:00\", \"2015-01-27 12:00:00\", \"2015-01-27 13:00:00\", \"2015-01-27 14:00:00\", \"2015-01-27 15:00:00\", \"2015-01-27 16:00:00\", \"2015-01-27 17:00:00\", \"2015-01-27 18:00:00\", \"2015-01-27 19:00:00\", \"2015-01-27 20:00:00\", \"2015-01-27 21:00:00\", \"2015-01-27 22:00:00\", \"2015-01-27 23:00:00\", \"2015-01-28 00:00:00\", \"2015-01-28 01:00:00\", \"2015-01-28 02:00:00\", \"2015-01-28 03:00:00\", \"2015-01-28 04:00:00\", \"2015-01-28 05:00:00\", \"2015-01-28 06:00:00\", \"2015-01-28 07:00:00\", \"2015-01-28 08:00:00\", \"2015-01-28 09:00:00\", \"2015-01-28 10:00:00\", \"2015-01-28 11:00:00\", \"2015-01-28 12:00:00\", \"2015-01-28 13:00:00\", \"2015-01-28 14:00:00\", \"2015-01-28 15:00:00\", \"2015-01-28 16:00:00\", \"2015-01-28 17:00:00\", \"2015-01-28 18:00:00\", \"2015-01-28 19:00:00\", \"2015-01-28 20:00:00\", \"2015-01-28 21:00:00\", \"2015-01-28 22:00:00\", \"2015-01-28 23:00:00\", \"2015-01-29 00:00:00\", \"2015-01-29 01:00:00\", \"2015-01-29 02:00:00\", \"2015-01-29 03:00:00\", \"2015-01-29 04:00:00\", \"2015-01-29 05:00:00\", \"2015-01-29 06:00:00\", \"2015-01-29 07:00:00\", \"2015-01-29 08:00:00\", \"2015-01-29 09:00:00\", \"2015-01-29 10:00:00\", \"2015-01-29 11:00:00\", \"2015-01-29 12:00:00\", \"2015-01-29 13:00:00\", \"2015-01-29 14:00:00\", \"2015-01-29 15:00:00\", \"2015-01-29 16:00:00\", \"2015-01-29 17:00:00\", \"2015-01-29 18:00:00\", \"2015-01-29 19:00:00\", \"2015-01-29 20:00:00\", \"2015-01-29 21:00:00\", \"2015-01-29 22:00:00\", \"2015-01-29 23:00:00\", \"2015-01-30 00:00:00\", \"2015-01-30 01:00:00\", \"2015-01-30 02:00:00\", \"2015-01-30 03:00:00\", \"2015-01-30 04:00:00\", \"2015-01-30 05:00:00\", \"2015-01-30 06:00:00\", \"2015-01-30 07:00:00\", \"2015-01-30 08:00:00\", \"2015-01-30 09:00:00\", \"2015-01-30 10:00:00\", \"2015-01-30 11:00:00\", \"2015-01-30 12:00:00\", \"2015-01-30 13:00:00\", \"2015-01-30 14:00:00\", \"2015-01-30 15:00:00\", \"2015-01-30 16:00:00\", \"2015-01-30 17:00:00\", \"2015-01-30 18:00:00\", \"2015-01-30 19:00:00\", \"2015-01-30 20:00:00\", \"2015-01-30 21:00:00\", \"2015-01-30 22:00:00\", \"2015-01-30 23:00:00\", \"2015-01-31 00:00:00\", \"2015-01-31 01:00:00\", \"2015-01-31 02:00:00\", \"2015-01-31 03:00:00\", \"2015-01-31 04:00:00\", \"2015-01-31 05:00:00\", \"2015-01-31 06:00:00\", \"2015-01-31 07:00:00\", \"2015-01-31 08:00:00\", \"2015-01-31 09:00:00\", \"2015-01-31 10:00:00\", \"2015-01-31 11:00:00\", \"2015-01-31 12:00:00\", \"2015-01-31 13:00:00\", \"2015-01-31 14:00:00\", \"2015-01-31 15:00:00\", \"2015-01-31 16:00:00\", \"2015-01-31 17:00:00\", \"2015-01-31 18:00:00\", \"2015-01-31 19:00:00\", \"2015-01-31 20:00:00\", \"2015-01-31 21:00:00\", \"2015-01-31 22:00:00\", \"2015-01-31 23:00:00\"], \"y\": [9427.401699813303, 9746.491503419784, 9939.192708449851, 10249.899054702159, 10599.498352531262, 11051.714917320616, 11394.575023043928, 11830.040012316498, 12209.891076447726, 12631.216891251719, 13038.158300227768, 13466.724120511077, 13904.216099448155, 14373.82725276858, 14850.8577025349, 15345.487739010154, 15860.501689795527, 16396.04460370597, 16929.196516783133, 17495.226740102113, 18089.272116047465, 18684.346699526966, 19320.5901604219, 19956.70970933762, 9805.249003475588, 10136.53673237727, 10342.402757595917, 10683.845280766764, 11167.9635100459, 11489.420121713374, 11880.703634832898, 12280.626286785566, 12719.992008409066, 13131.819332903708, 13587.692338871399, 14027.288624913537, 14482.154174460926, 14957.81182951233, 15453.339685302444, 15993.636551917065, 16519.230867667033, 17064.351010668637, 17636.753132696715, 18210.24578528261, 18821.96970700994, 19448.44855000942, 20091.097869129087, 20768.12883039327, 8225.999241893405, 8469.693144668427, 8700.697694707955, 9026.929748700475, 9287.383753634522, 9640.30441992715, 9994.216998952657, 10343.687793408746, 10678.671383530413, 11030.160988804362, 11367.120994314178, 11751.229473933501, 12165.986299043558, 12564.36841925771, 12991.894433908823, 13420.44979745094, 13861.707924317867, 14306.375132795725, 14772.924575600571, 15276.92407614379, 15721.81897546461, 16228.444733211823, 16448.20594156909, 16173.511920632656, 7590.9817789423705, 5975.487835052223, 5505.329600384851, 3745.523734726108, 4066.193444958219, 6798.514511590148, 9129.157214303043, 10145.238588697468, 10856.652009497493, 11439.389758390265, 11783.23295648069, 12197.29885242765, 12617.252339291392, 13038.359259640349, 13484.066969807081, 13919.571336711524, 14389.802754102222, 14882.35682385124, 15376.542517897651, 15893.904424500175, 16422.796428248537, 16953.346644875925, 17551.536568701184, 18126.921333054037, 8889.577058263587, 9055.610689032643, 9343.964077241113, 9589.480820425802, 10007.527249706045, 10423.561609707032, 10838.731450375502, 11191.929855544442, 11578.307320242202, 11941.71100287055, 12336.664054415673, 12723.35579009075, 13145.737505580113, 13582.977751967972, 14057.755384193037, 14533.707615713442, 14998.138876691442, 15491.500793992325, 16022.723885761263, 16567.141803059396, 17098.582493213817, 17673.965128532443, 18274.22871225222, 18880.81513312774, 9278.233035676702, 9562.043064245412, 9741.85893810258, 10047.380515100534, 10495.291925878051, 10857.001685626765, 11272.66854502243, 11647.950672421845, 12031.605381787374, 12424.019936993927, 12824.134742574497, 13250.443714063407, 13680.200014194608, 14142.864374079809, 14617.658737708243, 15089.064666072409, 15586.310633313728, 16128.340181501633, 16668.09083357034, 17225.53811806158, 17808.663200936513, 18394.64859493159, 19021.879548332425, 19661.271940606726, 9656.811875737927, 9971.966364853322, 10289.114843749248, 10588.291557246277, 10928.82085106807, 11338.554790128252, 11745.032914112422, 12134.919019259172, 12535.8978982874, 12942.230500895344, 13341.726148445287, 13796.236414189068, 14249.147738522786, 14732.473071376173, 15230.743891557231, 15735.560403450396, 16248.179384149362, 16801.215677657903, 17381.196329745457, 17930.50888354631, 18539.97382121484, 19156.004313553643, 19787.452406225857, 20468.935551243645, 9542.302770254406, 9868.350930270753, 10186.689895748428, 10512.882294381718, 10862.820627608331, 11167.641889467042, 11564.282593665956, 11961.614233743308, 12371.971244973114, 12786.770818809739, 13213.925872634609, 13642.114292452457, 14097.291013353015, 14563.997769688584, 15041.863895419041, 15547.135030196961, 16071.800499932966, 16598.98465101734, 17154.00825179428, 17719.74451597652, 18323.32982395027, 18932.347348271735, 19553.022897054532, 20217.501746665468]}, {\"line\": {\"color\": \"rgba(50, 171, 96, 1.0)\", \"dash\": \"solid\", \"shape\": \"linear\", \"width\": 1.3}, \"mode\": \"lines\", \"name\": \"rf_pred\", \"text\": \"\", \"type\": \"scatter\", \"x\": [\"2015-01-24 00:00:00\", \"2015-01-24 01:00:00\", \"2015-01-24 02:00:00\", \"2015-01-24 03:00:00\", \"2015-01-24 04:00:00\", \"2015-01-24 05:00:00\", \"2015-01-24 06:00:00\", \"2015-01-24 07:00:00\", \"2015-01-24 08:00:00\", \"2015-01-24 09:00:00\", \"2015-01-24 10:00:00\", \"2015-01-24 11:00:00\", \"2015-01-24 12:00:00\", \"2015-01-24 13:00:00\", \"2015-01-24 14:00:00\", \"2015-01-24 15:00:00\", \"2015-01-24 16:00:00\", \"2015-01-24 17:00:00\", \"2015-01-24 18:00:00\", \"2015-01-24 19:00:00\", \"2015-01-24 20:00:00\", \"2015-01-24 21:00:00\", \"2015-01-24 22:00:00\", \"2015-01-24 23:00:00\", \"2015-01-25 00:00:00\", \"2015-01-25 01:00:00\", \"2015-01-25 02:00:00\", \"2015-01-25 03:00:00\", \"2015-01-25 04:00:00\", \"2015-01-25 05:00:00\", \"2015-01-25 06:00:00\", \"2015-01-25 07:00:00\", \"2015-01-25 08:00:00\", \"2015-01-25 09:00:00\", \"2015-01-25 10:00:00\", \"2015-01-25 11:00:00\", \"2015-01-25 12:00:00\", \"2015-01-25 13:00:00\", \"2015-01-25 14:00:00\", \"2015-01-25 15:00:00\", \"2015-01-25 16:00:00\", \"2015-01-25 17:00:00\", \"2015-01-25 18:00:00\", \"2015-01-25 19:00:00\", \"2015-01-25 20:00:00\", \"2015-01-25 21:00:00\", \"2015-01-25 22:00:00\", \"2015-01-25 23:00:00\", \"2015-01-26 00:00:00\", \"2015-01-26 01:00:00\", \"2015-01-26 02:00:00\", \"2015-01-26 03:00:00\", \"2015-01-26 04:00:00\", \"2015-01-26 05:00:00\", \"2015-01-26 06:00:00\", \"2015-01-26 07:00:00\", \"2015-01-26 08:00:00\", \"2015-01-26 09:00:00\", \"2015-01-26 10:00:00\", \"2015-01-26 11:00:00\", \"2015-01-26 12:00:00\", \"2015-01-26 13:00:00\", \"2015-01-26 14:00:00\", \"2015-01-26 15:00:00\", \"2015-01-26 16:00:00\", \"2015-01-26 17:00:00\", \"2015-01-26 18:00:00\", \"2015-01-26 19:00:00\", \"2015-01-26 20:00:00\", \"2015-01-26 21:00:00\", \"2015-01-26 22:00:00\", \"2015-01-26 23:00:00\", \"2015-01-27 00:00:00\", \"2015-01-27 01:00:00\", \"2015-01-27 02:00:00\", \"2015-01-27 03:00:00\", \"2015-01-27 04:00:00\", \"2015-01-27 05:00:00\", \"2015-01-27 06:00:00\", \"2015-01-27 07:00:00\", \"2015-01-27 08:00:00\", \"2015-01-27 09:00:00\", \"2015-01-27 10:00:00\", \"2015-01-27 11:00:00\", \"2015-01-27 12:00:00\", \"2015-01-27 13:00:00\", \"2015-01-27 14:00:00\", \"2015-01-27 15:00:00\", \"2015-01-27 16:00:00\", \"2015-01-27 17:00:00\", \"2015-01-27 18:00:00\", \"2015-01-27 19:00:00\", \"2015-01-27 20:00:00\", \"2015-01-27 21:00:00\", \"2015-01-27 22:00:00\", \"2015-01-27 23:00:00\", \"2015-01-28 00:00:00\", \"2015-01-28 01:00:00\", \"2015-01-28 02:00:00\", \"2015-01-28 03:00:00\", \"2015-01-28 04:00:00\", \"2015-01-28 05:00:00\", \"2015-01-28 06:00:00\", \"2015-01-28 07:00:00\", \"2015-01-28 08:00:00\", \"2015-01-28 09:00:00\", \"2015-01-28 10:00:00\", \"2015-01-28 11:00:00\", \"2015-01-28 12:00:00\", \"2015-01-28 13:00:00\", \"2015-01-28 14:00:00\", \"2015-01-28 15:00:00\", \"2015-01-28 16:00:00\", \"2015-01-28 17:00:00\", \"2015-01-28 18:00:00\", \"2015-01-28 19:00:00\", \"2015-01-28 20:00:00\", \"2015-01-28 21:00:00\", \"2015-01-28 22:00:00\", \"2015-01-28 23:00:00\", \"2015-01-29 00:00:00\", \"2015-01-29 01:00:00\", \"2015-01-29 02:00:00\", \"2015-01-29 03:00:00\", \"2015-01-29 04:00:00\", \"2015-01-29 05:00:00\", \"2015-01-29 06:00:00\", \"2015-01-29 07:00:00\", \"2015-01-29 08:00:00\", \"2015-01-29 09:00:00\", \"2015-01-29 10:00:00\", \"2015-01-29 11:00:00\", \"2015-01-29 12:00:00\", \"2015-01-29 13:00:00\", \"2015-01-29 14:00:00\", \"2015-01-29 15:00:00\", \"2015-01-29 16:00:00\", \"2015-01-29 17:00:00\", \"2015-01-29 18:00:00\", \"2015-01-29 19:00:00\", \"2015-01-29 20:00:00\", \"2015-01-29 21:00:00\", \"2015-01-29 22:00:00\", \"2015-01-29 23:00:00\", \"2015-01-30 00:00:00\", \"2015-01-30 01:00:00\", \"2015-01-30 02:00:00\", \"2015-01-30 03:00:00\", \"2015-01-30 04:00:00\", \"2015-01-30 05:00:00\", \"2015-01-30 06:00:00\", \"2015-01-30 07:00:00\", \"2015-01-30 08:00:00\", \"2015-01-30 09:00:00\", \"2015-01-30 10:00:00\", \"2015-01-30 11:00:00\", \"2015-01-30 12:00:00\", \"2015-01-30 13:00:00\", \"2015-01-30 14:00:00\", \"2015-01-30 15:00:00\", \"2015-01-30 16:00:00\", \"2015-01-30 17:00:00\", \"2015-01-30 18:00:00\", \"2015-01-30 19:00:00\", \"2015-01-30 20:00:00\", \"2015-01-30 21:00:00\", \"2015-01-30 22:00:00\", \"2015-01-30 23:00:00\", \"2015-01-31 00:00:00\", \"2015-01-31 01:00:00\", \"2015-01-31 02:00:00\", \"2015-01-31 03:00:00\", \"2015-01-31 04:00:00\", \"2015-01-31 05:00:00\", \"2015-01-31 06:00:00\", \"2015-01-31 07:00:00\", \"2015-01-31 08:00:00\", \"2015-01-31 09:00:00\", \"2015-01-31 10:00:00\", \"2015-01-31 11:00:00\", \"2015-01-31 12:00:00\", \"2015-01-31 13:00:00\", \"2015-01-31 14:00:00\", \"2015-01-31 15:00:00\", \"2015-01-31 16:00:00\", \"2015-01-31 17:00:00\", \"2015-01-31 18:00:00\", \"2015-01-31 19:00:00\", \"2015-01-31 20:00:00\", \"2015-01-31 21:00:00\", \"2015-01-31 22:00:00\", \"2015-01-31 23:00:00\"], \"y\": [26114.079999999994, 21878.181999999993, 18070.60199999999, 13857.097999999993, 8623.186000000005, 4185.075999999999, 4814.344, 7428.088, 12363.042000000001, 16129.858000000002, 19384.717999999997, 22116.367999999995, 23684.172, 23899.57600000001, 23857.73, 23364.558, 21624.050000000003, 23328.035999999993, 27662.852000000003, 28266.255999999994, 25454.38399999999, 25061.561999999994, 26984.637999999995, 27549.95, 26931.319999999992, 23341.18999999999, 19805.313999999988, 15172.097999999996, 9133.207999999997, 4146.452000000002, 4271.209999999997, 5923.667999999999, 10018.238, 14158.507999999993, 18828.75200000001, 22500.935999999998, 24191.016000000003, 24380.402, 24344.449999999997, 22857.819999999996, 20662.704000000005, 20864.164, 21786.499999999993, 19054.536000000007, 16833.719999999994, 16430.158, 16672.025999999998, 14948.880000000001, 10010.751999999999, 6975.0819999999985, 4833.778000000001, 3525.686000000001, 3091.506, 3901.6960000000004, 7720.239999999995, 12055.865999999998, 16035.424000000006, 16714.510000000002, 16919.327999999994, 17626.44, 18938.557999999997, 19266.403999999995, 20168.128000000008, 20141.724000000002, 18555.664, 20547.376000000004, 22618.95799999999, 21617.275999999994, 19045.003999999997, 17815.22, 15539.846000000001, 11167.11, 7996.79, 3918.362, 2265.116, 854.446, 1012.3019999999999, 2583.6540000000005, 9925.971999999998, 19016.107999999997, 23398.184, 22454.793999999998, 19459.59000000001, 18916.644000000008, 19349.736000000004, 19237.65399999999, 20551.013999999992, 20264.593999999994, 17723.754000000004, 21442.500000000004, 27265.956000000013, 27107.76600000001, 25572.15199999999, 25338.962000000003, 22698.13999999999, 16203.596, 10376.602000000006, 6416.819999999999, 4138.948, 2895.8860000000013, 2688.5680000000007, 4138.589999999999, 11310.923999999995, 20894.447999999997, 24793.631999999994, 22891.58000000001, 20097.156, 19507.635999999995, 20164.66, 19815.06, 21140.782000000003, 20657.564000000002, 17667.811999999994, 21972.812000000016, 28076.399999999987, 28566.804, 26710.665999999997, 26575.137999999995, 24454.336000000007, 17973.320000000003, 11383.784000000001, 7116.124000000001, 4415.593999999996, 3189.4700000000007, 2863.9639999999995, 4174.450000000001, 11385.829999999998, 20950.95200000001, 24817.685999999998, 22947.678, 19980.710000000003, 19563.09, 20395.228000000006, 19917.547999999995, 21379.237999999994, 20916.674, 17766.735999999997, 22078.496000000006, 28375.69999999999, 29793.702000000005, 28058.990000000016, 28100.84399999999, 27176.616000000005, 23128.543999999994, 15179.352, 9673.435999999996, 6496.3640000000005, 4330.15, 3593.1859999999997, 4411.896000000002, 11201.032000000001, 20431.946, 23879.19199999999, 22646.604000000007, 19870.160000000003, 19755.256000000005, 20569.063999999995, 20411.522, 21919.868000000006, 21013.532000000003, 17901.08, 22438.365999999998, 28709.796, 30314.793999999998, 28080.78200000001, 27458.827999999994, 28273.538000000015, 27580.418, 26113.145999999997, 21872.57, 18068.13, 13861.515999999998, 8625.386000000004, 4159.9259999999995, 4819.508000000002, 7413.446000000004, 12361.386, 16127.806000000004, 19402.927999999996, 22129.007999999998, 23712.11800000001, 23908.40600000001, 23865.161999999997, 23372.65799999999, 21635.138, 23333.40199999999, 27671.600000000013, 28278.632000000005, 25457.390000000007, 25068.007999999983, 26981.526000000005, 27557.827999999994]}, {\"line\": {\"color\": \"rgba(128, 0, 128, 1.0)\", \"dash\": \"solid\", \"shape\": \"linear\", \"width\": 1.3}, \"mode\": \"lines\", \"name\": \"xgb_pred\", \"text\": \"\", \"type\": \"scatter\", \"x\": [\"2015-01-24 00:00:00\", \"2015-01-24 01:00:00\", \"2015-01-24 02:00:00\", \"2015-01-24 03:00:00\", \"2015-01-24 04:00:00\", \"2015-01-24 05:00:00\", \"2015-01-24 06:00:00\", \"2015-01-24 07:00:00\", \"2015-01-24 08:00:00\", \"2015-01-24 09:00:00\", \"2015-01-24 10:00:00\", \"2015-01-24 11:00:00\", \"2015-01-24 12:00:00\", \"2015-01-24 13:00:00\", \"2015-01-24 14:00:00\", \"2015-01-24 15:00:00\", \"2015-01-24 16:00:00\", \"2015-01-24 17:00:00\", \"2015-01-24 18:00:00\", \"2015-01-24 19:00:00\", \"2015-01-24 20:00:00\", \"2015-01-24 21:00:00\", \"2015-01-24 22:00:00\", \"2015-01-24 23:00:00\", \"2015-01-25 00:00:00\", \"2015-01-25 01:00:00\", \"2015-01-25 02:00:00\", \"2015-01-25 03:00:00\", \"2015-01-25 04:00:00\", \"2015-01-25 05:00:00\", \"2015-01-25 06:00:00\", \"2015-01-25 07:00:00\", \"2015-01-25 08:00:00\", \"2015-01-25 09:00:00\", \"2015-01-25 10:00:00\", \"2015-01-25 11:00:00\", \"2015-01-25 12:00:00\", \"2015-01-25 13:00:00\", \"2015-01-25 14:00:00\", \"2015-01-25 15:00:00\", \"2015-01-25 16:00:00\", \"2015-01-25 17:00:00\", \"2015-01-25 18:00:00\", \"2015-01-25 19:00:00\", \"2015-01-25 20:00:00\", \"2015-01-25 21:00:00\", \"2015-01-25 22:00:00\", \"2015-01-25 23:00:00\", \"2015-01-26 00:00:00\", \"2015-01-26 01:00:00\", \"2015-01-26 02:00:00\", \"2015-01-26 03:00:00\", \"2015-01-26 04:00:00\", \"2015-01-26 05:00:00\", \"2015-01-26 06:00:00\", \"2015-01-26 07:00:00\", \"2015-01-26 08:00:00\", \"2015-01-26 09:00:00\", \"2015-01-26 10:00:00\", \"2015-01-26 11:00:00\", \"2015-01-26 12:00:00\", \"2015-01-26 13:00:00\", \"2015-01-26 14:00:00\", \"2015-01-26 15:00:00\", \"2015-01-26 16:00:00\", \"2015-01-26 17:00:00\", \"2015-01-26 18:00:00\", \"2015-01-26 19:00:00\", \"2015-01-26 20:00:00\", \"2015-01-26 21:00:00\", \"2015-01-26 22:00:00\", \"2015-01-26 23:00:00\", \"2015-01-27 00:00:00\", \"2015-01-27 01:00:00\", \"2015-01-27 02:00:00\", \"2015-01-27 03:00:00\", \"2015-01-27 04:00:00\", \"2015-01-27 05:00:00\", \"2015-01-27 06:00:00\", \"2015-01-27 07:00:00\", \"2015-01-27 08:00:00\", \"2015-01-27 09:00:00\", \"2015-01-27 10:00:00\", \"2015-01-27 11:00:00\", \"2015-01-27 12:00:00\", \"2015-01-27 13:00:00\", \"2015-01-27 14:00:00\", \"2015-01-27 15:00:00\", \"2015-01-27 16:00:00\", \"2015-01-27 17:00:00\", \"2015-01-27 18:00:00\", \"2015-01-27 19:00:00\", \"2015-01-27 20:00:00\", \"2015-01-27 21:00:00\", \"2015-01-27 22:00:00\", \"2015-01-27 23:00:00\", \"2015-01-28 00:00:00\", \"2015-01-28 01:00:00\", \"2015-01-28 02:00:00\", \"2015-01-28 03:00:00\", \"2015-01-28 04:00:00\", \"2015-01-28 05:00:00\", \"2015-01-28 06:00:00\", \"2015-01-28 07:00:00\", \"2015-01-28 08:00:00\", \"2015-01-28 09:00:00\", \"2015-01-28 10:00:00\", \"2015-01-28 11:00:00\", \"2015-01-28 12:00:00\", \"2015-01-28 13:00:00\", \"2015-01-28 14:00:00\", \"2015-01-28 15:00:00\", \"2015-01-28 16:00:00\", \"2015-01-28 17:00:00\", \"2015-01-28 18:00:00\", \"2015-01-28 19:00:00\", \"2015-01-28 20:00:00\", \"2015-01-28 21:00:00\", \"2015-01-28 22:00:00\", \"2015-01-28 23:00:00\", \"2015-01-29 00:00:00\", \"2015-01-29 01:00:00\", \"2015-01-29 02:00:00\", \"2015-01-29 03:00:00\", \"2015-01-29 04:00:00\", \"2015-01-29 05:00:00\", \"2015-01-29 06:00:00\", \"2015-01-29 07:00:00\", \"2015-01-29 08:00:00\", \"2015-01-29 09:00:00\", \"2015-01-29 10:00:00\", \"2015-01-29 11:00:00\", \"2015-01-29 12:00:00\", \"2015-01-29 13:00:00\", \"2015-01-29 14:00:00\", \"2015-01-29 15:00:00\", \"2015-01-29 16:00:00\", \"2015-01-29 17:00:00\", \"2015-01-29 18:00:00\", \"2015-01-29 19:00:00\", \"2015-01-29 20:00:00\", \"2015-01-29 21:00:00\", \"2015-01-29 22:00:00\", \"2015-01-29 23:00:00\", \"2015-01-30 00:00:00\", \"2015-01-30 01:00:00\", \"2015-01-30 02:00:00\", \"2015-01-30 03:00:00\", \"2015-01-30 04:00:00\", \"2015-01-30 05:00:00\", \"2015-01-30 06:00:00\", \"2015-01-30 07:00:00\", \"2015-01-30 08:00:00\", \"2015-01-30 09:00:00\", \"2015-01-30 10:00:00\", \"2015-01-30 11:00:00\", \"2015-01-30 12:00:00\", \"2015-01-30 13:00:00\", \"2015-01-30 14:00:00\", \"2015-01-30 15:00:00\", \"2015-01-30 16:00:00\", \"2015-01-30 17:00:00\", \"2015-01-30 18:00:00\", \"2015-01-30 19:00:00\", \"2015-01-30 20:00:00\", \"2015-01-30 21:00:00\", \"2015-01-30 22:00:00\", \"2015-01-30 23:00:00\", \"2015-01-31 00:00:00\", \"2015-01-31 01:00:00\", \"2015-01-31 02:00:00\", \"2015-01-31 03:00:00\", \"2015-01-31 04:00:00\", \"2015-01-31 05:00:00\", \"2015-01-31 06:00:00\", \"2015-01-31 07:00:00\", \"2015-01-31 08:00:00\", \"2015-01-31 09:00:00\", \"2015-01-31 10:00:00\", \"2015-01-31 11:00:00\", \"2015-01-31 12:00:00\", \"2015-01-31 13:00:00\", \"2015-01-31 14:00:00\", \"2015-01-31 15:00:00\", \"2015-01-31 16:00:00\", \"2015-01-31 17:00:00\", \"2015-01-31 18:00:00\", \"2015-01-31 19:00:00\", \"2015-01-31 20:00:00\", \"2015-01-31 21:00:00\", \"2015-01-31 22:00:00\", \"2015-01-31 23:00:00\"], \"y\": [26304.00390625, 22128.26953125, 17268.328125, 12461.89453125, 7395.8203125, 5343.73046875, 6059.7060546875, 11996.375, 15069.6328125, 18171.21484375, 20302.93359375, 22028.203125, 22829.373046875, 23550.474609375, 23670.044921875, 23263.775390625, 21405.1171875, 24009.771484375, 29141.443359375, 29981.26953125, 28620.068359375, 28079.96484375, 28510.859375, 28865.5859375, 27700.0625, 23626.021484375, 19065.14453125, 14186.1064453125, 8780.7236328125, 6000.6904296875, 5423.669921875, 9111.787109375, 12187.7265625, 15131.58203125, 20174.6171875, 21677.591796875, 22749.62890625, 23047.119140625, 23249.634765625, 22427.88671875, 19873.146484375, 20901.39453125, 23008.18359375, 20411.00390625, 17822.296875, 16813.41015625, 17352.888671875, 14931.09765625, 10823.0126953125, 6963.79345703125, 4913.08935546875, 2998.498291015625, 2394.976318359375, 3782.5810546875, 7175.81201171875, 15539.89453125, 19053.9765625, 18336.30078125, 17416.953125, 17256.701171875, 18033.01171875, 17906.689453125, 19047.064453125, 18894.138671875, 16226.9140625, 19442.828125, 24380.396484375, 23928.892578125, 21248.53515625, 19852.578125, 15945.095703125, 10833.044921875, 8107.21484375, 3883.4619140625, 2110.861328125, 928.09765625, 1230.4267578125, 2876.025390625, 10383.9501953125, 19869.869140625, 24447.21875, 23596.322265625, 19399.333984375, 18938.69921875, 19597.8671875, 19503.060546875, 20509.49609375, 20157.720703125, 17485.74609375, 21652.306640625, 27625.435546875, 27939.927734375, 26295.34765625, 26195.904296875, 23946.4140625, 17123.41796875, 11152.7744140625, 6308.81787109375, 4065.52197265625, 3145.073486328125, 2951.826904296875, 4462.990234375, 12607.3857421875, 22071.63671875, 25788.751953125, 23987.775390625, 20027.21875, 19508.498046875, 20160.951171875, 20035.599609375, 21091.271484375, 20726.46875, 17715.2890625, 21932.7890625, 28271.197265625, 29148.556640625, 27476.421875, 27287.3359375, 25288.830078125, 18758.189453125, 11732.1767578125, 6915.171875, 4477.1904296875, 3444.404052734375, 3165.6044921875, 4617.40380859375, 12517.4306640625, 21613.45703125, 25108.208984375, 23899.0234375, 20024.912109375, 19493.09375, 20146.884765625, 20016.34765625, 21096.189453125, 20694.228515625, 17774.3515625, 22034.01171875, 28647.3984375, 29547.892578125, 27975.66796875, 27818.83984375, 27281.48828125, 22782.361328125, 15303.3037109375, 10064.64453125, 6813.18701171875, 4292.88671875, 3800.8076171875, 4757.68115234375, 11409.5224609375, 19973.123046875, 23633.7421875, 22541.1953125, 19786.564453125, 19769.185546875, 20543.40625, 20462.8125, 21569.859375, 21171.1796875, 17885.642578125, 22144.177734375, 28810.705078125, 29797.505859375, 28218.67578125, 28002.498046875, 28145.177734375, 28204.462890625, 26243.90625, 22061.837890625, 17197.919921875, 12428.1318359375, 7408.4814453125, 5315.80810546875, 6053.48291015625, 12044.28515625, 15026.962890625, 18188.978515625, 20316.6015625, 22035.9453125, 22927.32421875, 23614.751953125, 23654.763671875, 23318.951171875, 21464.42578125, 23987.259765625, 29117.73828125, 30009.962890625, 28605.080078125, 28092.611328125, 28512.888671875, 28900.646484375]}, {\"line\": {\"color\": \"rgba(219, 64, 82, 1.0)\", \"dash\": \"solid\", \"shape\": \"linear\", \"width\": 1.3}, \"mode\": \"lines\", \"name\": \"lgbm_pred\", \"text\": \"\", \"type\": \"scatter\", \"x\": [\"2015-01-24 00:00:00\", \"2015-01-24 01:00:00\", \"2015-01-24 02:00:00\", \"2015-01-24 03:00:00\", \"2015-01-24 04:00:00\", \"2015-01-24 05:00:00\", \"2015-01-24 06:00:00\", \"2015-01-24 07:00:00\", \"2015-01-24 08:00:00\", \"2015-01-24 09:00:00\", \"2015-01-24 10:00:00\", \"2015-01-24 11:00:00\", \"2015-01-24 12:00:00\", \"2015-01-24 13:00:00\", \"2015-01-24 14:00:00\", \"2015-01-24 15:00:00\", \"2015-01-24 16:00:00\", \"2015-01-24 17:00:00\", \"2015-01-24 18:00:00\", \"2015-01-24 19:00:00\", \"2015-01-24 20:00:00\", \"2015-01-24 21:00:00\", \"2015-01-24 22:00:00\", \"2015-01-24 23:00:00\", \"2015-01-25 00:00:00\", \"2015-01-25 01:00:00\", \"2015-01-25 02:00:00\", \"2015-01-25 03:00:00\", \"2015-01-25 04:00:00\", \"2015-01-25 05:00:00\", \"2015-01-25 06:00:00\", \"2015-01-25 07:00:00\", \"2015-01-25 08:00:00\", \"2015-01-25 09:00:00\", \"2015-01-25 10:00:00\", \"2015-01-25 11:00:00\", \"2015-01-25 12:00:00\", \"2015-01-25 13:00:00\", \"2015-01-25 14:00:00\", \"2015-01-25 15:00:00\", \"2015-01-25 16:00:00\", \"2015-01-25 17:00:00\", \"2015-01-25 18:00:00\", \"2015-01-25 19:00:00\", \"2015-01-25 20:00:00\", \"2015-01-25 21:00:00\", \"2015-01-25 22:00:00\", \"2015-01-25 23:00:00\", \"2015-01-26 00:00:00\", \"2015-01-26 01:00:00\", \"2015-01-26 02:00:00\", \"2015-01-26 03:00:00\", \"2015-01-26 04:00:00\", \"2015-01-26 05:00:00\", \"2015-01-26 06:00:00\", \"2015-01-26 07:00:00\", \"2015-01-26 08:00:00\", \"2015-01-26 09:00:00\", \"2015-01-26 10:00:00\", \"2015-01-26 11:00:00\", \"2015-01-26 12:00:00\", \"2015-01-26 13:00:00\", \"2015-01-26 14:00:00\", \"2015-01-26 15:00:00\", \"2015-01-26 16:00:00\", \"2015-01-26 17:00:00\", \"2015-01-26 18:00:00\", \"2015-01-26 19:00:00\", \"2015-01-26 20:00:00\", \"2015-01-26 21:00:00\", \"2015-01-26 22:00:00\", \"2015-01-26 23:00:00\", \"2015-01-27 00:00:00\", \"2015-01-27 01:00:00\", \"2015-01-27 02:00:00\", \"2015-01-27 03:00:00\", \"2015-01-27 04:00:00\", \"2015-01-27 05:00:00\", \"2015-01-27 06:00:00\", \"2015-01-27 07:00:00\", \"2015-01-27 08:00:00\", \"2015-01-27 09:00:00\", \"2015-01-27 10:00:00\", \"2015-01-27 11:00:00\", \"2015-01-27 12:00:00\", \"2015-01-27 13:00:00\", \"2015-01-27 14:00:00\", \"2015-01-27 15:00:00\", \"2015-01-27 16:00:00\", \"2015-01-27 17:00:00\", \"2015-01-27 18:00:00\", \"2015-01-27 19:00:00\", \"2015-01-27 20:00:00\", \"2015-01-27 21:00:00\", \"2015-01-27 22:00:00\", \"2015-01-27 23:00:00\", \"2015-01-28 00:00:00\", \"2015-01-28 01:00:00\", \"2015-01-28 02:00:00\", \"2015-01-28 03:00:00\", \"2015-01-28 04:00:00\", \"2015-01-28 05:00:00\", \"2015-01-28 06:00:00\", \"2015-01-28 07:00:00\", \"2015-01-28 08:00:00\", \"2015-01-28 09:00:00\", \"2015-01-28 10:00:00\", \"2015-01-28 11:00:00\", \"2015-01-28 12:00:00\", \"2015-01-28 13:00:00\", \"2015-01-28 14:00:00\", \"2015-01-28 15:00:00\", \"2015-01-28 16:00:00\", \"2015-01-28 17:00:00\", \"2015-01-28 18:00:00\", \"2015-01-28 19:00:00\", \"2015-01-28 20:00:00\", \"2015-01-28 21:00:00\", \"2015-01-28 22:00:00\", \"2015-01-28 23:00:00\", \"2015-01-29 00:00:00\", \"2015-01-29 01:00:00\", \"2015-01-29 02:00:00\", \"2015-01-29 03:00:00\", \"2015-01-29 04:00:00\", \"2015-01-29 05:00:00\", \"2015-01-29 06:00:00\", \"2015-01-29 07:00:00\", \"2015-01-29 08:00:00\", \"2015-01-29 09:00:00\", \"2015-01-29 10:00:00\", \"2015-01-29 11:00:00\", \"2015-01-29 12:00:00\", \"2015-01-29 13:00:00\", \"2015-01-29 14:00:00\", \"2015-01-29 15:00:00\", \"2015-01-29 16:00:00\", \"2015-01-29 17:00:00\", \"2015-01-29 18:00:00\", \"2015-01-29 19:00:00\", \"2015-01-29 20:00:00\", \"2015-01-29 21:00:00\", \"2015-01-29 22:00:00\", \"2015-01-29 23:00:00\", \"2015-01-30 00:00:00\", \"2015-01-30 01:00:00\", \"2015-01-30 02:00:00\", \"2015-01-30 03:00:00\", \"2015-01-30 04:00:00\", \"2015-01-30 05:00:00\", \"2015-01-30 06:00:00\", \"2015-01-30 07:00:00\", \"2015-01-30 08:00:00\", \"2015-01-30 09:00:00\", \"2015-01-30 10:00:00\", \"2015-01-30 11:00:00\", \"2015-01-30 12:00:00\", \"2015-01-30 13:00:00\", \"2015-01-30 14:00:00\", \"2015-01-30 15:00:00\", \"2015-01-30 16:00:00\", \"2015-01-30 17:00:00\", \"2015-01-30 18:00:00\", \"2015-01-30 19:00:00\", \"2015-01-30 20:00:00\", \"2015-01-30 21:00:00\", \"2015-01-30 22:00:00\", \"2015-01-30 23:00:00\", \"2015-01-31 00:00:00\", \"2015-01-31 01:00:00\", \"2015-01-31 02:00:00\", \"2015-01-31 03:00:00\", \"2015-01-31 04:00:00\", \"2015-01-31 05:00:00\", \"2015-01-31 06:00:00\", \"2015-01-31 07:00:00\", \"2015-01-31 08:00:00\", \"2015-01-31 09:00:00\", \"2015-01-31 10:00:00\", \"2015-01-31 11:00:00\", \"2015-01-31 12:00:00\", \"2015-01-31 13:00:00\", \"2015-01-31 14:00:00\", \"2015-01-31 15:00:00\", \"2015-01-31 16:00:00\", \"2015-01-31 17:00:00\", \"2015-01-31 18:00:00\", \"2015-01-31 19:00:00\", \"2015-01-31 20:00:00\", \"2015-01-31 21:00:00\", \"2015-01-31 22:00:00\", \"2015-01-31 23:00:00\"], \"y\": [25841.056375665245, 22203.564677514845, 17415.697154838566, 12632.975078364663, 7776.4868184278, 4709.42508585426, 6941.5695373722365, 12234.588143251149, 15392.114532999583, 17239.7749833398, 18822.52552606786, 21190.11089263568, 22593.043407456993, 22901.66046657966, 23091.587694440936, 22967.68845042112, 21855.080084058063, 23746.340543224927, 28983.537451951957, 29554.652395676254, 28119.082921095705, 27640.17315024661, 27682.02540325768, 27451.82995122439, 26649.055237221604, 23538.66448938196, 18997.8833051894, 13539.360600942226, 8469.45682185806, 4849.229735765731, 3745.020762252373, 7107.692971634537, 10216.306761845985, 13644.47034583161, 18830.203767423638, 21254.970659857136, 22745.98647815526, 22881.438586947177, 23046.19028422226, 22847.043115296387, 20901.887186603166, 21255.183185846538, 21808.025382750147, 20333.639808646636, 17699.0571048979, 16810.037267451946, 16237.310904702874, 14030.279530371918, 9866.290723337966, 5937.988190556168, 3944.8211488468205, 3118.944575687652, 2924.245804592625, 3351.8016053452884, 8703.708035294432, 14452.49923329536, 17740.75248766817, 18170.90847260513, 17087.926040210055, 17458.76960263353, 18281.817574793477, 18387.151685088265, 18943.786859198688, 18981.679925430934, 17949.207294425363, 19813.70313419732, 23143.1617352022, 23348.631732354337, 20595.879137556843, 19346.84411399812, 16460.860145426534, 11543.40086832035, 8080.024581396978, 4063.054313349537, 2394.439423048523, 1145.985059514127, 1396.0724902745126, 2566.4095873277574, 9527.884614105058, 18447.17708284188, 22463.922014246717, 22868.50216532525, 19841.76299807106, 19357.5435861273, 20122.875690085075, 20258.037900410258, 20838.780462680454, 20780.41754575672, 18343.339698012085, 21925.5430738149, 27358.39761128438, 27631.018247333384, 26072.026067397594, 25393.997194538613, 23588.398756591745, 17019.428555730916, 9929.746407137669, 5968.924675187138, 3905.749606272471, 3299.3442561255865, 3143.706292454748, 3784.2266940332966, 11617.910774054097, 20257.760701649422, 23601.0809459343, 23087.70703894216, 20274.69218625913, 19677.952339528914, 20454.613581567348, 20543.691816610964, 21193.689634923023, 21266.411808253313, 18607.443167050526, 22203.25423344979, 27997.794535571586, 28512.97502139711, 26809.272003178674, 26208.067719772054, 24928.26979815918, 18747.990691166968, 11544.353636523938, 7088.788437376855, 4408.386097561165, 3341.38431606033, 3217.6906902522655, 3747.8626289350655, 11540.486610720865, 20058.880228328988, 23243.242483027843, 22963.071487037203, 20222.566772041602, 19742.579884114242, 20458.41503931953, 20606.821358542617, 21183.348401920244, 21185.062141724782, 18575.59440221124, 22231.009060430697, 28187.596910086475, 28924.85599167848, 27432.0366132843, 27008.72196279023, 26313.1107542793, 22803.595399644197, 14393.88439858215, 9549.928679934026, 6516.602119616591, 4194.526905890456, 3805.9618974035548, 4033.047571857619, 11441.9736468543, 19241.035185753, 22524.87431689441, 22428.36283888588, 20173.97985086422, 20004.995470134854, 20912.186112849926, 21024.92641223398, 21655.090340138413, 21688.76234511551, 19034.918234514524, 22792.542016348598, 28905.575853465085, 29747.30188112418, 28330.325476458274, 27937.888798176715, 27710.892170054587, 27362.174075122766, 25788.779352384383, 22165.149696466855, 17406.237444072016, 12643.1256946754, 7806.7899205020785, 4694.287936154134, 6979.4536060715955, 12178.01589257683, 15450.378322319499, 17225.319979855038, 18875.307193759978, 21211.055725844333, 22720.417194388625, 22968.827191325185, 23091.176090489233, 23011.831266486854, 21955.45302319564, 23726.739325567418, 28958.127208240396, 29601.979075368567, 28144.663097570894, 27672.51675871098, 27647.34278416396, 27515.832115279107]}],\n",
       "                        {\"legend\": {\"bgcolor\": \"#F5F6F9\", \"font\": {\"color\": \"#4D5663\"}}, \"paper_bgcolor\": \"#F5F6F9\", \"plot_bgcolor\": \"#F5F6F9\", \"template\": {\"data\": {\"bar\": [{\"error_x\": {\"color\": \"#2a3f5f\"}, \"error_y\": {\"color\": \"#2a3f5f\"}, \"marker\": {\"line\": {\"color\": \"#E5ECF6\", \"width\": 0.5}}, \"type\": \"bar\"}], \"barpolar\": [{\"marker\": {\"line\": {\"color\": \"#E5ECF6\", \"width\": 0.5}}, \"type\": \"barpolar\"}], \"carpet\": [{\"aaxis\": {\"endlinecolor\": \"#2a3f5f\", \"gridcolor\": \"white\", \"linecolor\": \"white\", \"minorgridcolor\": \"white\", \"startlinecolor\": \"#2a3f5f\"}, \"baxis\": {\"endlinecolor\": \"#2a3f5f\", \"gridcolor\": \"white\", \"linecolor\": \"white\", \"minorgridcolor\": \"white\", \"startlinecolor\": \"#2a3f5f\"}, \"type\": \"carpet\"}], \"choropleth\": [{\"colorbar\": {\"outlinewidth\": 0, \"ticks\": \"\"}, \"type\": \"choropleth\"}], \"contour\": [{\"colorbar\": {\"outlinewidth\": 0, \"ticks\": \"\"}, \"colorscale\": [[0.0, \"#0d0887\"], [0.1111111111111111, \"#46039f\"], [0.2222222222222222, \"#7201a8\"], [0.3333333333333333, \"#9c179e\"], [0.4444444444444444, \"#bd3786\"], [0.5555555555555556, \"#d8576b\"], [0.6666666666666666, \"#ed7953\"], [0.7777777777777778, \"#fb9f3a\"], [0.8888888888888888, \"#fdca26\"], [1.0, \"#f0f921\"]], \"type\": \"contour\"}], \"contourcarpet\": [{\"colorbar\": {\"outlinewidth\": 0, \"ticks\": \"\"}, \"type\": \"contourcarpet\"}], \"heatmap\": [{\"colorbar\": {\"outlinewidth\": 0, \"ticks\": \"\"}, \"colorscale\": [[0.0, \"#0d0887\"], [0.1111111111111111, \"#46039f\"], [0.2222222222222222, \"#7201a8\"], [0.3333333333333333, \"#9c179e\"], [0.4444444444444444, \"#bd3786\"], [0.5555555555555556, \"#d8576b\"], [0.6666666666666666, \"#ed7953\"], [0.7777777777777778, \"#fb9f3a\"], [0.8888888888888888, \"#fdca26\"], [1.0, \"#f0f921\"]], \"type\": \"heatmap\"}], \"heatmapgl\": [{\"colorbar\": {\"outlinewidth\": 0, \"ticks\": \"\"}, \"colorscale\": [[0.0, \"#0d0887\"], [0.1111111111111111, \"#46039f\"], [0.2222222222222222, \"#7201a8\"], [0.3333333333333333, \"#9c179e\"], [0.4444444444444444, \"#bd3786\"], [0.5555555555555556, \"#d8576b\"], [0.6666666666666666, \"#ed7953\"], [0.7777777777777778, \"#fb9f3a\"], [0.8888888888888888, \"#fdca26\"], [1.0, \"#f0f921\"]], \"type\": \"heatmapgl\"}], \"histogram\": [{\"marker\": {\"colorbar\": {\"outlinewidth\": 0, \"ticks\": \"\"}}, \"type\": \"histogram\"}], \"histogram2d\": [{\"colorbar\": {\"outlinewidth\": 0, \"ticks\": \"\"}, \"colorscale\": [[0.0, \"#0d0887\"], [0.1111111111111111, \"#46039f\"], [0.2222222222222222, \"#7201a8\"], [0.3333333333333333, \"#9c179e\"], [0.4444444444444444, \"#bd3786\"], [0.5555555555555556, \"#d8576b\"], [0.6666666666666666, \"#ed7953\"], [0.7777777777777778, \"#fb9f3a\"], [0.8888888888888888, \"#fdca26\"], [1.0, \"#f0f921\"]], \"type\": \"histogram2d\"}], \"histogram2dcontour\": [{\"colorbar\": {\"outlinewidth\": 0, \"ticks\": \"\"}, \"colorscale\": [[0.0, \"#0d0887\"], [0.1111111111111111, \"#46039f\"], [0.2222222222222222, \"#7201a8\"], [0.3333333333333333, \"#9c179e\"], [0.4444444444444444, \"#bd3786\"], [0.5555555555555556, \"#d8576b\"], [0.6666666666666666, \"#ed7953\"], [0.7777777777777778, \"#fb9f3a\"], [0.8888888888888888, \"#fdca26\"], [1.0, \"#f0f921\"]], \"type\": \"histogram2dcontour\"}], \"mesh3d\": [{\"colorbar\": {\"outlinewidth\": 0, \"ticks\": \"\"}, \"type\": \"mesh3d\"}], \"parcoords\": [{\"line\": {\"colorbar\": {\"outlinewidth\": 0, \"ticks\": \"\"}}, \"type\": \"parcoords\"}], \"pie\": [{\"automargin\": true, \"type\": \"pie\"}], \"scatter\": [{\"marker\": {\"colorbar\": {\"outlinewidth\": 0, \"ticks\": \"\"}}, \"type\": \"scatter\"}], \"scatter3d\": [{\"line\": {\"colorbar\": {\"outlinewidth\": 0, \"ticks\": \"\"}}, \"marker\": {\"colorbar\": {\"outlinewidth\": 0, \"ticks\": \"\"}}, \"type\": \"scatter3d\"}], \"scattercarpet\": [{\"marker\": {\"colorbar\": {\"outlinewidth\": 0, \"ticks\": \"\"}}, \"type\": \"scattercarpet\"}], \"scattergeo\": [{\"marker\": {\"colorbar\": {\"outlinewidth\": 0, \"ticks\": \"\"}}, \"type\": \"scattergeo\"}], \"scattergl\": [{\"marker\": {\"colorbar\": {\"outlinewidth\": 0, \"ticks\": \"\"}}, \"type\": \"scattergl\"}], \"scattermapbox\": [{\"marker\": {\"colorbar\": {\"outlinewidth\": 0, \"ticks\": \"\"}}, \"type\": \"scattermapbox\"}], \"scatterpolar\": [{\"marker\": {\"colorbar\": {\"outlinewidth\": 0, \"ticks\": \"\"}}, \"type\": \"scatterpolar\"}], \"scatterpolargl\": [{\"marker\": {\"colorbar\": {\"outlinewidth\": 0, \"ticks\": \"\"}}, \"type\": \"scatterpolargl\"}], \"scatterternary\": [{\"marker\": {\"colorbar\": {\"outlinewidth\": 0, \"ticks\": \"\"}}, \"type\": \"scatterternary\"}], \"surface\": [{\"colorbar\": {\"outlinewidth\": 0, \"ticks\": \"\"}, \"colorscale\": [[0.0, \"#0d0887\"], [0.1111111111111111, \"#46039f\"], [0.2222222222222222, \"#7201a8\"], [0.3333333333333333, \"#9c179e\"], [0.4444444444444444, \"#bd3786\"], [0.5555555555555556, \"#d8576b\"], [0.6666666666666666, \"#ed7953\"], [0.7777777777777778, \"#fb9f3a\"], [0.8888888888888888, \"#fdca26\"], [1.0, \"#f0f921\"]], \"type\": \"surface\"}], \"table\": [{\"cells\": {\"fill\": {\"color\": \"#EBF0F8\"}, \"line\": {\"color\": \"white\"}}, \"header\": {\"fill\": {\"color\": \"#C8D4E3\"}, \"line\": {\"color\": \"white\"}}, \"type\": \"table\"}]}, \"layout\": {\"annotationdefaults\": {\"arrowcolor\": \"#2a3f5f\", \"arrowhead\": 0, \"arrowwidth\": 1}, \"coloraxis\": {\"colorbar\": {\"outlinewidth\": 0, \"ticks\": \"\"}}, \"colorscale\": {\"diverging\": [[0, \"#8e0152\"], [0.1, \"#c51b7d\"], [0.2, \"#de77ae\"], [0.3, \"#f1b6da\"], [0.4, \"#fde0ef\"], [0.5, \"#f7f7f7\"], [0.6, \"#e6f5d0\"], [0.7, \"#b8e186\"], [0.8, \"#7fbc41\"], [0.9, \"#4d9221\"], [1, \"#276419\"]], \"sequential\": [[0.0, \"#0d0887\"], [0.1111111111111111, \"#46039f\"], [0.2222222222222222, \"#7201a8\"], [0.3333333333333333, \"#9c179e\"], [0.4444444444444444, \"#bd3786\"], [0.5555555555555556, \"#d8576b\"], [0.6666666666666666, \"#ed7953\"], [0.7777777777777778, \"#fb9f3a\"], [0.8888888888888888, \"#fdca26\"], [1.0, \"#f0f921\"]], \"sequentialminus\": [[0.0, \"#0d0887\"], [0.1111111111111111, \"#46039f\"], [0.2222222222222222, \"#7201a8\"], [0.3333333333333333, \"#9c179e\"], [0.4444444444444444, \"#bd3786\"], [0.5555555555555556, \"#d8576b\"], [0.6666666666666666, \"#ed7953\"], [0.7777777777777778, \"#fb9f3a\"], [0.8888888888888888, \"#fdca26\"], [1.0, \"#f0f921\"]]}, \"colorway\": [\"#636efa\", \"#EF553B\", \"#00cc96\", \"#ab63fa\", \"#FFA15A\", \"#19d3f3\", \"#FF6692\", \"#B6E880\", \"#FF97FF\", \"#FECB52\"], \"font\": {\"color\": \"#2a3f5f\"}, \"geo\": {\"bgcolor\": \"white\", \"lakecolor\": \"white\", \"landcolor\": \"#E5ECF6\", \"showlakes\": true, \"showland\": true, \"subunitcolor\": \"white\"}, \"hoverlabel\": {\"align\": \"left\"}, \"hovermode\": \"closest\", \"mapbox\": {\"style\": \"light\"}, \"paper_bgcolor\": \"white\", \"plot_bgcolor\": \"#E5ECF6\", \"polar\": {\"angularaxis\": {\"gridcolor\": \"white\", \"linecolor\": \"white\", \"ticks\": \"\"}, \"bgcolor\": \"#E5ECF6\", \"radialaxis\": {\"gridcolor\": \"white\", \"linecolor\": \"white\", \"ticks\": \"\"}}, \"scene\": {\"xaxis\": {\"backgroundcolor\": \"#E5ECF6\", \"gridcolor\": \"white\", \"gridwidth\": 2, \"linecolor\": \"white\", \"showbackground\": true, \"ticks\": \"\", \"zerolinecolor\": \"white\"}, \"yaxis\": {\"backgroundcolor\": \"#E5ECF6\", \"gridcolor\": \"white\", \"gridwidth\": 2, \"linecolor\": \"white\", \"showbackground\": true, \"ticks\": \"\", \"zerolinecolor\": \"white\"}, \"zaxis\": {\"backgroundcolor\": \"#E5ECF6\", \"gridcolor\": \"white\", \"gridwidth\": 2, \"linecolor\": \"white\", \"showbackground\": true, \"ticks\": \"\", \"zerolinecolor\": \"white\"}}, \"shapedefaults\": {\"line\": {\"color\": \"#2a3f5f\"}}, \"ternary\": {\"aaxis\": {\"gridcolor\": \"white\", \"linecolor\": \"white\", \"ticks\": \"\"}, \"baxis\": {\"gridcolor\": \"white\", \"linecolor\": \"white\", \"ticks\": \"\"}, \"bgcolor\": \"#E5ECF6\", \"caxis\": {\"gridcolor\": \"white\", \"linecolor\": \"white\", \"ticks\": \"\"}}, \"title\": {\"x\": 0.05}, \"xaxis\": {\"automargin\": true, \"gridcolor\": \"white\", \"linecolor\": \"white\", \"ticks\": \"\", \"title\": {\"standoff\": 15}, \"zerolinecolor\": \"white\", \"zerolinewidth\": 2}, \"yaxis\": {\"automargin\": true, \"gridcolor\": \"white\", \"linecolor\": \"white\", \"ticks\": \"\", \"title\": {\"standoff\": 15}, \"zerolinecolor\": \"white\", \"zerolinewidth\": 2}}}, \"title\": {\"font\": {\"color\": \"#4D5663\"}, \"text\": \"Prediction by Datetime\"}, \"xaxis\": {\"gridcolor\": \"#E1E5ED\", \"showgrid\": true, \"tickfont\": {\"color\": \"#4D5663\"}, \"title\": {\"font\": {\"color\": \"#4D5663\"}, \"text\": \"Datetime\"}, \"zerolinecolor\": \"#E1E5ED\"}, \"yaxis\": {\"gridcolor\": \"#E1E5ED\", \"showgrid\": true, \"tickfont\": {\"color\": \"#4D5663\"}, \"title\": {\"font\": {\"color\": \"#4D5663\"}, \"text\": \"Count\"}, \"zerolinecolor\": \"#E1E5ED\"}},\n",
       "                        {\"showLink\": true, \"linkText\": \"Export to plot.ly\", \"plotlyServerURL\": \"https://plot.ly\", \"responsive\": true}\n",
       "                    ).then(function(){\n",
       "                            \n",
       "var gd = document.getElementById('0b533d53-ded8-470e-acfa-26d2432d70df');\n",
       "var x = new MutationObserver(function (mutations, observer) {{\n",
       "        var display = window.getComputedStyle(gd).display;\n",
       "        if (!display || display === 'none') {{\n",
       "            console.log([gd, 'removed!']);\n",
       "            Plotly.purge(gd);\n",
       "            observer.disconnect();\n",
       "        }}\n",
       "}});\n",
       "\n",
       "// Listen for the removal of the full notebook cells\n",
       "var notebookContainer = gd.closest('#notebook-container');\n",
       "if (notebookContainer) {{\n",
       "    x.observe(notebookContainer, {childList: true});\n",
       "}}\n",
       "\n",
       "// Listen for the clearing of the current output cell\n",
       "var outputEl = gd.closest('.output');\n",
       "if (outputEl) {{\n",
       "    x.observe(outputEl, {childList: true});\n",
       "}}\n",
       "\n",
       "                        })\n",
       "                };\n",
       "                });\n",
       "            </script>\n",
       "        </div>"
      ]
     },
     "metadata": {},
     "output_type": "display_data"
    }
   ],
   "source": [
    "test_df.groupby('datetime')['cnt','lr_pred','rf_pred','xgb_pred','lgbm_pred','zip_code'].sum().iplot(kind='scatter', title='Prediction by Datetime', xTitle='Datetime', yTitle='Count')"
   ]
  },
  {
   "cell_type": "markdown",
   "metadata": {},
   "source": [
    "<img src=\"https://github.com/jiyoungsim/BigQuery-NYC-Taxi-Demand--EDA-and-Prediction/blob/master/figs/pred_by_datetime.png?raw=true\">"
   ]
  },
  {
   "cell_type": "code",
   "execution_count": 44,
   "metadata": {},
   "outputs": [
    {
     "data": {
      "application/vnd.plotly.v1+json": {
       "config": {
        "linkText": "Export to plot.ly",
        "plotlyServerURL": "https://plot.ly",
        "showLink": true
       },
       "data": [
        {
         "line": {
          "color": "rgba(255, 153, 51, 1.0)",
          "dash": "solid",
          "shape": "linear",
          "width": 1.3
         },
         "mode": "lines",
         "name": "cnt",
         "text": "",
         "type": "scatter",
         "x": [
          "10001",
          "10002",
          "10003",
          "10004",
          "10005",
          "10006",
          "10007",
          "10009",
          "10010",
          "10011",
          "10012",
          "10013",
          "10014",
          "10016",
          "10017",
          "10018",
          "10019",
          "10020",
          "10021",
          "10022",
          "10023",
          "10024",
          "10025",
          "10026",
          "10027",
          "10028",
          "10029",
          "10030",
          "10031",
          "10032",
          "10033",
          "10034",
          "10035",
          "10036",
          "10037",
          "10038",
          "10039",
          "10040",
          "10044",
          "10065",
          "10069",
          "10075",
          "10103",
          "10110",
          "10111",
          "10112",
          "10115",
          "10119",
          "10128",
          "10152",
          "10153",
          "10154",
          "10162",
          "10165",
          "10167",
          "10168",
          "10169",
          "10170",
          "10171",
          "10172",
          "10173",
          "10174",
          "10177",
          "10199",
          "10271",
          "10278",
          "10279",
          "10280",
          "10282",
          "10301",
          "10302",
          "10303",
          "10304",
          "10305",
          "10306",
          "10308",
          "10310",
          "10312",
          "10314",
          "10451",
          "10452",
          "10453",
          "10454",
          "10455",
          "10456",
          "10457",
          "10458",
          "10459",
          "10460",
          "10461",
          "10462",
          "10463",
          "10465",
          "10466",
          "10467",
          "10468",
          "10469",
          "10470",
          "10471",
          "10472",
          "10473",
          "10474",
          "10475",
          "10502",
          "10510",
          "10519",
          "10522",
          "10523",
          "10528",
          "10530",
          "10536",
          "10538",
          "10543",
          "10547",
          "10550",
          "10552",
          "10553",
          "10570",
          "10573",
          "10577",
          "10580",
          "10583",
          "10591",
          "10598",
          "10601",
          "10603",
          "10604",
          "10605",
          "10701",
          "10703",
          "10704",
          "10705",
          "10706",
          "10707",
          "10708",
          "10709",
          "10710",
          "10801",
          "10803",
          "10805",
          "10917",
          "10941",
          "10956",
          "10960",
          "10962",
          "10994",
          "11001",
          "11003",
          "11004",
          "11010",
          "11020",
          "11021",
          "11024",
          "11030",
          "11040",
          "11042",
          "11101",
          "11102",
          "11103",
          "11104",
          "11105",
          "11106",
          "11109",
          "11201",
          "11203",
          "11204",
          "11205",
          "11206",
          "11207",
          "11208",
          "11209",
          "11210",
          "11211",
          "11212",
          "11213",
          "11214",
          "11215",
          "11216",
          "11217",
          "11218",
          "11219",
          "11220",
          "11221",
          "11222",
          "11223",
          "11224",
          "11225",
          "11226",
          "11228",
          "11229",
          "11230",
          "11231",
          "11232",
          "11233",
          "11234",
          "11235",
          "11236",
          "11237",
          "11238",
          "11239",
          "11354",
          "11355",
          "11356",
          "11357",
          "11358",
          "11360",
          "11361",
          "11362",
          "11363",
          "11364",
          "11365",
          "11366",
          "11367",
          "11368",
          "11369",
          "11370",
          "11371",
          "11372",
          "11373",
          "11374",
          "11375",
          "11377",
          "11378",
          "11379",
          "11385",
          "11411",
          "11412",
          "11413",
          "11414",
          "11415",
          "11416",
          "11417",
          "11418",
          "11419",
          "11420",
          "11421",
          "11422",
          "11423",
          "11424",
          "11426",
          "11427",
          "11428",
          "11429",
          "11430",
          "11432",
          "11433",
          "11434",
          "11435",
          "11436",
          "11501",
          "11507",
          "11509",
          "11510",
          "11518",
          "11530",
          "11542",
          "11549",
          "11550",
          "11552",
          "11553",
          "11557",
          "11559",
          "11560",
          "11561",
          "11563",
          "11565",
          "11566",
          "11568",
          "11570",
          "11576",
          "11580",
          "11581",
          "11590",
          "11691",
          "11692",
          "11693",
          "11694",
          "11697",
          "11701",
          "11704",
          "11706",
          "11710",
          "11726",
          "11735",
          "11743",
          "11746",
          "11747",
          "11753",
          "11756",
          "11779",
          "11780",
          "11791",
          "11797",
          "11801",
          "11803",
          "11804",
          "12601",
          "13029",
          "13691",
          "14801"
         ],
         "y": [
          147413,
          62126,
          177924,
          12877,
          12450,
          7873,
          20709,
          67281,
          94165,
          162467,
          91218,
          72924,
          108204,
          158976,
          97984,
          73496,
          187109,
          9528,
          103806,
          154509,
          112315,
          86047,
          72073,
          7496,
          13115,
          83887,
          20082,
          1593,
          4325,
          2079,
          901,
          341,
          6505,
          136512,
          1242,
          16563,
          530,
          222,
          263,
          96853,
          5510,
          54207,
          3253,
          2848,
          1491,
          1785,
          24,
          35753,
          90013,
          2447,
          3935,
          2386,
          1353,
          6147,
          1748,
          3392,
          1071,
          5918,
          2508,
          2754,
          1623,
          3845,
          1044,
          5489,
          147,
          776,
          976,
          12110,
          11528,
          5,
          1,
          1,
          2,
          9,
          7,
          1,
          30,
          1,
          10,
          830,
          162,
          75,
          294,
          170,
          118,
          65,
          51,
          51,
          42,
          40,
          69,
          111,
          17,
          17,
          65,
          81,
          21,
          11,
          28,
          54,
          30,
          14,
          10,
          1,
          2,
          1,
          1,
          2,
          2,
          2,
          1,
          8,
          2,
          1,
          1,
          2,
          1,
          1,
          4,
          2,
          3,
          7,
          5,
          1,
          6,
          1,
          9,
          3,
          6,
          2,
          10,
          4,
          1,
          5,
          4,
          2,
          2,
          13,
          6,
          4,
          1,
          1,
          1,
          1,
          3,
          1,
          5,
          4,
          34,
          9,
          2,
          6,
          1,
          8,
          6,
          2,
          10475,
          3541,
          2554,
          3784,
          1502,
          4492,
          907,
          13050,
          79,
          58,
          2235,
          2561,
          110,
          78,
          137,
          73,
          16355,
          38,
          282,
          81,
          3076,
          1174,
          5781,
          426,
          55,
          121,
          862,
          3534,
          46,
          13,
          525,
          380,
          24,
          54,
          193,
          3802,
          274,
          249,
          48,
          46,
          35,
          961,
          2420,
          7,
          176,
          66,
          8,
          16,
          33,
          8,
          14,
          2,
          1,
          4,
          27,
          27,
          149,
          271,
          756,
          1007,
          48178,
          1380,
          1266,
          457,
          749,
          3355,
          232,
          59,
          178,
          9,
          5,
          10,
          16,
          117,
          25,
          39,
          72,
          59,
          76,
          54,
          14,
          12,
          40,
          21,
          17,
          9,
          4,
          48741,
          156,
          18,
          105,
          484,
          281,
          1,
          1,
          1,
          2,
          1,
          2,
          1,
          3,
          7,
          4,
          3,
          3,
          3,
          4,
          2,
          1,
          1,
          7,
          1,
          3,
          1,
          6,
          2,
          4,
          3,
          2,
          1,
          8,
          1,
          1,
          1,
          1,
          1,
          1,
          7,
          1,
          3,
          2,
          1,
          3,
          1,
          1,
          2,
          1,
          98,
          3,
          1,
          1,
          1,
          1,
          1
         ]
        },
        {
         "line": {
          "color": "rgba(55, 128, 191, 1.0)",
          "dash": "solid",
          "shape": "linear",
          "width": 1.3
         },
         "mode": "lines",
         "name": "lr_pred",
         "text": "",
         "type": "scatter",
         "x": [
          "10001",
          "10002",
          "10003",
          "10004",
          "10005",
          "10006",
          "10007",
          "10009",
          "10010",
          "10011",
          "10012",
          "10013",
          "10014",
          "10016",
          "10017",
          "10018",
          "10019",
          "10020",
          "10021",
          "10022",
          "10023",
          "10024",
          "10025",
          "10026",
          "10027",
          "10028",
          "10029",
          "10030",
          "10031",
          "10032",
          "10033",
          "10034",
          "10035",
          "10036",
          "10037",
          "10038",
          "10039",
          "10040",
          "10044",
          "10065",
          "10069",
          "10075",
          "10103",
          "10110",
          "10111",
          "10112",
          "10115",
          "10119",
          "10128",
          "10152",
          "10153",
          "10154",
          "10162",
          "10165",
          "10167",
          "10168",
          "10169",
          "10170",
          "10171",
          "10172",
          "10173",
          "10174",
          "10177",
          "10199",
          "10271",
          "10278",
          "10279",
          "10280",
          "10282",
          "10301",
          "10302",
          "10303",
          "10304",
          "10305",
          "10306",
          "10308",
          "10310",
          "10312",
          "10314",
          "10451",
          "10452",
          "10453",
          "10454",
          "10455",
          "10456",
          "10457",
          "10458",
          "10459",
          "10460",
          "10461",
          "10462",
          "10463",
          "10465",
          "10466",
          "10467",
          "10468",
          "10469",
          "10470",
          "10471",
          "10472",
          "10473",
          "10474",
          "10475",
          "10502",
          "10510",
          "10519",
          "10522",
          "10523",
          "10528",
          "10530",
          "10536",
          "10538",
          "10543",
          "10547",
          "10550",
          "10552",
          "10553",
          "10570",
          "10573",
          "10577",
          "10580",
          "10583",
          "10591",
          "10598",
          "10601",
          "10603",
          "10604",
          "10605",
          "10701",
          "10703",
          "10704",
          "10705",
          "10706",
          "10707",
          "10708",
          "10709",
          "10710",
          "10801",
          "10803",
          "10805",
          "10917",
          "10941",
          "10956",
          "10960",
          "10962",
          "10994",
          "11001",
          "11003",
          "11004",
          "11010",
          "11020",
          "11021",
          "11024",
          "11030",
          "11040",
          "11042",
          "11101",
          "11102",
          "11103",
          "11104",
          "11105",
          "11106",
          "11109",
          "11201",
          "11203",
          "11204",
          "11205",
          "11206",
          "11207",
          "11208",
          "11209",
          "11210",
          "11211",
          "11212",
          "11213",
          "11214",
          "11215",
          "11216",
          "11217",
          "11218",
          "11219",
          "11220",
          "11221",
          "11222",
          "11223",
          "11224",
          "11225",
          "11226",
          "11228",
          "11229",
          "11230",
          "11231",
          "11232",
          "11233",
          "11234",
          "11235",
          "11236",
          "11237",
          "11238",
          "11239",
          "11354",
          "11355",
          "11356",
          "11357",
          "11358",
          "11360",
          "11361",
          "11362",
          "11363",
          "11364",
          "11365",
          "11366",
          "11367",
          "11368",
          "11369",
          "11370",
          "11371",
          "11372",
          "11373",
          "11374",
          "11375",
          "11377",
          "11378",
          "11379",
          "11385",
          "11411",
          "11412",
          "11413",
          "11414",
          "11415",
          "11416",
          "11417",
          "11418",
          "11419",
          "11420",
          "11421",
          "11422",
          "11423",
          "11424",
          "11426",
          "11427",
          "11428",
          "11429",
          "11430",
          "11432",
          "11433",
          "11434",
          "11435",
          "11436",
          "11501",
          "11507",
          "11509",
          "11510",
          "11518",
          "11530",
          "11542",
          "11549",
          "11550",
          "11552",
          "11553",
          "11557",
          "11559",
          "11560",
          "11561",
          "11563",
          "11565",
          "11566",
          "11568",
          "11570",
          "11576",
          "11580",
          "11581",
          "11590",
          "11691",
          "11692",
          "11693",
          "11694",
          "11697",
          "11701",
          "11704",
          "11706",
          "11710",
          "11726",
          "11735",
          "11743",
          "11746",
          "11747",
          "11753",
          "11756",
          "11779",
          "11780",
          "11791",
          "11797",
          "11801",
          "11803",
          "11804",
          "12601",
          "13029",
          "13691",
          "14801"
         ],
         "y": [
          143859.54405691256,
          45477.07645061317,
          156146.91148855395,
          11921.290509952074,
          10947.83055330419,
          6653.896893889484,
          18409.13895539515,
          56803.780242524495,
          82976.3273389618,
          148834.77898583925,
          76119.81205976076,
          64277.19264209786,
          94326.96509809826,
          143822.95872857314,
          90575.88817986009,
          74637.95804254782,
          188981.20157092996,
          7881.730571812826,
          81185.85301361598,
          144933.9287880745,
          89052.15159688472,
          72018.68636392191,
          60689.35973266736,
          6235.464172742789,
          10560.161189818638,
          69110.85976668734,
          18415.028442861963,
          1131.5230072091067,
          3951.688646791801,
          1975.72499746727,
          702.6772293809368,
          252.57498872001798,
          5525.721010558692,
          146211.62586215846,
          833.9138498773796,
          14422.702170409972,
          457.358473748524,
          185.56358107916853,
          224.9020778489904,
          77931.9049280922,
          3834.8880093478415,
          42276.478510109446,
          2859.379729395146,
          2457.9002835188808,
          1212.6325409911376,
          1484.7935387899768,
          28.647645492148616,
          31367.42934166329,
          71502.10199951002,
          1778.669623064998,
          3053.0434732554622,
          1954.2029421431282,
          1001.2405160950192,
          4838.198965281576,
          1488.5501961892198,
          3051.207477164748,
          1012.3724323352113,
          5377.801599484094,
          2363.840098699865,
          2239.178671570655,
          1542.9371323035696,
          3330.0000463116517,
          901.2527482205787,
          4612.993479652574,
          147.1237712981131,
          667.133034297981,
          786.5498867561092,
          9222.117766433868,
          7953.124999132192,
          4.389016555041419,
          1.1622128011080062,
          1.135212219054336,
          2.9781024953314414,
          9.195448807053692,
          5.940863296496413,
          0.6675567085621387,
          12.98873790421364,
          1.8111771164667605,
          7.970342886646852,
          617.955140789938,
          171.19818024376227,
          84.28678753783764,
          286.90247437456406,
          127.89381292867509,
          138.13926844805744,
          54.635625284669786,
          60.62600057950718,
          52.893566719133176,
          41.027162057891836,
          45.85361318541934,
          67.24236270279025,
          116.62947739104956,
          17.11675879391952,
          21.39866816093732,
          57.73502171602909,
          81.65927482901687,
          22.95354798557432,
          10.546399668863401,
          31.423523766433103,
          56.432838081817096,
          22.49280090963165,
          15.32602838652995,
          11.065886251200316,
          1.4006774664298909,
          14.57048933170875,
          0,
          0.820097672603812,
          2.75854765677977,
          2.4339463899648663,
          2.187380545450921,
          0,
          6.437422344316201,
          2.4872141904395084,
          0,
          0.6808815052078888,
          2.553866000789758,
          0,
          1.343413414574501,
          5.275801470859541,
          1.7314340494046747,
          3.4016525273030225,
          7.022189734820256,
          7.990340953816967,
          0,
          5.522639925887198,
          0.8844178716407284,
          4.338930628796183,
          4.130535140980308,
          7.088132203321539,
          2.4870242014953066,
          12.629038905919574,
          3.924094892391517,
          1.4775406048114335,
          6.044763150618579,
          4.078521457768273,
          2.037540117897933,
          2.1865463025281,
          11.301916257010946,
          5.382225662301914,
          3.6004029843070455,
          0,
          0,
          0.753221628438907,
          1.53627312709212,
          2.9203867836129147,
          0,
          5.572074005658958,
          3.9168964976936245,
          38.01101684632094,
          4.781210363521233,
          3.0334195513747693,
          6.758107049340309,
          1.2841650220714858,
          7.9222375741623665,
          4.465038896998362,
          0,
          11103.620755225384,
          3205.3339582901294,
          2096.727036748076,
          3148.504073067859,
          1166.3295360172124,
          4358.849476096194,
          486.14034587767986,
          11003.444090293706,
          75.63659455570594,
          73.3043547365086,
          1457.6585276211752,
          1172.0624488152462,
          102.18379091686101,
          74.39674787136558,
          119.22801605969777,
          72.02671150985077,
          9231.870455609178,
          38.38390906361411,
          252.86280938943946,
          63.24814296823788,
          2115.697677060237,
          794.6302303232139,
          4448.788095563312,
          393.93249040833996,
          59.53848504335066,
          117.92978906799482,
          578.5470231829888,
          2136.4489550112594,
          46.91339160044236,
          15.59814183554476,
          397.55325040317365,
          334.70463379174794,
          25.43427287653887,
          45.781588176584506,
          169.5948419333787,
          2658.6849406755014,
          275.91114008544395,
          217.62640560005326,
          46.65497448232804,
          46.23620865425217,
          36.49790876163165,
          396.0390480631578,
          1451.4764246813334,
          8.245916222215147,
          175.72650121855443,
          67.51085196531298,
          9.88388166036971,
          17.24108113114766,
          21.979677404223015,
          4.80409460868594,
          14.001306219666407,
          2.445210840917484,
          1.1992609293588872,
          2.4809054969335937,
          28.61006300351568,
          26.831186459848244,
          138.70041970545444,
          256.3206693422756,
          702.8935883744108,
          718.4117508845098,
          28205.99439056404,
          898.2869582244239,
          981.4595207929457,
          366.4140583857944,
          555.2069061637937,
          2764.8616446245883,
          216.81939210716493,
          62.96188244948135,
          158.5016558430234,
          8.113479336494544,
          7.604224452019226,
          10.12370131365019,
          16.77579830714058,
          117.51884114764289,
          15.986094499594712,
          36.77980640193675,
          73.58361299630761,
          56.90785349792007,
          73.46221029390188,
          54.8383135741811,
          17.504198405138585,
          14.471168986391737,
          41.52138484727218,
          23.55026227404018,
          19.256132155444412,
          9.880961364651839,
          4.5636693043563925,
          48773.72995192187,
          141.0245240733971,
          18.401435018810044,
          110.44649310756155,
          456.75155630839373,
          262.6981660203478,
          1.392207553770733,
          0,
          2.1123535119200003,
          2.4463549588576217,
          0,
          2.2309129215761008,
          0,
          0,
          6.134863448937653,
          4.345951969244036,
          3.9545540799670977,
          3.2822833220585776,
          6.42432574618555,
          2.1116567767060213,
          1.381727396964024,
          0.5374342825363739,
          1.0304414835408087,
          3.4124187097388416,
          2.201382095154188,
          3.5892770093772404,
          1.0089663506432638,
          6.432508128501324,
          2.7105401458459975,
          5.550634615035537,
          6.193202527886198,
          2.248871711998844,
          0.8148385204218476,
          7.743263552269488,
          1.2687417550235043,
          1.269966832123672,
          0,
          1.1701312667025716,
          0.5934564427357254,
          0,
          2.3154081532303943,
          1.7848565961811926,
          3.9095012081235305,
          2.3325105238595887,
          0.7950963983491854,
          7.416711113490145,
          1.3391845072835054,
          0,
          2.538263757280036,
          0.8234896230760878,
          79.08485794073587,
          4.66774618522465,
          0,
          0,
          0,
          0,
          0
         ]
        },
        {
         "line": {
          "color": "rgba(50, 171, 96, 1.0)",
          "dash": "solid",
          "shape": "linear",
          "width": 1.3
         },
         "mode": "lines",
         "name": "rf_pred",
         "text": "",
         "type": "scatter",
         "x": [
          "10001",
          "10002",
          "10003",
          "10004",
          "10005",
          "10006",
          "10007",
          "10009",
          "10010",
          "10011",
          "10012",
          "10013",
          "10014",
          "10016",
          "10017",
          "10018",
          "10019",
          "10020",
          "10021",
          "10022",
          "10023",
          "10024",
          "10025",
          "10026",
          "10027",
          "10028",
          "10029",
          "10030",
          "10031",
          "10032",
          "10033",
          "10034",
          "10035",
          "10036",
          "10037",
          "10038",
          "10039",
          "10040",
          "10044",
          "10065",
          "10069",
          "10075",
          "10103",
          "10110",
          "10111",
          "10112",
          "10115",
          "10119",
          "10128",
          "10152",
          "10153",
          "10154",
          "10162",
          "10165",
          "10167",
          "10168",
          "10169",
          "10170",
          "10171",
          "10172",
          "10173",
          "10174",
          "10177",
          "10199",
          "10271",
          "10278",
          "10279",
          "10280",
          "10282",
          "10301",
          "10302",
          "10303",
          "10304",
          "10305",
          "10306",
          "10308",
          "10310",
          "10312",
          "10314",
          "10451",
          "10452",
          "10453",
          "10454",
          "10455",
          "10456",
          "10457",
          "10458",
          "10459",
          "10460",
          "10461",
          "10462",
          "10463",
          "10465",
          "10466",
          "10467",
          "10468",
          "10469",
          "10470",
          "10471",
          "10472",
          "10473",
          "10474",
          "10475",
          "10502",
          "10510",
          "10519",
          "10522",
          "10523",
          "10528",
          "10530",
          "10536",
          "10538",
          "10543",
          "10547",
          "10550",
          "10552",
          "10553",
          "10570",
          "10573",
          "10577",
          "10580",
          "10583",
          "10591",
          "10598",
          "10601",
          "10603",
          "10604",
          "10605",
          "10701",
          "10703",
          "10704",
          "10705",
          "10706",
          "10707",
          "10708",
          "10709",
          "10710",
          "10801",
          "10803",
          "10805",
          "10917",
          "10941",
          "10956",
          "10960",
          "10962",
          "10994",
          "11001",
          "11003",
          "11004",
          "11010",
          "11020",
          "11021",
          "11024",
          "11030",
          "11040",
          "11042",
          "11101",
          "11102",
          "11103",
          "11104",
          "11105",
          "11106",
          "11109",
          "11201",
          "11203",
          "11204",
          "11205",
          "11206",
          "11207",
          "11208",
          "11209",
          "11210",
          "11211",
          "11212",
          "11213",
          "11214",
          "11215",
          "11216",
          "11217",
          "11218",
          "11219",
          "11220",
          "11221",
          "11222",
          "11223",
          "11224",
          "11225",
          "11226",
          "11228",
          "11229",
          "11230",
          "11231",
          "11232",
          "11233",
          "11234",
          "11235",
          "11236",
          "11237",
          "11238",
          "11239",
          "11354",
          "11355",
          "11356",
          "11357",
          "11358",
          "11360",
          "11361",
          "11362",
          "11363",
          "11364",
          "11365",
          "11366",
          "11367",
          "11368",
          "11369",
          "11370",
          "11371",
          "11372",
          "11373",
          "11374",
          "11375",
          "11377",
          "11378",
          "11379",
          "11385",
          "11411",
          "11412",
          "11413",
          "11414",
          "11415",
          "11416",
          "11417",
          "11418",
          "11419",
          "11420",
          "11421",
          "11422",
          "11423",
          "11424",
          "11426",
          "11427",
          "11428",
          "11429",
          "11430",
          "11432",
          "11433",
          "11434",
          "11435",
          "11436",
          "11501",
          "11507",
          "11509",
          "11510",
          "11518",
          "11530",
          "11542",
          "11549",
          "11550",
          "11552",
          "11553",
          "11557",
          "11559",
          "11560",
          "11561",
          "11563",
          "11565",
          "11566",
          "11568",
          "11570",
          "11576",
          "11580",
          "11581",
          "11590",
          "11691",
          "11692",
          "11693",
          "11694",
          "11697",
          "11701",
          "11704",
          "11706",
          "11710",
          "11726",
          "11735",
          "11743",
          "11746",
          "11747",
          "11753",
          "11756",
          "11779",
          "11780",
          "11791",
          "11797",
          "11801",
          "11803",
          "11804",
          "12601",
          "13029",
          "13691",
          "14801"
         ],
         "y": [
          177391.234,
          72182.09,
          203530.11199999996,
          15931.340000000002,
          14414.695999999998,
          10237.097999999996,
          24250.58000000002,
          74497.62000000002,
          110208.22599999995,
          187019.10199999996,
          105228.90200000005,
          85699.25400000003,
          124043.91999999997,
          183908.60799999992,
          120076.59000000007,
          90784.40199999997,
          226098.50800000015,
          12173.594000000001,
          115792.43200000009,
          186722.91200000007,
          128122.44400000003,
          97281.67400000001,
          76811.39199999999,
          7259.170000000001,
          13440.216000000004,
          94603.56599999996,
          20311.492000000017,
          1325.7939999999992,
          4547.919999999999,
          2214.6580000000004,
          929.5899999999999,
          318.154,
          6224.688,
          165809.52599999993,
          1044.0979999999995,
          18610.039999999997,
          555.1719999999999,
          234.9559999999999,
          262.562,
          109734.83800000005,
          6325.468000000002,
          59331.71799999998,
          4429.538,
          3451.9800000000005,
          2047.7699999999998,
          2420.867999999999,
          32.012,
          45480.945999999996,
          99754.45399999998,
          3159.112000000001,
          4703.174,
          3032.096000000002,
          1541.7339999999995,
          7385.317999999995,
          2271.69,
          4262.405999999998,
          1409.77,
          7470.165999999999,
          3361.192,
          3263.650000000001,
          2205.7599999999998,
          4723.484,
          1277.8960000000002,
          6681.764,
          186.884,
          869.0939999999995,
          1091.8480000000002,
          13710.170000000002,
          13160.078000000003,
          4.912,
          1.122,
          1.108,
          2.4779999999999998,
          9.026,
          6.722,
          1.036,
          12.688000000000002,
          1.082,
          9.280000000000001,
          731.6080000000002,
          181.20999999999998,
          92.868,
          308.6799999999999,
          150.528,
          131.59999999999994,
          51.222,
          51.486,
          53.40599999999999,
          41.054,
          49.306,
          79.31200000000001,
          125.61999999999998,
          22.006000000000004,
          22.23,
          55.21,
          78.146,
          25.81,
          9.574,
          29.819999999999993,
          55.146000000000015,
          24.621999999999996,
          12.628,
          10.368,
          1.594,
          2.316,
          1.164,
          1.338,
          2.068,
          2.106,
          2.194,
          1.014,
          6.419999999999999,
          2.462,
          1.144,
          1.084,
          2.3899999999999997,
          1.13,
          1.008,
          4.258,
          2.0300000000000002,
          3.776,
          7.068,
          6.0760000000000005,
          1.252,
          5.1419999999999995,
          1.186,
          4.682,
          3.8779999999999997,
          7.593999999999999,
          2.716,
          12.846,
          4.555999999999999,
          1.422,
          4.804,
          5.3260000000000005,
          2.42,
          2.268,
          14.171999999999999,
          6.812000000000001,
          3.758,
          1.316,
          1.12,
          1.408,
          1.266,
          2.702,
          1.154,
          6.747999999999999,
          4.78,
          26.166000000000007,
          4.748,
          2.776,
          6.949999999999999,
          1.278,
          9.598,
          6.263999999999999,
          2.426,
          11624.961999999998,
          3701.8680000000004,
          2731.894000000001,
          4263.566000000001,
          1572.6540000000007,
          4887.172,
          855.6180000000004,
          13676.216000000004,
          83.692,
          71.89400000000002,
          2395.4200000000014,
          2728.999999999998,
          115.65799999999999,
          97.434,
          139.44600000000003,
          99.19600000000001,
          18190.041999999998,
          64.378,
          296.19,
          67.264,
          3512.6880000000015,
          1339.1820000000002,
          6280.949999999996,
          628.5180000000001,
          56.90799999999999,
          117.98200000000006,
          1065.4399999999994,
          3841.8920000000016,
          48.34200000000001,
          21.53,
          549.728,
          437.264,
          31.755999999999997,
          56.56800000000001,
          241.84600000000003,
          3785.3639999999978,
          337.5639999999999,
          260.3380000000001,
          56.448,
          48.959999999999994,
          38.25599999999999,
          924.0879999999999,
          2667.3319999999994,
          12.475999999999999,
          215.82200000000003,
          102.128,
          10.16,
          16.35,
          20.386000000000006,
          4.656000000000001,
          14.666,
          2.194,
          1.058,
          4.268,
          32.322,
          30.816,
          165.71999999999994,
          313.2439999999998,
          805.0699999999996,
          1014.9420000000003,
          61294.464,
          1342.3539999999996,
          1271.4979999999996,
          474.24800000000016,
          760.9820000000001,
          3393.4440000000004,
          263.30400000000003,
          63.356000000000016,
          186.55599999999995,
          11.985999999999999,
          7.86,
          9.904,
          16.5,
          112.90400000000004,
          15.130000000000003,
          33.138000000000005,
          72.23400000000001,
          60.74999999999998,
          81.00200000000004,
          54.523999999999994,
          17.97,
          14.934000000000001,
          44.57,
          20.340000000000003,
          20.919999999999998,
          10.534,
          4.8,
          58803.04800000003,
          163.60000000000005,
          24.552,
          110.81200000000001,
          550.91,
          257.1320000000001,
          1.426,
          2.506,
          2.108,
          2.96,
          1.262,
          2.58,
          1.042,
          2.314,
          4.618,
          4.612,
          4.4639999999999995,
          4.04,
          3.654,
          2.76,
          2.984,
          1.588,
          1.75,
          5.37,
          1.246,
          3.284,
          1.068,
          6.958,
          2.524,
          5.9399999999999995,
          4.0920000000000005,
          2.082,
          1.024,
          7.860000000000001,
          1.15,
          1.264,
          1.124,
          1.1,
          1.114,
          1.124,
          2.2359999999999998,
          1.216,
          3.2119999999999997,
          2.06,
          1.038,
          2.332,
          1.17,
          1.032,
          2.132,
          1.406,
          80.25599999999999,
          4.874,
          1.156,
          1.164,
          1.294,
          1.336,
          1.366
         ]
        },
        {
         "line": {
          "color": "rgba(128, 0, 128, 1.0)",
          "dash": "solid",
          "shape": "linear",
          "width": 1.3
         },
         "mode": "lines",
         "name": "xgb_pred",
         "text": "",
         "type": "scatter",
         "x": [
          "10001",
          "10002",
          "10003",
          "10004",
          "10005",
          "10006",
          "10007",
          "10009",
          "10010",
          "10011",
          "10012",
          "10013",
          "10014",
          "10016",
          "10017",
          "10018",
          "10019",
          "10020",
          "10021",
          "10022",
          "10023",
          "10024",
          "10025",
          "10026",
          "10027",
          "10028",
          "10029",
          "10030",
          "10031",
          "10032",
          "10033",
          "10034",
          "10035",
          "10036",
          "10037",
          "10038",
          "10039",
          "10040",
          "10044",
          "10065",
          "10069",
          "10075",
          "10103",
          "10110",
          "10111",
          "10112",
          "10115",
          "10119",
          "10128",
          "10152",
          "10153",
          "10154",
          "10162",
          "10165",
          "10167",
          "10168",
          "10169",
          "10170",
          "10171",
          "10172",
          "10173",
          "10174",
          "10177",
          "10199",
          "10271",
          "10278",
          "10279",
          "10280",
          "10282",
          "10301",
          "10302",
          "10303",
          "10304",
          "10305",
          "10306",
          "10308",
          "10310",
          "10312",
          "10314",
          "10451",
          "10452",
          "10453",
          "10454",
          "10455",
          "10456",
          "10457",
          "10458",
          "10459",
          "10460",
          "10461",
          "10462",
          "10463",
          "10465",
          "10466",
          "10467",
          "10468",
          "10469",
          "10470",
          "10471",
          "10472",
          "10473",
          "10474",
          "10475",
          "10502",
          "10510",
          "10519",
          "10522",
          "10523",
          "10528",
          "10530",
          "10536",
          "10538",
          "10543",
          "10547",
          "10550",
          "10552",
          "10553",
          "10570",
          "10573",
          "10577",
          "10580",
          "10583",
          "10591",
          "10598",
          "10601",
          "10603",
          "10604",
          "10605",
          "10701",
          "10703",
          "10704",
          "10705",
          "10706",
          "10707",
          "10708",
          "10709",
          "10710",
          "10801",
          "10803",
          "10805",
          "10917",
          "10941",
          "10956",
          "10960",
          "10962",
          "10994",
          "11001",
          "11003",
          "11004",
          "11010",
          "11020",
          "11021",
          "11024",
          "11030",
          "11040",
          "11042",
          "11101",
          "11102",
          "11103",
          "11104",
          "11105",
          "11106",
          "11109",
          "11201",
          "11203",
          "11204",
          "11205",
          "11206",
          "11207",
          "11208",
          "11209",
          "11210",
          "11211",
          "11212",
          "11213",
          "11214",
          "11215",
          "11216",
          "11217",
          "11218",
          "11219",
          "11220",
          "11221",
          "11222",
          "11223",
          "11224",
          "11225",
          "11226",
          "11228",
          "11229",
          "11230",
          "11231",
          "11232",
          "11233",
          "11234",
          "11235",
          "11236",
          "11237",
          "11238",
          "11239",
          "11354",
          "11355",
          "11356",
          "11357",
          "11358",
          "11360",
          "11361",
          "11362",
          "11363",
          "11364",
          "11365",
          "11366",
          "11367",
          "11368",
          "11369",
          "11370",
          "11371",
          "11372",
          "11373",
          "11374",
          "11375",
          "11377",
          "11378",
          "11379",
          "11385",
          "11411",
          "11412",
          "11413",
          "11414",
          "11415",
          "11416",
          "11417",
          "11418",
          "11419",
          "11420",
          "11421",
          "11422",
          "11423",
          "11424",
          "11426",
          "11427",
          "11428",
          "11429",
          "11430",
          "11432",
          "11433",
          "11434",
          "11435",
          "11436",
          "11501",
          "11507",
          "11509",
          "11510",
          "11518",
          "11530",
          "11542",
          "11549",
          "11550",
          "11552",
          "11553",
          "11557",
          "11559",
          "11560",
          "11561",
          "11563",
          "11565",
          "11566",
          "11568",
          "11570",
          "11576",
          "11580",
          "11581",
          "11590",
          "11691",
          "11692",
          "11693",
          "11694",
          "11697",
          "11701",
          "11704",
          "11706",
          "11710",
          "11726",
          "11735",
          "11743",
          "11746",
          "11747",
          "11753",
          "11756",
          "11779",
          "11780",
          "11791",
          "11797",
          "11801",
          "11803",
          "11804",
          "12601",
          "13029",
          "13691",
          "14801"
         ],
         "y": [
          181057.9375,
          69654.640625,
          198551.53125,
          17792.19921875,
          15389.24609375,
          9312.2548828125,
          26252.880859375,
          69511.734375,
          113305.1796875,
          190263.921875,
          106022.109375,
          87369.6015625,
          123692.515625,
          189190.59375,
          127594.1796875,
          95394.0234375,
          229609.5,
          14427.0888671875,
          120024.2421875,
          196264.6875,
          130933.953125,
          99655.5703125,
          78794.4921875,
          10248.9375,
          15146.2685546875,
          93684.296875,
          20738.126953125,
          2906.740966796875,
          4228.02734375,
          2932.404541015625,
          1888.9456787109375,
          1533.759765625,
          7323.373046875,
          160185.53125,
          1858.7666015625,
          19165.783203125,
          900.855712890625,
          470.86676025390625,
          849.3685913085938,
          114572.78125,
          9722.3720703125,
          59729.06640625,
          5875.408203125,
          4843.4755859375,
          3478.4287109375,
          3666.46337890625,
          350.6080017089844,
          46221.203125,
          104537.453125,
          3645.0146484375,
          4817.6748046875,
          3950.96240234375,
          2911.326416015625,
          6412.10302734375,
          3062.465087890625,
          3959.96337890625,
          2401.05126953125,
          6382.60498046875,
          3655.013671875,
          3633.892333984375,
          3287.735107421875,
          4423.9033203125,
          2324.3125,
          6187.5126953125,
          574.4007568359375,
          1152.134033203125,
          1231.2144775390625,
          14648.2412109375,
          14647.921875,
          61.87580108642578,
          17.23886489868164,
          0.25269901752471924,
          0.37290430068969727,
          20.870647430419922,
          29.498889923095703,
          1.629098653793335,
          42.661170959472656,
          2.424237012863159,
          49.2513542175293,
          575.2276611328125,
          388.3396301269531,
          181.52696228027344,
          481.495361328125,
          280.27874755859375,
          208.3459014892578,
          159.89715576171875,
          83.99886322021484,
          150.76837158203125,
          147.32850646972656,
          166.56849670410156,
          212.38174438476562,
          322.01727294921875,
          73.33897399902344,
          75.2383041381836,
          162.0309600830078,
          220.0286102294922,
          50.50545883178711,
          35.043670654296875,
          111.09326171875,
          163.0386199951172,
          72.1507339477539,
          60.46039962768555,
          49.73440170288086,
          5.1576313972473145,
          7.085420608520508,
          1.3295555114746094,
          0.026404768228530884,
          2.155846118927002,
          3.882619619369507,
          11.072809219360352,
          1.6274700164794922,
          27.427934646606445,
          11.191755294799805,
          8.976497650146484,
          -1.4981359243392944,
          8.446091651916504,
          -0.6368062496185303,
          -2.159291982650757,
          10.91460132598877,
          8.998678207397461,
          -5.896590709686279,
          30.79620361328125,
          7.424929618835449,
          9.794502258300781,
          6.242081642150879,
          1.3327279090881348,
          3.4621407985687256,
          10.215411186218262,
          15.464487075805664,
          5.530365943908691,
          45.51049041748047,
          21.212596893310547,
          6.580097675323486,
          0.3952608108520508,
          9.221954345703125,
          4.4995903968811035,
          6.985947608947754,
          21.18166732788086,
          19.804473876953125,
          3.3573999404907227,
          1.4907200336456299,
          4.793260097503662,
          3.191765308380127,
          1.495598316192627,
          5.7792205810546875,
          17.503633499145508,
          32.74913787841797,
          9.234954833984375,
          54.38668441772461,
          5.350675106048584,
          3.505021095275879,
          -0.3043496608734131,
          -4.070181846618652,
          48.73779296875,
          31.067962646484375,
          3.613386869430542,
          10031.4287109375,
          3590.64990234375,
          3331.16162109375,
          3422.2099609375,
          2218.095458984375,
          4423.79345703125,
          1303.7333984375,
          12165.1005859375,
          405.5450439453125,
          261.9156494140625,
          1942.8336181640625,
          1910.6727294921875,
          578.9293212890625,
          436.1136779785156,
          770.881103515625,
          554.5042114257812,
          14436.6884765625,
          239.0091552734375,
          706.4093627929688,
          316.86724853515625,
          2586.122802734375,
          1826.5843505859375,
          4559.85498046875,
          797.5658569335938,
          166.14634704589844,
          485.1947021484375,
          1194.4317626953125,
          2124.38623046875,
          183.7568359375,
          59.81772232055664,
          721.64111328125,
          702.798583984375,
          111.87347412109375,
          144.8958282470703,
          457.857177734375,
          2666.960205078125,
          526.4348754882812,
          474.8370361328125,
          169.0114288330078,
          148.91587829589844,
          146.22735595703125,
          732.8700561523438,
          1772.6619873046875,
          6.652924060821533,
          319.3907165527344,
          183.3505096435547,
          37.72746658325195,
          41.488834381103516,
          43.2578239440918,
          27.833642959594727,
          68.88164520263672,
          0.08663249015808105,
          1.7350928783416748,
          17.82618522644043,
          145.2176971435547,
          105.26082611083984,
          281.5523681640625,
          412.7059631347656,
          802.37353515625,
          712.7613525390625,
          64394.0078125,
          1308.30224609375,
          1285.4259033203125,
          871.8685913085938,
          888.0384521484375,
          2641.526123046875,
          169.22183227539062,
          109.34037780761719,
          167.87713623046875,
          -5.702269077301025,
          19.614246368408203,
          48.366477966308594,
          8.289972305297852,
          186.73092651367188,
          6.1687726974487305,
          0.7966631054878235,
          67.8277359008789,
          96.69656372070312,
          37.07773971557617,
          121.78721618652344,
          43.08199691772461,
          15.594799041748047,
          38.37776565551758,
          -19.713130950927734,
          -12.90541934967041,
          70.75381469726562,
          83.19026184082031,
          59131.34765625,
          336.1263427734375,
          63.11581802368164,
          373.2987365722656,
          524.1871337890625,
          489.9320983886719,
          7.967248916625977,
          8.194658279418945,
          6.764453887939453,
          4.207548141479492,
          7.923176288604736,
          -2.7982406616210938,
          6.675939083099365,
          13.655088424682617,
          14.523877143859863,
          4.465087890625,
          14.698447227478027,
          8.688966751098633,
          24.31093978881836,
          15.302906036376953,
          10.642522811889648,
          13.191044807434082,
          -7.032620429992676,
          11.027742385864258,
          8.194658279418945,
          10.896280288696289,
          3.423468589782715,
          10.693277359008789,
          12.152560234069824,
          20.882497787475586,
          11.15243911743164,
          12.573156356811523,
          3.9199562072753906,
          19.295509338378906,
          6.521875381469727,
          9.126222610473633,
          1.6964905261993408,
          6.356161117553711,
          16.82491111755371,
          7.923176288604736,
          13.416542053222656,
          4.257120132446289,
          -3.49617338180542,
          0.5574114322662354,
          7.322418689727783,
          10.68798828125,
          5.325236797332764,
          0.8486515283584595,
          12.148240089416504,
          -6.366269111633301,
          138.47120666503906,
          9.821131706237793,
          -3.9476871490478516,
          3.802640914916992,
          2.8307101726531982,
          2.0347883701324463,
          3.495218515396118
         ]
        },
        {
         "line": {
          "color": "rgba(219, 64, 82, 1.0)",
          "dash": "solid",
          "shape": "linear",
          "width": 1.3
         },
         "mode": "lines",
         "name": "lgbm_pred",
         "text": "",
         "type": "scatter",
         "x": [
          "10001",
          "10002",
          "10003",
          "10004",
          "10005",
          "10006",
          "10007",
          "10009",
          "10010",
          "10011",
          "10012",
          "10013",
          "10014",
          "10016",
          "10017",
          "10018",
          "10019",
          "10020",
          "10021",
          "10022",
          "10023",
          "10024",
          "10025",
          "10026",
          "10027",
          "10028",
          "10029",
          "10030",
          "10031",
          "10032",
          "10033",
          "10034",
          "10035",
          "10036",
          "10037",
          "10038",
          "10039",
          "10040",
          "10044",
          "10065",
          "10069",
          "10075",
          "10103",
          "10110",
          "10111",
          "10112",
          "10115",
          "10119",
          "10128",
          "10152",
          "10153",
          "10154",
          "10162",
          "10165",
          "10167",
          "10168",
          "10169",
          "10170",
          "10171",
          "10172",
          "10173",
          "10174",
          "10177",
          "10199",
          "10271",
          "10278",
          "10279",
          "10280",
          "10282",
          "10301",
          "10302",
          "10303",
          "10304",
          "10305",
          "10306",
          "10308",
          "10310",
          "10312",
          "10314",
          "10451",
          "10452",
          "10453",
          "10454",
          "10455",
          "10456",
          "10457",
          "10458",
          "10459",
          "10460",
          "10461",
          "10462",
          "10463",
          "10465",
          "10466",
          "10467",
          "10468",
          "10469",
          "10470",
          "10471",
          "10472",
          "10473",
          "10474",
          "10475",
          "10502",
          "10510",
          "10519",
          "10522",
          "10523",
          "10528",
          "10530",
          "10536",
          "10538",
          "10543",
          "10547",
          "10550",
          "10552",
          "10553",
          "10570",
          "10573",
          "10577",
          "10580",
          "10583",
          "10591",
          "10598",
          "10601",
          "10603",
          "10604",
          "10605",
          "10701",
          "10703",
          "10704",
          "10705",
          "10706",
          "10707",
          "10708",
          "10709",
          "10710",
          "10801",
          "10803",
          "10805",
          "10917",
          "10941",
          "10956",
          "10960",
          "10962",
          "10994",
          "11001",
          "11003",
          "11004",
          "11010",
          "11020",
          "11021",
          "11024",
          "11030",
          "11040",
          "11042",
          "11101",
          "11102",
          "11103",
          "11104",
          "11105",
          "11106",
          "11109",
          "11201",
          "11203",
          "11204",
          "11205",
          "11206",
          "11207",
          "11208",
          "11209",
          "11210",
          "11211",
          "11212",
          "11213",
          "11214",
          "11215",
          "11216",
          "11217",
          "11218",
          "11219",
          "11220",
          "11221",
          "11222",
          "11223",
          "11224",
          "11225",
          "11226",
          "11228",
          "11229",
          "11230",
          "11231",
          "11232",
          "11233",
          "11234",
          "11235",
          "11236",
          "11237",
          "11238",
          "11239",
          "11354",
          "11355",
          "11356",
          "11357",
          "11358",
          "11360",
          "11361",
          "11362",
          "11363",
          "11364",
          "11365",
          "11366",
          "11367",
          "11368",
          "11369",
          "11370",
          "11371",
          "11372",
          "11373",
          "11374",
          "11375",
          "11377",
          "11378",
          "11379",
          "11385",
          "11411",
          "11412",
          "11413",
          "11414",
          "11415",
          "11416",
          "11417",
          "11418",
          "11419",
          "11420",
          "11421",
          "11422",
          "11423",
          "11424",
          "11426",
          "11427",
          "11428",
          "11429",
          "11430",
          "11432",
          "11433",
          "11434",
          "11435",
          "11436",
          "11501",
          "11507",
          "11509",
          "11510",
          "11518",
          "11530",
          "11542",
          "11549",
          "11550",
          "11552",
          "11553",
          "11557",
          "11559",
          "11560",
          "11561",
          "11563",
          "11565",
          "11566",
          "11568",
          "11570",
          "11576",
          "11580",
          "11581",
          "11590",
          "11691",
          "11692",
          "11693",
          "11694",
          "11697",
          "11701",
          "11704",
          "11706",
          "11710",
          "11726",
          "11735",
          "11743",
          "11746",
          "11747",
          "11753",
          "11756",
          "11779",
          "11780",
          "11791",
          "11797",
          "11801",
          "11803",
          "11804",
          "12601",
          "13029",
          "13691",
          "14801"
         ],
         "y": [
          176352.5103952003,
          70052.04682445973,
          201436.0056095425,
          17593.060728170014,
          15491.71344722438,
          13162.65391856872,
          24553.041457155705,
          69956.83684483476,
          112487.10769651204,
          184004.6624396037,
          105557.43591893648,
          88166.06373167281,
          122146.89899836823,
          184115.3193055021,
          123529.340695496,
          93846.48575329891,
          225219.49613618298,
          14005.147791423147,
          118423.09398245586,
          191971.88391134996,
          130349.82394462217,
          98492.10910269589,
          74468.62543089104,
          9935.94898425183,
          12676.873465076662,
          91079.96823686846,
          20637.043929506086,
          3687.6014290155645,
          3765.5890523305234,
          3533.710783235366,
          3402.733336102979,
          2648.627565200568,
          7392.815331883617,
          159366.65163771962,
          4013.2784453856675,
          16087.76996442316,
          2053.0933905876636,
          1196.973055607615,
          1778.002490406446,
          108283.70281770176,
          8788.999506461932,
          57415.54329410616,
          5247.023590674814,
          4779.2391925032325,
          3544.5368153636414,
          3617.2717902205527,
          619.486010207611,
          42359.98495786338,
          98677.3727902604,
          4557.065758946957,
          4627.15098559003,
          4468.8131132985245,
          4070.644317981227,
          4884.605626903695,
          4163.326075744639,
          4152.529173986511,
          3758.2246135809,
          4680.924159450768,
          4267.795752013039,
          4205.2312340834,
          4165.376138558001,
          4278.734692058772,
          3330.7902960991705,
          5484.331916979475,
          882.7218020230089,
          1803.1182030611878,
          1846.3727588623833,
          12880.649215117513,
          12812.522491827314,
          18.057254240154244,
          7.580909220292873,
          6.014161338622029,
          11.902915953690075,
          55.53627777692,
          37.38694018794226,
          -8.56495010162533,
          58.14941705314347,
          7.831950957573153,
          66.45080372127302,
          1048.7302215465982,
          482.67176781757246,
          228.37965301674546,
          774.7768199059944,
          364.4381146985588,
          339.29568933065445,
          171.13353047175224,
          146.35042063456274,
          179.92608094643316,
          140.45789989546813,
          187.33371440756014,
          257.6915587131251,
          426.0105219000139,
          86.59027727946508,
          88.71020830720887,
          224.55959992117624,
          275.55919746887645,
          77.12107647553854,
          34.58505534403114,
          158.26974437156983,
          200.032339079641,
          80.78513000014864,
          81.03559171595222,
          64.65787295045824,
          7.432524360303642,
          14.661305478933789,
          -2.814653012575403,
          -7.0512091311502685,
          12.510191725553483,
          13.025159208165308,
          16.434025133429614,
          2.9317099378224345,
          37.77857784235138,
          15.677346595637564,
          6.242776546189647,
          -9.61946448925939,
          13.758357588998617,
          2.025103218462565,
          7.949680959315193,
          30.590381438589187,
          8.53185456258584,
          10.326468297523029,
          47.15077059661367,
          32.702913350381046,
          7.037309470894031,
          27.390548025379246,
          -6.181999864219914,
          24.35619046857141,
          17.46438043575863,
          24.51948736716263,
          0.3217738099682652,
          59.498130198922674,
          31.553867853124107,
          8.244822235333922,
          13.885958746504807,
          16.83493159441198,
          7.089577195072426,
          14.355290222648737,
          15.04685003091629,
          17.549098974518326,
          14.973927029280093,
          7.088397918260712,
          7.037309470894031,
          1.3148584423972765,
          7.088397918260712,
          8.881330052327563,
          7.825851336591418,
          43.29288679790758,
          18.774749584758,
          78.76234159437224,
          16.42759497595777,
          11.8781862304394,
          27.839501251736344,
          3.4086783168921704,
          31.45953390723419,
          42.55124860403032,
          5.368582826285641,
          9863.771432316638,
          3268.126272480197,
          3218.569838504363,
          3311.348711831225,
          2834.063837786229,
          3550.1814827990247,
          1842.829899218149,
          9350.657446384523,
          604.8771368485276,
          466.0745598877707,
          2177.7716720935214,
          2043.7981973995625,
          625.9385625873729,
          532.9784899344401,
          813.1349902445208,
          562.1255848063721,
          13378.50091417953,
          312.5627358073112,
          1061.4971468844933,
          405.2232254180455,
          2564.69848717445,
          2370.200840076537,
          3443.0709549761655,
          1221.9572135514434,
          359.80220669960875,
          674.9532337624156,
          1215.141619390881,
          1748.2393571947366,
          285.3851068970089,
          99.22007551070192,
          1136.4900740232156,
          1100.585377268109,
          168.82699309912118,
          283.1921751543953,
          770.1012183666088,
          1703.0934664493532,
          925.3988811669518,
          769.1857219935532,
          278.32222388496086,
          247.76058849377796,
          237.50123313959196,
          836.030672652756,
          1360.7765295260076,
          40.48422523067117,
          598.6798369357984,
          317.5224531846016,
          61.19736648349208,
          94.4853356897997,
          105.86137497091737,
          42.51588990434968,
          81.64514855192641,
          11.289227047165884,
          5.964479875747008,
          18.759412859315244,
          178.81878023797907,
          162.86307638557787,
          549.7904182003315,
          794.2106916777736,
          1041.3778285887197,
          1008.1362273107997,
          64431.18814433835,
          1430.4276941721175,
          1398.6075136852785,
          1080.8730579857643,
          1173.774961802431,
          2543.064500087223,
          430.77374407422093,
          206.72107350428902,
          313.9759926246726,
          24.027995363474083,
          15.875950686174473,
          36.73547077552161,
          42.50440911659002,
          319.64333431135464,
          41.683796643259974,
          87.86463438349872,
          152.6206444399133,
          184.84582069580296,
          184.10276854129174,
          180.20985058846043,
          57.361018964423074,
          45.49137171207571,
          101.49018465147853,
          67.52092682085411,
          36.23007609376661,
          24.755811430229492,
          7.208889347723867,
          58386.482530607354,
          246.7525022657993,
          50.09613603356414,
          241.1812379780087,
          406.71310108579706,
          330.94247675885117,
          4.368196723561055,
          2.5784698321604345,
          -0.14725109891633192,
          3.580866420502857,
          1.8981997382266835,
          6.840515171229107,
          4.202845445423738,
          8.281224377044222,
          11.265097337500949,
          8.710697391642992,
          0.5560762407766819,
          9.537793918864793,
          11.153721618460807,
          6.101045183650421,
          9.160138450995849,
          7.690500253188631,
          2.289437755724072,
          13.04387512737192,
          2.5784698321604345,
          2.396843029779059,
          3.8555925068288794,
          16.40420898774951,
          6.624862116754542,
          14.814293469038441,
          17.790264926592698,
          6.5028582368977474,
          2.454261070377196,
          18.767745740186772,
          0.15911119761253137,
          3.7543586367503137,
          2.743821110297752,
          1.392025943118877,
          14.017871937102205,
          1.8981997382266835,
          0.7399541881562792,
          4.104429362182721,
          7.39581471948933,
          5.789687897899173,
          3.0925914084804655,
          8.742907968466223,
          4.27198552224648,
          2.6292490921948013,
          4.225627833106835,
          2.2328946076144907,
          108.45674802978023,
          9.498998536284965,
          -0.3472979228755632,
          2.1825283218941363,
          4.106634244109163,
          4.694310801945671,
          3.939078084045404
         ]
        }
       ],
       "layout": {
        "legend": {
         "bgcolor": "#F5F6F9",
         "font": {
          "color": "#4D5663"
         }
        },
        "paper_bgcolor": "#F5F6F9",
        "plot_bgcolor": "#F5F6F9",
        "template": {
         "data": {
          "bar": [
           {
            "error_x": {
             "color": "#2a3f5f"
            },
            "error_y": {
             "color": "#2a3f5f"
            },
            "marker": {
             "line": {
              "color": "#E5ECF6",
              "width": 0.5
             }
            },
            "type": "bar"
           }
          ],
          "barpolar": [
           {
            "marker": {
             "line": {
              "color": "#E5ECF6",
              "width": 0.5
             }
            },
            "type": "barpolar"
           }
          ],
          "carpet": [
           {
            "aaxis": {
             "endlinecolor": "#2a3f5f",
             "gridcolor": "white",
             "linecolor": "white",
             "minorgridcolor": "white",
             "startlinecolor": "#2a3f5f"
            },
            "baxis": {
             "endlinecolor": "#2a3f5f",
             "gridcolor": "white",
             "linecolor": "white",
             "minorgridcolor": "white",
             "startlinecolor": "#2a3f5f"
            },
            "type": "carpet"
           }
          ],
          "choropleth": [
           {
            "colorbar": {
             "outlinewidth": 0,
             "ticks": ""
            },
            "type": "choropleth"
           }
          ],
          "contour": [
           {
            "colorbar": {
             "outlinewidth": 0,
             "ticks": ""
            },
            "colorscale": [
             [
              0,
              "#0d0887"
             ],
             [
              0.1111111111111111,
              "#46039f"
             ],
             [
              0.2222222222222222,
              "#7201a8"
             ],
             [
              0.3333333333333333,
              "#9c179e"
             ],
             [
              0.4444444444444444,
              "#bd3786"
             ],
             [
              0.5555555555555556,
              "#d8576b"
             ],
             [
              0.6666666666666666,
              "#ed7953"
             ],
             [
              0.7777777777777778,
              "#fb9f3a"
             ],
             [
              0.8888888888888888,
              "#fdca26"
             ],
             [
              1,
              "#f0f921"
             ]
            ],
            "type": "contour"
           }
          ],
          "contourcarpet": [
           {
            "colorbar": {
             "outlinewidth": 0,
             "ticks": ""
            },
            "type": "contourcarpet"
           }
          ],
          "heatmap": [
           {
            "colorbar": {
             "outlinewidth": 0,
             "ticks": ""
            },
            "colorscale": [
             [
              0,
              "#0d0887"
             ],
             [
              0.1111111111111111,
              "#46039f"
             ],
             [
              0.2222222222222222,
              "#7201a8"
             ],
             [
              0.3333333333333333,
              "#9c179e"
             ],
             [
              0.4444444444444444,
              "#bd3786"
             ],
             [
              0.5555555555555556,
              "#d8576b"
             ],
             [
              0.6666666666666666,
              "#ed7953"
             ],
             [
              0.7777777777777778,
              "#fb9f3a"
             ],
             [
              0.8888888888888888,
              "#fdca26"
             ],
             [
              1,
              "#f0f921"
             ]
            ],
            "type": "heatmap"
           }
          ],
          "heatmapgl": [
           {
            "colorbar": {
             "outlinewidth": 0,
             "ticks": ""
            },
            "colorscale": [
             [
              0,
              "#0d0887"
             ],
             [
              0.1111111111111111,
              "#46039f"
             ],
             [
              0.2222222222222222,
              "#7201a8"
             ],
             [
              0.3333333333333333,
              "#9c179e"
             ],
             [
              0.4444444444444444,
              "#bd3786"
             ],
             [
              0.5555555555555556,
              "#d8576b"
             ],
             [
              0.6666666666666666,
              "#ed7953"
             ],
             [
              0.7777777777777778,
              "#fb9f3a"
             ],
             [
              0.8888888888888888,
              "#fdca26"
             ],
             [
              1,
              "#f0f921"
             ]
            ],
            "type": "heatmapgl"
           }
          ],
          "histogram": [
           {
            "marker": {
             "colorbar": {
              "outlinewidth": 0,
              "ticks": ""
             }
            },
            "type": "histogram"
           }
          ],
          "histogram2d": [
           {
            "colorbar": {
             "outlinewidth": 0,
             "ticks": ""
            },
            "colorscale": [
             [
              0,
              "#0d0887"
             ],
             [
              0.1111111111111111,
              "#46039f"
             ],
             [
              0.2222222222222222,
              "#7201a8"
             ],
             [
              0.3333333333333333,
              "#9c179e"
             ],
             [
              0.4444444444444444,
              "#bd3786"
             ],
             [
              0.5555555555555556,
              "#d8576b"
             ],
             [
              0.6666666666666666,
              "#ed7953"
             ],
             [
              0.7777777777777778,
              "#fb9f3a"
             ],
             [
              0.8888888888888888,
              "#fdca26"
             ],
             [
              1,
              "#f0f921"
             ]
            ],
            "type": "histogram2d"
           }
          ],
          "histogram2dcontour": [
           {
            "colorbar": {
             "outlinewidth": 0,
             "ticks": ""
            },
            "colorscale": [
             [
              0,
              "#0d0887"
             ],
             [
              0.1111111111111111,
              "#46039f"
             ],
             [
              0.2222222222222222,
              "#7201a8"
             ],
             [
              0.3333333333333333,
              "#9c179e"
             ],
             [
              0.4444444444444444,
              "#bd3786"
             ],
             [
              0.5555555555555556,
              "#d8576b"
             ],
             [
              0.6666666666666666,
              "#ed7953"
             ],
             [
              0.7777777777777778,
              "#fb9f3a"
             ],
             [
              0.8888888888888888,
              "#fdca26"
             ],
             [
              1,
              "#f0f921"
             ]
            ],
            "type": "histogram2dcontour"
           }
          ],
          "mesh3d": [
           {
            "colorbar": {
             "outlinewidth": 0,
             "ticks": ""
            },
            "type": "mesh3d"
           }
          ],
          "parcoords": [
           {
            "line": {
             "colorbar": {
              "outlinewidth": 0,
              "ticks": ""
             }
            },
            "type": "parcoords"
           }
          ],
          "pie": [
           {
            "automargin": true,
            "type": "pie"
           }
          ],
          "scatter": [
           {
            "marker": {
             "colorbar": {
              "outlinewidth": 0,
              "ticks": ""
             }
            },
            "type": "scatter"
           }
          ],
          "scatter3d": [
           {
            "line": {
             "colorbar": {
              "outlinewidth": 0,
              "ticks": ""
             }
            },
            "marker": {
             "colorbar": {
              "outlinewidth": 0,
              "ticks": ""
             }
            },
            "type": "scatter3d"
           }
          ],
          "scattercarpet": [
           {
            "marker": {
             "colorbar": {
              "outlinewidth": 0,
              "ticks": ""
             }
            },
            "type": "scattercarpet"
           }
          ],
          "scattergeo": [
           {
            "marker": {
             "colorbar": {
              "outlinewidth": 0,
              "ticks": ""
             }
            },
            "type": "scattergeo"
           }
          ],
          "scattergl": [
           {
            "marker": {
             "colorbar": {
              "outlinewidth": 0,
              "ticks": ""
             }
            },
            "type": "scattergl"
           }
          ],
          "scattermapbox": [
           {
            "marker": {
             "colorbar": {
              "outlinewidth": 0,
              "ticks": ""
             }
            },
            "type": "scattermapbox"
           }
          ],
          "scatterpolar": [
           {
            "marker": {
             "colorbar": {
              "outlinewidth": 0,
              "ticks": ""
             }
            },
            "type": "scatterpolar"
           }
          ],
          "scatterpolargl": [
           {
            "marker": {
             "colorbar": {
              "outlinewidth": 0,
              "ticks": ""
             }
            },
            "type": "scatterpolargl"
           }
          ],
          "scatterternary": [
           {
            "marker": {
             "colorbar": {
              "outlinewidth": 0,
              "ticks": ""
             }
            },
            "type": "scatterternary"
           }
          ],
          "surface": [
           {
            "colorbar": {
             "outlinewidth": 0,
             "ticks": ""
            },
            "colorscale": [
             [
              0,
              "#0d0887"
             ],
             [
              0.1111111111111111,
              "#46039f"
             ],
             [
              0.2222222222222222,
              "#7201a8"
             ],
             [
              0.3333333333333333,
              "#9c179e"
             ],
             [
              0.4444444444444444,
              "#bd3786"
             ],
             [
              0.5555555555555556,
              "#d8576b"
             ],
             [
              0.6666666666666666,
              "#ed7953"
             ],
             [
              0.7777777777777778,
              "#fb9f3a"
             ],
             [
              0.8888888888888888,
              "#fdca26"
             ],
             [
              1,
              "#f0f921"
             ]
            ],
            "type": "surface"
           }
          ],
          "table": [
           {
            "cells": {
             "fill": {
              "color": "#EBF0F8"
             },
             "line": {
              "color": "white"
             }
            },
            "header": {
             "fill": {
              "color": "#C8D4E3"
             },
             "line": {
              "color": "white"
             }
            },
            "type": "table"
           }
          ]
         },
         "layout": {
          "annotationdefaults": {
           "arrowcolor": "#2a3f5f",
           "arrowhead": 0,
           "arrowwidth": 1
          },
          "coloraxis": {
           "colorbar": {
            "outlinewidth": 0,
            "ticks": ""
           }
          },
          "colorscale": {
           "diverging": [
            [
             0,
             "#8e0152"
            ],
            [
             0.1,
             "#c51b7d"
            ],
            [
             0.2,
             "#de77ae"
            ],
            [
             0.3,
             "#f1b6da"
            ],
            [
             0.4,
             "#fde0ef"
            ],
            [
             0.5,
             "#f7f7f7"
            ],
            [
             0.6,
             "#e6f5d0"
            ],
            [
             0.7,
             "#b8e186"
            ],
            [
             0.8,
             "#7fbc41"
            ],
            [
             0.9,
             "#4d9221"
            ],
            [
             1,
             "#276419"
            ]
           ],
           "sequential": [
            [
             0,
             "#0d0887"
            ],
            [
             0.1111111111111111,
             "#46039f"
            ],
            [
             0.2222222222222222,
             "#7201a8"
            ],
            [
             0.3333333333333333,
             "#9c179e"
            ],
            [
             0.4444444444444444,
             "#bd3786"
            ],
            [
             0.5555555555555556,
             "#d8576b"
            ],
            [
             0.6666666666666666,
             "#ed7953"
            ],
            [
             0.7777777777777778,
             "#fb9f3a"
            ],
            [
             0.8888888888888888,
             "#fdca26"
            ],
            [
             1,
             "#f0f921"
            ]
           ],
           "sequentialminus": [
            [
             0,
             "#0d0887"
            ],
            [
             0.1111111111111111,
             "#46039f"
            ],
            [
             0.2222222222222222,
             "#7201a8"
            ],
            [
             0.3333333333333333,
             "#9c179e"
            ],
            [
             0.4444444444444444,
             "#bd3786"
            ],
            [
             0.5555555555555556,
             "#d8576b"
            ],
            [
             0.6666666666666666,
             "#ed7953"
            ],
            [
             0.7777777777777778,
             "#fb9f3a"
            ],
            [
             0.8888888888888888,
             "#fdca26"
            ],
            [
             1,
             "#f0f921"
            ]
           ]
          },
          "colorway": [
           "#636efa",
           "#EF553B",
           "#00cc96",
           "#ab63fa",
           "#FFA15A",
           "#19d3f3",
           "#FF6692",
           "#B6E880",
           "#FF97FF",
           "#FECB52"
          ],
          "font": {
           "color": "#2a3f5f"
          },
          "geo": {
           "bgcolor": "white",
           "lakecolor": "white",
           "landcolor": "#E5ECF6",
           "showlakes": true,
           "showland": true,
           "subunitcolor": "white"
          },
          "hoverlabel": {
           "align": "left"
          },
          "hovermode": "closest",
          "mapbox": {
           "style": "light"
          },
          "paper_bgcolor": "white",
          "plot_bgcolor": "#E5ECF6",
          "polar": {
           "angularaxis": {
            "gridcolor": "white",
            "linecolor": "white",
            "ticks": ""
           },
           "bgcolor": "#E5ECF6",
           "radialaxis": {
            "gridcolor": "white",
            "linecolor": "white",
            "ticks": ""
           }
          },
          "scene": {
           "xaxis": {
            "backgroundcolor": "#E5ECF6",
            "gridcolor": "white",
            "gridwidth": 2,
            "linecolor": "white",
            "showbackground": true,
            "ticks": "",
            "zerolinecolor": "white"
           },
           "yaxis": {
            "backgroundcolor": "#E5ECF6",
            "gridcolor": "white",
            "gridwidth": 2,
            "linecolor": "white",
            "showbackground": true,
            "ticks": "",
            "zerolinecolor": "white"
           },
           "zaxis": {
            "backgroundcolor": "#E5ECF6",
            "gridcolor": "white",
            "gridwidth": 2,
            "linecolor": "white",
            "showbackground": true,
            "ticks": "",
            "zerolinecolor": "white"
           }
          },
          "shapedefaults": {
           "line": {
            "color": "#2a3f5f"
           }
          },
          "ternary": {
           "aaxis": {
            "gridcolor": "white",
            "linecolor": "white",
            "ticks": ""
           },
           "baxis": {
            "gridcolor": "white",
            "linecolor": "white",
            "ticks": ""
           },
           "bgcolor": "#E5ECF6",
           "caxis": {
            "gridcolor": "white",
            "linecolor": "white",
            "ticks": ""
           }
          },
          "title": {
           "x": 0.05
          },
          "xaxis": {
           "automargin": true,
           "gridcolor": "white",
           "linecolor": "white",
           "ticks": "",
           "title": {
            "standoff": 15
           },
           "zerolinecolor": "white",
           "zerolinewidth": 2
          },
          "yaxis": {
           "automargin": true,
           "gridcolor": "white",
           "linecolor": "white",
           "ticks": "",
           "title": {
            "standoff": 15
           },
           "zerolinecolor": "white",
           "zerolinewidth": 2
          }
         }
        },
        "title": {
         "font": {
          "color": "#4D5663"
         },
         "text": "Prediction by Zipcode"
        },
        "xaxis": {
         "gridcolor": "#E1E5ED",
         "showgrid": true,
         "tickfont": {
          "color": "#4D5663"
         },
         "title": {
          "font": {
           "color": "#4D5663"
          },
          "text": "Zipcode"
         },
         "zerolinecolor": "#E1E5ED"
        },
        "yaxis": {
         "gridcolor": "#E1E5ED",
         "showgrid": true,
         "tickfont": {
          "color": "#4D5663"
         },
         "title": {
          "font": {
           "color": "#4D5663"
          },
          "text": "Count"
         },
         "zerolinecolor": "#E1E5ED"
        }
       }
      },
      "text/html": [
       "<div>\n",
       "        \n",
       "        \n",
       "            <div id=\"f7f723c8-0d50-4aaf-8688-152c09dbd40d\" class=\"plotly-graph-div\" style=\"height:525px; width:100%;\"></div>\n",
       "            <script type=\"text/javascript\">\n",
       "                require([\"plotly\"], function(Plotly) {\n",
       "                    window.PLOTLYENV=window.PLOTLYENV || {};\n",
       "                    window.PLOTLYENV.BASE_URL='https://plot.ly';\n",
       "                    \n",
       "                if (document.getElementById(\"f7f723c8-0d50-4aaf-8688-152c09dbd40d\")) {\n",
       "                    Plotly.newPlot(\n",
       "                        'f7f723c8-0d50-4aaf-8688-152c09dbd40d',\n",
       "                        [{\"line\": {\"color\": \"rgba(255, 153, 51, 1.0)\", \"dash\": \"solid\", \"shape\": \"linear\", \"width\": 1.3}, \"mode\": \"lines\", \"name\": \"cnt\", \"text\": \"\", \"type\": \"scatter\", \"x\": [\"10001\", \"10002\", \"10003\", \"10004\", \"10005\", \"10006\", \"10007\", \"10009\", \"10010\", \"10011\", \"10012\", \"10013\", \"10014\", \"10016\", \"10017\", \"10018\", \"10019\", \"10020\", \"10021\", \"10022\", \"10023\", \"10024\", \"10025\", \"10026\", \"10027\", \"10028\", \"10029\", \"10030\", \"10031\", \"10032\", \"10033\", \"10034\", \"10035\", \"10036\", \"10037\", \"10038\", \"10039\", \"10040\", \"10044\", \"10065\", \"10069\", \"10075\", \"10103\", \"10110\", \"10111\", \"10112\", \"10115\", \"10119\", \"10128\", \"10152\", \"10153\", \"10154\", \"10162\", \"10165\", \"10167\", \"10168\", \"10169\", \"10170\", \"10171\", \"10172\", \"10173\", \"10174\", \"10177\", \"10199\", \"10271\", \"10278\", \"10279\", \"10280\", \"10282\", \"10301\", \"10302\", \"10303\", \"10304\", \"10305\", \"10306\", \"10308\", \"10310\", \"10312\", \"10314\", \"10451\", \"10452\", \"10453\", \"10454\", \"10455\", \"10456\", \"10457\", \"10458\", \"10459\", \"10460\", \"10461\", \"10462\", \"10463\", \"10465\", \"10466\", \"10467\", \"10468\", \"10469\", \"10470\", \"10471\", \"10472\", \"10473\", \"10474\", \"10475\", \"10502\", \"10510\", \"10519\", \"10522\", \"10523\", \"10528\", \"10530\", \"10536\", \"10538\", \"10543\", \"10547\", \"10550\", \"10552\", \"10553\", \"10570\", \"10573\", \"10577\", \"10580\", \"10583\", \"10591\", \"10598\", \"10601\", \"10603\", \"10604\", \"10605\", \"10701\", \"10703\", \"10704\", \"10705\", \"10706\", \"10707\", \"10708\", \"10709\", \"10710\", \"10801\", \"10803\", \"10805\", \"10917\", \"10941\", \"10956\", \"10960\", \"10962\", \"10994\", \"11001\", \"11003\", \"11004\", \"11010\", \"11020\", \"11021\", \"11024\", \"11030\", \"11040\", \"11042\", \"11101\", \"11102\", \"11103\", \"11104\", \"11105\", \"11106\", \"11109\", \"11201\", \"11203\", \"11204\", \"11205\", \"11206\", \"11207\", \"11208\", \"11209\", \"11210\", \"11211\", \"11212\", \"11213\", \"11214\", \"11215\", \"11216\", \"11217\", \"11218\", \"11219\", \"11220\", \"11221\", \"11222\", \"11223\", \"11224\", \"11225\", \"11226\", \"11228\", \"11229\", \"11230\", \"11231\", \"11232\", \"11233\", \"11234\", \"11235\", \"11236\", \"11237\", \"11238\", \"11239\", \"11354\", \"11355\", \"11356\", \"11357\", \"11358\", \"11360\", \"11361\", \"11362\", \"11363\", \"11364\", \"11365\", \"11366\", \"11367\", \"11368\", \"11369\", \"11370\", \"11371\", \"11372\", \"11373\", \"11374\", \"11375\", \"11377\", \"11378\", \"11379\", \"11385\", \"11411\", \"11412\", \"11413\", \"11414\", \"11415\", \"11416\", \"11417\", \"11418\", \"11419\", \"11420\", \"11421\", \"11422\", \"11423\", \"11424\", \"11426\", \"11427\", \"11428\", \"11429\", \"11430\", \"11432\", \"11433\", \"11434\", \"11435\", \"11436\", \"11501\", \"11507\", \"11509\", \"11510\", \"11518\", \"11530\", \"11542\", \"11549\", \"11550\", \"11552\", \"11553\", \"11557\", \"11559\", \"11560\", \"11561\", \"11563\", \"11565\", \"11566\", \"11568\", \"11570\", \"11576\", \"11580\", \"11581\", \"11590\", \"11691\", \"11692\", \"11693\", \"11694\", \"11697\", \"11701\", \"11704\", \"11706\", \"11710\", \"11726\", \"11735\", \"11743\", \"11746\", \"11747\", \"11753\", \"11756\", \"11779\", \"11780\", \"11791\", \"11797\", \"11801\", \"11803\", \"11804\", \"12601\", \"13029\", \"13691\", \"14801\"], \"y\": [147413, 62126, 177924, 12877, 12450, 7873, 20709, 67281, 94165, 162467, 91218, 72924, 108204, 158976, 97984, 73496, 187109, 9528, 103806, 154509, 112315, 86047, 72073, 7496, 13115, 83887, 20082, 1593, 4325, 2079, 901, 341, 6505, 136512, 1242, 16563, 530, 222, 263, 96853, 5510, 54207, 3253, 2848, 1491, 1785, 24, 35753, 90013, 2447, 3935, 2386, 1353, 6147, 1748, 3392, 1071, 5918, 2508, 2754, 1623, 3845, 1044, 5489, 147, 776, 976, 12110, 11528, 5, 1, 1, 2, 9, 7, 1, 30, 1, 10, 830, 162, 75, 294, 170, 118, 65, 51, 51, 42, 40, 69, 111, 17, 17, 65, 81, 21, 11, 28, 54, 30, 14, 10, 1, 2, 1, 1, 2, 2, 2, 1, 8, 2, 1, 1, 2, 1, 1, 4, 2, 3, 7, 5, 1, 6, 1, 9, 3, 6, 2, 10, 4, 1, 5, 4, 2, 2, 13, 6, 4, 1, 1, 1, 1, 3, 1, 5, 4, 34, 9, 2, 6, 1, 8, 6, 2, 10475, 3541, 2554, 3784, 1502, 4492, 907, 13050, 79, 58, 2235, 2561, 110, 78, 137, 73, 16355, 38, 282, 81, 3076, 1174, 5781, 426, 55, 121, 862, 3534, 46, 13, 525, 380, 24, 54, 193, 3802, 274, 249, 48, 46, 35, 961, 2420, 7, 176, 66, 8, 16, 33, 8, 14, 2, 1, 4, 27, 27, 149, 271, 756, 1007, 48178, 1380, 1266, 457, 749, 3355, 232, 59, 178, 9, 5, 10, 16, 117, 25, 39, 72, 59, 76, 54, 14, 12, 40, 21, 17, 9, 4, 48741, 156, 18, 105, 484, 281, 1, 1, 1, 2, 1, 2, 1, 3, 7, 4, 3, 3, 3, 4, 2, 1, 1, 7, 1, 3, 1, 6, 2, 4, 3, 2, 1, 8, 1, 1, 1, 1, 1, 1, 7, 1, 3, 2, 1, 3, 1, 1, 2, 1, 98, 3, 1, 1, 1, 1, 1]}, {\"line\": {\"color\": \"rgba(55, 128, 191, 1.0)\", \"dash\": \"solid\", \"shape\": \"linear\", \"width\": 1.3}, \"mode\": \"lines\", \"name\": \"lr_pred\", \"text\": \"\", \"type\": \"scatter\", \"x\": [\"10001\", \"10002\", \"10003\", \"10004\", \"10005\", \"10006\", \"10007\", \"10009\", \"10010\", \"10011\", \"10012\", \"10013\", \"10014\", \"10016\", \"10017\", \"10018\", \"10019\", \"10020\", \"10021\", \"10022\", \"10023\", \"10024\", \"10025\", \"10026\", \"10027\", \"10028\", \"10029\", \"10030\", \"10031\", \"10032\", \"10033\", \"10034\", \"10035\", \"10036\", \"10037\", \"10038\", \"10039\", \"10040\", \"10044\", \"10065\", \"10069\", \"10075\", \"10103\", \"10110\", \"10111\", \"10112\", \"10115\", \"10119\", \"10128\", \"10152\", \"10153\", \"10154\", \"10162\", \"10165\", \"10167\", \"10168\", \"10169\", \"10170\", \"10171\", \"10172\", \"10173\", \"10174\", \"10177\", \"10199\", \"10271\", \"10278\", \"10279\", \"10280\", \"10282\", \"10301\", \"10302\", \"10303\", \"10304\", \"10305\", \"10306\", \"10308\", \"10310\", \"10312\", \"10314\", \"10451\", \"10452\", \"10453\", \"10454\", \"10455\", \"10456\", \"10457\", \"10458\", \"10459\", \"10460\", \"10461\", \"10462\", \"10463\", \"10465\", \"10466\", \"10467\", \"10468\", \"10469\", \"10470\", \"10471\", \"10472\", \"10473\", \"10474\", \"10475\", \"10502\", \"10510\", \"10519\", \"10522\", \"10523\", \"10528\", \"10530\", \"10536\", \"10538\", \"10543\", \"10547\", \"10550\", \"10552\", \"10553\", \"10570\", \"10573\", \"10577\", \"10580\", \"10583\", \"10591\", \"10598\", \"10601\", \"10603\", \"10604\", \"10605\", \"10701\", \"10703\", \"10704\", \"10705\", \"10706\", \"10707\", \"10708\", \"10709\", \"10710\", \"10801\", \"10803\", \"10805\", \"10917\", \"10941\", \"10956\", \"10960\", \"10962\", \"10994\", \"11001\", \"11003\", \"11004\", \"11010\", \"11020\", \"11021\", \"11024\", \"11030\", \"11040\", \"11042\", \"11101\", \"11102\", \"11103\", \"11104\", \"11105\", \"11106\", \"11109\", \"11201\", \"11203\", \"11204\", \"11205\", \"11206\", \"11207\", \"11208\", \"11209\", \"11210\", \"11211\", \"11212\", \"11213\", \"11214\", \"11215\", \"11216\", \"11217\", \"11218\", \"11219\", \"11220\", \"11221\", \"11222\", \"11223\", \"11224\", \"11225\", \"11226\", \"11228\", \"11229\", \"11230\", \"11231\", \"11232\", \"11233\", \"11234\", \"11235\", \"11236\", \"11237\", \"11238\", \"11239\", \"11354\", \"11355\", \"11356\", \"11357\", \"11358\", \"11360\", \"11361\", \"11362\", \"11363\", \"11364\", \"11365\", \"11366\", \"11367\", \"11368\", \"11369\", \"11370\", \"11371\", \"11372\", \"11373\", \"11374\", \"11375\", \"11377\", \"11378\", \"11379\", \"11385\", \"11411\", \"11412\", \"11413\", \"11414\", \"11415\", \"11416\", \"11417\", \"11418\", \"11419\", \"11420\", \"11421\", \"11422\", \"11423\", \"11424\", \"11426\", \"11427\", \"11428\", \"11429\", \"11430\", \"11432\", \"11433\", \"11434\", \"11435\", \"11436\", \"11501\", \"11507\", \"11509\", \"11510\", \"11518\", \"11530\", \"11542\", \"11549\", \"11550\", \"11552\", \"11553\", \"11557\", \"11559\", \"11560\", \"11561\", \"11563\", \"11565\", \"11566\", \"11568\", \"11570\", \"11576\", \"11580\", \"11581\", \"11590\", \"11691\", \"11692\", \"11693\", \"11694\", \"11697\", \"11701\", \"11704\", \"11706\", \"11710\", \"11726\", \"11735\", \"11743\", \"11746\", \"11747\", \"11753\", \"11756\", \"11779\", \"11780\", \"11791\", \"11797\", \"11801\", \"11803\", \"11804\", \"12601\", \"13029\", \"13691\", \"14801\"], \"y\": [143859.54405691256, 45477.07645061317, 156146.91148855395, 11921.290509952074, 10947.83055330419, 6653.896893889484, 18409.13895539515, 56803.780242524495, 82976.3273389618, 148834.77898583925, 76119.81205976076, 64277.19264209786, 94326.96509809826, 143822.95872857314, 90575.88817986009, 74637.95804254782, 188981.20157092996, 7881.730571812826, 81185.85301361598, 144933.9287880745, 89052.15159688472, 72018.68636392191, 60689.35973266736, 6235.464172742789, 10560.161189818638, 69110.85976668734, 18415.028442861963, 1131.5230072091067, 3951.688646791801, 1975.72499746727, 702.6772293809368, 252.57498872001798, 5525.721010558692, 146211.62586215846, 833.9138498773796, 14422.702170409972, 457.358473748524, 185.56358107916853, 224.9020778489904, 77931.9049280922, 3834.8880093478415, 42276.478510109446, 2859.379729395146, 2457.9002835188808, 1212.6325409911376, 1484.7935387899768, 28.647645492148616, 31367.42934166329, 71502.10199951002, 1778.669623064998, 3053.0434732554622, 1954.2029421431282, 1001.2405160950192, 4838.198965281576, 1488.5501961892198, 3051.207477164748, 1012.3724323352113, 5377.801599484094, 2363.840098699865, 2239.178671570655, 1542.9371323035696, 3330.0000463116517, 901.2527482205787, 4612.993479652574, 147.1237712981131, 667.133034297981, 786.5498867561092, 9222.117766433868, 7953.124999132192, 4.389016555041419, 1.1622128011080062, 1.135212219054336, 2.9781024953314414, 9.195448807053692, 5.940863296496413, 0.6675567085621387, 12.98873790421364, 1.8111771164667605, 7.970342886646852, 617.955140789938, 171.19818024376227, 84.28678753783764, 286.90247437456406, 127.89381292867509, 138.13926844805744, 54.635625284669786, 60.62600057950718, 52.893566719133176, 41.027162057891836, 45.85361318541934, 67.24236270279025, 116.62947739104956, 17.11675879391952, 21.39866816093732, 57.73502171602909, 81.65927482901687, 22.95354798557432, 10.546399668863401, 31.423523766433103, 56.432838081817096, 22.49280090963165, 15.32602838652995, 11.065886251200316, 1.4006774664298909, 14.57048933170875, 0.0, 0.820097672603812, 2.75854765677977, 2.4339463899648663, 2.187380545450921, 0.0, 6.437422344316201, 2.4872141904395084, 0.0, 0.6808815052078888, 2.553866000789758, 0.0, 1.343413414574501, 5.275801470859541, 1.7314340494046747, 3.4016525273030225, 7.022189734820256, 7.990340953816967, 0.0, 5.522639925887198, 0.8844178716407284, 4.338930628796183, 4.130535140980308, 7.088132203321539, 2.4870242014953066, 12.629038905919574, 3.924094892391517, 1.4775406048114335, 6.044763150618579, 4.078521457768273, 2.037540117897933, 2.1865463025281, 11.301916257010946, 5.382225662301914, 3.6004029843070455, 0.0, 0.0, 0.753221628438907, 1.53627312709212, 2.9203867836129147, 0.0, 5.572074005658958, 3.9168964976936245, 38.01101684632094, 4.781210363521233, 3.0334195513747693, 6.758107049340309, 1.2841650220714858, 7.9222375741623665, 4.465038896998362, 0.0, 11103.620755225384, 3205.3339582901294, 2096.727036748076, 3148.504073067859, 1166.3295360172124, 4358.849476096194, 486.14034587767986, 11003.444090293706, 75.63659455570594, 73.3043547365086, 1457.6585276211752, 1172.0624488152462, 102.18379091686101, 74.39674787136558, 119.22801605969777, 72.02671150985077, 9231.870455609178, 38.38390906361411, 252.86280938943946, 63.24814296823788, 2115.697677060237, 794.6302303232139, 4448.788095563312, 393.93249040833996, 59.53848504335066, 117.92978906799482, 578.5470231829888, 2136.4489550112594, 46.91339160044236, 15.59814183554476, 397.55325040317365, 334.70463379174794, 25.43427287653887, 45.781588176584506, 169.5948419333787, 2658.6849406755014, 275.91114008544395, 217.62640560005326, 46.65497448232804, 46.23620865425217, 36.49790876163165, 396.0390480631578, 1451.4764246813334, 8.245916222215147, 175.72650121855443, 67.51085196531298, 9.88388166036971, 17.24108113114766, 21.979677404223015, 4.80409460868594, 14.001306219666407, 2.445210840917484, 1.1992609293588872, 2.4809054969335937, 28.61006300351568, 26.831186459848244, 138.70041970545444, 256.3206693422756, 702.8935883744108, 718.4117508845098, 28205.99439056404, 898.2869582244239, 981.4595207929457, 366.4140583857944, 555.2069061637937, 2764.8616446245883, 216.81939210716493, 62.96188244948135, 158.5016558430234, 8.113479336494544, 7.604224452019226, 10.12370131365019, 16.77579830714058, 117.51884114764289, 15.986094499594712, 36.77980640193675, 73.58361299630761, 56.90785349792007, 73.46221029390188, 54.8383135741811, 17.504198405138585, 14.471168986391737, 41.52138484727218, 23.55026227404018, 19.256132155444412, 9.880961364651839, 4.5636693043563925, 48773.72995192187, 141.0245240733971, 18.401435018810044, 110.44649310756155, 456.75155630839373, 262.6981660203478, 1.392207553770733, 0.0, 2.1123535119200003, 2.4463549588576217, 0.0, 2.2309129215761008, 0.0, 0.0, 6.134863448937653, 4.345951969244036, 3.9545540799670977, 3.2822833220585776, 6.42432574618555, 2.1116567767060213, 1.381727396964024, 0.5374342825363739, 1.0304414835408087, 3.4124187097388416, 2.201382095154188, 3.5892770093772404, 1.0089663506432638, 6.432508128501324, 2.7105401458459975, 5.550634615035537, 6.193202527886198, 2.248871711998844, 0.8148385204218476, 7.743263552269488, 1.2687417550235043, 1.269966832123672, 0.0, 1.1701312667025716, 0.5934564427357254, 0.0, 2.3154081532303943, 1.7848565961811926, 3.9095012081235305, 2.3325105238595887, 0.7950963983491854, 7.416711113490145, 1.3391845072835054, 0.0, 2.538263757280036, 0.8234896230760878, 79.08485794073587, 4.66774618522465, 0.0, 0.0, 0.0, 0.0, 0.0]}, {\"line\": {\"color\": \"rgba(50, 171, 96, 1.0)\", \"dash\": \"solid\", \"shape\": \"linear\", \"width\": 1.3}, \"mode\": \"lines\", \"name\": \"rf_pred\", \"text\": \"\", \"type\": \"scatter\", \"x\": [\"10001\", \"10002\", \"10003\", \"10004\", \"10005\", \"10006\", \"10007\", \"10009\", \"10010\", \"10011\", \"10012\", \"10013\", \"10014\", \"10016\", \"10017\", \"10018\", \"10019\", \"10020\", \"10021\", \"10022\", \"10023\", \"10024\", \"10025\", \"10026\", \"10027\", \"10028\", \"10029\", \"10030\", \"10031\", \"10032\", \"10033\", \"10034\", \"10035\", \"10036\", \"10037\", \"10038\", \"10039\", \"10040\", \"10044\", \"10065\", \"10069\", \"10075\", \"10103\", \"10110\", \"10111\", \"10112\", \"10115\", \"10119\", \"10128\", \"10152\", \"10153\", \"10154\", \"10162\", \"10165\", \"10167\", \"10168\", \"10169\", \"10170\", \"10171\", \"10172\", \"10173\", \"10174\", \"10177\", \"10199\", \"10271\", \"10278\", \"10279\", \"10280\", \"10282\", \"10301\", \"10302\", \"10303\", \"10304\", \"10305\", \"10306\", \"10308\", \"10310\", \"10312\", \"10314\", \"10451\", \"10452\", \"10453\", \"10454\", \"10455\", \"10456\", \"10457\", \"10458\", \"10459\", \"10460\", \"10461\", \"10462\", \"10463\", \"10465\", \"10466\", \"10467\", \"10468\", \"10469\", \"10470\", \"10471\", \"10472\", \"10473\", \"10474\", \"10475\", \"10502\", \"10510\", \"10519\", \"10522\", \"10523\", \"10528\", \"10530\", \"10536\", \"10538\", \"10543\", \"10547\", \"10550\", \"10552\", \"10553\", \"10570\", \"10573\", \"10577\", \"10580\", \"10583\", \"10591\", \"10598\", \"10601\", \"10603\", \"10604\", \"10605\", \"10701\", \"10703\", \"10704\", \"10705\", \"10706\", \"10707\", \"10708\", \"10709\", \"10710\", \"10801\", \"10803\", \"10805\", \"10917\", \"10941\", \"10956\", \"10960\", \"10962\", \"10994\", \"11001\", \"11003\", \"11004\", \"11010\", \"11020\", \"11021\", \"11024\", \"11030\", \"11040\", \"11042\", \"11101\", \"11102\", \"11103\", \"11104\", \"11105\", \"11106\", \"11109\", \"11201\", \"11203\", \"11204\", \"11205\", \"11206\", \"11207\", \"11208\", \"11209\", \"11210\", \"11211\", \"11212\", \"11213\", \"11214\", \"11215\", \"11216\", \"11217\", \"11218\", \"11219\", \"11220\", \"11221\", \"11222\", \"11223\", \"11224\", \"11225\", \"11226\", \"11228\", \"11229\", \"11230\", \"11231\", \"11232\", \"11233\", \"11234\", \"11235\", \"11236\", \"11237\", \"11238\", \"11239\", \"11354\", \"11355\", \"11356\", \"11357\", \"11358\", \"11360\", \"11361\", \"11362\", \"11363\", \"11364\", \"11365\", \"11366\", \"11367\", \"11368\", \"11369\", \"11370\", \"11371\", \"11372\", \"11373\", \"11374\", \"11375\", \"11377\", \"11378\", \"11379\", \"11385\", \"11411\", \"11412\", \"11413\", \"11414\", \"11415\", \"11416\", \"11417\", \"11418\", \"11419\", \"11420\", \"11421\", \"11422\", \"11423\", \"11424\", \"11426\", \"11427\", \"11428\", \"11429\", \"11430\", \"11432\", \"11433\", \"11434\", \"11435\", \"11436\", \"11501\", \"11507\", \"11509\", \"11510\", \"11518\", \"11530\", \"11542\", \"11549\", \"11550\", \"11552\", \"11553\", \"11557\", \"11559\", \"11560\", \"11561\", \"11563\", \"11565\", \"11566\", \"11568\", \"11570\", \"11576\", \"11580\", \"11581\", \"11590\", \"11691\", \"11692\", \"11693\", \"11694\", \"11697\", \"11701\", \"11704\", \"11706\", \"11710\", \"11726\", \"11735\", \"11743\", \"11746\", \"11747\", \"11753\", \"11756\", \"11779\", \"11780\", \"11791\", \"11797\", \"11801\", \"11803\", \"11804\", \"12601\", \"13029\", \"13691\", \"14801\"], \"y\": [177391.234, 72182.09, 203530.11199999996, 15931.340000000002, 14414.695999999998, 10237.097999999996, 24250.58000000002, 74497.62000000002, 110208.22599999995, 187019.10199999996, 105228.90200000005, 85699.25400000003, 124043.91999999997, 183908.60799999992, 120076.59000000007, 90784.40199999997, 226098.50800000015, 12173.594000000001, 115792.43200000009, 186722.91200000007, 128122.44400000003, 97281.67400000001, 76811.39199999999, 7259.170000000001, 13440.216000000004, 94603.56599999996, 20311.492000000017, 1325.7939999999992, 4547.919999999999, 2214.6580000000004, 929.5899999999999, 318.154, 6224.688, 165809.52599999993, 1044.0979999999995, 18610.039999999997, 555.1719999999999, 234.9559999999999, 262.562, 109734.83800000005, 6325.468000000002, 59331.71799999998, 4429.538, 3451.9800000000005, 2047.7699999999998, 2420.867999999999, 32.012, 45480.945999999996, 99754.45399999998, 3159.112000000001, 4703.174, 3032.096000000002, 1541.7339999999995, 7385.317999999995, 2271.69, 4262.405999999998, 1409.77, 7470.165999999999, 3361.192, 3263.650000000001, 2205.7599999999998, 4723.484, 1277.8960000000002, 6681.764, 186.884, 869.0939999999995, 1091.8480000000002, 13710.170000000002, 13160.078000000003, 4.912, 1.122, 1.108, 2.4779999999999998, 9.026, 6.722, 1.036, 12.688000000000002, 1.082, 9.280000000000001, 731.6080000000002, 181.20999999999998, 92.868, 308.6799999999999, 150.528, 131.59999999999994, 51.222, 51.486, 53.40599999999999, 41.054, 49.306, 79.31200000000001, 125.61999999999998, 22.006000000000004, 22.23, 55.21, 78.146, 25.81, 9.574, 29.819999999999993, 55.146000000000015, 24.621999999999996, 12.628, 10.368, 1.594, 2.316, 1.164, 1.338, 2.068, 2.106, 2.194, 1.014, 6.419999999999999, 2.462, 1.144, 1.084, 2.3899999999999997, 1.13, 1.008, 4.258, 2.0300000000000002, 3.776, 7.068, 6.0760000000000005, 1.252, 5.1419999999999995, 1.186, 4.682, 3.8779999999999997, 7.593999999999999, 2.716, 12.846, 4.555999999999999, 1.422, 4.804, 5.3260000000000005, 2.42, 2.268, 14.171999999999999, 6.812000000000001, 3.758, 1.316, 1.12, 1.408, 1.266, 2.702, 1.154, 6.747999999999999, 4.78, 26.166000000000007, 4.748, 2.776, 6.949999999999999, 1.278, 9.598, 6.263999999999999, 2.426, 11624.961999999998, 3701.8680000000004, 2731.894000000001, 4263.566000000001, 1572.6540000000007, 4887.172, 855.6180000000004, 13676.216000000004, 83.692, 71.89400000000002, 2395.4200000000014, 2728.999999999998, 115.65799999999999, 97.434, 139.44600000000003, 99.19600000000001, 18190.041999999998, 64.378, 296.19, 67.264, 3512.6880000000015, 1339.1820000000002, 6280.949999999996, 628.5180000000001, 56.90799999999999, 117.98200000000006, 1065.4399999999994, 3841.8920000000016, 48.34200000000001, 21.53, 549.728, 437.264, 31.755999999999997, 56.56800000000001, 241.84600000000003, 3785.3639999999978, 337.5639999999999, 260.3380000000001, 56.448, 48.959999999999994, 38.25599999999999, 924.0879999999999, 2667.3319999999994, 12.475999999999999, 215.82200000000003, 102.128, 10.16, 16.35, 20.386000000000006, 4.656000000000001, 14.666, 2.194, 1.058, 4.268, 32.322, 30.816, 165.71999999999994, 313.2439999999998, 805.0699999999996, 1014.9420000000003, 61294.464, 1342.3539999999996, 1271.4979999999996, 474.24800000000016, 760.9820000000001, 3393.4440000000004, 263.30400000000003, 63.356000000000016, 186.55599999999995, 11.985999999999999, 7.86, 9.904, 16.5, 112.90400000000004, 15.130000000000003, 33.138000000000005, 72.23400000000001, 60.74999999999998, 81.00200000000004, 54.523999999999994, 17.97, 14.934000000000001, 44.57, 20.340000000000003, 20.919999999999998, 10.534, 4.8, 58803.04800000003, 163.60000000000005, 24.552, 110.81200000000001, 550.91, 257.1320000000001, 1.426, 2.506, 2.108, 2.96, 1.262, 2.58, 1.042, 2.314, 4.618, 4.612, 4.4639999999999995, 4.04, 3.654, 2.76, 2.984, 1.588, 1.75, 5.37, 1.246, 3.284, 1.068, 6.958, 2.524, 5.9399999999999995, 4.0920000000000005, 2.082, 1.024, 7.860000000000001, 1.15, 1.264, 1.124, 1.1, 1.114, 1.124, 2.2359999999999998, 1.216, 3.2119999999999997, 2.06, 1.038, 2.332, 1.17, 1.032, 2.132, 1.406, 80.25599999999999, 4.874, 1.156, 1.164, 1.294, 1.336, 1.366]}, {\"line\": {\"color\": \"rgba(128, 0, 128, 1.0)\", \"dash\": \"solid\", \"shape\": \"linear\", \"width\": 1.3}, \"mode\": \"lines\", \"name\": \"xgb_pred\", \"text\": \"\", \"type\": \"scatter\", \"x\": [\"10001\", \"10002\", \"10003\", \"10004\", \"10005\", \"10006\", \"10007\", \"10009\", \"10010\", \"10011\", \"10012\", \"10013\", \"10014\", \"10016\", \"10017\", \"10018\", \"10019\", \"10020\", \"10021\", \"10022\", \"10023\", \"10024\", \"10025\", \"10026\", \"10027\", \"10028\", \"10029\", \"10030\", \"10031\", \"10032\", \"10033\", \"10034\", \"10035\", \"10036\", \"10037\", \"10038\", \"10039\", \"10040\", \"10044\", \"10065\", \"10069\", \"10075\", \"10103\", \"10110\", \"10111\", \"10112\", \"10115\", \"10119\", \"10128\", \"10152\", \"10153\", \"10154\", \"10162\", \"10165\", \"10167\", \"10168\", \"10169\", \"10170\", \"10171\", \"10172\", \"10173\", \"10174\", \"10177\", \"10199\", \"10271\", \"10278\", \"10279\", \"10280\", \"10282\", \"10301\", \"10302\", \"10303\", \"10304\", \"10305\", \"10306\", \"10308\", \"10310\", \"10312\", \"10314\", \"10451\", \"10452\", \"10453\", \"10454\", \"10455\", \"10456\", \"10457\", \"10458\", \"10459\", \"10460\", \"10461\", \"10462\", \"10463\", \"10465\", \"10466\", \"10467\", \"10468\", \"10469\", \"10470\", \"10471\", \"10472\", \"10473\", \"10474\", \"10475\", \"10502\", \"10510\", \"10519\", \"10522\", \"10523\", \"10528\", \"10530\", \"10536\", \"10538\", \"10543\", \"10547\", \"10550\", \"10552\", \"10553\", \"10570\", \"10573\", \"10577\", \"10580\", \"10583\", \"10591\", \"10598\", \"10601\", \"10603\", \"10604\", \"10605\", \"10701\", \"10703\", \"10704\", \"10705\", \"10706\", \"10707\", \"10708\", \"10709\", \"10710\", \"10801\", \"10803\", \"10805\", \"10917\", \"10941\", \"10956\", \"10960\", \"10962\", \"10994\", \"11001\", \"11003\", \"11004\", \"11010\", \"11020\", \"11021\", \"11024\", \"11030\", \"11040\", \"11042\", \"11101\", \"11102\", \"11103\", \"11104\", \"11105\", \"11106\", \"11109\", \"11201\", \"11203\", \"11204\", \"11205\", \"11206\", \"11207\", \"11208\", \"11209\", \"11210\", \"11211\", \"11212\", \"11213\", \"11214\", \"11215\", \"11216\", \"11217\", \"11218\", \"11219\", \"11220\", \"11221\", \"11222\", \"11223\", \"11224\", \"11225\", \"11226\", \"11228\", \"11229\", \"11230\", \"11231\", \"11232\", \"11233\", \"11234\", \"11235\", \"11236\", \"11237\", \"11238\", \"11239\", \"11354\", \"11355\", \"11356\", \"11357\", \"11358\", \"11360\", \"11361\", \"11362\", \"11363\", \"11364\", \"11365\", \"11366\", \"11367\", \"11368\", \"11369\", \"11370\", \"11371\", \"11372\", \"11373\", \"11374\", \"11375\", \"11377\", \"11378\", \"11379\", \"11385\", \"11411\", \"11412\", \"11413\", \"11414\", \"11415\", \"11416\", \"11417\", \"11418\", \"11419\", \"11420\", \"11421\", \"11422\", \"11423\", \"11424\", \"11426\", \"11427\", \"11428\", \"11429\", \"11430\", \"11432\", \"11433\", \"11434\", \"11435\", \"11436\", \"11501\", \"11507\", \"11509\", \"11510\", \"11518\", \"11530\", \"11542\", \"11549\", \"11550\", \"11552\", \"11553\", \"11557\", \"11559\", \"11560\", \"11561\", \"11563\", \"11565\", \"11566\", \"11568\", \"11570\", \"11576\", \"11580\", \"11581\", \"11590\", \"11691\", \"11692\", \"11693\", \"11694\", \"11697\", \"11701\", \"11704\", \"11706\", \"11710\", \"11726\", \"11735\", \"11743\", \"11746\", \"11747\", \"11753\", \"11756\", \"11779\", \"11780\", \"11791\", \"11797\", \"11801\", \"11803\", \"11804\", \"12601\", \"13029\", \"13691\", \"14801\"], \"y\": [181057.9375, 69654.640625, 198551.53125, 17792.19921875, 15389.24609375, 9312.2548828125, 26252.880859375, 69511.734375, 113305.1796875, 190263.921875, 106022.109375, 87369.6015625, 123692.515625, 189190.59375, 127594.1796875, 95394.0234375, 229609.5, 14427.0888671875, 120024.2421875, 196264.6875, 130933.953125, 99655.5703125, 78794.4921875, 10248.9375, 15146.2685546875, 93684.296875, 20738.126953125, 2906.740966796875, 4228.02734375, 2932.404541015625, 1888.9456787109375, 1533.759765625, 7323.373046875, 160185.53125, 1858.7666015625, 19165.783203125, 900.855712890625, 470.86676025390625, 849.3685913085938, 114572.78125, 9722.3720703125, 59729.06640625, 5875.408203125, 4843.4755859375, 3478.4287109375, 3666.46337890625, 350.6080017089844, 46221.203125, 104537.453125, 3645.0146484375, 4817.6748046875, 3950.96240234375, 2911.326416015625, 6412.10302734375, 3062.465087890625, 3959.96337890625, 2401.05126953125, 6382.60498046875, 3655.013671875, 3633.892333984375, 3287.735107421875, 4423.9033203125, 2324.3125, 6187.5126953125, 574.4007568359375, 1152.134033203125, 1231.2144775390625, 14648.2412109375, 14647.921875, 61.87580108642578, 17.23886489868164, 0.25269901752471924, 0.37290430068969727, 20.870647430419922, 29.498889923095703, 1.629098653793335, 42.661170959472656, 2.424237012863159, 49.2513542175293, 575.2276611328125, 388.3396301269531, 181.52696228027344, 481.495361328125, 280.27874755859375, 208.3459014892578, 159.89715576171875, 83.99886322021484, 150.76837158203125, 147.32850646972656, 166.56849670410156, 212.38174438476562, 322.01727294921875, 73.33897399902344, 75.2383041381836, 162.0309600830078, 220.0286102294922, 50.50545883178711, 35.043670654296875, 111.09326171875, 163.0386199951172, 72.1507339477539, 60.46039962768555, 49.73440170288086, 5.1576313972473145, 7.085420608520508, 1.3295555114746094, 0.026404768228530884, 2.155846118927002, 3.882619619369507, 11.072809219360352, 1.6274700164794922, 27.427934646606445, 11.191755294799805, 8.976497650146484, -1.4981359243392944, 8.446091651916504, -0.6368062496185303, -2.159291982650757, 10.91460132598877, 8.998678207397461, -5.896590709686279, 30.79620361328125, 7.424929618835449, 9.794502258300781, 6.242081642150879, 1.3327279090881348, 3.4621407985687256, 10.215411186218262, 15.464487075805664, 5.530365943908691, 45.51049041748047, 21.212596893310547, 6.580097675323486, 0.3952608108520508, 9.221954345703125, 4.4995903968811035, 6.985947608947754, 21.18166732788086, 19.804473876953125, 3.3573999404907227, 1.4907200336456299, 4.793260097503662, 3.191765308380127, 1.495598316192627, 5.7792205810546875, 17.503633499145508, 32.74913787841797, 9.234954833984375, 54.38668441772461, 5.350675106048584, 3.505021095275879, -0.3043496608734131, -4.070181846618652, 48.73779296875, 31.067962646484375, 3.613386869430542, 10031.4287109375, 3590.64990234375, 3331.16162109375, 3422.2099609375, 2218.095458984375, 4423.79345703125, 1303.7333984375, 12165.1005859375, 405.5450439453125, 261.9156494140625, 1942.8336181640625, 1910.6727294921875, 578.9293212890625, 436.1136779785156, 770.881103515625, 554.5042114257812, 14436.6884765625, 239.0091552734375, 706.4093627929688, 316.86724853515625, 2586.122802734375, 1826.5843505859375, 4559.85498046875, 797.5658569335938, 166.14634704589844, 485.1947021484375, 1194.4317626953125, 2124.38623046875, 183.7568359375, 59.81772232055664, 721.64111328125, 702.798583984375, 111.87347412109375, 144.8958282470703, 457.857177734375, 2666.960205078125, 526.4348754882812, 474.8370361328125, 169.0114288330078, 148.91587829589844, 146.22735595703125, 732.8700561523438, 1772.6619873046875, 6.652924060821533, 319.3907165527344, 183.3505096435547, 37.72746658325195, 41.488834381103516, 43.2578239440918, 27.833642959594727, 68.88164520263672, 0.08663249015808105, 1.7350928783416748, 17.82618522644043, 145.2176971435547, 105.26082611083984, 281.5523681640625, 412.7059631347656, 802.37353515625, 712.7613525390625, 64394.0078125, 1308.30224609375, 1285.4259033203125, 871.8685913085938, 888.0384521484375, 2641.526123046875, 169.22183227539062, 109.34037780761719, 167.87713623046875, -5.702269077301025, 19.614246368408203, 48.366477966308594, 8.289972305297852, 186.73092651367188, 6.1687726974487305, 0.7966631054878235, 67.8277359008789, 96.69656372070312, 37.07773971557617, 121.78721618652344, 43.08199691772461, 15.594799041748047, 38.37776565551758, -19.713130950927734, -12.90541934967041, 70.75381469726562, 83.19026184082031, 59131.34765625, 336.1263427734375, 63.11581802368164, 373.2987365722656, 524.1871337890625, 489.9320983886719, 7.967248916625977, 8.194658279418945, 6.764453887939453, 4.207548141479492, 7.923176288604736, -2.7982406616210938, 6.675939083099365, 13.655088424682617, 14.523877143859863, 4.465087890625, 14.698447227478027, 8.688966751098633, 24.31093978881836, 15.302906036376953, 10.642522811889648, 13.191044807434082, -7.032620429992676, 11.027742385864258, 8.194658279418945, 10.896280288696289, 3.423468589782715, 10.693277359008789, 12.152560234069824, 20.882497787475586, 11.15243911743164, 12.573156356811523, 3.9199562072753906, 19.295509338378906, 6.521875381469727, 9.126222610473633, 1.6964905261993408, 6.356161117553711, 16.82491111755371, 7.923176288604736, 13.416542053222656, 4.257120132446289, -3.49617338180542, 0.5574114322662354, 7.322418689727783, 10.68798828125, 5.325236797332764, 0.8486515283584595, 12.148240089416504, -6.366269111633301, 138.47120666503906, 9.821131706237793, -3.9476871490478516, 3.802640914916992, 2.8307101726531982, 2.0347883701324463, 3.495218515396118]}, {\"line\": {\"color\": \"rgba(219, 64, 82, 1.0)\", \"dash\": \"solid\", \"shape\": \"linear\", \"width\": 1.3}, \"mode\": \"lines\", \"name\": \"lgbm_pred\", \"text\": \"\", \"type\": \"scatter\", \"x\": [\"10001\", \"10002\", \"10003\", \"10004\", \"10005\", \"10006\", \"10007\", \"10009\", \"10010\", \"10011\", \"10012\", \"10013\", \"10014\", \"10016\", \"10017\", \"10018\", \"10019\", \"10020\", \"10021\", \"10022\", \"10023\", \"10024\", \"10025\", \"10026\", \"10027\", \"10028\", \"10029\", \"10030\", \"10031\", \"10032\", \"10033\", \"10034\", \"10035\", \"10036\", \"10037\", \"10038\", \"10039\", \"10040\", \"10044\", \"10065\", \"10069\", \"10075\", \"10103\", \"10110\", \"10111\", \"10112\", \"10115\", \"10119\", \"10128\", \"10152\", \"10153\", \"10154\", \"10162\", \"10165\", \"10167\", \"10168\", \"10169\", \"10170\", \"10171\", \"10172\", \"10173\", \"10174\", \"10177\", \"10199\", \"10271\", \"10278\", \"10279\", \"10280\", \"10282\", \"10301\", \"10302\", \"10303\", \"10304\", \"10305\", \"10306\", \"10308\", \"10310\", \"10312\", \"10314\", \"10451\", \"10452\", \"10453\", \"10454\", \"10455\", \"10456\", \"10457\", \"10458\", \"10459\", \"10460\", \"10461\", \"10462\", \"10463\", \"10465\", \"10466\", \"10467\", \"10468\", \"10469\", \"10470\", \"10471\", \"10472\", \"10473\", \"10474\", \"10475\", \"10502\", \"10510\", \"10519\", \"10522\", \"10523\", \"10528\", \"10530\", \"10536\", \"10538\", \"10543\", \"10547\", \"10550\", \"10552\", \"10553\", \"10570\", \"10573\", \"10577\", \"10580\", \"10583\", \"10591\", \"10598\", \"10601\", \"10603\", \"10604\", \"10605\", \"10701\", \"10703\", \"10704\", \"10705\", \"10706\", \"10707\", \"10708\", \"10709\", \"10710\", \"10801\", \"10803\", \"10805\", \"10917\", \"10941\", \"10956\", \"10960\", \"10962\", \"10994\", \"11001\", \"11003\", \"11004\", \"11010\", \"11020\", \"11021\", \"11024\", \"11030\", \"11040\", \"11042\", \"11101\", \"11102\", \"11103\", \"11104\", \"11105\", \"11106\", \"11109\", \"11201\", \"11203\", \"11204\", \"11205\", \"11206\", \"11207\", \"11208\", \"11209\", \"11210\", \"11211\", \"11212\", \"11213\", \"11214\", \"11215\", \"11216\", \"11217\", \"11218\", \"11219\", \"11220\", \"11221\", \"11222\", \"11223\", \"11224\", \"11225\", \"11226\", \"11228\", \"11229\", \"11230\", \"11231\", \"11232\", \"11233\", \"11234\", \"11235\", \"11236\", \"11237\", \"11238\", \"11239\", \"11354\", \"11355\", \"11356\", \"11357\", \"11358\", \"11360\", \"11361\", \"11362\", \"11363\", \"11364\", \"11365\", \"11366\", \"11367\", \"11368\", \"11369\", \"11370\", \"11371\", \"11372\", \"11373\", \"11374\", \"11375\", \"11377\", \"11378\", \"11379\", \"11385\", \"11411\", \"11412\", \"11413\", \"11414\", \"11415\", \"11416\", \"11417\", \"11418\", \"11419\", \"11420\", \"11421\", \"11422\", \"11423\", \"11424\", \"11426\", \"11427\", \"11428\", \"11429\", \"11430\", \"11432\", \"11433\", \"11434\", \"11435\", \"11436\", \"11501\", \"11507\", \"11509\", \"11510\", \"11518\", \"11530\", \"11542\", \"11549\", \"11550\", \"11552\", \"11553\", \"11557\", \"11559\", \"11560\", \"11561\", \"11563\", \"11565\", \"11566\", \"11568\", \"11570\", \"11576\", \"11580\", \"11581\", \"11590\", \"11691\", \"11692\", \"11693\", \"11694\", \"11697\", \"11701\", \"11704\", \"11706\", \"11710\", \"11726\", \"11735\", \"11743\", \"11746\", \"11747\", \"11753\", \"11756\", \"11779\", \"11780\", \"11791\", \"11797\", \"11801\", \"11803\", \"11804\", \"12601\", \"13029\", \"13691\", \"14801\"], \"y\": [176352.5103952003, 70052.04682445973, 201436.0056095425, 17593.060728170014, 15491.71344722438, 13162.65391856872, 24553.041457155705, 69956.83684483476, 112487.10769651204, 184004.6624396037, 105557.43591893648, 88166.06373167281, 122146.89899836823, 184115.3193055021, 123529.340695496, 93846.48575329891, 225219.49613618298, 14005.147791423147, 118423.09398245586, 191971.88391134996, 130349.82394462217, 98492.10910269589, 74468.62543089104, 9935.94898425183, 12676.873465076662, 91079.96823686846, 20637.043929506086, 3687.6014290155645, 3765.5890523305234, 3533.710783235366, 3402.733336102979, 2648.627565200568, 7392.815331883617, 159366.65163771962, 4013.2784453856675, 16087.76996442316, 2053.0933905876636, 1196.973055607615, 1778.002490406446, 108283.70281770176, 8788.999506461932, 57415.54329410616, 5247.023590674814, 4779.2391925032325, 3544.5368153636414, 3617.2717902205527, 619.486010207611, 42359.98495786338, 98677.3727902604, 4557.065758946957, 4627.15098559003, 4468.8131132985245, 4070.644317981227, 4884.605626903695, 4163.326075744639, 4152.529173986511, 3758.2246135809, 4680.924159450768, 4267.795752013039, 4205.2312340834, 4165.376138558001, 4278.734692058772, 3330.7902960991705, 5484.331916979475, 882.7218020230089, 1803.1182030611878, 1846.3727588623833, 12880.649215117513, 12812.522491827314, 18.057254240154244, 7.580909220292873, 6.014161338622029, 11.902915953690075, 55.53627777692, 37.38694018794226, -8.56495010162533, 58.14941705314347, 7.831950957573153, 66.45080372127302, 1048.7302215465982, 482.67176781757246, 228.37965301674546, 774.7768199059944, 364.4381146985588, 339.29568933065445, 171.13353047175224, 146.35042063456274, 179.92608094643316, 140.45789989546813, 187.33371440756014, 257.6915587131251, 426.0105219000139, 86.59027727946508, 88.71020830720887, 224.55959992117624, 275.55919746887645, 77.12107647553854, 34.58505534403114, 158.26974437156983, 200.032339079641, 80.78513000014864, 81.03559171595222, 64.65787295045824, 7.432524360303642, 14.661305478933789, -2.814653012575403, -7.0512091311502685, 12.510191725553483, 13.025159208165308, 16.434025133429614, 2.9317099378224345, 37.77857784235138, 15.677346595637564, 6.242776546189647, -9.61946448925939, 13.758357588998617, 2.025103218462565, 7.949680959315193, 30.590381438589187, 8.53185456258584, 10.326468297523029, 47.15077059661367, 32.702913350381046, 7.037309470894031, 27.390548025379246, -6.181999864219914, 24.35619046857141, 17.46438043575863, 24.51948736716263, 0.3217738099682652, 59.498130198922674, 31.553867853124107, 8.244822235333922, 13.885958746504807, 16.83493159441198, 7.089577195072426, 14.355290222648737, 15.04685003091629, 17.549098974518326, 14.973927029280093, 7.088397918260712, 7.037309470894031, 1.3148584423972765, 7.088397918260712, 8.881330052327563, 7.825851336591418, 43.29288679790758, 18.774749584758, 78.76234159437224, 16.42759497595777, 11.8781862304394, 27.839501251736344, 3.4086783168921704, 31.45953390723419, 42.55124860403032, 5.368582826285641, 9863.771432316638, 3268.126272480197, 3218.569838504363, 3311.348711831225, 2834.063837786229, 3550.1814827990247, 1842.829899218149, 9350.657446384523, 604.8771368485276, 466.0745598877707, 2177.7716720935214, 2043.7981973995625, 625.9385625873729, 532.9784899344401, 813.1349902445208, 562.1255848063721, 13378.50091417953, 312.5627358073112, 1061.4971468844933, 405.2232254180455, 2564.69848717445, 2370.200840076537, 3443.0709549761655, 1221.9572135514434, 359.80220669960875, 674.9532337624156, 1215.141619390881, 1748.2393571947366, 285.3851068970089, 99.22007551070192, 1136.4900740232156, 1100.585377268109, 168.82699309912118, 283.1921751543953, 770.1012183666088, 1703.0934664493532, 925.3988811669518, 769.1857219935532, 278.32222388496086, 247.76058849377796, 237.50123313959196, 836.030672652756, 1360.7765295260076, 40.48422523067117, 598.6798369357984, 317.5224531846016, 61.19736648349208, 94.4853356897997, 105.86137497091737, 42.51588990434968, 81.64514855192641, 11.289227047165884, 5.964479875747008, 18.759412859315244, 178.81878023797907, 162.86307638557787, 549.7904182003315, 794.2106916777736, 1041.3778285887197, 1008.1362273107997, 64431.18814433835, 1430.4276941721175, 1398.6075136852785, 1080.8730579857643, 1173.774961802431, 2543.064500087223, 430.77374407422093, 206.72107350428902, 313.9759926246726, 24.027995363474083, 15.875950686174473, 36.73547077552161, 42.50440911659002, 319.64333431135464, 41.683796643259974, 87.86463438349872, 152.6206444399133, 184.84582069580296, 184.10276854129174, 180.20985058846043, 57.361018964423074, 45.49137171207571, 101.49018465147853, 67.52092682085411, 36.23007609376661, 24.755811430229492, 7.208889347723867, 58386.482530607354, 246.7525022657993, 50.09613603356414, 241.1812379780087, 406.71310108579706, 330.94247675885117, 4.368196723561055, 2.5784698321604345, -0.14725109891633192, 3.580866420502857, 1.8981997382266835, 6.840515171229107, 4.202845445423738, 8.281224377044222, 11.265097337500949, 8.710697391642992, 0.5560762407766819, 9.537793918864793, 11.153721618460807, 6.101045183650421, 9.160138450995849, 7.690500253188631, 2.289437755724072, 13.04387512737192, 2.5784698321604345, 2.396843029779059, 3.8555925068288794, 16.40420898774951, 6.624862116754542, 14.814293469038441, 17.790264926592698, 6.5028582368977474, 2.454261070377196, 18.767745740186772, 0.15911119761253137, 3.7543586367503137, 2.743821110297752, 1.392025943118877, 14.017871937102205, 1.8981997382266835, 0.7399541881562792, 4.104429362182721, 7.39581471948933, 5.789687897899173, 3.0925914084804655, 8.742907968466223, 4.27198552224648, 2.6292490921948013, 4.225627833106835, 2.2328946076144907, 108.45674802978023, 9.498998536284965, -0.3472979228755632, 2.1825283218941363, 4.106634244109163, 4.694310801945671, 3.939078084045404]}],\n",
       "                        {\"legend\": {\"bgcolor\": \"#F5F6F9\", \"font\": {\"color\": \"#4D5663\"}}, \"paper_bgcolor\": \"#F5F6F9\", \"plot_bgcolor\": \"#F5F6F9\", \"template\": {\"data\": {\"bar\": [{\"error_x\": {\"color\": \"#2a3f5f\"}, \"error_y\": {\"color\": \"#2a3f5f\"}, \"marker\": {\"line\": {\"color\": \"#E5ECF6\", \"width\": 0.5}}, \"type\": \"bar\"}], \"barpolar\": [{\"marker\": {\"line\": {\"color\": \"#E5ECF6\", \"width\": 0.5}}, \"type\": \"barpolar\"}], \"carpet\": [{\"aaxis\": {\"endlinecolor\": \"#2a3f5f\", \"gridcolor\": \"white\", \"linecolor\": \"white\", \"minorgridcolor\": \"white\", \"startlinecolor\": \"#2a3f5f\"}, \"baxis\": {\"endlinecolor\": \"#2a3f5f\", \"gridcolor\": \"white\", \"linecolor\": \"white\", \"minorgridcolor\": \"white\", \"startlinecolor\": \"#2a3f5f\"}, \"type\": \"carpet\"}], \"choropleth\": [{\"colorbar\": {\"outlinewidth\": 0, \"ticks\": \"\"}, \"type\": \"choropleth\"}], \"contour\": [{\"colorbar\": {\"outlinewidth\": 0, \"ticks\": \"\"}, \"colorscale\": [[0.0, \"#0d0887\"], [0.1111111111111111, \"#46039f\"], [0.2222222222222222, \"#7201a8\"], [0.3333333333333333, \"#9c179e\"], [0.4444444444444444, \"#bd3786\"], [0.5555555555555556, \"#d8576b\"], [0.6666666666666666, \"#ed7953\"], [0.7777777777777778, \"#fb9f3a\"], [0.8888888888888888, \"#fdca26\"], [1.0, \"#f0f921\"]], \"type\": \"contour\"}], \"contourcarpet\": [{\"colorbar\": {\"outlinewidth\": 0, \"ticks\": \"\"}, \"type\": \"contourcarpet\"}], \"heatmap\": [{\"colorbar\": {\"outlinewidth\": 0, \"ticks\": \"\"}, \"colorscale\": [[0.0, \"#0d0887\"], [0.1111111111111111, \"#46039f\"], [0.2222222222222222, \"#7201a8\"], [0.3333333333333333, \"#9c179e\"], [0.4444444444444444, \"#bd3786\"], [0.5555555555555556, \"#d8576b\"], [0.6666666666666666, \"#ed7953\"], [0.7777777777777778, \"#fb9f3a\"], [0.8888888888888888, \"#fdca26\"], [1.0, \"#f0f921\"]], \"type\": \"heatmap\"}], \"heatmapgl\": [{\"colorbar\": {\"outlinewidth\": 0, \"ticks\": \"\"}, \"colorscale\": [[0.0, \"#0d0887\"], [0.1111111111111111, \"#46039f\"], [0.2222222222222222, \"#7201a8\"], [0.3333333333333333, \"#9c179e\"], [0.4444444444444444, \"#bd3786\"], [0.5555555555555556, \"#d8576b\"], [0.6666666666666666, \"#ed7953\"], [0.7777777777777778, \"#fb9f3a\"], [0.8888888888888888, \"#fdca26\"], [1.0, \"#f0f921\"]], \"type\": \"heatmapgl\"}], \"histogram\": [{\"marker\": {\"colorbar\": {\"outlinewidth\": 0, \"ticks\": \"\"}}, \"type\": \"histogram\"}], \"histogram2d\": [{\"colorbar\": {\"outlinewidth\": 0, \"ticks\": \"\"}, \"colorscale\": [[0.0, \"#0d0887\"], [0.1111111111111111, \"#46039f\"], [0.2222222222222222, \"#7201a8\"], [0.3333333333333333, \"#9c179e\"], [0.4444444444444444, \"#bd3786\"], [0.5555555555555556, \"#d8576b\"], [0.6666666666666666, \"#ed7953\"], [0.7777777777777778, \"#fb9f3a\"], [0.8888888888888888, \"#fdca26\"], [1.0, \"#f0f921\"]], \"type\": \"histogram2d\"}], \"histogram2dcontour\": [{\"colorbar\": {\"outlinewidth\": 0, \"ticks\": \"\"}, \"colorscale\": [[0.0, \"#0d0887\"], [0.1111111111111111, \"#46039f\"], [0.2222222222222222, \"#7201a8\"], [0.3333333333333333, \"#9c179e\"], [0.4444444444444444, \"#bd3786\"], [0.5555555555555556, \"#d8576b\"], [0.6666666666666666, \"#ed7953\"], [0.7777777777777778, \"#fb9f3a\"], [0.8888888888888888, \"#fdca26\"], [1.0, \"#f0f921\"]], \"type\": \"histogram2dcontour\"}], \"mesh3d\": [{\"colorbar\": {\"outlinewidth\": 0, \"ticks\": \"\"}, \"type\": \"mesh3d\"}], \"parcoords\": [{\"line\": {\"colorbar\": {\"outlinewidth\": 0, \"ticks\": \"\"}}, \"type\": \"parcoords\"}], \"pie\": [{\"automargin\": true, \"type\": \"pie\"}], \"scatter\": [{\"marker\": {\"colorbar\": {\"outlinewidth\": 0, \"ticks\": \"\"}}, \"type\": \"scatter\"}], \"scatter3d\": [{\"line\": {\"colorbar\": {\"outlinewidth\": 0, \"ticks\": \"\"}}, \"marker\": {\"colorbar\": {\"outlinewidth\": 0, \"ticks\": \"\"}}, \"type\": \"scatter3d\"}], \"scattercarpet\": [{\"marker\": {\"colorbar\": {\"outlinewidth\": 0, \"ticks\": \"\"}}, \"type\": \"scattercarpet\"}], \"scattergeo\": [{\"marker\": {\"colorbar\": {\"outlinewidth\": 0, \"ticks\": \"\"}}, \"type\": \"scattergeo\"}], \"scattergl\": [{\"marker\": {\"colorbar\": {\"outlinewidth\": 0, \"ticks\": \"\"}}, \"type\": \"scattergl\"}], \"scattermapbox\": [{\"marker\": {\"colorbar\": {\"outlinewidth\": 0, \"ticks\": \"\"}}, \"type\": \"scattermapbox\"}], \"scatterpolar\": [{\"marker\": {\"colorbar\": {\"outlinewidth\": 0, \"ticks\": \"\"}}, \"type\": \"scatterpolar\"}], \"scatterpolargl\": [{\"marker\": {\"colorbar\": {\"outlinewidth\": 0, \"ticks\": \"\"}}, \"type\": \"scatterpolargl\"}], \"scatterternary\": [{\"marker\": {\"colorbar\": {\"outlinewidth\": 0, \"ticks\": \"\"}}, \"type\": \"scatterternary\"}], \"surface\": [{\"colorbar\": {\"outlinewidth\": 0, \"ticks\": \"\"}, \"colorscale\": [[0.0, \"#0d0887\"], [0.1111111111111111, \"#46039f\"], [0.2222222222222222, \"#7201a8\"], [0.3333333333333333, \"#9c179e\"], [0.4444444444444444, \"#bd3786\"], [0.5555555555555556, \"#d8576b\"], [0.6666666666666666, \"#ed7953\"], [0.7777777777777778, \"#fb9f3a\"], [0.8888888888888888, \"#fdca26\"], [1.0, \"#f0f921\"]], \"type\": \"surface\"}], \"table\": [{\"cells\": {\"fill\": {\"color\": \"#EBF0F8\"}, \"line\": {\"color\": \"white\"}}, \"header\": {\"fill\": {\"color\": \"#C8D4E3\"}, \"line\": {\"color\": \"white\"}}, \"type\": \"table\"}]}, \"layout\": {\"annotationdefaults\": {\"arrowcolor\": \"#2a3f5f\", \"arrowhead\": 0, \"arrowwidth\": 1}, \"coloraxis\": {\"colorbar\": {\"outlinewidth\": 0, \"ticks\": \"\"}}, \"colorscale\": {\"diverging\": [[0, \"#8e0152\"], [0.1, \"#c51b7d\"], [0.2, \"#de77ae\"], [0.3, \"#f1b6da\"], [0.4, \"#fde0ef\"], [0.5, \"#f7f7f7\"], [0.6, \"#e6f5d0\"], [0.7, \"#b8e186\"], [0.8, \"#7fbc41\"], [0.9, \"#4d9221\"], [1, \"#276419\"]], \"sequential\": [[0.0, \"#0d0887\"], [0.1111111111111111, \"#46039f\"], [0.2222222222222222, \"#7201a8\"], [0.3333333333333333, \"#9c179e\"], [0.4444444444444444, \"#bd3786\"], [0.5555555555555556, \"#d8576b\"], [0.6666666666666666, \"#ed7953\"], [0.7777777777777778, \"#fb9f3a\"], [0.8888888888888888, \"#fdca26\"], [1.0, \"#f0f921\"]], \"sequentialminus\": [[0.0, \"#0d0887\"], [0.1111111111111111, \"#46039f\"], [0.2222222222222222, \"#7201a8\"], [0.3333333333333333, \"#9c179e\"], [0.4444444444444444, \"#bd3786\"], [0.5555555555555556, \"#d8576b\"], [0.6666666666666666, \"#ed7953\"], [0.7777777777777778, \"#fb9f3a\"], [0.8888888888888888, \"#fdca26\"], [1.0, \"#f0f921\"]]}, \"colorway\": [\"#636efa\", \"#EF553B\", \"#00cc96\", \"#ab63fa\", \"#FFA15A\", \"#19d3f3\", \"#FF6692\", \"#B6E880\", \"#FF97FF\", \"#FECB52\"], \"font\": {\"color\": \"#2a3f5f\"}, \"geo\": {\"bgcolor\": \"white\", \"lakecolor\": \"white\", \"landcolor\": \"#E5ECF6\", \"showlakes\": true, \"showland\": true, \"subunitcolor\": \"white\"}, \"hoverlabel\": {\"align\": \"left\"}, \"hovermode\": \"closest\", \"mapbox\": {\"style\": \"light\"}, \"paper_bgcolor\": \"white\", \"plot_bgcolor\": \"#E5ECF6\", \"polar\": {\"angularaxis\": {\"gridcolor\": \"white\", \"linecolor\": \"white\", \"ticks\": \"\"}, \"bgcolor\": \"#E5ECF6\", \"radialaxis\": {\"gridcolor\": \"white\", \"linecolor\": \"white\", \"ticks\": \"\"}}, \"scene\": {\"xaxis\": {\"backgroundcolor\": \"#E5ECF6\", \"gridcolor\": \"white\", \"gridwidth\": 2, \"linecolor\": \"white\", \"showbackground\": true, \"ticks\": \"\", \"zerolinecolor\": \"white\"}, \"yaxis\": {\"backgroundcolor\": \"#E5ECF6\", \"gridcolor\": \"white\", \"gridwidth\": 2, \"linecolor\": \"white\", \"showbackground\": true, \"ticks\": \"\", \"zerolinecolor\": \"white\"}, \"zaxis\": {\"backgroundcolor\": \"#E5ECF6\", \"gridcolor\": \"white\", \"gridwidth\": 2, \"linecolor\": \"white\", \"showbackground\": true, \"ticks\": \"\", \"zerolinecolor\": \"white\"}}, \"shapedefaults\": {\"line\": {\"color\": \"#2a3f5f\"}}, \"ternary\": {\"aaxis\": {\"gridcolor\": \"white\", \"linecolor\": \"white\", \"ticks\": \"\"}, \"baxis\": {\"gridcolor\": \"white\", \"linecolor\": \"white\", \"ticks\": \"\"}, \"bgcolor\": \"#E5ECF6\", \"caxis\": {\"gridcolor\": \"white\", \"linecolor\": \"white\", \"ticks\": \"\"}}, \"title\": {\"x\": 0.05}, \"xaxis\": {\"automargin\": true, \"gridcolor\": \"white\", \"linecolor\": \"white\", \"ticks\": \"\", \"title\": {\"standoff\": 15}, \"zerolinecolor\": \"white\", \"zerolinewidth\": 2}, \"yaxis\": {\"automargin\": true, \"gridcolor\": \"white\", \"linecolor\": \"white\", \"ticks\": \"\", \"title\": {\"standoff\": 15}, \"zerolinecolor\": \"white\", \"zerolinewidth\": 2}}}, \"title\": {\"font\": {\"color\": \"#4D5663\"}, \"text\": \"Prediction by Zipcode\"}, \"xaxis\": {\"gridcolor\": \"#E1E5ED\", \"showgrid\": true, \"tickfont\": {\"color\": \"#4D5663\"}, \"title\": {\"font\": {\"color\": \"#4D5663\"}, \"text\": \"Zipcode\"}, \"zerolinecolor\": \"#E1E5ED\"}, \"yaxis\": {\"gridcolor\": \"#E1E5ED\", \"showgrid\": true, \"tickfont\": {\"color\": \"#4D5663\"}, \"title\": {\"font\": {\"color\": \"#4D5663\"}, \"text\": \"Count\"}, \"zerolinecolor\": \"#E1E5ED\"}},\n",
       "                        {\"showLink\": true, \"linkText\": \"Export to plot.ly\", \"plotlyServerURL\": \"https://plot.ly\", \"responsive\": true}\n",
       "                    ).then(function(){\n",
       "                            \n",
       "var gd = document.getElementById('f7f723c8-0d50-4aaf-8688-152c09dbd40d');\n",
       "var x = new MutationObserver(function (mutations, observer) {{\n",
       "        var display = window.getComputedStyle(gd).display;\n",
       "        if (!display || display === 'none') {{\n",
       "            console.log([gd, 'removed!']);\n",
       "            Plotly.purge(gd);\n",
       "            observer.disconnect();\n",
       "        }}\n",
       "}});\n",
       "\n",
       "// Listen for the removal of the full notebook cells\n",
       "var notebookContainer = gd.closest('#notebook-container');\n",
       "if (notebookContainer) {{\n",
       "    x.observe(notebookContainer, {childList: true});\n",
       "}}\n",
       "\n",
       "// Listen for the clearing of the current output cell\n",
       "var outputEl = gd.closest('.output');\n",
       "if (outputEl) {{\n",
       "    x.observe(outputEl, {childList: true});\n",
       "}}\n",
       "\n",
       "                        })\n",
       "                };\n",
       "                });\n",
       "            </script>\n",
       "        </div>"
      ]
     },
     "metadata": {},
     "output_type": "display_data"
    }
   ],
   "source": [
    "test_df.groupby('zip_code')['cnt','lr_pred','rf_pred','xgb_pred','lgbm_pred','zip_code'].sum().iplot(kind='scatter', title='Prediction by Zipcode', xTitle='Zipcode', yTitle='Count')"
   ]
  },
  {
   "cell_type": "markdown",
   "metadata": {},
   "source": [
    "<img src=\"https://github.com/jiyoungsim/BigQuery-NYC-Taxi-Demand--EDA-and-Prediction/blob/master/figs/pred_by_zip.png?raw=true\">"
   ]
  },
  {
   "cell_type": "code",
   "execution_count": 45,
   "metadata": {},
   "outputs": [
    {
     "data": {
      "application/vnd.plotly.v1+json": {
       "config": {
        "linkText": "Export to plot.ly",
        "plotlyServerURL": "https://plot.ly",
        "showLink": true
       },
       "data": [
        {
         "line": {
          "color": "rgba(255, 153, 51, 1.0)",
          "dash": "solid",
          "shape": "linear",
          "width": 1.3
         },
         "mode": "lines",
         "name": "cnt",
         "text": "",
         "type": "scatter",
         "x": [
          0,
          1,
          2,
          3,
          4,
          5,
          6,
          7,
          8,
          9,
          10,
          11,
          12,
          13,
          14,
          15,
          16,
          17,
          18,
          19,
          20,
          21,
          22,
          23
         ],
         "y": [
          118017,
          91196,
          67973,
          50021,
          34603,
          28638,
          59575,
          100996,
          124475,
          133348,
          132937,
          140685,
          148999,
          148907,
          148218,
          142954,
          130268,
          150824,
          180664,
          182949,
          165221,
          162466,
          160848,
          145501
         ]
        },
        {
         "line": {
          "color": "rgba(55, 128, 191, 1.0)",
          "dash": "solid",
          "shape": "linear",
          "width": 1.3
         },
         "mode": "lines",
         "name": "lr_pred",
         "text": "",
         "type": "scatter",
         "x": [
          0,
          1,
          2,
          3,
          4,
          5,
          6,
          7,
          8,
          9,
          10,
          11,
          12,
          13,
          14,
          15,
          16,
          17,
          18,
          19,
          20,
          21,
          22,
          23
         ],
         "y": [
          72416.55646405728,
          72786.18026391987,
          74049.25051597989,
          74444.23300604975,
          77415.4997154304,
          82766.71394548034,
          87819.36837430867,
          91536.00646217703,
          94982.9883231749,
          98327.31923091963,
          101492.6554079641,
          104854.69128258157,
          108341.98518389458,
          111956.67972829152,
          115728.18070043078,
          119584.61314052291,
          123535.67262997029,
          127669.1688751908,
          131941.43604384916,
          136319.23434667237,
          140826.40656608608,
          145471.55201291371,
          150048.01410368626,
          154253.79616506115
         ]
        },
        {
         "line": {
          "color": "rgba(50, 171, 96, 1.0)",
          "dash": "solid",
          "shape": "linear",
          "width": 1.3
         },
         "mode": "lines",
         "name": "rf_pred",
         "text": "",
         "type": "scatter",
         "x": [
          0,
          1,
          2,
          3,
          4,
          5,
          6,
          7,
          8,
          9,
          10,
          11,
          12,
          13,
          14,
          15,
          16,
          17,
          18,
          19,
          20,
          21,
          22,
          23
         ],
         "y": [
          134105.82600000006,
          101191.76600000002,
          78093.84599999998,
          57686.34999999996,
          39631.30600000004,
          31701.74,
          65449.059999999954,
          114114.52200000004,
          147666.7839999999,
          154071.3380000004,
          153943.342,
          162115.37799999997,
          171004.55200000008,
          170836.57199999987,
          177226.372,
          172589.12399999978,
          153536.93799999997,
          176005.15200000018,
          212167.76199999978,
          212999.766,
          195213.08800000005,
          191848.7200000001,
          188780.66599999974,
          166109.64599999986
         ]
        },
        {
         "line": {
          "color": "rgba(128, 0, 128, 1.0)",
          "dash": "solid",
          "shape": "linear",
          "width": 1.3
         },
         "mode": "lines",
         "name": "xgb_pred",
         "text": "",
         "type": "scatter",
         "x": [
          0,
          1,
          2,
          3,
          4,
          5,
          6,
          7,
          8,
          9,
          10,
          11,
          12,
          13,
          14,
          15,
          16,
          17,
          18,
          19,
          20,
          21,
          22,
          23
         ],
         "y": [
          137366.453125,
          101952.0234375,
          75911.2421875,
          53885.09375,
          37128.66796875,
          37156.91015625,
          71630.9609375,
          132220.421875,
          160316.21875,
          163852.390625,
          157449.140625,
          160707.921875,
          166988.453125,
          168136.859375,
          173888.328125,
          170654.34375,
          149830.625,
          176104.53125,
          219002.5,
          220765.015625,
          206262.09375,
          202143.140625,
          194983.640625,
          170398.8125
         ]
        },
        {
         "line": {
          "color": "rgba(219, 64, 82, 1.0)",
          "dash": "solid",
          "shape": "linear",
          "width": 1.3
         },
         "mode": "lines",
         "name": "lgbm_pred",
         "text": "",
         "type": "scatter",
         "x": [
          0,
          1,
          2,
          3,
          4,
          5,
          6,
          7,
          8,
          9,
          10,
          11,
          12,
          13,
          14,
          15,
          16,
          17,
          18,
          19,
          20,
          21,
          22,
          23
         ],
         "y": [
          132093.19071225022,
          100516.06315976748,
          74989.81629944571,
          53915.64648726035,
          38540.41073576561,
          31736.29084527316,
          70498.00758672498,
          123977.64943933116,
          150632.67186493642,
          157628.11731182213,
          154128.96433469752,
          159897.97816087594,
          168289.35507861627,
          169572.55541773813,
          173043.64976801348,
          172728.89659848556,
          157222.9230900706,
          177694.31457288028,
          215342.21668855232,
          217655.05415357905,
          203202.34242144032,
          198018.24696568528,
          190568.210716636,
          166474.53118686067
         ]
        }
       ],
       "layout": {
        "legend": {
         "bgcolor": "#F5F6F9",
         "font": {
          "color": "#4D5663"
         }
        },
        "paper_bgcolor": "#F5F6F9",
        "plot_bgcolor": "#F5F6F9",
        "template": {
         "data": {
          "bar": [
           {
            "error_x": {
             "color": "#2a3f5f"
            },
            "error_y": {
             "color": "#2a3f5f"
            },
            "marker": {
             "line": {
              "color": "#E5ECF6",
              "width": 0.5
             }
            },
            "type": "bar"
           }
          ],
          "barpolar": [
           {
            "marker": {
             "line": {
              "color": "#E5ECF6",
              "width": 0.5
             }
            },
            "type": "barpolar"
           }
          ],
          "carpet": [
           {
            "aaxis": {
             "endlinecolor": "#2a3f5f",
             "gridcolor": "white",
             "linecolor": "white",
             "minorgridcolor": "white",
             "startlinecolor": "#2a3f5f"
            },
            "baxis": {
             "endlinecolor": "#2a3f5f",
             "gridcolor": "white",
             "linecolor": "white",
             "minorgridcolor": "white",
             "startlinecolor": "#2a3f5f"
            },
            "type": "carpet"
           }
          ],
          "choropleth": [
           {
            "colorbar": {
             "outlinewidth": 0,
             "ticks": ""
            },
            "type": "choropleth"
           }
          ],
          "contour": [
           {
            "colorbar": {
             "outlinewidth": 0,
             "ticks": ""
            },
            "colorscale": [
             [
              0,
              "#0d0887"
             ],
             [
              0.1111111111111111,
              "#46039f"
             ],
             [
              0.2222222222222222,
              "#7201a8"
             ],
             [
              0.3333333333333333,
              "#9c179e"
             ],
             [
              0.4444444444444444,
              "#bd3786"
             ],
             [
              0.5555555555555556,
              "#d8576b"
             ],
             [
              0.6666666666666666,
              "#ed7953"
             ],
             [
              0.7777777777777778,
              "#fb9f3a"
             ],
             [
              0.8888888888888888,
              "#fdca26"
             ],
             [
              1,
              "#f0f921"
             ]
            ],
            "type": "contour"
           }
          ],
          "contourcarpet": [
           {
            "colorbar": {
             "outlinewidth": 0,
             "ticks": ""
            },
            "type": "contourcarpet"
           }
          ],
          "heatmap": [
           {
            "colorbar": {
             "outlinewidth": 0,
             "ticks": ""
            },
            "colorscale": [
             [
              0,
              "#0d0887"
             ],
             [
              0.1111111111111111,
              "#46039f"
             ],
             [
              0.2222222222222222,
              "#7201a8"
             ],
             [
              0.3333333333333333,
              "#9c179e"
             ],
             [
              0.4444444444444444,
              "#bd3786"
             ],
             [
              0.5555555555555556,
              "#d8576b"
             ],
             [
              0.6666666666666666,
              "#ed7953"
             ],
             [
              0.7777777777777778,
              "#fb9f3a"
             ],
             [
              0.8888888888888888,
              "#fdca26"
             ],
             [
              1,
              "#f0f921"
             ]
            ],
            "type": "heatmap"
           }
          ],
          "heatmapgl": [
           {
            "colorbar": {
             "outlinewidth": 0,
             "ticks": ""
            },
            "colorscale": [
             [
              0,
              "#0d0887"
             ],
             [
              0.1111111111111111,
              "#46039f"
             ],
             [
              0.2222222222222222,
              "#7201a8"
             ],
             [
              0.3333333333333333,
              "#9c179e"
             ],
             [
              0.4444444444444444,
              "#bd3786"
             ],
             [
              0.5555555555555556,
              "#d8576b"
             ],
             [
              0.6666666666666666,
              "#ed7953"
             ],
             [
              0.7777777777777778,
              "#fb9f3a"
             ],
             [
              0.8888888888888888,
              "#fdca26"
             ],
             [
              1,
              "#f0f921"
             ]
            ],
            "type": "heatmapgl"
           }
          ],
          "histogram": [
           {
            "marker": {
             "colorbar": {
              "outlinewidth": 0,
              "ticks": ""
             }
            },
            "type": "histogram"
           }
          ],
          "histogram2d": [
           {
            "colorbar": {
             "outlinewidth": 0,
             "ticks": ""
            },
            "colorscale": [
             [
              0,
              "#0d0887"
             ],
             [
              0.1111111111111111,
              "#46039f"
             ],
             [
              0.2222222222222222,
              "#7201a8"
             ],
             [
              0.3333333333333333,
              "#9c179e"
             ],
             [
              0.4444444444444444,
              "#bd3786"
             ],
             [
              0.5555555555555556,
              "#d8576b"
             ],
             [
              0.6666666666666666,
              "#ed7953"
             ],
             [
              0.7777777777777778,
              "#fb9f3a"
             ],
             [
              0.8888888888888888,
              "#fdca26"
             ],
             [
              1,
              "#f0f921"
             ]
            ],
            "type": "histogram2d"
           }
          ],
          "histogram2dcontour": [
           {
            "colorbar": {
             "outlinewidth": 0,
             "ticks": ""
            },
            "colorscale": [
             [
              0,
              "#0d0887"
             ],
             [
              0.1111111111111111,
              "#46039f"
             ],
             [
              0.2222222222222222,
              "#7201a8"
             ],
             [
              0.3333333333333333,
              "#9c179e"
             ],
             [
              0.4444444444444444,
              "#bd3786"
             ],
             [
              0.5555555555555556,
              "#d8576b"
             ],
             [
              0.6666666666666666,
              "#ed7953"
             ],
             [
              0.7777777777777778,
              "#fb9f3a"
             ],
             [
              0.8888888888888888,
              "#fdca26"
             ],
             [
              1,
              "#f0f921"
             ]
            ],
            "type": "histogram2dcontour"
           }
          ],
          "mesh3d": [
           {
            "colorbar": {
             "outlinewidth": 0,
             "ticks": ""
            },
            "type": "mesh3d"
           }
          ],
          "parcoords": [
           {
            "line": {
             "colorbar": {
              "outlinewidth": 0,
              "ticks": ""
             }
            },
            "type": "parcoords"
           }
          ],
          "pie": [
           {
            "automargin": true,
            "type": "pie"
           }
          ],
          "scatter": [
           {
            "marker": {
             "colorbar": {
              "outlinewidth": 0,
              "ticks": ""
             }
            },
            "type": "scatter"
           }
          ],
          "scatter3d": [
           {
            "line": {
             "colorbar": {
              "outlinewidth": 0,
              "ticks": ""
             }
            },
            "marker": {
             "colorbar": {
              "outlinewidth": 0,
              "ticks": ""
             }
            },
            "type": "scatter3d"
           }
          ],
          "scattercarpet": [
           {
            "marker": {
             "colorbar": {
              "outlinewidth": 0,
              "ticks": ""
             }
            },
            "type": "scattercarpet"
           }
          ],
          "scattergeo": [
           {
            "marker": {
             "colorbar": {
              "outlinewidth": 0,
              "ticks": ""
             }
            },
            "type": "scattergeo"
           }
          ],
          "scattergl": [
           {
            "marker": {
             "colorbar": {
              "outlinewidth": 0,
              "ticks": ""
             }
            },
            "type": "scattergl"
           }
          ],
          "scattermapbox": [
           {
            "marker": {
             "colorbar": {
              "outlinewidth": 0,
              "ticks": ""
             }
            },
            "type": "scattermapbox"
           }
          ],
          "scatterpolar": [
           {
            "marker": {
             "colorbar": {
              "outlinewidth": 0,
              "ticks": ""
             }
            },
            "type": "scatterpolar"
           }
          ],
          "scatterpolargl": [
           {
            "marker": {
             "colorbar": {
              "outlinewidth": 0,
              "ticks": ""
             }
            },
            "type": "scatterpolargl"
           }
          ],
          "scatterternary": [
           {
            "marker": {
             "colorbar": {
              "outlinewidth": 0,
              "ticks": ""
             }
            },
            "type": "scatterternary"
           }
          ],
          "surface": [
           {
            "colorbar": {
             "outlinewidth": 0,
             "ticks": ""
            },
            "colorscale": [
             [
              0,
              "#0d0887"
             ],
             [
              0.1111111111111111,
              "#46039f"
             ],
             [
              0.2222222222222222,
              "#7201a8"
             ],
             [
              0.3333333333333333,
              "#9c179e"
             ],
             [
              0.4444444444444444,
              "#bd3786"
             ],
             [
              0.5555555555555556,
              "#d8576b"
             ],
             [
              0.6666666666666666,
              "#ed7953"
             ],
             [
              0.7777777777777778,
              "#fb9f3a"
             ],
             [
              0.8888888888888888,
              "#fdca26"
             ],
             [
              1,
              "#f0f921"
             ]
            ],
            "type": "surface"
           }
          ],
          "table": [
           {
            "cells": {
             "fill": {
              "color": "#EBF0F8"
             },
             "line": {
              "color": "white"
             }
            },
            "header": {
             "fill": {
              "color": "#C8D4E3"
             },
             "line": {
              "color": "white"
             }
            },
            "type": "table"
           }
          ]
         },
         "layout": {
          "annotationdefaults": {
           "arrowcolor": "#2a3f5f",
           "arrowhead": 0,
           "arrowwidth": 1
          },
          "coloraxis": {
           "colorbar": {
            "outlinewidth": 0,
            "ticks": ""
           }
          },
          "colorscale": {
           "diverging": [
            [
             0,
             "#8e0152"
            ],
            [
             0.1,
             "#c51b7d"
            ],
            [
             0.2,
             "#de77ae"
            ],
            [
             0.3,
             "#f1b6da"
            ],
            [
             0.4,
             "#fde0ef"
            ],
            [
             0.5,
             "#f7f7f7"
            ],
            [
             0.6,
             "#e6f5d0"
            ],
            [
             0.7,
             "#b8e186"
            ],
            [
             0.8,
             "#7fbc41"
            ],
            [
             0.9,
             "#4d9221"
            ],
            [
             1,
             "#276419"
            ]
           ],
           "sequential": [
            [
             0,
             "#0d0887"
            ],
            [
             0.1111111111111111,
             "#46039f"
            ],
            [
             0.2222222222222222,
             "#7201a8"
            ],
            [
             0.3333333333333333,
             "#9c179e"
            ],
            [
             0.4444444444444444,
             "#bd3786"
            ],
            [
             0.5555555555555556,
             "#d8576b"
            ],
            [
             0.6666666666666666,
             "#ed7953"
            ],
            [
             0.7777777777777778,
             "#fb9f3a"
            ],
            [
             0.8888888888888888,
             "#fdca26"
            ],
            [
             1,
             "#f0f921"
            ]
           ],
           "sequentialminus": [
            [
             0,
             "#0d0887"
            ],
            [
             0.1111111111111111,
             "#46039f"
            ],
            [
             0.2222222222222222,
             "#7201a8"
            ],
            [
             0.3333333333333333,
             "#9c179e"
            ],
            [
             0.4444444444444444,
             "#bd3786"
            ],
            [
             0.5555555555555556,
             "#d8576b"
            ],
            [
             0.6666666666666666,
             "#ed7953"
            ],
            [
             0.7777777777777778,
             "#fb9f3a"
            ],
            [
             0.8888888888888888,
             "#fdca26"
            ],
            [
             1,
             "#f0f921"
            ]
           ]
          },
          "colorway": [
           "#636efa",
           "#EF553B",
           "#00cc96",
           "#ab63fa",
           "#FFA15A",
           "#19d3f3",
           "#FF6692",
           "#B6E880",
           "#FF97FF",
           "#FECB52"
          ],
          "font": {
           "color": "#2a3f5f"
          },
          "geo": {
           "bgcolor": "white",
           "lakecolor": "white",
           "landcolor": "#E5ECF6",
           "showlakes": true,
           "showland": true,
           "subunitcolor": "white"
          },
          "hoverlabel": {
           "align": "left"
          },
          "hovermode": "closest",
          "mapbox": {
           "style": "light"
          },
          "paper_bgcolor": "white",
          "plot_bgcolor": "#E5ECF6",
          "polar": {
           "angularaxis": {
            "gridcolor": "white",
            "linecolor": "white",
            "ticks": ""
           },
           "bgcolor": "#E5ECF6",
           "radialaxis": {
            "gridcolor": "white",
            "linecolor": "white",
            "ticks": ""
           }
          },
          "scene": {
           "xaxis": {
            "backgroundcolor": "#E5ECF6",
            "gridcolor": "white",
            "gridwidth": 2,
            "linecolor": "white",
            "showbackground": true,
            "ticks": "",
            "zerolinecolor": "white"
           },
           "yaxis": {
            "backgroundcolor": "#E5ECF6",
            "gridcolor": "white",
            "gridwidth": 2,
            "linecolor": "white",
            "showbackground": true,
            "ticks": "",
            "zerolinecolor": "white"
           },
           "zaxis": {
            "backgroundcolor": "#E5ECF6",
            "gridcolor": "white",
            "gridwidth": 2,
            "linecolor": "white",
            "showbackground": true,
            "ticks": "",
            "zerolinecolor": "white"
           }
          },
          "shapedefaults": {
           "line": {
            "color": "#2a3f5f"
           }
          },
          "ternary": {
           "aaxis": {
            "gridcolor": "white",
            "linecolor": "white",
            "ticks": ""
           },
           "baxis": {
            "gridcolor": "white",
            "linecolor": "white",
            "ticks": ""
           },
           "bgcolor": "#E5ECF6",
           "caxis": {
            "gridcolor": "white",
            "linecolor": "white",
            "ticks": ""
           }
          },
          "title": {
           "x": 0.05
          },
          "xaxis": {
           "automargin": true,
           "gridcolor": "white",
           "linecolor": "white",
           "ticks": "",
           "title": {
            "standoff": 15
           },
           "zerolinecolor": "white",
           "zerolinewidth": 2
          },
          "yaxis": {
           "automargin": true,
           "gridcolor": "white",
           "linecolor": "white",
           "ticks": "",
           "title": {
            "standoff": 15
           },
           "zerolinecolor": "white",
           "zerolinewidth": 2
          }
         }
        },
        "title": {
         "font": {
          "color": "#4D5663"
         },
         "text": "Prediction by Hour"
        },
        "xaxis": {
         "gridcolor": "#E1E5ED",
         "showgrid": true,
         "tickfont": {
          "color": "#4D5663"
         },
         "title": {
          "font": {
           "color": "#4D5663"
          },
          "text": "Hour"
         },
         "zerolinecolor": "#E1E5ED"
        },
        "yaxis": {
         "gridcolor": "#E1E5ED",
         "showgrid": true,
         "tickfont": {
          "color": "#4D5663"
         },
         "title": {
          "font": {
           "color": "#4D5663"
          },
          "text": "Count"
         },
         "zerolinecolor": "#E1E5ED"
        }
       }
      },
      "text/html": [
       "<div>\n",
       "        \n",
       "        \n",
       "            <div id=\"663dbf2c-0833-4539-aac6-609f078d1555\" class=\"plotly-graph-div\" style=\"height:525px; width:100%;\"></div>\n",
       "            <script type=\"text/javascript\">\n",
       "                require([\"plotly\"], function(Plotly) {\n",
       "                    window.PLOTLYENV=window.PLOTLYENV || {};\n",
       "                    window.PLOTLYENV.BASE_URL='https://plot.ly';\n",
       "                    \n",
       "                if (document.getElementById(\"663dbf2c-0833-4539-aac6-609f078d1555\")) {\n",
       "                    Plotly.newPlot(\n",
       "                        '663dbf2c-0833-4539-aac6-609f078d1555',\n",
       "                        [{\"line\": {\"color\": \"rgba(255, 153, 51, 1.0)\", \"dash\": \"solid\", \"shape\": \"linear\", \"width\": 1.3}, \"mode\": \"lines\", \"name\": \"cnt\", \"text\": \"\", \"type\": \"scatter\", \"x\": [0, 1, 2, 3, 4, 5, 6, 7, 8, 9, 10, 11, 12, 13, 14, 15, 16, 17, 18, 19, 20, 21, 22, 23], \"y\": [118017, 91196, 67973, 50021, 34603, 28638, 59575, 100996, 124475, 133348, 132937, 140685, 148999, 148907, 148218, 142954, 130268, 150824, 180664, 182949, 165221, 162466, 160848, 145501]}, {\"line\": {\"color\": \"rgba(55, 128, 191, 1.0)\", \"dash\": \"solid\", \"shape\": \"linear\", \"width\": 1.3}, \"mode\": \"lines\", \"name\": \"lr_pred\", \"text\": \"\", \"type\": \"scatter\", \"x\": [0, 1, 2, 3, 4, 5, 6, 7, 8, 9, 10, 11, 12, 13, 14, 15, 16, 17, 18, 19, 20, 21, 22, 23], \"y\": [72416.55646405728, 72786.18026391987, 74049.25051597989, 74444.23300604975, 77415.4997154304, 82766.71394548034, 87819.36837430867, 91536.00646217703, 94982.9883231749, 98327.31923091963, 101492.6554079641, 104854.69128258157, 108341.98518389458, 111956.67972829152, 115728.18070043078, 119584.61314052291, 123535.67262997029, 127669.1688751908, 131941.43604384916, 136319.23434667237, 140826.40656608608, 145471.55201291371, 150048.01410368626, 154253.79616506115]}, {\"line\": {\"color\": \"rgba(50, 171, 96, 1.0)\", \"dash\": \"solid\", \"shape\": \"linear\", \"width\": 1.3}, \"mode\": \"lines\", \"name\": \"rf_pred\", \"text\": \"\", \"type\": \"scatter\", \"x\": [0, 1, 2, 3, 4, 5, 6, 7, 8, 9, 10, 11, 12, 13, 14, 15, 16, 17, 18, 19, 20, 21, 22, 23], \"y\": [134105.82600000006, 101191.76600000002, 78093.84599999998, 57686.34999999996, 39631.30600000004, 31701.74, 65449.059999999954, 114114.52200000004, 147666.7839999999, 154071.3380000004, 153943.342, 162115.37799999997, 171004.55200000008, 170836.57199999987, 177226.372, 172589.12399999978, 153536.93799999997, 176005.15200000018, 212167.76199999978, 212999.766, 195213.08800000005, 191848.7200000001, 188780.66599999974, 166109.64599999986]}, {\"line\": {\"color\": \"rgba(128, 0, 128, 1.0)\", \"dash\": \"solid\", \"shape\": \"linear\", \"width\": 1.3}, \"mode\": \"lines\", \"name\": \"xgb_pred\", \"text\": \"\", \"type\": \"scatter\", \"x\": [0, 1, 2, 3, 4, 5, 6, 7, 8, 9, 10, 11, 12, 13, 14, 15, 16, 17, 18, 19, 20, 21, 22, 23], \"y\": [137366.453125, 101952.0234375, 75911.2421875, 53885.09375, 37128.66796875, 37156.91015625, 71630.9609375, 132220.421875, 160316.21875, 163852.390625, 157449.140625, 160707.921875, 166988.453125, 168136.859375, 173888.328125, 170654.34375, 149830.625, 176104.53125, 219002.5, 220765.015625, 206262.09375, 202143.140625, 194983.640625, 170398.8125]}, {\"line\": {\"color\": \"rgba(219, 64, 82, 1.0)\", \"dash\": \"solid\", \"shape\": \"linear\", \"width\": 1.3}, \"mode\": \"lines\", \"name\": \"lgbm_pred\", \"text\": \"\", \"type\": \"scatter\", \"x\": [0, 1, 2, 3, 4, 5, 6, 7, 8, 9, 10, 11, 12, 13, 14, 15, 16, 17, 18, 19, 20, 21, 22, 23], \"y\": [132093.19071225022, 100516.06315976748, 74989.81629944571, 53915.64648726035, 38540.41073576561, 31736.29084527316, 70498.00758672498, 123977.64943933116, 150632.67186493642, 157628.11731182213, 154128.96433469752, 159897.97816087594, 168289.35507861627, 169572.55541773813, 173043.64976801348, 172728.89659848556, 157222.9230900706, 177694.31457288028, 215342.21668855232, 217655.05415357905, 203202.34242144032, 198018.24696568528, 190568.210716636, 166474.53118686067]}],\n",
       "                        {\"legend\": {\"bgcolor\": \"#F5F6F9\", \"font\": {\"color\": \"#4D5663\"}}, \"paper_bgcolor\": \"#F5F6F9\", \"plot_bgcolor\": \"#F5F6F9\", \"template\": {\"data\": {\"bar\": [{\"error_x\": {\"color\": \"#2a3f5f\"}, \"error_y\": {\"color\": \"#2a3f5f\"}, \"marker\": {\"line\": {\"color\": \"#E5ECF6\", \"width\": 0.5}}, \"type\": \"bar\"}], \"barpolar\": [{\"marker\": {\"line\": {\"color\": \"#E5ECF6\", \"width\": 0.5}}, \"type\": \"barpolar\"}], \"carpet\": [{\"aaxis\": {\"endlinecolor\": \"#2a3f5f\", \"gridcolor\": \"white\", \"linecolor\": \"white\", \"minorgridcolor\": \"white\", \"startlinecolor\": \"#2a3f5f\"}, \"baxis\": {\"endlinecolor\": \"#2a3f5f\", \"gridcolor\": \"white\", \"linecolor\": \"white\", \"minorgridcolor\": \"white\", \"startlinecolor\": \"#2a3f5f\"}, \"type\": \"carpet\"}], \"choropleth\": [{\"colorbar\": {\"outlinewidth\": 0, \"ticks\": \"\"}, \"type\": \"choropleth\"}], \"contour\": [{\"colorbar\": {\"outlinewidth\": 0, \"ticks\": \"\"}, \"colorscale\": [[0.0, \"#0d0887\"], [0.1111111111111111, \"#46039f\"], [0.2222222222222222, \"#7201a8\"], [0.3333333333333333, \"#9c179e\"], [0.4444444444444444, \"#bd3786\"], [0.5555555555555556, \"#d8576b\"], [0.6666666666666666, \"#ed7953\"], [0.7777777777777778, \"#fb9f3a\"], [0.8888888888888888, \"#fdca26\"], [1.0, \"#f0f921\"]], \"type\": \"contour\"}], \"contourcarpet\": [{\"colorbar\": {\"outlinewidth\": 0, \"ticks\": \"\"}, \"type\": \"contourcarpet\"}], \"heatmap\": [{\"colorbar\": {\"outlinewidth\": 0, \"ticks\": \"\"}, \"colorscale\": [[0.0, \"#0d0887\"], [0.1111111111111111, \"#46039f\"], [0.2222222222222222, \"#7201a8\"], [0.3333333333333333, \"#9c179e\"], [0.4444444444444444, \"#bd3786\"], [0.5555555555555556, \"#d8576b\"], [0.6666666666666666, \"#ed7953\"], [0.7777777777777778, \"#fb9f3a\"], [0.8888888888888888, \"#fdca26\"], [1.0, \"#f0f921\"]], \"type\": \"heatmap\"}], \"heatmapgl\": [{\"colorbar\": {\"outlinewidth\": 0, \"ticks\": \"\"}, \"colorscale\": [[0.0, \"#0d0887\"], [0.1111111111111111, \"#46039f\"], [0.2222222222222222, \"#7201a8\"], [0.3333333333333333, \"#9c179e\"], [0.4444444444444444, \"#bd3786\"], [0.5555555555555556, \"#d8576b\"], [0.6666666666666666, \"#ed7953\"], [0.7777777777777778, \"#fb9f3a\"], [0.8888888888888888, \"#fdca26\"], [1.0, \"#f0f921\"]], \"type\": \"heatmapgl\"}], \"histogram\": [{\"marker\": {\"colorbar\": {\"outlinewidth\": 0, \"ticks\": \"\"}}, \"type\": \"histogram\"}], \"histogram2d\": [{\"colorbar\": {\"outlinewidth\": 0, \"ticks\": \"\"}, \"colorscale\": [[0.0, \"#0d0887\"], [0.1111111111111111, \"#46039f\"], [0.2222222222222222, \"#7201a8\"], [0.3333333333333333, \"#9c179e\"], [0.4444444444444444, \"#bd3786\"], [0.5555555555555556, \"#d8576b\"], [0.6666666666666666, \"#ed7953\"], [0.7777777777777778, \"#fb9f3a\"], [0.8888888888888888, \"#fdca26\"], [1.0, \"#f0f921\"]], \"type\": \"histogram2d\"}], \"histogram2dcontour\": [{\"colorbar\": {\"outlinewidth\": 0, \"ticks\": \"\"}, \"colorscale\": [[0.0, \"#0d0887\"], [0.1111111111111111, \"#46039f\"], [0.2222222222222222, \"#7201a8\"], [0.3333333333333333, \"#9c179e\"], [0.4444444444444444, \"#bd3786\"], [0.5555555555555556, \"#d8576b\"], [0.6666666666666666, \"#ed7953\"], [0.7777777777777778, \"#fb9f3a\"], [0.8888888888888888, \"#fdca26\"], [1.0, \"#f0f921\"]], \"type\": \"histogram2dcontour\"}], \"mesh3d\": [{\"colorbar\": {\"outlinewidth\": 0, \"ticks\": \"\"}, \"type\": \"mesh3d\"}], \"parcoords\": [{\"line\": {\"colorbar\": {\"outlinewidth\": 0, \"ticks\": \"\"}}, \"type\": \"parcoords\"}], \"pie\": [{\"automargin\": true, \"type\": \"pie\"}], \"scatter\": [{\"marker\": {\"colorbar\": {\"outlinewidth\": 0, \"ticks\": \"\"}}, \"type\": \"scatter\"}], \"scatter3d\": [{\"line\": {\"colorbar\": {\"outlinewidth\": 0, \"ticks\": \"\"}}, \"marker\": {\"colorbar\": {\"outlinewidth\": 0, \"ticks\": \"\"}}, \"type\": \"scatter3d\"}], \"scattercarpet\": [{\"marker\": {\"colorbar\": {\"outlinewidth\": 0, \"ticks\": \"\"}}, \"type\": \"scattercarpet\"}], \"scattergeo\": [{\"marker\": {\"colorbar\": {\"outlinewidth\": 0, \"ticks\": \"\"}}, \"type\": \"scattergeo\"}], \"scattergl\": [{\"marker\": {\"colorbar\": {\"outlinewidth\": 0, \"ticks\": \"\"}}, \"type\": \"scattergl\"}], \"scattermapbox\": [{\"marker\": {\"colorbar\": {\"outlinewidth\": 0, \"ticks\": \"\"}}, \"type\": \"scattermapbox\"}], \"scatterpolar\": [{\"marker\": {\"colorbar\": {\"outlinewidth\": 0, \"ticks\": \"\"}}, \"type\": \"scatterpolar\"}], \"scatterpolargl\": [{\"marker\": {\"colorbar\": {\"outlinewidth\": 0, \"ticks\": \"\"}}, \"type\": \"scatterpolargl\"}], \"scatterternary\": [{\"marker\": {\"colorbar\": {\"outlinewidth\": 0, \"ticks\": \"\"}}, \"type\": \"scatterternary\"}], \"surface\": [{\"colorbar\": {\"outlinewidth\": 0, \"ticks\": \"\"}, \"colorscale\": [[0.0, \"#0d0887\"], [0.1111111111111111, \"#46039f\"], [0.2222222222222222, \"#7201a8\"], [0.3333333333333333, \"#9c179e\"], [0.4444444444444444, \"#bd3786\"], [0.5555555555555556, \"#d8576b\"], [0.6666666666666666, \"#ed7953\"], [0.7777777777777778, \"#fb9f3a\"], [0.8888888888888888, \"#fdca26\"], [1.0, \"#f0f921\"]], \"type\": \"surface\"}], \"table\": [{\"cells\": {\"fill\": {\"color\": \"#EBF0F8\"}, \"line\": {\"color\": \"white\"}}, \"header\": {\"fill\": {\"color\": \"#C8D4E3\"}, \"line\": {\"color\": \"white\"}}, \"type\": \"table\"}]}, \"layout\": {\"annotationdefaults\": {\"arrowcolor\": \"#2a3f5f\", \"arrowhead\": 0, \"arrowwidth\": 1}, \"coloraxis\": {\"colorbar\": {\"outlinewidth\": 0, \"ticks\": \"\"}}, \"colorscale\": {\"diverging\": [[0, \"#8e0152\"], [0.1, \"#c51b7d\"], [0.2, \"#de77ae\"], [0.3, \"#f1b6da\"], [0.4, \"#fde0ef\"], [0.5, \"#f7f7f7\"], [0.6, \"#e6f5d0\"], [0.7, \"#b8e186\"], [0.8, \"#7fbc41\"], [0.9, \"#4d9221\"], [1, \"#276419\"]], \"sequential\": [[0.0, \"#0d0887\"], [0.1111111111111111, \"#46039f\"], [0.2222222222222222, \"#7201a8\"], [0.3333333333333333, \"#9c179e\"], [0.4444444444444444, \"#bd3786\"], [0.5555555555555556, \"#d8576b\"], [0.6666666666666666, \"#ed7953\"], [0.7777777777777778, \"#fb9f3a\"], [0.8888888888888888, \"#fdca26\"], [1.0, \"#f0f921\"]], \"sequentialminus\": [[0.0, \"#0d0887\"], [0.1111111111111111, \"#46039f\"], [0.2222222222222222, \"#7201a8\"], [0.3333333333333333, \"#9c179e\"], [0.4444444444444444, \"#bd3786\"], [0.5555555555555556, \"#d8576b\"], [0.6666666666666666, \"#ed7953\"], [0.7777777777777778, \"#fb9f3a\"], [0.8888888888888888, \"#fdca26\"], [1.0, \"#f0f921\"]]}, \"colorway\": [\"#636efa\", \"#EF553B\", \"#00cc96\", \"#ab63fa\", \"#FFA15A\", \"#19d3f3\", \"#FF6692\", \"#B6E880\", \"#FF97FF\", \"#FECB52\"], \"font\": {\"color\": \"#2a3f5f\"}, \"geo\": {\"bgcolor\": \"white\", \"lakecolor\": \"white\", \"landcolor\": \"#E5ECF6\", \"showlakes\": true, \"showland\": true, \"subunitcolor\": \"white\"}, \"hoverlabel\": {\"align\": \"left\"}, \"hovermode\": \"closest\", \"mapbox\": {\"style\": \"light\"}, \"paper_bgcolor\": \"white\", \"plot_bgcolor\": \"#E5ECF6\", \"polar\": {\"angularaxis\": {\"gridcolor\": \"white\", \"linecolor\": \"white\", \"ticks\": \"\"}, \"bgcolor\": \"#E5ECF6\", \"radialaxis\": {\"gridcolor\": \"white\", \"linecolor\": \"white\", \"ticks\": \"\"}}, \"scene\": {\"xaxis\": {\"backgroundcolor\": \"#E5ECF6\", \"gridcolor\": \"white\", \"gridwidth\": 2, \"linecolor\": \"white\", \"showbackground\": true, \"ticks\": \"\", \"zerolinecolor\": \"white\"}, \"yaxis\": {\"backgroundcolor\": \"#E5ECF6\", \"gridcolor\": \"white\", \"gridwidth\": 2, \"linecolor\": \"white\", \"showbackground\": true, \"ticks\": \"\", \"zerolinecolor\": \"white\"}, \"zaxis\": {\"backgroundcolor\": \"#E5ECF6\", \"gridcolor\": \"white\", \"gridwidth\": 2, \"linecolor\": \"white\", \"showbackground\": true, \"ticks\": \"\", \"zerolinecolor\": \"white\"}}, \"shapedefaults\": {\"line\": {\"color\": \"#2a3f5f\"}}, \"ternary\": {\"aaxis\": {\"gridcolor\": \"white\", \"linecolor\": \"white\", \"ticks\": \"\"}, \"baxis\": {\"gridcolor\": \"white\", \"linecolor\": \"white\", \"ticks\": \"\"}, \"bgcolor\": \"#E5ECF6\", \"caxis\": {\"gridcolor\": \"white\", \"linecolor\": \"white\", \"ticks\": \"\"}}, \"title\": {\"x\": 0.05}, \"xaxis\": {\"automargin\": true, \"gridcolor\": \"white\", \"linecolor\": \"white\", \"ticks\": \"\", \"title\": {\"standoff\": 15}, \"zerolinecolor\": \"white\", \"zerolinewidth\": 2}, \"yaxis\": {\"automargin\": true, \"gridcolor\": \"white\", \"linecolor\": \"white\", \"ticks\": \"\", \"title\": {\"standoff\": 15}, \"zerolinecolor\": \"white\", \"zerolinewidth\": 2}}}, \"title\": {\"font\": {\"color\": \"#4D5663\"}, \"text\": \"Prediction by Hour\"}, \"xaxis\": {\"gridcolor\": \"#E1E5ED\", \"showgrid\": true, \"tickfont\": {\"color\": \"#4D5663\"}, \"title\": {\"font\": {\"color\": \"#4D5663\"}, \"text\": \"Hour\"}, \"zerolinecolor\": \"#E1E5ED\"}, \"yaxis\": {\"gridcolor\": \"#E1E5ED\", \"showgrid\": true, \"tickfont\": {\"color\": \"#4D5663\"}, \"title\": {\"font\": {\"color\": \"#4D5663\"}, \"text\": \"Count\"}, \"zerolinecolor\": \"#E1E5ED\"}},\n",
       "                        {\"showLink\": true, \"linkText\": \"Export to plot.ly\", \"plotlyServerURL\": \"https://plot.ly\", \"responsive\": true}\n",
       "                    ).then(function(){\n",
       "                            \n",
       "var gd = document.getElementById('663dbf2c-0833-4539-aac6-609f078d1555');\n",
       "var x = new MutationObserver(function (mutations, observer) {{\n",
       "        var display = window.getComputedStyle(gd).display;\n",
       "        if (!display || display === 'none') {{\n",
       "            console.log([gd, 'removed!']);\n",
       "            Plotly.purge(gd);\n",
       "            observer.disconnect();\n",
       "        }}\n",
       "}});\n",
       "\n",
       "// Listen for the removal of the full notebook cells\n",
       "var notebookContainer = gd.closest('#notebook-container');\n",
       "if (notebookContainer) {{\n",
       "    x.observe(notebookContainer, {childList: true});\n",
       "}}\n",
       "\n",
       "// Listen for the clearing of the current output cell\n",
       "var outputEl = gd.closest('.output');\n",
       "if (outputEl) {{\n",
       "    x.observe(outputEl, {childList: true});\n",
       "}}\n",
       "\n",
       "                        })\n",
       "                };\n",
       "                });\n",
       "            </script>\n",
       "        </div>"
      ]
     },
     "metadata": {},
     "output_type": "display_data"
    }
   ],
   "source": [
    "test_df.groupby('hour')['cnt','lr_pred','rf_pred','xgb_pred','lgbm_pred','zip_code'].sum().iplot(kind='scatter', title='Prediction by Hour', xTitle='Hour', yTitle='Count')"
   ]
  },
  {
   "cell_type": "markdown",
   "metadata": {},
   "source": [
    "<img src=\"https://github.com/jiyoungsim/BigQuery-NYC-Taxi-Demand--EDA-and-Prediction/blob/master/figs/pred_by_hour.png?raw=true\">"
   ]
  },
  {
   "cell_type": "code",
   "execution_count": 46,
   "metadata": {},
   "outputs": [
    {
     "data": {
      "application/vnd.plotly.v1+json": {
       "config": {
        "linkText": "Export to plot.ly",
        "plotlyServerURL": "https://plot.ly",
        "showLink": true
       },
       "data": [
        {
         "line": {
          "color": "rgba(255, 153, 51, 1.0)",
          "dash": "solid",
          "shape": "linear",
          "width": 1.3
         },
         "mode": "lines",
         "name": "cnt",
         "text": "",
         "type": "scatter",
         "x": [
          "Mon",
          "Tue",
          "Wed",
          "Thu",
          "Fri",
          "Sat",
          "Sun"
         ],
         "y": [
          222332,
          130322,
          367404,
          417795,
          467775,
          949717,
          394938
         ]
        },
        {
         "line": {
          "color": "rgba(55, 128, 191, 1.0)",
          "dash": "solid",
          "shape": "linear",
          "width": 1.3
         },
         "mode": "lines",
         "name": "lr_pred",
         "text": "",
         "type": "scatter",
         "x": [
          "Mon",
          "Tue",
          "Wed",
          "Thu",
          "Fri",
          "Sat",
          "Sun"
         ],
         "y": [
          292448.707865873,
          281889.4576861314,
          318247.69606200117,
          331457.16300080344,
          345530.99465021474,
          678293.4755968465,
          350700.7076267406
         ]
        },
        {
         "line": {
          "color": "rgba(50, 171, 96, 1.0)",
          "dash": "solid",
          "shape": "linear",
          "width": 1.3
         },
         "mode": "lines",
         "name": "rf_pred",
         "text": "",
         "type": "scatter",
         "x": [
          "Mon",
          "Tue",
          "Wed",
          "Thu",
          "Fri",
          "Sat",
          "Sun"
         ],
         "y": [
          344831.5759999997,
          394557.78600000136,
          423926.144000001,
          439877.64800000004,
          456140.1619999997,
          951499.03,
          417257.2699999994
         ]
        },
        {
         "line": {
          "color": "rgba(128, 0, 128, 1.0)",
          "dash": "solid",
          "shape": "linear",
          "width": 1.3
         },
         "mode": "lines",
         "name": "xgb_pred",
         "text": "",
         "type": "scatter",
         "x": [
          "Mon",
          "Tue",
          "Wed",
          "Thu",
          "Fri",
          "Sat",
          "Sun"
         ],
         "y": [
          352394.78125,
          403804.125,
          433971.1875,
          442823.75,
          457101.9375,
          992986.625,
          425653.40625
         ]
        },
        {
         "line": {
          "color": "rgba(219, 64, 82, 1.0)",
          "dash": "solid",
          "shape": "linear",
          "width": 1.3
         },
         "mode": "lines",
         "name": "lgbm_pred",
         "text": "",
         "type": "scatter",
         "x": [
          "Mon",
          "Tue",
          "Wed",
          "Thu",
          "Fri",
          "Sat",
          "Sun"
         ],
         "y": [
          349554.7801260666,
          401485.03871926497,
          426022.2759286792,
          436029.4613078915,
          455411.75659827335,
          978425.3966214334,
          411438.39429509593
         ]
        }
       ],
       "layout": {
        "legend": {
         "bgcolor": "#F5F6F9",
         "font": {
          "color": "#4D5663"
         }
        },
        "paper_bgcolor": "#F5F6F9",
        "plot_bgcolor": "#F5F6F9",
        "template": {
         "data": {
          "bar": [
           {
            "error_x": {
             "color": "#2a3f5f"
            },
            "error_y": {
             "color": "#2a3f5f"
            },
            "marker": {
             "line": {
              "color": "#E5ECF6",
              "width": 0.5
             }
            },
            "type": "bar"
           }
          ],
          "barpolar": [
           {
            "marker": {
             "line": {
              "color": "#E5ECF6",
              "width": 0.5
             }
            },
            "type": "barpolar"
           }
          ],
          "carpet": [
           {
            "aaxis": {
             "endlinecolor": "#2a3f5f",
             "gridcolor": "white",
             "linecolor": "white",
             "minorgridcolor": "white",
             "startlinecolor": "#2a3f5f"
            },
            "baxis": {
             "endlinecolor": "#2a3f5f",
             "gridcolor": "white",
             "linecolor": "white",
             "minorgridcolor": "white",
             "startlinecolor": "#2a3f5f"
            },
            "type": "carpet"
           }
          ],
          "choropleth": [
           {
            "colorbar": {
             "outlinewidth": 0,
             "ticks": ""
            },
            "type": "choropleth"
           }
          ],
          "contour": [
           {
            "colorbar": {
             "outlinewidth": 0,
             "ticks": ""
            },
            "colorscale": [
             [
              0,
              "#0d0887"
             ],
             [
              0.1111111111111111,
              "#46039f"
             ],
             [
              0.2222222222222222,
              "#7201a8"
             ],
             [
              0.3333333333333333,
              "#9c179e"
             ],
             [
              0.4444444444444444,
              "#bd3786"
             ],
             [
              0.5555555555555556,
              "#d8576b"
             ],
             [
              0.6666666666666666,
              "#ed7953"
             ],
             [
              0.7777777777777778,
              "#fb9f3a"
             ],
             [
              0.8888888888888888,
              "#fdca26"
             ],
             [
              1,
              "#f0f921"
             ]
            ],
            "type": "contour"
           }
          ],
          "contourcarpet": [
           {
            "colorbar": {
             "outlinewidth": 0,
             "ticks": ""
            },
            "type": "contourcarpet"
           }
          ],
          "heatmap": [
           {
            "colorbar": {
             "outlinewidth": 0,
             "ticks": ""
            },
            "colorscale": [
             [
              0,
              "#0d0887"
             ],
             [
              0.1111111111111111,
              "#46039f"
             ],
             [
              0.2222222222222222,
              "#7201a8"
             ],
             [
              0.3333333333333333,
              "#9c179e"
             ],
             [
              0.4444444444444444,
              "#bd3786"
             ],
             [
              0.5555555555555556,
              "#d8576b"
             ],
             [
              0.6666666666666666,
              "#ed7953"
             ],
             [
              0.7777777777777778,
              "#fb9f3a"
             ],
             [
              0.8888888888888888,
              "#fdca26"
             ],
             [
              1,
              "#f0f921"
             ]
            ],
            "type": "heatmap"
           }
          ],
          "heatmapgl": [
           {
            "colorbar": {
             "outlinewidth": 0,
             "ticks": ""
            },
            "colorscale": [
             [
              0,
              "#0d0887"
             ],
             [
              0.1111111111111111,
              "#46039f"
             ],
             [
              0.2222222222222222,
              "#7201a8"
             ],
             [
              0.3333333333333333,
              "#9c179e"
             ],
             [
              0.4444444444444444,
              "#bd3786"
             ],
             [
              0.5555555555555556,
              "#d8576b"
             ],
             [
              0.6666666666666666,
              "#ed7953"
             ],
             [
              0.7777777777777778,
              "#fb9f3a"
             ],
             [
              0.8888888888888888,
              "#fdca26"
             ],
             [
              1,
              "#f0f921"
             ]
            ],
            "type": "heatmapgl"
           }
          ],
          "histogram": [
           {
            "marker": {
             "colorbar": {
              "outlinewidth": 0,
              "ticks": ""
             }
            },
            "type": "histogram"
           }
          ],
          "histogram2d": [
           {
            "colorbar": {
             "outlinewidth": 0,
             "ticks": ""
            },
            "colorscale": [
             [
              0,
              "#0d0887"
             ],
             [
              0.1111111111111111,
              "#46039f"
             ],
             [
              0.2222222222222222,
              "#7201a8"
             ],
             [
              0.3333333333333333,
              "#9c179e"
             ],
             [
              0.4444444444444444,
              "#bd3786"
             ],
             [
              0.5555555555555556,
              "#d8576b"
             ],
             [
              0.6666666666666666,
              "#ed7953"
             ],
             [
              0.7777777777777778,
              "#fb9f3a"
             ],
             [
              0.8888888888888888,
              "#fdca26"
             ],
             [
              1,
              "#f0f921"
             ]
            ],
            "type": "histogram2d"
           }
          ],
          "histogram2dcontour": [
           {
            "colorbar": {
             "outlinewidth": 0,
             "ticks": ""
            },
            "colorscale": [
             [
              0,
              "#0d0887"
             ],
             [
              0.1111111111111111,
              "#46039f"
             ],
             [
              0.2222222222222222,
              "#7201a8"
             ],
             [
              0.3333333333333333,
              "#9c179e"
             ],
             [
              0.4444444444444444,
              "#bd3786"
             ],
             [
              0.5555555555555556,
              "#d8576b"
             ],
             [
              0.6666666666666666,
              "#ed7953"
             ],
             [
              0.7777777777777778,
              "#fb9f3a"
             ],
             [
              0.8888888888888888,
              "#fdca26"
             ],
             [
              1,
              "#f0f921"
             ]
            ],
            "type": "histogram2dcontour"
           }
          ],
          "mesh3d": [
           {
            "colorbar": {
             "outlinewidth": 0,
             "ticks": ""
            },
            "type": "mesh3d"
           }
          ],
          "parcoords": [
           {
            "line": {
             "colorbar": {
              "outlinewidth": 0,
              "ticks": ""
             }
            },
            "type": "parcoords"
           }
          ],
          "pie": [
           {
            "automargin": true,
            "type": "pie"
           }
          ],
          "scatter": [
           {
            "marker": {
             "colorbar": {
              "outlinewidth": 0,
              "ticks": ""
             }
            },
            "type": "scatter"
           }
          ],
          "scatter3d": [
           {
            "line": {
             "colorbar": {
              "outlinewidth": 0,
              "ticks": ""
             }
            },
            "marker": {
             "colorbar": {
              "outlinewidth": 0,
              "ticks": ""
             }
            },
            "type": "scatter3d"
           }
          ],
          "scattercarpet": [
           {
            "marker": {
             "colorbar": {
              "outlinewidth": 0,
              "ticks": ""
             }
            },
            "type": "scattercarpet"
           }
          ],
          "scattergeo": [
           {
            "marker": {
             "colorbar": {
              "outlinewidth": 0,
              "ticks": ""
             }
            },
            "type": "scattergeo"
           }
          ],
          "scattergl": [
           {
            "marker": {
             "colorbar": {
              "outlinewidth": 0,
              "ticks": ""
             }
            },
            "type": "scattergl"
           }
          ],
          "scattermapbox": [
           {
            "marker": {
             "colorbar": {
              "outlinewidth": 0,
              "ticks": ""
             }
            },
            "type": "scattermapbox"
           }
          ],
          "scatterpolar": [
           {
            "marker": {
             "colorbar": {
              "outlinewidth": 0,
              "ticks": ""
             }
            },
            "type": "scatterpolar"
           }
          ],
          "scatterpolargl": [
           {
            "marker": {
             "colorbar": {
              "outlinewidth": 0,
              "ticks": ""
             }
            },
            "type": "scatterpolargl"
           }
          ],
          "scatterternary": [
           {
            "marker": {
             "colorbar": {
              "outlinewidth": 0,
              "ticks": ""
             }
            },
            "type": "scatterternary"
           }
          ],
          "surface": [
           {
            "colorbar": {
             "outlinewidth": 0,
             "ticks": ""
            },
            "colorscale": [
             [
              0,
              "#0d0887"
             ],
             [
              0.1111111111111111,
              "#46039f"
             ],
             [
              0.2222222222222222,
              "#7201a8"
             ],
             [
              0.3333333333333333,
              "#9c179e"
             ],
             [
              0.4444444444444444,
              "#bd3786"
             ],
             [
              0.5555555555555556,
              "#d8576b"
             ],
             [
              0.6666666666666666,
              "#ed7953"
             ],
             [
              0.7777777777777778,
              "#fb9f3a"
             ],
             [
              0.8888888888888888,
              "#fdca26"
             ],
             [
              1,
              "#f0f921"
             ]
            ],
            "type": "surface"
           }
          ],
          "table": [
           {
            "cells": {
             "fill": {
              "color": "#EBF0F8"
             },
             "line": {
              "color": "white"
             }
            },
            "header": {
             "fill": {
              "color": "#C8D4E3"
             },
             "line": {
              "color": "white"
             }
            },
            "type": "table"
           }
          ]
         },
         "layout": {
          "annotationdefaults": {
           "arrowcolor": "#2a3f5f",
           "arrowhead": 0,
           "arrowwidth": 1
          },
          "coloraxis": {
           "colorbar": {
            "outlinewidth": 0,
            "ticks": ""
           }
          },
          "colorscale": {
           "diverging": [
            [
             0,
             "#8e0152"
            ],
            [
             0.1,
             "#c51b7d"
            ],
            [
             0.2,
             "#de77ae"
            ],
            [
             0.3,
             "#f1b6da"
            ],
            [
             0.4,
             "#fde0ef"
            ],
            [
             0.5,
             "#f7f7f7"
            ],
            [
             0.6,
             "#e6f5d0"
            ],
            [
             0.7,
             "#b8e186"
            ],
            [
             0.8,
             "#7fbc41"
            ],
            [
             0.9,
             "#4d9221"
            ],
            [
             1,
             "#276419"
            ]
           ],
           "sequential": [
            [
             0,
             "#0d0887"
            ],
            [
             0.1111111111111111,
             "#46039f"
            ],
            [
             0.2222222222222222,
             "#7201a8"
            ],
            [
             0.3333333333333333,
             "#9c179e"
            ],
            [
             0.4444444444444444,
             "#bd3786"
            ],
            [
             0.5555555555555556,
             "#d8576b"
            ],
            [
             0.6666666666666666,
             "#ed7953"
            ],
            [
             0.7777777777777778,
             "#fb9f3a"
            ],
            [
             0.8888888888888888,
             "#fdca26"
            ],
            [
             1,
             "#f0f921"
            ]
           ],
           "sequentialminus": [
            [
             0,
             "#0d0887"
            ],
            [
             0.1111111111111111,
             "#46039f"
            ],
            [
             0.2222222222222222,
             "#7201a8"
            ],
            [
             0.3333333333333333,
             "#9c179e"
            ],
            [
             0.4444444444444444,
             "#bd3786"
            ],
            [
             0.5555555555555556,
             "#d8576b"
            ],
            [
             0.6666666666666666,
             "#ed7953"
            ],
            [
             0.7777777777777778,
             "#fb9f3a"
            ],
            [
             0.8888888888888888,
             "#fdca26"
            ],
            [
             1,
             "#f0f921"
            ]
           ]
          },
          "colorway": [
           "#636efa",
           "#EF553B",
           "#00cc96",
           "#ab63fa",
           "#FFA15A",
           "#19d3f3",
           "#FF6692",
           "#B6E880",
           "#FF97FF",
           "#FECB52"
          ],
          "font": {
           "color": "#2a3f5f"
          },
          "geo": {
           "bgcolor": "white",
           "lakecolor": "white",
           "landcolor": "#E5ECF6",
           "showlakes": true,
           "showland": true,
           "subunitcolor": "white"
          },
          "hoverlabel": {
           "align": "left"
          },
          "hovermode": "closest",
          "mapbox": {
           "style": "light"
          },
          "paper_bgcolor": "white",
          "plot_bgcolor": "#E5ECF6",
          "polar": {
           "angularaxis": {
            "gridcolor": "white",
            "linecolor": "white",
            "ticks": ""
           },
           "bgcolor": "#E5ECF6",
           "radialaxis": {
            "gridcolor": "white",
            "linecolor": "white",
            "ticks": ""
           }
          },
          "scene": {
           "xaxis": {
            "backgroundcolor": "#E5ECF6",
            "gridcolor": "white",
            "gridwidth": 2,
            "linecolor": "white",
            "showbackground": true,
            "ticks": "",
            "zerolinecolor": "white"
           },
           "yaxis": {
            "backgroundcolor": "#E5ECF6",
            "gridcolor": "white",
            "gridwidth": 2,
            "linecolor": "white",
            "showbackground": true,
            "ticks": "",
            "zerolinecolor": "white"
           },
           "zaxis": {
            "backgroundcolor": "#E5ECF6",
            "gridcolor": "white",
            "gridwidth": 2,
            "linecolor": "white",
            "showbackground": true,
            "ticks": "",
            "zerolinecolor": "white"
           }
          },
          "shapedefaults": {
           "line": {
            "color": "#2a3f5f"
           }
          },
          "ternary": {
           "aaxis": {
            "gridcolor": "white",
            "linecolor": "white",
            "ticks": ""
           },
           "baxis": {
            "gridcolor": "white",
            "linecolor": "white",
            "ticks": ""
           },
           "bgcolor": "#E5ECF6",
           "caxis": {
            "gridcolor": "white",
            "linecolor": "white",
            "ticks": ""
           }
          },
          "title": {
           "x": 0.05
          },
          "xaxis": {
           "automargin": true,
           "gridcolor": "white",
           "linecolor": "white",
           "ticks": "",
           "title": {
            "standoff": 15
           },
           "zerolinecolor": "white",
           "zerolinewidth": 2
          },
          "yaxis": {
           "automargin": true,
           "gridcolor": "white",
           "linecolor": "white",
           "ticks": "",
           "title": {
            "standoff": 15
           },
           "zerolinecolor": "white",
           "zerolinewidth": 2
          }
         }
        },
        "title": {
         "font": {
          "color": "#4D5663"
         },
         "text": "Prediction by Day of Week"
        },
        "xaxis": {
         "gridcolor": "#E1E5ED",
         "showgrid": true,
         "tickfont": {
          "color": "#4D5663"
         },
         "title": {
          "font": {
           "color": "#4D5663"
          },
          "text": "Day of Week"
         },
         "zerolinecolor": "#E1E5ED"
        },
        "yaxis": {
         "gridcolor": "#E1E5ED",
         "showgrid": true,
         "tickfont": {
          "color": "#4D5663"
         },
         "title": {
          "font": {
           "color": "#4D5663"
          },
          "text": "Count"
         },
         "zerolinecolor": "#E1E5ED"
        }
       }
      },
      "text/html": [
       "<div>\n",
       "        \n",
       "        \n",
       "            <div id=\"720f3e1d-afec-44a4-8599-949f512d47e8\" class=\"plotly-graph-div\" style=\"height:525px; width:100%;\"></div>\n",
       "            <script type=\"text/javascript\">\n",
       "                require([\"plotly\"], function(Plotly) {\n",
       "                    window.PLOTLYENV=window.PLOTLYENV || {};\n",
       "                    window.PLOTLYENV.BASE_URL='https://plot.ly';\n",
       "                    \n",
       "                if (document.getElementById(\"720f3e1d-afec-44a4-8599-949f512d47e8\")) {\n",
       "                    Plotly.newPlot(\n",
       "                        '720f3e1d-afec-44a4-8599-949f512d47e8',\n",
       "                        [{\"line\": {\"color\": \"rgba(255, 153, 51, 1.0)\", \"dash\": \"solid\", \"shape\": \"linear\", \"width\": 1.3}, \"mode\": \"lines\", \"name\": \"cnt\", \"text\": \"\", \"type\": \"scatter\", \"x\": [\"Mon\", \"Tue\", \"Wed\", \"Thu\", \"Fri\", \"Sat\", \"Sun\"], \"y\": [222332, 130322, 367404, 417795, 467775, 949717, 394938]}, {\"line\": {\"color\": \"rgba(55, 128, 191, 1.0)\", \"dash\": \"solid\", \"shape\": \"linear\", \"width\": 1.3}, \"mode\": \"lines\", \"name\": \"lr_pred\", \"text\": \"\", \"type\": \"scatter\", \"x\": [\"Mon\", \"Tue\", \"Wed\", \"Thu\", \"Fri\", \"Sat\", \"Sun\"], \"y\": [292448.707865873, 281889.4576861314, 318247.69606200117, 331457.16300080344, 345530.99465021474, 678293.4755968465, 350700.7076267406]}, {\"line\": {\"color\": \"rgba(50, 171, 96, 1.0)\", \"dash\": \"solid\", \"shape\": \"linear\", \"width\": 1.3}, \"mode\": \"lines\", \"name\": \"rf_pred\", \"text\": \"\", \"type\": \"scatter\", \"x\": [\"Mon\", \"Tue\", \"Wed\", \"Thu\", \"Fri\", \"Sat\", \"Sun\"], \"y\": [344831.5759999997, 394557.78600000136, 423926.144000001, 439877.64800000004, 456140.1619999997, 951499.03, 417257.2699999994]}, {\"line\": {\"color\": \"rgba(128, 0, 128, 1.0)\", \"dash\": \"solid\", \"shape\": \"linear\", \"width\": 1.3}, \"mode\": \"lines\", \"name\": \"xgb_pred\", \"text\": \"\", \"type\": \"scatter\", \"x\": [\"Mon\", \"Tue\", \"Wed\", \"Thu\", \"Fri\", \"Sat\", \"Sun\"], \"y\": [352394.78125, 403804.125, 433971.1875, 442823.75, 457101.9375, 992986.625, 425653.40625]}, {\"line\": {\"color\": \"rgba(219, 64, 82, 1.0)\", \"dash\": \"solid\", \"shape\": \"linear\", \"width\": 1.3}, \"mode\": \"lines\", \"name\": \"lgbm_pred\", \"text\": \"\", \"type\": \"scatter\", \"x\": [\"Mon\", \"Tue\", \"Wed\", \"Thu\", \"Fri\", \"Sat\", \"Sun\"], \"y\": [349554.7801260666, 401485.03871926497, 426022.2759286792, 436029.4613078915, 455411.75659827335, 978425.3966214334, 411438.39429509593]}],\n",
       "                        {\"legend\": {\"bgcolor\": \"#F5F6F9\", \"font\": {\"color\": \"#4D5663\"}}, \"paper_bgcolor\": \"#F5F6F9\", \"plot_bgcolor\": \"#F5F6F9\", \"template\": {\"data\": {\"bar\": [{\"error_x\": {\"color\": \"#2a3f5f\"}, \"error_y\": {\"color\": \"#2a3f5f\"}, \"marker\": {\"line\": {\"color\": \"#E5ECF6\", \"width\": 0.5}}, \"type\": \"bar\"}], \"barpolar\": [{\"marker\": {\"line\": {\"color\": \"#E5ECF6\", \"width\": 0.5}}, \"type\": \"barpolar\"}], \"carpet\": [{\"aaxis\": {\"endlinecolor\": \"#2a3f5f\", \"gridcolor\": \"white\", \"linecolor\": \"white\", \"minorgridcolor\": \"white\", \"startlinecolor\": \"#2a3f5f\"}, \"baxis\": {\"endlinecolor\": \"#2a3f5f\", \"gridcolor\": \"white\", \"linecolor\": \"white\", \"minorgridcolor\": \"white\", \"startlinecolor\": \"#2a3f5f\"}, \"type\": \"carpet\"}], \"choropleth\": [{\"colorbar\": {\"outlinewidth\": 0, \"ticks\": \"\"}, \"type\": \"choropleth\"}], \"contour\": [{\"colorbar\": {\"outlinewidth\": 0, \"ticks\": \"\"}, \"colorscale\": [[0.0, \"#0d0887\"], [0.1111111111111111, \"#46039f\"], [0.2222222222222222, \"#7201a8\"], [0.3333333333333333, \"#9c179e\"], [0.4444444444444444, \"#bd3786\"], [0.5555555555555556, \"#d8576b\"], [0.6666666666666666, \"#ed7953\"], [0.7777777777777778, \"#fb9f3a\"], [0.8888888888888888, \"#fdca26\"], [1.0, \"#f0f921\"]], \"type\": \"contour\"}], \"contourcarpet\": [{\"colorbar\": {\"outlinewidth\": 0, \"ticks\": \"\"}, \"type\": \"contourcarpet\"}], \"heatmap\": [{\"colorbar\": {\"outlinewidth\": 0, \"ticks\": \"\"}, \"colorscale\": [[0.0, \"#0d0887\"], [0.1111111111111111, \"#46039f\"], [0.2222222222222222, \"#7201a8\"], [0.3333333333333333, \"#9c179e\"], [0.4444444444444444, \"#bd3786\"], [0.5555555555555556, \"#d8576b\"], [0.6666666666666666, \"#ed7953\"], [0.7777777777777778, \"#fb9f3a\"], [0.8888888888888888, \"#fdca26\"], [1.0, \"#f0f921\"]], \"type\": \"heatmap\"}], \"heatmapgl\": [{\"colorbar\": {\"outlinewidth\": 0, \"ticks\": \"\"}, \"colorscale\": [[0.0, \"#0d0887\"], [0.1111111111111111, \"#46039f\"], [0.2222222222222222, \"#7201a8\"], [0.3333333333333333, \"#9c179e\"], [0.4444444444444444, \"#bd3786\"], [0.5555555555555556, \"#d8576b\"], [0.6666666666666666, \"#ed7953\"], [0.7777777777777778, \"#fb9f3a\"], [0.8888888888888888, \"#fdca26\"], [1.0, \"#f0f921\"]], \"type\": \"heatmapgl\"}], \"histogram\": [{\"marker\": {\"colorbar\": {\"outlinewidth\": 0, \"ticks\": \"\"}}, \"type\": \"histogram\"}], \"histogram2d\": [{\"colorbar\": {\"outlinewidth\": 0, \"ticks\": \"\"}, \"colorscale\": [[0.0, \"#0d0887\"], [0.1111111111111111, \"#46039f\"], [0.2222222222222222, \"#7201a8\"], [0.3333333333333333, \"#9c179e\"], [0.4444444444444444, \"#bd3786\"], [0.5555555555555556, \"#d8576b\"], [0.6666666666666666, \"#ed7953\"], [0.7777777777777778, \"#fb9f3a\"], [0.8888888888888888, \"#fdca26\"], [1.0, \"#f0f921\"]], \"type\": \"histogram2d\"}], \"histogram2dcontour\": [{\"colorbar\": {\"outlinewidth\": 0, \"ticks\": \"\"}, \"colorscale\": [[0.0, \"#0d0887\"], [0.1111111111111111, \"#46039f\"], [0.2222222222222222, \"#7201a8\"], [0.3333333333333333, \"#9c179e\"], [0.4444444444444444, \"#bd3786\"], [0.5555555555555556, \"#d8576b\"], [0.6666666666666666, \"#ed7953\"], [0.7777777777777778, \"#fb9f3a\"], [0.8888888888888888, \"#fdca26\"], [1.0, \"#f0f921\"]], \"type\": \"histogram2dcontour\"}], \"mesh3d\": [{\"colorbar\": {\"outlinewidth\": 0, \"ticks\": \"\"}, \"type\": \"mesh3d\"}], \"parcoords\": [{\"line\": {\"colorbar\": {\"outlinewidth\": 0, \"ticks\": \"\"}}, \"type\": \"parcoords\"}], \"pie\": [{\"automargin\": true, \"type\": \"pie\"}], \"scatter\": [{\"marker\": {\"colorbar\": {\"outlinewidth\": 0, \"ticks\": \"\"}}, \"type\": \"scatter\"}], \"scatter3d\": [{\"line\": {\"colorbar\": {\"outlinewidth\": 0, \"ticks\": \"\"}}, \"marker\": {\"colorbar\": {\"outlinewidth\": 0, \"ticks\": \"\"}}, \"type\": \"scatter3d\"}], \"scattercarpet\": [{\"marker\": {\"colorbar\": {\"outlinewidth\": 0, \"ticks\": \"\"}}, \"type\": \"scattercarpet\"}], \"scattergeo\": [{\"marker\": {\"colorbar\": {\"outlinewidth\": 0, \"ticks\": \"\"}}, \"type\": \"scattergeo\"}], \"scattergl\": [{\"marker\": {\"colorbar\": {\"outlinewidth\": 0, \"ticks\": \"\"}}, \"type\": \"scattergl\"}], \"scattermapbox\": [{\"marker\": {\"colorbar\": {\"outlinewidth\": 0, \"ticks\": \"\"}}, \"type\": \"scattermapbox\"}], \"scatterpolar\": [{\"marker\": {\"colorbar\": {\"outlinewidth\": 0, \"ticks\": \"\"}}, \"type\": \"scatterpolar\"}], \"scatterpolargl\": [{\"marker\": {\"colorbar\": {\"outlinewidth\": 0, \"ticks\": \"\"}}, \"type\": \"scatterpolargl\"}], \"scatterternary\": [{\"marker\": {\"colorbar\": {\"outlinewidth\": 0, \"ticks\": \"\"}}, \"type\": \"scatterternary\"}], \"surface\": [{\"colorbar\": {\"outlinewidth\": 0, \"ticks\": \"\"}, \"colorscale\": [[0.0, \"#0d0887\"], [0.1111111111111111, \"#46039f\"], [0.2222222222222222, \"#7201a8\"], [0.3333333333333333, \"#9c179e\"], [0.4444444444444444, \"#bd3786\"], [0.5555555555555556, \"#d8576b\"], [0.6666666666666666, \"#ed7953\"], [0.7777777777777778, \"#fb9f3a\"], [0.8888888888888888, \"#fdca26\"], [1.0, \"#f0f921\"]], \"type\": \"surface\"}], \"table\": [{\"cells\": {\"fill\": {\"color\": \"#EBF0F8\"}, \"line\": {\"color\": \"white\"}}, \"header\": {\"fill\": {\"color\": \"#C8D4E3\"}, \"line\": {\"color\": \"white\"}}, \"type\": \"table\"}]}, \"layout\": {\"annotationdefaults\": {\"arrowcolor\": \"#2a3f5f\", \"arrowhead\": 0, \"arrowwidth\": 1}, \"coloraxis\": {\"colorbar\": {\"outlinewidth\": 0, \"ticks\": \"\"}}, \"colorscale\": {\"diverging\": [[0, \"#8e0152\"], [0.1, \"#c51b7d\"], [0.2, \"#de77ae\"], [0.3, \"#f1b6da\"], [0.4, \"#fde0ef\"], [0.5, \"#f7f7f7\"], [0.6, \"#e6f5d0\"], [0.7, \"#b8e186\"], [0.8, \"#7fbc41\"], [0.9, \"#4d9221\"], [1, \"#276419\"]], \"sequential\": [[0.0, \"#0d0887\"], [0.1111111111111111, \"#46039f\"], [0.2222222222222222, \"#7201a8\"], [0.3333333333333333, \"#9c179e\"], [0.4444444444444444, \"#bd3786\"], [0.5555555555555556, \"#d8576b\"], [0.6666666666666666, \"#ed7953\"], [0.7777777777777778, \"#fb9f3a\"], [0.8888888888888888, \"#fdca26\"], [1.0, \"#f0f921\"]], \"sequentialminus\": [[0.0, \"#0d0887\"], [0.1111111111111111, \"#46039f\"], [0.2222222222222222, \"#7201a8\"], [0.3333333333333333, \"#9c179e\"], [0.4444444444444444, \"#bd3786\"], [0.5555555555555556, \"#d8576b\"], [0.6666666666666666, \"#ed7953\"], [0.7777777777777778, \"#fb9f3a\"], [0.8888888888888888, \"#fdca26\"], [1.0, \"#f0f921\"]]}, \"colorway\": [\"#636efa\", \"#EF553B\", \"#00cc96\", \"#ab63fa\", \"#FFA15A\", \"#19d3f3\", \"#FF6692\", \"#B6E880\", \"#FF97FF\", \"#FECB52\"], \"font\": {\"color\": \"#2a3f5f\"}, \"geo\": {\"bgcolor\": \"white\", \"lakecolor\": \"white\", \"landcolor\": \"#E5ECF6\", \"showlakes\": true, \"showland\": true, \"subunitcolor\": \"white\"}, \"hoverlabel\": {\"align\": \"left\"}, \"hovermode\": \"closest\", \"mapbox\": {\"style\": \"light\"}, \"paper_bgcolor\": \"white\", \"plot_bgcolor\": \"#E5ECF6\", \"polar\": {\"angularaxis\": {\"gridcolor\": \"white\", \"linecolor\": \"white\", \"ticks\": \"\"}, \"bgcolor\": \"#E5ECF6\", \"radialaxis\": {\"gridcolor\": \"white\", \"linecolor\": \"white\", \"ticks\": \"\"}}, \"scene\": {\"xaxis\": {\"backgroundcolor\": \"#E5ECF6\", \"gridcolor\": \"white\", \"gridwidth\": 2, \"linecolor\": \"white\", \"showbackground\": true, \"ticks\": \"\", \"zerolinecolor\": \"white\"}, \"yaxis\": {\"backgroundcolor\": \"#E5ECF6\", \"gridcolor\": \"white\", \"gridwidth\": 2, \"linecolor\": \"white\", \"showbackground\": true, \"ticks\": \"\", \"zerolinecolor\": \"white\"}, \"zaxis\": {\"backgroundcolor\": \"#E5ECF6\", \"gridcolor\": \"white\", \"gridwidth\": 2, \"linecolor\": \"white\", \"showbackground\": true, \"ticks\": \"\", \"zerolinecolor\": \"white\"}}, \"shapedefaults\": {\"line\": {\"color\": \"#2a3f5f\"}}, \"ternary\": {\"aaxis\": {\"gridcolor\": \"white\", \"linecolor\": \"white\", \"ticks\": \"\"}, \"baxis\": {\"gridcolor\": \"white\", \"linecolor\": \"white\", \"ticks\": \"\"}, \"bgcolor\": \"#E5ECF6\", \"caxis\": {\"gridcolor\": \"white\", \"linecolor\": \"white\", \"ticks\": \"\"}}, \"title\": {\"x\": 0.05}, \"xaxis\": {\"automargin\": true, \"gridcolor\": \"white\", \"linecolor\": \"white\", \"ticks\": \"\", \"title\": {\"standoff\": 15}, \"zerolinecolor\": \"white\", \"zerolinewidth\": 2}, \"yaxis\": {\"automargin\": true, \"gridcolor\": \"white\", \"linecolor\": \"white\", \"ticks\": \"\", \"title\": {\"standoff\": 15}, \"zerolinecolor\": \"white\", \"zerolinewidth\": 2}}}, \"title\": {\"font\": {\"color\": \"#4D5663\"}, \"text\": \"Prediction by Day of Week\"}, \"xaxis\": {\"gridcolor\": \"#E1E5ED\", \"showgrid\": true, \"tickfont\": {\"color\": \"#4D5663\"}, \"title\": {\"font\": {\"color\": \"#4D5663\"}, \"text\": \"Day of Week\"}, \"zerolinecolor\": \"#E1E5ED\"}, \"yaxis\": {\"gridcolor\": \"#E1E5ED\", \"showgrid\": true, \"tickfont\": {\"color\": \"#4D5663\"}, \"title\": {\"font\": {\"color\": \"#4D5663\"}, \"text\": \"Count\"}, \"zerolinecolor\": \"#E1E5ED\"}},\n",
       "                        {\"showLink\": true, \"linkText\": \"Export to plot.ly\", \"plotlyServerURL\": \"https://plot.ly\", \"responsive\": true}\n",
       "                    ).then(function(){\n",
       "                            \n",
       "var gd = document.getElementById('720f3e1d-afec-44a4-8599-949f512d47e8');\n",
       "var x = new MutationObserver(function (mutations, observer) {{\n",
       "        var display = window.getComputedStyle(gd).display;\n",
       "        if (!display || display === 'none') {{\n",
       "            console.log([gd, 'removed!']);\n",
       "            Plotly.purge(gd);\n",
       "            observer.disconnect();\n",
       "        }}\n",
       "}});\n",
       "\n",
       "// Listen for the removal of the full notebook cells\n",
       "var notebookContainer = gd.closest('#notebook-container');\n",
       "if (notebookContainer) {{\n",
       "    x.observe(notebookContainer, {childList: true});\n",
       "}}\n",
       "\n",
       "// Listen for the clearing of the current output cell\n",
       "var outputEl = gd.closest('.output');\n",
       "if (outputEl) {{\n",
       "    x.observe(outputEl, {childList: true});\n",
       "}}\n",
       "\n",
       "                        })\n",
       "                };\n",
       "                });\n",
       "            </script>\n",
       "        </div>"
      ]
     },
     "metadata": {},
     "output_type": "display_data"
    }
   ],
   "source": [
    "test_df.groupby('dow')['cnt','lr_pred','rf_pred','xgb_pred','lgbm_pred','zip_code'].sum().rename(index={0:'Mon', 1:'Tue', 2:'Wed', 3:'Thu', 4:'Fri', 5:'Sat', 6:'Sun'}).iplot(kind='scatter', title='Prediction by Day of Week', xTitle='Day of Week', yTitle='Count')"
   ]
  },
  {
   "cell_type": "markdown",
   "metadata": {},
   "source": [
    "<img src=\"https://github.com/jiyoungsim/BigQuery-NYC-Taxi-Demand--EDA-and-Prediction/blob/master/figs/pred_by_dow.png?raw=true\">"
   ]
  },
  {
   "cell_type": "code",
   "execution_count": 47,
   "metadata": {},
   "outputs": [
    {
     "data": {
      "application/vnd.plotly.v1+json": {
       "config": {
        "linkText": "Export to plot.ly",
        "plotlyServerURL": "https://plot.ly",
        "showLink": true
       },
       "data": [
        {
         "line": {
          "color": "rgba(255, 153, 51, 1.0)",
          "dash": "solid",
          "shape": "linear",
          "width": 1.3
         },
         "mode": "lines",
         "name": "cnt",
         "text": "",
         "type": "scatter",
         "x": [
          24,
          25,
          26,
          27,
          28,
          29,
          30,
          31
         ],
         "y": [
          447443,
          394938,
          222332,
          130322,
          367404,
          417795,
          467775,
          502274
         ]
        },
        {
         "line": {
          "color": "rgba(55, 128, 191, 1.0)",
          "dash": "solid",
          "shape": "linear",
          "width": 1.3
         },
         "mode": "lines",
         "name": "lr_pred",
         "text": "",
         "type": "scatter",
         "x": [
          24,
          25,
          26,
          27,
          28,
          29,
          30,
          31
         ],
         "y": [
          336791.08068951825,
          350700.7076267406,
          292448.707865873,
          281889.4576861314,
          318247.69606200117,
          331457.16300080344,
          345530.99465021474,
          341502.39490733034
         ]
        },
        {
         "line": {
          "color": "rgba(50, 171, 96, 1.0)",
          "dash": "solid",
          "shape": "linear",
          "width": 1.3
         },
         "mode": "lines",
         "name": "rf_pred",
         "text": "",
         "type": "scatter",
         "x": [
          24,
          25,
          26,
          27,
          28,
          29,
          30,
          31
         ],
         "y": [
          475702.40599999984,
          417257.2699999994,
          344831.5759999997,
          394557.78600000136,
          423926.144000001,
          439877.64800000004,
          456140.1619999997,
          475796.62400000007
         ]
        },
        {
         "line": {
          "color": "rgba(128, 0, 128, 1.0)",
          "dash": "solid",
          "shape": "linear",
          "width": 1.3
         },
         "mode": "lines",
         "name": "xgb_pred",
         "text": "",
         "type": "scatter",
         "x": [
          24,
          25,
          26,
          27,
          28,
          29,
          30,
          31
         ],
         "y": [
          496457.84375,
          425653.40625,
          352394.78125,
          403804.125,
          433971.1875,
          442823.75,
          457101.9375,
          496528.75
         ]
        },
        {
         "line": {
          "color": "rgba(219, 64, 82, 1.0)",
          "dash": "solid",
          "shape": "linear",
          "width": 1.3
         },
         "mode": "lines",
         "name": "lgbm_pred",
         "text": "",
         "type": "scatter",
         "x": [
          24,
          25,
          26,
          27,
          28,
          29,
          30,
          31
         ],
         "y": [
          488986.59072596516,
          411438.39429509593,
          349554.7801260666,
          401485.03871926497,
          426022.2759286792,
          436029.4613078915,
          455411.75659827335,
          489438.80589546874
         ]
        }
       ],
       "layout": {
        "legend": {
         "bgcolor": "#F5F6F9",
         "font": {
          "color": "#4D5663"
         }
        },
        "paper_bgcolor": "#F5F6F9",
        "plot_bgcolor": "#F5F6F9",
        "template": {
         "data": {
          "bar": [
           {
            "error_x": {
             "color": "#2a3f5f"
            },
            "error_y": {
             "color": "#2a3f5f"
            },
            "marker": {
             "line": {
              "color": "#E5ECF6",
              "width": 0.5
             }
            },
            "type": "bar"
           }
          ],
          "barpolar": [
           {
            "marker": {
             "line": {
              "color": "#E5ECF6",
              "width": 0.5
             }
            },
            "type": "barpolar"
           }
          ],
          "carpet": [
           {
            "aaxis": {
             "endlinecolor": "#2a3f5f",
             "gridcolor": "white",
             "linecolor": "white",
             "minorgridcolor": "white",
             "startlinecolor": "#2a3f5f"
            },
            "baxis": {
             "endlinecolor": "#2a3f5f",
             "gridcolor": "white",
             "linecolor": "white",
             "minorgridcolor": "white",
             "startlinecolor": "#2a3f5f"
            },
            "type": "carpet"
           }
          ],
          "choropleth": [
           {
            "colorbar": {
             "outlinewidth": 0,
             "ticks": ""
            },
            "type": "choropleth"
           }
          ],
          "contour": [
           {
            "colorbar": {
             "outlinewidth": 0,
             "ticks": ""
            },
            "colorscale": [
             [
              0,
              "#0d0887"
             ],
             [
              0.1111111111111111,
              "#46039f"
             ],
             [
              0.2222222222222222,
              "#7201a8"
             ],
             [
              0.3333333333333333,
              "#9c179e"
             ],
             [
              0.4444444444444444,
              "#bd3786"
             ],
             [
              0.5555555555555556,
              "#d8576b"
             ],
             [
              0.6666666666666666,
              "#ed7953"
             ],
             [
              0.7777777777777778,
              "#fb9f3a"
             ],
             [
              0.8888888888888888,
              "#fdca26"
             ],
             [
              1,
              "#f0f921"
             ]
            ],
            "type": "contour"
           }
          ],
          "contourcarpet": [
           {
            "colorbar": {
             "outlinewidth": 0,
             "ticks": ""
            },
            "type": "contourcarpet"
           }
          ],
          "heatmap": [
           {
            "colorbar": {
             "outlinewidth": 0,
             "ticks": ""
            },
            "colorscale": [
             [
              0,
              "#0d0887"
             ],
             [
              0.1111111111111111,
              "#46039f"
             ],
             [
              0.2222222222222222,
              "#7201a8"
             ],
             [
              0.3333333333333333,
              "#9c179e"
             ],
             [
              0.4444444444444444,
              "#bd3786"
             ],
             [
              0.5555555555555556,
              "#d8576b"
             ],
             [
              0.6666666666666666,
              "#ed7953"
             ],
             [
              0.7777777777777778,
              "#fb9f3a"
             ],
             [
              0.8888888888888888,
              "#fdca26"
             ],
             [
              1,
              "#f0f921"
             ]
            ],
            "type": "heatmap"
           }
          ],
          "heatmapgl": [
           {
            "colorbar": {
             "outlinewidth": 0,
             "ticks": ""
            },
            "colorscale": [
             [
              0,
              "#0d0887"
             ],
             [
              0.1111111111111111,
              "#46039f"
             ],
             [
              0.2222222222222222,
              "#7201a8"
             ],
             [
              0.3333333333333333,
              "#9c179e"
             ],
             [
              0.4444444444444444,
              "#bd3786"
             ],
             [
              0.5555555555555556,
              "#d8576b"
             ],
             [
              0.6666666666666666,
              "#ed7953"
             ],
             [
              0.7777777777777778,
              "#fb9f3a"
             ],
             [
              0.8888888888888888,
              "#fdca26"
             ],
             [
              1,
              "#f0f921"
             ]
            ],
            "type": "heatmapgl"
           }
          ],
          "histogram": [
           {
            "marker": {
             "colorbar": {
              "outlinewidth": 0,
              "ticks": ""
             }
            },
            "type": "histogram"
           }
          ],
          "histogram2d": [
           {
            "colorbar": {
             "outlinewidth": 0,
             "ticks": ""
            },
            "colorscale": [
             [
              0,
              "#0d0887"
             ],
             [
              0.1111111111111111,
              "#46039f"
             ],
             [
              0.2222222222222222,
              "#7201a8"
             ],
             [
              0.3333333333333333,
              "#9c179e"
             ],
             [
              0.4444444444444444,
              "#bd3786"
             ],
             [
              0.5555555555555556,
              "#d8576b"
             ],
             [
              0.6666666666666666,
              "#ed7953"
             ],
             [
              0.7777777777777778,
              "#fb9f3a"
             ],
             [
              0.8888888888888888,
              "#fdca26"
             ],
             [
              1,
              "#f0f921"
             ]
            ],
            "type": "histogram2d"
           }
          ],
          "histogram2dcontour": [
           {
            "colorbar": {
             "outlinewidth": 0,
             "ticks": ""
            },
            "colorscale": [
             [
              0,
              "#0d0887"
             ],
             [
              0.1111111111111111,
              "#46039f"
             ],
             [
              0.2222222222222222,
              "#7201a8"
             ],
             [
              0.3333333333333333,
              "#9c179e"
             ],
             [
              0.4444444444444444,
              "#bd3786"
             ],
             [
              0.5555555555555556,
              "#d8576b"
             ],
             [
              0.6666666666666666,
              "#ed7953"
             ],
             [
              0.7777777777777778,
              "#fb9f3a"
             ],
             [
              0.8888888888888888,
              "#fdca26"
             ],
             [
              1,
              "#f0f921"
             ]
            ],
            "type": "histogram2dcontour"
           }
          ],
          "mesh3d": [
           {
            "colorbar": {
             "outlinewidth": 0,
             "ticks": ""
            },
            "type": "mesh3d"
           }
          ],
          "parcoords": [
           {
            "line": {
             "colorbar": {
              "outlinewidth": 0,
              "ticks": ""
             }
            },
            "type": "parcoords"
           }
          ],
          "pie": [
           {
            "automargin": true,
            "type": "pie"
           }
          ],
          "scatter": [
           {
            "marker": {
             "colorbar": {
              "outlinewidth": 0,
              "ticks": ""
             }
            },
            "type": "scatter"
           }
          ],
          "scatter3d": [
           {
            "line": {
             "colorbar": {
              "outlinewidth": 0,
              "ticks": ""
             }
            },
            "marker": {
             "colorbar": {
              "outlinewidth": 0,
              "ticks": ""
             }
            },
            "type": "scatter3d"
           }
          ],
          "scattercarpet": [
           {
            "marker": {
             "colorbar": {
              "outlinewidth": 0,
              "ticks": ""
             }
            },
            "type": "scattercarpet"
           }
          ],
          "scattergeo": [
           {
            "marker": {
             "colorbar": {
              "outlinewidth": 0,
              "ticks": ""
             }
            },
            "type": "scattergeo"
           }
          ],
          "scattergl": [
           {
            "marker": {
             "colorbar": {
              "outlinewidth": 0,
              "ticks": ""
             }
            },
            "type": "scattergl"
           }
          ],
          "scattermapbox": [
           {
            "marker": {
             "colorbar": {
              "outlinewidth": 0,
              "ticks": ""
             }
            },
            "type": "scattermapbox"
           }
          ],
          "scatterpolar": [
           {
            "marker": {
             "colorbar": {
              "outlinewidth": 0,
              "ticks": ""
             }
            },
            "type": "scatterpolar"
           }
          ],
          "scatterpolargl": [
           {
            "marker": {
             "colorbar": {
              "outlinewidth": 0,
              "ticks": ""
             }
            },
            "type": "scatterpolargl"
           }
          ],
          "scatterternary": [
           {
            "marker": {
             "colorbar": {
              "outlinewidth": 0,
              "ticks": ""
             }
            },
            "type": "scatterternary"
           }
          ],
          "surface": [
           {
            "colorbar": {
             "outlinewidth": 0,
             "ticks": ""
            },
            "colorscale": [
             [
              0,
              "#0d0887"
             ],
             [
              0.1111111111111111,
              "#46039f"
             ],
             [
              0.2222222222222222,
              "#7201a8"
             ],
             [
              0.3333333333333333,
              "#9c179e"
             ],
             [
              0.4444444444444444,
              "#bd3786"
             ],
             [
              0.5555555555555556,
              "#d8576b"
             ],
             [
              0.6666666666666666,
              "#ed7953"
             ],
             [
              0.7777777777777778,
              "#fb9f3a"
             ],
             [
              0.8888888888888888,
              "#fdca26"
             ],
             [
              1,
              "#f0f921"
             ]
            ],
            "type": "surface"
           }
          ],
          "table": [
           {
            "cells": {
             "fill": {
              "color": "#EBF0F8"
             },
             "line": {
              "color": "white"
             }
            },
            "header": {
             "fill": {
              "color": "#C8D4E3"
             },
             "line": {
              "color": "white"
             }
            },
            "type": "table"
           }
          ]
         },
         "layout": {
          "annotationdefaults": {
           "arrowcolor": "#2a3f5f",
           "arrowhead": 0,
           "arrowwidth": 1
          },
          "coloraxis": {
           "colorbar": {
            "outlinewidth": 0,
            "ticks": ""
           }
          },
          "colorscale": {
           "diverging": [
            [
             0,
             "#8e0152"
            ],
            [
             0.1,
             "#c51b7d"
            ],
            [
             0.2,
             "#de77ae"
            ],
            [
             0.3,
             "#f1b6da"
            ],
            [
             0.4,
             "#fde0ef"
            ],
            [
             0.5,
             "#f7f7f7"
            ],
            [
             0.6,
             "#e6f5d0"
            ],
            [
             0.7,
             "#b8e186"
            ],
            [
             0.8,
             "#7fbc41"
            ],
            [
             0.9,
             "#4d9221"
            ],
            [
             1,
             "#276419"
            ]
           ],
           "sequential": [
            [
             0,
             "#0d0887"
            ],
            [
             0.1111111111111111,
             "#46039f"
            ],
            [
             0.2222222222222222,
             "#7201a8"
            ],
            [
             0.3333333333333333,
             "#9c179e"
            ],
            [
             0.4444444444444444,
             "#bd3786"
            ],
            [
             0.5555555555555556,
             "#d8576b"
            ],
            [
             0.6666666666666666,
             "#ed7953"
            ],
            [
             0.7777777777777778,
             "#fb9f3a"
            ],
            [
             0.8888888888888888,
             "#fdca26"
            ],
            [
             1,
             "#f0f921"
            ]
           ],
           "sequentialminus": [
            [
             0,
             "#0d0887"
            ],
            [
             0.1111111111111111,
             "#46039f"
            ],
            [
             0.2222222222222222,
             "#7201a8"
            ],
            [
             0.3333333333333333,
             "#9c179e"
            ],
            [
             0.4444444444444444,
             "#bd3786"
            ],
            [
             0.5555555555555556,
             "#d8576b"
            ],
            [
             0.6666666666666666,
             "#ed7953"
            ],
            [
             0.7777777777777778,
             "#fb9f3a"
            ],
            [
             0.8888888888888888,
             "#fdca26"
            ],
            [
             1,
             "#f0f921"
            ]
           ]
          },
          "colorway": [
           "#636efa",
           "#EF553B",
           "#00cc96",
           "#ab63fa",
           "#FFA15A",
           "#19d3f3",
           "#FF6692",
           "#B6E880",
           "#FF97FF",
           "#FECB52"
          ],
          "font": {
           "color": "#2a3f5f"
          },
          "geo": {
           "bgcolor": "white",
           "lakecolor": "white",
           "landcolor": "#E5ECF6",
           "showlakes": true,
           "showland": true,
           "subunitcolor": "white"
          },
          "hoverlabel": {
           "align": "left"
          },
          "hovermode": "closest",
          "mapbox": {
           "style": "light"
          },
          "paper_bgcolor": "white",
          "plot_bgcolor": "#E5ECF6",
          "polar": {
           "angularaxis": {
            "gridcolor": "white",
            "linecolor": "white",
            "ticks": ""
           },
           "bgcolor": "#E5ECF6",
           "radialaxis": {
            "gridcolor": "white",
            "linecolor": "white",
            "ticks": ""
           }
          },
          "scene": {
           "xaxis": {
            "backgroundcolor": "#E5ECF6",
            "gridcolor": "white",
            "gridwidth": 2,
            "linecolor": "white",
            "showbackground": true,
            "ticks": "",
            "zerolinecolor": "white"
           },
           "yaxis": {
            "backgroundcolor": "#E5ECF6",
            "gridcolor": "white",
            "gridwidth": 2,
            "linecolor": "white",
            "showbackground": true,
            "ticks": "",
            "zerolinecolor": "white"
           },
           "zaxis": {
            "backgroundcolor": "#E5ECF6",
            "gridcolor": "white",
            "gridwidth": 2,
            "linecolor": "white",
            "showbackground": true,
            "ticks": "",
            "zerolinecolor": "white"
           }
          },
          "shapedefaults": {
           "line": {
            "color": "#2a3f5f"
           }
          },
          "ternary": {
           "aaxis": {
            "gridcolor": "white",
            "linecolor": "white",
            "ticks": ""
           },
           "baxis": {
            "gridcolor": "white",
            "linecolor": "white",
            "ticks": ""
           },
           "bgcolor": "#E5ECF6",
           "caxis": {
            "gridcolor": "white",
            "linecolor": "white",
            "ticks": ""
           }
          },
          "title": {
           "x": 0.05
          },
          "xaxis": {
           "automargin": true,
           "gridcolor": "white",
           "linecolor": "white",
           "ticks": "",
           "title": {
            "standoff": 15
           },
           "zerolinecolor": "white",
           "zerolinewidth": 2
          },
          "yaxis": {
           "automargin": true,
           "gridcolor": "white",
           "linecolor": "white",
           "ticks": "",
           "title": {
            "standoff": 15
           },
           "zerolinecolor": "white",
           "zerolinewidth": 2
          }
         }
        },
        "title": {
         "font": {
          "color": "#4D5663"
         },
         "text": "Prediction by Day"
        },
        "xaxis": {
         "gridcolor": "#E1E5ED",
         "showgrid": true,
         "tickfont": {
          "color": "#4D5663"
         },
         "title": {
          "font": {
           "color": "#4D5663"
          },
          "text": "Day"
         },
         "zerolinecolor": "#E1E5ED"
        },
        "yaxis": {
         "gridcolor": "#E1E5ED",
         "showgrid": true,
         "tickfont": {
          "color": "#4D5663"
         },
         "title": {
          "font": {
           "color": "#4D5663"
          },
          "text": "Count"
         },
         "zerolinecolor": "#E1E5ED"
        }
       }
      },
      "text/html": [
       "<div>\n",
       "        \n",
       "        \n",
       "            <div id=\"31193108-6301-446a-ba3b-8c37fdb7c57a\" class=\"plotly-graph-div\" style=\"height:525px; width:100%;\"></div>\n",
       "            <script type=\"text/javascript\">\n",
       "                require([\"plotly\"], function(Plotly) {\n",
       "                    window.PLOTLYENV=window.PLOTLYENV || {};\n",
       "                    window.PLOTLYENV.BASE_URL='https://plot.ly';\n",
       "                    \n",
       "                if (document.getElementById(\"31193108-6301-446a-ba3b-8c37fdb7c57a\")) {\n",
       "                    Plotly.newPlot(\n",
       "                        '31193108-6301-446a-ba3b-8c37fdb7c57a',\n",
       "                        [{\"line\": {\"color\": \"rgba(255, 153, 51, 1.0)\", \"dash\": \"solid\", \"shape\": \"linear\", \"width\": 1.3}, \"mode\": \"lines\", \"name\": \"cnt\", \"text\": \"\", \"type\": \"scatter\", \"x\": [24, 25, 26, 27, 28, 29, 30, 31], \"y\": [447443, 394938, 222332, 130322, 367404, 417795, 467775, 502274]}, {\"line\": {\"color\": \"rgba(55, 128, 191, 1.0)\", \"dash\": \"solid\", \"shape\": \"linear\", \"width\": 1.3}, \"mode\": \"lines\", \"name\": \"lr_pred\", \"text\": \"\", \"type\": \"scatter\", \"x\": [24, 25, 26, 27, 28, 29, 30, 31], \"y\": [336791.08068951825, 350700.7076267406, 292448.707865873, 281889.4576861314, 318247.69606200117, 331457.16300080344, 345530.99465021474, 341502.39490733034]}, {\"line\": {\"color\": \"rgba(50, 171, 96, 1.0)\", \"dash\": \"solid\", \"shape\": \"linear\", \"width\": 1.3}, \"mode\": \"lines\", \"name\": \"rf_pred\", \"text\": \"\", \"type\": \"scatter\", \"x\": [24, 25, 26, 27, 28, 29, 30, 31], \"y\": [475702.40599999984, 417257.2699999994, 344831.5759999997, 394557.78600000136, 423926.144000001, 439877.64800000004, 456140.1619999997, 475796.62400000007]}, {\"line\": {\"color\": \"rgba(128, 0, 128, 1.0)\", \"dash\": \"solid\", \"shape\": \"linear\", \"width\": 1.3}, \"mode\": \"lines\", \"name\": \"xgb_pred\", \"text\": \"\", \"type\": \"scatter\", \"x\": [24, 25, 26, 27, 28, 29, 30, 31], \"y\": [496457.84375, 425653.40625, 352394.78125, 403804.125, 433971.1875, 442823.75, 457101.9375, 496528.75]}, {\"line\": {\"color\": \"rgba(219, 64, 82, 1.0)\", \"dash\": \"solid\", \"shape\": \"linear\", \"width\": 1.3}, \"mode\": \"lines\", \"name\": \"lgbm_pred\", \"text\": \"\", \"type\": \"scatter\", \"x\": [24, 25, 26, 27, 28, 29, 30, 31], \"y\": [488986.59072596516, 411438.39429509593, 349554.7801260666, 401485.03871926497, 426022.2759286792, 436029.4613078915, 455411.75659827335, 489438.80589546874]}],\n",
       "                        {\"legend\": {\"bgcolor\": \"#F5F6F9\", \"font\": {\"color\": \"#4D5663\"}}, \"paper_bgcolor\": \"#F5F6F9\", \"plot_bgcolor\": \"#F5F6F9\", \"template\": {\"data\": {\"bar\": [{\"error_x\": {\"color\": \"#2a3f5f\"}, \"error_y\": {\"color\": \"#2a3f5f\"}, \"marker\": {\"line\": {\"color\": \"#E5ECF6\", \"width\": 0.5}}, \"type\": \"bar\"}], \"barpolar\": [{\"marker\": {\"line\": {\"color\": \"#E5ECF6\", \"width\": 0.5}}, \"type\": \"barpolar\"}], \"carpet\": [{\"aaxis\": {\"endlinecolor\": \"#2a3f5f\", \"gridcolor\": \"white\", \"linecolor\": \"white\", \"minorgridcolor\": \"white\", \"startlinecolor\": \"#2a3f5f\"}, \"baxis\": {\"endlinecolor\": \"#2a3f5f\", \"gridcolor\": \"white\", \"linecolor\": \"white\", \"minorgridcolor\": \"white\", \"startlinecolor\": \"#2a3f5f\"}, \"type\": \"carpet\"}], \"choropleth\": [{\"colorbar\": {\"outlinewidth\": 0, \"ticks\": \"\"}, \"type\": \"choropleth\"}], \"contour\": [{\"colorbar\": {\"outlinewidth\": 0, \"ticks\": \"\"}, \"colorscale\": [[0.0, \"#0d0887\"], [0.1111111111111111, \"#46039f\"], [0.2222222222222222, \"#7201a8\"], [0.3333333333333333, \"#9c179e\"], [0.4444444444444444, \"#bd3786\"], [0.5555555555555556, \"#d8576b\"], [0.6666666666666666, \"#ed7953\"], [0.7777777777777778, \"#fb9f3a\"], [0.8888888888888888, \"#fdca26\"], [1.0, \"#f0f921\"]], \"type\": \"contour\"}], \"contourcarpet\": [{\"colorbar\": {\"outlinewidth\": 0, \"ticks\": \"\"}, \"type\": \"contourcarpet\"}], \"heatmap\": [{\"colorbar\": {\"outlinewidth\": 0, \"ticks\": \"\"}, \"colorscale\": [[0.0, \"#0d0887\"], [0.1111111111111111, \"#46039f\"], [0.2222222222222222, \"#7201a8\"], [0.3333333333333333, \"#9c179e\"], [0.4444444444444444, \"#bd3786\"], [0.5555555555555556, \"#d8576b\"], [0.6666666666666666, \"#ed7953\"], [0.7777777777777778, \"#fb9f3a\"], [0.8888888888888888, \"#fdca26\"], [1.0, \"#f0f921\"]], \"type\": \"heatmap\"}], \"heatmapgl\": [{\"colorbar\": {\"outlinewidth\": 0, \"ticks\": \"\"}, \"colorscale\": [[0.0, \"#0d0887\"], [0.1111111111111111, \"#46039f\"], [0.2222222222222222, \"#7201a8\"], [0.3333333333333333, \"#9c179e\"], [0.4444444444444444, \"#bd3786\"], [0.5555555555555556, \"#d8576b\"], [0.6666666666666666, \"#ed7953\"], [0.7777777777777778, \"#fb9f3a\"], [0.8888888888888888, \"#fdca26\"], [1.0, \"#f0f921\"]], \"type\": \"heatmapgl\"}], \"histogram\": [{\"marker\": {\"colorbar\": {\"outlinewidth\": 0, \"ticks\": \"\"}}, \"type\": \"histogram\"}], \"histogram2d\": [{\"colorbar\": {\"outlinewidth\": 0, \"ticks\": \"\"}, \"colorscale\": [[0.0, \"#0d0887\"], [0.1111111111111111, \"#46039f\"], [0.2222222222222222, \"#7201a8\"], [0.3333333333333333, \"#9c179e\"], [0.4444444444444444, \"#bd3786\"], [0.5555555555555556, \"#d8576b\"], [0.6666666666666666, \"#ed7953\"], [0.7777777777777778, \"#fb9f3a\"], [0.8888888888888888, \"#fdca26\"], [1.0, \"#f0f921\"]], \"type\": \"histogram2d\"}], \"histogram2dcontour\": [{\"colorbar\": {\"outlinewidth\": 0, \"ticks\": \"\"}, \"colorscale\": [[0.0, \"#0d0887\"], [0.1111111111111111, \"#46039f\"], [0.2222222222222222, \"#7201a8\"], [0.3333333333333333, \"#9c179e\"], [0.4444444444444444, \"#bd3786\"], [0.5555555555555556, \"#d8576b\"], [0.6666666666666666, \"#ed7953\"], [0.7777777777777778, \"#fb9f3a\"], [0.8888888888888888, \"#fdca26\"], [1.0, \"#f0f921\"]], \"type\": \"histogram2dcontour\"}], \"mesh3d\": [{\"colorbar\": {\"outlinewidth\": 0, \"ticks\": \"\"}, \"type\": \"mesh3d\"}], \"parcoords\": [{\"line\": {\"colorbar\": {\"outlinewidth\": 0, \"ticks\": \"\"}}, \"type\": \"parcoords\"}], \"pie\": [{\"automargin\": true, \"type\": \"pie\"}], \"scatter\": [{\"marker\": {\"colorbar\": {\"outlinewidth\": 0, \"ticks\": \"\"}}, \"type\": \"scatter\"}], \"scatter3d\": [{\"line\": {\"colorbar\": {\"outlinewidth\": 0, \"ticks\": \"\"}}, \"marker\": {\"colorbar\": {\"outlinewidth\": 0, \"ticks\": \"\"}}, \"type\": \"scatter3d\"}], \"scattercarpet\": [{\"marker\": {\"colorbar\": {\"outlinewidth\": 0, \"ticks\": \"\"}}, \"type\": \"scattercarpet\"}], \"scattergeo\": [{\"marker\": {\"colorbar\": {\"outlinewidth\": 0, \"ticks\": \"\"}}, \"type\": \"scattergeo\"}], \"scattergl\": [{\"marker\": {\"colorbar\": {\"outlinewidth\": 0, \"ticks\": \"\"}}, \"type\": \"scattergl\"}], \"scattermapbox\": [{\"marker\": {\"colorbar\": {\"outlinewidth\": 0, \"ticks\": \"\"}}, \"type\": \"scattermapbox\"}], \"scatterpolar\": [{\"marker\": {\"colorbar\": {\"outlinewidth\": 0, \"ticks\": \"\"}}, \"type\": \"scatterpolar\"}], \"scatterpolargl\": [{\"marker\": {\"colorbar\": {\"outlinewidth\": 0, \"ticks\": \"\"}}, \"type\": \"scatterpolargl\"}], \"scatterternary\": [{\"marker\": {\"colorbar\": {\"outlinewidth\": 0, \"ticks\": \"\"}}, \"type\": \"scatterternary\"}], \"surface\": [{\"colorbar\": {\"outlinewidth\": 0, \"ticks\": \"\"}, \"colorscale\": [[0.0, \"#0d0887\"], [0.1111111111111111, \"#46039f\"], [0.2222222222222222, \"#7201a8\"], [0.3333333333333333, \"#9c179e\"], [0.4444444444444444, \"#bd3786\"], [0.5555555555555556, \"#d8576b\"], [0.6666666666666666, \"#ed7953\"], [0.7777777777777778, \"#fb9f3a\"], [0.8888888888888888, \"#fdca26\"], [1.0, \"#f0f921\"]], \"type\": \"surface\"}], \"table\": [{\"cells\": {\"fill\": {\"color\": \"#EBF0F8\"}, \"line\": {\"color\": \"white\"}}, \"header\": {\"fill\": {\"color\": \"#C8D4E3\"}, \"line\": {\"color\": \"white\"}}, \"type\": \"table\"}]}, \"layout\": {\"annotationdefaults\": {\"arrowcolor\": \"#2a3f5f\", \"arrowhead\": 0, \"arrowwidth\": 1}, \"coloraxis\": {\"colorbar\": {\"outlinewidth\": 0, \"ticks\": \"\"}}, \"colorscale\": {\"diverging\": [[0, \"#8e0152\"], [0.1, \"#c51b7d\"], [0.2, \"#de77ae\"], [0.3, \"#f1b6da\"], [0.4, \"#fde0ef\"], [0.5, \"#f7f7f7\"], [0.6, \"#e6f5d0\"], [0.7, \"#b8e186\"], [0.8, \"#7fbc41\"], [0.9, \"#4d9221\"], [1, \"#276419\"]], \"sequential\": [[0.0, \"#0d0887\"], [0.1111111111111111, \"#46039f\"], [0.2222222222222222, \"#7201a8\"], [0.3333333333333333, \"#9c179e\"], [0.4444444444444444, \"#bd3786\"], [0.5555555555555556, \"#d8576b\"], [0.6666666666666666, \"#ed7953\"], [0.7777777777777778, \"#fb9f3a\"], [0.8888888888888888, \"#fdca26\"], [1.0, \"#f0f921\"]], \"sequentialminus\": [[0.0, \"#0d0887\"], [0.1111111111111111, \"#46039f\"], [0.2222222222222222, \"#7201a8\"], [0.3333333333333333, \"#9c179e\"], [0.4444444444444444, \"#bd3786\"], [0.5555555555555556, \"#d8576b\"], [0.6666666666666666, \"#ed7953\"], [0.7777777777777778, \"#fb9f3a\"], [0.8888888888888888, \"#fdca26\"], [1.0, \"#f0f921\"]]}, \"colorway\": [\"#636efa\", \"#EF553B\", \"#00cc96\", \"#ab63fa\", \"#FFA15A\", \"#19d3f3\", \"#FF6692\", \"#B6E880\", \"#FF97FF\", \"#FECB52\"], \"font\": {\"color\": \"#2a3f5f\"}, \"geo\": {\"bgcolor\": \"white\", \"lakecolor\": \"white\", \"landcolor\": \"#E5ECF6\", \"showlakes\": true, \"showland\": true, \"subunitcolor\": \"white\"}, \"hoverlabel\": {\"align\": \"left\"}, \"hovermode\": \"closest\", \"mapbox\": {\"style\": \"light\"}, \"paper_bgcolor\": \"white\", \"plot_bgcolor\": \"#E5ECF6\", \"polar\": {\"angularaxis\": {\"gridcolor\": \"white\", \"linecolor\": \"white\", \"ticks\": \"\"}, \"bgcolor\": \"#E5ECF6\", \"radialaxis\": {\"gridcolor\": \"white\", \"linecolor\": \"white\", \"ticks\": \"\"}}, \"scene\": {\"xaxis\": {\"backgroundcolor\": \"#E5ECF6\", \"gridcolor\": \"white\", \"gridwidth\": 2, \"linecolor\": \"white\", \"showbackground\": true, \"ticks\": \"\", \"zerolinecolor\": \"white\"}, \"yaxis\": {\"backgroundcolor\": \"#E5ECF6\", \"gridcolor\": \"white\", \"gridwidth\": 2, \"linecolor\": \"white\", \"showbackground\": true, \"ticks\": \"\", \"zerolinecolor\": \"white\"}, \"zaxis\": {\"backgroundcolor\": \"#E5ECF6\", \"gridcolor\": \"white\", \"gridwidth\": 2, \"linecolor\": \"white\", \"showbackground\": true, \"ticks\": \"\", \"zerolinecolor\": \"white\"}}, \"shapedefaults\": {\"line\": {\"color\": \"#2a3f5f\"}}, \"ternary\": {\"aaxis\": {\"gridcolor\": \"white\", \"linecolor\": \"white\", \"ticks\": \"\"}, \"baxis\": {\"gridcolor\": \"white\", \"linecolor\": \"white\", \"ticks\": \"\"}, \"bgcolor\": \"#E5ECF6\", \"caxis\": {\"gridcolor\": \"white\", \"linecolor\": \"white\", \"ticks\": \"\"}}, \"title\": {\"x\": 0.05}, \"xaxis\": {\"automargin\": true, \"gridcolor\": \"white\", \"linecolor\": \"white\", \"ticks\": \"\", \"title\": {\"standoff\": 15}, \"zerolinecolor\": \"white\", \"zerolinewidth\": 2}, \"yaxis\": {\"automargin\": true, \"gridcolor\": \"white\", \"linecolor\": \"white\", \"ticks\": \"\", \"title\": {\"standoff\": 15}, \"zerolinecolor\": \"white\", \"zerolinewidth\": 2}}}, \"title\": {\"font\": {\"color\": \"#4D5663\"}, \"text\": \"Prediction by Day\"}, \"xaxis\": {\"gridcolor\": \"#E1E5ED\", \"showgrid\": true, \"tickfont\": {\"color\": \"#4D5663\"}, \"title\": {\"font\": {\"color\": \"#4D5663\"}, \"text\": \"Day\"}, \"zerolinecolor\": \"#E1E5ED\"}, \"yaxis\": {\"gridcolor\": \"#E1E5ED\", \"showgrid\": true, \"tickfont\": {\"color\": \"#4D5663\"}, \"title\": {\"font\": {\"color\": \"#4D5663\"}, \"text\": \"Count\"}, \"zerolinecolor\": \"#E1E5ED\"}},\n",
       "                        {\"showLink\": true, \"linkText\": \"Export to plot.ly\", \"plotlyServerURL\": \"https://plot.ly\", \"responsive\": true}\n",
       "                    ).then(function(){\n",
       "                            \n",
       "var gd = document.getElementById('31193108-6301-446a-ba3b-8c37fdb7c57a');\n",
       "var x = new MutationObserver(function (mutations, observer) {{\n",
       "        var display = window.getComputedStyle(gd).display;\n",
       "        if (!display || display === 'none') {{\n",
       "            console.log([gd, 'removed!']);\n",
       "            Plotly.purge(gd);\n",
       "            observer.disconnect();\n",
       "        }}\n",
       "}});\n",
       "\n",
       "// Listen for the removal of the full notebook cells\n",
       "var notebookContainer = gd.closest('#notebook-container');\n",
       "if (notebookContainer) {{\n",
       "    x.observe(notebookContainer, {childList: true});\n",
       "}}\n",
       "\n",
       "// Listen for the clearing of the current output cell\n",
       "var outputEl = gd.closest('.output');\n",
       "if (outputEl) {{\n",
       "    x.observe(outputEl, {childList: true});\n",
       "}}\n",
       "\n",
       "                        })\n",
       "                };\n",
       "                });\n",
       "            </script>\n",
       "        </div>"
      ]
     },
     "metadata": {},
     "output_type": "display_data"
    }
   ],
   "source": [
    "test_df.groupby('day')['cnt','lr_pred','rf_pred','xgb_pred','lgbm_pred','zip_code'].sum().iplot(kind='scatter', title='Prediction by Day', xTitle='Day', yTitle='Count')"
   ]
  },
  {
   "cell_type": "markdown",
   "metadata": {},
   "source": [
    "<img src=\"https://github.com/jiyoungsim/BigQuery-NYC-Taxi-Demand--EDA-and-Prediction/blob/master/figs/pred_by_day.png?raw=true\">"
   ]
  },
  {
   "cell_type": "code",
   "execution_count": 48,
   "metadata": {},
   "outputs": [
    {
     "data": {
      "application/vnd.plotly.v1+json": {
       "config": {
        "linkText": "Export to plot.ly",
        "plotlyServerURL": "https://plot.ly",
        "showLink": true
       },
       "data": [
        {
         "marker": {
          "color": "rgba(255, 153, 51, 0.6)",
          "line": {
           "color": "rgba(255, 153, 51, 1.0)",
           "width": 1
          }
         },
         "name": "cnt",
         "orientation": "v",
         "text": "",
         "type": "bar",
         "x": [
          "Weekday",
          "Weekend"
         ],
         "y": [
          1605628,
          1344655
         ]
        },
        {
         "marker": {
          "color": "rgba(55, 128, 191, 0.6)",
          "line": {
           "color": "rgba(55, 128, 191, 1.0)",
           "width": 1
          }
         },
         "name": "lr_pred",
         "orientation": "v",
         "text": "",
         "type": "bar",
         "x": [
          "Weekday",
          "Weekend"
         ],
         "y": [
          1569574.0192650233,
          1028994.1832235873
         ]
        },
        {
         "marker": {
          "color": "rgba(50, 171, 96, 0.6)",
          "line": {
           "color": "rgba(50, 171, 96, 1.0)",
           "width": 1
          }
         },
         "name": "rf_pred",
         "orientation": "v",
         "text": "",
         "type": "bar",
         "x": [
          "Weekday",
          "Weekend"
         ],
         "y": [
          2059333.3159999996,
          1368756.299999996
         ]
        },
        {
         "marker": {
          "color": "rgba(128, 0, 128, 0.6)",
          "line": {
           "color": "rgba(128, 0, 128, 1.0)",
           "width": 1
          }
         },
         "name": "xgb_pred",
         "orientation": "v",
         "text": "",
         "type": "bar",
         "x": [
          "Weekday",
          "Weekend"
         ],
         "y": [
          2090095.75,
          1418640
         ]
        },
        {
         "marker": {
          "color": "rgba(219, 64, 82, 0.6)",
          "line": {
           "color": "rgba(219, 64, 82, 1.0)",
           "width": 1
          }
         },
         "name": "lgbm_pred",
         "orientation": "v",
         "text": "",
         "type": "bar",
         "x": [
          "Weekday",
          "Weekend"
         ],
         "y": [
          2068503.3126801746,
          1389863.7909165244
         ]
        }
       ],
       "layout": {
        "legend": {
         "bgcolor": "#F5F6F9",
         "font": {
          "color": "#4D5663"
         }
        },
        "paper_bgcolor": "#F5F6F9",
        "plot_bgcolor": "#F5F6F9",
        "template": {
         "data": {
          "bar": [
           {
            "error_x": {
             "color": "#2a3f5f"
            },
            "error_y": {
             "color": "#2a3f5f"
            },
            "marker": {
             "line": {
              "color": "#E5ECF6",
              "width": 0.5
             }
            },
            "type": "bar"
           }
          ],
          "barpolar": [
           {
            "marker": {
             "line": {
              "color": "#E5ECF6",
              "width": 0.5
             }
            },
            "type": "barpolar"
           }
          ],
          "carpet": [
           {
            "aaxis": {
             "endlinecolor": "#2a3f5f",
             "gridcolor": "white",
             "linecolor": "white",
             "minorgridcolor": "white",
             "startlinecolor": "#2a3f5f"
            },
            "baxis": {
             "endlinecolor": "#2a3f5f",
             "gridcolor": "white",
             "linecolor": "white",
             "minorgridcolor": "white",
             "startlinecolor": "#2a3f5f"
            },
            "type": "carpet"
           }
          ],
          "choropleth": [
           {
            "colorbar": {
             "outlinewidth": 0,
             "ticks": ""
            },
            "type": "choropleth"
           }
          ],
          "contour": [
           {
            "colorbar": {
             "outlinewidth": 0,
             "ticks": ""
            },
            "colorscale": [
             [
              0,
              "#0d0887"
             ],
             [
              0.1111111111111111,
              "#46039f"
             ],
             [
              0.2222222222222222,
              "#7201a8"
             ],
             [
              0.3333333333333333,
              "#9c179e"
             ],
             [
              0.4444444444444444,
              "#bd3786"
             ],
             [
              0.5555555555555556,
              "#d8576b"
             ],
             [
              0.6666666666666666,
              "#ed7953"
             ],
             [
              0.7777777777777778,
              "#fb9f3a"
             ],
             [
              0.8888888888888888,
              "#fdca26"
             ],
             [
              1,
              "#f0f921"
             ]
            ],
            "type": "contour"
           }
          ],
          "contourcarpet": [
           {
            "colorbar": {
             "outlinewidth": 0,
             "ticks": ""
            },
            "type": "contourcarpet"
           }
          ],
          "heatmap": [
           {
            "colorbar": {
             "outlinewidth": 0,
             "ticks": ""
            },
            "colorscale": [
             [
              0,
              "#0d0887"
             ],
             [
              0.1111111111111111,
              "#46039f"
             ],
             [
              0.2222222222222222,
              "#7201a8"
             ],
             [
              0.3333333333333333,
              "#9c179e"
             ],
             [
              0.4444444444444444,
              "#bd3786"
             ],
             [
              0.5555555555555556,
              "#d8576b"
             ],
             [
              0.6666666666666666,
              "#ed7953"
             ],
             [
              0.7777777777777778,
              "#fb9f3a"
             ],
             [
              0.8888888888888888,
              "#fdca26"
             ],
             [
              1,
              "#f0f921"
             ]
            ],
            "type": "heatmap"
           }
          ],
          "heatmapgl": [
           {
            "colorbar": {
             "outlinewidth": 0,
             "ticks": ""
            },
            "colorscale": [
             [
              0,
              "#0d0887"
             ],
             [
              0.1111111111111111,
              "#46039f"
             ],
             [
              0.2222222222222222,
              "#7201a8"
             ],
             [
              0.3333333333333333,
              "#9c179e"
             ],
             [
              0.4444444444444444,
              "#bd3786"
             ],
             [
              0.5555555555555556,
              "#d8576b"
             ],
             [
              0.6666666666666666,
              "#ed7953"
             ],
             [
              0.7777777777777778,
              "#fb9f3a"
             ],
             [
              0.8888888888888888,
              "#fdca26"
             ],
             [
              1,
              "#f0f921"
             ]
            ],
            "type": "heatmapgl"
           }
          ],
          "histogram": [
           {
            "marker": {
             "colorbar": {
              "outlinewidth": 0,
              "ticks": ""
             }
            },
            "type": "histogram"
           }
          ],
          "histogram2d": [
           {
            "colorbar": {
             "outlinewidth": 0,
             "ticks": ""
            },
            "colorscale": [
             [
              0,
              "#0d0887"
             ],
             [
              0.1111111111111111,
              "#46039f"
             ],
             [
              0.2222222222222222,
              "#7201a8"
             ],
             [
              0.3333333333333333,
              "#9c179e"
             ],
             [
              0.4444444444444444,
              "#bd3786"
             ],
             [
              0.5555555555555556,
              "#d8576b"
             ],
             [
              0.6666666666666666,
              "#ed7953"
             ],
             [
              0.7777777777777778,
              "#fb9f3a"
             ],
             [
              0.8888888888888888,
              "#fdca26"
             ],
             [
              1,
              "#f0f921"
             ]
            ],
            "type": "histogram2d"
           }
          ],
          "histogram2dcontour": [
           {
            "colorbar": {
             "outlinewidth": 0,
             "ticks": ""
            },
            "colorscale": [
             [
              0,
              "#0d0887"
             ],
             [
              0.1111111111111111,
              "#46039f"
             ],
             [
              0.2222222222222222,
              "#7201a8"
             ],
             [
              0.3333333333333333,
              "#9c179e"
             ],
             [
              0.4444444444444444,
              "#bd3786"
             ],
             [
              0.5555555555555556,
              "#d8576b"
             ],
             [
              0.6666666666666666,
              "#ed7953"
             ],
             [
              0.7777777777777778,
              "#fb9f3a"
             ],
             [
              0.8888888888888888,
              "#fdca26"
             ],
             [
              1,
              "#f0f921"
             ]
            ],
            "type": "histogram2dcontour"
           }
          ],
          "mesh3d": [
           {
            "colorbar": {
             "outlinewidth": 0,
             "ticks": ""
            },
            "type": "mesh3d"
           }
          ],
          "parcoords": [
           {
            "line": {
             "colorbar": {
              "outlinewidth": 0,
              "ticks": ""
             }
            },
            "type": "parcoords"
           }
          ],
          "pie": [
           {
            "automargin": true,
            "type": "pie"
           }
          ],
          "scatter": [
           {
            "marker": {
             "colorbar": {
              "outlinewidth": 0,
              "ticks": ""
             }
            },
            "type": "scatter"
           }
          ],
          "scatter3d": [
           {
            "line": {
             "colorbar": {
              "outlinewidth": 0,
              "ticks": ""
             }
            },
            "marker": {
             "colorbar": {
              "outlinewidth": 0,
              "ticks": ""
             }
            },
            "type": "scatter3d"
           }
          ],
          "scattercarpet": [
           {
            "marker": {
             "colorbar": {
              "outlinewidth": 0,
              "ticks": ""
             }
            },
            "type": "scattercarpet"
           }
          ],
          "scattergeo": [
           {
            "marker": {
             "colorbar": {
              "outlinewidth": 0,
              "ticks": ""
             }
            },
            "type": "scattergeo"
           }
          ],
          "scattergl": [
           {
            "marker": {
             "colorbar": {
              "outlinewidth": 0,
              "ticks": ""
             }
            },
            "type": "scattergl"
           }
          ],
          "scattermapbox": [
           {
            "marker": {
             "colorbar": {
              "outlinewidth": 0,
              "ticks": ""
             }
            },
            "type": "scattermapbox"
           }
          ],
          "scatterpolar": [
           {
            "marker": {
             "colorbar": {
              "outlinewidth": 0,
              "ticks": ""
             }
            },
            "type": "scatterpolar"
           }
          ],
          "scatterpolargl": [
           {
            "marker": {
             "colorbar": {
              "outlinewidth": 0,
              "ticks": ""
             }
            },
            "type": "scatterpolargl"
           }
          ],
          "scatterternary": [
           {
            "marker": {
             "colorbar": {
              "outlinewidth": 0,
              "ticks": ""
             }
            },
            "type": "scatterternary"
           }
          ],
          "surface": [
           {
            "colorbar": {
             "outlinewidth": 0,
             "ticks": ""
            },
            "colorscale": [
             [
              0,
              "#0d0887"
             ],
             [
              0.1111111111111111,
              "#46039f"
             ],
             [
              0.2222222222222222,
              "#7201a8"
             ],
             [
              0.3333333333333333,
              "#9c179e"
             ],
             [
              0.4444444444444444,
              "#bd3786"
             ],
             [
              0.5555555555555556,
              "#d8576b"
             ],
             [
              0.6666666666666666,
              "#ed7953"
             ],
             [
              0.7777777777777778,
              "#fb9f3a"
             ],
             [
              0.8888888888888888,
              "#fdca26"
             ],
             [
              1,
              "#f0f921"
             ]
            ],
            "type": "surface"
           }
          ],
          "table": [
           {
            "cells": {
             "fill": {
              "color": "#EBF0F8"
             },
             "line": {
              "color": "white"
             }
            },
            "header": {
             "fill": {
              "color": "#C8D4E3"
             },
             "line": {
              "color": "white"
             }
            },
            "type": "table"
           }
          ]
         },
         "layout": {
          "annotationdefaults": {
           "arrowcolor": "#2a3f5f",
           "arrowhead": 0,
           "arrowwidth": 1
          },
          "coloraxis": {
           "colorbar": {
            "outlinewidth": 0,
            "ticks": ""
           }
          },
          "colorscale": {
           "diverging": [
            [
             0,
             "#8e0152"
            ],
            [
             0.1,
             "#c51b7d"
            ],
            [
             0.2,
             "#de77ae"
            ],
            [
             0.3,
             "#f1b6da"
            ],
            [
             0.4,
             "#fde0ef"
            ],
            [
             0.5,
             "#f7f7f7"
            ],
            [
             0.6,
             "#e6f5d0"
            ],
            [
             0.7,
             "#b8e186"
            ],
            [
             0.8,
             "#7fbc41"
            ],
            [
             0.9,
             "#4d9221"
            ],
            [
             1,
             "#276419"
            ]
           ],
           "sequential": [
            [
             0,
             "#0d0887"
            ],
            [
             0.1111111111111111,
             "#46039f"
            ],
            [
             0.2222222222222222,
             "#7201a8"
            ],
            [
             0.3333333333333333,
             "#9c179e"
            ],
            [
             0.4444444444444444,
             "#bd3786"
            ],
            [
             0.5555555555555556,
             "#d8576b"
            ],
            [
             0.6666666666666666,
             "#ed7953"
            ],
            [
             0.7777777777777778,
             "#fb9f3a"
            ],
            [
             0.8888888888888888,
             "#fdca26"
            ],
            [
             1,
             "#f0f921"
            ]
           ],
           "sequentialminus": [
            [
             0,
             "#0d0887"
            ],
            [
             0.1111111111111111,
             "#46039f"
            ],
            [
             0.2222222222222222,
             "#7201a8"
            ],
            [
             0.3333333333333333,
             "#9c179e"
            ],
            [
             0.4444444444444444,
             "#bd3786"
            ],
            [
             0.5555555555555556,
             "#d8576b"
            ],
            [
             0.6666666666666666,
             "#ed7953"
            ],
            [
             0.7777777777777778,
             "#fb9f3a"
            ],
            [
             0.8888888888888888,
             "#fdca26"
            ],
            [
             1,
             "#f0f921"
            ]
           ]
          },
          "colorway": [
           "#636efa",
           "#EF553B",
           "#00cc96",
           "#ab63fa",
           "#FFA15A",
           "#19d3f3",
           "#FF6692",
           "#B6E880",
           "#FF97FF",
           "#FECB52"
          ],
          "font": {
           "color": "#2a3f5f"
          },
          "geo": {
           "bgcolor": "white",
           "lakecolor": "white",
           "landcolor": "#E5ECF6",
           "showlakes": true,
           "showland": true,
           "subunitcolor": "white"
          },
          "hoverlabel": {
           "align": "left"
          },
          "hovermode": "closest",
          "mapbox": {
           "style": "light"
          },
          "paper_bgcolor": "white",
          "plot_bgcolor": "#E5ECF6",
          "polar": {
           "angularaxis": {
            "gridcolor": "white",
            "linecolor": "white",
            "ticks": ""
           },
           "bgcolor": "#E5ECF6",
           "radialaxis": {
            "gridcolor": "white",
            "linecolor": "white",
            "ticks": ""
           }
          },
          "scene": {
           "xaxis": {
            "backgroundcolor": "#E5ECF6",
            "gridcolor": "white",
            "gridwidth": 2,
            "linecolor": "white",
            "showbackground": true,
            "ticks": "",
            "zerolinecolor": "white"
           },
           "yaxis": {
            "backgroundcolor": "#E5ECF6",
            "gridcolor": "white",
            "gridwidth": 2,
            "linecolor": "white",
            "showbackground": true,
            "ticks": "",
            "zerolinecolor": "white"
           },
           "zaxis": {
            "backgroundcolor": "#E5ECF6",
            "gridcolor": "white",
            "gridwidth": 2,
            "linecolor": "white",
            "showbackground": true,
            "ticks": "",
            "zerolinecolor": "white"
           }
          },
          "shapedefaults": {
           "line": {
            "color": "#2a3f5f"
           }
          },
          "ternary": {
           "aaxis": {
            "gridcolor": "white",
            "linecolor": "white",
            "ticks": ""
           },
           "baxis": {
            "gridcolor": "white",
            "linecolor": "white",
            "ticks": ""
           },
           "bgcolor": "#E5ECF6",
           "caxis": {
            "gridcolor": "white",
            "linecolor": "white",
            "ticks": ""
           }
          },
          "title": {
           "x": 0.05
          },
          "xaxis": {
           "automargin": true,
           "gridcolor": "white",
           "linecolor": "white",
           "ticks": "",
           "title": {
            "standoff": 15
           },
           "zerolinecolor": "white",
           "zerolinewidth": 2
          },
          "yaxis": {
           "automargin": true,
           "gridcolor": "white",
           "linecolor": "white",
           "ticks": "",
           "title": {
            "standoff": 15
           },
           "zerolinecolor": "white",
           "zerolinewidth": 2
          }
         }
        },
        "title": {
         "font": {
          "color": "#4D5663"
         },
         "text": "Prediction by Weekday/Weekend"
        },
        "xaxis": {
         "gridcolor": "#E1E5ED",
         "showgrid": true,
         "tickfont": {
          "color": "#4D5663"
         },
         "title": {
          "font": {
           "color": "#4D5663"
          },
          "text": ""
         },
         "zerolinecolor": "#E1E5ED"
        },
        "yaxis": {
         "gridcolor": "#E1E5ED",
         "showgrid": true,
         "tickfont": {
          "color": "#4D5663"
         },
         "title": {
          "font": {
           "color": "#4D5663"
          },
          "text": "Count"
         },
         "zerolinecolor": "#E1E5ED"
        }
       }
      },
      "text/html": [
       "<div>\n",
       "        \n",
       "        \n",
       "            <div id=\"00de11e5-41ba-45df-bfa3-55dffe9f065a\" class=\"plotly-graph-div\" style=\"height:525px; width:100%;\"></div>\n",
       "            <script type=\"text/javascript\">\n",
       "                require([\"plotly\"], function(Plotly) {\n",
       "                    window.PLOTLYENV=window.PLOTLYENV || {};\n",
       "                    window.PLOTLYENV.BASE_URL='https://plot.ly';\n",
       "                    \n",
       "                if (document.getElementById(\"00de11e5-41ba-45df-bfa3-55dffe9f065a\")) {\n",
       "                    Plotly.newPlot(\n",
       "                        '00de11e5-41ba-45df-bfa3-55dffe9f065a',\n",
       "                        [{\"marker\": {\"color\": \"rgba(255, 153, 51, 0.6)\", \"line\": {\"color\": \"rgba(255, 153, 51, 1.0)\", \"width\": 1}}, \"name\": \"cnt\", \"orientation\": \"v\", \"text\": \"\", \"type\": \"bar\", \"x\": [\"Weekday\", \"Weekend\"], \"y\": [1605628, 1344655]}, {\"marker\": {\"color\": \"rgba(55, 128, 191, 0.6)\", \"line\": {\"color\": \"rgba(55, 128, 191, 1.0)\", \"width\": 1}}, \"name\": \"lr_pred\", \"orientation\": \"v\", \"text\": \"\", \"type\": \"bar\", \"x\": [\"Weekday\", \"Weekend\"], \"y\": [1569574.0192650233, 1028994.1832235873]}, {\"marker\": {\"color\": \"rgba(50, 171, 96, 0.6)\", \"line\": {\"color\": \"rgba(50, 171, 96, 1.0)\", \"width\": 1}}, \"name\": \"rf_pred\", \"orientation\": \"v\", \"text\": \"\", \"type\": \"bar\", \"x\": [\"Weekday\", \"Weekend\"], \"y\": [2059333.3159999996, 1368756.299999996]}, {\"marker\": {\"color\": \"rgba(128, 0, 128, 0.6)\", \"line\": {\"color\": \"rgba(128, 0, 128, 1.0)\", \"width\": 1}}, \"name\": \"xgb_pred\", \"orientation\": \"v\", \"text\": \"\", \"type\": \"bar\", \"x\": [\"Weekday\", \"Weekend\"], \"y\": [2090095.75, 1418640.0]}, {\"marker\": {\"color\": \"rgba(219, 64, 82, 0.6)\", \"line\": {\"color\": \"rgba(219, 64, 82, 1.0)\", \"width\": 1}}, \"name\": \"lgbm_pred\", \"orientation\": \"v\", \"text\": \"\", \"type\": \"bar\", \"x\": [\"Weekday\", \"Weekend\"], \"y\": [2068503.3126801746, 1389863.7909165244]}],\n",
       "                        {\"legend\": {\"bgcolor\": \"#F5F6F9\", \"font\": {\"color\": \"#4D5663\"}}, \"paper_bgcolor\": \"#F5F6F9\", \"plot_bgcolor\": \"#F5F6F9\", \"template\": {\"data\": {\"bar\": [{\"error_x\": {\"color\": \"#2a3f5f\"}, \"error_y\": {\"color\": \"#2a3f5f\"}, \"marker\": {\"line\": {\"color\": \"#E5ECF6\", \"width\": 0.5}}, \"type\": \"bar\"}], \"barpolar\": [{\"marker\": {\"line\": {\"color\": \"#E5ECF6\", \"width\": 0.5}}, \"type\": \"barpolar\"}], \"carpet\": [{\"aaxis\": {\"endlinecolor\": \"#2a3f5f\", \"gridcolor\": \"white\", \"linecolor\": \"white\", \"minorgridcolor\": \"white\", \"startlinecolor\": \"#2a3f5f\"}, \"baxis\": {\"endlinecolor\": \"#2a3f5f\", \"gridcolor\": \"white\", \"linecolor\": \"white\", \"minorgridcolor\": \"white\", \"startlinecolor\": \"#2a3f5f\"}, \"type\": \"carpet\"}], \"choropleth\": [{\"colorbar\": {\"outlinewidth\": 0, \"ticks\": \"\"}, \"type\": \"choropleth\"}], \"contour\": [{\"colorbar\": {\"outlinewidth\": 0, \"ticks\": \"\"}, \"colorscale\": [[0.0, \"#0d0887\"], [0.1111111111111111, \"#46039f\"], [0.2222222222222222, \"#7201a8\"], [0.3333333333333333, \"#9c179e\"], [0.4444444444444444, \"#bd3786\"], [0.5555555555555556, \"#d8576b\"], [0.6666666666666666, \"#ed7953\"], [0.7777777777777778, \"#fb9f3a\"], [0.8888888888888888, \"#fdca26\"], [1.0, \"#f0f921\"]], \"type\": \"contour\"}], \"contourcarpet\": [{\"colorbar\": {\"outlinewidth\": 0, \"ticks\": \"\"}, \"type\": \"contourcarpet\"}], \"heatmap\": [{\"colorbar\": {\"outlinewidth\": 0, \"ticks\": \"\"}, \"colorscale\": [[0.0, \"#0d0887\"], [0.1111111111111111, \"#46039f\"], [0.2222222222222222, \"#7201a8\"], [0.3333333333333333, \"#9c179e\"], [0.4444444444444444, \"#bd3786\"], [0.5555555555555556, \"#d8576b\"], [0.6666666666666666, \"#ed7953\"], [0.7777777777777778, \"#fb9f3a\"], [0.8888888888888888, \"#fdca26\"], [1.0, \"#f0f921\"]], \"type\": \"heatmap\"}], \"heatmapgl\": [{\"colorbar\": {\"outlinewidth\": 0, \"ticks\": \"\"}, \"colorscale\": [[0.0, \"#0d0887\"], [0.1111111111111111, \"#46039f\"], [0.2222222222222222, \"#7201a8\"], [0.3333333333333333, \"#9c179e\"], [0.4444444444444444, \"#bd3786\"], [0.5555555555555556, \"#d8576b\"], [0.6666666666666666, \"#ed7953\"], [0.7777777777777778, \"#fb9f3a\"], [0.8888888888888888, \"#fdca26\"], [1.0, \"#f0f921\"]], \"type\": \"heatmapgl\"}], \"histogram\": [{\"marker\": {\"colorbar\": {\"outlinewidth\": 0, \"ticks\": \"\"}}, \"type\": \"histogram\"}], \"histogram2d\": [{\"colorbar\": {\"outlinewidth\": 0, \"ticks\": \"\"}, \"colorscale\": [[0.0, \"#0d0887\"], [0.1111111111111111, \"#46039f\"], [0.2222222222222222, \"#7201a8\"], [0.3333333333333333, \"#9c179e\"], [0.4444444444444444, \"#bd3786\"], [0.5555555555555556, \"#d8576b\"], [0.6666666666666666, \"#ed7953\"], [0.7777777777777778, \"#fb9f3a\"], [0.8888888888888888, \"#fdca26\"], [1.0, \"#f0f921\"]], \"type\": \"histogram2d\"}], \"histogram2dcontour\": [{\"colorbar\": {\"outlinewidth\": 0, \"ticks\": \"\"}, \"colorscale\": [[0.0, \"#0d0887\"], [0.1111111111111111, \"#46039f\"], [0.2222222222222222, \"#7201a8\"], [0.3333333333333333, \"#9c179e\"], [0.4444444444444444, \"#bd3786\"], [0.5555555555555556, \"#d8576b\"], [0.6666666666666666, \"#ed7953\"], [0.7777777777777778, \"#fb9f3a\"], [0.8888888888888888, \"#fdca26\"], [1.0, \"#f0f921\"]], \"type\": \"histogram2dcontour\"}], \"mesh3d\": [{\"colorbar\": {\"outlinewidth\": 0, \"ticks\": \"\"}, \"type\": \"mesh3d\"}], \"parcoords\": [{\"line\": {\"colorbar\": {\"outlinewidth\": 0, \"ticks\": \"\"}}, \"type\": \"parcoords\"}], \"pie\": [{\"automargin\": true, \"type\": \"pie\"}], \"scatter\": [{\"marker\": {\"colorbar\": {\"outlinewidth\": 0, \"ticks\": \"\"}}, \"type\": \"scatter\"}], \"scatter3d\": [{\"line\": {\"colorbar\": {\"outlinewidth\": 0, \"ticks\": \"\"}}, \"marker\": {\"colorbar\": {\"outlinewidth\": 0, \"ticks\": \"\"}}, \"type\": \"scatter3d\"}], \"scattercarpet\": [{\"marker\": {\"colorbar\": {\"outlinewidth\": 0, \"ticks\": \"\"}}, \"type\": \"scattercarpet\"}], \"scattergeo\": [{\"marker\": {\"colorbar\": {\"outlinewidth\": 0, \"ticks\": \"\"}}, \"type\": \"scattergeo\"}], \"scattergl\": [{\"marker\": {\"colorbar\": {\"outlinewidth\": 0, \"ticks\": \"\"}}, \"type\": \"scattergl\"}], \"scattermapbox\": [{\"marker\": {\"colorbar\": {\"outlinewidth\": 0, \"ticks\": \"\"}}, \"type\": \"scattermapbox\"}], \"scatterpolar\": [{\"marker\": {\"colorbar\": {\"outlinewidth\": 0, \"ticks\": \"\"}}, \"type\": \"scatterpolar\"}], \"scatterpolargl\": [{\"marker\": {\"colorbar\": {\"outlinewidth\": 0, \"ticks\": \"\"}}, \"type\": \"scatterpolargl\"}], \"scatterternary\": [{\"marker\": {\"colorbar\": {\"outlinewidth\": 0, \"ticks\": \"\"}}, \"type\": \"scatterternary\"}], \"surface\": [{\"colorbar\": {\"outlinewidth\": 0, \"ticks\": \"\"}, \"colorscale\": [[0.0, \"#0d0887\"], [0.1111111111111111, \"#46039f\"], [0.2222222222222222, \"#7201a8\"], [0.3333333333333333, \"#9c179e\"], [0.4444444444444444, \"#bd3786\"], [0.5555555555555556, \"#d8576b\"], [0.6666666666666666, \"#ed7953\"], [0.7777777777777778, \"#fb9f3a\"], [0.8888888888888888, \"#fdca26\"], [1.0, \"#f0f921\"]], \"type\": \"surface\"}], \"table\": [{\"cells\": {\"fill\": {\"color\": \"#EBF0F8\"}, \"line\": {\"color\": \"white\"}}, \"header\": {\"fill\": {\"color\": \"#C8D4E3\"}, \"line\": {\"color\": \"white\"}}, \"type\": \"table\"}]}, \"layout\": {\"annotationdefaults\": {\"arrowcolor\": \"#2a3f5f\", \"arrowhead\": 0, \"arrowwidth\": 1}, \"coloraxis\": {\"colorbar\": {\"outlinewidth\": 0, \"ticks\": \"\"}}, \"colorscale\": {\"diverging\": [[0, \"#8e0152\"], [0.1, \"#c51b7d\"], [0.2, \"#de77ae\"], [0.3, \"#f1b6da\"], [0.4, \"#fde0ef\"], [0.5, \"#f7f7f7\"], [0.6, \"#e6f5d0\"], [0.7, \"#b8e186\"], [0.8, \"#7fbc41\"], [0.9, \"#4d9221\"], [1, \"#276419\"]], \"sequential\": [[0.0, \"#0d0887\"], [0.1111111111111111, \"#46039f\"], [0.2222222222222222, \"#7201a8\"], [0.3333333333333333, \"#9c179e\"], [0.4444444444444444, \"#bd3786\"], [0.5555555555555556, \"#d8576b\"], [0.6666666666666666, \"#ed7953\"], [0.7777777777777778, \"#fb9f3a\"], [0.8888888888888888, \"#fdca26\"], [1.0, \"#f0f921\"]], \"sequentialminus\": [[0.0, \"#0d0887\"], [0.1111111111111111, \"#46039f\"], [0.2222222222222222, \"#7201a8\"], [0.3333333333333333, \"#9c179e\"], [0.4444444444444444, \"#bd3786\"], [0.5555555555555556, \"#d8576b\"], [0.6666666666666666, \"#ed7953\"], [0.7777777777777778, \"#fb9f3a\"], [0.8888888888888888, \"#fdca26\"], [1.0, \"#f0f921\"]]}, \"colorway\": [\"#636efa\", \"#EF553B\", \"#00cc96\", \"#ab63fa\", \"#FFA15A\", \"#19d3f3\", \"#FF6692\", \"#B6E880\", \"#FF97FF\", \"#FECB52\"], \"font\": {\"color\": \"#2a3f5f\"}, \"geo\": {\"bgcolor\": \"white\", \"lakecolor\": \"white\", \"landcolor\": \"#E5ECF6\", \"showlakes\": true, \"showland\": true, \"subunitcolor\": \"white\"}, \"hoverlabel\": {\"align\": \"left\"}, \"hovermode\": \"closest\", \"mapbox\": {\"style\": \"light\"}, \"paper_bgcolor\": \"white\", \"plot_bgcolor\": \"#E5ECF6\", \"polar\": {\"angularaxis\": {\"gridcolor\": \"white\", \"linecolor\": \"white\", \"ticks\": \"\"}, \"bgcolor\": \"#E5ECF6\", \"radialaxis\": {\"gridcolor\": \"white\", \"linecolor\": \"white\", \"ticks\": \"\"}}, \"scene\": {\"xaxis\": {\"backgroundcolor\": \"#E5ECF6\", \"gridcolor\": \"white\", \"gridwidth\": 2, \"linecolor\": \"white\", \"showbackground\": true, \"ticks\": \"\", \"zerolinecolor\": \"white\"}, \"yaxis\": {\"backgroundcolor\": \"#E5ECF6\", \"gridcolor\": \"white\", \"gridwidth\": 2, \"linecolor\": \"white\", \"showbackground\": true, \"ticks\": \"\", \"zerolinecolor\": \"white\"}, \"zaxis\": {\"backgroundcolor\": \"#E5ECF6\", \"gridcolor\": \"white\", \"gridwidth\": 2, \"linecolor\": \"white\", \"showbackground\": true, \"ticks\": \"\", \"zerolinecolor\": \"white\"}}, \"shapedefaults\": {\"line\": {\"color\": \"#2a3f5f\"}}, \"ternary\": {\"aaxis\": {\"gridcolor\": \"white\", \"linecolor\": \"white\", \"ticks\": \"\"}, \"baxis\": {\"gridcolor\": \"white\", \"linecolor\": \"white\", \"ticks\": \"\"}, \"bgcolor\": \"#E5ECF6\", \"caxis\": {\"gridcolor\": \"white\", \"linecolor\": \"white\", \"ticks\": \"\"}}, \"title\": {\"x\": 0.05}, \"xaxis\": {\"automargin\": true, \"gridcolor\": \"white\", \"linecolor\": \"white\", \"ticks\": \"\", \"title\": {\"standoff\": 15}, \"zerolinecolor\": \"white\", \"zerolinewidth\": 2}, \"yaxis\": {\"automargin\": true, \"gridcolor\": \"white\", \"linecolor\": \"white\", \"ticks\": \"\", \"title\": {\"standoff\": 15}, \"zerolinecolor\": \"white\", \"zerolinewidth\": 2}}}, \"title\": {\"font\": {\"color\": \"#4D5663\"}, \"text\": \"Prediction by Weekday/Weekend\"}, \"xaxis\": {\"gridcolor\": \"#E1E5ED\", \"showgrid\": true, \"tickfont\": {\"color\": \"#4D5663\"}, \"title\": {\"font\": {\"color\": \"#4D5663\"}, \"text\": \"\"}, \"zerolinecolor\": \"#E1E5ED\"}, \"yaxis\": {\"gridcolor\": \"#E1E5ED\", \"showgrid\": true, \"tickfont\": {\"color\": \"#4D5663\"}, \"title\": {\"font\": {\"color\": \"#4D5663\"}, \"text\": \"Count\"}, \"zerolinecolor\": \"#E1E5ED\"}},\n",
       "                        {\"showLink\": true, \"linkText\": \"Export to plot.ly\", \"plotlyServerURL\": \"https://plot.ly\", \"responsive\": true}\n",
       "                    ).then(function(){\n",
       "                            \n",
       "var gd = document.getElementById('00de11e5-41ba-45df-bfa3-55dffe9f065a');\n",
       "var x = new MutationObserver(function (mutations, observer) {{\n",
       "        var display = window.getComputedStyle(gd).display;\n",
       "        if (!display || display === 'none') {{\n",
       "            console.log([gd, 'removed!']);\n",
       "            Plotly.purge(gd);\n",
       "            observer.disconnect();\n",
       "        }}\n",
       "}});\n",
       "\n",
       "// Listen for the removal of the full notebook cells\n",
       "var notebookContainer = gd.closest('#notebook-container');\n",
       "if (notebookContainer) {{\n",
       "    x.observe(notebookContainer, {childList: true});\n",
       "}}\n",
       "\n",
       "// Listen for the clearing of the current output cell\n",
       "var outputEl = gd.closest('.output');\n",
       "if (outputEl) {{\n",
       "    x.observe(outputEl, {childList: true});\n",
       "}}\n",
       "\n",
       "                        })\n",
       "                };\n",
       "                });\n",
       "            </script>\n",
       "        </div>"
      ]
     },
     "metadata": {},
     "output_type": "display_data"
    }
   ],
   "source": [
    "test_df.groupby('is_weekend')['cnt','lr_pred','rf_pred','xgb_pred','lgbm_pred','zip_code'].sum().rename(index={0:'Weekday', 1:'Weekend'}).iplot(kind='bar', title='Prediction by Weekday/Weekend',yTitle='Count')"
   ]
  },
  {
   "cell_type": "markdown",
   "metadata": {},
   "source": [
    "<img src=\"https://github.com/jiyoungsim/BigQuery-NYC-Taxi-Demand--EDA-and-Prediction/blob/master/figs/pred_by_is_weekend.png?raw=true\">"
   ]
  }
 ],
 "metadata": {
  "kernelspec": {
   "display_name": "Python 3",
   "language": "python",
   "name": "python3"
  },
  "language_info": {
   "codemirror_mode": {
    "name": "ipython",
    "version": 3
   },
   "file_extension": ".py",
   "mimetype": "text/x-python",
   "name": "python",
   "nbconvert_exporter": "python",
   "pygments_lexer": "ipython3",
   "version": "3.7.3"
  }
 },
 "nbformat": 4,
 "nbformat_minor": 4
}
