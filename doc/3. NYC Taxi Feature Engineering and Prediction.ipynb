{
 "cells": [
  {
   "cell_type": "markdown",
   "metadata": {},
   "source": [
    "### Goals\n",
    "- Feature engineering\n",
    "    - Datetime\n",
    "    - Reverse geocoding (long/lat --> zip)\n",
    "    - Categorical data (zipcode): label encoding\n",
    "- Prediction Models\n",
    "    - Baseline simple linear model\n",
    "    - XGBoost regressor\n",
    "    - LightGBM regressor\n",
    "    - Random forest regressor\n",
    "    \n",
    "### Import Modules"
   ]
  },
  {
   "cell_type": "code",
   "execution_count": 2,
   "metadata": {
    "_cell_guid": "b1076dfc-b9ad-4769-8c92-a6c4dae69d19",
    "_uuid": "8f2839f25d086af736a60e9eeb907d3b93b6e0e5"
   },
   "outputs": [
    {
     "data": {
      "text/html": [
       "        <script type=\"text/javascript\">\n",
       "        window.PlotlyConfig = {MathJaxConfig: 'local'};\n",
       "        if (window.MathJax) {MathJax.Hub.Config({SVG: {font: \"STIX-Web\"}});}\n",
       "        if (typeof require !== 'undefined') {\n",
       "        require.undef(\"plotly\");\n",
       "        requirejs.config({\n",
       "            paths: {\n",
       "                'plotly': ['https://cdn.plot.ly/plotly-latest.min']\n",
       "            }\n",
       "        });\n",
       "        require(['plotly'], function(Plotly) {\n",
       "            window._Plotly = Plotly;\n",
       "        });\n",
       "        }\n",
       "        </script>\n",
       "        "
      ]
     },
     "metadata": {},
     "output_type": "display_data"
    }
   ],
   "source": [
    "import pandas as pd\n",
    "import numpy as np\n",
    "import matplotlib.pyplot as plt\n",
    "import seaborn as sns\n",
    "import cufflinks as cf\n",
    "import plotly.offline\n",
    "cf.go_offline()\n",
    "cf.set_config_file(offline=False, world_readable=True)\n",
    "\n",
    "from google.cloud import bigquery\n",
    "from sklearn.metrics import mean_absolute_error\n",
    "from sklearn.metrics import mean_squared_error\n",
    "from sklearn.model_selection import GridSearchCV\n",
    "import warnings\n",
    "warnings.filterwarnings('ignore')\n",
    "\n",
    "plt.style.use('ggplot')\n",
    "%matplotlib inline"
   ]
  },
  {
   "cell_type": "markdown",
   "metadata": {},
   "source": [
    "### Load Data\n",
    "Assume we're making prediction at certain date. Information like number of passengers, trip distance, dropoff location, etc. will not be available for future trips so we will only use pickup location and time."
   ]
  },
  {
   "cell_type": "code",
   "execution_count": 3,
   "metadata": {},
   "outputs": [
    {
     "name": "stdout",
     "output_type": "stream",
     "text": [
      "Using Kaggle's public dataset BigQuery integration.\n"
     ]
    }
   ],
   "source": [
    "client = bigquery.Client()"
   ]
  },
  {
   "cell_type": "code",
   "execution_count": 4,
   "metadata": {},
   "outputs": [
    {
     "data": {
      "text/html": [
       "<div>\n",
       "<style scoped>\n",
       "    .dataframe tbody tr th:only-of-type {\n",
       "        vertical-align: middle;\n",
       "    }\n",
       "\n",
       "    .dataframe tbody tr th {\n",
       "        vertical-align: top;\n",
       "    }\n",
       "\n",
       "    .dataframe thead th {\n",
       "        text-align: right;\n",
       "    }\n",
       "</style>\n",
       "<table border=\"1\" class=\"dataframe\">\n",
       "  <thead>\n",
       "    <tr style=\"text-align: right;\">\n",
       "      <th></th>\n",
       "      <th>vendor_id</th>\n",
       "      <th>pickup_datetime</th>\n",
       "      <th>dropoff_datetime</th>\n",
       "      <th>passenger_count</th>\n",
       "      <th>trip_distance</th>\n",
       "      <th>pickup_longitude</th>\n",
       "      <th>pickup_latitude</th>\n",
       "      <th>rate_code</th>\n",
       "      <th>store_and_fwd_flag</th>\n",
       "      <th>dropoff_longitude</th>\n",
       "      <th>dropoff_latitude</th>\n",
       "      <th>payment_type</th>\n",
       "      <th>fare_amount</th>\n",
       "      <th>extra</th>\n",
       "      <th>mta_tax</th>\n",
       "      <th>tip_amount</th>\n",
       "      <th>tolls_amount</th>\n",
       "      <th>imp_surcharge</th>\n",
       "      <th>total_amount</th>\n",
       "    </tr>\n",
       "  </thead>\n",
       "  <tbody>\n",
       "    <tr>\n",
       "      <th>0</th>\n",
       "      <td>2</td>\n",
       "      <td>2015-10-19 14:42:59</td>\n",
       "      <td>2015-10-19 14:47:06</td>\n",
       "      <td>2</td>\n",
       "      <td>0.65</td>\n",
       "      <td>-73.964737</td>\n",
       "      <td>40.767078</td>\n",
       "      <td>1.0</td>\n",
       "      <td>N</td>\n",
       "      <td>-73.962372</td>\n",
       "      <td>40.773129</td>\n",
       "      <td>2</td>\n",
       "      <td>5.0</td>\n",
       "      <td>0.0</td>\n",
       "      <td>0.5</td>\n",
       "      <td>0.00</td>\n",
       "      <td>0.0</td>\n",
       "      <td>0.3</td>\n",
       "      <td>5.80</td>\n",
       "    </tr>\n",
       "    <tr>\n",
       "      <th>1</th>\n",
       "      <td>1</td>\n",
       "      <td>2015-11-24 12:28:25</td>\n",
       "      <td>2015-11-24 12:37:33</td>\n",
       "      <td>1</td>\n",
       "      <td>0.60</td>\n",
       "      <td>-73.985336</td>\n",
       "      <td>40.744019</td>\n",
       "      <td>1.0</td>\n",
       "      <td>N</td>\n",
       "      <td>-73.991112</td>\n",
       "      <td>40.748569</td>\n",
       "      <td>1</td>\n",
       "      <td>7.0</td>\n",
       "      <td>0.0</td>\n",
       "      <td>0.5</td>\n",
       "      <td>1.55</td>\n",
       "      <td>0.0</td>\n",
       "      <td>0.3</td>\n",
       "      <td>9.35</td>\n",
       "    </tr>\n",
       "    <tr>\n",
       "      <th>2</th>\n",
       "      <td>2</td>\n",
       "      <td>2015-11-21 20:21:37</td>\n",
       "      <td>2015-11-21 20:44:19</td>\n",
       "      <td>1</td>\n",
       "      <td>2.65</td>\n",
       "      <td>-73.972588</td>\n",
       "      <td>40.755905</td>\n",
       "      <td>1.0</td>\n",
       "      <td>N</td>\n",
       "      <td>-74.000000</td>\n",
       "      <td>40.730560</td>\n",
       "      <td>2</td>\n",
       "      <td>15.0</td>\n",
       "      <td>0.5</td>\n",
       "      <td>0.5</td>\n",
       "      <td>0.00</td>\n",
       "      <td>0.0</td>\n",
       "      <td>0.3</td>\n",
       "      <td>16.30</td>\n",
       "    </tr>\n",
       "    <tr>\n",
       "      <th>3</th>\n",
       "      <td>1</td>\n",
       "      <td>2015-08-20 15:19:46</td>\n",
       "      <td>2015-08-20 15:23:58</td>\n",
       "      <td>1</td>\n",
       "      <td>0.60</td>\n",
       "      <td>-73.989464</td>\n",
       "      <td>40.767578</td>\n",
       "      <td>1.0</td>\n",
       "      <td>N</td>\n",
       "      <td>-73.978683</td>\n",
       "      <td>40.765167</td>\n",
       "      <td>2</td>\n",
       "      <td>4.5</td>\n",
       "      <td>0.0</td>\n",
       "      <td>0.5</td>\n",
       "      <td>0.00</td>\n",
       "      <td>0.0</td>\n",
       "      <td>0.3</td>\n",
       "      <td>5.30</td>\n",
       "    </tr>\n",
       "    <tr>\n",
       "      <th>4</th>\n",
       "      <td>2</td>\n",
       "      <td>2015-01-08 20:59:40</td>\n",
       "      <td>2015-01-08 21:09:31</td>\n",
       "      <td>1</td>\n",
       "      <td>1.74</td>\n",
       "      <td>-73.983673</td>\n",
       "      <td>40.765610</td>\n",
       "      <td>NaN</td>\n",
       "      <td>N</td>\n",
       "      <td>-73.976959</td>\n",
       "      <td>40.785778</td>\n",
       "      <td>2</td>\n",
       "      <td>9.0</td>\n",
       "      <td>0.5</td>\n",
       "      <td>0.5</td>\n",
       "      <td>0.00</td>\n",
       "      <td>0.0</td>\n",
       "      <td>0.3</td>\n",
       "      <td>10.30</td>\n",
       "    </tr>\n",
       "  </tbody>\n",
       "</table>\n",
       "</div>"
      ],
      "text/plain": [
       "  vendor_id     pickup_datetime    dropoff_datetime  passenger_count  \\\n",
       "0         2 2015-10-19 14:42:59 2015-10-19 14:47:06                2   \n",
       "1         1 2015-11-24 12:28:25 2015-11-24 12:37:33                1   \n",
       "2         2 2015-11-21 20:21:37 2015-11-21 20:44:19                1   \n",
       "3         1 2015-08-20 15:19:46 2015-08-20 15:23:58                1   \n",
       "4         2 2015-01-08 20:59:40 2015-01-08 21:09:31                1   \n",
       "\n",
       "   trip_distance  pickup_longitude  pickup_latitude  rate_code  \\\n",
       "0           0.65        -73.964737        40.767078        1.0   \n",
       "1           0.60        -73.985336        40.744019        1.0   \n",
       "2           2.65        -73.972588        40.755905        1.0   \n",
       "3           0.60        -73.989464        40.767578        1.0   \n",
       "4           1.74        -73.983673        40.765610        NaN   \n",
       "\n",
       "  store_and_fwd_flag  dropoff_longitude  dropoff_latitude payment_type  \\\n",
       "0                  N         -73.962372         40.773129            2   \n",
       "1                  N         -73.991112         40.748569            1   \n",
       "2                  N         -74.000000         40.730560            2   \n",
       "3                  N         -73.978683         40.765167            2   \n",
       "4                  N         -73.976959         40.785778            2   \n",
       "\n",
       "   fare_amount  extra  mta_tax  tip_amount  tolls_amount  imp_surcharge  \\\n",
       "0          5.0    0.0      0.5        0.00           0.0            0.3   \n",
       "1          7.0    0.0      0.5        1.55           0.0            0.3   \n",
       "2         15.0    0.5      0.5        0.00           0.0            0.3   \n",
       "3          4.5    0.0      0.5        0.00           0.0            0.3   \n",
       "4          9.0    0.5      0.5        0.00           0.0            0.3   \n",
       "\n",
       "   total_amount  \n",
       "0          5.80  \n",
       "1          9.35  \n",
       "2         16.30  \n",
       "3          5.30  \n",
       "4         10.30  "
      ]
     },
     "execution_count": 4,
     "metadata": {},
     "output_type": "execute_result"
    }
   ],
   "source": [
    "dataset_ref = client.dataset('new_york_taxi_trips', project='bigquery-public-data')\n",
    "dataset = client.get_dataset(dataset_ref)\n",
    "table_ref = dataset_ref.table('tlc_yellow_trips_2015')\n",
    "table = client.get_table(table_ref)\n",
    "\n",
    "client.list_rows(table, max_results=5).to_dataframe()"
   ]
  },
  {
   "cell_type": "markdown",
   "metadata": {},
   "source": [
    "Feature engineering for datetime can be done when we load data."
   ]
  },
  {
   "cell_type": "code",
   "execution_count": 5,
   "metadata": {
    "_cell_guid": "79c7e3d0-c299-4dcb-8224-4455121ee9b0",
    "_uuid": "d629ff2d2480ee46fbb7e2d37f6b5fab8052498a"
   },
   "outputs": [
    {
     "name": "stdout",
     "output_type": "stream",
     "text": [
      "CPU times: user 4.95 s, sys: 466 ms, total: 5.42 s\n",
      "Wall time: 11.3 s\n"
     ]
    }
   ],
   "source": [
    "%%time\n",
    "query = '''\n",
    "        WITH base_data AS (\n",
    "          SELECT nyc_taxi.*, gis.* EXCEPT (zip_code_geom)\n",
    "          FROM (\n",
    "            SELECT pickup_longitude, pickup_latitude, pickup_datetime\n",
    "            FROM `bigquery-public-data.new_york_taxi_trips.tlc_yellow_trips_2015`\n",
    "            WHERE EXTRACT(MONTH FROM pickup_datetime) = 1\n",
    "            AND pickup_latitude  <= 90 AND pickup_latitude >= -90\n",
    "            ) AS nyc_taxi\n",
    "          JOIN (\n",
    "            SELECT zip_code, zip_code_geom\n",
    "            FROM `bigquery-public-data.geo_us_boundaries.zip_codes`\n",
    "            WHERE state_code='NY'\n",
    "            ) AS gis\n",
    "          ON ST_CONTAINS(zip_code_geom, st_geogpoint(pickup_longitude, pickup_latitude))\n",
    "        )\n",
    "        SELECT\n",
    "            zip_code,\n",
    "            DATETIME_TRUNC(pickup_datetime, hour) as pickup_hour,\n",
    "            EXTRACT(DAY FROM pickup_datetime) AS day,\n",
    "            CAST(FORMAT_DATETIME('%u', pickup_datetime) AS INT64) - 1 AS dow,\n",
    "            EXTRACT(HOUR FROM pickup_datetime) AS hour,\n",
    "            CASE WHEN CAST(FORMAT_DATETIME('%u',pickup_datetime) AS INT64) IN (6,7) THEN 1 ELSE 0 END AS is_weekend,\n",
    "            COUNT(1) AS cnt\n",
    "        FROM base_data\n",
    "        GROUP BY zip_code, pickup_hour, day, dow, hour, is_weekend\n",
    "        ORDER BY pickup_hour\n",
    "        '''\n",
    "\n",
    "\n",
    "safe_config = bigquery.QueryJobConfig(maximum_bytes_billed = 10**10)\n",
    "query_job = client.query(query, job_config=safe_config)\n",
    "df = query_job.to_dataframe()"
   ]
  },
  {
   "cell_type": "code",
   "execution_count": 6,
   "metadata": {},
   "outputs": [
    {
     "data": {
      "text/html": [
       "<div>\n",
       "<style scoped>\n",
       "    .dataframe tbody tr th:only-of-type {\n",
       "        vertical-align: middle;\n",
       "    }\n",
       "\n",
       "    .dataframe tbody tr th {\n",
       "        vertical-align: top;\n",
       "    }\n",
       "\n",
       "    .dataframe thead th {\n",
       "        text-align: right;\n",
       "    }\n",
       "</style>\n",
       "<table border=\"1\" class=\"dataframe\">\n",
       "  <thead>\n",
       "    <tr style=\"text-align: right;\">\n",
       "      <th></th>\n",
       "      <th>zip_code</th>\n",
       "      <th>pickup_hour</th>\n",
       "      <th>day</th>\n",
       "      <th>dow</th>\n",
       "      <th>hour</th>\n",
       "      <th>is_weekend</th>\n",
       "      <th>cnt</th>\n",
       "    </tr>\n",
       "  </thead>\n",
       "  <tbody>\n",
       "    <tr>\n",
       "      <th>0</th>\n",
       "      <td>10007</td>\n",
       "      <td>2015-01-01</td>\n",
       "      <td>1</td>\n",
       "      <td>3</td>\n",
       "      <td>0</td>\n",
       "      <td>0</td>\n",
       "      <td>191</td>\n",
       "    </tr>\n",
       "    <tr>\n",
       "      <th>1</th>\n",
       "      <td>10006</td>\n",
       "      <td>2015-01-01</td>\n",
       "      <td>1</td>\n",
       "      <td>3</td>\n",
       "      <td>0</td>\n",
       "      <td>0</td>\n",
       "      <td>64</td>\n",
       "    </tr>\n",
       "    <tr>\n",
       "      <th>2</th>\n",
       "      <td>11375</td>\n",
       "      <td>2015-01-01</td>\n",
       "      <td>1</td>\n",
       "      <td>3</td>\n",
       "      <td>0</td>\n",
       "      <td>0</td>\n",
       "      <td>7</td>\n",
       "    </tr>\n",
       "    <tr>\n",
       "      <th>3</th>\n",
       "      <td>11369</td>\n",
       "      <td>2015-01-01</td>\n",
       "      <td>1</td>\n",
       "      <td>3</td>\n",
       "      <td>0</td>\n",
       "      <td>0</td>\n",
       "      <td>14</td>\n",
       "    </tr>\n",
       "    <tr>\n",
       "      <th>4</th>\n",
       "      <td>11104</td>\n",
       "      <td>2015-01-01</td>\n",
       "      <td>1</td>\n",
       "      <td>3</td>\n",
       "      <td>0</td>\n",
       "      <td>0</td>\n",
       "      <td>35</td>\n",
       "    </tr>\n",
       "  </tbody>\n",
       "</table>\n",
       "</div>"
      ],
      "text/plain": [
       "  zip_code pickup_hour  day  dow  hour  is_weekend  cnt\n",
       "0    10007  2015-01-01    1    3     0           0  191\n",
       "1    10006  2015-01-01    1    3     0           0   64\n",
       "2    11375  2015-01-01    1    3     0           0    7\n",
       "3    11369  2015-01-01    1    3     0           0   14\n",
       "4    11104  2015-01-01    1    3     0           0   35"
      ]
     },
     "execution_count": 6,
     "metadata": {},
     "output_type": "execute_result"
    }
   ],
   "source": [
    "df.head()"
   ]
  },
  {
   "cell_type": "code",
   "execution_count": 7,
   "metadata": {},
   "outputs": [
    {
     "name": "stdout",
     "output_type": "stream",
     "text": [
      "<class 'pandas.core.frame.DataFrame'>\n",
      "RangeIndex: 87020 entries, 0 to 87019\n",
      "Data columns (total 7 columns):\n",
      " #   Column       Non-Null Count  Dtype         \n",
      "---  ------       --------------  -----         \n",
      " 0   zip_code     87020 non-null  object        \n",
      " 1   pickup_hour  87020 non-null  datetime64[ns]\n",
      " 2   day          87020 non-null  int64         \n",
      " 3   dow          87020 non-null  int64         \n",
      " 4   hour         87020 non-null  int64         \n",
      " 5   is_weekend   87020 non-null  int64         \n",
      " 6   cnt          87020 non-null  int64         \n",
      "dtypes: datetime64[ns](1), int64(5), object(1)\n",
      "memory usage: 4.6+ MB\n"
     ]
    }
   ],
   "source": [
    "df.info()"
   ]
  },
  {
   "cell_type": "code",
   "execution_count": 8,
   "metadata": {},
   "outputs": [
    {
     "data": {
      "text/html": [
       "<div>\n",
       "<style scoped>\n",
       "    .dataframe tbody tr th:only-of-type {\n",
       "        vertical-align: middle;\n",
       "    }\n",
       "\n",
       "    .dataframe tbody tr th {\n",
       "        vertical-align: top;\n",
       "    }\n",
       "\n",
       "    .dataframe thead th {\n",
       "        text-align: right;\n",
       "    }\n",
       "</style>\n",
       "<table border=\"1\" class=\"dataframe\">\n",
       "  <thead>\n",
       "    <tr style=\"text-align: right;\">\n",
       "      <th></th>\n",
       "      <th>day</th>\n",
       "      <th>dow</th>\n",
       "      <th>hour</th>\n",
       "      <th>is_weekend</th>\n",
       "      <th>cnt</th>\n",
       "    </tr>\n",
       "  </thead>\n",
       "  <tbody>\n",
       "    <tr>\n",
       "      <th>count</th>\n",
       "      <td>87020.000000</td>\n",
       "      <td>87020.000000</td>\n",
       "      <td>87020.000000</td>\n",
       "      <td>87020.000000</td>\n",
       "      <td>87020.000000</td>\n",
       "    </tr>\n",
       "    <tr>\n",
       "      <th>mean</th>\n",
       "      <td>15.871685</td>\n",
       "      <td>3.169593</td>\n",
       "      <td>11.580648</td>\n",
       "      <td>0.303838</td>\n",
       "      <td>141.603080</td>\n",
       "    </tr>\n",
       "    <tr>\n",
       "      <th>std</th>\n",
       "      <td>8.951484</td>\n",
       "      <td>1.936788</td>\n",
       "      <td>6.973099</td>\n",
       "      <td>0.459916</td>\n",
       "      <td>306.902683</td>\n",
       "    </tr>\n",
       "    <tr>\n",
       "      <th>min</th>\n",
       "      <td>1.000000</td>\n",
       "      <td>0.000000</td>\n",
       "      <td>0.000000</td>\n",
       "      <td>0.000000</td>\n",
       "      <td>1.000000</td>\n",
       "    </tr>\n",
       "    <tr>\n",
       "      <th>25%</th>\n",
       "      <td>8.000000</td>\n",
       "      <td>2.000000</td>\n",
       "      <td>6.000000</td>\n",
       "      <td>0.000000</td>\n",
       "      <td>2.000000</td>\n",
       "    </tr>\n",
       "    <tr>\n",
       "      <th>50%</th>\n",
       "      <td>16.000000</td>\n",
       "      <td>3.000000</td>\n",
       "      <td>12.000000</td>\n",
       "      <td>0.000000</td>\n",
       "      <td>12.000000</td>\n",
       "    </tr>\n",
       "    <tr>\n",
       "      <th>75%</th>\n",
       "      <td>24.000000</td>\n",
       "      <td>5.000000</td>\n",
       "      <td>18.000000</td>\n",
       "      <td>1.000000</td>\n",
       "      <td>80.000000</td>\n",
       "    </tr>\n",
       "    <tr>\n",
       "      <th>max</th>\n",
       "      <td>31.000000</td>\n",
       "      <td>6.000000</td>\n",
       "      <td>23.000000</td>\n",
       "      <td>1.000000</td>\n",
       "      <td>2657.000000</td>\n",
       "    </tr>\n",
       "  </tbody>\n",
       "</table>\n",
       "</div>"
      ],
      "text/plain": [
       "                day           dow          hour    is_weekend           cnt\n",
       "count  87020.000000  87020.000000  87020.000000  87020.000000  87020.000000\n",
       "mean      15.871685      3.169593     11.580648      0.303838    141.603080\n",
       "std        8.951484      1.936788      6.973099      0.459916    306.902683\n",
       "min        1.000000      0.000000      0.000000      0.000000      1.000000\n",
       "25%        8.000000      2.000000      6.000000      0.000000      2.000000\n",
       "50%       16.000000      3.000000     12.000000      0.000000     12.000000\n",
       "75%       24.000000      5.000000     18.000000      1.000000     80.000000\n",
       "max       31.000000      6.000000     23.000000      1.000000   2657.000000"
      ]
     },
     "execution_count": 8,
     "metadata": {},
     "output_type": "execute_result"
    }
   ],
   "source": [
    "df.describe()"
   ]
  },
  {
   "cell_type": "markdown",
   "metadata": {},
   "source": [
    "### One Hot Encoding\n",
    "Since we will first train a linear model, we will process one hot encoder to process zipcode."
   ]
  },
  {
   "cell_type": "code",
   "execution_count": 9,
   "metadata": {},
   "outputs": [
    {
     "data": {
      "text/html": [
       "<div>\n",
       "<style scoped>\n",
       "    .dataframe tbody tr th:only-of-type {\n",
       "        vertical-align: middle;\n",
       "    }\n",
       "\n",
       "    .dataframe tbody tr th {\n",
       "        vertical-align: top;\n",
       "    }\n",
       "\n",
       "    .dataframe thead th {\n",
       "        text-align: right;\n",
       "    }\n",
       "</style>\n",
       "<table border=\"1\" class=\"dataframe\">\n",
       "  <thead>\n",
       "    <tr style=\"text-align: right;\">\n",
       "      <th></th>\n",
       "      <th>zip_code</th>\n",
       "      <th>pickup_hour</th>\n",
       "      <th>day</th>\n",
       "      <th>dow</th>\n",
       "      <th>hour</th>\n",
       "      <th>is_weekend</th>\n",
       "      <th>cnt</th>\n",
       "      <th>zip_code_10001</th>\n",
       "      <th>zip_code_10002</th>\n",
       "      <th>zip_code_10003</th>\n",
       "      <th>...</th>\n",
       "      <th>zip_code_12601</th>\n",
       "      <th>zip_code_12729</th>\n",
       "      <th>zip_code_12771</th>\n",
       "      <th>zip_code_13029</th>\n",
       "      <th>zip_code_13118</th>\n",
       "      <th>zip_code_13656</th>\n",
       "      <th>zip_code_13691</th>\n",
       "      <th>zip_code_14072</th>\n",
       "      <th>zip_code_14527</th>\n",
       "      <th>zip_code_14801</th>\n",
       "    </tr>\n",
       "  </thead>\n",
       "  <tbody>\n",
       "    <tr>\n",
       "      <th>0</th>\n",
       "      <td>10007</td>\n",
       "      <td>2015-01-01</td>\n",
       "      <td>1</td>\n",
       "      <td>3</td>\n",
       "      <td>0</td>\n",
       "      <td>0</td>\n",
       "      <td>191</td>\n",
       "      <td>0.0</td>\n",
       "      <td>0.0</td>\n",
       "      <td>0.0</td>\n",
       "      <td>...</td>\n",
       "      <td>0.0</td>\n",
       "      <td>0.0</td>\n",
       "      <td>0.0</td>\n",
       "      <td>0.0</td>\n",
       "      <td>0.0</td>\n",
       "      <td>0.0</td>\n",
       "      <td>0.0</td>\n",
       "      <td>0.0</td>\n",
       "      <td>0.0</td>\n",
       "      <td>0.0</td>\n",
       "    </tr>\n",
       "    <tr>\n",
       "      <th>1</th>\n",
       "      <td>10006</td>\n",
       "      <td>2015-01-01</td>\n",
       "      <td>1</td>\n",
       "      <td>3</td>\n",
       "      <td>0</td>\n",
       "      <td>0</td>\n",
       "      <td>64</td>\n",
       "      <td>0.0</td>\n",
       "      <td>0.0</td>\n",
       "      <td>0.0</td>\n",
       "      <td>...</td>\n",
       "      <td>0.0</td>\n",
       "      <td>0.0</td>\n",
       "      <td>0.0</td>\n",
       "      <td>0.0</td>\n",
       "      <td>0.0</td>\n",
       "      <td>0.0</td>\n",
       "      <td>0.0</td>\n",
       "      <td>0.0</td>\n",
       "      <td>0.0</td>\n",
       "      <td>0.0</td>\n",
       "    </tr>\n",
       "    <tr>\n",
       "      <th>2</th>\n",
       "      <td>11375</td>\n",
       "      <td>2015-01-01</td>\n",
       "      <td>1</td>\n",
       "      <td>3</td>\n",
       "      <td>0</td>\n",
       "      <td>0</td>\n",
       "      <td>7</td>\n",
       "      <td>0.0</td>\n",
       "      <td>0.0</td>\n",
       "      <td>0.0</td>\n",
       "      <td>...</td>\n",
       "      <td>0.0</td>\n",
       "      <td>0.0</td>\n",
       "      <td>0.0</td>\n",
       "      <td>0.0</td>\n",
       "      <td>0.0</td>\n",
       "      <td>0.0</td>\n",
       "      <td>0.0</td>\n",
       "      <td>0.0</td>\n",
       "      <td>0.0</td>\n",
       "      <td>0.0</td>\n",
       "    </tr>\n",
       "    <tr>\n",
       "      <th>3</th>\n",
       "      <td>11369</td>\n",
       "      <td>2015-01-01</td>\n",
       "      <td>1</td>\n",
       "      <td>3</td>\n",
       "      <td>0</td>\n",
       "      <td>0</td>\n",
       "      <td>14</td>\n",
       "      <td>0.0</td>\n",
       "      <td>0.0</td>\n",
       "      <td>0.0</td>\n",
       "      <td>...</td>\n",
       "      <td>0.0</td>\n",
       "      <td>0.0</td>\n",
       "      <td>0.0</td>\n",
       "      <td>0.0</td>\n",
       "      <td>0.0</td>\n",
       "      <td>0.0</td>\n",
       "      <td>0.0</td>\n",
       "      <td>0.0</td>\n",
       "      <td>0.0</td>\n",
       "      <td>0.0</td>\n",
       "    </tr>\n",
       "    <tr>\n",
       "      <th>4</th>\n",
       "      <td>11104</td>\n",
       "      <td>2015-01-01</td>\n",
       "      <td>1</td>\n",
       "      <td>3</td>\n",
       "      <td>0</td>\n",
       "      <td>0</td>\n",
       "      <td>35</td>\n",
       "      <td>0.0</td>\n",
       "      <td>0.0</td>\n",
       "      <td>0.0</td>\n",
       "      <td>...</td>\n",
       "      <td>0.0</td>\n",
       "      <td>0.0</td>\n",
       "      <td>0.0</td>\n",
       "      <td>0.0</td>\n",
       "      <td>0.0</td>\n",
       "      <td>0.0</td>\n",
       "      <td>0.0</td>\n",
       "      <td>0.0</td>\n",
       "      <td>0.0</td>\n",
       "      <td>0.0</td>\n",
       "    </tr>\n",
       "  </tbody>\n",
       "</table>\n",
       "<p>5 rows × 381 columns</p>\n",
       "</div>"
      ],
      "text/plain": [
       "  zip_code pickup_hour  day  dow  hour  is_weekend  cnt  zip_code_10001  \\\n",
       "0    10007  2015-01-01    1    3     0           0  191             0.0   \n",
       "1    10006  2015-01-01    1    3     0           0   64             0.0   \n",
       "2    11375  2015-01-01    1    3     0           0    7             0.0   \n",
       "3    11369  2015-01-01    1    3     0           0   14             0.0   \n",
       "4    11104  2015-01-01    1    3     0           0   35             0.0   \n",
       "\n",
       "   zip_code_10002  zip_code_10003  ...  zip_code_12601  zip_code_12729  \\\n",
       "0             0.0             0.0  ...             0.0             0.0   \n",
       "1             0.0             0.0  ...             0.0             0.0   \n",
       "2             0.0             0.0  ...             0.0             0.0   \n",
       "3             0.0             0.0  ...             0.0             0.0   \n",
       "4             0.0             0.0  ...             0.0             0.0   \n",
       "\n",
       "   zip_code_12771  zip_code_13029  zip_code_13118  zip_code_13656  \\\n",
       "0             0.0             0.0             0.0             0.0   \n",
       "1             0.0             0.0             0.0             0.0   \n",
       "2             0.0             0.0             0.0             0.0   \n",
       "3             0.0             0.0             0.0             0.0   \n",
       "4             0.0             0.0             0.0             0.0   \n",
       "\n",
       "   zip_code_13691  zip_code_14072  zip_code_14527  zip_code_14801  \n",
       "0             0.0             0.0             0.0             0.0  \n",
       "1             0.0             0.0             0.0             0.0  \n",
       "2             0.0             0.0             0.0             0.0  \n",
       "3             0.0             0.0             0.0             0.0  \n",
       "4             0.0             0.0             0.0             0.0  \n",
       "\n",
       "[5 rows x 381 columns]"
      ]
     },
     "execution_count": 9,
     "metadata": {},
     "output_type": "execute_result"
    }
   ],
   "source": [
    "from sklearn.preprocessing import OneHotEncoder\n",
    "enc = OneHotEncoder(handle_unknown='ignore')\n",
    "onehot_output = enc.fit_transform(df[['zip_code']]).toarray()\n",
    "onehot_df = pd.concat([df, pd.DataFrame(onehot_output, columns='zip_code_' + enc.categories_[0])], axis=1)\n",
    "onehot_df.head()"
   ]
  },
  {
   "cell_type": "markdown",
   "metadata": {},
   "source": [
    "### Target Variable Distribution"
   ]
  },
  {
   "cell_type": "code",
   "execution_count": 10,
   "metadata": {},
   "outputs": [
    {
     "data": {
      "image/png": "[encoded data removed]",
      "text/plain": [
       "<Figure size 1440x720 with 1 Axes>"
      ]
     },
     "metadata": {
      "needs_background": "light"
     },
     "output_type": "display_data"
    }
   ],
   "source": [
    "plt.figure(figsize=(20,10))\n",
    "sns.distplot(onehot_df['cnt']);"
   ]
  },
  {
   "cell_type": "code",
   "execution_count": 11,
   "metadata": {},
   "outputs": [],
   "source": [
    "onehot_df['log_cnt'] = np.log(onehot_df['cnt'])"
   ]
  },
  {
   "cell_type": "code",
   "execution_count": 12,
   "metadata": {},
   "outputs": [
    {
     "data": {
      "image/png": "[encoded data removed]",
      "text/plain": [
       "<Figure size 1440x720 with 1 Axes>"
      ]
     },
     "metadata": {
      "needs_background": "light"
     },
     "output_type": "display_data"
    }
   ],
   "source": [
    "plt.figure(figsize=(20,10))\n",
    "sns.distplot(onehot_df['log_cnt']);"
   ]
  },
  {
   "cell_type": "markdown",
   "metadata": {},
   "source": [
    "### Train/Test Split\n",
    "Since our data is time series data, we sill pick a specific date and assume prediction is made on that date. Data prior to the date will be train data and data after the date will be test data."
   ]
  },
  {
   "cell_type": "code",
   "execution_count": 13,
   "metadata": {},
   "outputs": [],
   "source": [
    "def train_test_split(df, date):\n",
    "    '''\n",
    "    Split dataframe into train set and test set\n",
    "    \n",
    "    df: time series df\n",
    "    date: date at which prediction is made\n",
    "    '''\n",
    "    train_df = df[df['pickup_hour'] < date]\n",
    "    test_df = df[df['pickup_hour'] >= date]\n",
    "    return train_df, test_df"
   ]
  },
  {
   "cell_type": "code",
   "execution_count": 14,
   "metadata": {},
   "outputs": [],
   "source": [
    "train_df, test_df = train_test_split(onehot_df, '2015-1-24')"
   ]
  },
  {
   "cell_type": "markdown",
   "metadata": {},
   "source": [
    "Remove unused columns."
   ]
  },
  {
   "cell_type": "code",
   "execution_count": 15,
   "metadata": {},
   "outputs": [],
   "source": [
    "train_df.drop(['pickup_hour', 'zip_code'], axis=1, inplace=True)\n",
    "test_df.drop(['pickup_hour', 'zip_code'], axis=1, inplace=True)"
   ]
  },
  {
   "cell_type": "code",
   "execution_count": 16,
   "metadata": {},
   "outputs": [
    {
     "data": {
      "text/html": [
       "<div>\n",
       "<style scoped>\n",
       "    .dataframe tbody tr th:only-of-type {\n",
       "        vertical-align: middle;\n",
       "    }\n",
       "\n",
       "    .dataframe tbody tr th {\n",
       "        vertical-align: top;\n",
       "    }\n",
       "\n",
       "    .dataframe thead th {\n",
       "        text-align: right;\n",
       "    }\n",
       "</style>\n",
       "<table border=\"1\" class=\"dataframe\">\n",
       "  <thead>\n",
       "    <tr style=\"text-align: right;\">\n",
       "      <th></th>\n",
       "      <th>day</th>\n",
       "      <th>dow</th>\n",
       "      <th>hour</th>\n",
       "      <th>is_weekend</th>\n",
       "      <th>cnt</th>\n",
       "      <th>zip_code_10001</th>\n",
       "      <th>zip_code_10002</th>\n",
       "      <th>zip_code_10003</th>\n",
       "      <th>zip_code_10004</th>\n",
       "      <th>zip_code_10005</th>\n",
       "      <th>...</th>\n",
       "      <th>zip_code_12729</th>\n",
       "      <th>zip_code_12771</th>\n",
       "      <th>zip_code_13029</th>\n",
       "      <th>zip_code_13118</th>\n",
       "      <th>zip_code_13656</th>\n",
       "      <th>zip_code_13691</th>\n",
       "      <th>zip_code_14072</th>\n",
       "      <th>zip_code_14527</th>\n",
       "      <th>zip_code_14801</th>\n",
       "      <th>log_cnt</th>\n",
       "    </tr>\n",
       "  </thead>\n",
       "  <tbody>\n",
       "    <tr>\n",
       "      <th>0</th>\n",
       "      <td>1</td>\n",
       "      <td>3</td>\n",
       "      <td>0</td>\n",
       "      <td>0</td>\n",
       "      <td>191</td>\n",
       "      <td>0.0</td>\n",
       "      <td>0.0</td>\n",
       "      <td>0.0</td>\n",
       "      <td>0.0</td>\n",
       "      <td>0.0</td>\n",
       "      <td>...</td>\n",
       "      <td>0.0</td>\n",
       "      <td>0.0</td>\n",
       "      <td>0.0</td>\n",
       "      <td>0.0</td>\n",
       "      <td>0.0</td>\n",
       "      <td>0.0</td>\n",
       "      <td>0.0</td>\n",
       "      <td>0.0</td>\n",
       "      <td>0.0</td>\n",
       "      <td>5.252273</td>\n",
       "    </tr>\n",
       "    <tr>\n",
       "      <th>1</th>\n",
       "      <td>1</td>\n",
       "      <td>3</td>\n",
       "      <td>0</td>\n",
       "      <td>0</td>\n",
       "      <td>64</td>\n",
       "      <td>0.0</td>\n",
       "      <td>0.0</td>\n",
       "      <td>0.0</td>\n",
       "      <td>0.0</td>\n",
       "      <td>0.0</td>\n",
       "      <td>...</td>\n",
       "      <td>0.0</td>\n",
       "      <td>0.0</td>\n",
       "      <td>0.0</td>\n",
       "      <td>0.0</td>\n",
       "      <td>0.0</td>\n",
       "      <td>0.0</td>\n",
       "      <td>0.0</td>\n",
       "      <td>0.0</td>\n",
       "      <td>0.0</td>\n",
       "      <td>4.158883</td>\n",
       "    </tr>\n",
       "    <tr>\n",
       "      <th>2</th>\n",
       "      <td>1</td>\n",
       "      <td>3</td>\n",
       "      <td>0</td>\n",
       "      <td>0</td>\n",
       "      <td>7</td>\n",
       "      <td>0.0</td>\n",
       "      <td>0.0</td>\n",
       "      <td>0.0</td>\n",
       "      <td>0.0</td>\n",
       "      <td>0.0</td>\n",
       "      <td>...</td>\n",
       "      <td>0.0</td>\n",
       "      <td>0.0</td>\n",
       "      <td>0.0</td>\n",
       "      <td>0.0</td>\n",
       "      <td>0.0</td>\n",
       "      <td>0.0</td>\n",
       "      <td>0.0</td>\n",
       "      <td>0.0</td>\n",
       "      <td>0.0</td>\n",
       "      <td>1.945910</td>\n",
       "    </tr>\n",
       "    <tr>\n",
       "      <th>3</th>\n",
       "      <td>1</td>\n",
       "      <td>3</td>\n",
       "      <td>0</td>\n",
       "      <td>0</td>\n",
       "      <td>14</td>\n",
       "      <td>0.0</td>\n",
       "      <td>0.0</td>\n",
       "      <td>0.0</td>\n",
       "      <td>0.0</td>\n",
       "      <td>0.0</td>\n",
       "      <td>...</td>\n",
       "      <td>0.0</td>\n",
       "      <td>0.0</td>\n",
       "      <td>0.0</td>\n",
       "      <td>0.0</td>\n",
       "      <td>0.0</td>\n",
       "      <td>0.0</td>\n",
       "      <td>0.0</td>\n",
       "      <td>0.0</td>\n",
       "      <td>0.0</td>\n",
       "      <td>2.639057</td>\n",
       "    </tr>\n",
       "    <tr>\n",
       "      <th>4</th>\n",
       "      <td>1</td>\n",
       "      <td>3</td>\n",
       "      <td>0</td>\n",
       "      <td>0</td>\n",
       "      <td>35</td>\n",
       "      <td>0.0</td>\n",
       "      <td>0.0</td>\n",
       "      <td>0.0</td>\n",
       "      <td>0.0</td>\n",
       "      <td>0.0</td>\n",
       "      <td>...</td>\n",
       "      <td>0.0</td>\n",
       "      <td>0.0</td>\n",
       "      <td>0.0</td>\n",
       "      <td>0.0</td>\n",
       "      <td>0.0</td>\n",
       "      <td>0.0</td>\n",
       "      <td>0.0</td>\n",
       "      <td>0.0</td>\n",
       "      <td>0.0</td>\n",
       "      <td>3.555348</td>\n",
       "    </tr>\n",
       "  </tbody>\n",
       "</table>\n",
       "<p>5 rows × 380 columns</p>\n",
       "</div>"
      ],
      "text/plain": [
       "   day  dow  hour  is_weekend  cnt  zip_code_10001  zip_code_10002  \\\n",
       "0    1    3     0           0  191             0.0             0.0   \n",
       "1    1    3     0           0   64             0.0             0.0   \n",
       "2    1    3     0           0    7             0.0             0.0   \n",
       "3    1    3     0           0   14             0.0             0.0   \n",
       "4    1    3     0           0   35             0.0             0.0   \n",
       "\n",
       "   zip_code_10003  zip_code_10004  zip_code_10005  ...  zip_code_12729  \\\n",
       "0             0.0             0.0             0.0  ...             0.0   \n",
       "1             0.0             0.0             0.0  ...             0.0   \n",
       "2             0.0             0.0             0.0  ...             0.0   \n",
       "3             0.0             0.0             0.0  ...             0.0   \n",
       "4             0.0             0.0             0.0  ...             0.0   \n",
       "\n",
       "   zip_code_12771  zip_code_13029  zip_code_13118  zip_code_13656  \\\n",
       "0             0.0             0.0             0.0             0.0   \n",
       "1             0.0             0.0             0.0             0.0   \n",
       "2             0.0             0.0             0.0             0.0   \n",
       "3             0.0             0.0             0.0             0.0   \n",
       "4             0.0             0.0             0.0             0.0   \n",
       "\n",
       "   zip_code_13691  zip_code_14072  zip_code_14527  zip_code_14801   log_cnt  \n",
       "0             0.0             0.0             0.0             0.0  5.252273  \n",
       "1             0.0             0.0             0.0             0.0  4.158883  \n",
       "2             0.0             0.0             0.0             0.0  1.945910  \n",
       "3             0.0             0.0             0.0             0.0  2.639057  \n",
       "4             0.0             0.0             0.0             0.0  3.555348  \n",
       "\n",
       "[5 rows x 380 columns]"
      ]
     },
     "execution_count": 16,
     "metadata": {},
     "output_type": "execute_result"
    }
   ],
   "source": [
    "train_df.head()"
   ]
  },
  {
   "cell_type": "code",
   "execution_count": 17,
   "metadata": {},
   "outputs": [
    {
     "data": {
      "text/html": [
       "<div>\n",
       "<style scoped>\n",
       "    .dataframe tbody tr th:only-of-type {\n",
       "        vertical-align: middle;\n",
       "    }\n",
       "\n",
       "    .dataframe tbody tr th {\n",
       "        vertical-align: top;\n",
       "    }\n",
       "\n",
       "    .dataframe thead th {\n",
       "        text-align: right;\n",
       "    }\n",
       "</style>\n",
       "<table border=\"1\" class=\"dataframe\">\n",
       "  <thead>\n",
       "    <tr style=\"text-align: right;\">\n",
       "      <th></th>\n",
       "      <th>day</th>\n",
       "      <th>dow</th>\n",
       "      <th>hour</th>\n",
       "      <th>is_weekend</th>\n",
       "      <th>cnt</th>\n",
       "      <th>zip_code_10001</th>\n",
       "      <th>zip_code_10002</th>\n",
       "      <th>zip_code_10003</th>\n",
       "      <th>zip_code_10004</th>\n",
       "      <th>zip_code_10005</th>\n",
       "      <th>...</th>\n",
       "      <th>zip_code_12729</th>\n",
       "      <th>zip_code_12771</th>\n",
       "      <th>zip_code_13029</th>\n",
       "      <th>zip_code_13118</th>\n",
       "      <th>zip_code_13656</th>\n",
       "      <th>zip_code_13691</th>\n",
       "      <th>zip_code_14072</th>\n",
       "      <th>zip_code_14527</th>\n",
       "      <th>zip_code_14801</th>\n",
       "      <th>log_cnt</th>\n",
       "    </tr>\n",
       "  </thead>\n",
       "  <tbody>\n",
       "    <tr>\n",
       "      <th>65118</th>\n",
       "      <td>24</td>\n",
       "      <td>5</td>\n",
       "      <td>0</td>\n",
       "      <td>1</td>\n",
       "      <td>6</td>\n",
       "      <td>0.0</td>\n",
       "      <td>0.0</td>\n",
       "      <td>0.0</td>\n",
       "      <td>0.0</td>\n",
       "      <td>0.0</td>\n",
       "      <td>...</td>\n",
       "      <td>0.0</td>\n",
       "      <td>0.0</td>\n",
       "      <td>0.0</td>\n",
       "      <td>0.0</td>\n",
       "      <td>0.0</td>\n",
       "      <td>0.0</td>\n",
       "      <td>0.0</td>\n",
       "      <td>0.0</td>\n",
       "      <td>0.0</td>\n",
       "      <td>1.791759</td>\n",
       "    </tr>\n",
       "    <tr>\n",
       "      <th>65119</th>\n",
       "      <td>24</td>\n",
       "      <td>5</td>\n",
       "      <td>0</td>\n",
       "      <td>1</td>\n",
       "      <td>1480</td>\n",
       "      <td>0.0</td>\n",
       "      <td>1.0</td>\n",
       "      <td>0.0</td>\n",
       "      <td>0.0</td>\n",
       "      <td>0.0</td>\n",
       "      <td>...</td>\n",
       "      <td>0.0</td>\n",
       "      <td>0.0</td>\n",
       "      <td>0.0</td>\n",
       "      <td>0.0</td>\n",
       "      <td>0.0</td>\n",
       "      <td>0.0</td>\n",
       "      <td>0.0</td>\n",
       "      <td>0.0</td>\n",
       "      <td>0.0</td>\n",
       "      <td>7.299797</td>\n",
       "    </tr>\n",
       "    <tr>\n",
       "      <th>65120</th>\n",
       "      <td>24</td>\n",
       "      <td>5</td>\n",
       "      <td>0</td>\n",
       "      <td>1</td>\n",
       "      <td>605</td>\n",
       "      <td>0.0</td>\n",
       "      <td>0.0</td>\n",
       "      <td>0.0</td>\n",
       "      <td>0.0</td>\n",
       "      <td>0.0</td>\n",
       "      <td>...</td>\n",
       "      <td>0.0</td>\n",
       "      <td>0.0</td>\n",
       "      <td>0.0</td>\n",
       "      <td>0.0</td>\n",
       "      <td>0.0</td>\n",
       "      <td>0.0</td>\n",
       "      <td>0.0</td>\n",
       "      <td>0.0</td>\n",
       "      <td>0.0</td>\n",
       "      <td>6.405228</td>\n",
       "    </tr>\n",
       "    <tr>\n",
       "      <th>65121</th>\n",
       "      <td>24</td>\n",
       "      <td>5</td>\n",
       "      <td>0</td>\n",
       "      <td>1</td>\n",
       "      <td>7</td>\n",
       "      <td>0.0</td>\n",
       "      <td>0.0</td>\n",
       "      <td>0.0</td>\n",
       "      <td>0.0</td>\n",
       "      <td>0.0</td>\n",
       "      <td>...</td>\n",
       "      <td>0.0</td>\n",
       "      <td>0.0</td>\n",
       "      <td>0.0</td>\n",
       "      <td>0.0</td>\n",
       "      <td>0.0</td>\n",
       "      <td>0.0</td>\n",
       "      <td>0.0</td>\n",
       "      <td>0.0</td>\n",
       "      <td>0.0</td>\n",
       "      <td>1.945910</td>\n",
       "    </tr>\n",
       "    <tr>\n",
       "      <th>65122</th>\n",
       "      <td>24</td>\n",
       "      <td>5</td>\n",
       "      <td>0</td>\n",
       "      <td>1</td>\n",
       "      <td>1005</td>\n",
       "      <td>0.0</td>\n",
       "      <td>0.0</td>\n",
       "      <td>0.0</td>\n",
       "      <td>0.0</td>\n",
       "      <td>0.0</td>\n",
       "      <td>...</td>\n",
       "      <td>0.0</td>\n",
       "      <td>0.0</td>\n",
       "      <td>0.0</td>\n",
       "      <td>0.0</td>\n",
       "      <td>0.0</td>\n",
       "      <td>0.0</td>\n",
       "      <td>0.0</td>\n",
       "      <td>0.0</td>\n",
       "      <td>0.0</td>\n",
       "      <td>6.912743</td>\n",
       "    </tr>\n",
       "  </tbody>\n",
       "</table>\n",
       "<p>5 rows × 380 columns</p>\n",
       "</div>"
      ],
      "text/plain": [
       "       day  dow  hour  is_weekend   cnt  zip_code_10001  zip_code_10002  \\\n",
       "65118   24    5     0           1     6             0.0             0.0   \n",
       "65119   24    5     0           1  1480             0.0             1.0   \n",
       "65120   24    5     0           1   605             0.0             0.0   \n",
       "65121   24    5     0           1     7             0.0             0.0   \n",
       "65122   24    5     0           1  1005             0.0             0.0   \n",
       "\n",
       "       zip_code_10003  zip_code_10004  zip_code_10005  ...  zip_code_12729  \\\n",
       "65118             0.0             0.0             0.0  ...             0.0   \n",
       "65119             0.0             0.0             0.0  ...             0.0   \n",
       "65120             0.0             0.0             0.0  ...             0.0   \n",
       "65121             0.0             0.0             0.0  ...             0.0   \n",
       "65122             0.0             0.0             0.0  ...             0.0   \n",
       "\n",
       "       zip_code_12771  zip_code_13029  zip_code_13118  zip_code_13656  \\\n",
       "65118             0.0             0.0             0.0             0.0   \n",
       "65119             0.0             0.0             0.0             0.0   \n",
       "65120             0.0             0.0             0.0             0.0   \n",
       "65121             0.0             0.0             0.0             0.0   \n",
       "65122             0.0             0.0             0.0             0.0   \n",
       "\n",
       "       zip_code_13691  zip_code_14072  zip_code_14527  zip_code_14801  \\\n",
       "65118             0.0             0.0             0.0             0.0   \n",
       "65119             0.0             0.0             0.0             0.0   \n",
       "65120             0.0             0.0             0.0             0.0   \n",
       "65121             0.0             0.0             0.0             0.0   \n",
       "65122             0.0             0.0             0.0             0.0   \n",
       "\n",
       "        log_cnt  \n",
       "65118  1.791759  \n",
       "65119  7.299797  \n",
       "65120  6.405228  \n",
       "65121  1.945910  \n",
       "65122  6.912743  \n",
       "\n",
       "[5 rows x 380 columns]"
      ]
     },
     "execution_count": 17,
     "metadata": {},
     "output_type": "execute_result"
    }
   ],
   "source": [
    "test_df.head()"
   ]
  },
  {
   "cell_type": "code",
   "execution_count": 18,
   "metadata": {},
   "outputs": [],
   "source": [
    "y_train_raw = train_df.pop('cnt')\n",
    "y_test_raw = test_df.pop('cnt')\n",
    "y_train_log = train_df.pop('log_cnt')\n",
    "y_test_log = test_df.pop('log_cnt')\n",
    "X_train = train_df.copy()\n",
    "X_test = test_df.copy()"
   ]
  },
  {
   "cell_type": "markdown",
   "metadata": {},
   "source": [
    "### Simple Linear Regression\n",
    "\n",
    "Define function for evaluation."
   ]
  },
  {
   "cell_type": "code",
   "execution_count": 19,
   "metadata": {},
   "outputs": [],
   "source": [
    "def evaluate(y_true, y_pred):\n",
    "    mae = mean_absolute_error(y_true, y_pred)\n",
    "    mse = mean_squared_error(y_true, y_pred)\n",
    "    return {'mae': mae, 'rmse':np.sqrt(mse)}"
   ]
  },
  {
   "cell_type": "markdown",
   "metadata": {},
   "source": [
    "Fit baseline linear regression model."
   ]
  },
  {
   "cell_type": "code",
   "execution_count": 22,
   "metadata": {},
   "outputs": [],
   "source": [
    "from sklearn.linear_model import LinearRegression\n",
    "lr = LinearRegression()\n",
    "lr.fit(X_train, y_train_log)\n",
    "lr_pred = lr.predict(X_test)"
   ]
  },
  {
   "cell_type": "code",
   "execution_count": 23,
   "metadata": {},
   "outputs": [
    {
     "data": {
      "text/plain": [
       "{'mae': 66.94401341676392, 'rmse': 164.38103330429675}"
      ]
     },
     "execution_count": 23,
     "metadata": {},
     "output_type": "execute_result"
    }
   ],
   "source": [
    "lr_eval = evaluate(y_test_raw, np.exp(lr_pred))\n",
    "lr_eval"
   ]
  },
  {
   "cell_type": "code",
   "execution_count": 25,
   "metadata": {},
   "outputs": [
    {
     "data": {
      "image/png": "[encoded data removed]",
      "text/plain": [
       "<Figure size 1440x720 with 1 Axes>"
      ]
     },
     "metadata": {
      "needs_background": "light"
     },
     "output_type": "display_data"
    }
   ],
   "source": [
    "coef = pd.Series(lr.coef_ , index=X_train.columns)\n",
    "coef_sort = coef.sort_values(ascending=False)[:10]\n",
    "\n",
    "plt.figure(figsize=(20,10))\n",
    "sns.barplot(x=coef_sort.values , y=coef_sort.index);"
   ]
  },
  {
   "cell_type": "code",
   "execution_count": 26,
   "metadata": {},
   "outputs": [
    {
     "data": {
      "image/png": "[encoded data removed]",
      "text/plain": [
       "<Figure size 1440x720 with 1 Axes>"
      ]
     },
     "metadata": {
      "needs_background": "light"
     },
     "output_type": "display_data"
    }
   ],
   "source": [
    "plt.figure(figsize=(20,10))\n",
    "sns.barplot(x=coef[['day','dow','hour','is_weekend']] , y=['day','dow','hour','is_weekend']);"
   ]
  },
  {
   "cell_type": "markdown",
   "metadata": {},
   "source": [
    "### Label Encoding\n",
    "Since many of the variables are categorical/ordinal, distance based models may not be our best choice. We will use some tree based models. Use label encoder for tree based models."
   ]
  },
  {
   "cell_type": "code",
   "execution_count": 27,
   "metadata": {},
   "outputs": [],
   "source": [
    "from sklearn.preprocessing import LabelEncoder\n",
    "le = LabelEncoder()\n",
    "df['zip_code_label'] = le.fit_transform(df['zip_code'])"
   ]
  },
  {
   "cell_type": "code",
   "execution_count": 28,
   "metadata": {},
   "outputs": [
    {
     "data": {
      "text/html": [
       "<div>\n",
       "<style scoped>\n",
       "    .dataframe tbody tr th:only-of-type {\n",
       "        vertical-align: middle;\n",
       "    }\n",
       "\n",
       "    .dataframe tbody tr th {\n",
       "        vertical-align: top;\n",
       "    }\n",
       "\n",
       "    .dataframe thead th {\n",
       "        text-align: right;\n",
       "    }\n",
       "</style>\n",
       "<table border=\"1\" class=\"dataframe\">\n",
       "  <thead>\n",
       "    <tr style=\"text-align: right;\">\n",
       "      <th></th>\n",
       "      <th>zip_code</th>\n",
       "      <th>pickup_hour</th>\n",
       "      <th>day</th>\n",
       "      <th>dow</th>\n",
       "      <th>hour</th>\n",
       "      <th>is_weekend</th>\n",
       "      <th>cnt</th>\n",
       "      <th>zip_code_label</th>\n",
       "    </tr>\n",
       "  </thead>\n",
       "  <tbody>\n",
       "    <tr>\n",
       "      <th>0</th>\n",
       "      <td>10007</td>\n",
       "      <td>2015-01-01</td>\n",
       "      <td>1</td>\n",
       "      <td>3</td>\n",
       "      <td>0</td>\n",
       "      <td>0</td>\n",
       "      <td>191</td>\n",
       "      <td>6</td>\n",
       "    </tr>\n",
       "    <tr>\n",
       "      <th>1</th>\n",
       "      <td>10006</td>\n",
       "      <td>2015-01-01</td>\n",
       "      <td>1</td>\n",
       "      <td>3</td>\n",
       "      <td>0</td>\n",
       "      <td>0</td>\n",
       "      <td>64</td>\n",
       "      <td>5</td>\n",
       "    </tr>\n",
       "    <tr>\n",
       "      <th>2</th>\n",
       "      <td>11375</td>\n",
       "      <td>2015-01-01</td>\n",
       "      <td>1</td>\n",
       "      <td>3</td>\n",
       "      <td>0</td>\n",
       "      <td>0</td>\n",
       "      <td>7</td>\n",
       "      <td>249</td>\n",
       "    </tr>\n",
       "    <tr>\n",
       "      <th>3</th>\n",
       "      <td>11369</td>\n",
       "      <td>2015-01-01</td>\n",
       "      <td>1</td>\n",
       "      <td>3</td>\n",
       "      <td>0</td>\n",
       "      <td>0</td>\n",
       "      <td>14</td>\n",
       "      <td>243</td>\n",
       "    </tr>\n",
       "    <tr>\n",
       "      <th>4</th>\n",
       "      <td>11104</td>\n",
       "      <td>2015-01-01</td>\n",
       "      <td>1</td>\n",
       "      <td>3</td>\n",
       "      <td>0</td>\n",
       "      <td>0</td>\n",
       "      <td>35</td>\n",
       "      <td>187</td>\n",
       "    </tr>\n",
       "  </tbody>\n",
       "</table>\n",
       "</div>"
      ],
      "text/plain": [
       "  zip_code pickup_hour  day  dow  hour  is_weekend  cnt  zip_code_label\n",
       "0    10007  2015-01-01    1    3     0           0  191               6\n",
       "1    10006  2015-01-01    1    3     0           0   64               5\n",
       "2    11375  2015-01-01    1    3     0           0    7             249\n",
       "3    11369  2015-01-01    1    3     0           0   14             243\n",
       "4    11104  2015-01-01    1    3     0           0   35             187"
      ]
     },
     "execution_count": 28,
     "metadata": {},
     "output_type": "execute_result"
    }
   ],
   "source": [
    "df.head()"
   ]
  },
  {
   "cell_type": "code",
   "execution_count": 29,
   "metadata": {},
   "outputs": [],
   "source": [
    "train_df, test_df = train_test_split(df, '2015-01-24')"
   ]
  },
  {
   "cell_type": "code",
   "execution_count": 30,
   "metadata": {},
   "outputs": [],
   "source": [
    "train_df.drop(['zip_code','pickup_hour'], axis=1, inplace=True)\n",
    "test_df.drop(['zip_code','pickup_hour'], axis=1, inplace=True)"
   ]
  },
  {
   "cell_type": "code",
   "execution_count": 31,
   "metadata": {},
   "outputs": [],
   "source": [
    "y_train = train_df.pop('cnt')\n",
    "y_test = test_df.pop('cnt')\n",
    "X_train = train_df.copy()\n",
    "X_test = test_df.copy()"
   ]
  },
  {
   "cell_type": "markdown",
   "metadata": {},
   "source": [
    "### Random Forest"
   ]
  },
  {
   "cell_type": "code",
   "execution_count": 32,
   "metadata": {},
   "outputs": [
    {
     "name": "stdout",
     "output_type": "stream",
     "text": [
      "Fitting 3 folds for each of 36 candidates, totalling 108 fits\n"
     ]
    },
    {
     "name": "stderr",
     "output_type": "stream",
     "text": [
      "[Parallel(n_jobs=-1)]: Using backend LokyBackend with 4 concurrent workers.\n",
      "[Parallel(n_jobs=-1)]: Done  33 tasks      | elapsed:  1.1min\n",
      "[Parallel(n_jobs=-1)]: Done 108 out of 108 | elapsed:  6.7min finished\n"
     ]
    },
    {
     "data": {
      "text/plain": [
       "{'max_depth': None, 'max_features': 'auto', 'n_estimators': 200}"
      ]
     },
     "execution_count": 32,
     "metadata": {},
     "output_type": "execute_result"
    }
   ],
   "source": [
    "from sklearn.ensemble import RandomForestRegressor\n",
    "rf = RandomForestRegressor(n_jobs=-1)\n",
    "param = { \n",
    "    'n_estimators': [100, 200, 500],\n",
    "    'max_features': ['auto', 'sqrt', 'log2'],\n",
    "    'max_depth' : [5, 7, 10, None]\n",
    "}\n",
    "\n",
    "rf_grid = GridSearchCV(estimator=rf, param_grid=param, cv=3, verbose=2, n_jobs=-1)\n",
    "rf_grid.fit(X_train, y_train)\n",
    "rf_grid.best_params_"
   ]
  },
  {
   "cell_type": "code",
   "execution_count": 33,
   "metadata": {},
   "outputs": [],
   "source": [
    "rf = RandomForestRegressor(**rf_grid.best_params_, n_jobs=-1)\n",
    "rf.fit(X_train, y_train)\n",
    "rf_pred = rf.predict(X_test)"
   ]
  },
  {
   "cell_type": "code",
   "execution_count": 34,
   "metadata": {},
   "outputs": [
    {
     "data": {
      "text/plain": [
       "{'mae': 34.7352595653365, 'rmse': 109.74407332571265}"
      ]
     },
     "execution_count": 34,
     "metadata": {},
     "output_type": "execute_result"
    }
   ],
   "source": [
    "rf_eval = evaluate(y_test, rf_pred)\n",
    "rf_eval"
   ]
  },
  {
   "cell_type": "code",
   "execution_count": 35,
   "metadata": {},
   "outputs": [
    {
     "data": {
      "image/png": "[encoded data removed]",
      "text/plain": [
       "<Figure size 1440x720 with 1 Axes>"
      ]
     },
     "metadata": {
      "needs_background": "light"
     },
     "output_type": "display_data"
    }
   ],
   "source": [
    "feat_importances = pd.Series(rf.feature_importances_, index=X_train.columns)\n",
    "plt.figure(figsize=(20,10))\n",
    "feat_importances.nlargest(15).plot(kind='barh');"
   ]
  },
  {
   "cell_type": "markdown",
   "metadata": {},
   "source": [
    "### XGBoost"
   ]
  },
  {
   "cell_type": "code",
   "execution_count": 36,
   "metadata": {},
   "outputs": [
    {
     "name": "stdout",
     "output_type": "stream",
     "text": [
      "Fitting 3 folds for each of 432 candidates, totalling 1296 fits\n"
     ]
    },
    {
     "name": "stderr",
     "output_type": "stream",
     "text": [
      "[Parallel(n_jobs=-1)]: Using backend LokyBackend with 4 concurrent workers.\n",
      "[Parallel(n_jobs=-1)]: Done  33 tasks      | elapsed:   23.6s\n",
      "[Parallel(n_jobs=-1)]: Done 154 tasks      | elapsed:  1.8min\n",
      "[Parallel(n_jobs=-1)]: Done 357 tasks      | elapsed:  4.2min\n",
      "[Parallel(n_jobs=-1)]: Done 640 tasks      | elapsed:  8.0min\n",
      "[Parallel(n_jobs=-1)]: Done 1005 tasks      | elapsed: 13.0min\n",
      "[Parallel(n_jobs=-1)]: Done 1296 out of 1296 | elapsed: 17.2min finished\n"
     ]
    },
    {
     "data": {
      "text/plain": [
       "{'colsample_bytree': 1.0,\n",
       " 'gamma': 0,\n",
       " 'max_depth': 6,\n",
       " 'min_child_weight': 1,\n",
       " 'subsample': 1.0}"
      ]
     },
     "execution_count": 36,
     "metadata": {},
     "output_type": "execute_result"
    }
   ],
   "source": [
    "from xgboost import XGBRegressor\n",
    "xgb = XGBRegressor(n_jobs=-1)\n",
    "param = {\n",
    "        'min_child_weight': [1, 5, 10],\n",
    "        'gamma': [0, 0.5, 1, 2],\n",
    "        'subsample': [0.6, 0.8, 1.0],\n",
    "        'colsample_bytree': [0.6, 0.8, 1.0],\n",
    "        'max_depth': [3, 4, 5, 6]\n",
    "        }\n",
    "xgb_grid = GridSearchCV(estimator=xgb, param_grid=param, cv=3, verbose=2, n_jobs=-1)\n",
    "xgb_grid.fit(X_train, y_train)\n",
    "xgb_grid.best_params_"
   ]
  },
  {
   "cell_type": "code",
   "execution_count": 37,
   "metadata": {},
   "outputs": [],
   "source": [
    "xgb = XGBRegressor(**xgb_grid.best_params_, n_jobs=-1)\n",
    "xgb.fit(X_train, y_train)\n",
    "xgb_pred = xgb.predict(X_test)"
   ]
  },
  {
   "cell_type": "code",
   "execution_count": 38,
   "metadata": {},
   "outputs": [
    {
     "data": {
      "text/plain": [
       "{'mae': 41.94814362359171, 'rmse': 115.84705751659453}"
      ]
     },
     "execution_count": 38,
     "metadata": {},
     "output_type": "execute_result"
    }
   ],
   "source": [
    "xgb_eval = evaluate(y_test, xgb_pred)\n",
    "xgb_eval"
   ]
  },
  {
   "cell_type": "code",
   "execution_count": 39,
   "metadata": {},
   "outputs": [
    {
     "data": {
      "image/png": "[encoded data removed]",
      "text/plain": [
       "<Figure size 1440x720 with 1 Axes>"
      ]
     },
     "metadata": {
      "needs_background": "light"
     },
     "output_type": "display_data"
    }
   ],
   "source": [
    "feat_importances = pd.Series(xgb.feature_importances_, index=X_train.columns)\n",
    "plt.figure(figsize=(20,10))\n",
    "feat_importances.nlargest(15).plot(kind='barh');"
   ]
  },
  {
   "cell_type": "markdown",
   "metadata": {},
   "source": [
    "### LightGBM"
   ]
  },
  {
   "cell_type": "code",
   "execution_count": 40,
   "metadata": {},
   "outputs": [
    {
     "name": "stdout",
     "output_type": "stream",
     "text": [
      "Fitting 3 folds for each of 162 candidates, totalling 486 fits\n"
     ]
    },
    {
     "name": "stderr",
     "output_type": "stream",
     "text": [
      "[Parallel(n_jobs=-1)]: Using backend LokyBackend with 4 concurrent workers.\n",
      "[Parallel(n_jobs=-1)]: Done  33 tasks      | elapsed:    3.5s\n",
      "[Parallel(n_jobs=-1)]: Done 154 tasks      | elapsed:   21.3s\n",
      "[Parallel(n_jobs=-1)]: Done 357 tasks      | elapsed:   51.2s\n",
      "[Parallel(n_jobs=-1)]: Done 486 out of 486 | elapsed:  1.2min finished\n"
     ]
    },
    {
     "data": {
      "text/plain": [
       "{'colsample_bytree': 1.0,\n",
       " 'learning_rate': 0.1,\n",
       " 'n_estimators': 200,\n",
       " 'num_leaves': 31,\n",
       " 'subsample': 0.6}"
      ]
     },
     "execution_count": 40,
     "metadata": {},
     "output_type": "execute_result"
    }
   ],
   "source": [
    "from lightgbm import LGBMRegressor\n",
    "lgbm = LGBMRegressor(n_jobs=-1)\n",
    "param = {'learning_rate': [0.01, 0.05, 0.1],\n",
    "    'n_estimators': [50, 100, 200],\n",
    "    'num_leaves': [16, 31], # large num_leaves helps improve accuracy but might lead to over-fitting\n",
    "    'colsample_bytree' : [0.6, 0.8, 1.0],\n",
    "    'subsample' : [0.6, 0.8, 1.0],\n",
    "    }\n",
    "\n",
    "lgbm_grid = GridSearchCV(estimator=lgbm, param_grid=param, cv=3, verbose=2, n_jobs=-1)\n",
    "lgbm_grid.fit(X_train, y_train)\n",
    "lgbm_grid.best_params_"
   ]
  },
  {
   "cell_type": "code",
   "execution_count": 41,
   "metadata": {},
   "outputs": [],
   "source": [
    "lgbm = LGBMRegressor(**lgbm_grid.best_params_, n_jobs=-1)\n",
    "lgbm.fit(X_train, y_train)\n",
    "lgbm_pred = lgbm.predict(X_test)"
   ]
  },
  {
   "cell_type": "code",
   "execution_count": 42,
   "metadata": {},
   "outputs": [],
   "source": [
    "lgbm_eval = evaluate(y_test_raw, lgbm_pred)"
   ]
  },
  {
   "cell_type": "code",
   "execution_count": 43,
   "metadata": {},
   "outputs": [
    {
     "data": {
      "image/png": "[encoded data removed]",
      "text/plain": [
       "<Figure size 1440x720 with 1 Axes>"
      ]
     },
     "metadata": {
      "needs_background": "light"
     },
     "output_type": "display_data"
    }
   ],
   "source": [
    "feat_importances = pd.Series(lgbm.feature_importances_, index=X_train.columns)\n",
    "plt.figure(figsize=(20,10))\n",
    "feat_importances.nlargest(15).plot(kind='barh');"
   ]
  },
  {
   "cell_type": "markdown",
   "metadata": {},
   "source": [
    "### Results\n",
    "Among all the models trained, Random Forest had the best performance."
   ]
  },
  {
   "cell_type": "code",
   "execution_count": 44,
   "metadata": {},
   "outputs": [
    {
     "data": {
      "text/html": [
       "<div>\n",
       "<style scoped>\n",
       "    .dataframe tbody tr th:only-of-type {\n",
       "        vertical-align: middle;\n",
       "    }\n",
       "\n",
       "    .dataframe tbody tr th {\n",
       "        vertical-align: top;\n",
       "    }\n",
       "\n",
       "    .dataframe thead th {\n",
       "        text-align: right;\n",
       "    }\n",
       "</style>\n",
       "<table border=\"1\" class=\"dataframe\">\n",
       "  <thead>\n",
       "    <tr style=\"text-align: right;\">\n",
       "      <th></th>\n",
       "      <th>mae</th>\n",
       "      <th>rmse</th>\n",
       "    </tr>\n",
       "  </thead>\n",
       "  <tbody>\n",
       "    <tr>\n",
       "      <th>linear</th>\n",
       "      <td>66.944013</td>\n",
       "      <td>164.381033</td>\n",
       "    </tr>\n",
       "    <tr>\n",
       "      <th>random forest</th>\n",
       "      <td>34.735260</td>\n",
       "      <td>109.744073</td>\n",
       "    </tr>\n",
       "    <tr>\n",
       "      <th>xgboost</th>\n",
       "      <td>41.948144</td>\n",
       "      <td>115.847058</td>\n",
       "    </tr>\n",
       "    <tr>\n",
       "      <th>lgbm</th>\n",
       "      <td>43.791455</td>\n",
       "      <td>115.520945</td>\n",
       "    </tr>\n",
       "  </tbody>\n",
       "</table>\n",
       "</div>"
      ],
      "text/plain": [
       "                     mae        rmse\n",
       "linear         66.944013  164.381033\n",
       "random forest  34.735260  109.744073\n",
       "xgboost        41.948144  115.847058\n",
       "lgbm           43.791455  115.520945"
      ]
     },
     "execution_count": 44,
     "metadata": {},
     "output_type": "execute_result"
    }
   ],
   "source": [
    "results = pd.DataFrame.from_dict([lr_eval, rf_eval, xgb_eval, lgbm_eval])\n",
    "results.index=['linear','random forest','xgboost','lgbm']\n",
    "results"
   ]
  },
  {
   "cell_type": "code",
   "execution_count": 73,
   "metadata": {},
   "outputs": [],
   "source": [
    "test_df['cnt'] = y_test\n",
    "test_df['lr_pred'] = np.exp(lr_pred)\n",
    "test_df['rf_pred'] = rf_pred\n",
    "test_df['xgb_pred'] = xgb_pred\n",
    "test_df['lgbm_pred'] = lgbm_pred\n",
    "test_df['zip_code'] = le.inverse_transform(test_df['zip_code_label'])\n",
    "test_df['month'] = 1\n",
    "test_df['year'] = 2015\n",
    "test_df['datetime'] = pd.to_datetime(test_df[['year', 'month', 'day', 'hour']])"
   ]
  },
  {
   "cell_type": "code",
   "execution_count": 74,
   "metadata": {},
   "outputs": [
    {
     "data": {
      "text/html": [
       "<div>\n",
       "<style scoped>\n",
       "    .dataframe tbody tr th:only-of-type {\n",
       "        vertical-align: middle;\n",
       "    }\n",
       "\n",
       "    .dataframe tbody tr th {\n",
       "        vertical-align: top;\n",
       "    }\n",
       "\n",
       "    .dataframe thead th {\n",
       "        text-align: right;\n",
       "    }\n",
       "</style>\n",
       "<table border=\"1\" class=\"dataframe\">\n",
       "  <thead>\n",
       "    <tr style=\"text-align: right;\">\n",
       "      <th></th>\n",
       "      <th>day</th>\n",
       "      <th>dow</th>\n",
       "      <th>hour</th>\n",
       "      <th>is_weekend</th>\n",
       "      <th>zip_code_label</th>\n",
       "      <th>cnt</th>\n",
       "      <th>lr_pred</th>\n",
       "      <th>rf_pred</th>\n",
       "      <th>xgb_pred</th>\n",
       "      <th>lgbm_pred</th>\n",
       "      <th>zip_code</th>\n",
       "      <th>month</th>\n",
       "      <th>year</th>\n",
       "      <th>datetime</th>\n",
       "    </tr>\n",
       "  </thead>\n",
       "  <tbody>\n",
       "    <tr>\n",
       "      <th>65118</th>\n",
       "      <td>24</td>\n",
       "      <td>5</td>\n",
       "      <td>0</td>\n",
       "      <td>1</td>\n",
       "      <td>202</td>\n",
       "      <td>6</td>\n",
       "      <td>1.311135</td>\n",
       "      <td>5.680</td>\n",
       "      <td>16.789572</td>\n",
       "      <td>21.184848</td>\n",
       "      <td>11213</td>\n",
       "      <td>1</td>\n",
       "      <td>2015</td>\n",
       "      <td>2015-01-24</td>\n",
       "    </tr>\n",
       "    <tr>\n",
       "      <th>65119</th>\n",
       "      <td>24</td>\n",
       "      <td>5</td>\n",
       "      <td>0</td>\n",
       "      <td>1</td>\n",
       "      <td>1</td>\n",
       "      <td>1480</td>\n",
       "      <td>163.479064</td>\n",
       "      <td>1490.720</td>\n",
       "      <td>1621.870972</td>\n",
       "      <td>1738.217206</td>\n",
       "      <td>10002</td>\n",
       "      <td>1</td>\n",
       "      <td>2015</td>\n",
       "      <td>2015-01-24</td>\n",
       "    </tr>\n",
       "    <tr>\n",
       "      <th>65120</th>\n",
       "      <td>24</td>\n",
       "      <td>5</td>\n",
       "      <td>0</td>\n",
       "      <td>1</td>\n",
       "      <td>20</td>\n",
       "      <td>605</td>\n",
       "      <td>321.297804</td>\n",
       "      <td>824.245</td>\n",
       "      <td>621.297913</td>\n",
       "      <td>502.750420</td>\n",
       "      <td>10023</td>\n",
       "      <td>1</td>\n",
       "      <td>2015</td>\n",
       "      <td>2015-01-24</td>\n",
       "    </tr>\n",
       "    <tr>\n",
       "      <th>65121</th>\n",
       "      <td>24</td>\n",
       "      <td>5</td>\n",
       "      <td>0</td>\n",
       "      <td>1</td>\n",
       "      <td>248</td>\n",
       "      <td>7</td>\n",
       "      <td>1.689343</td>\n",
       "      <td>5.715</td>\n",
       "      <td>7.786663</td>\n",
       "      <td>17.793220</td>\n",
       "      <td>11374</td>\n",
       "      <td>1</td>\n",
       "      <td>2015</td>\n",
       "      <td>2015-01-24</td>\n",
       "    </tr>\n",
       "    <tr>\n",
       "      <th>65122</th>\n",
       "      <td>24</td>\n",
       "      <td>5</td>\n",
       "      <td>0</td>\n",
       "      <td>1</td>\n",
       "      <td>19</td>\n",
       "      <td>1005</td>\n",
       "      <td>521.012990</td>\n",
       "      <td>884.620</td>\n",
       "      <td>877.605042</td>\n",
       "      <td>795.514585</td>\n",
       "      <td>10022</td>\n",
       "      <td>1</td>\n",
       "      <td>2015</td>\n",
       "      <td>2015-01-24</td>\n",
       "    </tr>\n",
       "  </tbody>\n",
       "</table>\n",
       "</div>"
      ],
      "text/plain": [
       "       day  dow  hour  is_weekend  zip_code_label   cnt     lr_pred   rf_pred  \\\n",
       "65118   24    5     0           1             202     6    1.311135     5.680   \n",
       "65119   24    5     0           1               1  1480  163.479064  1490.720   \n",
       "65120   24    5     0           1              20   605  321.297804   824.245   \n",
       "65121   24    5     0           1             248     7    1.689343     5.715   \n",
       "65122   24    5     0           1              19  1005  521.012990   884.620   \n",
       "\n",
       "          xgb_pred    lgbm_pred zip_code  month  year   datetime  \n",
       "65118    16.789572    21.184848    11213      1  2015 2015-01-24  \n",
       "65119  1621.870972  1738.217206    10002      1  2015 2015-01-24  \n",
       "65120   621.297913   502.750420    10023      1  2015 2015-01-24  \n",
       "65121     7.786663    17.793220    11374      1  2015 2015-01-24  \n",
       "65122   877.605042   795.514585    10022      1  2015 2015-01-24  "
      ]
     },
     "execution_count": 74,
     "metadata": {},
     "output_type": "execute_result"
    }
   ],
   "source": [
    "test_df.head()"
   ]
  },
  {
   "cell_type": "code",
   "execution_count": 75,
   "metadata": {},
   "outputs": [
    {
     "data": {
      "application/vnd.plotly.v1+json": {
       "config": {
        "linkText": "Export to plot.ly",
        "plotlyServerURL": "https://plot.ly",
        "showLink": true
       },
       "data": [
        {
         "line": {
          "color": "rgba(255, 153, 51, 1.0)",
          "dash": "solid",
          "shape": "linear",
          "width": 1.3
         },
         "mode": "lines",
         "name": "cnt",
         "text": "",
         "type": "scatter",
         "x": [
          "2015-01-24 00:00:00",
          "2015-01-24 01:00:00",
          "2015-01-24 02:00:00",
          "2015-01-24 03:00:00",
          "2015-01-24 04:00:00",
          "2015-01-24 05:00:00",
          "2015-01-24 06:00:00",
          "2015-01-24 07:00:00",
          "2015-01-24 08:00:00",
          "2015-01-24 09:00:00",
          "2015-01-24 10:00:00",
          "2015-01-24 11:00:00",
          "2015-01-24 12:00:00",
          "2015-01-24 13:00:00",
          "2015-01-24 14:00:00",
          "2015-01-24 15:00:00",
          "2015-01-24 16:00:00",
          "2015-01-24 17:00:00",
          "2015-01-24 18:00:00",
          "2015-01-24 19:00:00",
          "2015-01-24 20:00:00",
          "2015-01-24 21:00:00",
          "2015-01-24 22:00:00",
          "2015-01-24 23:00:00",
          "2015-01-25 00:00:00",
          "2015-01-25 01:00:00",
          "2015-01-25 02:00:00",
          "2015-01-25 03:00:00",
          "2015-01-25 04:00:00",
          "2015-01-25 05:00:00",
          "2015-01-25 06:00:00",
          "2015-01-25 07:00:00",
          "2015-01-25 08:00:00",
          "2015-01-25 09:00:00",
          "2015-01-25 10:00:00",
          "2015-01-25 11:00:00",
          "2015-01-25 12:00:00",
          "2015-01-25 13:00:00",
          "2015-01-25 14:00:00",
          "2015-01-25 15:00:00",
          "2015-01-25 16:00:00",
          "2015-01-25 17:00:00",
          "2015-01-25 18:00:00",
          "2015-01-25 19:00:00",
          "2015-01-25 20:00:00",
          "2015-01-25 21:00:00",
          "2015-01-25 22:00:00",
          "2015-01-25 23:00:00",
          "2015-01-26 00:00:00",
          "2015-01-26 01:00:00",
          "2015-01-26 02:00:00",
          "2015-01-26 03:00:00",
          "2015-01-26 04:00:00",
          "2015-01-26 05:00:00",
          "2015-01-26 06:00:00",
          "2015-01-26 07:00:00",
          "2015-01-26 08:00:00",
          "2015-01-26 09:00:00",
          "2015-01-26 10:00:00",
          "2015-01-26 11:00:00",
          "2015-01-26 12:00:00",
          "2015-01-26 13:00:00",
          "2015-01-26 14:00:00",
          "2015-01-26 15:00:00",
          "2015-01-26 16:00:00",
          "2015-01-26 17:00:00",
          "2015-01-26 18:00:00",
          "2015-01-26 19:00:00",
          "2015-01-26 20:00:00",
          "2015-01-26 21:00:00",
          "2015-01-26 22:00:00",
          "2015-01-26 23:00:00",
          "2015-01-27 00:00:00",
          "2015-01-27 01:00:00",
          "2015-01-27 02:00:00",
          "2015-01-27 03:00:00",
          "2015-01-27 04:00:00",
          "2015-01-27 05:00:00",
          "2015-01-27 06:00:00",
          "2015-01-27 07:00:00",
          "2015-01-27 08:00:00",
          "2015-01-27 09:00:00",
          "2015-01-27 10:00:00",
          "2015-01-27 11:00:00",
          "2015-01-27 12:00:00",
          "2015-01-27 13:00:00",
          "2015-01-27 14:00:00",
          "2015-01-27 15:00:00",
          "2015-01-27 16:00:00",
          "2015-01-27 17:00:00",
          "2015-01-27 18:00:00",
          "2015-01-27 19:00:00",
          "2015-01-27 20:00:00",
          "2015-01-27 21:00:00",
          "2015-01-27 22:00:00",
          "2015-01-27 23:00:00",
          "2015-01-28 00:00:00",
          "2015-01-28 01:00:00",
          "2015-01-28 02:00:00",
          "2015-01-28 03:00:00",
          "2015-01-28 04:00:00",
          "2015-01-28 05:00:00",
          "2015-01-28 06:00:00",
          "2015-01-28 07:00:00",
          "2015-01-28 08:00:00",
          "2015-01-28 09:00:00",
          "2015-01-28 10:00:00",
          "2015-01-28 11:00:00",
          "2015-01-28 12:00:00",
          "2015-01-28 13:00:00",
          "2015-01-28 14:00:00",
          "2015-01-28 15:00:00",
          "2015-01-28 16:00:00",
          "2015-01-28 17:00:00",
          "2015-01-28 18:00:00",
          "2015-01-28 19:00:00",
          "2015-01-28 20:00:00",
          "2015-01-28 21:00:00",
          "2015-01-28 22:00:00",
          "2015-01-28 23:00:00",
          "2015-01-29 00:00:00",
          "2015-01-29 01:00:00",
          "2015-01-29 02:00:00",
          "2015-01-29 03:00:00",
          "2015-01-29 04:00:00",
          "2015-01-29 05:00:00",
          "2015-01-29 06:00:00",
          "2015-01-29 07:00:00",
          "2015-01-29 08:00:00",
          "2015-01-29 09:00:00",
          "2015-01-29 10:00:00",
          "2015-01-29 11:00:00",
          "2015-01-29 12:00:00",
          "2015-01-29 13:00:00",
          "2015-01-29 14:00:00",
          "2015-01-29 15:00:00",
          "2015-01-29 16:00:00",
          "2015-01-29 17:00:00",
          "2015-01-29 18:00:00",
          "2015-01-29 19:00:00",
          "2015-01-29 20:00:00",
          "2015-01-29 21:00:00",
          "2015-01-29 22:00:00",
          "2015-01-29 23:00:00",
          "2015-01-30 00:00:00",
          "2015-01-30 01:00:00",
          "2015-01-30 02:00:00",
          "2015-01-30 03:00:00",
          "2015-01-30 04:00:00",
          "2015-01-30 05:00:00",
          "2015-01-30 06:00:00",
          "2015-01-30 07:00:00",
          "2015-01-30 08:00:00",
          "2015-01-30 09:00:00",
          "2015-01-30 10:00:00",
          "2015-01-30 11:00:00",
          "2015-01-30 12:00:00",
          "2015-01-30 13:00:00",
          "2015-01-30 14:00:00",
          "2015-01-30 15:00:00",
          "2015-01-30 16:00:00",
          "2015-01-30 17:00:00",
          "2015-01-30 18:00:00",
          "2015-01-30 19:00:00",
          "2015-01-30 20:00:00",
          "2015-01-30 21:00:00",
          "2015-01-30 22:00:00",
          "2015-01-30 23:00:00",
          "2015-01-31 00:00:00",
          "2015-01-31 01:00:00",
          "2015-01-31 02:00:00",
          "2015-01-31 03:00:00",
          "2015-01-31 04:00:00",
          "2015-01-31 05:00:00",
          "2015-01-31 06:00:00",
          "2015-01-31 07:00:00",
          "2015-01-31 08:00:00",
          "2015-01-31 09:00:00",
          "2015-01-31 10:00:00",
          "2015-01-31 11:00:00",
          "2015-01-31 12:00:00",
          "2015-01-31 13:00:00",
          "2015-01-31 14:00:00",
          "2015-01-31 15:00:00",
          "2015-01-31 16:00:00",
          "2015-01-31 17:00:00",
          "2015-01-31 18:00:00",
          "2015-01-31 19:00:00",
          "2015-01-31 20:00:00",
          "2015-01-31 21:00:00",
          "2015-01-31 22:00:00",
          "2015-01-31 23:00:00"
         ],
         "y": [
          25761,
          21727,
          14669,
          10794,
          6992,
          3734,
          4673,
          6810,
          10372,
          15198,
          17905,
          20735,
          22522,
          22043,
          20884,
          21439,
          21232,
          23440,
          26589,
          28297,
          23060,
          23102,
          27166,
          28299,
          26986,
          24268,
          20568,
          15597,
          9128,
          3986,
          4079,
          5712,
          7922,
          12564,
          17180,
          20091,
          22206,
          22437,
          21944,
          20507,
          20071,
          21064,
          22144,
          19382,
          17063,
          15918,
          13389,
          10732,
          7024,
          4324,
          2786,
          2284,
          2621,
          4656,
          11491,
          19417,
          22408,
          19914,
          16553,
          16245,
          17079,
          17271,
          14683,
          9829,
          6611,
          6043,
          6568,
          5305,
          4144,
          3305,
          1481,
          290,
          113,
          49,
          36,
          14,
          21,
          48,
          133,
          336,
          957,
          2197,
          3583,
          4627,
          5496,
          5952,
          6707,
          7853,
          9126,
          11746,
          14483,
          12972,
          11726,
          12229,
          11074,
          8844,
          5355,
          3166,
          2113,
          1461,
          1654,
          3547,
          10816,
          19171,
          22276,
          20314,
          16910,
          16271,
          16561,
          16302,
          17774,
          18107,
          16024,
          20185,
          25615,
          26343,
          24479,
          23954,
          22800,
          16206,
          10358,
          5823,
          3799,
          2602,
          2503,
          4166,
          11775,
          20807,
          23615,
          21847,
          19158,
          18252,
          19199,
          18959,
          20437,
          20091,
          16725,
          20749,
          26539,
          27574,
          27273,
          27305,
          25696,
          22543,
          14882,
          9211,
          6054,
          4046,
          3425,
          4413,
          11618,
          21552,
          24965,
          23031,
          20194,
          20098,
          19929,
          20306,
          21776,
          20411,
          17680,
          22669,
          28996,
          31865,
          30884,
          29980,
          30229,
          29561,
          27538,
          22628,
          17948,
          13223,
          8259,
          4088,
          4990,
          7191,
          11960,
          18283,
          21454,
          24366,
          26007,
          25637,
          24013,
          24717,
          22799,
          24928,
          29730,
          31211,
          26592,
          26673,
          29013,
          29026
         ]
        },
        {
         "line": {
          "color": "rgba(55, 128, 191, 1.0)",
          "dash": "solid",
          "shape": "linear",
          "width": 1.3
         },
         "mode": "lines",
         "name": "lr_pred",
         "text": "",
         "type": "scatter",
         "x": [
          "2015-01-24 00:00:00",
          "2015-01-24 01:00:00",
          "2015-01-24 02:00:00",
          "2015-01-24 03:00:00",
          "2015-01-24 04:00:00",
          "2015-01-24 05:00:00",
          "2015-01-24 06:00:00",
          "2015-01-24 07:00:00",
          "2015-01-24 08:00:00",
          "2015-01-24 09:00:00",
          "2015-01-24 10:00:00",
          "2015-01-24 11:00:00",
          "2015-01-24 12:00:00",
          "2015-01-24 13:00:00",
          "2015-01-24 14:00:00",
          "2015-01-24 15:00:00",
          "2015-01-24 16:00:00",
          "2015-01-24 17:00:00",
          "2015-01-24 18:00:00",
          "2015-01-24 19:00:00",
          "2015-01-24 20:00:00",
          "2015-01-24 21:00:00",
          "2015-01-24 22:00:00",
          "2015-01-24 23:00:00",
          "2015-01-25 00:00:00",
          "2015-01-25 01:00:00",
          "2015-01-25 02:00:00",
          "2015-01-25 03:00:00",
          "2015-01-25 04:00:00",
          "2015-01-25 05:00:00",
          "2015-01-25 06:00:00",
          "2015-01-25 07:00:00",
          "2015-01-25 08:00:00",
          "2015-01-25 09:00:00",
          "2015-01-25 10:00:00",
          "2015-01-25 11:00:00",
          "2015-01-25 12:00:00",
          "2015-01-25 13:00:00",
          "2015-01-25 14:00:00",
          "2015-01-25 15:00:00",
          "2015-01-25 16:00:00",
          "2015-01-25 17:00:00",
          "2015-01-25 18:00:00",
          "2015-01-25 19:00:00",
          "2015-01-25 20:00:00",
          "2015-01-25 21:00:00",
          "2015-01-25 22:00:00",
          "2015-01-25 23:00:00",
          "2015-01-26 00:00:00",
          "2015-01-26 01:00:00",
          "2015-01-26 02:00:00",
          "2015-01-26 03:00:00",
          "2015-01-26 04:00:00",
          "2015-01-26 05:00:00",
          "2015-01-26 06:00:00",
          "2015-01-26 07:00:00",
          "2015-01-26 08:00:00",
          "2015-01-26 09:00:00",
          "2015-01-26 10:00:00",
          "2015-01-26 11:00:00",
          "2015-01-26 12:00:00",
          "2015-01-26 13:00:00",
          "2015-01-26 14:00:00",
          "2015-01-26 15:00:00",
          "2015-01-26 16:00:00",
          "2015-01-26 17:00:00",
          "2015-01-26 18:00:00",
          "2015-01-26 19:00:00",
          "2015-01-26 20:00:00",
          "2015-01-26 21:00:00",
          "2015-01-26 22:00:00",
          "2015-01-26 23:00:00",
          "2015-01-27 00:00:00",
          "2015-01-27 01:00:00",
          "2015-01-27 02:00:00",
          "2015-01-27 03:00:00",
          "2015-01-27 04:00:00",
          "2015-01-27 05:00:00",
          "2015-01-27 06:00:00",
          "2015-01-27 07:00:00",
          "2015-01-27 08:00:00",
          "2015-01-27 09:00:00",
          "2015-01-27 10:00:00",
          "2015-01-27 11:00:00",
          "2015-01-27 12:00:00",
          "2015-01-27 13:00:00",
          "2015-01-27 14:00:00",
          "2015-01-27 15:00:00",
          "2015-01-27 16:00:00",
          "2015-01-27 17:00:00",
          "2015-01-27 18:00:00",
          "2015-01-27 19:00:00",
          "2015-01-27 20:00:00",
          "2015-01-27 21:00:00",
          "2015-01-27 22:00:00",
          "2015-01-27 23:00:00",
          "2015-01-28 00:00:00",
          "2015-01-28 01:00:00",
          "2015-01-28 02:00:00",
          "2015-01-28 03:00:00",
          "2015-01-28 04:00:00",
          "2015-01-28 05:00:00",
          "2015-01-28 06:00:00",
          "2015-01-28 07:00:00",
          "2015-01-28 08:00:00",
          "2015-01-28 09:00:00",
          "2015-01-28 10:00:00",
          "2015-01-28 11:00:00",
          "2015-01-28 12:00:00",
          "2015-01-28 13:00:00",
          "2015-01-28 14:00:00",
          "2015-01-28 15:00:00",
          "2015-01-28 16:00:00",
          "2015-01-28 17:00:00",
          "2015-01-28 18:00:00",
          "2015-01-28 19:00:00",
          "2015-01-28 20:00:00",
          "2015-01-28 21:00:00",
          "2015-01-28 22:00:00",
          "2015-01-28 23:00:00",
          "2015-01-29 00:00:00",
          "2015-01-29 01:00:00",
          "2015-01-29 02:00:00",
          "2015-01-29 03:00:00",
          "2015-01-29 04:00:00",
          "2015-01-29 05:00:00",
          "2015-01-29 06:00:00",
          "2015-01-29 07:00:00",
          "2015-01-29 08:00:00",
          "2015-01-29 09:00:00",
          "2015-01-29 10:00:00",
          "2015-01-29 11:00:00",
          "2015-01-29 12:00:00",
          "2015-01-29 13:00:00",
          "2015-01-29 14:00:00",
          "2015-01-29 15:00:00",
          "2015-01-29 16:00:00",
          "2015-01-29 17:00:00",
          "2015-01-29 18:00:00",
          "2015-01-29 19:00:00",
          "2015-01-29 20:00:00",
          "2015-01-29 21:00:00",
          "2015-01-29 22:00:00",
          "2015-01-29 23:00:00",
          "2015-01-30 00:00:00",
          "2015-01-30 01:00:00",
          "2015-01-30 02:00:00",
          "2015-01-30 03:00:00",
          "2015-01-30 04:00:00",
          "2015-01-30 05:00:00",
          "2015-01-30 06:00:00",
          "2015-01-30 07:00:00",
          "2015-01-30 08:00:00",
          "2015-01-30 09:00:00",
          "2015-01-30 10:00:00",
          "2015-01-30 11:00:00",
          "2015-01-30 12:00:00",
          "2015-01-30 13:00:00",
          "2015-01-30 14:00:00",
          "2015-01-30 15:00:00",
          "2015-01-30 16:00:00",
          "2015-01-30 17:00:00",
          "2015-01-30 18:00:00",
          "2015-01-30 19:00:00",
          "2015-01-30 20:00:00",
          "2015-01-30 21:00:00",
          "2015-01-30 22:00:00",
          "2015-01-30 23:00:00",
          "2015-01-31 00:00:00",
          "2015-01-31 01:00:00",
          "2015-01-31 02:00:00",
          "2015-01-31 03:00:00",
          "2015-01-31 04:00:00",
          "2015-01-31 05:00:00",
          "2015-01-31 06:00:00",
          "2015-01-31 07:00:00",
          "2015-01-31 08:00:00",
          "2015-01-31 09:00:00",
          "2015-01-31 10:00:00",
          "2015-01-31 11:00:00",
          "2015-01-31 12:00:00",
          "2015-01-31 13:00:00",
          "2015-01-31 14:00:00",
          "2015-01-31 15:00:00",
          "2015-01-31 16:00:00",
          "2015-01-31 17:00:00",
          "2015-01-31 18:00:00",
          "2015-01-31 19:00:00",
          "2015-01-31 20:00:00",
          "2015-01-31 21:00:00",
          "2015-01-31 22:00:00",
          "2015-01-31 23:00:00"
         ],
         "y": [
          9427.417740972098,
          9746.501074584783,
          9939.213944154752,
          10249.914180807431,
          10599.506259002044,
          11051.736237599305,
          11394.588377372449,
          11830.068225060906,
          12209.911805103899,
          12631.229140482337,
          13038.186787483599,
          13466.743938760332,
          13904.22673890034,
          14373.855338332696,
          14850.87594020034,
          15345.49621244338,
          15860.528684196435,
          16396.06078658894,
          16929.20132882594,
          17495.252467355866,
          18089.285731699896,
          18684.347843390424,
          19320.609447796374,
          19956.715304484103,
          9805.267997774257,
          10136.568403807512,
          10342.427874587973,
          10683.884031865133,
          11167.995958075573,
          11489.445065957709,
          11880.743543781578,
          12280.65842709953,
          12720.016611820516,
          13131.86042580567,
          13587.725438786827,
          14027.312551692874,
          14482.196253936043,
          14957.844638194114,
          15453.36231196212,
          15993.674974619718,
          16519.259163001025,
          17064.367894422478,
          17636.7916296011,
          18210.272424391573,
          18821.983735112804,
          19448.4863164466,
          20091.12281578216,
          20768.178531774447,
          8225.997502711756,
          8469.701698832514,
          8700.699493380798,
          9026.925889941565,
          9287.389990172718,
          9640.304506919128,
          9994.210153308915,
          10343.693132729608,
          10678.669046077235,
          11030.150837565388,
          11367.124162086157,
          11751.22436034964,
          12165.99272961981,
          12564.366009776428,
          12991.882232369151,
          13420.45319007385,
          13861.701933053853,
          14306.359079758227,
          14772.92531263232,
          15276.913964802232,
          15721.797438152651,
          16228.441222490232,
          16448.19144592459,
          16173.483087890869,
          7590.9933326156815,
          5975.476658433435,
          5505.306499410892,
          3745.4867545488482,
          4066.1990020728194,
          6798.454644672664,
          9129.14557436296,
          10145.242096343662,
          10856.649052071165,
          11439.400764283791,
          11783.236806923038,
          12197.316564870729,
          12617.261787065778,
          13038.359882257504,
          13484.083686277678,
          13919.57876917011,
          14389.799965226654,
          14882.371735178627,
          15376.546677363134,
          15893.897509881524,
          16422.808598057465,
          16953.34729849031,
          17551.524591238824,
          18126.930775062185,
          8889.594307171787,
          9055.6217107941,
          9343.986522278366,
          9589.496645341764,
          10007.537048403226,
          10423.584202593009,
          10838.747242503463,
          11191.959646103085,
          11578.32973921692,
          11941.725791609648,
          12336.694005058833,
          12723.377365599772,
          13145.750499505722,
          13583.00770782565,
          14057.77617146984,
          14533.71861065006,
          14998.16774137515,
          15491.519939508977,
          16022.731985616396,
          16567.170115511966,
          17098.599221208668,
          17673.969711342965,
          18274.25534118197,
          18880.829479589484,
          9278.253490932362,
          9562.075249613139,
          9741.884181023397,
          10047.418407695364,
          10495.324709077904,
          10857.027592382152,
          11272.709144444543,
          11647.984120049945,
          12031.631703272757,
          12424.06195032681,
          12824.168956232093,
          13250.469596012754,
          13680.243026508757,
          14142.898707685546,
          14617.68317652385,
          15089.108159653477,
          15586.344770210766,
          16128.363860422282,
          16668.135383491062,
          17225.571904417506,
          17808.71939423867,
          18394.693100593387,
          19021.907688433417,
          19661.324331303163,
          9656.853664559187,
          9972.002318253237,
          10289.164626720032,
          10588.33506258543,
          10928.857509346139,
          11338.606682412408,
          11745.078236305295,
          12134.956785706925,
          12535.951984569849,
          12942.276968073535,
          13341.764758145384,
          13796.292721386511,
          14249.195636852764,
          14732.512373492431,
          15230.802560728003,
          15735.609870337837,
          16248.245898624706,
          16801.272176957104,
          17381.2422204388,
          17930.57776438217,
          18540.032113680052,
          19156.050565947295,
          19787.52385795598,
          20468.99452871878,
          9542.33045650517,
          9868.372260368442,
          10186.704700542323,
          10512.910075807824,
          10862.84163462658,
          11167.67683420707,
          11564.31087066049,
          11961.63425460337,
          12372.006851550703,
          12786.798444679334,
          13213.94549997055,
          13642.150541685827,
          14097.315279148444,
          14564.012071849093,
          15041.896959963087,
          15547.157890260087,
          16071.812522047769,
          16599.017281856795,
          17154.02960692839,
          17719.753488872,
          18323.361039338786,
          18932.365816653677,
          19553.027996682966,
          20217.53125271469
         ]
        },
        {
         "line": {
          "color": "rgba(50, 171, 96, 1.0)",
          "dash": "solid",
          "shape": "linear",
          "width": 1.3
         },
         "mode": "lines",
         "name": "rf_pred",
         "text": "",
         "type": "scatter",
         "x": [
          "2015-01-24 00:00:00",
          "2015-01-24 01:00:00",
          "2015-01-24 02:00:00",
          "2015-01-24 03:00:00",
          "2015-01-24 04:00:00",
          "2015-01-24 05:00:00",
          "2015-01-24 06:00:00",
          "2015-01-24 07:00:00",
          "2015-01-24 08:00:00",
          "2015-01-24 09:00:00",
          "2015-01-24 10:00:00",
          "2015-01-24 11:00:00",
          "2015-01-24 12:00:00",
          "2015-01-24 13:00:00",
          "2015-01-24 14:00:00",
          "2015-01-24 15:00:00",
          "2015-01-24 16:00:00",
          "2015-01-24 17:00:00",
          "2015-01-24 18:00:00",
          "2015-01-24 19:00:00",
          "2015-01-24 20:00:00",
          "2015-01-24 21:00:00",
          "2015-01-24 22:00:00",
          "2015-01-24 23:00:00",
          "2015-01-25 00:00:00",
          "2015-01-25 01:00:00",
          "2015-01-25 02:00:00",
          "2015-01-25 03:00:00",
          "2015-01-25 04:00:00",
          "2015-01-25 05:00:00",
          "2015-01-25 06:00:00",
          "2015-01-25 07:00:00",
          "2015-01-25 08:00:00",
          "2015-01-25 09:00:00",
          "2015-01-25 10:00:00",
          "2015-01-25 11:00:00",
          "2015-01-25 12:00:00",
          "2015-01-25 13:00:00",
          "2015-01-25 14:00:00",
          "2015-01-25 15:00:00",
          "2015-01-25 16:00:00",
          "2015-01-25 17:00:00",
          "2015-01-25 18:00:00",
          "2015-01-25 19:00:00",
          "2015-01-25 20:00:00",
          "2015-01-25 21:00:00",
          "2015-01-25 22:00:00",
          "2015-01-25 23:00:00",
          "2015-01-26 00:00:00",
          "2015-01-26 01:00:00",
          "2015-01-26 02:00:00",
          "2015-01-26 03:00:00",
          "2015-01-26 04:00:00",
          "2015-01-26 05:00:00",
          "2015-01-26 06:00:00",
          "2015-01-26 07:00:00",
          "2015-01-26 08:00:00",
          "2015-01-26 09:00:00",
          "2015-01-26 10:00:00",
          "2015-01-26 11:00:00",
          "2015-01-26 12:00:00",
          "2015-01-26 13:00:00",
          "2015-01-26 14:00:00",
          "2015-01-26 15:00:00",
          "2015-01-26 16:00:00",
          "2015-01-26 17:00:00",
          "2015-01-26 18:00:00",
          "2015-01-26 19:00:00",
          "2015-01-26 20:00:00",
          "2015-01-26 21:00:00",
          "2015-01-26 22:00:00",
          "2015-01-26 23:00:00",
          "2015-01-27 00:00:00",
          "2015-01-27 01:00:00",
          "2015-01-27 02:00:00",
          "2015-01-27 03:00:00",
          "2015-01-27 04:00:00",
          "2015-01-27 05:00:00",
          "2015-01-27 06:00:00",
          "2015-01-27 07:00:00",
          "2015-01-27 08:00:00",
          "2015-01-27 09:00:00",
          "2015-01-27 10:00:00",
          "2015-01-27 11:00:00",
          "2015-01-27 12:00:00",
          "2015-01-27 13:00:00",
          "2015-01-27 14:00:00",
          "2015-01-27 15:00:00",
          "2015-01-27 16:00:00",
          "2015-01-27 17:00:00",
          "2015-01-27 18:00:00",
          "2015-01-27 19:00:00",
          "2015-01-27 20:00:00",
          "2015-01-27 21:00:00",
          "2015-01-27 22:00:00",
          "2015-01-27 23:00:00",
          "2015-01-28 00:00:00",
          "2015-01-28 01:00:00",
          "2015-01-28 02:00:00",
          "2015-01-28 03:00:00",
          "2015-01-28 04:00:00",
          "2015-01-28 05:00:00",
          "2015-01-28 06:00:00",
          "2015-01-28 07:00:00",
          "2015-01-28 08:00:00",
          "2015-01-28 09:00:00",
          "2015-01-28 10:00:00",
          "2015-01-28 11:00:00",
          "2015-01-28 12:00:00",
          "2015-01-28 13:00:00",
          "2015-01-28 14:00:00",
          "2015-01-28 15:00:00",
          "2015-01-28 16:00:00",
          "2015-01-28 17:00:00",
          "2015-01-28 18:00:00",
          "2015-01-28 19:00:00",
          "2015-01-28 20:00:00",
          "2015-01-28 21:00:00",
          "2015-01-28 22:00:00",
          "2015-01-28 23:00:00",
          "2015-01-29 00:00:00",
          "2015-01-29 01:00:00",
          "2015-01-29 02:00:00",
          "2015-01-29 03:00:00",
          "2015-01-29 04:00:00",
          "2015-01-29 05:00:00",
          "2015-01-29 06:00:00",
          "2015-01-29 07:00:00",
          "2015-01-29 08:00:00",
          "2015-01-29 09:00:00",
          "2015-01-29 10:00:00",
          "2015-01-29 11:00:00",
          "2015-01-29 12:00:00",
          "2015-01-29 13:00:00",
          "2015-01-29 14:00:00",
          "2015-01-29 15:00:00",
          "2015-01-29 16:00:00",
          "2015-01-29 17:00:00",
          "2015-01-29 18:00:00",
          "2015-01-29 19:00:00",
          "2015-01-29 20:00:00",
          "2015-01-29 21:00:00",
          "2015-01-29 22:00:00",
          "2015-01-29 23:00:00",
          "2015-01-30 00:00:00",
          "2015-01-30 01:00:00",
          "2015-01-30 02:00:00",
          "2015-01-30 03:00:00",
          "2015-01-30 04:00:00",
          "2015-01-30 05:00:00",
          "2015-01-30 06:00:00",
          "2015-01-30 07:00:00",
          "2015-01-30 08:00:00",
          "2015-01-30 09:00:00",
          "2015-01-30 10:00:00",
          "2015-01-30 11:00:00",
          "2015-01-30 12:00:00",
          "2015-01-30 13:00:00",
          "2015-01-30 14:00:00",
          "2015-01-30 15:00:00",
          "2015-01-30 16:00:00",
          "2015-01-30 17:00:00",
          "2015-01-30 18:00:00",
          "2015-01-30 19:00:00",
          "2015-01-30 20:00:00",
          "2015-01-30 21:00:00",
          "2015-01-30 22:00:00",
          "2015-01-30 23:00:00",
          "2015-01-31 00:00:00",
          "2015-01-31 01:00:00",
          "2015-01-31 02:00:00",
          "2015-01-31 03:00:00",
          "2015-01-31 04:00:00",
          "2015-01-31 05:00:00",
          "2015-01-31 06:00:00",
          "2015-01-31 07:00:00",
          "2015-01-31 08:00:00",
          "2015-01-31 09:00:00",
          "2015-01-31 10:00:00",
          "2015-01-31 11:00:00",
          "2015-01-31 12:00:00",
          "2015-01-31 13:00:00",
          "2015-01-31 14:00:00",
          "2015-01-31 15:00:00",
          "2015-01-31 16:00:00",
          "2015-01-31 17:00:00",
          "2015-01-31 18:00:00",
          "2015-01-31 19:00:00",
          "2015-01-31 20:00:00",
          "2015-01-31 21:00:00",
          "2015-01-31 22:00:00",
          "2015-01-31 23:00:00"
         ],
         "y": [
          25989.295000000006,
          22006.784999999996,
          18183.164999999997,
          13873.139999999998,
          8613.425,
          4180.590000000001,
          4828.655,
          7460.404999999998,
          12265.100000000002,
          16120.67500000001,
          19352.260000000006,
          22109.874999999996,
          23698.77999999999,
          23936.67000000001,
          23881.590000000004,
          23331.31500000001,
          21625.814999999995,
          23289.110000000008,
          27667.430000000004,
          28279.869999999995,
          25457.739999999998,
          25079.655,
          27017.65000000001,
          27622.260000000013,
          26894.155000000006,
          23422.645000000008,
          19879.484999999993,
          15242.839999999998,
          9146.749999999998,
          4150.345,
          4280.885,
          5897.325,
          9969.905,
          14163.485000000002,
          18794.625000000007,
          22486.855000000003,
          24193.530000000013,
          24424.71,
          24370.854999999992,
          22807.89500000001,
          20659.83500000001,
          20855.745000000014,
          21800.895000000008,
          19067.899999999998,
          16813.620000000006,
          16396.975000000002,
          16681.085000000003,
          14987.504999999997,
          10101.125,
          7154.180000000001,
          4931.84,
          3461.4050000000007,
          3067.7399999999993,
          3873.4349999999995,
          7711.950000000003,
          12079.93,
          16123.995000000006,
          16766,
          16934.19,
          17580.114999999994,
          18932.729999999992,
          19252.77999999999,
          20156.905000000002,
          20103.86499999999,
          18555.129999999994,
          20578.574999999997,
          22639.070000000007,
          21649.165000000005,
          19032.904999999995,
          17847.190000000002,
          15612.800000000001,
          11165.700000000003,
          8030.494999999999,
          4036.7600000000007,
          2291.9400000000005,
          838.3199999999999,
          997.4199999999998,
          2575.2650000000003,
          9939.165,
          18975.850000000006,
          23392.51999999999,
          22408.640000000007,
          19433.855,
          18899.019999999993,
          19356.899999999998,
          19268.83000000001,
          20576.305000000004,
          20262.67,
          17752.310000000005,
          21452.95,
          27291.699999999993,
          27113.33,
          25504.575000000008,
          25313.90500000001,
          22655.135,
          16171.865000000005,
          10384.640000000001,
          6581.005000000002,
          4161.000000000001,
          2855.325,
          2673.109999999999,
          4136.755,
          11322.900000000001,
          20889.060000000012,
          24778.87000000001,
          22881.495000000003,
          20093.33000000001,
          19482.355000000007,
          20153.099999999995,
          19815.245000000003,
          21117.610000000004,
          20652.269999999997,
          17671.01500000001,
          21976.22999999999,
          28088.050000000007,
          28572.6,
          26665.449999999993,
          26543.870000000006,
          24463.635000000002,
          18009.265000000003,
          11431.934999999998,
          7237.790000000001,
          4455.465,
          3168.614999999999,
          2850.4649999999997,
          4172.5599999999995,
          11405.830000000002,
          20941.989999999998,
          24793.900000000005,
          22942.5,
          19952.975000000002,
          19536.775000000005,
          20361.310000000005,
          19909.990000000005,
          21360.215000000004,
          20915.785000000003,
          17784.164999999994,
          22069.329999999998,
          28365.625000000004,
          29742.065000000002,
          27984.295000000006,
          28066.064999999984,
          27110.125000000004,
          23174.549999999992,
          15149.190000000006,
          9686.335,
          6470.2599999999975,
          4311.935000000001,
          3593.730000000002,
          4426.074999999999,
          11207.355000000005,
          20414.699999999993,
          23872.005,
          22645.12000000001,
          19863.969999999998,
          19738.444999999992,
          20560.764999999996,
          20400.57499999999,
          21895.630000000005,
          21015.50000000001,
          17908.940000000006,
          22413.11,
          28671.895000000015,
          30289.395000000004,
          28053.644999999997,
          27456.920000000006,
          28269.87,
          27634.235,
          25988.25,
          22001.535,
          18181.209999999992,
          13877.07,
          8615.595,
          4155.469999999999,
          4833.895000000003,
          7446.33,
          12263.810000000001,
          16120.080000000007,
          19370.244999999988,
          22122.82999999999,
          23727.114999999987,
          23945.635,
          23888.984999999993,
          23339.199999999993,
          21636.805,
          23294.65000000001,
          27676.13999999999,
          28291.799999999996,
          25461.524999999998,
          25085.49,
          27014.940000000013,
          27630.215000000004
         ]
        },
        {
         "line": {
          "color": "rgba(128, 0, 128, 1.0)",
          "dash": "solid",
          "shape": "linear",
          "width": 1.3
         },
         "mode": "lines",
         "name": "xgb_pred",
         "text": "",
         "type": "scatter",
         "x": [
          "2015-01-24 00:00:00",
          "2015-01-24 01:00:00",
          "2015-01-24 02:00:00",
          "2015-01-24 03:00:00",
          "2015-01-24 04:00:00",
          "2015-01-24 05:00:00",
          "2015-01-24 06:00:00",
          "2015-01-24 07:00:00",
          "2015-01-24 08:00:00",
          "2015-01-24 09:00:00",
          "2015-01-24 10:00:00",
          "2015-01-24 11:00:00",
          "2015-01-24 12:00:00",
          "2015-01-24 13:00:00",
          "2015-01-24 14:00:00",
          "2015-01-24 15:00:00",
          "2015-01-24 16:00:00",
          "2015-01-24 17:00:00",
          "2015-01-24 18:00:00",
          "2015-01-24 19:00:00",
          "2015-01-24 20:00:00",
          "2015-01-24 21:00:00",
          "2015-01-24 22:00:00",
          "2015-01-24 23:00:00",
          "2015-01-25 00:00:00",
          "2015-01-25 01:00:00",
          "2015-01-25 02:00:00",
          "2015-01-25 03:00:00",
          "2015-01-25 04:00:00",
          "2015-01-25 05:00:00",
          "2015-01-25 06:00:00",
          "2015-01-25 07:00:00",
          "2015-01-25 08:00:00",
          "2015-01-25 09:00:00",
          "2015-01-25 10:00:00",
          "2015-01-25 11:00:00",
          "2015-01-25 12:00:00",
          "2015-01-25 13:00:00",
          "2015-01-25 14:00:00",
          "2015-01-25 15:00:00",
          "2015-01-25 16:00:00",
          "2015-01-25 17:00:00",
          "2015-01-25 18:00:00",
          "2015-01-25 19:00:00",
          "2015-01-25 20:00:00",
          "2015-01-25 21:00:00",
          "2015-01-25 22:00:00",
          "2015-01-25 23:00:00",
          "2015-01-26 00:00:00",
          "2015-01-26 01:00:00",
          "2015-01-26 02:00:00",
          "2015-01-26 03:00:00",
          "2015-01-26 04:00:00",
          "2015-01-26 05:00:00",
          "2015-01-26 06:00:00",
          "2015-01-26 07:00:00",
          "2015-01-26 08:00:00",
          "2015-01-26 09:00:00",
          "2015-01-26 10:00:00",
          "2015-01-26 11:00:00",
          "2015-01-26 12:00:00",
          "2015-01-26 13:00:00",
          "2015-01-26 14:00:00",
          "2015-01-26 15:00:00",
          "2015-01-26 16:00:00",
          "2015-01-26 17:00:00",
          "2015-01-26 18:00:00",
          "2015-01-26 19:00:00",
          "2015-01-26 20:00:00",
          "2015-01-26 21:00:00",
          "2015-01-26 22:00:00",
          "2015-01-26 23:00:00",
          "2015-01-27 00:00:00",
          "2015-01-27 01:00:00",
          "2015-01-27 02:00:00",
          "2015-01-27 03:00:00",
          "2015-01-27 04:00:00",
          "2015-01-27 05:00:00",
          "2015-01-27 06:00:00",
          "2015-01-27 07:00:00",
          "2015-01-27 08:00:00",
          "2015-01-27 09:00:00",
          "2015-01-27 10:00:00",
          "2015-01-27 11:00:00",
          "2015-01-27 12:00:00",
          "2015-01-27 13:00:00",
          "2015-01-27 14:00:00",
          "2015-01-27 15:00:00",
          "2015-01-27 16:00:00",
          "2015-01-27 17:00:00",
          "2015-01-27 18:00:00",
          "2015-01-27 19:00:00",
          "2015-01-27 20:00:00",
          "2015-01-27 21:00:00",
          "2015-01-27 22:00:00",
          "2015-01-27 23:00:00",
          "2015-01-28 00:00:00",
          "2015-01-28 01:00:00",
          "2015-01-28 02:00:00",
          "2015-01-28 03:00:00",
          "2015-01-28 04:00:00",
          "2015-01-28 05:00:00",
          "2015-01-28 06:00:00",
          "2015-01-28 07:00:00",
          "2015-01-28 08:00:00",
          "2015-01-28 09:00:00",
          "2015-01-28 10:00:00",
          "2015-01-28 11:00:00",
          "2015-01-28 12:00:00",
          "2015-01-28 13:00:00",
          "2015-01-28 14:00:00",
          "2015-01-28 15:00:00",
          "2015-01-28 16:00:00",
          "2015-01-28 17:00:00",
          "2015-01-28 18:00:00",
          "2015-01-28 19:00:00",
          "2015-01-28 20:00:00",
          "2015-01-28 21:00:00",
          "2015-01-28 22:00:00",
          "2015-01-28 23:00:00",
          "2015-01-29 00:00:00",
          "2015-01-29 01:00:00",
          "2015-01-29 02:00:00",
          "2015-01-29 03:00:00",
          "2015-01-29 04:00:00",
          "2015-01-29 05:00:00",
          "2015-01-29 06:00:00",
          "2015-01-29 07:00:00",
          "2015-01-29 08:00:00",
          "2015-01-29 09:00:00",
          "2015-01-29 10:00:00",
          "2015-01-29 11:00:00",
          "2015-01-29 12:00:00",
          "2015-01-29 13:00:00",
          "2015-01-29 14:00:00",
          "2015-01-29 15:00:00",
          "2015-01-29 16:00:00",
          "2015-01-29 17:00:00",
          "2015-01-29 18:00:00",
          "2015-01-29 19:00:00",
          "2015-01-29 20:00:00",
          "2015-01-29 21:00:00",
          "2015-01-29 22:00:00",
          "2015-01-29 23:00:00",
          "2015-01-30 00:00:00",
          "2015-01-30 01:00:00",
          "2015-01-30 02:00:00",
          "2015-01-30 03:00:00",
          "2015-01-30 04:00:00",
          "2015-01-30 05:00:00",
          "2015-01-30 06:00:00",
          "2015-01-30 07:00:00",
          "2015-01-30 08:00:00",
          "2015-01-30 09:00:00",
          "2015-01-30 10:00:00",
          "2015-01-30 11:00:00",
          "2015-01-30 12:00:00",
          "2015-01-30 13:00:00",
          "2015-01-30 14:00:00",
          "2015-01-30 15:00:00",
          "2015-01-30 16:00:00",
          "2015-01-30 17:00:00",
          "2015-01-30 18:00:00",
          "2015-01-30 19:00:00",
          "2015-01-30 20:00:00",
          "2015-01-30 21:00:00",
          "2015-01-30 22:00:00",
          "2015-01-30 23:00:00",
          "2015-01-31 00:00:00",
          "2015-01-31 01:00:00",
          "2015-01-31 02:00:00",
          "2015-01-31 03:00:00",
          "2015-01-31 04:00:00",
          "2015-01-31 05:00:00",
          "2015-01-31 06:00:00",
          "2015-01-31 07:00:00",
          "2015-01-31 08:00:00",
          "2015-01-31 09:00:00",
          "2015-01-31 10:00:00",
          "2015-01-31 11:00:00",
          "2015-01-31 12:00:00",
          "2015-01-31 13:00:00",
          "2015-01-31 14:00:00",
          "2015-01-31 15:00:00",
          "2015-01-31 16:00:00",
          "2015-01-31 17:00:00",
          "2015-01-31 18:00:00",
          "2015-01-31 19:00:00",
          "2015-01-31 20:00:00",
          "2015-01-31 21:00:00",
          "2015-01-31 22:00:00",
          "2015-01-31 23:00:00"
         ],
         "y": [
          26099.0078125,
          22300.9609375,
          16723.396484375,
          13119.884765625,
          7956.236328125,
          4904.7890625,
          5942.6806640625,
          9981.794921875,
          14526.26953125,
          16530.15234375,
          20751.962890625,
          21749.919921875,
          22761.40625,
          23010.4453125,
          23291.70703125,
          23015.56640625,
          20821.86328125,
          23499.357421875,
          28439.8359375,
          29343.4375,
          27841.435546875,
          27459.646484375,
          27807.919921875,
          27885.64453125,
          27264.529296875,
          23971.453125,
          19024.5390625,
          14614.9443359375,
          9113.640625,
          5867.20166015625,
          4631.96728515625,
          7280.421875,
          12198.189453125,
          15017.6494140625,
          19937.533203125,
          21506.568359375,
          22350.66015625,
          22426.7890625,
          22677.38671875,
          22173.515625,
          19558.46875,
          20602.75390625,
          22554.0625,
          20605.689453125,
          18039.904296875,
          17205.017578125,
          17245.8359375,
          15088.130859375,
          10670.5048828125,
          6867.5263671875,
          4791.87841796875,
          3134.451904296875,
          2893.375244140625,
          3446.376953125,
          8542.7734375,
          14133.634765625,
          17247.072265625,
          17945.119140625,
          16244.4775390625,
          16590.3984375,
          17744.775390625,
          17808.939453125,
          18704.927734375,
          18572.771484375,
          16199.7177734375,
          19306.73046875,
          23294.072265625,
          22414.537109375,
          20373.45703125,
          18593.048828125,
          14945.912109375,
          10149.3720703125,
          7823.609375,
          3960.494873046875,
          2224.94287109375,
          1055.403564453125,
          1242.058349609375,
          3035.134033203125,
          10323.9287109375,
          20071.82421875,
          23956.330078125,
          23701.056640625,
          19348.673828125,
          18967.76171875,
          19725.90234375,
          19819.7421875,
          20544.4921875,
          20255.935546875,
          17591.19140625,
          21783.55859375,
          27662.55078125,
          27903.662109375,
          26326.6328125,
          25504.259765625,
          23810.42578125,
          16882.314453125,
          10193.4765625,
          6474.83154296875,
          3951.822265625,
          3110.41845703125,
          2746.962890625,
          4326.98681640625,
          11843.5859375,
          21356.857421875,
          24897.61328125,
          23793.912109375,
          19700.486328125,
          19380.43359375,
          20107.048828125,
          20204.1796875,
          20888.103515625,
          20590.806640625,
          17969.82421875,
          22156.263671875,
          27977.259765625,
          28781.328125,
          27115.2109375,
          26346.330078125,
          24820.923828125,
          18407.953125,
          10943.642578125,
          6770.61181640625,
          4169.01025390625,
          3077.7666015625,
          2807.24462890625,
          4421.267578125,
          11920.8369140625,
          21443.232421875,
          24668.365234375,
          23792.044921875,
          19799.90625,
          19600.275390625,
          20312.908203125,
          20423.404296875,
          21110.3671875,
          20675.8046875,
          18021.671875,
          22179.8046875,
          28585.158203125,
          29467.423828125,
          28037.681640625,
          27414.212890625,
          27058.6171875,
          22470.740234375,
          15139.529296875,
          9588.830078125,
          6574.54296875,
          4450.16650390625,
          4062.13134765625,
          4645.39111328125,
          11861.947265625,
          20164.771484375,
          23579.634765625,
          22822.833984375,
          19945.037109375,
          19699.564453125,
          20478.126953125,
          20591.888671875,
          21266.07421875,
          20819.484375,
          18117.470703125,
          22393.091796875,
          28668.44140625,
          29782.56640625,
          28408.20703125,
          28052.2421875,
          28417.22265625,
          27915.39453125,
          26068.10546875,
          22286.119140625,
          16700.986328125,
          13105.212890625,
          7917.6123046875,
          4897.25390625,
          6032.92529296875,
          9952.591796875,
          14491.2685546875,
          16526.52734375,
          20800.951171875,
          21775.484375,
          22864.130859375,
          23032.453125,
          23273.669921875,
          23062.494140625,
          20823.1640625,
          23484.775390625,
          28422.275390625,
          29404.994140625,
          27845.4296875,
          27477.841796875,
          27814.4921875,
          27926.505859375
         ]
        },
        {
         "line": {
          "color": "rgba(219, 64, 82, 1.0)",
          "dash": "solid",
          "shape": "linear",
          "width": 1.3
         },
         "mode": "lines",
         "name": "lgbm_pred",
         "text": "",
         "type": "scatter",
         "x": [
          "2015-01-24 00:00:00",
          "2015-01-24 01:00:00",
          "2015-01-24 02:00:00",
          "2015-01-24 03:00:00",
          "2015-01-24 04:00:00",
          "2015-01-24 05:00:00",
          "2015-01-24 06:00:00",
          "2015-01-24 07:00:00",
          "2015-01-24 08:00:00",
          "2015-01-24 09:00:00",
          "2015-01-24 10:00:00",
          "2015-01-24 11:00:00",
          "2015-01-24 12:00:00",
          "2015-01-24 13:00:00",
          "2015-01-24 14:00:00",
          "2015-01-24 15:00:00",
          "2015-01-24 16:00:00",
          "2015-01-24 17:00:00",
          "2015-01-24 18:00:00",
          "2015-01-24 19:00:00",
          "2015-01-24 20:00:00",
          "2015-01-24 21:00:00",
          "2015-01-24 22:00:00",
          "2015-01-24 23:00:00",
          "2015-01-25 00:00:00",
          "2015-01-25 01:00:00",
          "2015-01-25 02:00:00",
          "2015-01-25 03:00:00",
          "2015-01-25 04:00:00",
          "2015-01-25 05:00:00",
          "2015-01-25 06:00:00",
          "2015-01-25 07:00:00",
          "2015-01-25 08:00:00",
          "2015-01-25 09:00:00",
          "2015-01-25 10:00:00",
          "2015-01-25 11:00:00",
          "2015-01-25 12:00:00",
          "2015-01-25 13:00:00",
          "2015-01-25 14:00:00",
          "2015-01-25 15:00:00",
          "2015-01-25 16:00:00",
          "2015-01-25 17:00:00",
          "2015-01-25 18:00:00",
          "2015-01-25 19:00:00",
          "2015-01-25 20:00:00",
          "2015-01-25 21:00:00",
          "2015-01-25 22:00:00",
          "2015-01-25 23:00:00",
          "2015-01-26 00:00:00",
          "2015-01-26 01:00:00",
          "2015-01-26 02:00:00",
          "2015-01-26 03:00:00",
          "2015-01-26 04:00:00",
          "2015-01-26 05:00:00",
          "2015-01-26 06:00:00",
          "2015-01-26 07:00:00",
          "2015-01-26 08:00:00",
          "2015-01-26 09:00:00",
          "2015-01-26 10:00:00",
          "2015-01-26 11:00:00",
          "2015-01-26 12:00:00",
          "2015-01-26 13:00:00",
          "2015-01-26 14:00:00",
          "2015-01-26 15:00:00",
          "2015-01-26 16:00:00",
          "2015-01-26 17:00:00",
          "2015-01-26 18:00:00",
          "2015-01-26 19:00:00",
          "2015-01-26 20:00:00",
          "2015-01-26 21:00:00",
          "2015-01-26 22:00:00",
          "2015-01-26 23:00:00",
          "2015-01-27 00:00:00",
          "2015-01-27 01:00:00",
          "2015-01-27 02:00:00",
          "2015-01-27 03:00:00",
          "2015-01-27 04:00:00",
          "2015-01-27 05:00:00",
          "2015-01-27 06:00:00",
          "2015-01-27 07:00:00",
          "2015-01-27 08:00:00",
          "2015-01-27 09:00:00",
          "2015-01-27 10:00:00",
          "2015-01-27 11:00:00",
          "2015-01-27 12:00:00",
          "2015-01-27 13:00:00",
          "2015-01-27 14:00:00",
          "2015-01-27 15:00:00",
          "2015-01-27 16:00:00",
          "2015-01-27 17:00:00",
          "2015-01-27 18:00:00",
          "2015-01-27 19:00:00",
          "2015-01-27 20:00:00",
          "2015-01-27 21:00:00",
          "2015-01-27 22:00:00",
          "2015-01-27 23:00:00",
          "2015-01-28 00:00:00",
          "2015-01-28 01:00:00",
          "2015-01-28 02:00:00",
          "2015-01-28 03:00:00",
          "2015-01-28 04:00:00",
          "2015-01-28 05:00:00",
          "2015-01-28 06:00:00",
          "2015-01-28 07:00:00",
          "2015-01-28 08:00:00",
          "2015-01-28 09:00:00",
          "2015-01-28 10:00:00",
          "2015-01-28 11:00:00",
          "2015-01-28 12:00:00",
          "2015-01-28 13:00:00",
          "2015-01-28 14:00:00",
          "2015-01-28 15:00:00",
          "2015-01-28 16:00:00",
          "2015-01-28 17:00:00",
          "2015-01-28 18:00:00",
          "2015-01-28 19:00:00",
          "2015-01-28 20:00:00",
          "2015-01-28 21:00:00",
          "2015-01-28 22:00:00",
          "2015-01-28 23:00:00",
          "2015-01-29 00:00:00",
          "2015-01-29 01:00:00",
          "2015-01-29 02:00:00",
          "2015-01-29 03:00:00",
          "2015-01-29 04:00:00",
          "2015-01-29 05:00:00",
          "2015-01-29 06:00:00",
          "2015-01-29 07:00:00",
          "2015-01-29 08:00:00",
          "2015-01-29 09:00:00",
          "2015-01-29 10:00:00",
          "2015-01-29 11:00:00",
          "2015-01-29 12:00:00",
          "2015-01-29 13:00:00",
          "2015-01-29 14:00:00",
          "2015-01-29 15:00:00",
          "2015-01-29 16:00:00",
          "2015-01-29 17:00:00",
          "2015-01-29 18:00:00",
          "2015-01-29 19:00:00",
          "2015-01-29 20:00:00",
          "2015-01-29 21:00:00",
          "2015-01-29 22:00:00",
          "2015-01-29 23:00:00",
          "2015-01-30 00:00:00",
          "2015-01-30 01:00:00",
          "2015-01-30 02:00:00",
          "2015-01-30 03:00:00",
          "2015-01-30 04:00:00",
          "2015-01-30 05:00:00",
          "2015-01-30 06:00:00",
          "2015-01-30 07:00:00",
          "2015-01-30 08:00:00",
          "2015-01-30 09:00:00",
          "2015-01-30 10:00:00",
          "2015-01-30 11:00:00",
          "2015-01-30 12:00:00",
          "2015-01-30 13:00:00",
          "2015-01-30 14:00:00",
          "2015-01-30 15:00:00",
          "2015-01-30 16:00:00",
          "2015-01-30 17:00:00",
          "2015-01-30 18:00:00",
          "2015-01-30 19:00:00",
          "2015-01-30 20:00:00",
          "2015-01-30 21:00:00",
          "2015-01-30 22:00:00",
          "2015-01-30 23:00:00",
          "2015-01-31 00:00:00",
          "2015-01-31 01:00:00",
          "2015-01-31 02:00:00",
          "2015-01-31 03:00:00",
          "2015-01-31 04:00:00",
          "2015-01-31 05:00:00",
          "2015-01-31 06:00:00",
          "2015-01-31 07:00:00",
          "2015-01-31 08:00:00",
          "2015-01-31 09:00:00",
          "2015-01-31 10:00:00",
          "2015-01-31 11:00:00",
          "2015-01-31 12:00:00",
          "2015-01-31 13:00:00",
          "2015-01-31 14:00:00",
          "2015-01-31 15:00:00",
          "2015-01-31 16:00:00",
          "2015-01-31 17:00:00",
          "2015-01-31 18:00:00",
          "2015-01-31 19:00:00",
          "2015-01-31 20:00:00",
          "2015-01-31 21:00:00",
          "2015-01-31 22:00:00",
          "2015-01-31 23:00:00"
         ],
         "y": [
          25841.05637566525,
          22203.56467751486,
          17415.697154838563,
          12632.975078364667,
          7776.486818427795,
          4709.425085854257,
          6941.56953737223,
          12234.588143251156,
          15392.11453299958,
          17239.774983339797,
          18822.525526067875,
          21190.110892635694,
          22593.043407456993,
          22901.66046657967,
          23091.587694440943,
          22967.68845042111,
          21855.080084058056,
          23746.340543224924,
          28983.537451951954,
          29554.65239567624,
          28119.082921095727,
          27640.173150246617,
          27682.025403257685,
          27451.829951224387,
          26649.0552372216,
          23538.664489381972,
          18997.883305189393,
          13539.360600942227,
          8469.456821858059,
          4849.229735765729,
          3745.0207622523753,
          7107.692971634536,
          10216.306761845979,
          13644.470345831614,
          18830.203767423638,
          21254.970659857147,
          22745.986478155253,
          22881.438586947195,
          23046.190284222266,
          22847.043115296397,
          20901.887186603173,
          21255.183185846534,
          21808.025382750133,
          20333.639808646643,
          17699.057104897896,
          16810.037267451946,
          16237.310904702868,
          14030.279530371923,
          9866.290723337966,
          5937.988190556166,
          3944.8211488468214,
          3118.9445756876526,
          2924.2458045926246,
          3351.8016053452884,
          8703.708035294423,
          14452.499233295357,
          17740.752487668175,
          18170.90847260513,
          17087.92604021005,
          17458.76960263353,
          18281.817574793487,
          18387.151685088265,
          18943.786859198684,
          18981.679925430944,
          17949.207294425363,
          19813.70313419733,
          23143.161735202193,
          23348.631732354326,
          20595.879137556833,
          19346.844113998122,
          16460.860145426544,
          11543.400868320348,
          8080.024581396976,
          4063.054313349537,
          2394.439423048523,
          1145.985059514127,
          1396.0724902745121,
          2566.409587327758,
          9527.884614105062,
          18447.177082841874,
          22463.922014246735,
          22868.502165325248,
          19841.762998071063,
          19357.543586127293,
          20122.87569008507,
          20258.037900410258,
          20838.780462680457,
          20780.417545756714,
          18343.33969801209,
          21925.543073814886,
          27358.397611284392,
          27631.018247333373,
          26072.026067397597,
          25393.997194538617,
          23588.398756591738,
          17019.42855573091,
          9929.746407137665,
          5968.924675187138,
          3905.7496062724717,
          3299.344256125586,
          3143.7062924547477,
          3784.2266940333006,
          11617.910774054086,
          20257.76070164942,
          23601.080945934293,
          23087.70703894217,
          20274.692186259133,
          19677.95233952891,
          20454.61358156735,
          20543.69181661096,
          21193.689634923005,
          21266.411808253317,
          18607.443167050522,
          22203.254233449785,
          27997.794535571596,
          28512.975021397102,
          26809.27200317869,
          26208.06771977204,
          24928.26979815917,
          18747.990691166975,
          11544.353636523938,
          7088.788437376854,
          4408.386097561166,
          3341.384316060331,
          3217.6906902522674,
          3747.8626289350664,
          11540.486610720856,
          20058.880228328995,
          23243.24248302788,
          22963.071487037196,
          20222.566772041602,
          19742.57988411423,
          20458.41503931954,
          20606.82135854261,
          21183.348401920244,
          21185.06214172478,
          18575.594402211213,
          22231.0090604307,
          28187.596910086482,
          28924.855991678483,
          27432.036613284297,
          27008.721962790245,
          26313.11075427931,
          22803.5953996442,
          14393.884398582159,
          9549.928679934024,
          6516.60211961659,
          4194.526905890453,
          3805.9618974035548,
          4033.0475718576204,
          11441.973646854301,
          19241.035185752993,
          22524.874316894406,
          22428.362838885878,
          20173.979850864227,
          20004.995470134858,
          20912.18611284992,
          21024.92641223398,
          21655.090340138413,
          21688.762345115512,
          19034.918234514527,
          22792.5420163486,
          28905.575853465063,
          29747.30188112417,
          28330.32547645828,
          27937.888798176715,
          27710.892170054587,
          27362.174075122766,
          25788.77935238439,
          22165.14969646686,
          17406.237444072016,
          12643.125694675395,
          7806.789920502078,
          4694.287936154131,
          6979.4536060715955,
          12178.015892576837,
          15450.3783223195,
          17225.31997985504,
          18875.307193759974,
          21211.055725844348,
          22720.417194388643,
          22968.82719132518,
          23091.176090489236,
          23011.831266486854,
          21955.45302319563,
          23726.739325567414,
          28958.12720824039,
          29601.97907536857,
          28144.663097570898,
          27672.516758710986,
          27647.342784163964,
          27515.832115279092
         ]
        }
       ],
       "layout": {
        "legend": {
         "bgcolor": "#F5F6F9",
         "font": {
          "color": "#4D5663"
         }
        },
        "paper_bgcolor": "#F5F6F9",
        "plot_bgcolor": "#F5F6F9",
        "template": {
         "data": {
          "bar": [
           {
            "error_x": {
             "color": "#2a3f5f"
            },
            "error_y": {
             "color": "#2a3f5f"
            },
            "marker": {
             "line": {
              "color": "#E5ECF6",
              "width": 0.5
             }
            },
            "type": "bar"
           }
          ],
          "barpolar": [
           {
            "marker": {
             "line": {
              "color": "#E5ECF6",
              "width": 0.5
             }
            },
            "type": "barpolar"
           }
          ],
          "carpet": [
           {
            "aaxis": {
             "endlinecolor": "#2a3f5f",
             "gridcolor": "white",
             "linecolor": "white",
             "minorgridcolor": "white",
             "startlinecolor": "#2a3f5f"
            },
            "baxis": {
             "endlinecolor": "#2a3f5f",
             "gridcolor": "white",
             "linecolor": "white",
             "minorgridcolor": "white",
             "startlinecolor": "#2a3f5f"
            },
            "type": "carpet"
           }
          ],
          "choropleth": [
           {
            "colorbar": {
             "outlinewidth": 0,
             "ticks": ""
            },
            "type": "choropleth"
           }
          ],
          "contour": [
           {
            "colorbar": {
             "outlinewidth": 0,
             "ticks": ""
            },
            "colorscale": [
             [
              0,
              "#0d0887"
             ],
             [
              0.1111111111111111,
              "#46039f"
             ],
             [
              0.2222222222222222,
              "#7201a8"
             ],
             [
              0.3333333333333333,
              "#9c179e"
             ],
             [
              0.4444444444444444,
              "#bd3786"
             ],
             [
              0.5555555555555556,
              "#d8576b"
             ],
             [
              0.6666666666666666,
              "#ed7953"
             ],
             [
              0.7777777777777778,
              "#fb9f3a"
             ],
             [
              0.8888888888888888,
              "#fdca26"
             ],
             [
              1,
              "#f0f921"
             ]
            ],
            "type": "contour"
           }
          ],
          "contourcarpet": [
           {
            "colorbar": {
             "outlinewidth": 0,
             "ticks": ""
            },
            "type": "contourcarpet"
           }
          ],
          "heatmap": [
           {
            "colorbar": {
             "outlinewidth": 0,
             "ticks": ""
            },
            "colorscale": [
             [
              0,
              "#0d0887"
             ],
             [
              0.1111111111111111,
              "#46039f"
             ],
             [
              0.2222222222222222,
              "#7201a8"
             ],
             [
              0.3333333333333333,
              "#9c179e"
             ],
             [
              0.4444444444444444,
              "#bd3786"
             ],
             [
              0.5555555555555556,
              "#d8576b"
             ],
             [
              0.6666666666666666,
              "#ed7953"
             ],
             [
              0.7777777777777778,
              "#fb9f3a"
             ],
             [
              0.8888888888888888,
              "#fdca26"
             ],
             [
              1,
              "#f0f921"
             ]
            ],
            "type": "heatmap"
           }
          ],
          "heatmapgl": [
           {
            "colorbar": {
             "outlinewidth": 0,
             "ticks": ""
            },
            "colorscale": [
             [
              0,
              "#0d0887"
             ],
             [
              0.1111111111111111,
              "#46039f"
             ],
             [
              0.2222222222222222,
              "#7201a8"
             ],
             [
              0.3333333333333333,
              "#9c179e"
             ],
             [
              0.4444444444444444,
              "#bd3786"
             ],
             [
              0.5555555555555556,
              "#d8576b"
             ],
             [
              0.6666666666666666,
              "#ed7953"
             ],
             [
              0.7777777777777778,
              "#fb9f3a"
             ],
             [
              0.8888888888888888,
              "#fdca26"
             ],
             [
              1,
              "#f0f921"
             ]
            ],
            "type": "heatmapgl"
           }
          ],
          "histogram": [
           {
            "marker": {
             "colorbar": {
              "outlinewidth": 0,
              "ticks": ""
             }
            },
            "type": "histogram"
           }
          ],
          "histogram2d": [
           {
            "colorbar": {
             "outlinewidth": 0,
             "ticks": ""
            },
            "colorscale": [
             [
              0,
              "#0d0887"
             ],
             [
              0.1111111111111111,
              "#46039f"
             ],
             [
              0.2222222222222222,
              "#7201a8"
             ],
             [
              0.3333333333333333,
              "#9c179e"
             ],
             [
              0.4444444444444444,
              "#bd3786"
             ],
             [
              0.5555555555555556,
              "#d8576b"
             ],
             [
              0.6666666666666666,
              "#ed7953"
             ],
             [
              0.7777777777777778,
              "#fb9f3a"
             ],
             [
              0.8888888888888888,
              "#fdca26"
             ],
             [
              1,
              "#f0f921"
             ]
            ],
            "type": "histogram2d"
           }
          ],
          "histogram2dcontour": [
           {
            "colorbar": {
             "outlinewidth": 0,
             "ticks": ""
            },
            "colorscale": [
             [
              0,
              "#0d0887"
             ],
             [
              0.1111111111111111,
              "#46039f"
             ],
             [
              0.2222222222222222,
              "#7201a8"
             ],
             [
              0.3333333333333333,
              "#9c179e"
             ],
             [
              0.4444444444444444,
              "#bd3786"
             ],
             [
              0.5555555555555556,
              "#d8576b"
             ],
             [
              0.6666666666666666,
              "#ed7953"
             ],
             [
              0.7777777777777778,
              "#fb9f3a"
             ],
             [
              0.8888888888888888,
              "#fdca26"
             ],
             [
              1,
              "#f0f921"
             ]
            ],
            "type": "histogram2dcontour"
           }
          ],
          "mesh3d": [
           {
            "colorbar": {
             "outlinewidth": 0,
             "ticks": ""
            },
            "type": "mesh3d"
           }
          ],
          "parcoords": [
           {
            "line": {
             "colorbar": {
              "outlinewidth": 0,
              "ticks": ""
             }
            },
            "type": "parcoords"
           }
          ],
          "pie": [
           {
            "automargin": true,
            "type": "pie"
           }
          ],
          "scatter": [
           {
            "marker": {
             "colorbar": {
              "outlinewidth": 0,
              "ticks": ""
             }
            },
            "type": "scatter"
           }
          ],
          "scatter3d": [
           {
            "line": {
             "colorbar": {
              "outlinewidth": 0,
              "ticks": ""
             }
            },
            "marker": {
             "colorbar": {
              "outlinewidth": 0,
              "ticks": ""
             }
            },
            "type": "scatter3d"
           }
          ],
          "scattercarpet": [
           {
            "marker": {
             "colorbar": {
              "outlinewidth": 0,
              "ticks": ""
             }
            },
            "type": "scattercarpet"
           }
          ],
          "scattergeo": [
           {
            "marker": {
             "colorbar": {
              "outlinewidth": 0,
              "ticks": ""
             }
            },
            "type": "scattergeo"
           }
          ],
          "scattergl": [
           {
            "marker": {
             "colorbar": {
              "outlinewidth": 0,
              "ticks": ""
             }
            },
            "type": "scattergl"
           }
          ],
          "scattermapbox": [
           {
            "marker": {
             "colorbar": {
              "outlinewidth": 0,
              "ticks": ""
             }
            },
            "type": "scattermapbox"
           }
          ],
          "scatterpolar": [
           {
            "marker": {
             "colorbar": {
              "outlinewidth": 0,
              "ticks": ""
             }
            },
            "type": "scatterpolar"
           }
          ],
          "scatterpolargl": [
           {
            "marker": {
             "colorbar": {
              "outlinewidth": 0,
              "ticks": ""
             }
            },
            "type": "scatterpolargl"
           }
          ],
          "scatterternary": [
           {
            "marker": {
             "colorbar": {
              "outlinewidth": 0,
              "ticks": ""
             }
            },
            "type": "scatterternary"
           }
          ],
          "surface": [
           {
            "colorbar": {
             "outlinewidth": 0,
             "ticks": ""
            },
            "colorscale": [
             [
              0,
              "#0d0887"
             ],
             [
              0.1111111111111111,
              "#46039f"
             ],
             [
              0.2222222222222222,
              "#7201a8"
             ],
             [
              0.3333333333333333,
              "#9c179e"
             ],
             [
              0.4444444444444444,
              "#bd3786"
             ],
             [
              0.5555555555555556,
              "#d8576b"
             ],
             [
              0.6666666666666666,
              "#ed7953"
             ],
             [
              0.7777777777777778,
              "#fb9f3a"
             ],
             [
              0.8888888888888888,
              "#fdca26"
             ],
             [
              1,
              "#f0f921"
             ]
            ],
            "type": "surface"
           }
          ],
          "table": [
           {
            "cells": {
             "fill": {
              "color": "#EBF0F8"
             },
             "line": {
              "color": "white"
             }
            },
            "header": {
             "fill": {
              "color": "#C8D4E3"
             },
             "line": {
              "color": "white"
             }
            },
            "type": "table"
           }
          ]
         },
         "layout": {
          "annotationdefaults": {
           "arrowcolor": "#2a3f5f",
           "arrowhead": 0,
           "arrowwidth": 1
          },
          "coloraxis": {
           "colorbar": {
            "outlinewidth": 0,
            "ticks": ""
           }
          },
          "colorscale": {
           "diverging": [
            [
             0,
             "#8e0152"
            ],
            [
             0.1,
             "#c51b7d"
            ],
            [
             0.2,
             "#de77ae"
            ],
            [
             0.3,
             "#f1b6da"
            ],
            [
             0.4,
             "#fde0ef"
            ],
            [
             0.5,
             "#f7f7f7"
            ],
            [
             0.6,
             "#e6f5d0"
            ],
            [
             0.7,
             "#b8e186"
            ],
            [
             0.8,
             "#7fbc41"
            ],
            [
             0.9,
             "#4d9221"
            ],
            [
             1,
             "#276419"
            ]
           ],
           "sequential": [
            [
             0,
             "#0d0887"
            ],
            [
             0.1111111111111111,
             "#46039f"
            ],
            [
             0.2222222222222222,
             "#7201a8"
            ],
            [
             0.3333333333333333,
             "#9c179e"
            ],
            [
             0.4444444444444444,
             "#bd3786"
            ],
            [
             0.5555555555555556,
             "#d8576b"
            ],
            [
             0.6666666666666666,
             "#ed7953"
            ],
            [
             0.7777777777777778,
             "#fb9f3a"
            ],
            [
             0.8888888888888888,
             "#fdca26"
            ],
            [
             1,
             "#f0f921"
            ]
           ],
           "sequentialminus": [
            [
             0,
             "#0d0887"
            ],
            [
             0.1111111111111111,
             "#46039f"
            ],
            [
             0.2222222222222222,
             "#7201a8"
            ],
            [
             0.3333333333333333,
             "#9c179e"
            ],
            [
             0.4444444444444444,
             "#bd3786"
            ],
            [
             0.5555555555555556,
             "#d8576b"
            ],
            [
             0.6666666666666666,
             "#ed7953"
            ],
            [
             0.7777777777777778,
             "#fb9f3a"
            ],
            [
             0.8888888888888888,
             "#fdca26"
            ],
            [
             1,
             "#f0f921"
            ]
           ]
          },
          "colorway": [
           "#636efa",
           "#EF553B",
           "#00cc96",
           "#ab63fa",
           "#FFA15A",
           "#19d3f3",
           "#FF6692",
           "#B6E880",
           "#FF97FF",
           "#FECB52"
          ],
          "font": {
           "color": "#2a3f5f"
          },
          "geo": {
           "bgcolor": "white",
           "lakecolor": "white",
           "landcolor": "#E5ECF6",
           "showlakes": true,
           "showland": true,
           "subunitcolor": "white"
          },
          "hoverlabel": {
           "align": "left"
          },
          "hovermode": "closest",
          "mapbox": {
           "style": "light"
          },
          "paper_bgcolor": "white",
          "plot_bgcolor": "#E5ECF6",
          "polar": {
           "angularaxis": {
            "gridcolor": "white",
            "linecolor": "white",
            "ticks": ""
           },
           "bgcolor": "#E5ECF6",
           "radialaxis": {
            "gridcolor": "white",
            "linecolor": "white",
            "ticks": ""
           }
          },
          "scene": {
           "xaxis": {
            "backgroundcolor": "#E5ECF6",
            "gridcolor": "white",
            "gridwidth": 2,
            "linecolor": "white",
            "showbackground": true,
            "ticks": "",
            "zerolinecolor": "white"
           },
           "yaxis": {
            "backgroundcolor": "#E5ECF6",
            "gridcolor": "white",
            "gridwidth": 2,
            "linecolor": "white",
            "showbackground": true,
            "ticks": "",
            "zerolinecolor": "white"
           },
           "zaxis": {
            "backgroundcolor": "#E5ECF6",
            "gridcolor": "white",
            "gridwidth": 2,
            "linecolor": "white",
            "showbackground": true,
            "ticks": "",
            "zerolinecolor": "white"
           }
          },
          "shapedefaults": {
           "line": {
            "color": "#2a3f5f"
           }
          },
          "ternary": {
           "aaxis": {
            "gridcolor": "white",
            "linecolor": "white",
            "ticks": ""
           },
           "baxis": {
            "gridcolor": "white",
            "linecolor": "white",
            "ticks": ""
           },
           "bgcolor": "#E5ECF6",
           "caxis": {
            "gridcolor": "white",
            "linecolor": "white",
            "ticks": ""
           }
          },
          "title": {
           "x": 0.05
          },
          "xaxis": {
           "automargin": true,
           "gridcolor": "white",
           "linecolor": "white",
           "ticks": "",
           "title": {
            "standoff": 15
           },
           "zerolinecolor": "white",
           "zerolinewidth": 2
          },
          "yaxis": {
           "automargin": true,
           "gridcolor": "white",
           "linecolor": "white",
           "ticks": "",
           "title": {
            "standoff": 15
           },
           "zerolinecolor": "white",
           "zerolinewidth": 2
          }
         }
        },
        "title": {
         "font": {
          "color": "#4D5663"
         },
         "text": "Prediction by Datetime"
        },
        "xaxis": {
         "gridcolor": "#E1E5ED",
         "showgrid": true,
         "tickfont": {
          "color": "#4D5663"
         },
         "title": {
          "font": {
           "color": "#4D5663"
          },
          "text": "Datetime"
         },
         "zerolinecolor": "#E1E5ED"
        },
        "yaxis": {
         "gridcolor": "#E1E5ED",
         "showgrid": true,
         "tickfont": {
          "color": "#4D5663"
         },
         "title": {
          "font": {
           "color": "#4D5663"
          },
          "text": "Count"
         },
         "zerolinecolor": "#E1E5ED"
        }
       }
      },
      "text/html": [
       "<div>\n",
       "        \n",
       "        \n",
       "            <div id=\"7cba8a46-dbb5-4052-aed9-600b79a40efb\" class=\"plotly-graph-div\" style=\"height:525px; width:100%;\"></div>\n",
       "            <script type=\"text/javascript\">\n",
       "                require([\"plotly\"], function(Plotly) {\n",
       "                    window.PLOTLYENV=window.PLOTLYENV || {};\n",
       "                    window.PLOTLYENV.BASE_URL='https://plot.ly';\n",
       "                    \n",
       "                if (document.getElementById(\"7cba8a46-dbb5-4052-aed9-600b79a40efb\")) {\n",
       "                    Plotly.newPlot(\n",
       "                        '7cba8a46-dbb5-4052-aed9-600b79a40efb',\n",
       "                        [{\"line\": {\"color\": \"rgba(255, 153, 51, 1.0)\", \"dash\": \"solid\", \"shape\": \"linear\", \"width\": 1.3}, \"mode\": \"lines\", \"name\": \"cnt\", \"text\": \"\", \"type\": \"scatter\", \"x\": [\"2015-01-24 00:00:00\", \"2015-01-24 01:00:00\", \"2015-01-24 02:00:00\", \"2015-01-24 03:00:00\", \"2015-01-24 04:00:00\", \"2015-01-24 05:00:00\", \"2015-01-24 06:00:00\", \"2015-01-24 07:00:00\", \"2015-01-24 08:00:00\", \"2015-01-24 09:00:00\", \"2015-01-24 10:00:00\", \"2015-01-24 11:00:00\", \"2015-01-24 12:00:00\", \"2015-01-24 13:00:00\", \"2015-01-24 14:00:00\", \"2015-01-24 15:00:00\", \"2015-01-24 16:00:00\", \"2015-01-24 17:00:00\", \"2015-01-24 18:00:00\", \"2015-01-24 19:00:00\", \"2015-01-24 20:00:00\", \"2015-01-24 21:00:00\", \"2015-01-24 22:00:00\", \"2015-01-24 23:00:00\", \"2015-01-25 00:00:00\", \"2015-01-25 01:00:00\", \"2015-01-25 02:00:00\", \"2015-01-25 03:00:00\", \"2015-01-25 04:00:00\", \"2015-01-25 05:00:00\", \"2015-01-25 06:00:00\", \"2015-01-25 07:00:00\", \"2015-01-25 08:00:00\", \"2015-01-25 09:00:00\", \"2015-01-25 10:00:00\", \"2015-01-25 11:00:00\", \"2015-01-25 12:00:00\", \"2015-01-25 13:00:00\", \"2015-01-25 14:00:00\", \"2015-01-25 15:00:00\", \"2015-01-25 16:00:00\", \"2015-01-25 17:00:00\", \"2015-01-25 18:00:00\", \"2015-01-25 19:00:00\", \"2015-01-25 20:00:00\", \"2015-01-25 21:00:00\", \"2015-01-25 22:00:00\", \"2015-01-25 23:00:00\", \"2015-01-26 00:00:00\", \"2015-01-26 01:00:00\", \"2015-01-26 02:00:00\", \"2015-01-26 03:00:00\", \"2015-01-26 04:00:00\", \"2015-01-26 05:00:00\", \"2015-01-26 06:00:00\", \"2015-01-26 07:00:00\", \"2015-01-26 08:00:00\", \"2015-01-26 09:00:00\", \"2015-01-26 10:00:00\", \"2015-01-26 11:00:00\", \"2015-01-26 12:00:00\", \"2015-01-26 13:00:00\", \"2015-01-26 14:00:00\", \"2015-01-26 15:00:00\", \"2015-01-26 16:00:00\", \"2015-01-26 17:00:00\", \"2015-01-26 18:00:00\", \"2015-01-26 19:00:00\", \"2015-01-26 20:00:00\", \"2015-01-26 21:00:00\", \"2015-01-26 22:00:00\", \"2015-01-26 23:00:00\", \"2015-01-27 00:00:00\", \"2015-01-27 01:00:00\", \"2015-01-27 02:00:00\", \"2015-01-27 03:00:00\", \"2015-01-27 04:00:00\", \"2015-01-27 05:00:00\", \"2015-01-27 06:00:00\", \"2015-01-27 07:00:00\", \"2015-01-27 08:00:00\", \"2015-01-27 09:00:00\", \"2015-01-27 10:00:00\", \"2015-01-27 11:00:00\", \"2015-01-27 12:00:00\", \"2015-01-27 13:00:00\", \"2015-01-27 14:00:00\", \"2015-01-27 15:00:00\", \"2015-01-27 16:00:00\", \"2015-01-27 17:00:00\", \"2015-01-27 18:00:00\", \"2015-01-27 19:00:00\", \"2015-01-27 20:00:00\", \"2015-01-27 21:00:00\", \"2015-01-27 22:00:00\", \"2015-01-27 23:00:00\", \"2015-01-28 00:00:00\", \"2015-01-28 01:00:00\", \"2015-01-28 02:00:00\", \"2015-01-28 03:00:00\", \"2015-01-28 04:00:00\", \"2015-01-28 05:00:00\", \"2015-01-28 06:00:00\", \"2015-01-28 07:00:00\", \"2015-01-28 08:00:00\", \"2015-01-28 09:00:00\", \"2015-01-28 10:00:00\", \"2015-01-28 11:00:00\", \"2015-01-28 12:00:00\", \"2015-01-28 13:00:00\", \"2015-01-28 14:00:00\", \"2015-01-28 15:00:00\", \"2015-01-28 16:00:00\", \"2015-01-28 17:00:00\", \"2015-01-28 18:00:00\", \"2015-01-28 19:00:00\", \"2015-01-28 20:00:00\", \"2015-01-28 21:00:00\", \"2015-01-28 22:00:00\", \"2015-01-28 23:00:00\", \"2015-01-29 00:00:00\", \"2015-01-29 01:00:00\", \"2015-01-29 02:00:00\", \"2015-01-29 03:00:00\", \"2015-01-29 04:00:00\", \"2015-01-29 05:00:00\", \"2015-01-29 06:00:00\", \"2015-01-29 07:00:00\", \"2015-01-29 08:00:00\", \"2015-01-29 09:00:00\", \"2015-01-29 10:00:00\", \"2015-01-29 11:00:00\", \"2015-01-29 12:00:00\", \"2015-01-29 13:00:00\", \"2015-01-29 14:00:00\", \"2015-01-29 15:00:00\", \"2015-01-29 16:00:00\", \"2015-01-29 17:00:00\", \"2015-01-29 18:00:00\", \"2015-01-29 19:00:00\", \"2015-01-29 20:00:00\", \"2015-01-29 21:00:00\", \"2015-01-29 22:00:00\", \"2015-01-29 23:00:00\", \"2015-01-30 00:00:00\", \"2015-01-30 01:00:00\", \"2015-01-30 02:00:00\", \"2015-01-30 03:00:00\", \"2015-01-30 04:00:00\", \"2015-01-30 05:00:00\", \"2015-01-30 06:00:00\", \"2015-01-30 07:00:00\", \"2015-01-30 08:00:00\", \"2015-01-30 09:00:00\", \"2015-01-30 10:00:00\", \"2015-01-30 11:00:00\", \"2015-01-30 12:00:00\", \"2015-01-30 13:00:00\", \"2015-01-30 14:00:00\", \"2015-01-30 15:00:00\", \"2015-01-30 16:00:00\", \"2015-01-30 17:00:00\", \"2015-01-30 18:00:00\", \"2015-01-30 19:00:00\", \"2015-01-30 20:00:00\", \"2015-01-30 21:00:00\", \"2015-01-30 22:00:00\", \"2015-01-30 23:00:00\", \"2015-01-31 00:00:00\", \"2015-01-31 01:00:00\", \"2015-01-31 02:00:00\", \"2015-01-31 03:00:00\", \"2015-01-31 04:00:00\", \"2015-01-31 05:00:00\", \"2015-01-31 06:00:00\", \"2015-01-31 07:00:00\", \"2015-01-31 08:00:00\", \"2015-01-31 09:00:00\", \"2015-01-31 10:00:00\", \"2015-01-31 11:00:00\", \"2015-01-31 12:00:00\", \"2015-01-31 13:00:00\", \"2015-01-31 14:00:00\", \"2015-01-31 15:00:00\", \"2015-01-31 16:00:00\", \"2015-01-31 17:00:00\", \"2015-01-31 18:00:00\", \"2015-01-31 19:00:00\", \"2015-01-31 20:00:00\", \"2015-01-31 21:00:00\", \"2015-01-31 22:00:00\", \"2015-01-31 23:00:00\"], \"y\": [25761, 21727, 14669, 10794, 6992, 3734, 4673, 6810, 10372, 15198, 17905, 20735, 22522, 22043, 20884, 21439, 21232, 23440, 26589, 28297, 23060, 23102, 27166, 28299, 26986, 24268, 20568, 15597, 9128, 3986, 4079, 5712, 7922, 12564, 17180, 20091, 22206, 22437, 21944, 20507, 20071, 21064, 22144, 19382, 17063, 15918, 13389, 10732, 7024, 4324, 2786, 2284, 2621, 4656, 11491, 19417, 22408, 19914, 16553, 16245, 17079, 17271, 14683, 9829, 6611, 6043, 6568, 5305, 4144, 3305, 1481, 290, 113, 49, 36, 14, 21, 48, 133, 336, 957, 2197, 3583, 4627, 5496, 5952, 6707, 7853, 9126, 11746, 14483, 12972, 11726, 12229, 11074, 8844, 5355, 3166, 2113, 1461, 1654, 3547, 10816, 19171, 22276, 20314, 16910, 16271, 16561, 16302, 17774, 18107, 16024, 20185, 25615, 26343, 24479, 23954, 22800, 16206, 10358, 5823, 3799, 2602, 2503, 4166, 11775, 20807, 23615, 21847, 19158, 18252, 19199, 18959, 20437, 20091, 16725, 20749, 26539, 27574, 27273, 27305, 25696, 22543, 14882, 9211, 6054, 4046, 3425, 4413, 11618, 21552, 24965, 23031, 20194, 20098, 19929, 20306, 21776, 20411, 17680, 22669, 28996, 31865, 30884, 29980, 30229, 29561, 27538, 22628, 17948, 13223, 8259, 4088, 4990, 7191, 11960, 18283, 21454, 24366, 26007, 25637, 24013, 24717, 22799, 24928, 29730, 31211, 26592, 26673, 29013, 29026]}, {\"line\": {\"color\": \"rgba(55, 128, 191, 1.0)\", \"dash\": \"solid\", \"shape\": \"linear\", \"width\": 1.3}, \"mode\": \"lines\", \"name\": \"lr_pred\", \"text\": \"\", \"type\": \"scatter\", \"x\": [\"2015-01-24 00:00:00\", \"2015-01-24 01:00:00\", \"2015-01-24 02:00:00\", \"2015-01-24 03:00:00\", \"2015-01-24 04:00:00\", \"2015-01-24 05:00:00\", \"2015-01-24 06:00:00\", \"2015-01-24 07:00:00\", \"2015-01-24 08:00:00\", \"2015-01-24 09:00:00\", \"2015-01-24 10:00:00\", \"2015-01-24 11:00:00\", \"2015-01-24 12:00:00\", \"2015-01-24 13:00:00\", \"2015-01-24 14:00:00\", \"2015-01-24 15:00:00\", \"2015-01-24 16:00:00\", \"2015-01-24 17:00:00\", \"2015-01-24 18:00:00\", \"2015-01-24 19:00:00\", \"2015-01-24 20:00:00\", \"2015-01-24 21:00:00\", \"2015-01-24 22:00:00\", \"2015-01-24 23:00:00\", \"2015-01-25 00:00:00\", \"2015-01-25 01:00:00\", \"2015-01-25 02:00:00\", \"2015-01-25 03:00:00\", \"2015-01-25 04:00:00\", \"2015-01-25 05:00:00\", \"2015-01-25 06:00:00\", \"2015-01-25 07:00:00\", \"2015-01-25 08:00:00\", \"2015-01-25 09:00:00\", \"2015-01-25 10:00:00\", \"2015-01-25 11:00:00\", \"2015-01-25 12:00:00\", \"2015-01-25 13:00:00\", \"2015-01-25 14:00:00\", \"2015-01-25 15:00:00\", \"2015-01-25 16:00:00\", \"2015-01-25 17:00:00\", \"2015-01-25 18:00:00\", \"2015-01-25 19:00:00\", \"2015-01-25 20:00:00\", \"2015-01-25 21:00:00\", \"2015-01-25 22:00:00\", \"2015-01-25 23:00:00\", \"2015-01-26 00:00:00\", \"2015-01-26 01:00:00\", \"2015-01-26 02:00:00\", \"2015-01-26 03:00:00\", \"2015-01-26 04:00:00\", \"2015-01-26 05:00:00\", \"2015-01-26 06:00:00\", \"2015-01-26 07:00:00\", \"2015-01-26 08:00:00\", \"2015-01-26 09:00:00\", \"2015-01-26 10:00:00\", \"2015-01-26 11:00:00\", \"2015-01-26 12:00:00\", \"2015-01-26 13:00:00\", \"2015-01-26 14:00:00\", \"2015-01-26 15:00:00\", \"2015-01-26 16:00:00\", \"2015-01-26 17:00:00\", \"2015-01-26 18:00:00\", \"2015-01-26 19:00:00\", \"2015-01-26 20:00:00\", \"2015-01-26 21:00:00\", \"2015-01-26 22:00:00\", \"2015-01-26 23:00:00\", \"2015-01-27 00:00:00\", \"2015-01-27 01:00:00\", \"2015-01-27 02:00:00\", \"2015-01-27 03:00:00\", \"2015-01-27 04:00:00\", \"2015-01-27 05:00:00\", \"2015-01-27 06:00:00\", \"2015-01-27 07:00:00\", \"2015-01-27 08:00:00\", \"2015-01-27 09:00:00\", \"2015-01-27 10:00:00\", \"2015-01-27 11:00:00\", \"2015-01-27 12:00:00\", \"2015-01-27 13:00:00\", \"2015-01-27 14:00:00\", \"2015-01-27 15:00:00\", \"2015-01-27 16:00:00\", \"2015-01-27 17:00:00\", \"2015-01-27 18:00:00\", \"2015-01-27 19:00:00\", \"2015-01-27 20:00:00\", \"2015-01-27 21:00:00\", \"2015-01-27 22:00:00\", \"2015-01-27 23:00:00\", \"2015-01-28 00:00:00\", \"2015-01-28 01:00:00\", \"2015-01-28 02:00:00\", \"2015-01-28 03:00:00\", \"2015-01-28 04:00:00\", \"2015-01-28 05:00:00\", \"2015-01-28 06:00:00\", \"2015-01-28 07:00:00\", \"2015-01-28 08:00:00\", \"2015-01-28 09:00:00\", \"2015-01-28 10:00:00\", \"2015-01-28 11:00:00\", \"2015-01-28 12:00:00\", \"2015-01-28 13:00:00\", \"2015-01-28 14:00:00\", \"2015-01-28 15:00:00\", \"2015-01-28 16:00:00\", \"2015-01-28 17:00:00\", \"2015-01-28 18:00:00\", \"2015-01-28 19:00:00\", \"2015-01-28 20:00:00\", \"2015-01-28 21:00:00\", \"2015-01-28 22:00:00\", \"2015-01-28 23:00:00\", \"2015-01-29 00:00:00\", \"2015-01-29 01:00:00\", \"2015-01-29 02:00:00\", \"2015-01-29 03:00:00\", \"2015-01-29 04:00:00\", \"2015-01-29 05:00:00\", \"2015-01-29 06:00:00\", \"2015-01-29 07:00:00\", \"2015-01-29 08:00:00\", \"2015-01-29 09:00:00\", \"2015-01-29 10:00:00\", \"2015-01-29 11:00:00\", \"2015-01-29 12:00:00\", \"2015-01-29 13:00:00\", \"2015-01-29 14:00:00\", \"2015-01-29 15:00:00\", \"2015-01-29 16:00:00\", \"2015-01-29 17:00:00\", \"2015-01-29 18:00:00\", \"2015-01-29 19:00:00\", \"2015-01-29 20:00:00\", \"2015-01-29 21:00:00\", \"2015-01-29 22:00:00\", \"2015-01-29 23:00:00\", \"2015-01-30 00:00:00\", \"2015-01-30 01:00:00\", \"2015-01-30 02:00:00\", \"2015-01-30 03:00:00\", \"2015-01-30 04:00:00\", \"2015-01-30 05:00:00\", \"2015-01-30 06:00:00\", \"2015-01-30 07:00:00\", \"2015-01-30 08:00:00\", \"2015-01-30 09:00:00\", \"2015-01-30 10:00:00\", \"2015-01-30 11:00:00\", \"2015-01-30 12:00:00\", \"2015-01-30 13:00:00\", \"2015-01-30 14:00:00\", \"2015-01-30 15:00:00\", \"2015-01-30 16:00:00\", \"2015-01-30 17:00:00\", \"2015-01-30 18:00:00\", \"2015-01-30 19:00:00\", \"2015-01-30 20:00:00\", \"2015-01-30 21:00:00\", \"2015-01-30 22:00:00\", \"2015-01-30 23:00:00\", \"2015-01-31 00:00:00\", \"2015-01-31 01:00:00\", \"2015-01-31 02:00:00\", \"2015-01-31 03:00:00\", \"2015-01-31 04:00:00\", \"2015-01-31 05:00:00\", \"2015-01-31 06:00:00\", \"2015-01-31 07:00:00\", \"2015-01-31 08:00:00\", \"2015-01-31 09:00:00\", \"2015-01-31 10:00:00\", \"2015-01-31 11:00:00\", \"2015-01-31 12:00:00\", \"2015-01-31 13:00:00\", \"2015-01-31 14:00:00\", \"2015-01-31 15:00:00\", \"2015-01-31 16:00:00\", \"2015-01-31 17:00:00\", \"2015-01-31 18:00:00\", \"2015-01-31 19:00:00\", \"2015-01-31 20:00:00\", \"2015-01-31 21:00:00\", \"2015-01-31 22:00:00\", \"2015-01-31 23:00:00\"], \"y\": [9427.417740972098, 9746.501074584783, 9939.213944154752, 10249.914180807431, 10599.506259002044, 11051.736237599305, 11394.588377372449, 11830.068225060906, 12209.911805103899, 12631.229140482337, 13038.186787483599, 13466.743938760332, 13904.22673890034, 14373.855338332696, 14850.87594020034, 15345.49621244338, 15860.528684196435, 16396.06078658894, 16929.20132882594, 17495.252467355866, 18089.285731699896, 18684.347843390424, 19320.609447796374, 19956.715304484103, 9805.267997774257, 10136.568403807512, 10342.427874587973, 10683.884031865133, 11167.995958075573, 11489.445065957709, 11880.743543781578, 12280.65842709953, 12720.016611820516, 13131.86042580567, 13587.725438786827, 14027.312551692874, 14482.196253936043, 14957.844638194114, 15453.36231196212, 15993.674974619718, 16519.259163001025, 17064.367894422478, 17636.7916296011, 18210.272424391573, 18821.983735112804, 19448.4863164466, 20091.12281578216, 20768.178531774447, 8225.997502711756, 8469.701698832514, 8700.699493380798, 9026.925889941565, 9287.389990172718, 9640.304506919128, 9994.210153308915, 10343.693132729608, 10678.669046077235, 11030.150837565388, 11367.124162086157, 11751.22436034964, 12165.99272961981, 12564.366009776428, 12991.882232369151, 13420.45319007385, 13861.701933053853, 14306.359079758227, 14772.92531263232, 15276.913964802232, 15721.797438152651, 16228.441222490232, 16448.19144592459, 16173.483087890869, 7590.9933326156815, 5975.476658433435, 5505.306499410892, 3745.4867545488482, 4066.1990020728194, 6798.454644672664, 9129.14557436296, 10145.242096343662, 10856.649052071165, 11439.400764283791, 11783.236806923038, 12197.316564870729, 12617.261787065778, 13038.359882257504, 13484.083686277678, 13919.57876917011, 14389.799965226654, 14882.371735178627, 15376.546677363134, 15893.897509881524, 16422.808598057465, 16953.34729849031, 17551.524591238824, 18126.930775062185, 8889.594307171787, 9055.6217107941, 9343.986522278366, 9589.496645341764, 10007.537048403226, 10423.584202593009, 10838.747242503463, 11191.959646103085, 11578.32973921692, 11941.725791609648, 12336.694005058833, 12723.377365599772, 13145.750499505722, 13583.00770782565, 14057.77617146984, 14533.71861065006, 14998.16774137515, 15491.519939508977, 16022.731985616396, 16567.170115511966, 17098.599221208668, 17673.969711342965, 18274.25534118197, 18880.829479589484, 9278.253490932362, 9562.075249613139, 9741.884181023397, 10047.418407695364, 10495.324709077904, 10857.027592382152, 11272.709144444543, 11647.984120049945, 12031.631703272757, 12424.06195032681, 12824.168956232093, 13250.469596012754, 13680.243026508757, 14142.898707685546, 14617.68317652385, 15089.108159653477, 15586.344770210766, 16128.363860422282, 16668.135383491062, 17225.571904417506, 17808.71939423867, 18394.693100593387, 19021.907688433417, 19661.324331303163, 9656.853664559187, 9972.002318253237, 10289.164626720032, 10588.33506258543, 10928.857509346139, 11338.606682412408, 11745.078236305295, 12134.956785706925, 12535.951984569849, 12942.276968073535, 13341.764758145384, 13796.292721386511, 14249.195636852764, 14732.512373492431, 15230.802560728003, 15735.609870337837, 16248.245898624706, 16801.272176957104, 17381.2422204388, 17930.57776438217, 18540.032113680052, 19156.050565947295, 19787.52385795598, 20468.99452871878, 9542.33045650517, 9868.372260368442, 10186.704700542323, 10512.910075807824, 10862.84163462658, 11167.67683420707, 11564.31087066049, 11961.63425460337, 12372.006851550703, 12786.798444679334, 13213.94549997055, 13642.150541685827, 14097.315279148444, 14564.012071849093, 15041.896959963087, 15547.157890260087, 16071.812522047769, 16599.017281856795, 17154.02960692839, 17719.753488872, 18323.361039338786, 18932.365816653677, 19553.027996682966, 20217.53125271469]}, {\"line\": {\"color\": \"rgba(50, 171, 96, 1.0)\", \"dash\": \"solid\", \"shape\": \"linear\", \"width\": 1.3}, \"mode\": \"lines\", \"name\": \"rf_pred\", \"text\": \"\", \"type\": \"scatter\", \"x\": [\"2015-01-24 00:00:00\", \"2015-01-24 01:00:00\", \"2015-01-24 02:00:00\", \"2015-01-24 03:00:00\", \"2015-01-24 04:00:00\", \"2015-01-24 05:00:00\", \"2015-01-24 06:00:00\", \"2015-01-24 07:00:00\", \"2015-01-24 08:00:00\", \"2015-01-24 09:00:00\", \"2015-01-24 10:00:00\", \"2015-01-24 11:00:00\", \"2015-01-24 12:00:00\", \"2015-01-24 13:00:00\", \"2015-01-24 14:00:00\", \"2015-01-24 15:00:00\", \"2015-01-24 16:00:00\", \"2015-01-24 17:00:00\", \"2015-01-24 18:00:00\", \"2015-01-24 19:00:00\", \"2015-01-24 20:00:00\", \"2015-01-24 21:00:00\", \"2015-01-24 22:00:00\", \"2015-01-24 23:00:00\", \"2015-01-25 00:00:00\", \"2015-01-25 01:00:00\", \"2015-01-25 02:00:00\", \"2015-01-25 03:00:00\", \"2015-01-25 04:00:00\", \"2015-01-25 05:00:00\", \"2015-01-25 06:00:00\", \"2015-01-25 07:00:00\", \"2015-01-25 08:00:00\", \"2015-01-25 09:00:00\", \"2015-01-25 10:00:00\", \"2015-01-25 11:00:00\", \"2015-01-25 12:00:00\", \"2015-01-25 13:00:00\", \"2015-01-25 14:00:00\", \"2015-01-25 15:00:00\", \"2015-01-25 16:00:00\", \"2015-01-25 17:00:00\", \"2015-01-25 18:00:00\", \"2015-01-25 19:00:00\", \"2015-01-25 20:00:00\", \"2015-01-25 21:00:00\", \"2015-01-25 22:00:00\", \"2015-01-25 23:00:00\", \"2015-01-26 00:00:00\", \"2015-01-26 01:00:00\", \"2015-01-26 02:00:00\", \"2015-01-26 03:00:00\", \"2015-01-26 04:00:00\", \"2015-01-26 05:00:00\", \"2015-01-26 06:00:00\", \"2015-01-26 07:00:00\", \"2015-01-26 08:00:00\", \"2015-01-26 09:00:00\", \"2015-01-26 10:00:00\", \"2015-01-26 11:00:00\", \"2015-01-26 12:00:00\", \"2015-01-26 13:00:00\", \"2015-01-26 14:00:00\", \"2015-01-26 15:00:00\", \"2015-01-26 16:00:00\", \"2015-01-26 17:00:00\", \"2015-01-26 18:00:00\", \"2015-01-26 19:00:00\", \"2015-01-26 20:00:00\", \"2015-01-26 21:00:00\", \"2015-01-26 22:00:00\", \"2015-01-26 23:00:00\", \"2015-01-27 00:00:00\", \"2015-01-27 01:00:00\", \"2015-01-27 02:00:00\", \"2015-01-27 03:00:00\", \"2015-01-27 04:00:00\", \"2015-01-27 05:00:00\", \"2015-01-27 06:00:00\", \"2015-01-27 07:00:00\", \"2015-01-27 08:00:00\", \"2015-01-27 09:00:00\", \"2015-01-27 10:00:00\", \"2015-01-27 11:00:00\", \"2015-01-27 12:00:00\", \"2015-01-27 13:00:00\", \"2015-01-27 14:00:00\", \"2015-01-27 15:00:00\", \"2015-01-27 16:00:00\", \"2015-01-27 17:00:00\", \"2015-01-27 18:00:00\", \"2015-01-27 19:00:00\", \"2015-01-27 20:00:00\", \"2015-01-27 21:00:00\", \"2015-01-27 22:00:00\", \"2015-01-27 23:00:00\", \"2015-01-28 00:00:00\", \"2015-01-28 01:00:00\", \"2015-01-28 02:00:00\", \"2015-01-28 03:00:00\", \"2015-01-28 04:00:00\", \"2015-01-28 05:00:00\", \"2015-01-28 06:00:00\", \"2015-01-28 07:00:00\", \"2015-01-28 08:00:00\", \"2015-01-28 09:00:00\", \"2015-01-28 10:00:00\", \"2015-01-28 11:00:00\", \"2015-01-28 12:00:00\", \"2015-01-28 13:00:00\", \"2015-01-28 14:00:00\", \"2015-01-28 15:00:00\", \"2015-01-28 16:00:00\", \"2015-01-28 17:00:00\", \"2015-01-28 18:00:00\", \"2015-01-28 19:00:00\", \"2015-01-28 20:00:00\", \"2015-01-28 21:00:00\", \"2015-01-28 22:00:00\", \"2015-01-28 23:00:00\", \"2015-01-29 00:00:00\", \"2015-01-29 01:00:00\", \"2015-01-29 02:00:00\", \"2015-01-29 03:00:00\", \"2015-01-29 04:00:00\", \"2015-01-29 05:00:00\", \"2015-01-29 06:00:00\", \"2015-01-29 07:00:00\", \"2015-01-29 08:00:00\", \"2015-01-29 09:00:00\", \"2015-01-29 10:00:00\", \"2015-01-29 11:00:00\", \"2015-01-29 12:00:00\", \"2015-01-29 13:00:00\", \"2015-01-29 14:00:00\", \"2015-01-29 15:00:00\", \"2015-01-29 16:00:00\", \"2015-01-29 17:00:00\", \"2015-01-29 18:00:00\", \"2015-01-29 19:00:00\", \"2015-01-29 20:00:00\", \"2015-01-29 21:00:00\", \"2015-01-29 22:00:00\", \"2015-01-29 23:00:00\", \"2015-01-30 00:00:00\", \"2015-01-30 01:00:00\", \"2015-01-30 02:00:00\", \"2015-01-30 03:00:00\", \"2015-01-30 04:00:00\", \"2015-01-30 05:00:00\", \"2015-01-30 06:00:00\", \"2015-01-30 07:00:00\", \"2015-01-30 08:00:00\", \"2015-01-30 09:00:00\", \"2015-01-30 10:00:00\", \"2015-01-30 11:00:00\", \"2015-01-30 12:00:00\", \"2015-01-30 13:00:00\", \"2015-01-30 14:00:00\", \"2015-01-30 15:00:00\", \"2015-01-30 16:00:00\", \"2015-01-30 17:00:00\", \"2015-01-30 18:00:00\", \"2015-01-30 19:00:00\", \"2015-01-30 20:00:00\", \"2015-01-30 21:00:00\", \"2015-01-30 22:00:00\", \"2015-01-30 23:00:00\", \"2015-01-31 00:00:00\", \"2015-01-31 01:00:00\", \"2015-01-31 02:00:00\", \"2015-01-31 03:00:00\", \"2015-01-31 04:00:00\", \"2015-01-31 05:00:00\", \"2015-01-31 06:00:00\", \"2015-01-31 07:00:00\", \"2015-01-31 08:00:00\", \"2015-01-31 09:00:00\", \"2015-01-31 10:00:00\", \"2015-01-31 11:00:00\", \"2015-01-31 12:00:00\", \"2015-01-31 13:00:00\", \"2015-01-31 14:00:00\", \"2015-01-31 15:00:00\", \"2015-01-31 16:00:00\", \"2015-01-31 17:00:00\", \"2015-01-31 18:00:00\", \"2015-01-31 19:00:00\", \"2015-01-31 20:00:00\", \"2015-01-31 21:00:00\", \"2015-01-31 22:00:00\", \"2015-01-31 23:00:00\"], \"y\": [25989.295000000006, 22006.784999999996, 18183.164999999997, 13873.139999999998, 8613.425, 4180.590000000001, 4828.655, 7460.404999999998, 12265.100000000002, 16120.67500000001, 19352.260000000006, 22109.874999999996, 23698.77999999999, 23936.67000000001, 23881.590000000004, 23331.31500000001, 21625.814999999995, 23289.110000000008, 27667.430000000004, 28279.869999999995, 25457.739999999998, 25079.655, 27017.65000000001, 27622.260000000013, 26894.155000000006, 23422.645000000008, 19879.484999999993, 15242.839999999998, 9146.749999999998, 4150.345, 4280.885, 5897.325, 9969.905, 14163.485000000002, 18794.625000000007, 22486.855000000003, 24193.530000000013, 24424.71, 24370.854999999992, 22807.89500000001, 20659.83500000001, 20855.745000000014, 21800.895000000008, 19067.899999999998, 16813.620000000006, 16396.975000000002, 16681.085000000003, 14987.504999999997, 10101.125, 7154.180000000001, 4931.84, 3461.4050000000007, 3067.7399999999993, 3873.4349999999995, 7711.950000000003, 12079.93, 16123.995000000006, 16766.0, 16934.19, 17580.114999999994, 18932.729999999992, 19252.77999999999, 20156.905000000002, 20103.86499999999, 18555.129999999994, 20578.574999999997, 22639.070000000007, 21649.165000000005, 19032.904999999995, 17847.190000000002, 15612.800000000001, 11165.700000000003, 8030.494999999999, 4036.7600000000007, 2291.9400000000005, 838.3199999999999, 997.4199999999998, 2575.2650000000003, 9939.165, 18975.850000000006, 23392.51999999999, 22408.640000000007, 19433.855, 18899.019999999993, 19356.899999999998, 19268.83000000001, 20576.305000000004, 20262.67, 17752.310000000005, 21452.95, 27291.699999999993, 27113.33, 25504.575000000008, 25313.90500000001, 22655.135, 16171.865000000005, 10384.640000000001, 6581.005000000002, 4161.000000000001, 2855.325, 2673.109999999999, 4136.755, 11322.900000000001, 20889.060000000012, 24778.87000000001, 22881.495000000003, 20093.33000000001, 19482.355000000007, 20153.099999999995, 19815.245000000003, 21117.610000000004, 20652.269999999997, 17671.01500000001, 21976.22999999999, 28088.050000000007, 28572.6, 26665.449999999993, 26543.870000000006, 24463.635000000002, 18009.265000000003, 11431.934999999998, 7237.790000000001, 4455.465, 3168.614999999999, 2850.4649999999997, 4172.5599999999995, 11405.830000000002, 20941.989999999998, 24793.900000000005, 22942.5, 19952.975000000002, 19536.775000000005, 20361.310000000005, 19909.990000000005, 21360.215000000004, 20915.785000000003, 17784.164999999994, 22069.329999999998, 28365.625000000004, 29742.065000000002, 27984.295000000006, 28066.064999999984, 27110.125000000004, 23174.549999999992, 15149.190000000006, 9686.335, 6470.2599999999975, 4311.935000000001, 3593.730000000002, 4426.074999999999, 11207.355000000005, 20414.699999999993, 23872.005, 22645.12000000001, 19863.969999999998, 19738.444999999992, 20560.764999999996, 20400.57499999999, 21895.630000000005, 21015.50000000001, 17908.940000000006, 22413.11, 28671.895000000015, 30289.395000000004, 28053.644999999997, 27456.920000000006, 28269.87, 27634.235, 25988.25, 22001.535, 18181.209999999992, 13877.07, 8615.595, 4155.469999999999, 4833.895000000003, 7446.33, 12263.810000000001, 16120.080000000007, 19370.244999999988, 22122.82999999999, 23727.114999999987, 23945.635, 23888.984999999993, 23339.199999999993, 21636.805, 23294.65000000001, 27676.13999999999, 28291.799999999996, 25461.524999999998, 25085.49, 27014.940000000013, 27630.215000000004]}, {\"line\": {\"color\": \"rgba(128, 0, 128, 1.0)\", \"dash\": \"solid\", \"shape\": \"linear\", \"width\": 1.3}, \"mode\": \"lines\", \"name\": \"xgb_pred\", \"text\": \"\", \"type\": \"scatter\", \"x\": [\"2015-01-24 00:00:00\", \"2015-01-24 01:00:00\", \"2015-01-24 02:00:00\", \"2015-01-24 03:00:00\", \"2015-01-24 04:00:00\", \"2015-01-24 05:00:00\", \"2015-01-24 06:00:00\", \"2015-01-24 07:00:00\", \"2015-01-24 08:00:00\", \"2015-01-24 09:00:00\", \"2015-01-24 10:00:00\", \"2015-01-24 11:00:00\", \"2015-01-24 12:00:00\", \"2015-01-24 13:00:00\", \"2015-01-24 14:00:00\", \"2015-01-24 15:00:00\", \"2015-01-24 16:00:00\", \"2015-01-24 17:00:00\", \"2015-01-24 18:00:00\", \"2015-01-24 19:00:00\", \"2015-01-24 20:00:00\", \"2015-01-24 21:00:00\", \"2015-01-24 22:00:00\", \"2015-01-24 23:00:00\", \"2015-01-25 00:00:00\", \"2015-01-25 01:00:00\", \"2015-01-25 02:00:00\", \"2015-01-25 03:00:00\", \"2015-01-25 04:00:00\", \"2015-01-25 05:00:00\", \"2015-01-25 06:00:00\", \"2015-01-25 07:00:00\", \"2015-01-25 08:00:00\", \"2015-01-25 09:00:00\", \"2015-01-25 10:00:00\", \"2015-01-25 11:00:00\", \"2015-01-25 12:00:00\", \"2015-01-25 13:00:00\", \"2015-01-25 14:00:00\", \"2015-01-25 15:00:00\", \"2015-01-25 16:00:00\", \"2015-01-25 17:00:00\", \"2015-01-25 18:00:00\", \"2015-01-25 19:00:00\", \"2015-01-25 20:00:00\", \"2015-01-25 21:00:00\", \"2015-01-25 22:00:00\", \"2015-01-25 23:00:00\", \"2015-01-26 00:00:00\", \"2015-01-26 01:00:00\", \"2015-01-26 02:00:00\", \"2015-01-26 03:00:00\", \"2015-01-26 04:00:00\", \"2015-01-26 05:00:00\", \"2015-01-26 06:00:00\", \"2015-01-26 07:00:00\", \"2015-01-26 08:00:00\", \"2015-01-26 09:00:00\", \"2015-01-26 10:00:00\", \"2015-01-26 11:00:00\", \"2015-01-26 12:00:00\", \"2015-01-26 13:00:00\", \"2015-01-26 14:00:00\", \"2015-01-26 15:00:00\", \"2015-01-26 16:00:00\", \"2015-01-26 17:00:00\", \"2015-01-26 18:00:00\", \"2015-01-26 19:00:00\", \"2015-01-26 20:00:00\", \"2015-01-26 21:00:00\", \"2015-01-26 22:00:00\", \"2015-01-26 23:00:00\", \"2015-01-27 00:00:00\", \"2015-01-27 01:00:00\", \"2015-01-27 02:00:00\", \"2015-01-27 03:00:00\", \"2015-01-27 04:00:00\", \"2015-01-27 05:00:00\", \"2015-01-27 06:00:00\", \"2015-01-27 07:00:00\", \"2015-01-27 08:00:00\", \"2015-01-27 09:00:00\", \"2015-01-27 10:00:00\", \"2015-01-27 11:00:00\", \"2015-01-27 12:00:00\", \"2015-01-27 13:00:00\", \"2015-01-27 14:00:00\", \"2015-01-27 15:00:00\", \"2015-01-27 16:00:00\", \"2015-01-27 17:00:00\", \"2015-01-27 18:00:00\", \"2015-01-27 19:00:00\", \"2015-01-27 20:00:00\", \"2015-01-27 21:00:00\", \"2015-01-27 22:00:00\", \"2015-01-27 23:00:00\", \"2015-01-28 00:00:00\", \"2015-01-28 01:00:00\", \"2015-01-28 02:00:00\", \"2015-01-28 03:00:00\", \"2015-01-28 04:00:00\", \"2015-01-28 05:00:00\", \"2015-01-28 06:00:00\", \"2015-01-28 07:00:00\", \"2015-01-28 08:00:00\", \"2015-01-28 09:00:00\", \"2015-01-28 10:00:00\", \"2015-01-28 11:00:00\", \"2015-01-28 12:00:00\", \"2015-01-28 13:00:00\", \"2015-01-28 14:00:00\", \"2015-01-28 15:00:00\", \"2015-01-28 16:00:00\", \"2015-01-28 17:00:00\", \"2015-01-28 18:00:00\", \"2015-01-28 19:00:00\", \"2015-01-28 20:00:00\", \"2015-01-28 21:00:00\", \"2015-01-28 22:00:00\", \"2015-01-28 23:00:00\", \"2015-01-29 00:00:00\", \"2015-01-29 01:00:00\", \"2015-01-29 02:00:00\", \"2015-01-29 03:00:00\", \"2015-01-29 04:00:00\", \"2015-01-29 05:00:00\", \"2015-01-29 06:00:00\", \"2015-01-29 07:00:00\", \"2015-01-29 08:00:00\", \"2015-01-29 09:00:00\", \"2015-01-29 10:00:00\", \"2015-01-29 11:00:00\", \"2015-01-29 12:00:00\", \"2015-01-29 13:00:00\", \"2015-01-29 14:00:00\", \"2015-01-29 15:00:00\", \"2015-01-29 16:00:00\", \"2015-01-29 17:00:00\", \"2015-01-29 18:00:00\", \"2015-01-29 19:00:00\", \"2015-01-29 20:00:00\", \"2015-01-29 21:00:00\", \"2015-01-29 22:00:00\", \"2015-01-29 23:00:00\", \"2015-01-30 00:00:00\", \"2015-01-30 01:00:00\", \"2015-01-30 02:00:00\", \"2015-01-30 03:00:00\", \"2015-01-30 04:00:00\", \"2015-01-30 05:00:00\", \"2015-01-30 06:00:00\", \"2015-01-30 07:00:00\", \"2015-01-30 08:00:00\", \"2015-01-30 09:00:00\", \"2015-01-30 10:00:00\", \"2015-01-30 11:00:00\", \"2015-01-30 12:00:00\", \"2015-01-30 13:00:00\", \"2015-01-30 14:00:00\", \"2015-01-30 15:00:00\", \"2015-01-30 16:00:00\", \"2015-01-30 17:00:00\", \"2015-01-30 18:00:00\", \"2015-01-30 19:00:00\", \"2015-01-30 20:00:00\", \"2015-01-30 21:00:00\", \"2015-01-30 22:00:00\", \"2015-01-30 23:00:00\", \"2015-01-31 00:00:00\", \"2015-01-31 01:00:00\", \"2015-01-31 02:00:00\", \"2015-01-31 03:00:00\", \"2015-01-31 04:00:00\", \"2015-01-31 05:00:00\", \"2015-01-31 06:00:00\", \"2015-01-31 07:00:00\", \"2015-01-31 08:00:00\", \"2015-01-31 09:00:00\", \"2015-01-31 10:00:00\", \"2015-01-31 11:00:00\", \"2015-01-31 12:00:00\", \"2015-01-31 13:00:00\", \"2015-01-31 14:00:00\", \"2015-01-31 15:00:00\", \"2015-01-31 16:00:00\", \"2015-01-31 17:00:00\", \"2015-01-31 18:00:00\", \"2015-01-31 19:00:00\", \"2015-01-31 20:00:00\", \"2015-01-31 21:00:00\", \"2015-01-31 22:00:00\", \"2015-01-31 23:00:00\"], \"y\": [26099.0078125, 22300.9609375, 16723.396484375, 13119.884765625, 7956.236328125, 4904.7890625, 5942.6806640625, 9981.794921875, 14526.26953125, 16530.15234375, 20751.962890625, 21749.919921875, 22761.40625, 23010.4453125, 23291.70703125, 23015.56640625, 20821.86328125, 23499.357421875, 28439.8359375, 29343.4375, 27841.435546875, 27459.646484375, 27807.919921875, 27885.64453125, 27264.529296875, 23971.453125, 19024.5390625, 14614.9443359375, 9113.640625, 5867.20166015625, 4631.96728515625, 7280.421875, 12198.189453125, 15017.6494140625, 19937.533203125, 21506.568359375, 22350.66015625, 22426.7890625, 22677.38671875, 22173.515625, 19558.46875, 20602.75390625, 22554.0625, 20605.689453125, 18039.904296875, 17205.017578125, 17245.8359375, 15088.130859375, 10670.5048828125, 6867.5263671875, 4791.87841796875, 3134.451904296875, 2893.375244140625, 3446.376953125, 8542.7734375, 14133.634765625, 17247.072265625, 17945.119140625, 16244.4775390625, 16590.3984375, 17744.775390625, 17808.939453125, 18704.927734375, 18572.771484375, 16199.7177734375, 19306.73046875, 23294.072265625, 22414.537109375, 20373.45703125, 18593.048828125, 14945.912109375, 10149.3720703125, 7823.609375, 3960.494873046875, 2224.94287109375, 1055.403564453125, 1242.058349609375, 3035.134033203125, 10323.9287109375, 20071.82421875, 23956.330078125, 23701.056640625, 19348.673828125, 18967.76171875, 19725.90234375, 19819.7421875, 20544.4921875, 20255.935546875, 17591.19140625, 21783.55859375, 27662.55078125, 27903.662109375, 26326.6328125, 25504.259765625, 23810.42578125, 16882.314453125, 10193.4765625, 6474.83154296875, 3951.822265625, 3110.41845703125, 2746.962890625, 4326.98681640625, 11843.5859375, 21356.857421875, 24897.61328125, 23793.912109375, 19700.486328125, 19380.43359375, 20107.048828125, 20204.1796875, 20888.103515625, 20590.806640625, 17969.82421875, 22156.263671875, 27977.259765625, 28781.328125, 27115.2109375, 26346.330078125, 24820.923828125, 18407.953125, 10943.642578125, 6770.61181640625, 4169.01025390625, 3077.7666015625, 2807.24462890625, 4421.267578125, 11920.8369140625, 21443.232421875, 24668.365234375, 23792.044921875, 19799.90625, 19600.275390625, 20312.908203125, 20423.404296875, 21110.3671875, 20675.8046875, 18021.671875, 22179.8046875, 28585.158203125, 29467.423828125, 28037.681640625, 27414.212890625, 27058.6171875, 22470.740234375, 15139.529296875, 9588.830078125, 6574.54296875, 4450.16650390625, 4062.13134765625, 4645.39111328125, 11861.947265625, 20164.771484375, 23579.634765625, 22822.833984375, 19945.037109375, 19699.564453125, 20478.126953125, 20591.888671875, 21266.07421875, 20819.484375, 18117.470703125, 22393.091796875, 28668.44140625, 29782.56640625, 28408.20703125, 28052.2421875, 28417.22265625, 27915.39453125, 26068.10546875, 22286.119140625, 16700.986328125, 13105.212890625, 7917.6123046875, 4897.25390625, 6032.92529296875, 9952.591796875, 14491.2685546875, 16526.52734375, 20800.951171875, 21775.484375, 22864.130859375, 23032.453125, 23273.669921875, 23062.494140625, 20823.1640625, 23484.775390625, 28422.275390625, 29404.994140625, 27845.4296875, 27477.841796875, 27814.4921875, 27926.505859375]}, {\"line\": {\"color\": \"rgba(219, 64, 82, 1.0)\", \"dash\": \"solid\", \"shape\": \"linear\", \"width\": 1.3}, \"mode\": \"lines\", \"name\": \"lgbm_pred\", \"text\": \"\", \"type\": \"scatter\", \"x\": [\"2015-01-24 00:00:00\", \"2015-01-24 01:00:00\", \"2015-01-24 02:00:00\", \"2015-01-24 03:00:00\", \"2015-01-24 04:00:00\", \"2015-01-24 05:00:00\", \"2015-01-24 06:00:00\", \"2015-01-24 07:00:00\", \"2015-01-24 08:00:00\", \"2015-01-24 09:00:00\", \"2015-01-24 10:00:00\", \"2015-01-24 11:00:00\", \"2015-01-24 12:00:00\", \"2015-01-24 13:00:00\", \"2015-01-24 14:00:00\", \"2015-01-24 15:00:00\", \"2015-01-24 16:00:00\", \"2015-01-24 17:00:00\", \"2015-01-24 18:00:00\", \"2015-01-24 19:00:00\", \"2015-01-24 20:00:00\", \"2015-01-24 21:00:00\", \"2015-01-24 22:00:00\", \"2015-01-24 23:00:00\", \"2015-01-25 00:00:00\", \"2015-01-25 01:00:00\", \"2015-01-25 02:00:00\", \"2015-01-25 03:00:00\", \"2015-01-25 04:00:00\", \"2015-01-25 05:00:00\", \"2015-01-25 06:00:00\", \"2015-01-25 07:00:00\", \"2015-01-25 08:00:00\", \"2015-01-25 09:00:00\", \"2015-01-25 10:00:00\", \"2015-01-25 11:00:00\", \"2015-01-25 12:00:00\", \"2015-01-25 13:00:00\", \"2015-01-25 14:00:00\", \"2015-01-25 15:00:00\", \"2015-01-25 16:00:00\", \"2015-01-25 17:00:00\", \"2015-01-25 18:00:00\", \"2015-01-25 19:00:00\", \"2015-01-25 20:00:00\", \"2015-01-25 21:00:00\", \"2015-01-25 22:00:00\", \"2015-01-25 23:00:00\", \"2015-01-26 00:00:00\", \"2015-01-26 01:00:00\", \"2015-01-26 02:00:00\", \"2015-01-26 03:00:00\", \"2015-01-26 04:00:00\", \"2015-01-26 05:00:00\", \"2015-01-26 06:00:00\", \"2015-01-26 07:00:00\", \"2015-01-26 08:00:00\", \"2015-01-26 09:00:00\", \"2015-01-26 10:00:00\", \"2015-01-26 11:00:00\", \"2015-01-26 12:00:00\", \"2015-01-26 13:00:00\", \"2015-01-26 14:00:00\", \"2015-01-26 15:00:00\", \"2015-01-26 16:00:00\", \"2015-01-26 17:00:00\", \"2015-01-26 18:00:00\", \"2015-01-26 19:00:00\", \"2015-01-26 20:00:00\", \"2015-01-26 21:00:00\", \"2015-01-26 22:00:00\", \"2015-01-26 23:00:00\", \"2015-01-27 00:00:00\", \"2015-01-27 01:00:00\", \"2015-01-27 02:00:00\", \"2015-01-27 03:00:00\", \"2015-01-27 04:00:00\", \"2015-01-27 05:00:00\", \"2015-01-27 06:00:00\", \"2015-01-27 07:00:00\", \"2015-01-27 08:00:00\", \"2015-01-27 09:00:00\", \"2015-01-27 10:00:00\", \"2015-01-27 11:00:00\", \"2015-01-27 12:00:00\", \"2015-01-27 13:00:00\", \"2015-01-27 14:00:00\", \"2015-01-27 15:00:00\", \"2015-01-27 16:00:00\", \"2015-01-27 17:00:00\", \"2015-01-27 18:00:00\", \"2015-01-27 19:00:00\", \"2015-01-27 20:00:00\", \"2015-01-27 21:00:00\", \"2015-01-27 22:00:00\", \"2015-01-27 23:00:00\", \"2015-01-28 00:00:00\", \"2015-01-28 01:00:00\", \"2015-01-28 02:00:00\", \"2015-01-28 03:00:00\", \"2015-01-28 04:00:00\", \"2015-01-28 05:00:00\", \"2015-01-28 06:00:00\", \"2015-01-28 07:00:00\", \"2015-01-28 08:00:00\", \"2015-01-28 09:00:00\", \"2015-01-28 10:00:00\", \"2015-01-28 11:00:00\", \"2015-01-28 12:00:00\", \"2015-01-28 13:00:00\", \"2015-01-28 14:00:00\", \"2015-01-28 15:00:00\", \"2015-01-28 16:00:00\", \"2015-01-28 17:00:00\", \"2015-01-28 18:00:00\", \"2015-01-28 19:00:00\", \"2015-01-28 20:00:00\", \"2015-01-28 21:00:00\", \"2015-01-28 22:00:00\", \"2015-01-28 23:00:00\", \"2015-01-29 00:00:00\", \"2015-01-29 01:00:00\", \"2015-01-29 02:00:00\", \"2015-01-29 03:00:00\", \"2015-01-29 04:00:00\", \"2015-01-29 05:00:00\", \"2015-01-29 06:00:00\", \"2015-01-29 07:00:00\", \"2015-01-29 08:00:00\", \"2015-01-29 09:00:00\", \"2015-01-29 10:00:00\", \"2015-01-29 11:00:00\", \"2015-01-29 12:00:00\", \"2015-01-29 13:00:00\", \"2015-01-29 14:00:00\", \"2015-01-29 15:00:00\", \"2015-01-29 16:00:00\", \"2015-01-29 17:00:00\", \"2015-01-29 18:00:00\", \"2015-01-29 19:00:00\", \"2015-01-29 20:00:00\", \"2015-01-29 21:00:00\", \"2015-01-29 22:00:00\", \"2015-01-29 23:00:00\", \"2015-01-30 00:00:00\", \"2015-01-30 01:00:00\", \"2015-01-30 02:00:00\", \"2015-01-30 03:00:00\", \"2015-01-30 04:00:00\", \"2015-01-30 05:00:00\", \"2015-01-30 06:00:00\", \"2015-01-30 07:00:00\", \"2015-01-30 08:00:00\", \"2015-01-30 09:00:00\", \"2015-01-30 10:00:00\", \"2015-01-30 11:00:00\", \"2015-01-30 12:00:00\", \"2015-01-30 13:00:00\", \"2015-01-30 14:00:00\", \"2015-01-30 15:00:00\", \"2015-01-30 16:00:00\", \"2015-01-30 17:00:00\", \"2015-01-30 18:00:00\", \"2015-01-30 19:00:00\", \"2015-01-30 20:00:00\", \"2015-01-30 21:00:00\", \"2015-01-30 22:00:00\", \"2015-01-30 23:00:00\", \"2015-01-31 00:00:00\", \"2015-01-31 01:00:00\", \"2015-01-31 02:00:00\", \"2015-01-31 03:00:00\", \"2015-01-31 04:00:00\", \"2015-01-31 05:00:00\", \"2015-01-31 06:00:00\", \"2015-01-31 07:00:00\", \"2015-01-31 08:00:00\", \"2015-01-31 09:00:00\", \"2015-01-31 10:00:00\", \"2015-01-31 11:00:00\", \"2015-01-31 12:00:00\", \"2015-01-31 13:00:00\", \"2015-01-31 14:00:00\", \"2015-01-31 15:00:00\", \"2015-01-31 16:00:00\", \"2015-01-31 17:00:00\", \"2015-01-31 18:00:00\", \"2015-01-31 19:00:00\", \"2015-01-31 20:00:00\", \"2015-01-31 21:00:00\", \"2015-01-31 22:00:00\", \"2015-01-31 23:00:00\"], \"y\": [25841.05637566525, 22203.56467751486, 17415.697154838563, 12632.975078364667, 7776.486818427795, 4709.425085854257, 6941.56953737223, 12234.588143251156, 15392.11453299958, 17239.774983339797, 18822.525526067875, 21190.110892635694, 22593.043407456993, 22901.66046657967, 23091.587694440943, 22967.68845042111, 21855.080084058056, 23746.340543224924, 28983.537451951954, 29554.65239567624, 28119.082921095727, 27640.173150246617, 27682.025403257685, 27451.829951224387, 26649.0552372216, 23538.664489381972, 18997.883305189393, 13539.360600942227, 8469.456821858059, 4849.229735765729, 3745.0207622523753, 7107.692971634536, 10216.306761845979, 13644.470345831614, 18830.203767423638, 21254.970659857147, 22745.986478155253, 22881.438586947195, 23046.190284222266, 22847.043115296397, 20901.887186603173, 21255.183185846534, 21808.025382750133, 20333.639808646643, 17699.057104897896, 16810.037267451946, 16237.310904702868, 14030.279530371923, 9866.290723337966, 5937.988190556166, 3944.8211488468214, 3118.9445756876526, 2924.2458045926246, 3351.8016053452884, 8703.708035294423, 14452.499233295357, 17740.752487668175, 18170.90847260513, 17087.92604021005, 17458.76960263353, 18281.817574793487, 18387.151685088265, 18943.786859198684, 18981.679925430944, 17949.207294425363, 19813.70313419733, 23143.161735202193, 23348.631732354326, 20595.879137556833, 19346.844113998122, 16460.860145426544, 11543.400868320348, 8080.024581396976, 4063.054313349537, 2394.439423048523, 1145.985059514127, 1396.0724902745121, 2566.409587327758, 9527.884614105062, 18447.177082841874, 22463.922014246735, 22868.502165325248, 19841.762998071063, 19357.543586127293, 20122.87569008507, 20258.037900410258, 20838.780462680457, 20780.417545756714, 18343.33969801209, 21925.543073814886, 27358.397611284392, 27631.018247333373, 26072.026067397597, 25393.997194538617, 23588.398756591738, 17019.42855573091, 9929.746407137665, 5968.924675187138, 3905.7496062724717, 3299.344256125586, 3143.7062924547477, 3784.2266940333006, 11617.910774054086, 20257.76070164942, 23601.080945934293, 23087.70703894217, 20274.692186259133, 19677.95233952891, 20454.61358156735, 20543.69181661096, 21193.689634923005, 21266.411808253317, 18607.443167050522, 22203.254233449785, 27997.794535571596, 28512.975021397102, 26809.27200317869, 26208.06771977204, 24928.26979815917, 18747.990691166975, 11544.353636523938, 7088.788437376854, 4408.386097561166, 3341.384316060331, 3217.6906902522674, 3747.8626289350664, 11540.486610720856, 20058.880228328995, 23243.24248302788, 22963.071487037196, 20222.566772041602, 19742.57988411423, 20458.41503931954, 20606.82135854261, 21183.348401920244, 21185.06214172478, 18575.594402211213, 22231.0090604307, 28187.596910086482, 28924.855991678483, 27432.036613284297, 27008.721962790245, 26313.11075427931, 22803.5953996442, 14393.884398582159, 9549.928679934024, 6516.60211961659, 4194.526905890453, 3805.9618974035548, 4033.0475718576204, 11441.973646854301, 19241.035185752993, 22524.874316894406, 22428.362838885878, 20173.979850864227, 20004.995470134858, 20912.18611284992, 21024.92641223398, 21655.090340138413, 21688.762345115512, 19034.918234514527, 22792.5420163486, 28905.575853465063, 29747.30188112417, 28330.32547645828, 27937.888798176715, 27710.892170054587, 27362.174075122766, 25788.77935238439, 22165.14969646686, 17406.237444072016, 12643.125694675395, 7806.789920502078, 4694.287936154131, 6979.4536060715955, 12178.015892576837, 15450.3783223195, 17225.31997985504, 18875.307193759974, 21211.055725844348, 22720.417194388643, 22968.82719132518, 23091.176090489236, 23011.831266486854, 21955.45302319563, 23726.739325567414, 28958.12720824039, 29601.97907536857, 28144.663097570898, 27672.516758710986, 27647.342784163964, 27515.832115279092]}],\n",
       "                        {\"legend\": {\"bgcolor\": \"#F5F6F9\", \"font\": {\"color\": \"#4D5663\"}}, \"paper_bgcolor\": \"#F5F6F9\", \"plot_bgcolor\": \"#F5F6F9\", \"template\": {\"data\": {\"bar\": [{\"error_x\": {\"color\": \"#2a3f5f\"}, \"error_y\": {\"color\": \"#2a3f5f\"}, \"marker\": {\"line\": {\"color\": \"#E5ECF6\", \"width\": 0.5}}, \"type\": \"bar\"}], \"barpolar\": [{\"marker\": {\"line\": {\"color\": \"#E5ECF6\", \"width\": 0.5}}, \"type\": \"barpolar\"}], \"carpet\": [{\"aaxis\": {\"endlinecolor\": \"#2a3f5f\", \"gridcolor\": \"white\", \"linecolor\": \"white\", \"minorgridcolor\": \"white\", \"startlinecolor\": \"#2a3f5f\"}, \"baxis\": {\"endlinecolor\": \"#2a3f5f\", \"gridcolor\": \"white\", \"linecolor\": \"white\", \"minorgridcolor\": \"white\", \"startlinecolor\": \"#2a3f5f\"}, \"type\": \"carpet\"}], \"choropleth\": [{\"colorbar\": {\"outlinewidth\": 0, \"ticks\": \"\"}, \"type\": \"choropleth\"}], \"contour\": [{\"colorbar\": {\"outlinewidth\": 0, \"ticks\": \"\"}, \"colorscale\": [[0.0, \"#0d0887\"], [0.1111111111111111, \"#46039f\"], [0.2222222222222222, \"#7201a8\"], [0.3333333333333333, \"#9c179e\"], [0.4444444444444444, \"#bd3786\"], [0.5555555555555556, \"#d8576b\"], [0.6666666666666666, \"#ed7953\"], [0.7777777777777778, \"#fb9f3a\"], [0.8888888888888888, \"#fdca26\"], [1.0, \"#f0f921\"]], \"type\": \"contour\"}], \"contourcarpet\": [{\"colorbar\": {\"outlinewidth\": 0, \"ticks\": \"\"}, \"type\": \"contourcarpet\"}], \"heatmap\": [{\"colorbar\": {\"outlinewidth\": 0, \"ticks\": \"\"}, \"colorscale\": [[0.0, \"#0d0887\"], [0.1111111111111111, \"#46039f\"], [0.2222222222222222, \"#7201a8\"], [0.3333333333333333, \"#9c179e\"], [0.4444444444444444, \"#bd3786\"], [0.5555555555555556, \"#d8576b\"], [0.6666666666666666, \"#ed7953\"], [0.7777777777777778, \"#fb9f3a\"], [0.8888888888888888, \"#fdca26\"], [1.0, \"#f0f921\"]], \"type\": \"heatmap\"}], \"heatmapgl\": [{\"colorbar\": {\"outlinewidth\": 0, \"ticks\": \"\"}, \"colorscale\": [[0.0, \"#0d0887\"], [0.1111111111111111, \"#46039f\"], [0.2222222222222222, \"#7201a8\"], [0.3333333333333333, \"#9c179e\"], [0.4444444444444444, \"#bd3786\"], [0.5555555555555556, \"#d8576b\"], [0.6666666666666666, \"#ed7953\"], [0.7777777777777778, \"#fb9f3a\"], [0.8888888888888888, \"#fdca26\"], [1.0, \"#f0f921\"]], \"type\": \"heatmapgl\"}], \"histogram\": [{\"marker\": {\"colorbar\": {\"outlinewidth\": 0, \"ticks\": \"\"}}, \"type\": \"histogram\"}], \"histogram2d\": [{\"colorbar\": {\"outlinewidth\": 0, \"ticks\": \"\"}, \"colorscale\": [[0.0, \"#0d0887\"], [0.1111111111111111, \"#46039f\"], [0.2222222222222222, \"#7201a8\"], [0.3333333333333333, \"#9c179e\"], [0.4444444444444444, \"#bd3786\"], [0.5555555555555556, \"#d8576b\"], [0.6666666666666666, \"#ed7953\"], [0.7777777777777778, \"#fb9f3a\"], [0.8888888888888888, \"#fdca26\"], [1.0, \"#f0f921\"]], \"type\": \"histogram2d\"}], \"histogram2dcontour\": [{\"colorbar\": {\"outlinewidth\": 0, \"ticks\": \"\"}, \"colorscale\": [[0.0, \"#0d0887\"], [0.1111111111111111, \"#46039f\"], [0.2222222222222222, \"#7201a8\"], [0.3333333333333333, \"#9c179e\"], [0.4444444444444444, \"#bd3786\"], [0.5555555555555556, \"#d8576b\"], [0.6666666666666666, \"#ed7953\"], [0.7777777777777778, \"#fb9f3a\"], [0.8888888888888888, \"#fdca26\"], [1.0, \"#f0f921\"]], \"type\": \"histogram2dcontour\"}], \"mesh3d\": [{\"colorbar\": {\"outlinewidth\": 0, \"ticks\": \"\"}, \"type\": \"mesh3d\"}], \"parcoords\": [{\"line\": {\"colorbar\": {\"outlinewidth\": 0, \"ticks\": \"\"}}, \"type\": \"parcoords\"}], \"pie\": [{\"automargin\": true, \"type\": \"pie\"}], \"scatter\": [{\"marker\": {\"colorbar\": {\"outlinewidth\": 0, \"ticks\": \"\"}}, \"type\": \"scatter\"}], \"scatter3d\": [{\"line\": {\"colorbar\": {\"outlinewidth\": 0, \"ticks\": \"\"}}, \"marker\": {\"colorbar\": {\"outlinewidth\": 0, \"ticks\": \"\"}}, \"type\": \"scatter3d\"}], \"scattercarpet\": [{\"marker\": {\"colorbar\": {\"outlinewidth\": 0, \"ticks\": \"\"}}, \"type\": \"scattercarpet\"}], \"scattergeo\": [{\"marker\": {\"colorbar\": {\"outlinewidth\": 0, \"ticks\": \"\"}}, \"type\": \"scattergeo\"}], \"scattergl\": [{\"marker\": {\"colorbar\": {\"outlinewidth\": 0, \"ticks\": \"\"}}, \"type\": \"scattergl\"}], \"scattermapbox\": [{\"marker\": {\"colorbar\": {\"outlinewidth\": 0, \"ticks\": \"\"}}, \"type\": \"scattermapbox\"}], \"scatterpolar\": [{\"marker\": {\"colorbar\": {\"outlinewidth\": 0, \"ticks\": \"\"}}, \"type\": \"scatterpolar\"}], \"scatterpolargl\": [{\"marker\": {\"colorbar\": {\"outlinewidth\": 0, \"ticks\": \"\"}}, \"type\": \"scatterpolargl\"}], \"scatterternary\": [{\"marker\": {\"colorbar\": {\"outlinewidth\": 0, \"ticks\": \"\"}}, \"type\": \"scatterternary\"}], \"surface\": [{\"colorbar\": {\"outlinewidth\": 0, \"ticks\": \"\"}, \"colorscale\": [[0.0, \"#0d0887\"], [0.1111111111111111, \"#46039f\"], [0.2222222222222222, \"#7201a8\"], [0.3333333333333333, \"#9c179e\"], [0.4444444444444444, \"#bd3786\"], [0.5555555555555556, \"#d8576b\"], [0.6666666666666666, \"#ed7953\"], [0.7777777777777778, \"#fb9f3a\"], [0.8888888888888888, \"#fdca26\"], [1.0, \"#f0f921\"]], \"type\": \"surface\"}], \"table\": [{\"cells\": {\"fill\": {\"color\": \"#EBF0F8\"}, \"line\": {\"color\": \"white\"}}, \"header\": {\"fill\": {\"color\": \"#C8D4E3\"}, \"line\": {\"color\": \"white\"}}, \"type\": \"table\"}]}, \"layout\": {\"annotationdefaults\": {\"arrowcolor\": \"#2a3f5f\", \"arrowhead\": 0, \"arrowwidth\": 1}, \"coloraxis\": {\"colorbar\": {\"outlinewidth\": 0, \"ticks\": \"\"}}, \"colorscale\": {\"diverging\": [[0, \"#8e0152\"], [0.1, \"#c51b7d\"], [0.2, \"#de77ae\"], [0.3, \"#f1b6da\"], [0.4, \"#fde0ef\"], [0.5, \"#f7f7f7\"], [0.6, \"#e6f5d0\"], [0.7, \"#b8e186\"], [0.8, \"#7fbc41\"], [0.9, \"#4d9221\"], [1, \"#276419\"]], \"sequential\": [[0.0, \"#0d0887\"], [0.1111111111111111, \"#46039f\"], [0.2222222222222222, \"#7201a8\"], [0.3333333333333333, \"#9c179e\"], [0.4444444444444444, \"#bd3786\"], [0.5555555555555556, \"#d8576b\"], [0.6666666666666666, \"#ed7953\"], [0.7777777777777778, \"#fb9f3a\"], [0.8888888888888888, \"#fdca26\"], [1.0, \"#f0f921\"]], \"sequentialminus\": [[0.0, \"#0d0887\"], [0.1111111111111111, \"#46039f\"], [0.2222222222222222, \"#7201a8\"], [0.3333333333333333, \"#9c179e\"], [0.4444444444444444, \"#bd3786\"], [0.5555555555555556, \"#d8576b\"], [0.6666666666666666, \"#ed7953\"], [0.7777777777777778, \"#fb9f3a\"], [0.8888888888888888, \"#fdca26\"], [1.0, \"#f0f921\"]]}, \"colorway\": [\"#636efa\", \"#EF553B\", \"#00cc96\", \"#ab63fa\", \"#FFA15A\", \"#19d3f3\", \"#FF6692\", \"#B6E880\", \"#FF97FF\", \"#FECB52\"], \"font\": {\"color\": \"#2a3f5f\"}, \"geo\": {\"bgcolor\": \"white\", \"lakecolor\": \"white\", \"landcolor\": \"#E5ECF6\", \"showlakes\": true, \"showland\": true, \"subunitcolor\": \"white\"}, \"hoverlabel\": {\"align\": \"left\"}, \"hovermode\": \"closest\", \"mapbox\": {\"style\": \"light\"}, \"paper_bgcolor\": \"white\", \"plot_bgcolor\": \"#E5ECF6\", \"polar\": {\"angularaxis\": {\"gridcolor\": \"white\", \"linecolor\": \"white\", \"ticks\": \"\"}, \"bgcolor\": \"#E5ECF6\", \"radialaxis\": {\"gridcolor\": \"white\", \"linecolor\": \"white\", \"ticks\": \"\"}}, \"scene\": {\"xaxis\": {\"backgroundcolor\": \"#E5ECF6\", \"gridcolor\": \"white\", \"gridwidth\": 2, \"linecolor\": \"white\", \"showbackground\": true, \"ticks\": \"\", \"zerolinecolor\": \"white\"}, \"yaxis\": {\"backgroundcolor\": \"#E5ECF6\", \"gridcolor\": \"white\", \"gridwidth\": 2, \"linecolor\": \"white\", \"showbackground\": true, \"ticks\": \"\", \"zerolinecolor\": \"white\"}, \"zaxis\": {\"backgroundcolor\": \"#E5ECF6\", \"gridcolor\": \"white\", \"gridwidth\": 2, \"linecolor\": \"white\", \"showbackground\": true, \"ticks\": \"\", \"zerolinecolor\": \"white\"}}, \"shapedefaults\": {\"line\": {\"color\": \"#2a3f5f\"}}, \"ternary\": {\"aaxis\": {\"gridcolor\": \"white\", \"linecolor\": \"white\", \"ticks\": \"\"}, \"baxis\": {\"gridcolor\": \"white\", \"linecolor\": \"white\", \"ticks\": \"\"}, \"bgcolor\": \"#E5ECF6\", \"caxis\": {\"gridcolor\": \"white\", \"linecolor\": \"white\", \"ticks\": \"\"}}, \"title\": {\"x\": 0.05}, \"xaxis\": {\"automargin\": true, \"gridcolor\": \"white\", \"linecolor\": \"white\", \"ticks\": \"\", \"title\": {\"standoff\": 15}, \"zerolinecolor\": \"white\", \"zerolinewidth\": 2}, \"yaxis\": {\"automargin\": true, \"gridcolor\": \"white\", \"linecolor\": \"white\", \"ticks\": \"\", \"title\": {\"standoff\": 15}, \"zerolinecolor\": \"white\", \"zerolinewidth\": 2}}}, \"title\": {\"font\": {\"color\": \"#4D5663\"}, \"text\": \"Prediction by Datetime\"}, \"xaxis\": {\"gridcolor\": \"#E1E5ED\", \"showgrid\": true, \"tickfont\": {\"color\": \"#4D5663\"}, \"title\": {\"font\": {\"color\": \"#4D5663\"}, \"text\": \"Datetime\"}, \"zerolinecolor\": \"#E1E5ED\"}, \"yaxis\": {\"gridcolor\": \"#E1E5ED\", \"showgrid\": true, \"tickfont\": {\"color\": \"#4D5663\"}, \"title\": {\"font\": {\"color\": \"#4D5663\"}, \"text\": \"Count\"}, \"zerolinecolor\": \"#E1E5ED\"}},\n",
       "                        {\"showLink\": true, \"linkText\": \"Export to plot.ly\", \"plotlyServerURL\": \"https://plot.ly\", \"responsive\": true}\n",
       "                    ).then(function(){\n",
       "                            \n",
       "var gd = document.getElementById('7cba8a46-dbb5-4052-aed9-600b79a40efb');\n",
       "var x = new MutationObserver(function (mutations, observer) {{\n",
       "        var display = window.getComputedStyle(gd).display;\n",
       "        if (!display || display === 'none') {{\n",
       "            console.log([gd, 'removed!']);\n",
       "            Plotly.purge(gd);\n",
       "            observer.disconnect();\n",
       "        }}\n",
       "}});\n",
       "\n",
       "// Listen for the removal of the full notebook cells\n",
       "var notebookContainer = gd.closest('#notebook-container');\n",
       "if (notebookContainer) {{\n",
       "    x.observe(notebookContainer, {childList: true});\n",
       "}}\n",
       "\n",
       "// Listen for the clearing of the current output cell\n",
       "var outputEl = gd.closest('.output');\n",
       "if (outputEl) {{\n",
       "    x.observe(outputEl, {childList: true});\n",
       "}}\n",
       "\n",
       "                        })\n",
       "                };\n",
       "                });\n",
       "            </script>\n",
       "        </div>"
      ]
     },
     "metadata": {},
     "output_type": "display_data"
    }
   ],
   "source": [
    "test_df.groupby('datetime')['cnt','lr_pred','rf_pred','xgb_pred','lgbm_pred','zip_code'].sum().iplot(kind='scatter', title='Prediction by Datetime', xTitle='Datetime', yTitle='Count')"
   ]
  },
  {
   "cell_type": "markdown",
   "metadata": {},
   "source": [
    "<img src=\"https://github.com/jiyoungsim/BigQuery-NYC-Taxi-Demand--EDA-and-Prediction/blob/master/figs/pred_by_datetime.png?raw=true\">"
   ]
  },
  {
   "cell_type": "code",
   "execution_count": 76,
   "metadata": {},
   "outputs": [
    {
     "data": {
      "application/vnd.plotly.v1+json": {
       "config": {
        "linkText": "Export to plot.ly",
        "plotlyServerURL": "https://plot.ly",
        "showLink": true
       },
       "data": [
        {
         "line": {
          "color": "rgba(255, 153, 51, 1.0)",
          "dash": "solid",
          "shape": "linear",
          "width": 1.3
         },
         "mode": "lines",
         "name": "cnt",
         "text": "",
         "type": "scatter",
         "x": [
          "10001",
          "10002",
          "10003",
          "10004",
          "10005",
          "10006",
          "10007",
          "10009",
          "10010",
          "10011",
          "10012",
          "10013",
          "10014",
          "10016",
          "10017",
          "10018",
          "10019",
          "10020",
          "10021",
          "10022",
          "10023",
          "10024",
          "10025",
          "10026",
          "10027",
          "10028",
          "10029",
          "10030",
          "10031",
          "10032",
          "10033",
          "10034",
          "10035",
          "10036",
          "10037",
          "10038",
          "10039",
          "10040",
          "10044",
          "10065",
          "10069",
          "10075",
          "10103",
          "10110",
          "10111",
          "10112",
          "10115",
          "10119",
          "10128",
          "10152",
          "10153",
          "10154",
          "10162",
          "10165",
          "10167",
          "10168",
          "10169",
          "10170",
          "10171",
          "10172",
          "10173",
          "10174",
          "10177",
          "10199",
          "10271",
          "10278",
          "10279",
          "10280",
          "10282",
          "10301",
          "10302",
          "10303",
          "10304",
          "10305",
          "10306",
          "10308",
          "10310",
          "10312",
          "10314",
          "10451",
          "10452",
          "10453",
          "10454",
          "10455",
          "10456",
          "10457",
          "10458",
          "10459",
          "10460",
          "10461",
          "10462",
          "10463",
          "10465",
          "10466",
          "10467",
          "10468",
          "10469",
          "10470",
          "10471",
          "10472",
          "10473",
          "10474",
          "10475",
          "10502",
          "10510",
          "10519",
          "10522",
          "10523",
          "10528",
          "10530",
          "10536",
          "10538",
          "10543",
          "10547",
          "10550",
          "10552",
          "10553",
          "10570",
          "10573",
          "10577",
          "10580",
          "10583",
          "10591",
          "10598",
          "10601",
          "10603",
          "10604",
          "10605",
          "10701",
          "10703",
          "10704",
          "10705",
          "10706",
          "10707",
          "10708",
          "10709",
          "10710",
          "10801",
          "10803",
          "10805",
          "10917",
          "10941",
          "10956",
          "10960",
          "10962",
          "10994",
          "11001",
          "11003",
          "11004",
          "11010",
          "11020",
          "11021",
          "11024",
          "11030",
          "11040",
          "11042",
          "11101",
          "11102",
          "11103",
          "11104",
          "11105",
          "11106",
          "11109",
          "11201",
          "11203",
          "11204",
          "11205",
          "11206",
          "11207",
          "11208",
          "11209",
          "11210",
          "11211",
          "11212",
          "11213",
          "11214",
          "11215",
          "11216",
          "11217",
          "11218",
          "11219",
          "11220",
          "11221",
          "11222",
          "11223",
          "11224",
          "11225",
          "11226",
          "11228",
          "11229",
          "11230",
          "11231",
          "11232",
          "11233",
          "11234",
          "11235",
          "11236",
          "11237",
          "11238",
          "11239",
          "11354",
          "11355",
          "11356",
          "11357",
          "11358",
          "11360",
          "11361",
          "11362",
          "11363",
          "11364",
          "11365",
          "11366",
          "11367",
          "11368",
          "11369",
          "11370",
          "11371",
          "11372",
          "11373",
          "11374",
          "11375",
          "11377",
          "11378",
          "11379",
          "11385",
          "11411",
          "11412",
          "11413",
          "11414",
          "11415",
          "11416",
          "11417",
          "11418",
          "11419",
          "11420",
          "11421",
          "11422",
          "11423",
          "11424",
          "11426",
          "11427",
          "11428",
          "11429",
          "11430",
          "11432",
          "11433",
          "11434",
          "11435",
          "11436",
          "11501",
          "11507",
          "11509",
          "11510",
          "11518",
          "11530",
          "11542",
          "11549",
          "11550",
          "11552",
          "11553",
          "11557",
          "11559",
          "11560",
          "11561",
          "11563",
          "11565",
          "11566",
          "11568",
          "11570",
          "11576",
          "11580",
          "11581",
          "11590",
          "11691",
          "11692",
          "11693",
          "11694",
          "11697",
          "11701",
          "11704",
          "11706",
          "11710",
          "11726",
          "11735",
          "11743",
          "11746",
          "11747",
          "11753",
          "11756",
          "11779",
          "11780",
          "11791",
          "11797",
          "11801",
          "11803",
          "11804",
          "12601",
          "13029",
          "13691",
          "14801"
         ],
         "y": [
          147413,
          62126,
          177924,
          12877,
          12450,
          7873,
          20709,
          67281,
          94165,
          162467,
          91218,
          72924,
          108204,
          158976,
          97984,
          73496,
          187109,
          9528,
          103806,
          154509,
          112315,
          86047,
          72073,
          7496,
          13115,
          83887,
          20082,
          1593,
          4325,
          2079,
          901,
          341,
          6505,
          136512,
          1242,
          16563,
          530,
          222,
          263,
          96853,
          5510,
          54207,
          3253,
          2848,
          1491,
          1785,
          24,
          35753,
          90013,
          2447,
          3935,
          2386,
          1353,
          6147,
          1748,
          3392,
          1071,
          5918,
          2508,
          2754,
          1623,
          3845,
          1044,
          5489,
          147,
          776,
          976,
          12110,
          11528,
          5,
          1,
          1,
          2,
          9,
          7,
          1,
          30,
          1,
          10,
          830,
          162,
          75,
          294,
          170,
          118,
          65,
          51,
          51,
          42,
          40,
          69,
          111,
          17,
          17,
          65,
          81,
          21,
          11,
          28,
          54,
          30,
          14,
          10,
          1,
          2,
          1,
          1,
          2,
          2,
          2,
          1,
          8,
          2,
          1,
          1,
          2,
          1,
          1,
          4,
          2,
          3,
          7,
          5,
          1,
          6,
          1,
          9,
          3,
          6,
          2,
          10,
          4,
          1,
          5,
          4,
          2,
          2,
          13,
          6,
          4,
          1,
          1,
          1,
          1,
          3,
          1,
          5,
          4,
          34,
          9,
          2,
          6,
          1,
          8,
          6,
          2,
          10475,
          3541,
          2554,
          3784,
          1502,
          4492,
          907,
          13050,
          79,
          58,
          2235,
          2561,
          110,
          78,
          137,
          73,
          16355,
          38,
          282,
          81,
          3076,
          1174,
          5781,
          426,
          55,
          121,
          862,
          3534,
          46,
          13,
          525,
          380,
          24,
          54,
          193,
          3802,
          274,
          249,
          48,
          46,
          35,
          961,
          2420,
          7,
          176,
          66,
          8,
          16,
          33,
          8,
          14,
          2,
          1,
          4,
          27,
          27,
          149,
          271,
          756,
          1007,
          48178,
          1380,
          1266,
          457,
          749,
          3355,
          232,
          59,
          178,
          9,
          5,
          10,
          16,
          117,
          25,
          39,
          72,
          59,
          76,
          54,
          14,
          12,
          40,
          21,
          17,
          9,
          4,
          48741,
          156,
          18,
          105,
          484,
          281,
          1,
          1,
          1,
          2,
          1,
          2,
          1,
          3,
          7,
          4,
          3,
          3,
          3,
          4,
          2,
          1,
          1,
          7,
          1,
          3,
          1,
          6,
          2,
          4,
          3,
          2,
          1,
          8,
          1,
          1,
          1,
          1,
          1,
          1,
          7,
          1,
          3,
          2,
          1,
          3,
          1,
          1,
          2,
          1,
          98,
          3,
          1,
          1,
          1,
          1,
          1
         ]
        },
        {
         "line": {
          "color": "rgba(55, 128, 191, 1.0)",
          "dash": "solid",
          "shape": "linear",
          "width": 1.3
         },
         "mode": "lines",
         "name": "lr_pred",
         "text": "",
         "type": "scatter",
         "x": [
          "10001",
          "10002",
          "10003",
          "10004",
          "10005",
          "10006",
          "10007",
          "10009",
          "10010",
          "10011",
          "10012",
          "10013",
          "10014",
          "10016",
          "10017",
          "10018",
          "10019",
          "10020",
          "10021",
          "10022",
          "10023",
          "10024",
          "10025",
          "10026",
          "10027",
          "10028",
          "10029",
          "10030",
          "10031",
          "10032",
          "10033",
          "10034",
          "10035",
          "10036",
          "10037",
          "10038",
          "10039",
          "10040",
          "10044",
          "10065",
          "10069",
          "10075",
          "10103",
          "10110",
          "10111",
          "10112",
          "10115",
          "10119",
          "10128",
          "10152",
          "10153",
          "10154",
          "10162",
          "10165",
          "10167",
          "10168",
          "10169",
          "10170",
          "10171",
          "10172",
          "10173",
          "10174",
          "10177",
          "10199",
          "10271",
          "10278",
          "10279",
          "10280",
          "10282",
          "10301",
          "10302",
          "10303",
          "10304",
          "10305",
          "10306",
          "10308",
          "10310",
          "10312",
          "10314",
          "10451",
          "10452",
          "10453",
          "10454",
          "10455",
          "10456",
          "10457",
          "10458",
          "10459",
          "10460",
          "10461",
          "10462",
          "10463",
          "10465",
          "10466",
          "10467",
          "10468",
          "10469",
          "10470",
          "10471",
          "10472",
          "10473",
          "10474",
          "10475",
          "10502",
          "10510",
          "10519",
          "10522",
          "10523",
          "10528",
          "10530",
          "10536",
          "10538",
          "10543",
          "10547",
          "10550",
          "10552",
          "10553",
          "10570",
          "10573",
          "10577",
          "10580",
          "10583",
          "10591",
          "10598",
          "10601",
          "10603",
          "10604",
          "10605",
          "10701",
          "10703",
          "10704",
          "10705",
          "10706",
          "10707",
          "10708",
          "10709",
          "10710",
          "10801",
          "10803",
          "10805",
          "10917",
          "10941",
          "10956",
          "10960",
          "10962",
          "10994",
          "11001",
          "11003",
          "11004",
          "11010",
          "11020",
          "11021",
          "11024",
          "11030",
          "11040",
          "11042",
          "11101",
          "11102",
          "11103",
          "11104",
          "11105",
          "11106",
          "11109",
          "11201",
          "11203",
          "11204",
          "11205",
          "11206",
          "11207",
          "11208",
          "11209",
          "11210",
          "11211",
          "11212",
          "11213",
          "11214",
          "11215",
          "11216",
          "11217",
          "11218",
          "11219",
          "11220",
          "11221",
          "11222",
          "11223",
          "11224",
          "11225",
          "11226",
          "11228",
          "11229",
          "11230",
          "11231",
          "11232",
          "11233",
          "11234",
          "11235",
          "11236",
          "11237",
          "11238",
          "11239",
          "11354",
          "11355",
          "11356",
          "11357",
          "11358",
          "11360",
          "11361",
          "11362",
          "11363",
          "11364",
          "11365",
          "11366",
          "11367",
          "11368",
          "11369",
          "11370",
          "11371",
          "11372",
          "11373",
          "11374",
          "11375",
          "11377",
          "11378",
          "11379",
          "11385",
          "11411",
          "11412",
          "11413",
          "11414",
          "11415",
          "11416",
          "11417",
          "11418",
          "11419",
          "11420",
          "11421",
          "11422",
          "11423",
          "11424",
          "11426",
          "11427",
          "11428",
          "11429",
          "11430",
          "11432",
          "11433",
          "11434",
          "11435",
          "11436",
          "11501",
          "11507",
          "11509",
          "11510",
          "11518",
          "11530",
          "11542",
          "11549",
          "11550",
          "11552",
          "11553",
          "11557",
          "11559",
          "11560",
          "11561",
          "11563",
          "11565",
          "11566",
          "11568",
          "11570",
          "11576",
          "11580",
          "11581",
          "11590",
          "11691",
          "11692",
          "11693",
          "11694",
          "11697",
          "11701",
          "11704",
          "11706",
          "11710",
          "11726",
          "11735",
          "11743",
          "11746",
          "11747",
          "11753",
          "11756",
          "11779",
          "11780",
          "11791",
          "11797",
          "11801",
          "11803",
          "11804",
          "12601",
          "13029",
          "13691",
          "14801"
         ],
         "y": [
          143865.63881142504,
          45479.65331163738,
          156148.0167093995,
          11920.690257450877,
          10947.592522555235,
          6654.102660074531,
          18408.979652043578,
          56801.622611688006,
          82975.19287525755,
          148841.1550921946,
          76121.31274056312,
          64275.65529913334,
          94327.83463815736,
          143818.7298001421,
          90573.93755457703,
          74643.16652359828,
          188976.1848409134,
          7881.82598659019,
          81185.01401328926,
          144927.76658578683,
          89051.04105696612,
          72018.37173899348,
          60694.28969150951,
          6235.4354800415895,
          10560.49785631696,
          69110.49159447472,
          18415.105954883304,
          1131.4662857141182,
          3951.696924572153,
          1975.7658420112798,
          702.6833963935642,
          252.5761645364605,
          5525.961693385305,
          146212.5201700185,
          833.8979100140947,
          14422.460469724596,
          457.36094540484436,
          185.55509307251594,
          224.90867923937168,
          77930.82117706751,
          3834.9665119656156,
          42277.23126201103,
          2859.3666601588316,
          2457.8679262617134,
          1212.5995365963624,
          1484.823521342456,
          28.647348590600163,
          31368.40753949821,
          71500.49366949714,
          1778.7055852399308,
          3053.1554551035856,
          1954.1991827309641,
          1001.237846132358,
          4838.1296833559145,
          1488.595500370791,
          3051.2482355884144,
          1012.3429784216589,
          5377.818010030641,
          2363.840018019863,
          2239.221332591453,
          1542.980022441142,
          3330.0506274934787,
          901.2746187038824,
          4613.063715090483,
          147.12338069830983,
          667.1236668632043,
          786.5339440082687,
          9222.356746699421,
          7953.1228558848425,
          4.388995937133713,
          1.1620113718637837,
          1.135198686350785,
          2.9782332629361297,
          9.195727534263906,
          5.940971914596283,
          0.6676035026311821,
          12.987764907877642,
          1.8112107986053665,
          7.970282002126012,
          617.9598203119224,
          171.19825166057637,
          84.2850977744798,
          286.8999310464813,
          127.8947922742223,
          138.1355482885122,
          54.636431666130385,
          60.62802323978276,
          52.89662829427155,
          41.02674731278009,
          45.85107057074442,
          67.24232800813893,
          116.62884376296265,
          17.117191774818085,
          21.39892032241133,
          57.733556695991425,
          81.66000047878377,
          22.954271681316186,
          10.546273912932769,
          31.42363810399966,
          56.43027367894538,
          22.49255434708225,
          15.326037883821533,
          11.066049099438182,
          1.4006761306404025,
          14.570209758946785,
          0,
          0.8199398978794122,
          2.7585931216700335,
          2.43419507244435,
          2.187258515009174,
          0,
          6.4373923631329735,
          2.4872691495952197,
          0,
          0.6808652719213046,
          2.5538250476801734,
          0,
          1.343423343747435,
          5.275806837518478,
          1.731536082301007,
          3.4016960779469887,
          7.022386714801999,
          7.990496528502631,
          0,
          5.522648851787942,
          0.8843491334134376,
          4.338771129265815,
          4.130824515222587,
          7.088447211636427,
          2.4870911384449945,
          12.62897983013232,
          3.923834753788851,
          1.4775536389747916,
          6.044858717056926,
          4.078738619109749,
          2.037681101701126,
          2.18650738868801,
          11.3025240496502,
          5.382038706603941,
          3.6004904015977,
          0,
          0,
          0.7532363543093472,
          1.5362192854553909,
          2.920165901312771,
          0,
          5.572499898219088,
          3.9168726238634015,
          38.011068012619646,
          4.781194739628621,
          3.033467873767222,
          6.757900719754627,
          1.2840933805707668,
          7.922501284722869,
          4.464953003930452,
          0,
          11103.20954151808,
          3205.233681265152,
          2096.7454422100604,
          3148.379218558929,
          1166.3211311081047,
          4358.917821277637,
          486.1385317007776,
          11003.451185254411,
          75.63638706317002,
          73.30357731286993,
          1457.6522006285584,
          1172.1090717815575,
          102.18776593327037,
          74.39454867444917,
          119.22661345930618,
          72.026755609757,
          9231.828053577774,
          38.38305019161032,
          252.85649723167808,
          63.25107875226757,
          2115.718766204835,
          794.6129882563346,
          4448.85682556661,
          393.9257335331768,
          59.5382935098948,
          117.93131845584155,
          578.5494661291707,
          2136.425978325257,
          46.91377359992769,
          15.598078881150741,
          397.55324041722395,
          334.70830614125833,
          25.43363197417644,
          45.78140204689829,
          169.59562709768525,
          2658.6810269097427,
          275.9095793383536,
          217.62791104661537,
          46.65539638481407,
          46.2365684141903,
          36.49853793567997,
          396.03648256134267,
          1451.4739768646348,
          8.245625857245127,
          175.7286693878495,
          67.51091156247183,
          9.884278288947295,
          17.24098931442516,
          21.980754495730984,
          4.804342695900196,
          14.00117476259598,
          2.4452834121303155,
          1.1992626449166348,
          2.4809148973650963,
          28.6106194546243,
          26.83168782433994,
          138.70319434081998,
          256.3191979877861,
          702.8890736554625,
          718.4189706822589,
          28206.06053852715,
          898.2881761221892,
          981.4557193412563,
          366.402279002009,
          555.2131414338405,
          2764.8686971068,
          216.82025450714272,
          62.96267566147216,
          158.50049834317494,
          8.113497726696021,
          7.60430799537028,
          10.123699023481372,
          16.775689851355583,
          117.52078585667005,
          15.986051443758225,
          36.780132869675164,
          73.58216516868242,
          56.907606487278166,
          73.46273403476557,
          54.83740785469287,
          17.504272038630905,
          14.47124334848082,
          41.52166679743775,
          23.5499356049254,
          19.2563331491151,
          9.88134774354891,
          4.56359993383276,
          48774.16863234179,
          141.0235869599758,
          18.40214418121413,
          110.44452560853325,
          456.75342045875493,
          262.6955988828809,
          1.3921484718142894,
          0,
          2.1124058894989415,
          2.446319490753158,
          0,
          2.230942710466008,
          0,
          0,
          6.134712514640856,
          4.345970980883347,
          3.9547439624707064,
          3.2821295539989874,
          6.424133242738019,
          2.1116457006544875,
          1.3817036782448504,
          0.5374240318886918,
          1.030465560108729,
          3.4123935469101943,
          2.2013453559333813,
          3.589336879707086,
          1.0089478279763624,
          6.432549564061433,
          2.710495855453478,
          5.5507250498637895,
          6.193140553251286,
          2.2487283094166504,
          0.8148431829786009,
          7.743095198389296,
          1.2687018267597485,
          1.2699568403012875,
          0,
          1.1702707655341693,
          0.5934479533339364,
          0,
          2.3154565882039195,
          1.7847974466879855,
          3.9095069267328793,
          2.3324184780233077,
          0.7950797167378714,
          7.416542375396997,
          1.339154494691884,
          0,
          2.5380949825800814,
          0.8234968875114853,
          79.0849507761782,
          4.667917064130321,
          0,
          0,
          0,
          0,
          0
         ]
        },
        {
         "line": {
          "color": "rgba(50, 171, 96, 1.0)",
          "dash": "solid",
          "shape": "linear",
          "width": 1.3
         },
         "mode": "lines",
         "name": "rf_pred",
         "text": "",
         "type": "scatter",
         "x": [
          "10001",
          "10002",
          "10003",
          "10004",
          "10005",
          "10006",
          "10007",
          "10009",
          "10010",
          "10011",
          "10012",
          "10013",
          "10014",
          "10016",
          "10017",
          "10018",
          "10019",
          "10020",
          "10021",
          "10022",
          "10023",
          "10024",
          "10025",
          "10026",
          "10027",
          "10028",
          "10029",
          "10030",
          "10031",
          "10032",
          "10033",
          "10034",
          "10035",
          "10036",
          "10037",
          "10038",
          "10039",
          "10040",
          "10044",
          "10065",
          "10069",
          "10075",
          "10103",
          "10110",
          "10111",
          "10112",
          "10115",
          "10119",
          "10128",
          "10152",
          "10153",
          "10154",
          "10162",
          "10165",
          "10167",
          "10168",
          "10169",
          "10170",
          "10171",
          "10172",
          "10173",
          "10174",
          "10177",
          "10199",
          "10271",
          "10278",
          "10279",
          "10280",
          "10282",
          "10301",
          "10302",
          "10303",
          "10304",
          "10305",
          "10306",
          "10308",
          "10310",
          "10312",
          "10314",
          "10451",
          "10452",
          "10453",
          "10454",
          "10455",
          "10456",
          "10457",
          "10458",
          "10459",
          "10460",
          "10461",
          "10462",
          "10463",
          "10465",
          "10466",
          "10467",
          "10468",
          "10469",
          "10470",
          "10471",
          "10472",
          "10473",
          "10474",
          "10475",
          "10502",
          "10510",
          "10519",
          "10522",
          "10523",
          "10528",
          "10530",
          "10536",
          "10538",
          "10543",
          "10547",
          "10550",
          "10552",
          "10553",
          "10570",
          "10573",
          "10577",
          "10580",
          "10583",
          "10591",
          "10598",
          "10601",
          "10603",
          "10604",
          "10605",
          "10701",
          "10703",
          "10704",
          "10705",
          "10706",
          "10707",
          "10708",
          "10709",
          "10710",
          "10801",
          "10803",
          "10805",
          "10917",
          "10941",
          "10956",
          "10960",
          "10962",
          "10994",
          "11001",
          "11003",
          "11004",
          "11010",
          "11020",
          "11021",
          "11024",
          "11030",
          "11040",
          "11042",
          "11101",
          "11102",
          "11103",
          "11104",
          "11105",
          "11106",
          "11109",
          "11201",
          "11203",
          "11204",
          "11205",
          "11206",
          "11207",
          "11208",
          "11209",
          "11210",
          "11211",
          "11212",
          "11213",
          "11214",
          "11215",
          "11216",
          "11217",
          "11218",
          "11219",
          "11220",
          "11221",
          "11222",
          "11223",
          "11224",
          "11225",
          "11226",
          "11228",
          "11229",
          "11230",
          "11231",
          "11232",
          "11233",
          "11234",
          "11235",
          "11236",
          "11237",
          "11238",
          "11239",
          "11354",
          "11355",
          "11356",
          "11357",
          "11358",
          "11360",
          "11361",
          "11362",
          "11363",
          "11364",
          "11365",
          "11366",
          "11367",
          "11368",
          "11369",
          "11370",
          "11371",
          "11372",
          "11373",
          "11374",
          "11375",
          "11377",
          "11378",
          "11379",
          "11385",
          "11411",
          "11412",
          "11413",
          "11414",
          "11415",
          "11416",
          "11417",
          "11418",
          "11419",
          "11420",
          "11421",
          "11422",
          "11423",
          "11424",
          "11426",
          "11427",
          "11428",
          "11429",
          "11430",
          "11432",
          "11433",
          "11434",
          "11435",
          "11436",
          "11501",
          "11507",
          "11509",
          "11510",
          "11518",
          "11530",
          "11542",
          "11549",
          "11550",
          "11552",
          "11553",
          "11557",
          "11559",
          "11560",
          "11561",
          "11563",
          "11565",
          "11566",
          "11568",
          "11570",
          "11576",
          "11580",
          "11581",
          "11590",
          "11691",
          "11692",
          "11693",
          "11694",
          "11697",
          "11701",
          "11704",
          "11706",
          "11710",
          "11726",
          "11735",
          "11743",
          "11746",
          "11747",
          "11753",
          "11756",
          "11779",
          "11780",
          "11791",
          "11797",
          "11801",
          "11803",
          "11804",
          "12601",
          "13029",
          "13691",
          "14801"
         ],
         "y": [
          177777.61999999985,
          72464.67499999999,
          203695.93499999997,
          15847.249999999996,
          14448.895,
          10231.77,
          24175.714999999986,
          74652.82000000002,
          110166.57500000001,
          187035.89999999982,
          105116.56499999996,
          85777.41999999998,
          124244.99000000008,
          184272.90500000014,
          120298.22499999996,
          90740.06499999997,
          226364.24999999997,
          12098.680000000002,
          115774.04999999996,
          186627.825,
          127679.34000000007,
          97155.62000000002,
          76721.23000000003,
          7273.475000000002,
          13485.124999999996,
          94761.91500000001,
          20259.939999999984,
          1327.025,
          4550.260000000003,
          2205.994999999999,
          927.2750000000003,
          313.01,
          6210.1299999999965,
          166121.60999999996,
          1037.515,
          18613.530000000002,
          555.1850000000002,
          232.05500000000012,
          261.42500000000007,
          109568.41,
          6279.515,
          59237.134999999995,
          4403.430000000001,
          3444.009999999997,
          2065.4049999999993,
          2420.9300000000007,
          33.010000000000005,
          45491.845,
          99571.80500000002,
          3168.139999999999,
          4701.760000000003,
          3026.190000000001,
          1550.7299999999993,
          7429.735,
          2276.554999999999,
          4255.414999999997,
          1411.1550000000002,
          7451.760000000003,
          3364.8500000000013,
          3272.155,
          2201.8300000000004,
          4712.425000000004,
          1273.6150000000005,
          6663.775000000002,
          188.53999999999996,
          865.6950000000004,
          1094.520000000001,
          13732.680000000004,
          13139.574999999999,
          5.04,
          1.15,
          1.15,
          2.54,
          9.085,
          6.835,
          1.04,
          12.299999999999999,
          1.055,
          9.11,
          738.1099999999997,
          180.58000000000004,
          93.64000000000001,
          309.4599999999999,
          152.845,
          130.07500000000002,
          51.205000000000005,
          51.495,
          52.87500000000001,
          41.345000000000006,
          48.985000000000014,
          79.29500000000002,
          128.14000000000001,
          22.249999999999996,
          22.369999999999994,
          55.70499999999997,
          78.81,
          25.64,
          9.55,
          29.905,
          56.005,
          24.139999999999997,
          12.845000000000002,
          10.475,
          1.66,
          2.255,
          1.095,
          1.27,
          2.05,
          2.04,
          2.24,
          1.015,
          6.395,
          2.59,
          1.075,
          1.12,
          2.455,
          1.155,
          1.01,
          4.3149999999999995,
          2.025,
          3.8249999999999997,
          7.029999999999999,
          6.31,
          1.25,
          5.185,
          1.18,
          4.67,
          3.8000000000000003,
          7.65,
          2.83,
          12.944999999999999,
          4.545,
          1.48,
          4.865,
          5.43,
          2.38,
          2.205,
          13.864999999999998,
          6.874999999999999,
          3.7350000000000003,
          1.23,
          1.13,
          1.445,
          1.3,
          2.705,
          1.19,
          6.95,
          4.945,
          26.134999999999998,
          4.76,
          2.79,
          7.1,
          1.26,
          9.565000000000001,
          6.1899999999999995,
          2.3099999999999996,
          11641.279999999992,
          3721.0599999999986,
          2742.645000000001,
          4248.79,
          1582.995,
          4872.545000000001,
          863.7200000000003,
          13678.78,
          84.62,
          74,
          2388.9350000000013,
          2711.1700000000005,
          115.38000000000002,
          97.455,
          138.43,
          98.21999999999997,
          18212.555000000004,
          56.39,
          292.36500000000007,
          67.17000000000002,
          3493.28,
          1334.6549999999997,
          6290.540000000001,
          628.3299999999998,
          56.949999999999974,
          116.77500000000003,
          1067.8999999999994,
          3857.2600000000034,
          48.275,
          22.019999999999996,
          554.5450000000001,
          438.8700000000002,
          32.09,
          56.93500000000001,
          246.10500000000002,
          3766.790000000001,
          336.97499999999997,
          257.34500000000014,
          56.109999999999985,
          49.339999999999996,
          38.68,
          930.4800000000004,
          2648.745,
          12.945,
          215.32499999999993,
          102.095,
          10.309999999999999,
          16.45,
          20.515,
          4.615,
          14.08,
          2.145,
          1.055,
          4.045,
          30.994999999999997,
          30.055000000000003,
          162.87500000000003,
          307.7949999999999,
          801.67,
          998.1949999999997,
          61141.42000000001,
          1334.4900000000007,
          1267.0549999999998,
          479.98499999999973,
          762.39,
          3396.1,
          257.275,
          64.89500000000001,
          186.38500000000002,
          11.8,
          7.71,
          9.78,
          16.5,
          113.12999999999997,
          15.110000000000003,
          32.964999999999996,
          72.51999999999997,
          60.129999999999995,
          81.345,
          55.074999999999996,
          18.329999999999995,
          14.899999999999999,
          44.725,
          20.600000000000005,
          20.98,
          10.540000000000001,
          4.705,
          58702.76499999997,
          164.32,
          24.93,
          110.93499999999999,
          550.2,
          252.82499999999996,
          1.475,
          2.365,
          2.02,
          2.745,
          1.165,
          2.52,
          1.035,
          2.4000000000000004,
          4.74,
          4.49,
          4.13,
          3.9400000000000004,
          3.5249999999999995,
          2.58,
          2.745,
          1.53,
          1.6,
          5.18,
          1.25,
          3.365,
          1.045,
          6.81,
          2.44,
          5.83,
          4.105,
          2.035,
          1.015,
          7.954999999999999,
          1.115,
          1.25,
          1.12,
          1.12,
          1.11,
          1.105,
          2.19,
          1.255,
          3.16,
          2.035,
          1.015,
          2.335,
          1.16,
          1.06,
          2.19,
          1.325,
          78.89500000000001,
          4.8100000000000005,
          1.145,
          1.135,
          1.315,
          1.405,
          1.45
         ]
        },
        {
         "line": {
          "color": "rgba(128, 0, 128, 1.0)",
          "dash": "solid",
          "shape": "linear",
          "width": 1.3
         },
         "mode": "lines",
         "name": "xgb_pred",
         "text": "",
         "type": "scatter",
         "x": [
          "10001",
          "10002",
          "10003",
          "10004",
          "10005",
          "10006",
          "10007",
          "10009",
          "10010",
          "10011",
          "10012",
          "10013",
          "10014",
          "10016",
          "10017",
          "10018",
          "10019",
          "10020",
          "10021",
          "10022",
          "10023",
          "10024",
          "10025",
          "10026",
          "10027",
          "10028",
          "10029",
          "10030",
          "10031",
          "10032",
          "10033",
          "10034",
          "10035",
          "10036",
          "10037",
          "10038",
          "10039",
          "10040",
          "10044",
          "10065",
          "10069",
          "10075",
          "10103",
          "10110",
          "10111",
          "10112",
          "10115",
          "10119",
          "10128",
          "10152",
          "10153",
          "10154",
          "10162",
          "10165",
          "10167",
          "10168",
          "10169",
          "10170",
          "10171",
          "10172",
          "10173",
          "10174",
          "10177",
          "10199",
          "10271",
          "10278",
          "10279",
          "10280",
          "10282",
          "10301",
          "10302",
          "10303",
          "10304",
          "10305",
          "10306",
          "10308",
          "10310",
          "10312",
          "10314",
          "10451",
          "10452",
          "10453",
          "10454",
          "10455",
          "10456",
          "10457",
          "10458",
          "10459",
          "10460",
          "10461",
          "10462",
          "10463",
          "10465",
          "10466",
          "10467",
          "10468",
          "10469",
          "10470",
          "10471",
          "10472",
          "10473",
          "10474",
          "10475",
          "10502",
          "10510",
          "10519",
          "10522",
          "10523",
          "10528",
          "10530",
          "10536",
          "10538",
          "10543",
          "10547",
          "10550",
          "10552",
          "10553",
          "10570",
          "10573",
          "10577",
          "10580",
          "10583",
          "10591",
          "10598",
          "10601",
          "10603",
          "10604",
          "10605",
          "10701",
          "10703",
          "10704",
          "10705",
          "10706",
          "10707",
          "10708",
          "10709",
          "10710",
          "10801",
          "10803",
          "10805",
          "10917",
          "10941",
          "10956",
          "10960",
          "10962",
          "10994",
          "11001",
          "11003",
          "11004",
          "11010",
          "11020",
          "11021",
          "11024",
          "11030",
          "11040",
          "11042",
          "11101",
          "11102",
          "11103",
          "11104",
          "11105",
          "11106",
          "11109",
          "11201",
          "11203",
          "11204",
          "11205",
          "11206",
          "11207",
          "11208",
          "11209",
          "11210",
          "11211",
          "11212",
          "11213",
          "11214",
          "11215",
          "11216",
          "11217",
          "11218",
          "11219",
          "11220",
          "11221",
          "11222",
          "11223",
          "11224",
          "11225",
          "11226",
          "11228",
          "11229",
          "11230",
          "11231",
          "11232",
          "11233",
          "11234",
          "11235",
          "11236",
          "11237",
          "11238",
          "11239",
          "11354",
          "11355",
          "11356",
          "11357",
          "11358",
          "11360",
          "11361",
          "11362",
          "11363",
          "11364",
          "11365",
          "11366",
          "11367",
          "11368",
          "11369",
          "11370",
          "11371",
          "11372",
          "11373",
          "11374",
          "11375",
          "11377",
          "11378",
          "11379",
          "11385",
          "11411",
          "11412",
          "11413",
          "11414",
          "11415",
          "11416",
          "11417",
          "11418",
          "11419",
          "11420",
          "11421",
          "11422",
          "11423",
          "11424",
          "11426",
          "11427",
          "11428",
          "11429",
          "11430",
          "11432",
          "11433",
          "11434",
          "11435",
          "11436",
          "11501",
          "11507",
          "11509",
          "11510",
          "11518",
          "11530",
          "11542",
          "11549",
          "11550",
          "11552",
          "11553",
          "11557",
          "11559",
          "11560",
          "11561",
          "11563",
          "11565",
          "11566",
          "11568",
          "11570",
          "11576",
          "11580",
          "11581",
          "11590",
          "11691",
          "11692",
          "11693",
          "11694",
          "11697",
          "11701",
          "11704",
          "11706",
          "11710",
          "11726",
          "11735",
          "11743",
          "11746",
          "11747",
          "11753",
          "11756",
          "11779",
          "11780",
          "11791",
          "11797",
          "11801",
          "11803",
          "11804",
          "12601",
          "13029",
          "13691",
          "14801"
         ],
         "y": [
          179641.59375,
          67081.8359375,
          197686.828125,
          16002.48046875,
          13440.0185546875,
          8827.1650390625,
          23855.837890625,
          70514.0546875,
          113127.8515625,
          187690.03125,
          105329.8671875,
          88550.4609375,
          124723.71875,
          189479.515625,
          127481.015625,
          93713.015625,
          229834.21875,
          12809.6953125,
          122651.3984375,
          193298.203125,
          130263.609375,
          98065.7265625,
          78176.7734375,
          8225.638671875,
          13243.9365234375,
          93566.6328125,
          20123.1328125,
          1321.2017822265625,
          3494.65869140625,
          1931.3468017578125,
          599.8399658203125,
          587.9329833984375,
          5726.53759765625,
          163197.859375,
          1454.4481201171875,
          19760.58203125,
          2019.270751953125,
          1063.05859375,
          1275.33251953125,
          109626.640625,
          8113.7744140625,
          61784.57421875,
          4668.091796875,
          4112.373046875,
          2637.581298828125,
          2926.544677734375,
          443.3990783691406,
          45150.1328125,
          99710.890625,
          3866.055908203125,
          4218.70556640625,
          3292.10693359375,
          2061.94140625,
          7041.953125,
          2799.451171875,
          3787.487548828125,
          2176.462890625,
          7333.2724609375,
          3439.600341796875,
          3411.0830078125,
          2717.223388671875,
          4280.33154296875,
          1770.6822509765625,
          6085.57861328125,
          516.709716796875,
          1158.94482421875,
          1229.9498291015625,
          13177.767578125,
          13057.60546875,
          31.82088279724121,
          1.0637480020523071,
          1.3097307682037354,
          4.245481491088867,
          22.981597900390625,
          16.131813049316406,
          -3.7672677040100098,
          54.70539474487305,
          2.0161256790161133,
          57.109100341796875,
          752.017822265625,
          245.53016662597656,
          115.00657653808594,
          335.6684265136719,
          118.19904327392578,
          98.40751647949219,
          66.3968276977539,
          12.191106796264648,
          58.485774993896484,
          83.94483184814453,
          101.2999038696289,
          108.4803237915039,
          182.1427459716797,
          33.03615188598633,
          40.74934768676758,
          115.87013244628906,
          124.44194793701172,
          41.35765075683594,
          12.909292221069336,
          68.97654724121094,
          83.9572525024414,
          7.828304767608643,
          42.22943115234375,
          29.593385696411133,
          -0.8685852289199829,
          9.81240463256836,
          -0.8967701196670532,
          -6.578199863433838,
          0.8659095764160156,
          2.2739686965942383,
          6.327772617340088,
          1.75906503200531,
          8.43058967590332,
          2.6638169288635254,
          0.6739371418952942,
          -5.23533821105957,
          -1.1246757507324219,
          0.4270412027835846,
          1.4965897798538208,
          10.163345336914062,
          4.032012939453125,
          -10.533784866333008,
          11.023082733154297,
          12.909379005432129,
          11.357705116271973,
          11.625557899475098,
          -4.115670680999756,
          9.195828437805176,
          6.4831390380859375,
          11.811532020568848,
          -4.435570240020752,
          19.374000549316406,
          15.152923583984375,
          2.4585723876953125,
          -8.066962242126465,
          6.652823448181152,
          -2.230860948562622,
          5.209267616271973,
          -7.6130690574646,
          0.5350518226623535,
          -3.248312473297119,
          3.431077718734741,
          5.847351551055908,
          1.3451309204101562,
          1.6994824409484863,
          0.9120945930480957,
          14.761421203613281,
          16.259641647338867,
          6.078310966491699,
          7.268564701080322,
          2.081481456756592,
          -3.1197023391723633,
          -4.669656276702881,
          -7.189051628112793,
          5.330451011657715,
          20.302135467529297,
          6.332624912261963,
          10687.4345703125,
          3682.6953125,
          2919.6796875,
          3157.639892578125,
          2208.9365234375,
          4181.69384765625,
          992.5478515625,
          11959.5400390625,
          269.177734375,
          160.6056365966797,
          1982.7772216796875,
          1916.7325439453125,
          309.05828857421875,
          218.34750366210938,
          400.6758728027344,
          287.36700439453125,
          14825.8388671875,
          186.62515258789062,
          495.9145812988281,
          218.0576171875,
          2842.54248046875,
          1455.703369140625,
          5103.50048828125,
          601.0440673828125,
          134.6651153564453,
          320.3631896972656,
          1013.1604614257812,
          2663.11181640625,
          86.43714141845703,
          39.7354736328125,
          348.63446044921875,
          337.9452819824219,
          51.29019546508789,
          77.99217224121094,
          218.6854705810547,
          3124.73779296875,
          456.79730224609375,
          371.5716247558594,
          150.1431427001953,
          137.11611938476562,
          121.05097961425781,
          826.9959106445312,
          1960.9637451171875,
          42.32455062866211,
          319.976806640625,
          135.97964477539062,
          34.69028091430664,
          50.518917083740234,
          57.502140045166016,
          19.923635482788086,
          42.567665100097656,
          5.882603645324707,
          1.8157750368118286,
          7.7468438148498535,
          105.3807373046875,
          102.36271667480469,
          292.4463195800781,
          357.82525634765625,
          924.7981567382812,
          908.0245971679688,
          66369.328125,
          1253.7723388671875,
          1227.7899169921875,
          644.736328125,
          663.3571166992188,
          2888.198486328125,
          156.61265563964844,
          50.57023239135742,
          81.40210723876953,
          4.2536540031433105,
          9.019838333129883,
          33.13369369506836,
          4.516271114349365,
          111.26426696777344,
          9.255669593811035,
          11.515880584716797,
          77.9985122680664,
          59.46099090576172,
          30.63250160217285,
          61.38478088378906,
          21.962181091308594,
          20.25641441345215,
          18.67395782470703,
          6.427397727966309,
          9.2245512008667,
          51.05665588378906,
          68.43399047851562,
          58751.16015625,
          180.66000366210938,
          37.12959671020508,
          188.00027465820312,
          320.781494140625,
          237.80894470214844,
          2.82784366607666,
          -0.4249238967895508,
          3.768237352371216,
          9.459785461425781,
          5.194334030151367,
          -1.3134191036224365,
          3.5744640827178955,
          5.468111038208008,
          8.49208927154541,
          7.621857643127441,
          5.468550205230713,
          2.152860164642334,
          12.20429515838623,
          7.861356735229492,
          -5.504010200500488,
          5.923803329467773,
          -3.7454075813293457,
          11.094383239746094,
          -0.4249238967895508,
          5.61305046081543,
          3.288585901260376,
          19.042034149169922,
          5.791500091552734,
          11.329119682312012,
          13.922880172729492,
          7.9038543701171875,
          2.9387495517730713,
          13.784647941589355,
          5.7723846435546875,
          3.2648370265960693,
          1.1281795501708984,
          -2.0296366214752197,
          2.4234261512756348,
          5.194334030151367,
          4.70547342300415,
          1.6701183319091797,
          3.6486949920654297,
          0.968224287033081,
          2.3131103515625,
          9.634772300720215,
          2.777899742126465,
          -0.221723735332489,
          9.095893859863281,
          -5.659945964813232,
          111.28449249267578,
          9.002219200134277,
          1.4412000179290771,
          -2.0711703300476074,
          3.4053473472595215,
          4.669667720794678,
          1.5765466690063477
         ]
        },
        {
         "line": {
          "color": "rgba(219, 64, 82, 1.0)",
          "dash": "solid",
          "shape": "linear",
          "width": 1.3
         },
         "mode": "lines",
         "name": "lgbm_pred",
         "text": "",
         "type": "scatter",
         "x": [
          "10001",
          "10002",
          "10003",
          "10004",
          "10005",
          "10006",
          "10007",
          "10009",
          "10010",
          "10011",
          "10012",
          "10013",
          "10014",
          "10016",
          "10017",
          "10018",
          "10019",
          "10020",
          "10021",
          "10022",
          "10023",
          "10024",
          "10025",
          "10026",
          "10027",
          "10028",
          "10029",
          "10030",
          "10031",
          "10032",
          "10033",
          "10034",
          "10035",
          "10036",
          "10037",
          "10038",
          "10039",
          "10040",
          "10044",
          "10065",
          "10069",
          "10075",
          "10103",
          "10110",
          "10111",
          "10112",
          "10115",
          "10119",
          "10128",
          "10152",
          "10153",
          "10154",
          "10162",
          "10165",
          "10167",
          "10168",
          "10169",
          "10170",
          "10171",
          "10172",
          "10173",
          "10174",
          "10177",
          "10199",
          "10271",
          "10278",
          "10279",
          "10280",
          "10282",
          "10301",
          "10302",
          "10303",
          "10304",
          "10305",
          "10306",
          "10308",
          "10310",
          "10312",
          "10314",
          "10451",
          "10452",
          "10453",
          "10454",
          "10455",
          "10456",
          "10457",
          "10458",
          "10459",
          "10460",
          "10461",
          "10462",
          "10463",
          "10465",
          "10466",
          "10467",
          "10468",
          "10469",
          "10470",
          "10471",
          "10472",
          "10473",
          "10474",
          "10475",
          "10502",
          "10510",
          "10519",
          "10522",
          "10523",
          "10528",
          "10530",
          "10536",
          "10538",
          "10543",
          "10547",
          "10550",
          "10552",
          "10553",
          "10570",
          "10573",
          "10577",
          "10580",
          "10583",
          "10591",
          "10598",
          "10601",
          "10603",
          "10604",
          "10605",
          "10701",
          "10703",
          "10704",
          "10705",
          "10706",
          "10707",
          "10708",
          "10709",
          "10710",
          "10801",
          "10803",
          "10805",
          "10917",
          "10941",
          "10956",
          "10960",
          "10962",
          "10994",
          "11001",
          "11003",
          "11004",
          "11010",
          "11020",
          "11021",
          "11024",
          "11030",
          "11040",
          "11042",
          "11101",
          "11102",
          "11103",
          "11104",
          "11105",
          "11106",
          "11109",
          "11201",
          "11203",
          "11204",
          "11205",
          "11206",
          "11207",
          "11208",
          "11209",
          "11210",
          "11211",
          "11212",
          "11213",
          "11214",
          "11215",
          "11216",
          "11217",
          "11218",
          "11219",
          "11220",
          "11221",
          "11222",
          "11223",
          "11224",
          "11225",
          "11226",
          "11228",
          "11229",
          "11230",
          "11231",
          "11232",
          "11233",
          "11234",
          "11235",
          "11236",
          "11237",
          "11238",
          "11239",
          "11354",
          "11355",
          "11356",
          "11357",
          "11358",
          "11360",
          "11361",
          "11362",
          "11363",
          "11364",
          "11365",
          "11366",
          "11367",
          "11368",
          "11369",
          "11370",
          "11371",
          "11372",
          "11373",
          "11374",
          "11375",
          "11377",
          "11378",
          "11379",
          "11385",
          "11411",
          "11412",
          "11413",
          "11414",
          "11415",
          "11416",
          "11417",
          "11418",
          "11419",
          "11420",
          "11421",
          "11422",
          "11423",
          "11424",
          "11426",
          "11427",
          "11428",
          "11429",
          "11430",
          "11432",
          "11433",
          "11434",
          "11435",
          "11436",
          "11501",
          "11507",
          "11509",
          "11510",
          "11518",
          "11530",
          "11542",
          "11549",
          "11550",
          "11552",
          "11553",
          "11557",
          "11559",
          "11560",
          "11561",
          "11563",
          "11565",
          "11566",
          "11568",
          "11570",
          "11576",
          "11580",
          "11581",
          "11590",
          "11691",
          "11692",
          "11693",
          "11694",
          "11697",
          "11701",
          "11704",
          "11706",
          "11710",
          "11726",
          "11735",
          "11743",
          "11746",
          "11747",
          "11753",
          "11756",
          "11779",
          "11780",
          "11791",
          "11797",
          "11801",
          "11803",
          "11804",
          "12601",
          "13029",
          "13691",
          "14801"
         ],
         "y": [
          176352.5103952003,
          70052.04682445973,
          201436.0056095425,
          17593.060728170014,
          15491.71344722438,
          13162.65391856872,
          24553.041457155705,
          69956.83684483476,
          112487.10769651204,
          184004.6624396037,
          105557.43591893648,
          88166.06373167281,
          122146.89899836823,
          184115.3193055021,
          123529.340695496,
          93846.48575329891,
          225219.49613618298,
          14005.147791423147,
          118423.09398245586,
          191971.88391134996,
          130349.82394462217,
          98492.10910269589,
          74468.62543089104,
          9935.94898425183,
          12676.873465076662,
          91079.96823686846,
          20637.043929506086,
          3687.6014290155645,
          3765.5890523305234,
          3533.710783235366,
          3402.733336102979,
          2648.627565200568,
          7392.815331883617,
          159366.65163771962,
          4013.2784453856675,
          16087.76996442316,
          2053.0933905876636,
          1196.973055607615,
          1778.002490406446,
          108283.70281770176,
          8788.999506461932,
          57415.54329410616,
          5247.023590674814,
          4779.2391925032325,
          3544.5368153636414,
          3617.2717902205527,
          619.486010207611,
          42359.98495786338,
          98677.3727902604,
          4557.065758946957,
          4627.15098559003,
          4468.8131132985245,
          4070.644317981227,
          4884.605626903695,
          4163.326075744639,
          4152.529173986511,
          3758.2246135809,
          4680.924159450768,
          4267.795752013039,
          4205.2312340834,
          4165.376138558001,
          4278.734692058772,
          3330.7902960991705,
          5484.331916979475,
          882.7218020230089,
          1803.1182030611878,
          1846.3727588623833,
          12880.649215117513,
          12812.522491827314,
          18.057254240154244,
          7.580909220292873,
          6.014161338622029,
          11.902915953690075,
          55.53627777692,
          37.38694018794226,
          -8.56495010162533,
          58.14941705314347,
          7.831950957573153,
          66.45080372127302,
          1048.7302215465982,
          482.67176781757246,
          228.37965301674546,
          774.7768199059944,
          364.4381146985588,
          339.29568933065445,
          171.13353047175224,
          146.35042063456274,
          179.92608094643316,
          140.45789989546813,
          187.33371440756014,
          257.6915587131251,
          426.0105219000139,
          86.59027727946508,
          88.71020830720887,
          224.55959992117624,
          275.55919746887645,
          77.12107647553854,
          34.58505534403114,
          158.26974437156983,
          200.032339079641,
          80.78513000014864,
          81.03559171595222,
          64.65787295045824,
          7.432524360303642,
          14.661305478933789,
          -2.814653012575403,
          -7.0512091311502685,
          12.510191725553483,
          13.025159208165308,
          16.434025133429614,
          2.9317099378224345,
          37.77857784235138,
          15.677346595637564,
          6.242776546189647,
          -9.61946448925939,
          13.758357588998617,
          2.025103218462565,
          7.949680959315193,
          30.590381438589187,
          8.53185456258584,
          10.326468297523029,
          47.15077059661367,
          32.702913350381046,
          7.037309470894031,
          27.390548025379246,
          -6.181999864219914,
          24.35619046857141,
          17.46438043575863,
          24.51948736716263,
          0.3217738099682652,
          59.498130198922674,
          31.553867853124107,
          8.244822235333922,
          13.885958746504807,
          16.83493159441198,
          7.089577195072426,
          14.355290222648737,
          15.04685003091629,
          17.549098974518326,
          14.973927029280093,
          7.088397918260712,
          7.037309470894031,
          1.3148584423972765,
          7.088397918260712,
          8.881330052327563,
          7.825851336591418,
          43.29288679790758,
          18.774749584758,
          78.76234159437224,
          16.42759497595777,
          11.8781862304394,
          27.839501251736344,
          3.4086783168921704,
          31.45953390723419,
          42.55124860403032,
          5.368582826285641,
          9863.771432316638,
          3268.126272480197,
          3218.569838504363,
          3311.348711831225,
          2834.063837786229,
          3550.1814827990247,
          1842.829899218149,
          9350.657446384523,
          604.8771368485276,
          466.0745598877707,
          2177.7716720935214,
          2043.7981973995625,
          625.9385625873729,
          532.9784899344401,
          813.1349902445208,
          562.1255848063721,
          13378.50091417953,
          312.5627358073112,
          1061.4971468844933,
          405.2232254180455,
          2564.69848717445,
          2370.200840076537,
          3443.0709549761655,
          1221.9572135514434,
          359.80220669960875,
          674.9532337624156,
          1215.141619390881,
          1748.2393571947366,
          285.3851068970089,
          99.22007551070192,
          1136.4900740232156,
          1100.585377268109,
          168.82699309912118,
          283.1921751543953,
          770.1012183666088,
          1703.0934664493532,
          925.3988811669518,
          769.1857219935532,
          278.32222388496086,
          247.76058849377796,
          237.50123313959196,
          836.030672652756,
          1360.7765295260076,
          40.48422523067117,
          598.6798369357984,
          317.5224531846016,
          61.19736648349208,
          94.4853356897997,
          105.86137497091737,
          42.51588990434968,
          81.64514855192641,
          11.289227047165884,
          5.964479875747008,
          18.759412859315244,
          178.81878023797907,
          162.86307638557787,
          549.7904182003315,
          794.2106916777736,
          1041.3778285887197,
          1008.1362273107997,
          64431.18814433835,
          1430.4276941721175,
          1398.6075136852785,
          1080.8730579857643,
          1173.774961802431,
          2543.064500087223,
          430.77374407422093,
          206.72107350428902,
          313.9759926246726,
          24.027995363474083,
          15.875950686174473,
          36.73547077552161,
          42.50440911659002,
          319.64333431135464,
          41.683796643259974,
          87.86463438349872,
          152.6206444399133,
          184.84582069580296,
          184.10276854129174,
          180.20985058846043,
          57.361018964423074,
          45.49137171207571,
          101.49018465147853,
          67.52092682085411,
          36.23007609376661,
          24.755811430229492,
          7.208889347723867,
          58386.482530607354,
          246.7525022657993,
          50.09613603356414,
          241.1812379780087,
          406.71310108579706,
          330.94247675885117,
          4.368196723561055,
          2.5784698321604345,
          -0.14725109891633192,
          3.580866420502857,
          1.8981997382266835,
          6.840515171229107,
          4.202845445423738,
          8.281224377044222,
          11.265097337500949,
          8.710697391642992,
          0.5560762407766819,
          9.537793918864793,
          11.153721618460807,
          6.101045183650421,
          9.160138450995849,
          7.690500253188631,
          2.289437755724072,
          13.04387512737192,
          2.5784698321604345,
          2.396843029779059,
          3.8555925068288794,
          16.40420898774951,
          6.624862116754542,
          14.814293469038441,
          17.790264926592698,
          6.5028582368977474,
          2.454261070377196,
          18.767745740186772,
          0.15911119761253137,
          3.7543586367503137,
          2.743821110297752,
          1.392025943118877,
          14.017871937102205,
          1.8981997382266835,
          0.7399541881562792,
          4.104429362182721,
          7.39581471948933,
          5.789687897899173,
          3.0925914084804655,
          8.742907968466223,
          4.27198552224648,
          2.6292490921948013,
          4.225627833106835,
          2.2328946076144907,
          108.45674802978023,
          9.498998536284965,
          -0.3472979228755632,
          2.1825283218941363,
          4.106634244109163,
          4.694310801945671,
          3.939078084045404
         ]
        }
       ],
       "layout": {
        "legend": {
         "bgcolor": "#F5F6F9",
         "font": {
          "color": "#4D5663"
         }
        },
        "paper_bgcolor": "#F5F6F9",
        "plot_bgcolor": "#F5F6F9",
        "template": {
         "data": {
          "bar": [
           {
            "error_x": {
             "color": "#2a3f5f"
            },
            "error_y": {
             "color": "#2a3f5f"
            },
            "marker": {
             "line": {
              "color": "#E5ECF6",
              "width": 0.5
             }
            },
            "type": "bar"
           }
          ],
          "barpolar": [
           {
            "marker": {
             "line": {
              "color": "#E5ECF6",
              "width": 0.5
             }
            },
            "type": "barpolar"
           }
          ],
          "carpet": [
           {
            "aaxis": {
             "endlinecolor": "#2a3f5f",
             "gridcolor": "white",
             "linecolor": "white",
             "minorgridcolor": "white",
             "startlinecolor": "#2a3f5f"
            },
            "baxis": {
             "endlinecolor": "#2a3f5f",
             "gridcolor": "white",
             "linecolor": "white",
             "minorgridcolor": "white",
             "startlinecolor": "#2a3f5f"
            },
            "type": "carpet"
           }
          ],
          "choropleth": [
           {
            "colorbar": {
             "outlinewidth": 0,
             "ticks": ""
            },
            "type": "choropleth"
           }
          ],
          "contour": [
           {
            "colorbar": {
             "outlinewidth": 0,
             "ticks": ""
            },
            "colorscale": [
             [
              0,
              "#0d0887"
             ],
             [
              0.1111111111111111,
              "#46039f"
             ],
             [
              0.2222222222222222,
              "#7201a8"
             ],
             [
              0.3333333333333333,
              "#9c179e"
             ],
             [
              0.4444444444444444,
              "#bd3786"
             ],
             [
              0.5555555555555556,
              "#d8576b"
             ],
             [
              0.6666666666666666,
              "#ed7953"
             ],
             [
              0.7777777777777778,
              "#fb9f3a"
             ],
             [
              0.8888888888888888,
              "#fdca26"
             ],
             [
              1,
              "#f0f921"
             ]
            ],
            "type": "contour"
           }
          ],
          "contourcarpet": [
           {
            "colorbar": {
             "outlinewidth": 0,
             "ticks": ""
            },
            "type": "contourcarpet"
           }
          ],
          "heatmap": [
           {
            "colorbar": {
             "outlinewidth": 0,
             "ticks": ""
            },
            "colorscale": [
             [
              0,
              "#0d0887"
             ],
             [
              0.1111111111111111,
              "#46039f"
             ],
             [
              0.2222222222222222,
              "#7201a8"
             ],
             [
              0.3333333333333333,
              "#9c179e"
             ],
             [
              0.4444444444444444,
              "#bd3786"
             ],
             [
              0.5555555555555556,
              "#d8576b"
             ],
             [
              0.6666666666666666,
              "#ed7953"
             ],
             [
              0.7777777777777778,
              "#fb9f3a"
             ],
             [
              0.8888888888888888,
              "#fdca26"
             ],
             [
              1,
              "#f0f921"
             ]
            ],
            "type": "heatmap"
           }
          ],
          "heatmapgl": [
           {
            "colorbar": {
             "outlinewidth": 0,
             "ticks": ""
            },
            "colorscale": [
             [
              0,
              "#0d0887"
             ],
             [
              0.1111111111111111,
              "#46039f"
             ],
             [
              0.2222222222222222,
              "#7201a8"
             ],
             [
              0.3333333333333333,
              "#9c179e"
             ],
             [
              0.4444444444444444,
              "#bd3786"
             ],
             [
              0.5555555555555556,
              "#d8576b"
             ],
             [
              0.6666666666666666,
              "#ed7953"
             ],
             [
              0.7777777777777778,
              "#fb9f3a"
             ],
             [
              0.8888888888888888,
              "#fdca26"
             ],
             [
              1,
              "#f0f921"
             ]
            ],
            "type": "heatmapgl"
           }
          ],
          "histogram": [
           {
            "marker": {
             "colorbar": {
              "outlinewidth": 0,
              "ticks": ""
             }
            },
            "type": "histogram"
           }
          ],
          "histogram2d": [
           {
            "colorbar": {
             "outlinewidth": 0,
             "ticks": ""
            },
            "colorscale": [
             [
              0,
              "#0d0887"
             ],
             [
              0.1111111111111111,
              "#46039f"
             ],
             [
              0.2222222222222222,
              "#7201a8"
             ],
             [
              0.3333333333333333,
              "#9c179e"
             ],
             [
              0.4444444444444444,
              "#bd3786"
             ],
             [
              0.5555555555555556,
              "#d8576b"
             ],
             [
              0.6666666666666666,
              "#ed7953"
             ],
             [
              0.7777777777777778,
              "#fb9f3a"
             ],
             [
              0.8888888888888888,
              "#fdca26"
             ],
             [
              1,
              "#f0f921"
             ]
            ],
            "type": "histogram2d"
           }
          ],
          "histogram2dcontour": [
           {
            "colorbar": {
             "outlinewidth": 0,
             "ticks": ""
            },
            "colorscale": [
             [
              0,
              "#0d0887"
             ],
             [
              0.1111111111111111,
              "#46039f"
             ],
             [
              0.2222222222222222,
              "#7201a8"
             ],
             [
              0.3333333333333333,
              "#9c179e"
             ],
             [
              0.4444444444444444,
              "#bd3786"
             ],
             [
              0.5555555555555556,
              "#d8576b"
             ],
             [
              0.6666666666666666,
              "#ed7953"
             ],
             [
              0.7777777777777778,
              "#fb9f3a"
             ],
             [
              0.8888888888888888,
              "#fdca26"
             ],
             [
              1,
              "#f0f921"
             ]
            ],
            "type": "histogram2dcontour"
           }
          ],
          "mesh3d": [
           {
            "colorbar": {
             "outlinewidth": 0,
             "ticks": ""
            },
            "type": "mesh3d"
           }
          ],
          "parcoords": [
           {
            "line": {
             "colorbar": {
              "outlinewidth": 0,
              "ticks": ""
             }
            },
            "type": "parcoords"
           }
          ],
          "pie": [
           {
            "automargin": true,
            "type": "pie"
           }
          ],
          "scatter": [
           {
            "marker": {
             "colorbar": {
              "outlinewidth": 0,
              "ticks": ""
             }
            },
            "type": "scatter"
           }
          ],
          "scatter3d": [
           {
            "line": {
             "colorbar": {
              "outlinewidth": 0,
              "ticks": ""
             }
            },
            "marker": {
             "colorbar": {
              "outlinewidth": 0,
              "ticks": ""
             }
            },
            "type": "scatter3d"
           }
          ],
          "scattercarpet": [
           {
            "marker": {
             "colorbar": {
              "outlinewidth": 0,
              "ticks": ""
             }
            },
            "type": "scattercarpet"
           }
          ],
          "scattergeo": [
           {
            "marker": {
             "colorbar": {
              "outlinewidth": 0,
              "ticks": ""
             }
            },
            "type": "scattergeo"
           }
          ],
          "scattergl": [
           {
            "marker": {
             "colorbar": {
              "outlinewidth": 0,
              "ticks": ""
             }
            },
            "type": "scattergl"
           }
          ],
          "scattermapbox": [
           {
            "marker": {
             "colorbar": {
              "outlinewidth": 0,
              "ticks": ""
             }
            },
            "type": "scattermapbox"
           }
          ],
          "scatterpolar": [
           {
            "marker": {
             "colorbar": {
              "outlinewidth": 0,
              "ticks": ""
             }
            },
            "type": "scatterpolar"
           }
          ],
          "scatterpolargl": [
           {
            "marker": {
             "colorbar": {
              "outlinewidth": 0,
              "ticks": ""
             }
            },
            "type": "scatterpolargl"
           }
          ],
          "scatterternary": [
           {
            "marker": {
             "colorbar": {
              "outlinewidth": 0,
              "ticks": ""
             }
            },
            "type": "scatterternary"
           }
          ],
          "surface": [
           {
            "colorbar": {
             "outlinewidth": 0,
             "ticks": ""
            },
            "colorscale": [
             [
              0,
              "#0d0887"
             ],
             [
              0.1111111111111111,
              "#46039f"
             ],
             [
              0.2222222222222222,
              "#7201a8"
             ],
             [
              0.3333333333333333,
              "#9c179e"
             ],
             [
              0.4444444444444444,
              "#bd3786"
             ],
             [
              0.5555555555555556,
              "#d8576b"
             ],
             [
              0.6666666666666666,
              "#ed7953"
             ],
             [
              0.7777777777777778,
              "#fb9f3a"
             ],
             [
              0.8888888888888888,
              "#fdca26"
             ],
             [
              1,
              "#f0f921"
             ]
            ],
            "type": "surface"
           }
          ],
          "table": [
           {
            "cells": {
             "fill": {
              "color": "#EBF0F8"
             },
             "line": {
              "color": "white"
             }
            },
            "header": {
             "fill": {
              "color": "#C8D4E3"
             },
             "line": {
              "color": "white"
             }
            },
            "type": "table"
           }
          ]
         },
         "layout": {
          "annotationdefaults": {
           "arrowcolor": "#2a3f5f",
           "arrowhead": 0,
           "arrowwidth": 1
          },
          "coloraxis": {
           "colorbar": {
            "outlinewidth": 0,
            "ticks": ""
           }
          },
          "colorscale": {
           "diverging": [
            [
             0,
             "#8e0152"
            ],
            [
             0.1,
             "#c51b7d"
            ],
            [
             0.2,
             "#de77ae"
            ],
            [
             0.3,
             "#f1b6da"
            ],
            [
             0.4,
             "#fde0ef"
            ],
            [
             0.5,
             "#f7f7f7"
            ],
            [
             0.6,
             "#e6f5d0"
            ],
            [
             0.7,
             "#b8e186"
            ],
            [
             0.8,
             "#7fbc41"
            ],
            [
             0.9,
             "#4d9221"
            ],
            [
             1,
             "#276419"
            ]
           ],
           "sequential": [
            [
             0,
             "#0d0887"
            ],
            [
             0.1111111111111111,
             "#46039f"
            ],
            [
             0.2222222222222222,
             "#7201a8"
            ],
            [
             0.3333333333333333,
             "#9c179e"
            ],
            [
             0.4444444444444444,
             "#bd3786"
            ],
            [
             0.5555555555555556,
             "#d8576b"
            ],
            [
             0.6666666666666666,
             "#ed7953"
            ],
            [
             0.7777777777777778,
             "#fb9f3a"
            ],
            [
             0.8888888888888888,
             "#fdca26"
            ],
            [
             1,
             "#f0f921"
            ]
           ],
           "sequentialminus": [
            [
             0,
             "#0d0887"
            ],
            [
             0.1111111111111111,
             "#46039f"
            ],
            [
             0.2222222222222222,
             "#7201a8"
            ],
            [
             0.3333333333333333,
             "#9c179e"
            ],
            [
             0.4444444444444444,
             "#bd3786"
            ],
            [
             0.5555555555555556,
             "#d8576b"
            ],
            [
             0.6666666666666666,
             "#ed7953"
            ],
            [
             0.7777777777777778,
             "#fb9f3a"
            ],
            [
             0.8888888888888888,
             "#fdca26"
            ],
            [
             1,
             "#f0f921"
            ]
           ]
          },
          "colorway": [
           "#636efa",
           "#EF553B",
           "#00cc96",
           "#ab63fa",
           "#FFA15A",
           "#19d3f3",
           "#FF6692",
           "#B6E880",
           "#FF97FF",
           "#FECB52"
          ],
          "font": {
           "color": "#2a3f5f"
          },
          "geo": {
           "bgcolor": "white",
           "lakecolor": "white",
           "landcolor": "#E5ECF6",
           "showlakes": true,
           "showland": true,
           "subunitcolor": "white"
          },
          "hoverlabel": {
           "align": "left"
          },
          "hovermode": "closest",
          "mapbox": {
           "style": "light"
          },
          "paper_bgcolor": "white",
          "plot_bgcolor": "#E5ECF6",
          "polar": {
           "angularaxis": {
            "gridcolor": "white",
            "linecolor": "white",
            "ticks": ""
           },
           "bgcolor": "#E5ECF6",
           "radialaxis": {
            "gridcolor": "white",
            "linecolor": "white",
            "ticks": ""
           }
          },
          "scene": {
           "xaxis": {
            "backgroundcolor": "#E5ECF6",
            "gridcolor": "white",
            "gridwidth": 2,
            "linecolor": "white",
            "showbackground": true,
            "ticks": "",
            "zerolinecolor": "white"
           },
           "yaxis": {
            "backgroundcolor": "#E5ECF6",
            "gridcolor": "white",
            "gridwidth": 2,
            "linecolor": "white",
            "showbackground": true,
            "ticks": "",
            "zerolinecolor": "white"
           },
           "zaxis": {
            "backgroundcolor": "#E5ECF6",
            "gridcolor": "white",
            "gridwidth": 2,
            "linecolor": "white",
            "showbackground": true,
            "ticks": "",
            "zerolinecolor": "white"
           }
          },
          "shapedefaults": {
           "line": {
            "color": "#2a3f5f"
           }
          },
          "ternary": {
           "aaxis": {
            "gridcolor": "white",
            "linecolor": "white",
            "ticks": ""
           },
           "baxis": {
            "gridcolor": "white",
            "linecolor": "white",
            "ticks": ""
           },
           "bgcolor": "#E5ECF6",
           "caxis": {
            "gridcolor": "white",
            "linecolor": "white",
            "ticks": ""
           }
          },
          "title": {
           "x": 0.05
          },
          "xaxis": {
           "automargin": true,
           "gridcolor": "white",
           "linecolor": "white",
           "ticks": "",
           "title": {
            "standoff": 15
           },
           "zerolinecolor": "white",
           "zerolinewidth": 2
          },
          "yaxis": {
           "automargin": true,
           "gridcolor": "white",
           "linecolor": "white",
           "ticks": "",
           "title": {
            "standoff": 15
           },
           "zerolinecolor": "white",
           "zerolinewidth": 2
          }
         }
        },
        "title": {
         "font": {
          "color": "#4D5663"
         },
         "text": "Prediction by Zipcode"
        },
        "xaxis": {
         "gridcolor": "#E1E5ED",
         "showgrid": true,
         "tickfont": {
          "color": "#4D5663"
         },
         "title": {
          "font": {
           "color": "#4D5663"
          },
          "text": "Zipcode"
         },
         "zerolinecolor": "#E1E5ED"
        },
        "yaxis": {
         "gridcolor": "#E1E5ED",
         "showgrid": true,
         "tickfont": {
          "color": "#4D5663"
         },
         "title": {
          "font": {
           "color": "#4D5663"
          },
          "text": "Count"
         },
         "zerolinecolor": "#E1E5ED"
        }
       }
      },
      "text/html": [
       "<div>\n",
       "        \n",
       "        \n",
       "            <div id=\"eb532ed4-50bc-41d5-b381-1decc15b87fa\" class=\"plotly-graph-div\" style=\"height:525px; width:100%;\"></div>\n",
       "            <script type=\"text/javascript\">\n",
       "                require([\"plotly\"], function(Plotly) {\n",
       "                    window.PLOTLYENV=window.PLOTLYENV || {};\n",
       "                    window.PLOTLYENV.BASE_URL='https://plot.ly';\n",
       "                    \n",
       "                if (document.getElementById(\"eb532ed4-50bc-41d5-b381-1decc15b87fa\")) {\n",
       "                    Plotly.newPlot(\n",
       "                        'eb532ed4-50bc-41d5-b381-1decc15b87fa',\n",
       "                        [{\"line\": {\"color\": \"rgba(255, 153, 51, 1.0)\", \"dash\": \"solid\", \"shape\": \"linear\", \"width\": 1.3}, \"mode\": \"lines\", \"name\": \"cnt\", \"text\": \"\", \"type\": \"scatter\", \"x\": [\"10001\", \"10002\", \"10003\", \"10004\", \"10005\", \"10006\", \"10007\", \"10009\", \"10010\", \"10011\", \"10012\", \"10013\", \"10014\", \"10016\", \"10017\", \"10018\", \"10019\", \"10020\", \"10021\", \"10022\", \"10023\", \"10024\", \"10025\", \"10026\", \"10027\", \"10028\", \"10029\", \"10030\", \"10031\", \"10032\", \"10033\", \"10034\", \"10035\", \"10036\", \"10037\", \"10038\", \"10039\", \"10040\", \"10044\", \"10065\", \"10069\", \"10075\", \"10103\", \"10110\", \"10111\", \"10112\", \"10115\", \"10119\", \"10128\", \"10152\", \"10153\", \"10154\", \"10162\", \"10165\", \"10167\", \"10168\", \"10169\", \"10170\", \"10171\", \"10172\", \"10173\", \"10174\", \"10177\", \"10199\", \"10271\", \"10278\", \"10279\", \"10280\", \"10282\", \"10301\", \"10302\", \"10303\", \"10304\", \"10305\", \"10306\", \"10308\", \"10310\", \"10312\", \"10314\", \"10451\", \"10452\", \"10453\", \"10454\", \"10455\", \"10456\", \"10457\", \"10458\", \"10459\", \"10460\", \"10461\", \"10462\", \"10463\", \"10465\", \"10466\", \"10467\", \"10468\", \"10469\", \"10470\", \"10471\", \"10472\", \"10473\", \"10474\", \"10475\", \"10502\", \"10510\", \"10519\", \"10522\", \"10523\", \"10528\", \"10530\", \"10536\", \"10538\", \"10543\", \"10547\", \"10550\", \"10552\", \"10553\", \"10570\", \"10573\", \"10577\", \"10580\", \"10583\", \"10591\", \"10598\", \"10601\", \"10603\", \"10604\", \"10605\", \"10701\", \"10703\", \"10704\", \"10705\", \"10706\", \"10707\", \"10708\", \"10709\", \"10710\", \"10801\", \"10803\", \"10805\", \"10917\", \"10941\", \"10956\", \"10960\", \"10962\", \"10994\", \"11001\", \"11003\", \"11004\", \"11010\", \"11020\", \"11021\", \"11024\", \"11030\", \"11040\", \"11042\", \"11101\", \"11102\", \"11103\", \"11104\", \"11105\", \"11106\", \"11109\", \"11201\", \"11203\", \"11204\", \"11205\", \"11206\", \"11207\", \"11208\", \"11209\", \"11210\", \"11211\", \"11212\", \"11213\", \"11214\", \"11215\", \"11216\", \"11217\", \"11218\", \"11219\", \"11220\", \"11221\", \"11222\", \"11223\", \"11224\", \"11225\", \"11226\", \"11228\", \"11229\", \"11230\", \"11231\", \"11232\", \"11233\", \"11234\", \"11235\", \"11236\", \"11237\", \"11238\", \"11239\", \"11354\", \"11355\", \"11356\", \"11357\", \"11358\", \"11360\", \"11361\", \"11362\", \"11363\", \"11364\", \"11365\", \"11366\", \"11367\", \"11368\", \"11369\", \"11370\", \"11371\", \"11372\", \"11373\", \"11374\", \"11375\", \"11377\", \"11378\", \"11379\", \"11385\", \"11411\", \"11412\", \"11413\", \"11414\", \"11415\", \"11416\", \"11417\", \"11418\", \"11419\", \"11420\", \"11421\", \"11422\", \"11423\", \"11424\", \"11426\", \"11427\", \"11428\", \"11429\", \"11430\", \"11432\", \"11433\", \"11434\", \"11435\", \"11436\", \"11501\", \"11507\", \"11509\", \"11510\", \"11518\", \"11530\", \"11542\", \"11549\", \"11550\", \"11552\", \"11553\", \"11557\", \"11559\", \"11560\", \"11561\", \"11563\", \"11565\", \"11566\", \"11568\", \"11570\", \"11576\", \"11580\", \"11581\", \"11590\", \"11691\", \"11692\", \"11693\", \"11694\", \"11697\", \"11701\", \"11704\", \"11706\", \"11710\", \"11726\", \"11735\", \"11743\", \"11746\", \"11747\", \"11753\", \"11756\", \"11779\", \"11780\", \"11791\", \"11797\", \"11801\", \"11803\", \"11804\", \"12601\", \"13029\", \"13691\", \"14801\"], \"y\": [147413, 62126, 177924, 12877, 12450, 7873, 20709, 67281, 94165, 162467, 91218, 72924, 108204, 158976, 97984, 73496, 187109, 9528, 103806, 154509, 112315, 86047, 72073, 7496, 13115, 83887, 20082, 1593, 4325, 2079, 901, 341, 6505, 136512, 1242, 16563, 530, 222, 263, 96853, 5510, 54207, 3253, 2848, 1491, 1785, 24, 35753, 90013, 2447, 3935, 2386, 1353, 6147, 1748, 3392, 1071, 5918, 2508, 2754, 1623, 3845, 1044, 5489, 147, 776, 976, 12110, 11528, 5, 1, 1, 2, 9, 7, 1, 30, 1, 10, 830, 162, 75, 294, 170, 118, 65, 51, 51, 42, 40, 69, 111, 17, 17, 65, 81, 21, 11, 28, 54, 30, 14, 10, 1, 2, 1, 1, 2, 2, 2, 1, 8, 2, 1, 1, 2, 1, 1, 4, 2, 3, 7, 5, 1, 6, 1, 9, 3, 6, 2, 10, 4, 1, 5, 4, 2, 2, 13, 6, 4, 1, 1, 1, 1, 3, 1, 5, 4, 34, 9, 2, 6, 1, 8, 6, 2, 10475, 3541, 2554, 3784, 1502, 4492, 907, 13050, 79, 58, 2235, 2561, 110, 78, 137, 73, 16355, 38, 282, 81, 3076, 1174, 5781, 426, 55, 121, 862, 3534, 46, 13, 525, 380, 24, 54, 193, 3802, 274, 249, 48, 46, 35, 961, 2420, 7, 176, 66, 8, 16, 33, 8, 14, 2, 1, 4, 27, 27, 149, 271, 756, 1007, 48178, 1380, 1266, 457, 749, 3355, 232, 59, 178, 9, 5, 10, 16, 117, 25, 39, 72, 59, 76, 54, 14, 12, 40, 21, 17, 9, 4, 48741, 156, 18, 105, 484, 281, 1, 1, 1, 2, 1, 2, 1, 3, 7, 4, 3, 3, 3, 4, 2, 1, 1, 7, 1, 3, 1, 6, 2, 4, 3, 2, 1, 8, 1, 1, 1, 1, 1, 1, 7, 1, 3, 2, 1, 3, 1, 1, 2, 1, 98, 3, 1, 1, 1, 1, 1]}, {\"line\": {\"color\": \"rgba(55, 128, 191, 1.0)\", \"dash\": \"solid\", \"shape\": \"linear\", \"width\": 1.3}, \"mode\": \"lines\", \"name\": \"lr_pred\", \"text\": \"\", \"type\": \"scatter\", \"x\": [\"10001\", \"10002\", \"10003\", \"10004\", \"10005\", \"10006\", \"10007\", \"10009\", \"10010\", \"10011\", \"10012\", \"10013\", \"10014\", \"10016\", \"10017\", \"10018\", \"10019\", \"10020\", \"10021\", \"10022\", \"10023\", \"10024\", \"10025\", \"10026\", \"10027\", \"10028\", \"10029\", \"10030\", \"10031\", \"10032\", \"10033\", \"10034\", \"10035\", \"10036\", \"10037\", \"10038\", \"10039\", \"10040\", \"10044\", \"10065\", \"10069\", \"10075\", \"10103\", \"10110\", \"10111\", \"10112\", \"10115\", \"10119\", \"10128\", \"10152\", \"10153\", \"10154\", \"10162\", \"10165\", \"10167\", \"10168\", \"10169\", \"10170\", \"10171\", \"10172\", \"10173\", \"10174\", \"10177\", \"10199\", \"10271\", \"10278\", \"10279\", \"10280\", \"10282\", \"10301\", \"10302\", \"10303\", \"10304\", \"10305\", \"10306\", \"10308\", \"10310\", \"10312\", \"10314\", \"10451\", \"10452\", \"10453\", \"10454\", \"10455\", \"10456\", \"10457\", \"10458\", \"10459\", \"10460\", \"10461\", \"10462\", \"10463\", \"10465\", \"10466\", \"10467\", \"10468\", \"10469\", \"10470\", \"10471\", \"10472\", \"10473\", \"10474\", \"10475\", \"10502\", \"10510\", \"10519\", \"10522\", \"10523\", \"10528\", \"10530\", \"10536\", \"10538\", \"10543\", \"10547\", \"10550\", \"10552\", \"10553\", \"10570\", \"10573\", \"10577\", \"10580\", \"10583\", \"10591\", \"10598\", \"10601\", \"10603\", \"10604\", \"10605\", \"10701\", \"10703\", \"10704\", \"10705\", \"10706\", \"10707\", \"10708\", \"10709\", \"10710\", \"10801\", \"10803\", \"10805\", \"10917\", \"10941\", \"10956\", \"10960\", \"10962\", \"10994\", \"11001\", \"11003\", \"11004\", \"11010\", \"11020\", \"11021\", \"11024\", \"11030\", \"11040\", \"11042\", \"11101\", \"11102\", \"11103\", \"11104\", \"11105\", \"11106\", \"11109\", \"11201\", \"11203\", \"11204\", \"11205\", \"11206\", \"11207\", \"11208\", \"11209\", \"11210\", \"11211\", \"11212\", \"11213\", \"11214\", \"11215\", \"11216\", \"11217\", \"11218\", \"11219\", \"11220\", \"11221\", \"11222\", \"11223\", \"11224\", \"11225\", \"11226\", \"11228\", \"11229\", \"11230\", \"11231\", \"11232\", \"11233\", \"11234\", \"11235\", \"11236\", \"11237\", \"11238\", \"11239\", \"11354\", \"11355\", \"11356\", \"11357\", \"11358\", \"11360\", \"11361\", \"11362\", \"11363\", \"11364\", \"11365\", \"11366\", \"11367\", \"11368\", \"11369\", \"11370\", \"11371\", \"11372\", \"11373\", \"11374\", \"11375\", \"11377\", \"11378\", \"11379\", \"11385\", \"11411\", \"11412\", \"11413\", \"11414\", \"11415\", \"11416\", \"11417\", \"11418\", \"11419\", \"11420\", \"11421\", \"11422\", \"11423\", \"11424\", \"11426\", \"11427\", \"11428\", \"11429\", \"11430\", \"11432\", \"11433\", \"11434\", \"11435\", \"11436\", \"11501\", \"11507\", \"11509\", \"11510\", \"11518\", \"11530\", \"11542\", \"11549\", \"11550\", \"11552\", \"11553\", \"11557\", \"11559\", \"11560\", \"11561\", \"11563\", \"11565\", \"11566\", \"11568\", \"11570\", \"11576\", \"11580\", \"11581\", \"11590\", \"11691\", \"11692\", \"11693\", \"11694\", \"11697\", \"11701\", \"11704\", \"11706\", \"11710\", \"11726\", \"11735\", \"11743\", \"11746\", \"11747\", \"11753\", \"11756\", \"11779\", \"11780\", \"11791\", \"11797\", \"11801\", \"11803\", \"11804\", \"12601\", \"13029\", \"13691\", \"14801\"], \"y\": [143865.63881142504, 45479.65331163738, 156148.0167093995, 11920.690257450877, 10947.592522555235, 6654.102660074531, 18408.979652043578, 56801.622611688006, 82975.19287525755, 148841.1550921946, 76121.31274056312, 64275.65529913334, 94327.83463815736, 143818.7298001421, 90573.93755457703, 74643.16652359828, 188976.1848409134, 7881.82598659019, 81185.01401328926, 144927.76658578683, 89051.04105696612, 72018.37173899348, 60694.28969150951, 6235.4354800415895, 10560.49785631696, 69110.49159447472, 18415.105954883304, 1131.4662857141182, 3951.696924572153, 1975.7658420112798, 702.6833963935642, 252.5761645364605, 5525.961693385305, 146212.5201700185, 833.8979100140947, 14422.460469724596, 457.36094540484436, 185.55509307251594, 224.90867923937168, 77930.82117706751, 3834.9665119656156, 42277.23126201103, 2859.3666601588316, 2457.8679262617134, 1212.5995365963624, 1484.823521342456, 28.647348590600163, 31368.40753949821, 71500.49366949714, 1778.7055852399308, 3053.1554551035856, 1954.1991827309641, 1001.237846132358, 4838.1296833559145, 1488.595500370791, 3051.2482355884144, 1012.3429784216589, 5377.818010030641, 2363.840018019863, 2239.221332591453, 1542.980022441142, 3330.0506274934787, 901.2746187038824, 4613.063715090483, 147.12338069830983, 667.1236668632043, 786.5339440082687, 9222.356746699421, 7953.1228558848425, 4.388995937133713, 1.1620113718637837, 1.135198686350785, 2.9782332629361297, 9.195727534263906, 5.940971914596283, 0.6676035026311821, 12.987764907877642, 1.8112107986053665, 7.970282002126012, 617.9598203119224, 171.19825166057637, 84.2850977744798, 286.8999310464813, 127.8947922742223, 138.1355482885122, 54.636431666130385, 60.62802323978276, 52.89662829427155, 41.02674731278009, 45.85107057074442, 67.24232800813893, 116.62884376296265, 17.117191774818085, 21.39892032241133, 57.733556695991425, 81.66000047878377, 22.954271681316186, 10.546273912932769, 31.42363810399966, 56.43027367894538, 22.49255434708225, 15.326037883821533, 11.066049099438182, 1.4006761306404025, 14.570209758946785, 0.0, 0.8199398978794122, 2.7585931216700335, 2.43419507244435, 2.187258515009174, 0.0, 6.4373923631329735, 2.4872691495952197, 0.0, 0.6808652719213046, 2.5538250476801734, 0.0, 1.343423343747435, 5.275806837518478, 1.731536082301007, 3.4016960779469887, 7.022386714801999, 7.990496528502631, 0.0, 5.522648851787942, 0.8843491334134376, 4.338771129265815, 4.130824515222587, 7.088447211636427, 2.4870911384449945, 12.62897983013232, 3.923834753788851, 1.4775536389747916, 6.044858717056926, 4.078738619109749, 2.037681101701126, 2.18650738868801, 11.3025240496502, 5.382038706603941, 3.6004904015977, 0.0, 0.0, 0.7532363543093472, 1.5362192854553909, 2.920165901312771, 0.0, 5.572499898219088, 3.9168726238634015, 38.011068012619646, 4.781194739628621, 3.033467873767222, 6.757900719754627, 1.2840933805707668, 7.922501284722869, 4.464953003930452, 0.0, 11103.20954151808, 3205.233681265152, 2096.7454422100604, 3148.379218558929, 1166.3211311081047, 4358.917821277637, 486.1385317007776, 11003.451185254411, 75.63638706317002, 73.30357731286993, 1457.6522006285584, 1172.1090717815575, 102.18776593327037, 74.39454867444917, 119.22661345930618, 72.026755609757, 9231.828053577774, 38.38305019161032, 252.85649723167808, 63.25107875226757, 2115.718766204835, 794.6129882563346, 4448.85682556661, 393.9257335331768, 59.5382935098948, 117.93131845584155, 578.5494661291707, 2136.425978325257, 46.91377359992769, 15.598078881150741, 397.55324041722395, 334.70830614125833, 25.43363197417644, 45.78140204689829, 169.59562709768525, 2658.6810269097427, 275.9095793383536, 217.62791104661537, 46.65539638481407, 46.2365684141903, 36.49853793567997, 396.03648256134267, 1451.4739768646348, 8.245625857245127, 175.7286693878495, 67.51091156247183, 9.884278288947295, 17.24098931442516, 21.980754495730984, 4.804342695900196, 14.00117476259598, 2.4452834121303155, 1.1992626449166348, 2.4809148973650963, 28.6106194546243, 26.83168782433994, 138.70319434081998, 256.3191979877861, 702.8890736554625, 718.4189706822589, 28206.06053852715, 898.2881761221892, 981.4557193412563, 366.402279002009, 555.2131414338405, 2764.8686971068, 216.82025450714272, 62.96267566147216, 158.50049834317494, 8.113497726696021, 7.60430799537028, 10.123699023481372, 16.775689851355583, 117.52078585667005, 15.986051443758225, 36.780132869675164, 73.58216516868242, 56.907606487278166, 73.46273403476557, 54.83740785469287, 17.504272038630905, 14.47124334848082, 41.52166679743775, 23.5499356049254, 19.2563331491151, 9.88134774354891, 4.56359993383276, 48774.16863234179, 141.0235869599758, 18.40214418121413, 110.44452560853325, 456.75342045875493, 262.6955988828809, 1.3921484718142894, 0.0, 2.1124058894989415, 2.446319490753158, 0.0, 2.230942710466008, 0.0, 0.0, 6.134712514640856, 4.345970980883347, 3.9547439624707064, 3.2821295539989874, 6.424133242738019, 2.1116457006544875, 1.3817036782448504, 0.5374240318886918, 1.030465560108729, 3.4123935469101943, 2.2013453559333813, 3.589336879707086, 1.0089478279763624, 6.432549564061433, 2.710495855453478, 5.5507250498637895, 6.193140553251286, 2.2487283094166504, 0.8148431829786009, 7.743095198389296, 1.2687018267597485, 1.2699568403012875, 0.0, 1.1702707655341693, 0.5934479533339364, 0.0, 2.3154565882039195, 1.7847974466879855, 3.9095069267328793, 2.3324184780233077, 0.7950797167378714, 7.416542375396997, 1.339154494691884, 0.0, 2.5380949825800814, 0.8234968875114853, 79.0849507761782, 4.667917064130321, 0.0, 0.0, 0.0, 0.0, 0.0]}, {\"line\": {\"color\": \"rgba(50, 171, 96, 1.0)\", \"dash\": \"solid\", \"shape\": \"linear\", \"width\": 1.3}, \"mode\": \"lines\", \"name\": \"rf_pred\", \"text\": \"\", \"type\": \"scatter\", \"x\": [\"10001\", \"10002\", \"10003\", \"10004\", \"10005\", \"10006\", \"10007\", \"10009\", \"10010\", \"10011\", \"10012\", \"10013\", \"10014\", \"10016\", \"10017\", \"10018\", \"10019\", \"10020\", \"10021\", \"10022\", \"10023\", \"10024\", \"10025\", \"10026\", \"10027\", \"10028\", \"10029\", \"10030\", \"10031\", \"10032\", \"10033\", \"10034\", \"10035\", \"10036\", \"10037\", \"10038\", \"10039\", \"10040\", \"10044\", \"10065\", \"10069\", \"10075\", \"10103\", \"10110\", \"10111\", \"10112\", \"10115\", \"10119\", \"10128\", \"10152\", \"10153\", \"10154\", \"10162\", \"10165\", \"10167\", \"10168\", \"10169\", \"10170\", \"10171\", \"10172\", \"10173\", \"10174\", \"10177\", \"10199\", \"10271\", \"10278\", \"10279\", \"10280\", \"10282\", \"10301\", \"10302\", \"10303\", \"10304\", \"10305\", \"10306\", \"10308\", \"10310\", \"10312\", \"10314\", \"10451\", \"10452\", \"10453\", \"10454\", \"10455\", \"10456\", \"10457\", \"10458\", \"10459\", \"10460\", \"10461\", \"10462\", \"10463\", \"10465\", \"10466\", \"10467\", \"10468\", \"10469\", \"10470\", \"10471\", \"10472\", \"10473\", \"10474\", \"10475\", \"10502\", \"10510\", \"10519\", \"10522\", \"10523\", \"10528\", \"10530\", \"10536\", \"10538\", \"10543\", \"10547\", \"10550\", \"10552\", \"10553\", \"10570\", \"10573\", \"10577\", \"10580\", \"10583\", \"10591\", \"10598\", \"10601\", \"10603\", \"10604\", \"10605\", \"10701\", \"10703\", \"10704\", \"10705\", \"10706\", \"10707\", \"10708\", \"10709\", \"10710\", \"10801\", \"10803\", \"10805\", \"10917\", \"10941\", \"10956\", \"10960\", \"10962\", \"10994\", \"11001\", \"11003\", \"11004\", \"11010\", \"11020\", \"11021\", \"11024\", \"11030\", \"11040\", \"11042\", \"11101\", \"11102\", \"11103\", \"11104\", \"11105\", \"11106\", \"11109\", \"11201\", \"11203\", \"11204\", \"11205\", \"11206\", \"11207\", \"11208\", \"11209\", \"11210\", \"11211\", \"11212\", \"11213\", \"11214\", \"11215\", \"11216\", \"11217\", \"11218\", \"11219\", \"11220\", \"11221\", \"11222\", \"11223\", \"11224\", \"11225\", \"11226\", \"11228\", \"11229\", \"11230\", \"11231\", \"11232\", \"11233\", \"11234\", \"11235\", \"11236\", \"11237\", \"11238\", \"11239\", \"11354\", \"11355\", \"11356\", \"11357\", \"11358\", \"11360\", \"11361\", \"11362\", \"11363\", \"11364\", \"11365\", \"11366\", \"11367\", \"11368\", \"11369\", \"11370\", \"11371\", \"11372\", \"11373\", \"11374\", \"11375\", \"11377\", \"11378\", \"11379\", \"11385\", \"11411\", \"11412\", \"11413\", \"11414\", \"11415\", \"11416\", \"11417\", \"11418\", \"11419\", \"11420\", \"11421\", \"11422\", \"11423\", \"11424\", \"11426\", \"11427\", \"11428\", \"11429\", \"11430\", \"11432\", \"11433\", \"11434\", \"11435\", \"11436\", \"11501\", \"11507\", \"11509\", \"11510\", \"11518\", \"11530\", \"11542\", \"11549\", \"11550\", \"11552\", \"11553\", \"11557\", \"11559\", \"11560\", \"11561\", \"11563\", \"11565\", \"11566\", \"11568\", \"11570\", \"11576\", \"11580\", \"11581\", \"11590\", \"11691\", \"11692\", \"11693\", \"11694\", \"11697\", \"11701\", \"11704\", \"11706\", \"11710\", \"11726\", \"11735\", \"11743\", \"11746\", \"11747\", \"11753\", \"11756\", \"11779\", \"11780\", \"11791\", \"11797\", \"11801\", \"11803\", \"11804\", \"12601\", \"13029\", \"13691\", \"14801\"], \"y\": [177777.61999999985, 72464.67499999999, 203695.93499999997, 15847.249999999996, 14448.895, 10231.77, 24175.714999999986, 74652.82000000002, 110166.57500000001, 187035.89999999982, 105116.56499999996, 85777.41999999998, 124244.99000000008, 184272.90500000014, 120298.22499999996, 90740.06499999997, 226364.24999999997, 12098.680000000002, 115774.04999999996, 186627.825, 127679.34000000007, 97155.62000000002, 76721.23000000003, 7273.475000000002, 13485.124999999996, 94761.91500000001, 20259.939999999984, 1327.025, 4550.260000000003, 2205.994999999999, 927.2750000000003, 313.01, 6210.1299999999965, 166121.60999999996, 1037.515, 18613.530000000002, 555.1850000000002, 232.05500000000012, 261.42500000000007, 109568.41, 6279.515, 59237.134999999995, 4403.430000000001, 3444.009999999997, 2065.4049999999993, 2420.9300000000007, 33.010000000000005, 45491.845, 99571.80500000002, 3168.139999999999, 4701.760000000003, 3026.190000000001, 1550.7299999999993, 7429.735, 2276.554999999999, 4255.414999999997, 1411.1550000000002, 7451.760000000003, 3364.8500000000013, 3272.155, 2201.8300000000004, 4712.425000000004, 1273.6150000000005, 6663.775000000002, 188.53999999999996, 865.6950000000004, 1094.520000000001, 13732.680000000004, 13139.574999999999, 5.04, 1.15, 1.15, 2.54, 9.085, 6.835, 1.04, 12.299999999999999, 1.055, 9.11, 738.1099999999997, 180.58000000000004, 93.64000000000001, 309.4599999999999, 152.845, 130.07500000000002, 51.205000000000005, 51.495, 52.87500000000001, 41.345000000000006, 48.985000000000014, 79.29500000000002, 128.14000000000001, 22.249999999999996, 22.369999999999994, 55.70499999999997, 78.81, 25.64, 9.55, 29.905, 56.005, 24.139999999999997, 12.845000000000002, 10.475, 1.66, 2.255, 1.095, 1.27, 2.05, 2.04, 2.24, 1.015, 6.395, 2.59, 1.075, 1.12, 2.455, 1.155, 1.01, 4.3149999999999995, 2.025, 3.8249999999999997, 7.029999999999999, 6.31, 1.25, 5.185, 1.18, 4.67, 3.8000000000000003, 7.65, 2.83, 12.944999999999999, 4.545, 1.48, 4.865, 5.43, 2.38, 2.205, 13.864999999999998, 6.874999999999999, 3.7350000000000003, 1.23, 1.13, 1.445, 1.3, 2.705, 1.19, 6.95, 4.945, 26.134999999999998, 4.76, 2.79, 7.1, 1.26, 9.565000000000001, 6.1899999999999995, 2.3099999999999996, 11641.279999999992, 3721.0599999999986, 2742.645000000001, 4248.79, 1582.995, 4872.545000000001, 863.7200000000003, 13678.78, 84.62, 74.0, 2388.9350000000013, 2711.1700000000005, 115.38000000000002, 97.455, 138.43, 98.21999999999997, 18212.555000000004, 56.39, 292.36500000000007, 67.17000000000002, 3493.28, 1334.6549999999997, 6290.540000000001, 628.3299999999998, 56.949999999999974, 116.77500000000003, 1067.8999999999994, 3857.2600000000034, 48.275, 22.019999999999996, 554.5450000000001, 438.8700000000002, 32.09, 56.93500000000001, 246.10500000000002, 3766.790000000001, 336.97499999999997, 257.34500000000014, 56.109999999999985, 49.339999999999996, 38.68, 930.4800000000004, 2648.745, 12.945, 215.32499999999993, 102.095, 10.309999999999999, 16.45, 20.515, 4.615, 14.08, 2.145, 1.055, 4.045, 30.994999999999997, 30.055000000000003, 162.87500000000003, 307.7949999999999, 801.67, 998.1949999999997, 61141.42000000001, 1334.4900000000007, 1267.0549999999998, 479.98499999999973, 762.39, 3396.1, 257.275, 64.89500000000001, 186.38500000000002, 11.8, 7.71, 9.78, 16.5, 113.12999999999997, 15.110000000000003, 32.964999999999996, 72.51999999999997, 60.129999999999995, 81.345, 55.074999999999996, 18.329999999999995, 14.899999999999999, 44.725, 20.600000000000005, 20.98, 10.540000000000001, 4.705, 58702.76499999997, 164.32, 24.93, 110.93499999999999, 550.2, 252.82499999999996, 1.475, 2.365, 2.02, 2.745, 1.165, 2.52, 1.035, 2.4000000000000004, 4.74, 4.49, 4.13, 3.9400000000000004, 3.5249999999999995, 2.58, 2.745, 1.53, 1.6, 5.18, 1.25, 3.365, 1.045, 6.81, 2.44, 5.83, 4.105, 2.035, 1.015, 7.954999999999999, 1.115, 1.25, 1.12, 1.12, 1.11, 1.105, 2.19, 1.255, 3.16, 2.035, 1.015, 2.335, 1.16, 1.06, 2.19, 1.325, 78.89500000000001, 4.8100000000000005, 1.145, 1.135, 1.315, 1.405, 1.45]}, {\"line\": {\"color\": \"rgba(128, 0, 128, 1.0)\", \"dash\": \"solid\", \"shape\": \"linear\", \"width\": 1.3}, \"mode\": \"lines\", \"name\": \"xgb_pred\", \"text\": \"\", \"type\": \"scatter\", \"x\": [\"10001\", \"10002\", \"10003\", \"10004\", \"10005\", \"10006\", \"10007\", \"10009\", \"10010\", \"10011\", \"10012\", \"10013\", \"10014\", \"10016\", \"10017\", \"10018\", \"10019\", \"10020\", \"10021\", \"10022\", \"10023\", \"10024\", \"10025\", \"10026\", \"10027\", \"10028\", \"10029\", \"10030\", \"10031\", \"10032\", \"10033\", \"10034\", \"10035\", \"10036\", \"10037\", \"10038\", \"10039\", \"10040\", \"10044\", \"10065\", \"10069\", \"10075\", \"10103\", \"10110\", \"10111\", \"10112\", \"10115\", \"10119\", \"10128\", \"10152\", \"10153\", \"10154\", \"10162\", \"10165\", \"10167\", \"10168\", \"10169\", \"10170\", \"10171\", \"10172\", \"10173\", \"10174\", \"10177\", \"10199\", \"10271\", \"10278\", \"10279\", \"10280\", \"10282\", \"10301\", \"10302\", \"10303\", \"10304\", \"10305\", \"10306\", \"10308\", \"10310\", \"10312\", \"10314\", \"10451\", \"10452\", \"10453\", \"10454\", \"10455\", \"10456\", \"10457\", \"10458\", \"10459\", \"10460\", \"10461\", \"10462\", \"10463\", \"10465\", \"10466\", \"10467\", \"10468\", \"10469\", \"10470\", \"10471\", \"10472\", \"10473\", \"10474\", \"10475\", \"10502\", \"10510\", \"10519\", \"10522\", \"10523\", \"10528\", \"10530\", \"10536\", \"10538\", \"10543\", \"10547\", \"10550\", \"10552\", \"10553\", \"10570\", \"10573\", \"10577\", \"10580\", \"10583\", \"10591\", \"10598\", \"10601\", \"10603\", \"10604\", \"10605\", \"10701\", \"10703\", \"10704\", \"10705\", \"10706\", \"10707\", \"10708\", \"10709\", \"10710\", \"10801\", \"10803\", \"10805\", \"10917\", \"10941\", \"10956\", \"10960\", \"10962\", \"10994\", \"11001\", \"11003\", \"11004\", \"11010\", \"11020\", \"11021\", \"11024\", \"11030\", \"11040\", \"11042\", \"11101\", \"11102\", \"11103\", \"11104\", \"11105\", \"11106\", \"11109\", \"11201\", \"11203\", \"11204\", \"11205\", \"11206\", \"11207\", \"11208\", \"11209\", \"11210\", \"11211\", \"11212\", \"11213\", \"11214\", \"11215\", \"11216\", \"11217\", \"11218\", \"11219\", \"11220\", \"11221\", \"11222\", \"11223\", \"11224\", \"11225\", \"11226\", \"11228\", \"11229\", \"11230\", \"11231\", \"11232\", \"11233\", \"11234\", \"11235\", \"11236\", \"11237\", \"11238\", \"11239\", \"11354\", \"11355\", \"11356\", \"11357\", \"11358\", \"11360\", \"11361\", \"11362\", \"11363\", \"11364\", \"11365\", \"11366\", \"11367\", \"11368\", \"11369\", \"11370\", \"11371\", \"11372\", \"11373\", \"11374\", \"11375\", \"11377\", \"11378\", \"11379\", \"11385\", \"11411\", \"11412\", \"11413\", \"11414\", \"11415\", \"11416\", \"11417\", \"11418\", \"11419\", \"11420\", \"11421\", \"11422\", \"11423\", \"11424\", \"11426\", \"11427\", \"11428\", \"11429\", \"11430\", \"11432\", \"11433\", \"11434\", \"11435\", \"11436\", \"11501\", \"11507\", \"11509\", \"11510\", \"11518\", \"11530\", \"11542\", \"11549\", \"11550\", \"11552\", \"11553\", \"11557\", \"11559\", \"11560\", \"11561\", \"11563\", \"11565\", \"11566\", \"11568\", \"11570\", \"11576\", \"11580\", \"11581\", \"11590\", \"11691\", \"11692\", \"11693\", \"11694\", \"11697\", \"11701\", \"11704\", \"11706\", \"11710\", \"11726\", \"11735\", \"11743\", \"11746\", \"11747\", \"11753\", \"11756\", \"11779\", \"11780\", \"11791\", \"11797\", \"11801\", \"11803\", \"11804\", \"12601\", \"13029\", \"13691\", \"14801\"], \"y\": [179641.59375, 67081.8359375, 197686.828125, 16002.48046875, 13440.0185546875, 8827.1650390625, 23855.837890625, 70514.0546875, 113127.8515625, 187690.03125, 105329.8671875, 88550.4609375, 124723.71875, 189479.515625, 127481.015625, 93713.015625, 229834.21875, 12809.6953125, 122651.3984375, 193298.203125, 130263.609375, 98065.7265625, 78176.7734375, 8225.638671875, 13243.9365234375, 93566.6328125, 20123.1328125, 1321.2017822265625, 3494.65869140625, 1931.3468017578125, 599.8399658203125, 587.9329833984375, 5726.53759765625, 163197.859375, 1454.4481201171875, 19760.58203125, 2019.270751953125, 1063.05859375, 1275.33251953125, 109626.640625, 8113.7744140625, 61784.57421875, 4668.091796875, 4112.373046875, 2637.581298828125, 2926.544677734375, 443.3990783691406, 45150.1328125, 99710.890625, 3866.055908203125, 4218.70556640625, 3292.10693359375, 2061.94140625, 7041.953125, 2799.451171875, 3787.487548828125, 2176.462890625, 7333.2724609375, 3439.600341796875, 3411.0830078125, 2717.223388671875, 4280.33154296875, 1770.6822509765625, 6085.57861328125, 516.709716796875, 1158.94482421875, 1229.9498291015625, 13177.767578125, 13057.60546875, 31.82088279724121, 1.0637480020523071, 1.3097307682037354, 4.245481491088867, 22.981597900390625, 16.131813049316406, -3.7672677040100098, 54.70539474487305, 2.0161256790161133, 57.109100341796875, 752.017822265625, 245.53016662597656, 115.00657653808594, 335.6684265136719, 118.19904327392578, 98.40751647949219, 66.3968276977539, 12.191106796264648, 58.485774993896484, 83.94483184814453, 101.2999038696289, 108.4803237915039, 182.1427459716797, 33.03615188598633, 40.74934768676758, 115.87013244628906, 124.44194793701172, 41.35765075683594, 12.909292221069336, 68.97654724121094, 83.9572525024414, 7.828304767608643, 42.22943115234375, 29.593385696411133, -0.8685852289199829, 9.81240463256836, -0.8967701196670532, -6.578199863433838, 0.8659095764160156, 2.2739686965942383, 6.327772617340088, 1.75906503200531, 8.43058967590332, 2.6638169288635254, 0.6739371418952942, -5.23533821105957, -1.1246757507324219, 0.4270412027835846, 1.4965897798538208, 10.163345336914062, 4.032012939453125, -10.533784866333008, 11.023082733154297, 12.909379005432129, 11.357705116271973, 11.625557899475098, -4.115670680999756, 9.195828437805176, 6.4831390380859375, 11.811532020568848, -4.435570240020752, 19.374000549316406, 15.152923583984375, 2.4585723876953125, -8.066962242126465, 6.652823448181152, -2.230860948562622, 5.209267616271973, -7.6130690574646, 0.5350518226623535, -3.248312473297119, 3.431077718734741, 5.847351551055908, 1.3451309204101562, 1.6994824409484863, 0.9120945930480957, 14.761421203613281, 16.259641647338867, 6.078310966491699, 7.268564701080322, 2.081481456756592, -3.1197023391723633, -4.669656276702881, -7.189051628112793, 5.330451011657715, 20.302135467529297, 6.332624912261963, 10687.4345703125, 3682.6953125, 2919.6796875, 3157.639892578125, 2208.9365234375, 4181.69384765625, 992.5478515625, 11959.5400390625, 269.177734375, 160.6056365966797, 1982.7772216796875, 1916.7325439453125, 309.05828857421875, 218.34750366210938, 400.6758728027344, 287.36700439453125, 14825.8388671875, 186.62515258789062, 495.9145812988281, 218.0576171875, 2842.54248046875, 1455.703369140625, 5103.50048828125, 601.0440673828125, 134.6651153564453, 320.3631896972656, 1013.1604614257812, 2663.11181640625, 86.43714141845703, 39.7354736328125, 348.63446044921875, 337.9452819824219, 51.29019546508789, 77.99217224121094, 218.6854705810547, 3124.73779296875, 456.79730224609375, 371.5716247558594, 150.1431427001953, 137.11611938476562, 121.05097961425781, 826.9959106445312, 1960.9637451171875, 42.32455062866211, 319.976806640625, 135.97964477539062, 34.69028091430664, 50.518917083740234, 57.502140045166016, 19.923635482788086, 42.567665100097656, 5.882603645324707, 1.8157750368118286, 7.7468438148498535, 105.3807373046875, 102.36271667480469, 292.4463195800781, 357.82525634765625, 924.7981567382812, 908.0245971679688, 66369.328125, 1253.7723388671875, 1227.7899169921875, 644.736328125, 663.3571166992188, 2888.198486328125, 156.61265563964844, 50.57023239135742, 81.40210723876953, 4.2536540031433105, 9.019838333129883, 33.13369369506836, 4.516271114349365, 111.26426696777344, 9.255669593811035, 11.515880584716797, 77.9985122680664, 59.46099090576172, 30.63250160217285, 61.38478088378906, 21.962181091308594, 20.25641441345215, 18.67395782470703, 6.427397727966309, 9.2245512008667, 51.05665588378906, 68.43399047851562, 58751.16015625, 180.66000366210938, 37.12959671020508, 188.00027465820312, 320.781494140625, 237.80894470214844, 2.82784366607666, -0.4249238967895508, 3.768237352371216, 9.459785461425781, 5.194334030151367, -1.3134191036224365, 3.5744640827178955, 5.468111038208008, 8.49208927154541, 7.621857643127441, 5.468550205230713, 2.152860164642334, 12.20429515838623, 7.861356735229492, -5.504010200500488, 5.923803329467773, -3.7454075813293457, 11.094383239746094, -0.4249238967895508, 5.61305046081543, 3.288585901260376, 19.042034149169922, 5.791500091552734, 11.329119682312012, 13.922880172729492, 7.9038543701171875, 2.9387495517730713, 13.784647941589355, 5.7723846435546875, 3.2648370265960693, 1.1281795501708984, -2.0296366214752197, 2.4234261512756348, 5.194334030151367, 4.70547342300415, 1.6701183319091797, 3.6486949920654297, 0.968224287033081, 2.3131103515625, 9.634772300720215, 2.777899742126465, -0.221723735332489, 9.095893859863281, -5.659945964813232, 111.28449249267578, 9.002219200134277, 1.4412000179290771, -2.0711703300476074, 3.4053473472595215, 4.669667720794678, 1.5765466690063477]}, {\"line\": {\"color\": \"rgba(219, 64, 82, 1.0)\", \"dash\": \"solid\", \"shape\": \"linear\", \"width\": 1.3}, \"mode\": \"lines\", \"name\": \"lgbm_pred\", \"text\": \"\", \"type\": \"scatter\", \"x\": [\"10001\", \"10002\", \"10003\", \"10004\", \"10005\", \"10006\", \"10007\", \"10009\", \"10010\", \"10011\", \"10012\", \"10013\", \"10014\", \"10016\", \"10017\", \"10018\", \"10019\", \"10020\", \"10021\", \"10022\", \"10023\", \"10024\", \"10025\", \"10026\", \"10027\", \"10028\", \"10029\", \"10030\", \"10031\", \"10032\", \"10033\", \"10034\", \"10035\", \"10036\", \"10037\", \"10038\", \"10039\", \"10040\", \"10044\", \"10065\", \"10069\", \"10075\", \"10103\", \"10110\", \"10111\", \"10112\", \"10115\", \"10119\", \"10128\", \"10152\", \"10153\", \"10154\", \"10162\", \"10165\", \"10167\", \"10168\", \"10169\", \"10170\", \"10171\", \"10172\", \"10173\", \"10174\", \"10177\", \"10199\", \"10271\", \"10278\", \"10279\", \"10280\", \"10282\", \"10301\", \"10302\", \"10303\", \"10304\", \"10305\", \"10306\", \"10308\", \"10310\", \"10312\", \"10314\", \"10451\", \"10452\", \"10453\", \"10454\", \"10455\", \"10456\", \"10457\", \"10458\", \"10459\", \"10460\", \"10461\", \"10462\", \"10463\", \"10465\", \"10466\", \"10467\", \"10468\", \"10469\", \"10470\", \"10471\", \"10472\", \"10473\", \"10474\", \"10475\", \"10502\", \"10510\", \"10519\", \"10522\", \"10523\", \"10528\", \"10530\", \"10536\", \"10538\", \"10543\", \"10547\", \"10550\", \"10552\", \"10553\", \"10570\", \"10573\", \"10577\", \"10580\", \"10583\", \"10591\", \"10598\", \"10601\", \"10603\", \"10604\", \"10605\", \"10701\", \"10703\", \"10704\", \"10705\", \"10706\", \"10707\", \"10708\", \"10709\", \"10710\", \"10801\", \"10803\", \"10805\", \"10917\", \"10941\", \"10956\", \"10960\", \"10962\", \"10994\", \"11001\", \"11003\", \"11004\", \"11010\", \"11020\", \"11021\", \"11024\", \"11030\", \"11040\", \"11042\", \"11101\", \"11102\", \"11103\", \"11104\", \"11105\", \"11106\", \"11109\", \"11201\", \"11203\", \"11204\", \"11205\", \"11206\", \"11207\", \"11208\", \"11209\", \"11210\", \"11211\", \"11212\", \"11213\", \"11214\", \"11215\", \"11216\", \"11217\", \"11218\", \"11219\", \"11220\", \"11221\", \"11222\", \"11223\", \"11224\", \"11225\", \"11226\", \"11228\", \"11229\", \"11230\", \"11231\", \"11232\", \"11233\", \"11234\", \"11235\", \"11236\", \"11237\", \"11238\", \"11239\", \"11354\", \"11355\", \"11356\", \"11357\", \"11358\", \"11360\", \"11361\", \"11362\", \"11363\", \"11364\", \"11365\", \"11366\", \"11367\", \"11368\", \"11369\", \"11370\", \"11371\", \"11372\", \"11373\", \"11374\", \"11375\", \"11377\", \"11378\", \"11379\", \"11385\", \"11411\", \"11412\", \"11413\", \"11414\", \"11415\", \"11416\", \"11417\", \"11418\", \"11419\", \"11420\", \"11421\", \"11422\", \"11423\", \"11424\", \"11426\", \"11427\", \"11428\", \"11429\", \"11430\", \"11432\", \"11433\", \"11434\", \"11435\", \"11436\", \"11501\", \"11507\", \"11509\", \"11510\", \"11518\", \"11530\", \"11542\", \"11549\", \"11550\", \"11552\", \"11553\", \"11557\", \"11559\", \"11560\", \"11561\", \"11563\", \"11565\", \"11566\", \"11568\", \"11570\", \"11576\", \"11580\", \"11581\", \"11590\", \"11691\", \"11692\", \"11693\", \"11694\", \"11697\", \"11701\", \"11704\", \"11706\", \"11710\", \"11726\", \"11735\", \"11743\", \"11746\", \"11747\", \"11753\", \"11756\", \"11779\", \"11780\", \"11791\", \"11797\", \"11801\", \"11803\", \"11804\", \"12601\", \"13029\", \"13691\", \"14801\"], \"y\": [176352.5103952003, 70052.04682445973, 201436.0056095425, 17593.060728170014, 15491.71344722438, 13162.65391856872, 24553.041457155705, 69956.83684483476, 112487.10769651204, 184004.6624396037, 105557.43591893648, 88166.06373167281, 122146.89899836823, 184115.3193055021, 123529.340695496, 93846.48575329891, 225219.49613618298, 14005.147791423147, 118423.09398245586, 191971.88391134996, 130349.82394462217, 98492.10910269589, 74468.62543089104, 9935.94898425183, 12676.873465076662, 91079.96823686846, 20637.043929506086, 3687.6014290155645, 3765.5890523305234, 3533.710783235366, 3402.733336102979, 2648.627565200568, 7392.815331883617, 159366.65163771962, 4013.2784453856675, 16087.76996442316, 2053.0933905876636, 1196.973055607615, 1778.002490406446, 108283.70281770176, 8788.999506461932, 57415.54329410616, 5247.023590674814, 4779.2391925032325, 3544.5368153636414, 3617.2717902205527, 619.486010207611, 42359.98495786338, 98677.3727902604, 4557.065758946957, 4627.15098559003, 4468.8131132985245, 4070.644317981227, 4884.605626903695, 4163.326075744639, 4152.529173986511, 3758.2246135809, 4680.924159450768, 4267.795752013039, 4205.2312340834, 4165.376138558001, 4278.734692058772, 3330.7902960991705, 5484.331916979475, 882.7218020230089, 1803.1182030611878, 1846.3727588623833, 12880.649215117513, 12812.522491827314, 18.057254240154244, 7.580909220292873, 6.014161338622029, 11.902915953690075, 55.53627777692, 37.38694018794226, -8.56495010162533, 58.14941705314347, 7.831950957573153, 66.45080372127302, 1048.7302215465982, 482.67176781757246, 228.37965301674546, 774.7768199059944, 364.4381146985588, 339.29568933065445, 171.13353047175224, 146.35042063456274, 179.92608094643316, 140.45789989546813, 187.33371440756014, 257.6915587131251, 426.0105219000139, 86.59027727946508, 88.71020830720887, 224.55959992117624, 275.55919746887645, 77.12107647553854, 34.58505534403114, 158.26974437156983, 200.032339079641, 80.78513000014864, 81.03559171595222, 64.65787295045824, 7.432524360303642, 14.661305478933789, -2.814653012575403, -7.0512091311502685, 12.510191725553483, 13.025159208165308, 16.434025133429614, 2.9317099378224345, 37.77857784235138, 15.677346595637564, 6.242776546189647, -9.61946448925939, 13.758357588998617, 2.025103218462565, 7.949680959315193, 30.590381438589187, 8.53185456258584, 10.326468297523029, 47.15077059661367, 32.702913350381046, 7.037309470894031, 27.390548025379246, -6.181999864219914, 24.35619046857141, 17.46438043575863, 24.51948736716263, 0.3217738099682652, 59.498130198922674, 31.553867853124107, 8.244822235333922, 13.885958746504807, 16.83493159441198, 7.089577195072426, 14.355290222648737, 15.04685003091629, 17.549098974518326, 14.973927029280093, 7.088397918260712, 7.037309470894031, 1.3148584423972765, 7.088397918260712, 8.881330052327563, 7.825851336591418, 43.29288679790758, 18.774749584758, 78.76234159437224, 16.42759497595777, 11.8781862304394, 27.839501251736344, 3.4086783168921704, 31.45953390723419, 42.55124860403032, 5.368582826285641, 9863.771432316638, 3268.126272480197, 3218.569838504363, 3311.348711831225, 2834.063837786229, 3550.1814827990247, 1842.829899218149, 9350.657446384523, 604.8771368485276, 466.0745598877707, 2177.7716720935214, 2043.7981973995625, 625.9385625873729, 532.9784899344401, 813.1349902445208, 562.1255848063721, 13378.50091417953, 312.5627358073112, 1061.4971468844933, 405.2232254180455, 2564.69848717445, 2370.200840076537, 3443.0709549761655, 1221.9572135514434, 359.80220669960875, 674.9532337624156, 1215.141619390881, 1748.2393571947366, 285.3851068970089, 99.22007551070192, 1136.4900740232156, 1100.585377268109, 168.82699309912118, 283.1921751543953, 770.1012183666088, 1703.0934664493532, 925.3988811669518, 769.1857219935532, 278.32222388496086, 247.76058849377796, 237.50123313959196, 836.030672652756, 1360.7765295260076, 40.48422523067117, 598.6798369357984, 317.5224531846016, 61.19736648349208, 94.4853356897997, 105.86137497091737, 42.51588990434968, 81.64514855192641, 11.289227047165884, 5.964479875747008, 18.759412859315244, 178.81878023797907, 162.86307638557787, 549.7904182003315, 794.2106916777736, 1041.3778285887197, 1008.1362273107997, 64431.18814433835, 1430.4276941721175, 1398.6075136852785, 1080.8730579857643, 1173.774961802431, 2543.064500087223, 430.77374407422093, 206.72107350428902, 313.9759926246726, 24.027995363474083, 15.875950686174473, 36.73547077552161, 42.50440911659002, 319.64333431135464, 41.683796643259974, 87.86463438349872, 152.6206444399133, 184.84582069580296, 184.10276854129174, 180.20985058846043, 57.361018964423074, 45.49137171207571, 101.49018465147853, 67.52092682085411, 36.23007609376661, 24.755811430229492, 7.208889347723867, 58386.482530607354, 246.7525022657993, 50.09613603356414, 241.1812379780087, 406.71310108579706, 330.94247675885117, 4.368196723561055, 2.5784698321604345, -0.14725109891633192, 3.580866420502857, 1.8981997382266835, 6.840515171229107, 4.202845445423738, 8.281224377044222, 11.265097337500949, 8.710697391642992, 0.5560762407766819, 9.537793918864793, 11.153721618460807, 6.101045183650421, 9.160138450995849, 7.690500253188631, 2.289437755724072, 13.04387512737192, 2.5784698321604345, 2.396843029779059, 3.8555925068288794, 16.40420898774951, 6.624862116754542, 14.814293469038441, 17.790264926592698, 6.5028582368977474, 2.454261070377196, 18.767745740186772, 0.15911119761253137, 3.7543586367503137, 2.743821110297752, 1.392025943118877, 14.017871937102205, 1.8981997382266835, 0.7399541881562792, 4.104429362182721, 7.39581471948933, 5.789687897899173, 3.0925914084804655, 8.742907968466223, 4.27198552224648, 2.6292490921948013, 4.225627833106835, 2.2328946076144907, 108.45674802978023, 9.498998536284965, -0.3472979228755632, 2.1825283218941363, 4.106634244109163, 4.694310801945671, 3.939078084045404]}],\n",
       "                        {\"legend\": {\"bgcolor\": \"#F5F6F9\", \"font\": {\"color\": \"#4D5663\"}}, \"paper_bgcolor\": \"#F5F6F9\", \"plot_bgcolor\": \"#F5F6F9\", \"template\": {\"data\": {\"bar\": [{\"error_x\": {\"color\": \"#2a3f5f\"}, \"error_y\": {\"color\": \"#2a3f5f\"}, \"marker\": {\"line\": {\"color\": \"#E5ECF6\", \"width\": 0.5}}, \"type\": \"bar\"}], \"barpolar\": [{\"marker\": {\"line\": {\"color\": \"#E5ECF6\", \"width\": 0.5}}, \"type\": \"barpolar\"}], \"carpet\": [{\"aaxis\": {\"endlinecolor\": \"#2a3f5f\", \"gridcolor\": \"white\", \"linecolor\": \"white\", \"minorgridcolor\": \"white\", \"startlinecolor\": \"#2a3f5f\"}, \"baxis\": {\"endlinecolor\": \"#2a3f5f\", \"gridcolor\": \"white\", \"linecolor\": \"white\", \"minorgridcolor\": \"white\", \"startlinecolor\": \"#2a3f5f\"}, \"type\": \"carpet\"}], \"choropleth\": [{\"colorbar\": {\"outlinewidth\": 0, \"ticks\": \"\"}, \"type\": \"choropleth\"}], \"contour\": [{\"colorbar\": {\"outlinewidth\": 0, \"ticks\": \"\"}, \"colorscale\": [[0.0, \"#0d0887\"], [0.1111111111111111, \"#46039f\"], [0.2222222222222222, \"#7201a8\"], [0.3333333333333333, \"#9c179e\"], [0.4444444444444444, \"#bd3786\"], [0.5555555555555556, \"#d8576b\"], [0.6666666666666666, \"#ed7953\"], [0.7777777777777778, \"#fb9f3a\"], [0.8888888888888888, \"#fdca26\"], [1.0, \"#f0f921\"]], \"type\": \"contour\"}], \"contourcarpet\": [{\"colorbar\": {\"outlinewidth\": 0, \"ticks\": \"\"}, \"type\": \"contourcarpet\"}], \"heatmap\": [{\"colorbar\": {\"outlinewidth\": 0, \"ticks\": \"\"}, \"colorscale\": [[0.0, \"#0d0887\"], [0.1111111111111111, \"#46039f\"], [0.2222222222222222, \"#7201a8\"], [0.3333333333333333, \"#9c179e\"], [0.4444444444444444, \"#bd3786\"], [0.5555555555555556, \"#d8576b\"], [0.6666666666666666, \"#ed7953\"], [0.7777777777777778, \"#fb9f3a\"], [0.8888888888888888, \"#fdca26\"], [1.0, \"#f0f921\"]], \"type\": \"heatmap\"}], \"heatmapgl\": [{\"colorbar\": {\"outlinewidth\": 0, \"ticks\": \"\"}, \"colorscale\": [[0.0, \"#0d0887\"], [0.1111111111111111, \"#46039f\"], [0.2222222222222222, \"#7201a8\"], [0.3333333333333333, \"#9c179e\"], [0.4444444444444444, \"#bd3786\"], [0.5555555555555556, \"#d8576b\"], [0.6666666666666666, \"#ed7953\"], [0.7777777777777778, \"#fb9f3a\"], [0.8888888888888888, \"#fdca26\"], [1.0, \"#f0f921\"]], \"type\": \"heatmapgl\"}], \"histogram\": [{\"marker\": {\"colorbar\": {\"outlinewidth\": 0, \"ticks\": \"\"}}, \"type\": \"histogram\"}], \"histogram2d\": [{\"colorbar\": {\"outlinewidth\": 0, \"ticks\": \"\"}, \"colorscale\": [[0.0, \"#0d0887\"], [0.1111111111111111, \"#46039f\"], [0.2222222222222222, \"#7201a8\"], [0.3333333333333333, \"#9c179e\"], [0.4444444444444444, \"#bd3786\"], [0.5555555555555556, \"#d8576b\"], [0.6666666666666666, \"#ed7953\"], [0.7777777777777778, \"#fb9f3a\"], [0.8888888888888888, \"#fdca26\"], [1.0, \"#f0f921\"]], \"type\": \"histogram2d\"}], \"histogram2dcontour\": [{\"colorbar\": {\"outlinewidth\": 0, \"ticks\": \"\"}, \"colorscale\": [[0.0, \"#0d0887\"], [0.1111111111111111, \"#46039f\"], [0.2222222222222222, \"#7201a8\"], [0.3333333333333333, \"#9c179e\"], [0.4444444444444444, \"#bd3786\"], [0.5555555555555556, \"#d8576b\"], [0.6666666666666666, \"#ed7953\"], [0.7777777777777778, \"#fb9f3a\"], [0.8888888888888888, \"#fdca26\"], [1.0, \"#f0f921\"]], \"type\": \"histogram2dcontour\"}], \"mesh3d\": [{\"colorbar\": {\"outlinewidth\": 0, \"ticks\": \"\"}, \"type\": \"mesh3d\"}], \"parcoords\": [{\"line\": {\"colorbar\": {\"outlinewidth\": 0, \"ticks\": \"\"}}, \"type\": \"parcoords\"}], \"pie\": [{\"automargin\": true, \"type\": \"pie\"}], \"scatter\": [{\"marker\": {\"colorbar\": {\"outlinewidth\": 0, \"ticks\": \"\"}}, \"type\": \"scatter\"}], \"scatter3d\": [{\"line\": {\"colorbar\": {\"outlinewidth\": 0, \"ticks\": \"\"}}, \"marker\": {\"colorbar\": {\"outlinewidth\": 0, \"ticks\": \"\"}}, \"type\": \"scatter3d\"}], \"scattercarpet\": [{\"marker\": {\"colorbar\": {\"outlinewidth\": 0, \"ticks\": \"\"}}, \"type\": \"scattercarpet\"}], \"scattergeo\": [{\"marker\": {\"colorbar\": {\"outlinewidth\": 0, \"ticks\": \"\"}}, \"type\": \"scattergeo\"}], \"scattergl\": [{\"marker\": {\"colorbar\": {\"outlinewidth\": 0, \"ticks\": \"\"}}, \"type\": \"scattergl\"}], \"scattermapbox\": [{\"marker\": {\"colorbar\": {\"outlinewidth\": 0, \"ticks\": \"\"}}, \"type\": \"scattermapbox\"}], \"scatterpolar\": [{\"marker\": {\"colorbar\": {\"outlinewidth\": 0, \"ticks\": \"\"}}, \"type\": \"scatterpolar\"}], \"scatterpolargl\": [{\"marker\": {\"colorbar\": {\"outlinewidth\": 0, \"ticks\": \"\"}}, \"type\": \"scatterpolargl\"}], \"scatterternary\": [{\"marker\": {\"colorbar\": {\"outlinewidth\": 0, \"ticks\": \"\"}}, \"type\": \"scatterternary\"}], \"surface\": [{\"colorbar\": {\"outlinewidth\": 0, \"ticks\": \"\"}, \"colorscale\": [[0.0, \"#0d0887\"], [0.1111111111111111, \"#46039f\"], [0.2222222222222222, \"#7201a8\"], [0.3333333333333333, \"#9c179e\"], [0.4444444444444444, \"#bd3786\"], [0.5555555555555556, \"#d8576b\"], [0.6666666666666666, \"#ed7953\"], [0.7777777777777778, \"#fb9f3a\"], [0.8888888888888888, \"#fdca26\"], [1.0, \"#f0f921\"]], \"type\": \"surface\"}], \"table\": [{\"cells\": {\"fill\": {\"color\": \"#EBF0F8\"}, \"line\": {\"color\": \"white\"}}, \"header\": {\"fill\": {\"color\": \"#C8D4E3\"}, \"line\": {\"color\": \"white\"}}, \"type\": \"table\"}]}, \"layout\": {\"annotationdefaults\": {\"arrowcolor\": \"#2a3f5f\", \"arrowhead\": 0, \"arrowwidth\": 1}, \"coloraxis\": {\"colorbar\": {\"outlinewidth\": 0, \"ticks\": \"\"}}, \"colorscale\": {\"diverging\": [[0, \"#8e0152\"], [0.1, \"#c51b7d\"], [0.2, \"#de77ae\"], [0.3, \"#f1b6da\"], [0.4, \"#fde0ef\"], [0.5, \"#f7f7f7\"], [0.6, \"#e6f5d0\"], [0.7, \"#b8e186\"], [0.8, \"#7fbc41\"], [0.9, \"#4d9221\"], [1, \"#276419\"]], \"sequential\": [[0.0, \"#0d0887\"], [0.1111111111111111, \"#46039f\"], [0.2222222222222222, \"#7201a8\"], [0.3333333333333333, \"#9c179e\"], [0.4444444444444444, \"#bd3786\"], [0.5555555555555556, \"#d8576b\"], [0.6666666666666666, \"#ed7953\"], [0.7777777777777778, \"#fb9f3a\"], [0.8888888888888888, \"#fdca26\"], [1.0, \"#f0f921\"]], \"sequentialminus\": [[0.0, \"#0d0887\"], [0.1111111111111111, \"#46039f\"], [0.2222222222222222, \"#7201a8\"], [0.3333333333333333, \"#9c179e\"], [0.4444444444444444, \"#bd3786\"], [0.5555555555555556, \"#d8576b\"], [0.6666666666666666, \"#ed7953\"], [0.7777777777777778, \"#fb9f3a\"], [0.8888888888888888, \"#fdca26\"], [1.0, \"#f0f921\"]]}, \"colorway\": [\"#636efa\", \"#EF553B\", \"#00cc96\", \"#ab63fa\", \"#FFA15A\", \"#19d3f3\", \"#FF6692\", \"#B6E880\", \"#FF97FF\", \"#FECB52\"], \"font\": {\"color\": \"#2a3f5f\"}, \"geo\": {\"bgcolor\": \"white\", \"lakecolor\": \"white\", \"landcolor\": \"#E5ECF6\", \"showlakes\": true, \"showland\": true, \"subunitcolor\": \"white\"}, \"hoverlabel\": {\"align\": \"left\"}, \"hovermode\": \"closest\", \"mapbox\": {\"style\": \"light\"}, \"paper_bgcolor\": \"white\", \"plot_bgcolor\": \"#E5ECF6\", \"polar\": {\"angularaxis\": {\"gridcolor\": \"white\", \"linecolor\": \"white\", \"ticks\": \"\"}, \"bgcolor\": \"#E5ECF6\", \"radialaxis\": {\"gridcolor\": \"white\", \"linecolor\": \"white\", \"ticks\": \"\"}}, \"scene\": {\"xaxis\": {\"backgroundcolor\": \"#E5ECF6\", \"gridcolor\": \"white\", \"gridwidth\": 2, \"linecolor\": \"white\", \"showbackground\": true, \"ticks\": \"\", \"zerolinecolor\": \"white\"}, \"yaxis\": {\"backgroundcolor\": \"#E5ECF6\", \"gridcolor\": \"white\", \"gridwidth\": 2, \"linecolor\": \"white\", \"showbackground\": true, \"ticks\": \"\", \"zerolinecolor\": \"white\"}, \"zaxis\": {\"backgroundcolor\": \"#E5ECF6\", \"gridcolor\": \"white\", \"gridwidth\": 2, \"linecolor\": \"white\", \"showbackground\": true, \"ticks\": \"\", \"zerolinecolor\": \"white\"}}, \"shapedefaults\": {\"line\": {\"color\": \"#2a3f5f\"}}, \"ternary\": {\"aaxis\": {\"gridcolor\": \"white\", \"linecolor\": \"white\", \"ticks\": \"\"}, \"baxis\": {\"gridcolor\": \"white\", \"linecolor\": \"white\", \"ticks\": \"\"}, \"bgcolor\": \"#E5ECF6\", \"caxis\": {\"gridcolor\": \"white\", \"linecolor\": \"white\", \"ticks\": \"\"}}, \"title\": {\"x\": 0.05}, \"xaxis\": {\"automargin\": true, \"gridcolor\": \"white\", \"linecolor\": \"white\", \"ticks\": \"\", \"title\": {\"standoff\": 15}, \"zerolinecolor\": \"white\", \"zerolinewidth\": 2}, \"yaxis\": {\"automargin\": true, \"gridcolor\": \"white\", \"linecolor\": \"white\", \"ticks\": \"\", \"title\": {\"standoff\": 15}, \"zerolinecolor\": \"white\", \"zerolinewidth\": 2}}}, \"title\": {\"font\": {\"color\": \"#4D5663\"}, \"text\": \"Prediction by Zipcode\"}, \"xaxis\": {\"gridcolor\": \"#E1E5ED\", \"showgrid\": true, \"tickfont\": {\"color\": \"#4D5663\"}, \"title\": {\"font\": {\"color\": \"#4D5663\"}, \"text\": \"Zipcode\"}, \"zerolinecolor\": \"#E1E5ED\"}, \"yaxis\": {\"gridcolor\": \"#E1E5ED\", \"showgrid\": true, \"tickfont\": {\"color\": \"#4D5663\"}, \"title\": {\"font\": {\"color\": \"#4D5663\"}, \"text\": \"Count\"}, \"zerolinecolor\": \"#E1E5ED\"}},\n",
       "                        {\"showLink\": true, \"linkText\": \"Export to plot.ly\", \"plotlyServerURL\": \"https://plot.ly\", \"responsive\": true}\n",
       "                    ).then(function(){\n",
       "                            \n",
       "var gd = document.getElementById('eb532ed4-50bc-41d5-b381-1decc15b87fa');\n",
       "var x = new MutationObserver(function (mutations, observer) {{\n",
       "        var display = window.getComputedStyle(gd).display;\n",
       "        if (!display || display === 'none') {{\n",
       "            console.log([gd, 'removed!']);\n",
       "            Plotly.purge(gd);\n",
       "            observer.disconnect();\n",
       "        }}\n",
       "}});\n",
       "\n",
       "// Listen for the removal of the full notebook cells\n",
       "var notebookContainer = gd.closest('#notebook-container');\n",
       "if (notebookContainer) {{\n",
       "    x.observe(notebookContainer, {childList: true});\n",
       "}}\n",
       "\n",
       "// Listen for the clearing of the current output cell\n",
       "var outputEl = gd.closest('.output');\n",
       "if (outputEl) {{\n",
       "    x.observe(outputEl, {childList: true});\n",
       "}}\n",
       "\n",
       "                        })\n",
       "                };\n",
       "                });\n",
       "            </script>\n",
       "        </div>"
      ]
     },
     "metadata": {},
     "output_type": "display_data"
    }
   ],
   "source": [
    "test_df.groupby('zip_code')['cnt','lr_pred','rf_pred','xgb_pred','lgbm_pred','zip_code'].sum().iplot(kind='scatter', title='Prediction by Zipcode', xTitle='Zipcode', yTitle='Count')"
   ]
  },
  {
   "cell_type": "markdown",
   "metadata": {},
   "source": [
    "<img src=\"https://github.com/jiyoungsim/BigQuery-NYC-Taxi-Demand--EDA-and-Prediction/blob/master/figs/pred_by_zip.png?raw=true\">"
   ]
  },
  {
   "cell_type": "code",
   "execution_count": 77,
   "metadata": {},
   "outputs": [
    {
     "data": {
      "application/vnd.plotly.v1+json": {
       "config": {
        "linkText": "Export to plot.ly",
        "plotlyServerURL": "https://plot.ly",
        "showLink": true
       },
       "data": [
        {
         "line": {
          "color": "rgba(255, 153, 51, 1.0)",
          "dash": "solid",
          "shape": "linear",
          "width": 1.3
         },
         "mode": "lines",
         "name": "cnt",
         "text": "",
         "type": "scatter",
         "x": [
          0,
          1,
          2,
          3,
          4,
          5,
          6,
          7,
          8,
          9,
          10,
          11,
          12,
          13,
          14,
          15,
          16,
          17,
          18,
          19,
          20,
          21,
          22,
          23
         ],
         "y": [
          118017,
          91196,
          67973,
          50021,
          34603,
          28638,
          59575,
          100996,
          124475,
          133348,
          132937,
          140685,
          148999,
          148907,
          148218,
          142954,
          130268,
          150824,
          180664,
          182949,
          165221,
          162466,
          160848,
          145501
         ]
        },
        {
         "line": {
          "color": "rgba(55, 128, 191, 1.0)",
          "dash": "solid",
          "shape": "linear",
          "width": 1.3
         },
         "mode": "lines",
         "name": "lr_pred",
         "text": "",
         "type": "scatter",
         "x": [
          0,
          1,
          2,
          3,
          4,
          5,
          6,
          7,
          8,
          9,
          10,
          11,
          12,
          13,
          14,
          15,
          16,
          17,
          18,
          19,
          20,
          21,
          22,
          23
         ],
         "y": [
          72416.70849324226,
          72786.31937468721,
          74049.38784209857,
          74444.37104859343,
          77415.65211077694,
          82766.83576674346,
          87819.53314273963,
          91536.19668769707,
          94983.16679368308,
          98327.50432282634,
          101492.84641468644,
          104854.88764035844,
          108342.18195153786,
          111956.85672941341,
          115728.36303949398,
          119584.79767720847,
          123535.86067773635,
          127669.33275469355,
          131941.604144897,
          136319.40963961466,
          140826.587271489,
          145471.70187535492,
          150048.1631849964,
          154253.98729153787
         ]
        },
        {
         "line": {
          "color": "rgba(50, 171, 96, 1.0)",
          "dash": "solid",
          "shape": "linear",
          "width": 1.3
         },
         "mode": "lines",
         "name": "rf_pred",
         "text": "",
         "type": "scatter",
         "x": [
          0,
          1,
          2,
          3,
          4,
          5,
          6,
          7,
          8,
          9,
          10,
          11,
          12,
          13,
          14,
          15,
          16,
          17,
          18,
          19,
          20,
          21,
          22,
          23
         ],
         "y": [
          133969.08499999996,
          102127.03500000005,
          78554.36499999998,
          57628.65000000001,
          39558.23499999998,
          31670.494999999977,
          65530.635000000024,
          114105.59000000004,
          147460.1050000001,
          154047.99500000002,
          153795.44999999978,
          161956.27000000014,
          170984.22999999992,
          170954.4349999999,
          177248.09499999988,
          172428.50000000003,
          153594.01499999978,
          175929.69999999998,
          212200.80500000005,
          213006.125,
          194973.75500000006,
          191790.06999999992,
          188825.23999999985,
          166395.5950000002
         ]
        },
        {
         "line": {
          "color": "rgba(128, 0, 128, 1.0)",
          "dash": "solid",
          "shape": "linear",
          "width": 1.3
         },
         "mode": "lines",
         "name": "xgb_pred",
         "text": "",
         "type": "scatter",
         "x": [
          0,
          1,
          2,
          3,
          4,
          5,
          6,
          7,
          8,
          9,
          10,
          11,
          12,
          13,
          14,
          15,
          16,
          17,
          18,
          19,
          20,
          21,
          22,
          23
         ],
         "y": [
          134202.40625,
          102220.828125,
          74161.1171875,
          55668.25,
          38739.26171875,
          35544.40234375,
          71100.6484375,
          124385.125,
          155564.75,
          160129.296875,
          156529.03125,
          159270.40625,
          166344.96875,
          167317.84375,
          171756.734375,
          169166.375,
          149103.375,
          175406.34375,
          215603.65625,
          217703.640625,
          203987.96875,
          198052.609375,
          191921.359375,
          166726.0625
         ]
        },
        {
         "line": {
          "color": "rgba(219, 64, 82, 1.0)",
          "dash": "solid",
          "shape": "linear",
          "width": 1.3
         },
         "mode": "lines",
         "name": "lgbm_pred",
         "text": "",
         "type": "scatter",
         "x": [
          0,
          1,
          2,
          3,
          4,
          5,
          6,
          7,
          8,
          9,
          10,
          11,
          12,
          13,
          14,
          15,
          16,
          17,
          18,
          19,
          20,
          21,
          22,
          23
         ],
         "y": [
          132093.19071225022,
          100516.06315976745,
          74989.81629944571,
          53915.6464872603,
          38540.41073576561,
          31736.29084527316,
          70498.007586725,
          123977.6494393311,
          150632.67186493642,
          157628.11731182202,
          154128.96433469752,
          159897.97816087588,
          168289.3550786162,
          169572.5554177381,
          173043.64976801342,
          172728.89659848568,
          157222.9230900706,
          177694.31457288034,
          215342.21668855232,
          217655.05415357903,
          203202.34242144026,
          198018.24696568536,
          190568.21071663604,
          166474.53118686064
         ]
        }
       ],
       "layout": {
        "legend": {
         "bgcolor": "#F5F6F9",
         "font": {
          "color": "#4D5663"
         }
        },
        "paper_bgcolor": "#F5F6F9",
        "plot_bgcolor": "#F5F6F9",
        "template": {
         "data": {
          "bar": [
           {
            "error_x": {
             "color": "#2a3f5f"
            },
            "error_y": {
             "color": "#2a3f5f"
            },
            "marker": {
             "line": {
              "color": "#E5ECF6",
              "width": 0.5
             }
            },
            "type": "bar"
           }
          ],
          "barpolar": [
           {
            "marker": {
             "line": {
              "color": "#E5ECF6",
              "width": 0.5
             }
            },
            "type": "barpolar"
           }
          ],
          "carpet": [
           {
            "aaxis": {
             "endlinecolor": "#2a3f5f",
             "gridcolor": "white",
             "linecolor": "white",
             "minorgridcolor": "white",
             "startlinecolor": "#2a3f5f"
            },
            "baxis": {
             "endlinecolor": "#2a3f5f",
             "gridcolor": "white",
             "linecolor": "white",
             "minorgridcolor": "white",
             "startlinecolor": "#2a3f5f"
            },
            "type": "carpet"
           }
          ],
          "choropleth": [
           {
            "colorbar": {
             "outlinewidth": 0,
             "ticks": ""
            },
            "type": "choropleth"
           }
          ],
          "contour": [
           {
            "colorbar": {
             "outlinewidth": 0,
             "ticks": ""
            },
            "colorscale": [
             [
              0,
              "#0d0887"
             ],
             [
              0.1111111111111111,
              "#46039f"
             ],
             [
              0.2222222222222222,
              "#7201a8"
             ],
             [
              0.3333333333333333,
              "#9c179e"
             ],
             [
              0.4444444444444444,
              "#bd3786"
             ],
             [
              0.5555555555555556,
              "#d8576b"
             ],
             [
              0.6666666666666666,
              "#ed7953"
             ],
             [
              0.7777777777777778,
              "#fb9f3a"
             ],
             [
              0.8888888888888888,
              "#fdca26"
             ],
             [
              1,
              "#f0f921"
             ]
            ],
            "type": "contour"
           }
          ],
          "contourcarpet": [
           {
            "colorbar": {
             "outlinewidth": 0,
             "ticks": ""
            },
            "type": "contourcarpet"
           }
          ],
          "heatmap": [
           {
            "colorbar": {
             "outlinewidth": 0,
             "ticks": ""
            },
            "colorscale": [
             [
              0,
              "#0d0887"
             ],
             [
              0.1111111111111111,
              "#46039f"
             ],
             [
              0.2222222222222222,
              "#7201a8"
             ],
             [
              0.3333333333333333,
              "#9c179e"
             ],
             [
              0.4444444444444444,
              "#bd3786"
             ],
             [
              0.5555555555555556,
              "#d8576b"
             ],
             [
              0.6666666666666666,
              "#ed7953"
             ],
             [
              0.7777777777777778,
              "#fb9f3a"
             ],
             [
              0.8888888888888888,
              "#fdca26"
             ],
             [
              1,
              "#f0f921"
             ]
            ],
            "type": "heatmap"
           }
          ],
          "heatmapgl": [
           {
            "colorbar": {
             "outlinewidth": 0,
             "ticks": ""
            },
            "colorscale": [
             [
              0,
              "#0d0887"
             ],
             [
              0.1111111111111111,
              "#46039f"
             ],
             [
              0.2222222222222222,
              "#7201a8"
             ],
             [
              0.3333333333333333,
              "#9c179e"
             ],
             [
              0.4444444444444444,
              "#bd3786"
             ],
             [
              0.5555555555555556,
              "#d8576b"
             ],
             [
              0.6666666666666666,
              "#ed7953"
             ],
             [
              0.7777777777777778,
              "#fb9f3a"
             ],
             [
              0.8888888888888888,
              "#fdca26"
             ],
             [
              1,
              "#f0f921"
             ]
            ],
            "type": "heatmapgl"
           }
          ],
          "histogram": [
           {
            "marker": {
             "colorbar": {
              "outlinewidth": 0,
              "ticks": ""
             }
            },
            "type": "histogram"
           }
          ],
          "histogram2d": [
           {
            "colorbar": {
             "outlinewidth": 0,
             "ticks": ""
            },
            "colorscale": [
             [
              0,
              "#0d0887"
             ],
             [
              0.1111111111111111,
              "#46039f"
             ],
             [
              0.2222222222222222,
              "#7201a8"
             ],
             [
              0.3333333333333333,
              "#9c179e"
             ],
             [
              0.4444444444444444,
              "#bd3786"
             ],
             [
              0.5555555555555556,
              "#d8576b"
             ],
             [
              0.6666666666666666,
              "#ed7953"
             ],
             [
              0.7777777777777778,
              "#fb9f3a"
             ],
             [
              0.8888888888888888,
              "#fdca26"
             ],
             [
              1,
              "#f0f921"
             ]
            ],
            "type": "histogram2d"
           }
          ],
          "histogram2dcontour": [
           {
            "colorbar": {
             "outlinewidth": 0,
             "ticks": ""
            },
            "colorscale": [
             [
              0,
              "#0d0887"
             ],
             [
              0.1111111111111111,
              "#46039f"
             ],
             [
              0.2222222222222222,
              "#7201a8"
             ],
             [
              0.3333333333333333,
              "#9c179e"
             ],
             [
              0.4444444444444444,
              "#bd3786"
             ],
             [
              0.5555555555555556,
              "#d8576b"
             ],
             [
              0.6666666666666666,
              "#ed7953"
             ],
             [
              0.7777777777777778,
              "#fb9f3a"
             ],
             [
              0.8888888888888888,
              "#fdca26"
             ],
             [
              1,
              "#f0f921"
             ]
            ],
            "type": "histogram2dcontour"
           }
          ],
          "mesh3d": [
           {
            "colorbar": {
             "outlinewidth": 0,
             "ticks": ""
            },
            "type": "mesh3d"
           }
          ],
          "parcoords": [
           {
            "line": {
             "colorbar": {
              "outlinewidth": 0,
              "ticks": ""
             }
            },
            "type": "parcoords"
           }
          ],
          "pie": [
           {
            "automargin": true,
            "type": "pie"
           }
          ],
          "scatter": [
           {
            "marker": {
             "colorbar": {
              "outlinewidth": 0,
              "ticks": ""
             }
            },
            "type": "scatter"
           }
          ],
          "scatter3d": [
           {
            "line": {
             "colorbar": {
              "outlinewidth": 0,
              "ticks": ""
             }
            },
            "marker": {
             "colorbar": {
              "outlinewidth": 0,
              "ticks": ""
             }
            },
            "type": "scatter3d"
           }
          ],
          "scattercarpet": [
           {
            "marker": {
             "colorbar": {
              "outlinewidth": 0,
              "ticks": ""
             }
            },
            "type": "scattercarpet"
           }
          ],
          "scattergeo": [
           {
            "marker": {
             "colorbar": {
              "outlinewidth": 0,
              "ticks": ""
             }
            },
            "type": "scattergeo"
           }
          ],
          "scattergl": [
           {
            "marker": {
             "colorbar": {
              "outlinewidth": 0,
              "ticks": ""
             }
            },
            "type": "scattergl"
           }
          ],
          "scattermapbox": [
           {
            "marker": {
             "colorbar": {
              "outlinewidth": 0,
              "ticks": ""
             }
            },
            "type": "scattermapbox"
           }
          ],
          "scatterpolar": [
           {
            "marker": {
             "colorbar": {
              "outlinewidth": 0,
              "ticks": ""
             }
            },
            "type": "scatterpolar"
           }
          ],
          "scatterpolargl": [
           {
            "marker": {
             "colorbar": {
              "outlinewidth": 0,
              "ticks": ""
             }
            },
            "type": "scatterpolargl"
           }
          ],
          "scatterternary": [
           {
            "marker": {
             "colorbar": {
              "outlinewidth": 0,
              "ticks": ""
             }
            },
            "type": "scatterternary"
           }
          ],
          "surface": [
           {
            "colorbar": {
             "outlinewidth": 0,
             "ticks": ""
            },
            "colorscale": [
             [
              0,
              "#0d0887"
             ],
             [
              0.1111111111111111,
              "#46039f"
             ],
             [
              0.2222222222222222,
              "#7201a8"
             ],
             [
              0.3333333333333333,
              "#9c179e"
             ],
             [
              0.4444444444444444,
              "#bd3786"
             ],
             [
              0.5555555555555556,
              "#d8576b"
             ],
             [
              0.6666666666666666,
              "#ed7953"
             ],
             [
              0.7777777777777778,
              "#fb9f3a"
             ],
             [
              0.8888888888888888,
              "#fdca26"
             ],
             [
              1,
              "#f0f921"
             ]
            ],
            "type": "surface"
           }
          ],
          "table": [
           {
            "cells": {
             "fill": {
              "color": "#EBF0F8"
             },
             "line": {
              "color": "white"
             }
            },
            "header": {
             "fill": {
              "color": "#C8D4E3"
             },
             "line": {
              "color": "white"
             }
            },
            "type": "table"
           }
          ]
         },
         "layout": {
          "annotationdefaults": {
           "arrowcolor": "#2a3f5f",
           "arrowhead": 0,
           "arrowwidth": 1
          },
          "coloraxis": {
           "colorbar": {
            "outlinewidth": 0,
            "ticks": ""
           }
          },
          "colorscale": {
           "diverging": [
            [
             0,
             "#8e0152"
            ],
            [
             0.1,
             "#c51b7d"
            ],
            [
             0.2,
             "#de77ae"
            ],
            [
             0.3,
             "#f1b6da"
            ],
            [
             0.4,
             "#fde0ef"
            ],
            [
             0.5,
             "#f7f7f7"
            ],
            [
             0.6,
             "#e6f5d0"
            ],
            [
             0.7,
             "#b8e186"
            ],
            [
             0.8,
             "#7fbc41"
            ],
            [
             0.9,
             "#4d9221"
            ],
            [
             1,
             "#276419"
            ]
           ],
           "sequential": [
            [
             0,
             "#0d0887"
            ],
            [
             0.1111111111111111,
             "#46039f"
            ],
            [
             0.2222222222222222,
             "#7201a8"
            ],
            [
             0.3333333333333333,
             "#9c179e"
            ],
            [
             0.4444444444444444,
             "#bd3786"
            ],
            [
             0.5555555555555556,
             "#d8576b"
            ],
            [
             0.6666666666666666,
             "#ed7953"
            ],
            [
             0.7777777777777778,
             "#fb9f3a"
            ],
            [
             0.8888888888888888,
             "#fdca26"
            ],
            [
             1,
             "#f0f921"
            ]
           ],
           "sequentialminus": [
            [
             0,
             "#0d0887"
            ],
            [
             0.1111111111111111,
             "#46039f"
            ],
            [
             0.2222222222222222,
             "#7201a8"
            ],
            [
             0.3333333333333333,
             "#9c179e"
            ],
            [
             0.4444444444444444,
             "#bd3786"
            ],
            [
             0.5555555555555556,
             "#d8576b"
            ],
            [
             0.6666666666666666,
             "#ed7953"
            ],
            [
             0.7777777777777778,
             "#fb9f3a"
            ],
            [
             0.8888888888888888,
             "#fdca26"
            ],
            [
             1,
             "#f0f921"
            ]
           ]
          },
          "colorway": [
           "#636efa",
           "#EF553B",
           "#00cc96",
           "#ab63fa",
           "#FFA15A",
           "#19d3f3",
           "#FF6692",
           "#B6E880",
           "#FF97FF",
           "#FECB52"
          ],
          "font": {
           "color": "#2a3f5f"
          },
          "geo": {
           "bgcolor": "white",
           "lakecolor": "white",
           "landcolor": "#E5ECF6",
           "showlakes": true,
           "showland": true,
           "subunitcolor": "white"
          },
          "hoverlabel": {
           "align": "left"
          },
          "hovermode": "closest",
          "mapbox": {
           "style": "light"
          },
          "paper_bgcolor": "white",
          "plot_bgcolor": "#E5ECF6",
          "polar": {
           "angularaxis": {
            "gridcolor": "white",
            "linecolor": "white",
            "ticks": ""
           },
           "bgcolor": "#E5ECF6",
           "radialaxis": {
            "gridcolor": "white",
            "linecolor": "white",
            "ticks": ""
           }
          },
          "scene": {
           "xaxis": {
            "backgroundcolor": "#E5ECF6",
            "gridcolor": "white",
            "gridwidth": 2,
            "linecolor": "white",
            "showbackground": true,
            "ticks": "",
            "zerolinecolor": "white"
           },
           "yaxis": {
            "backgroundcolor": "#E5ECF6",
            "gridcolor": "white",
            "gridwidth": 2,
            "linecolor": "white",
            "showbackground": true,
            "ticks": "",
            "zerolinecolor": "white"
           },
           "zaxis": {
            "backgroundcolor": "#E5ECF6",
            "gridcolor": "white",
            "gridwidth": 2,
            "linecolor": "white",
            "showbackground": true,
            "ticks": "",
            "zerolinecolor": "white"
           }
          },
          "shapedefaults": {
           "line": {
            "color": "#2a3f5f"
           }
          },
          "ternary": {
           "aaxis": {
            "gridcolor": "white",
            "linecolor": "white",
            "ticks": ""
           },
           "baxis": {
            "gridcolor": "white",
            "linecolor": "white",
            "ticks": ""
           },
           "bgcolor": "#E5ECF6",
           "caxis": {
            "gridcolor": "white",
            "linecolor": "white",
            "ticks": ""
           }
          },
          "title": {
           "x": 0.05
          },
          "xaxis": {
           "automargin": true,
           "gridcolor": "white",
           "linecolor": "white",
           "ticks": "",
           "title": {
            "standoff": 15
           },
           "zerolinecolor": "white",
           "zerolinewidth": 2
          },
          "yaxis": {
           "automargin": true,
           "gridcolor": "white",
           "linecolor": "white",
           "ticks": "",
           "title": {
            "standoff": 15
           },
           "zerolinecolor": "white",
           "zerolinewidth": 2
          }
         }
        },
        "title": {
         "font": {
          "color": "#4D5663"
         },
         "text": "Prediction by Hour"
        },
        "xaxis": {
         "gridcolor": "#E1E5ED",
         "showgrid": true,
         "tickfont": {
          "color": "#4D5663"
         },
         "title": {
          "font": {
           "color": "#4D5663"
          },
          "text": "Hour"
         },
         "zerolinecolor": "#E1E5ED"
        },
        "yaxis": {
         "gridcolor": "#E1E5ED",
         "showgrid": true,
         "tickfont": {
          "color": "#4D5663"
         },
         "title": {
          "font": {
           "color": "#4D5663"
          },
          "text": "Count"
         },
         "zerolinecolor": "#E1E5ED"
        }
       }
      },
      "text/html": [
       "<div>\n",
       "        \n",
       "        \n",
       "            <div id=\"c1303a80-0d07-4f72-a5af-486420d448e1\" class=\"plotly-graph-div\" style=\"height:525px; width:100%;\"></div>\n",
       "            <script type=\"text/javascript\">\n",
       "                require([\"plotly\"], function(Plotly) {\n",
       "                    window.PLOTLYENV=window.PLOTLYENV || {};\n",
       "                    window.PLOTLYENV.BASE_URL='https://plot.ly';\n",
       "                    \n",
       "                if (document.getElementById(\"c1303a80-0d07-4f72-a5af-486420d448e1\")) {\n",
       "                    Plotly.newPlot(\n",
       "                        'c1303a80-0d07-4f72-a5af-486420d448e1',\n",
       "                        [{\"line\": {\"color\": \"rgba(255, 153, 51, 1.0)\", \"dash\": \"solid\", \"shape\": \"linear\", \"width\": 1.3}, \"mode\": \"lines\", \"name\": \"cnt\", \"text\": \"\", \"type\": \"scatter\", \"x\": [0, 1, 2, 3, 4, 5, 6, 7, 8, 9, 10, 11, 12, 13, 14, 15, 16, 17, 18, 19, 20, 21, 22, 23], \"y\": [118017, 91196, 67973, 50021, 34603, 28638, 59575, 100996, 124475, 133348, 132937, 140685, 148999, 148907, 148218, 142954, 130268, 150824, 180664, 182949, 165221, 162466, 160848, 145501]}, {\"line\": {\"color\": \"rgba(55, 128, 191, 1.0)\", \"dash\": \"solid\", \"shape\": \"linear\", \"width\": 1.3}, \"mode\": \"lines\", \"name\": \"lr_pred\", \"text\": \"\", \"type\": \"scatter\", \"x\": [0, 1, 2, 3, 4, 5, 6, 7, 8, 9, 10, 11, 12, 13, 14, 15, 16, 17, 18, 19, 20, 21, 22, 23], \"y\": [72416.70849324226, 72786.31937468721, 74049.38784209857, 74444.37104859343, 77415.65211077694, 82766.83576674346, 87819.53314273963, 91536.19668769707, 94983.16679368308, 98327.50432282634, 101492.84641468644, 104854.88764035844, 108342.18195153786, 111956.85672941341, 115728.36303949398, 119584.79767720847, 123535.86067773635, 127669.33275469355, 131941.604144897, 136319.40963961466, 140826.587271489, 145471.70187535492, 150048.1631849964, 154253.98729153787]}, {\"line\": {\"color\": \"rgba(50, 171, 96, 1.0)\", \"dash\": \"solid\", \"shape\": \"linear\", \"width\": 1.3}, \"mode\": \"lines\", \"name\": \"rf_pred\", \"text\": \"\", \"type\": \"scatter\", \"x\": [0, 1, 2, 3, 4, 5, 6, 7, 8, 9, 10, 11, 12, 13, 14, 15, 16, 17, 18, 19, 20, 21, 22, 23], \"y\": [133969.08499999996, 102127.03500000005, 78554.36499999998, 57628.65000000001, 39558.23499999998, 31670.494999999977, 65530.635000000024, 114105.59000000004, 147460.1050000001, 154047.99500000002, 153795.44999999978, 161956.27000000014, 170984.22999999992, 170954.4349999999, 177248.09499999988, 172428.50000000003, 153594.01499999978, 175929.69999999998, 212200.80500000005, 213006.125, 194973.75500000006, 191790.06999999992, 188825.23999999985, 166395.5950000002]}, {\"line\": {\"color\": \"rgba(128, 0, 128, 1.0)\", \"dash\": \"solid\", \"shape\": \"linear\", \"width\": 1.3}, \"mode\": \"lines\", \"name\": \"xgb_pred\", \"text\": \"\", \"type\": \"scatter\", \"x\": [0, 1, 2, 3, 4, 5, 6, 7, 8, 9, 10, 11, 12, 13, 14, 15, 16, 17, 18, 19, 20, 21, 22, 23], \"y\": [134202.40625, 102220.828125, 74161.1171875, 55668.25, 38739.26171875, 35544.40234375, 71100.6484375, 124385.125, 155564.75, 160129.296875, 156529.03125, 159270.40625, 166344.96875, 167317.84375, 171756.734375, 169166.375, 149103.375, 175406.34375, 215603.65625, 217703.640625, 203987.96875, 198052.609375, 191921.359375, 166726.0625]}, {\"line\": {\"color\": \"rgba(219, 64, 82, 1.0)\", \"dash\": \"solid\", \"shape\": \"linear\", \"width\": 1.3}, \"mode\": \"lines\", \"name\": \"lgbm_pred\", \"text\": \"\", \"type\": \"scatter\", \"x\": [0, 1, 2, 3, 4, 5, 6, 7, 8, 9, 10, 11, 12, 13, 14, 15, 16, 17, 18, 19, 20, 21, 22, 23], \"y\": [132093.19071225022, 100516.06315976745, 74989.81629944571, 53915.6464872603, 38540.41073576561, 31736.29084527316, 70498.007586725, 123977.6494393311, 150632.67186493642, 157628.11731182202, 154128.96433469752, 159897.97816087588, 168289.3550786162, 169572.5554177381, 173043.64976801342, 172728.89659848568, 157222.9230900706, 177694.31457288034, 215342.21668855232, 217655.05415357903, 203202.34242144026, 198018.24696568536, 190568.21071663604, 166474.53118686064]}],\n",
       "                        {\"legend\": {\"bgcolor\": \"#F5F6F9\", \"font\": {\"color\": \"#4D5663\"}}, \"paper_bgcolor\": \"#F5F6F9\", \"plot_bgcolor\": \"#F5F6F9\", \"template\": {\"data\": {\"bar\": [{\"error_x\": {\"color\": \"#2a3f5f\"}, \"error_y\": {\"color\": \"#2a3f5f\"}, \"marker\": {\"line\": {\"color\": \"#E5ECF6\", \"width\": 0.5}}, \"type\": \"bar\"}], \"barpolar\": [{\"marker\": {\"line\": {\"color\": \"#E5ECF6\", \"width\": 0.5}}, \"type\": \"barpolar\"}], \"carpet\": [{\"aaxis\": {\"endlinecolor\": \"#2a3f5f\", \"gridcolor\": \"white\", \"linecolor\": \"white\", \"minorgridcolor\": \"white\", \"startlinecolor\": \"#2a3f5f\"}, \"baxis\": {\"endlinecolor\": \"#2a3f5f\", \"gridcolor\": \"white\", \"linecolor\": \"white\", \"minorgridcolor\": \"white\", \"startlinecolor\": \"#2a3f5f\"}, \"type\": \"carpet\"}], \"choropleth\": [{\"colorbar\": {\"outlinewidth\": 0, \"ticks\": \"\"}, \"type\": \"choropleth\"}], \"contour\": [{\"colorbar\": {\"outlinewidth\": 0, \"ticks\": \"\"}, \"colorscale\": [[0.0, \"#0d0887\"], [0.1111111111111111, \"#46039f\"], [0.2222222222222222, \"#7201a8\"], [0.3333333333333333, \"#9c179e\"], [0.4444444444444444, \"#bd3786\"], [0.5555555555555556, \"#d8576b\"], [0.6666666666666666, \"#ed7953\"], [0.7777777777777778, \"#fb9f3a\"], [0.8888888888888888, \"#fdca26\"], [1.0, \"#f0f921\"]], \"type\": \"contour\"}], \"contourcarpet\": [{\"colorbar\": {\"outlinewidth\": 0, \"ticks\": \"\"}, \"type\": \"contourcarpet\"}], \"heatmap\": [{\"colorbar\": {\"outlinewidth\": 0, \"ticks\": \"\"}, \"colorscale\": [[0.0, \"#0d0887\"], [0.1111111111111111, \"#46039f\"], [0.2222222222222222, \"#7201a8\"], [0.3333333333333333, \"#9c179e\"], [0.4444444444444444, \"#bd3786\"], [0.5555555555555556, \"#d8576b\"], [0.6666666666666666, \"#ed7953\"], [0.7777777777777778, \"#fb9f3a\"], [0.8888888888888888, \"#fdca26\"], [1.0, \"#f0f921\"]], \"type\": \"heatmap\"}], \"heatmapgl\": [{\"colorbar\": {\"outlinewidth\": 0, \"ticks\": \"\"}, \"colorscale\": [[0.0, \"#0d0887\"], [0.1111111111111111, \"#46039f\"], [0.2222222222222222, \"#7201a8\"], [0.3333333333333333, \"#9c179e\"], [0.4444444444444444, \"#bd3786\"], [0.5555555555555556, \"#d8576b\"], [0.6666666666666666, \"#ed7953\"], [0.7777777777777778, \"#fb9f3a\"], [0.8888888888888888, \"#fdca26\"], [1.0, \"#f0f921\"]], \"type\": \"heatmapgl\"}], \"histogram\": [{\"marker\": {\"colorbar\": {\"outlinewidth\": 0, \"ticks\": \"\"}}, \"type\": \"histogram\"}], \"histogram2d\": [{\"colorbar\": {\"outlinewidth\": 0, \"ticks\": \"\"}, \"colorscale\": [[0.0, \"#0d0887\"], [0.1111111111111111, \"#46039f\"], [0.2222222222222222, \"#7201a8\"], [0.3333333333333333, \"#9c179e\"], [0.4444444444444444, \"#bd3786\"], [0.5555555555555556, \"#d8576b\"], [0.6666666666666666, \"#ed7953\"], [0.7777777777777778, \"#fb9f3a\"], [0.8888888888888888, \"#fdca26\"], [1.0, \"#f0f921\"]], \"type\": \"histogram2d\"}], \"histogram2dcontour\": [{\"colorbar\": {\"outlinewidth\": 0, \"ticks\": \"\"}, \"colorscale\": [[0.0, \"#0d0887\"], [0.1111111111111111, \"#46039f\"], [0.2222222222222222, \"#7201a8\"], [0.3333333333333333, \"#9c179e\"], [0.4444444444444444, \"#bd3786\"], [0.5555555555555556, \"#d8576b\"], [0.6666666666666666, \"#ed7953\"], [0.7777777777777778, \"#fb9f3a\"], [0.8888888888888888, \"#fdca26\"], [1.0, \"#f0f921\"]], \"type\": \"histogram2dcontour\"}], \"mesh3d\": [{\"colorbar\": {\"outlinewidth\": 0, \"ticks\": \"\"}, \"type\": \"mesh3d\"}], \"parcoords\": [{\"line\": {\"colorbar\": {\"outlinewidth\": 0, \"ticks\": \"\"}}, \"type\": \"parcoords\"}], \"pie\": [{\"automargin\": true, \"type\": \"pie\"}], \"scatter\": [{\"marker\": {\"colorbar\": {\"outlinewidth\": 0, \"ticks\": \"\"}}, \"type\": \"scatter\"}], \"scatter3d\": [{\"line\": {\"colorbar\": {\"outlinewidth\": 0, \"ticks\": \"\"}}, \"marker\": {\"colorbar\": {\"outlinewidth\": 0, \"ticks\": \"\"}}, \"type\": \"scatter3d\"}], \"scattercarpet\": [{\"marker\": {\"colorbar\": {\"outlinewidth\": 0, \"ticks\": \"\"}}, \"type\": \"scattercarpet\"}], \"scattergeo\": [{\"marker\": {\"colorbar\": {\"outlinewidth\": 0, \"ticks\": \"\"}}, \"type\": \"scattergeo\"}], \"scattergl\": [{\"marker\": {\"colorbar\": {\"outlinewidth\": 0, \"ticks\": \"\"}}, \"type\": \"scattergl\"}], \"scattermapbox\": [{\"marker\": {\"colorbar\": {\"outlinewidth\": 0, \"ticks\": \"\"}}, \"type\": \"scattermapbox\"}], \"scatterpolar\": [{\"marker\": {\"colorbar\": {\"outlinewidth\": 0, \"ticks\": \"\"}}, \"type\": \"scatterpolar\"}], \"scatterpolargl\": [{\"marker\": {\"colorbar\": {\"outlinewidth\": 0, \"ticks\": \"\"}}, \"type\": \"scatterpolargl\"}], \"scatterternary\": [{\"marker\": {\"colorbar\": {\"outlinewidth\": 0, \"ticks\": \"\"}}, \"type\": \"scatterternary\"}], \"surface\": [{\"colorbar\": {\"outlinewidth\": 0, \"ticks\": \"\"}, \"colorscale\": [[0.0, \"#0d0887\"], [0.1111111111111111, \"#46039f\"], [0.2222222222222222, \"#7201a8\"], [0.3333333333333333, \"#9c179e\"], [0.4444444444444444, \"#bd3786\"], [0.5555555555555556, \"#d8576b\"], [0.6666666666666666, \"#ed7953\"], [0.7777777777777778, \"#fb9f3a\"], [0.8888888888888888, \"#fdca26\"], [1.0, \"#f0f921\"]], \"type\": \"surface\"}], \"table\": [{\"cells\": {\"fill\": {\"color\": \"#EBF0F8\"}, \"line\": {\"color\": \"white\"}}, \"header\": {\"fill\": {\"color\": \"#C8D4E3\"}, \"line\": {\"color\": \"white\"}}, \"type\": \"table\"}]}, \"layout\": {\"annotationdefaults\": {\"arrowcolor\": \"#2a3f5f\", \"arrowhead\": 0, \"arrowwidth\": 1}, \"coloraxis\": {\"colorbar\": {\"outlinewidth\": 0, \"ticks\": \"\"}}, \"colorscale\": {\"diverging\": [[0, \"#8e0152\"], [0.1, \"#c51b7d\"], [0.2, \"#de77ae\"], [0.3, \"#f1b6da\"], [0.4, \"#fde0ef\"], [0.5, \"#f7f7f7\"], [0.6, \"#e6f5d0\"], [0.7, \"#b8e186\"], [0.8, \"#7fbc41\"], [0.9, \"#4d9221\"], [1, \"#276419\"]], \"sequential\": [[0.0, \"#0d0887\"], [0.1111111111111111, \"#46039f\"], [0.2222222222222222, \"#7201a8\"], [0.3333333333333333, \"#9c179e\"], [0.4444444444444444, \"#bd3786\"], [0.5555555555555556, \"#d8576b\"], [0.6666666666666666, \"#ed7953\"], [0.7777777777777778, \"#fb9f3a\"], [0.8888888888888888, \"#fdca26\"], [1.0, \"#f0f921\"]], \"sequentialminus\": [[0.0, \"#0d0887\"], [0.1111111111111111, \"#46039f\"], [0.2222222222222222, \"#7201a8\"], [0.3333333333333333, \"#9c179e\"], [0.4444444444444444, \"#bd3786\"], [0.5555555555555556, \"#d8576b\"], [0.6666666666666666, \"#ed7953\"], [0.7777777777777778, \"#fb9f3a\"], [0.8888888888888888, \"#fdca26\"], [1.0, \"#f0f921\"]]}, \"colorway\": [\"#636efa\", \"#EF553B\", \"#00cc96\", \"#ab63fa\", \"#FFA15A\", \"#19d3f3\", \"#FF6692\", \"#B6E880\", \"#FF97FF\", \"#FECB52\"], \"font\": {\"color\": \"#2a3f5f\"}, \"geo\": {\"bgcolor\": \"white\", \"lakecolor\": \"white\", \"landcolor\": \"#E5ECF6\", \"showlakes\": true, \"showland\": true, \"subunitcolor\": \"white\"}, \"hoverlabel\": {\"align\": \"left\"}, \"hovermode\": \"closest\", \"mapbox\": {\"style\": \"light\"}, \"paper_bgcolor\": \"white\", \"plot_bgcolor\": \"#E5ECF6\", \"polar\": {\"angularaxis\": {\"gridcolor\": \"white\", \"linecolor\": \"white\", \"ticks\": \"\"}, \"bgcolor\": \"#E5ECF6\", \"radialaxis\": {\"gridcolor\": \"white\", \"linecolor\": \"white\", \"ticks\": \"\"}}, \"scene\": {\"xaxis\": {\"backgroundcolor\": \"#E5ECF6\", \"gridcolor\": \"white\", \"gridwidth\": 2, \"linecolor\": \"white\", \"showbackground\": true, \"ticks\": \"\", \"zerolinecolor\": \"white\"}, \"yaxis\": {\"backgroundcolor\": \"#E5ECF6\", \"gridcolor\": \"white\", \"gridwidth\": 2, \"linecolor\": \"white\", \"showbackground\": true, \"ticks\": \"\", \"zerolinecolor\": \"white\"}, \"zaxis\": {\"backgroundcolor\": \"#E5ECF6\", \"gridcolor\": \"white\", \"gridwidth\": 2, \"linecolor\": \"white\", \"showbackground\": true, \"ticks\": \"\", \"zerolinecolor\": \"white\"}}, \"shapedefaults\": {\"line\": {\"color\": \"#2a3f5f\"}}, \"ternary\": {\"aaxis\": {\"gridcolor\": \"white\", \"linecolor\": \"white\", \"ticks\": \"\"}, \"baxis\": {\"gridcolor\": \"white\", \"linecolor\": \"white\", \"ticks\": \"\"}, \"bgcolor\": \"#E5ECF6\", \"caxis\": {\"gridcolor\": \"white\", \"linecolor\": \"white\", \"ticks\": \"\"}}, \"title\": {\"x\": 0.05}, \"xaxis\": {\"automargin\": true, \"gridcolor\": \"white\", \"linecolor\": \"white\", \"ticks\": \"\", \"title\": {\"standoff\": 15}, \"zerolinecolor\": \"white\", \"zerolinewidth\": 2}, \"yaxis\": {\"automargin\": true, \"gridcolor\": \"white\", \"linecolor\": \"white\", \"ticks\": \"\", \"title\": {\"standoff\": 15}, \"zerolinecolor\": \"white\", \"zerolinewidth\": 2}}}, \"title\": {\"font\": {\"color\": \"#4D5663\"}, \"text\": \"Prediction by Hour\"}, \"xaxis\": {\"gridcolor\": \"#E1E5ED\", \"showgrid\": true, \"tickfont\": {\"color\": \"#4D5663\"}, \"title\": {\"font\": {\"color\": \"#4D5663\"}, \"text\": \"Hour\"}, \"zerolinecolor\": \"#E1E5ED\"}, \"yaxis\": {\"gridcolor\": \"#E1E5ED\", \"showgrid\": true, \"tickfont\": {\"color\": \"#4D5663\"}, \"title\": {\"font\": {\"color\": \"#4D5663\"}, \"text\": \"Count\"}, \"zerolinecolor\": \"#E1E5ED\"}},\n",
       "                        {\"showLink\": true, \"linkText\": \"Export to plot.ly\", \"plotlyServerURL\": \"https://plot.ly\", \"responsive\": true}\n",
       "                    ).then(function(){\n",
       "                            \n",
       "var gd = document.getElementById('c1303a80-0d07-4f72-a5af-486420d448e1');\n",
       "var x = new MutationObserver(function (mutations, observer) {{\n",
       "        var display = window.getComputedStyle(gd).display;\n",
       "        if (!display || display === 'none') {{\n",
       "            console.log([gd, 'removed!']);\n",
       "            Plotly.purge(gd);\n",
       "            observer.disconnect();\n",
       "        }}\n",
       "}});\n",
       "\n",
       "// Listen for the removal of the full notebook cells\n",
       "var notebookContainer = gd.closest('#notebook-container');\n",
       "if (notebookContainer) {{\n",
       "    x.observe(notebookContainer, {childList: true});\n",
       "}}\n",
       "\n",
       "// Listen for the clearing of the current output cell\n",
       "var outputEl = gd.closest('.output');\n",
       "if (outputEl) {{\n",
       "    x.observe(outputEl, {childList: true});\n",
       "}}\n",
       "\n",
       "                        })\n",
       "                };\n",
       "                });\n",
       "            </script>\n",
       "        </div>"
      ]
     },
     "metadata": {},
     "output_type": "display_data"
    }
   ],
   "source": [
    "test_df.groupby('hour')['cnt','lr_pred','rf_pred','xgb_pred','lgbm_pred','zip_code'].sum().iplot(kind='scatter', title='Prediction by Hour', xTitle='Hour', yTitle='Count')"
   ]
  },
  {
   "cell_type": "markdown",
   "metadata": {},
   "source": [
    "<img src=\"https://github.com/jiyoungsim/BigQuery-NYC-Taxi-Demand--EDA-and-Prediction/blob/master/figs/pred_by_hour.png?raw=true\">"
   ]
  },
  {
   "cell_type": "code",
   "execution_count": 78,
   "metadata": {},
   "outputs": [
    {
     "data": {
      "application/vnd.plotly.v1+json": {
       "config": {
        "linkText": "Export to plot.ly",
        "plotlyServerURL": "https://plot.ly",
        "showLink": true
       },
       "data": [
        {
         "line": {
          "color": "rgba(255, 153, 51, 1.0)",
          "dash": "solid",
          "shape": "linear",
          "width": 1.3
         },
         "mode": "lines",
         "name": "cnt",
         "text": "",
         "type": "scatter",
         "x": [
          "Mon",
          "Tue",
          "Wed",
          "Thu",
          "Fri",
          "Sat",
          "Sun"
         ],
         "y": [
          222332,
          130322,
          367404,
          417795,
          467775,
          949717,
          394938
         ]
        },
        {
         "line": {
          "color": "rgba(55, 128, 191, 1.0)",
          "dash": "solid",
          "shape": "linear",
          "width": 1.3
         },
         "mode": "lines",
         "name": "lr_pred",
         "text": "",
         "type": "scatter",
         "x": [
          "Mon",
          "Tue",
          "Wed",
          "Thu",
          "Fri",
          "Sat",
          "Sun"
         ],
         "y": [
          292448.5984206202,
          281889.4190258792,
          318248.1507514609,
          331458.00260454544,
          345532.20088617946,
          678294.4371671212,
          350701.44702029956
         ]
        },
        {
         "line": {
          "color": "rgba(50, 171, 96, 1.0)",
          "dash": "solid",
          "shape": "linear",
          "width": 1.3
         },
         "mode": "lines",
         "name": "rf_pred",
         "text": "",
         "type": "scatter",
         "x": [
          "Mon",
          "Tue",
          "Wed",
          "Thu",
          "Fri",
          "Sat",
          "Sun"
         ],
         "y": [
          345312.72000000125,
          394539.7250000001,
          423968.18500000023,
          439734.3200000002,
          455949.60000000003,
          951840.075000002,
          417389.85000000015
         ]
        },
        {
         "line": {
          "color": "rgba(128, 0, 128, 1.0)",
          "dash": "solid",
          "shape": "linear",
          "width": 1.3
         },
         "mode": "lines",
         "name": "xgb_pred",
         "text": "",
         "type": "scatter",
         "x": [
          "Mon",
          "Tue",
          "Wed",
          "Thu",
          "Fri",
          "Sat",
          "Sun"
         ],
         "y": [
          340615.84375,
          403521.875,
          427142.625,
          439172,
          457444.59375,
          971752.5625,
          420956.84375
         ]
        },
        {
         "line": {
          "color": "rgba(219, 64, 82, 1.0)",
          "dash": "solid",
          "shape": "linear",
          "width": 1.3
         },
         "mode": "lines",
         "name": "lgbm_pred",
         "text": "",
         "type": "scatter",
         "x": [
          "Mon",
          "Tue",
          "Wed",
          "Thu",
          "Fri",
          "Sat",
          "Sun"
         ],
         "y": [
          349554.7801260669,
          401485.038719265,
          426022.27592867933,
          436029.46130789124,
          455411.75659827335,
          978425.3966214332,
          411438.39429509616
         ]
        }
       ],
       "layout": {
        "legend": {
         "bgcolor": "#F5F6F9",
         "font": {
          "color": "#4D5663"
         }
        },
        "paper_bgcolor": "#F5F6F9",
        "plot_bgcolor": "#F5F6F9",
        "template": {
         "data": {
          "bar": [
           {
            "error_x": {
             "color": "#2a3f5f"
            },
            "error_y": {
             "color": "#2a3f5f"
            },
            "marker": {
             "line": {
              "color": "#E5ECF6",
              "width": 0.5
             }
            },
            "type": "bar"
           }
          ],
          "barpolar": [
           {
            "marker": {
             "line": {
              "color": "#E5ECF6",
              "width": 0.5
             }
            },
            "type": "barpolar"
           }
          ],
          "carpet": [
           {
            "aaxis": {
             "endlinecolor": "#2a3f5f",
             "gridcolor": "white",
             "linecolor": "white",
             "minorgridcolor": "white",
             "startlinecolor": "#2a3f5f"
            },
            "baxis": {
             "endlinecolor": "#2a3f5f",
             "gridcolor": "white",
             "linecolor": "white",
             "minorgridcolor": "white",
             "startlinecolor": "#2a3f5f"
            },
            "type": "carpet"
           }
          ],
          "choropleth": [
           {
            "colorbar": {
             "outlinewidth": 0,
             "ticks": ""
            },
            "type": "choropleth"
           }
          ],
          "contour": [
           {
            "colorbar": {
             "outlinewidth": 0,
             "ticks": ""
            },
            "colorscale": [
             [
              0,
              "#0d0887"
             ],
             [
              0.1111111111111111,
              "#46039f"
             ],
             [
              0.2222222222222222,
              "#7201a8"
             ],
             [
              0.3333333333333333,
              "#9c179e"
             ],
             [
              0.4444444444444444,
              "#bd3786"
             ],
             [
              0.5555555555555556,
              "#d8576b"
             ],
             [
              0.6666666666666666,
              "#ed7953"
             ],
             [
              0.7777777777777778,
              "#fb9f3a"
             ],
             [
              0.8888888888888888,
              "#fdca26"
             ],
             [
              1,
              "#f0f921"
             ]
            ],
            "type": "contour"
           }
          ],
          "contourcarpet": [
           {
            "colorbar": {
             "outlinewidth": 0,
             "ticks": ""
            },
            "type": "contourcarpet"
           }
          ],
          "heatmap": [
           {
            "colorbar": {
             "outlinewidth": 0,
             "ticks": ""
            },
            "colorscale": [
             [
              0,
              "#0d0887"
             ],
             [
              0.1111111111111111,
              "#46039f"
             ],
             [
              0.2222222222222222,
              "#7201a8"
             ],
             [
              0.3333333333333333,
              "#9c179e"
             ],
             [
              0.4444444444444444,
              "#bd3786"
             ],
             [
              0.5555555555555556,
              "#d8576b"
             ],
             [
              0.6666666666666666,
              "#ed7953"
             ],
             [
              0.7777777777777778,
              "#fb9f3a"
             ],
             [
              0.8888888888888888,
              "#fdca26"
             ],
             [
              1,
              "#f0f921"
             ]
            ],
            "type": "heatmap"
           }
          ],
          "heatmapgl": [
           {
            "colorbar": {
             "outlinewidth": 0,
             "ticks": ""
            },
            "colorscale": [
             [
              0,
              "#0d0887"
             ],
             [
              0.1111111111111111,
              "#46039f"
             ],
             [
              0.2222222222222222,
              "#7201a8"
             ],
             [
              0.3333333333333333,
              "#9c179e"
             ],
             [
              0.4444444444444444,
              "#bd3786"
             ],
             [
              0.5555555555555556,
              "#d8576b"
             ],
             [
              0.6666666666666666,
              "#ed7953"
             ],
             [
              0.7777777777777778,
              "#fb9f3a"
             ],
             [
              0.8888888888888888,
              "#fdca26"
             ],
             [
              1,
              "#f0f921"
             ]
            ],
            "type": "heatmapgl"
           }
          ],
          "histogram": [
           {
            "marker": {
             "colorbar": {
              "outlinewidth": 0,
              "ticks": ""
             }
            },
            "type": "histogram"
           }
          ],
          "histogram2d": [
           {
            "colorbar": {
             "outlinewidth": 0,
             "ticks": ""
            },
            "colorscale": [
             [
              0,
              "#0d0887"
             ],
             [
              0.1111111111111111,
              "#46039f"
             ],
             [
              0.2222222222222222,
              "#7201a8"
             ],
             [
              0.3333333333333333,
              "#9c179e"
             ],
             [
              0.4444444444444444,
              "#bd3786"
             ],
             [
              0.5555555555555556,
              "#d8576b"
             ],
             [
              0.6666666666666666,
              "#ed7953"
             ],
             [
              0.7777777777777778,
              "#fb9f3a"
             ],
             [
              0.8888888888888888,
              "#fdca26"
             ],
             [
              1,
              "#f0f921"
             ]
            ],
            "type": "histogram2d"
           }
          ],
          "histogram2dcontour": [
           {
            "colorbar": {
             "outlinewidth": 0,
             "ticks": ""
            },
            "colorscale": [
             [
              0,
              "#0d0887"
             ],
             [
              0.1111111111111111,
              "#46039f"
             ],
             [
              0.2222222222222222,
              "#7201a8"
             ],
             [
              0.3333333333333333,
              "#9c179e"
             ],
             [
              0.4444444444444444,
              "#bd3786"
             ],
             [
              0.5555555555555556,
              "#d8576b"
             ],
             [
              0.6666666666666666,
              "#ed7953"
             ],
             [
              0.7777777777777778,
              "#fb9f3a"
             ],
             [
              0.8888888888888888,
              "#fdca26"
             ],
             [
              1,
              "#f0f921"
             ]
            ],
            "type": "histogram2dcontour"
           }
          ],
          "mesh3d": [
           {
            "colorbar": {
             "outlinewidth": 0,
             "ticks": ""
            },
            "type": "mesh3d"
           }
          ],
          "parcoords": [
           {
            "line": {
             "colorbar": {
              "outlinewidth": 0,
              "ticks": ""
             }
            },
            "type": "parcoords"
           }
          ],
          "pie": [
           {
            "automargin": true,
            "type": "pie"
           }
          ],
          "scatter": [
           {
            "marker": {
             "colorbar": {
              "outlinewidth": 0,
              "ticks": ""
             }
            },
            "type": "scatter"
           }
          ],
          "scatter3d": [
           {
            "line": {
             "colorbar": {
              "outlinewidth": 0,
              "ticks": ""
             }
            },
            "marker": {
             "colorbar": {
              "outlinewidth": 0,
              "ticks": ""
             }
            },
            "type": "scatter3d"
           }
          ],
          "scattercarpet": [
           {
            "marker": {
             "colorbar": {
              "outlinewidth": 0,
              "ticks": ""
             }
            },
            "type": "scattercarpet"
           }
          ],
          "scattergeo": [
           {
            "marker": {
             "colorbar": {
              "outlinewidth": 0,
              "ticks": ""
             }
            },
            "type": "scattergeo"
           }
          ],
          "scattergl": [
           {
            "marker": {
             "colorbar": {
              "outlinewidth": 0,
              "ticks": ""
             }
            },
            "type": "scattergl"
           }
          ],
          "scattermapbox": [
           {
            "marker": {
             "colorbar": {
              "outlinewidth": 0,
              "ticks": ""
             }
            },
            "type": "scattermapbox"
           }
          ],
          "scatterpolar": [
           {
            "marker": {
             "colorbar": {
              "outlinewidth": 0,
              "ticks": ""
             }
            },
            "type": "scatterpolar"
           }
          ],
          "scatterpolargl": [
           {
            "marker": {
             "colorbar": {
              "outlinewidth": 0,
              "ticks": ""
             }
            },
            "type": "scatterpolargl"
           }
          ],
          "scatterternary": [
           {
            "marker": {
             "colorbar": {
              "outlinewidth": 0,
              "ticks": ""
             }
            },
            "type": "scatterternary"
           }
          ],
          "surface": [
           {
            "colorbar": {
             "outlinewidth": 0,
             "ticks": ""
            },
            "colorscale": [
             [
              0,
              "#0d0887"
             ],
             [
              0.1111111111111111,
              "#46039f"
             ],
             [
              0.2222222222222222,
              "#7201a8"
             ],
             [
              0.3333333333333333,
              "#9c179e"
             ],
             [
              0.4444444444444444,
              "#bd3786"
             ],
             [
              0.5555555555555556,
              "#d8576b"
             ],
             [
              0.6666666666666666,
              "#ed7953"
             ],
             [
              0.7777777777777778,
              "#fb9f3a"
             ],
             [
              0.8888888888888888,
              "#fdca26"
             ],
             [
              1,
              "#f0f921"
             ]
            ],
            "type": "surface"
           }
          ],
          "table": [
           {
            "cells": {
             "fill": {
              "color": "#EBF0F8"
             },
             "line": {
              "color": "white"
             }
            },
            "header": {
             "fill": {
              "color": "#C8D4E3"
             },
             "line": {
              "color": "white"
             }
            },
            "type": "table"
           }
          ]
         },
         "layout": {
          "annotationdefaults": {
           "arrowcolor": "#2a3f5f",
           "arrowhead": 0,
           "arrowwidth": 1
          },
          "coloraxis": {
           "colorbar": {
            "outlinewidth": 0,
            "ticks": ""
           }
          },
          "colorscale": {
           "diverging": [
            [
             0,
             "#8e0152"
            ],
            [
             0.1,
             "#c51b7d"
            ],
            [
             0.2,
             "#de77ae"
            ],
            [
             0.3,
             "#f1b6da"
            ],
            [
             0.4,
             "#fde0ef"
            ],
            [
             0.5,
             "#f7f7f7"
            ],
            [
             0.6,
             "#e6f5d0"
            ],
            [
             0.7,
             "#b8e186"
            ],
            [
             0.8,
             "#7fbc41"
            ],
            [
             0.9,
             "#4d9221"
            ],
            [
             1,
             "#276419"
            ]
           ],
           "sequential": [
            [
             0,
             "#0d0887"
            ],
            [
             0.1111111111111111,
             "#46039f"
            ],
            [
             0.2222222222222222,
             "#7201a8"
            ],
            [
             0.3333333333333333,
             "#9c179e"
            ],
            [
             0.4444444444444444,
             "#bd3786"
            ],
            [
             0.5555555555555556,
             "#d8576b"
            ],
            [
             0.6666666666666666,
             "#ed7953"
            ],
            [
             0.7777777777777778,
             "#fb9f3a"
            ],
            [
             0.8888888888888888,
             "#fdca26"
            ],
            [
             1,
             "#f0f921"
            ]
           ],
           "sequentialminus": [
            [
             0,
             "#0d0887"
            ],
            [
             0.1111111111111111,
             "#46039f"
            ],
            [
             0.2222222222222222,
             "#7201a8"
            ],
            [
             0.3333333333333333,
             "#9c179e"
            ],
            [
             0.4444444444444444,
             "#bd3786"
            ],
            [
             0.5555555555555556,
             "#d8576b"
            ],
            [
             0.6666666666666666,
             "#ed7953"
            ],
            [
             0.7777777777777778,
             "#fb9f3a"
            ],
            [
             0.8888888888888888,
             "#fdca26"
            ],
            [
             1,
             "#f0f921"
            ]
           ]
          },
          "colorway": [
           "#636efa",
           "#EF553B",
           "#00cc96",
           "#ab63fa",
           "#FFA15A",
           "#19d3f3",
           "#FF6692",
           "#B6E880",
           "#FF97FF",
           "#FECB52"
          ],
          "font": {
           "color": "#2a3f5f"
          },
          "geo": {
           "bgcolor": "white",
           "lakecolor": "white",
           "landcolor": "#E5ECF6",
           "showlakes": true,
           "showland": true,
           "subunitcolor": "white"
          },
          "hoverlabel": {
           "align": "left"
          },
          "hovermode": "closest",
          "mapbox": {
           "style": "light"
          },
          "paper_bgcolor": "white",
          "plot_bgcolor": "#E5ECF6",
          "polar": {
           "angularaxis": {
            "gridcolor": "white",
            "linecolor": "white",
            "ticks": ""
           },
           "bgcolor": "#E5ECF6",
           "radialaxis": {
            "gridcolor": "white",
            "linecolor": "white",
            "ticks": ""
           }
          },
          "scene": {
           "xaxis": {
            "backgroundcolor": "#E5ECF6",
            "gridcolor": "white",
            "gridwidth": 2,
            "linecolor": "white",
            "showbackground": true,
            "ticks": "",
            "zerolinecolor": "white"
           },
           "yaxis": {
            "backgroundcolor": "#E5ECF6",
            "gridcolor": "white",
            "gridwidth": 2,
            "linecolor": "white",
            "showbackground": true,
            "ticks": "",
            "zerolinecolor": "white"
           },
           "zaxis": {
            "backgroundcolor": "#E5ECF6",
            "gridcolor": "white",
            "gridwidth": 2,
            "linecolor": "white",
            "showbackground": true,
            "ticks": "",
            "zerolinecolor": "white"
           }
          },
          "shapedefaults": {
           "line": {
            "color": "#2a3f5f"
           }
          },
          "ternary": {
           "aaxis": {
            "gridcolor": "white",
            "linecolor": "white",
            "ticks": ""
           },
           "baxis": {
            "gridcolor": "white",
            "linecolor": "white",
            "ticks": ""
           },
           "bgcolor": "#E5ECF6",
           "caxis": {
            "gridcolor": "white",
            "linecolor": "white",
            "ticks": ""
           }
          },
          "title": {
           "x": 0.05
          },
          "xaxis": {
           "automargin": true,
           "gridcolor": "white",
           "linecolor": "white",
           "ticks": "",
           "title": {
            "standoff": 15
           },
           "zerolinecolor": "white",
           "zerolinewidth": 2
          },
          "yaxis": {
           "automargin": true,
           "gridcolor": "white",
           "linecolor": "white",
           "ticks": "",
           "title": {
            "standoff": 15
           },
           "zerolinecolor": "white",
           "zerolinewidth": 2
          }
         }
        },
        "title": {
         "font": {
          "color": "#4D5663"
         },
         "text": "Prediction by Day of Week"
        },
        "xaxis": {
         "gridcolor": "#E1E5ED",
         "showgrid": true,
         "tickfont": {
          "color": "#4D5663"
         },
         "title": {
          "font": {
           "color": "#4D5663"
          },
          "text": "Day of Week"
         },
         "zerolinecolor": "#E1E5ED"
        },
        "yaxis": {
         "gridcolor": "#E1E5ED",
         "showgrid": true,
         "tickfont": {
          "color": "#4D5663"
         },
         "title": {
          "font": {
           "color": "#4D5663"
          },
          "text": "Count"
         },
         "zerolinecolor": "#E1E5ED"
        }
       }
      },
      "text/html": [
       "<div>\n",
       "        \n",
       "        \n",
       "            <div id=\"36a42a4c-dbc0-4484-8ac4-a348de71794c\" class=\"plotly-graph-div\" style=\"height:525px; width:100%;\"></div>\n",
       "            <script type=\"text/javascript\">\n",
       "                require([\"plotly\"], function(Plotly) {\n",
       "                    window.PLOTLYENV=window.PLOTLYENV || {};\n",
       "                    window.PLOTLYENV.BASE_URL='https://plot.ly';\n",
       "                    \n",
       "                if (document.getElementById(\"36a42a4c-dbc0-4484-8ac4-a348de71794c\")) {\n",
       "                    Plotly.newPlot(\n",
       "                        '36a42a4c-dbc0-4484-8ac4-a348de71794c',\n",
       "                        [{\"line\": {\"color\": \"rgba(255, 153, 51, 1.0)\", \"dash\": \"solid\", \"shape\": \"linear\", \"width\": 1.3}, \"mode\": \"lines\", \"name\": \"cnt\", \"text\": \"\", \"type\": \"scatter\", \"x\": [\"Mon\", \"Tue\", \"Wed\", \"Thu\", \"Fri\", \"Sat\", \"Sun\"], \"y\": [222332, 130322, 367404, 417795, 467775, 949717, 394938]}, {\"line\": {\"color\": \"rgba(55, 128, 191, 1.0)\", \"dash\": \"solid\", \"shape\": \"linear\", \"width\": 1.3}, \"mode\": \"lines\", \"name\": \"lr_pred\", \"text\": \"\", \"type\": \"scatter\", \"x\": [\"Mon\", \"Tue\", \"Wed\", \"Thu\", \"Fri\", \"Sat\", \"Sun\"], \"y\": [292448.5984206202, 281889.4190258792, 318248.1507514609, 331458.00260454544, 345532.20088617946, 678294.4371671212, 350701.44702029956]}, {\"line\": {\"color\": \"rgba(50, 171, 96, 1.0)\", \"dash\": \"solid\", \"shape\": \"linear\", \"width\": 1.3}, \"mode\": \"lines\", \"name\": \"rf_pred\", \"text\": \"\", \"type\": \"scatter\", \"x\": [\"Mon\", \"Tue\", \"Wed\", \"Thu\", \"Fri\", \"Sat\", \"Sun\"], \"y\": [345312.72000000125, 394539.7250000001, 423968.18500000023, 439734.3200000002, 455949.60000000003, 951840.075000002, 417389.85000000015]}, {\"line\": {\"color\": \"rgba(128, 0, 128, 1.0)\", \"dash\": \"solid\", \"shape\": \"linear\", \"width\": 1.3}, \"mode\": \"lines\", \"name\": \"xgb_pred\", \"text\": \"\", \"type\": \"scatter\", \"x\": [\"Mon\", \"Tue\", \"Wed\", \"Thu\", \"Fri\", \"Sat\", \"Sun\"], \"y\": [340615.84375, 403521.875, 427142.625, 439172.0, 457444.59375, 971752.5625, 420956.84375]}, {\"line\": {\"color\": \"rgba(219, 64, 82, 1.0)\", \"dash\": \"solid\", \"shape\": \"linear\", \"width\": 1.3}, \"mode\": \"lines\", \"name\": \"lgbm_pred\", \"text\": \"\", \"type\": \"scatter\", \"x\": [\"Mon\", \"Tue\", \"Wed\", \"Thu\", \"Fri\", \"Sat\", \"Sun\"], \"y\": [349554.7801260669, 401485.038719265, 426022.27592867933, 436029.46130789124, 455411.75659827335, 978425.3966214332, 411438.39429509616]}],\n",
       "                        {\"legend\": {\"bgcolor\": \"#F5F6F9\", \"font\": {\"color\": \"#4D5663\"}}, \"paper_bgcolor\": \"#F5F6F9\", \"plot_bgcolor\": \"#F5F6F9\", \"template\": {\"data\": {\"bar\": [{\"error_x\": {\"color\": \"#2a3f5f\"}, \"error_y\": {\"color\": \"#2a3f5f\"}, \"marker\": {\"line\": {\"color\": \"#E5ECF6\", \"width\": 0.5}}, \"type\": \"bar\"}], \"barpolar\": [{\"marker\": {\"line\": {\"color\": \"#E5ECF6\", \"width\": 0.5}}, \"type\": \"barpolar\"}], \"carpet\": [{\"aaxis\": {\"endlinecolor\": \"#2a3f5f\", \"gridcolor\": \"white\", \"linecolor\": \"white\", \"minorgridcolor\": \"white\", \"startlinecolor\": \"#2a3f5f\"}, \"baxis\": {\"endlinecolor\": \"#2a3f5f\", \"gridcolor\": \"white\", \"linecolor\": \"white\", \"minorgridcolor\": \"white\", \"startlinecolor\": \"#2a3f5f\"}, \"type\": \"carpet\"}], \"choropleth\": [{\"colorbar\": {\"outlinewidth\": 0, \"ticks\": \"\"}, \"type\": \"choropleth\"}], \"contour\": [{\"colorbar\": {\"outlinewidth\": 0, \"ticks\": \"\"}, \"colorscale\": [[0.0, \"#0d0887\"], [0.1111111111111111, \"#46039f\"], [0.2222222222222222, \"#7201a8\"], [0.3333333333333333, \"#9c179e\"], [0.4444444444444444, \"#bd3786\"], [0.5555555555555556, \"#d8576b\"], [0.6666666666666666, \"#ed7953\"], [0.7777777777777778, \"#fb9f3a\"], [0.8888888888888888, \"#fdca26\"], [1.0, \"#f0f921\"]], \"type\": \"contour\"}], \"contourcarpet\": [{\"colorbar\": {\"outlinewidth\": 0, \"ticks\": \"\"}, \"type\": \"contourcarpet\"}], \"heatmap\": [{\"colorbar\": {\"outlinewidth\": 0, \"ticks\": \"\"}, \"colorscale\": [[0.0, \"#0d0887\"], [0.1111111111111111, \"#46039f\"], [0.2222222222222222, \"#7201a8\"], [0.3333333333333333, \"#9c179e\"], [0.4444444444444444, \"#bd3786\"], [0.5555555555555556, \"#d8576b\"], [0.6666666666666666, \"#ed7953\"], [0.7777777777777778, \"#fb9f3a\"], [0.8888888888888888, \"#fdca26\"], [1.0, \"#f0f921\"]], \"type\": \"heatmap\"}], \"heatmapgl\": [{\"colorbar\": {\"outlinewidth\": 0, \"ticks\": \"\"}, \"colorscale\": [[0.0, \"#0d0887\"], [0.1111111111111111, \"#46039f\"], [0.2222222222222222, \"#7201a8\"], [0.3333333333333333, \"#9c179e\"], [0.4444444444444444, \"#bd3786\"], [0.5555555555555556, \"#d8576b\"], [0.6666666666666666, \"#ed7953\"], [0.7777777777777778, \"#fb9f3a\"], [0.8888888888888888, \"#fdca26\"], [1.0, \"#f0f921\"]], \"type\": \"heatmapgl\"}], \"histogram\": [{\"marker\": {\"colorbar\": {\"outlinewidth\": 0, \"ticks\": \"\"}}, \"type\": \"histogram\"}], \"histogram2d\": [{\"colorbar\": {\"outlinewidth\": 0, \"ticks\": \"\"}, \"colorscale\": [[0.0, \"#0d0887\"], [0.1111111111111111, \"#46039f\"], [0.2222222222222222, \"#7201a8\"], [0.3333333333333333, \"#9c179e\"], [0.4444444444444444, \"#bd3786\"], [0.5555555555555556, \"#d8576b\"], [0.6666666666666666, \"#ed7953\"], [0.7777777777777778, \"#fb9f3a\"], [0.8888888888888888, \"#fdca26\"], [1.0, \"#f0f921\"]], \"type\": \"histogram2d\"}], \"histogram2dcontour\": [{\"colorbar\": {\"outlinewidth\": 0, \"ticks\": \"\"}, \"colorscale\": [[0.0, \"#0d0887\"], [0.1111111111111111, \"#46039f\"], [0.2222222222222222, \"#7201a8\"], [0.3333333333333333, \"#9c179e\"], [0.4444444444444444, \"#bd3786\"], [0.5555555555555556, \"#d8576b\"], [0.6666666666666666, \"#ed7953\"], [0.7777777777777778, \"#fb9f3a\"], [0.8888888888888888, \"#fdca26\"], [1.0, \"#f0f921\"]], \"type\": \"histogram2dcontour\"}], \"mesh3d\": [{\"colorbar\": {\"outlinewidth\": 0, \"ticks\": \"\"}, \"type\": \"mesh3d\"}], \"parcoords\": [{\"line\": {\"colorbar\": {\"outlinewidth\": 0, \"ticks\": \"\"}}, \"type\": \"parcoords\"}], \"pie\": [{\"automargin\": true, \"type\": \"pie\"}], \"scatter\": [{\"marker\": {\"colorbar\": {\"outlinewidth\": 0, \"ticks\": \"\"}}, \"type\": \"scatter\"}], \"scatter3d\": [{\"line\": {\"colorbar\": {\"outlinewidth\": 0, \"ticks\": \"\"}}, \"marker\": {\"colorbar\": {\"outlinewidth\": 0, \"ticks\": \"\"}}, \"type\": \"scatter3d\"}], \"scattercarpet\": [{\"marker\": {\"colorbar\": {\"outlinewidth\": 0, \"ticks\": \"\"}}, \"type\": \"scattercarpet\"}], \"scattergeo\": [{\"marker\": {\"colorbar\": {\"outlinewidth\": 0, \"ticks\": \"\"}}, \"type\": \"scattergeo\"}], \"scattergl\": [{\"marker\": {\"colorbar\": {\"outlinewidth\": 0, \"ticks\": \"\"}}, \"type\": \"scattergl\"}], \"scattermapbox\": [{\"marker\": {\"colorbar\": {\"outlinewidth\": 0, \"ticks\": \"\"}}, \"type\": \"scattermapbox\"}], \"scatterpolar\": [{\"marker\": {\"colorbar\": {\"outlinewidth\": 0, \"ticks\": \"\"}}, \"type\": \"scatterpolar\"}], \"scatterpolargl\": [{\"marker\": {\"colorbar\": {\"outlinewidth\": 0, \"ticks\": \"\"}}, \"type\": \"scatterpolargl\"}], \"scatterternary\": [{\"marker\": {\"colorbar\": {\"outlinewidth\": 0, \"ticks\": \"\"}}, \"type\": \"scatterternary\"}], \"surface\": [{\"colorbar\": {\"outlinewidth\": 0, \"ticks\": \"\"}, \"colorscale\": [[0.0, \"#0d0887\"], [0.1111111111111111, \"#46039f\"], [0.2222222222222222, \"#7201a8\"], [0.3333333333333333, \"#9c179e\"], [0.4444444444444444, \"#bd3786\"], [0.5555555555555556, \"#d8576b\"], [0.6666666666666666, \"#ed7953\"], [0.7777777777777778, \"#fb9f3a\"], [0.8888888888888888, \"#fdca26\"], [1.0, \"#f0f921\"]], \"type\": \"surface\"}], \"table\": [{\"cells\": {\"fill\": {\"color\": \"#EBF0F8\"}, \"line\": {\"color\": \"white\"}}, \"header\": {\"fill\": {\"color\": \"#C8D4E3\"}, \"line\": {\"color\": \"white\"}}, \"type\": \"table\"}]}, \"layout\": {\"annotationdefaults\": {\"arrowcolor\": \"#2a3f5f\", \"arrowhead\": 0, \"arrowwidth\": 1}, \"coloraxis\": {\"colorbar\": {\"outlinewidth\": 0, \"ticks\": \"\"}}, \"colorscale\": {\"diverging\": [[0, \"#8e0152\"], [0.1, \"#c51b7d\"], [0.2, \"#de77ae\"], [0.3, \"#f1b6da\"], [0.4, \"#fde0ef\"], [0.5, \"#f7f7f7\"], [0.6, \"#e6f5d0\"], [0.7, \"#b8e186\"], [0.8, \"#7fbc41\"], [0.9, \"#4d9221\"], [1, \"#276419\"]], \"sequential\": [[0.0, \"#0d0887\"], [0.1111111111111111, \"#46039f\"], [0.2222222222222222, \"#7201a8\"], [0.3333333333333333, \"#9c179e\"], [0.4444444444444444, \"#bd3786\"], [0.5555555555555556, \"#d8576b\"], [0.6666666666666666, \"#ed7953\"], [0.7777777777777778, \"#fb9f3a\"], [0.8888888888888888, \"#fdca26\"], [1.0, \"#f0f921\"]], \"sequentialminus\": [[0.0, \"#0d0887\"], [0.1111111111111111, \"#46039f\"], [0.2222222222222222, \"#7201a8\"], [0.3333333333333333, \"#9c179e\"], [0.4444444444444444, \"#bd3786\"], [0.5555555555555556, \"#d8576b\"], [0.6666666666666666, \"#ed7953\"], [0.7777777777777778, \"#fb9f3a\"], [0.8888888888888888, \"#fdca26\"], [1.0, \"#f0f921\"]]}, \"colorway\": [\"#636efa\", \"#EF553B\", \"#00cc96\", \"#ab63fa\", \"#FFA15A\", \"#19d3f3\", \"#FF6692\", \"#B6E880\", \"#FF97FF\", \"#FECB52\"], \"font\": {\"color\": \"#2a3f5f\"}, \"geo\": {\"bgcolor\": \"white\", \"lakecolor\": \"white\", \"landcolor\": \"#E5ECF6\", \"showlakes\": true, \"showland\": true, \"subunitcolor\": \"white\"}, \"hoverlabel\": {\"align\": \"left\"}, \"hovermode\": \"closest\", \"mapbox\": {\"style\": \"light\"}, \"paper_bgcolor\": \"white\", \"plot_bgcolor\": \"#E5ECF6\", \"polar\": {\"angularaxis\": {\"gridcolor\": \"white\", \"linecolor\": \"white\", \"ticks\": \"\"}, \"bgcolor\": \"#E5ECF6\", \"radialaxis\": {\"gridcolor\": \"white\", \"linecolor\": \"white\", \"ticks\": \"\"}}, \"scene\": {\"xaxis\": {\"backgroundcolor\": \"#E5ECF6\", \"gridcolor\": \"white\", \"gridwidth\": 2, \"linecolor\": \"white\", \"showbackground\": true, \"ticks\": \"\", \"zerolinecolor\": \"white\"}, \"yaxis\": {\"backgroundcolor\": \"#E5ECF6\", \"gridcolor\": \"white\", \"gridwidth\": 2, \"linecolor\": \"white\", \"showbackground\": true, \"ticks\": \"\", \"zerolinecolor\": \"white\"}, \"zaxis\": {\"backgroundcolor\": \"#E5ECF6\", \"gridcolor\": \"white\", \"gridwidth\": 2, \"linecolor\": \"white\", \"showbackground\": true, \"ticks\": \"\", \"zerolinecolor\": \"white\"}}, \"shapedefaults\": {\"line\": {\"color\": \"#2a3f5f\"}}, \"ternary\": {\"aaxis\": {\"gridcolor\": \"white\", \"linecolor\": \"white\", \"ticks\": \"\"}, \"baxis\": {\"gridcolor\": \"white\", \"linecolor\": \"white\", \"ticks\": \"\"}, \"bgcolor\": \"#E5ECF6\", \"caxis\": {\"gridcolor\": \"white\", \"linecolor\": \"white\", \"ticks\": \"\"}}, \"title\": {\"x\": 0.05}, \"xaxis\": {\"automargin\": true, \"gridcolor\": \"white\", \"linecolor\": \"white\", \"ticks\": \"\", \"title\": {\"standoff\": 15}, \"zerolinecolor\": \"white\", \"zerolinewidth\": 2}, \"yaxis\": {\"automargin\": true, \"gridcolor\": \"white\", \"linecolor\": \"white\", \"ticks\": \"\", \"title\": {\"standoff\": 15}, \"zerolinecolor\": \"white\", \"zerolinewidth\": 2}}}, \"title\": {\"font\": {\"color\": \"#4D5663\"}, \"text\": \"Prediction by Day of Week\"}, \"xaxis\": {\"gridcolor\": \"#E1E5ED\", \"showgrid\": true, \"tickfont\": {\"color\": \"#4D5663\"}, \"title\": {\"font\": {\"color\": \"#4D5663\"}, \"text\": \"Day of Week\"}, \"zerolinecolor\": \"#E1E5ED\"}, \"yaxis\": {\"gridcolor\": \"#E1E5ED\", \"showgrid\": true, \"tickfont\": {\"color\": \"#4D5663\"}, \"title\": {\"font\": {\"color\": \"#4D5663\"}, \"text\": \"Count\"}, \"zerolinecolor\": \"#E1E5ED\"}},\n",
       "                        {\"showLink\": true, \"linkText\": \"Export to plot.ly\", \"plotlyServerURL\": \"https://plot.ly\", \"responsive\": true}\n",
       "                    ).then(function(){\n",
       "                            \n",
       "var gd = document.getElementById('36a42a4c-dbc0-4484-8ac4-a348de71794c');\n",
       "var x = new MutationObserver(function (mutations, observer) {{\n",
       "        var display = window.getComputedStyle(gd).display;\n",
       "        if (!display || display === 'none') {{\n",
       "            console.log([gd, 'removed!']);\n",
       "            Plotly.purge(gd);\n",
       "            observer.disconnect();\n",
       "        }}\n",
       "}});\n",
       "\n",
       "// Listen for the removal of the full notebook cells\n",
       "var notebookContainer = gd.closest('#notebook-container');\n",
       "if (notebookContainer) {{\n",
       "    x.observe(notebookContainer, {childList: true});\n",
       "}}\n",
       "\n",
       "// Listen for the clearing of the current output cell\n",
       "var outputEl = gd.closest('.output');\n",
       "if (outputEl) {{\n",
       "    x.observe(outputEl, {childList: true});\n",
       "}}\n",
       "\n",
       "                        })\n",
       "                };\n",
       "                });\n",
       "            </script>\n",
       "        </div>"
      ]
     },
     "metadata": {},
     "output_type": "display_data"
    }
   ],
   "source": [
    "test_df.groupby('dow')['cnt','lr_pred','rf_pred','xgb_pred','lgbm_pred','zip_code'].sum().rename(index={0:'Mon', 1:'Tue', 2:'Wed', 3:'Thu', 4:'Fri', 5:'Sat', 6:'Sun'}).iplot(kind='scatter', title='Prediction by Day of Week', xTitle='Day of Week', yTitle='Count')"
   ]
  },
  {
   "cell_type": "markdown",
   "metadata": {},
   "source": [
    "<img src=\"https://github.com/jiyoungsim/BigQuery-NYC-Taxi-Demand--EDA-and-Prediction/blob/master/figs/pred_by_dow.png?raw=true\">"
   ]
  },
  {
   "cell_type": "code",
   "execution_count": 79,
   "metadata": {},
   "outputs": [
    {
     "data": {
      "application/vnd.plotly.v1+json": {
       "config": {
        "linkText": "Export to plot.ly",
        "plotlyServerURL": "https://plot.ly",
        "showLink": true
       },
       "data": [
        {
         "line": {
          "color": "rgba(255, 153, 51, 1.0)",
          "dash": "solid",
          "shape": "linear",
          "width": 1.3
         },
         "mode": "lines",
         "name": "cnt",
         "text": "",
         "type": "scatter",
         "x": [
          24,
          25,
          26,
          27,
          28,
          29,
          30,
          31
         ],
         "y": [
          447443,
          394938,
          222332,
          130322,
          367404,
          417795,
          467775,
          502274
         ]
        },
        {
         "line": {
          "color": "rgba(55, 128, 191, 1.0)",
          "dash": "solid",
          "shape": "linear",
          "width": 1.3
         },
         "mode": "lines",
         "name": "lr_pred",
         "text": "",
         "type": "scatter",
         "x": [
          24,
          25,
          26,
          27,
          28,
          29,
          30,
          31
         ],
         "y": [
          336791.473535598,
          350701.44702029956,
          292448.5984206202,
          281889.4190258792,
          318248.1507514609,
          331458.00260454544,
          345532.20088617946,
          341502.963631523
         ]
        },
        {
         "line": {
          "color": "rgba(50, 171, 96, 1.0)",
          "dash": "solid",
          "shape": "linear",
          "width": 1.3
         },
         "mode": "lines",
         "name": "rf_pred",
         "text": "",
         "type": "scatter",
         "x": [
          24,
          25,
          26,
          27,
          28,
          29,
          30,
          31
         ],
         "y": [
          475871.2550000004,
          417389.85000000015,
          345312.72000000125,
          394539.7250000001,
          423968.18500000023,
          439734.3200000002,
          455949.60000000003,
          475968.8199999998
         ]
        },
        {
         "line": {
          "color": "rgba(128, 0, 128, 1.0)",
          "dash": "solid",
          "shape": "linear",
          "width": 1.3
         },
         "mode": "lines",
         "name": "xgb_pred",
         "text": "",
         "type": "scatter",
         "x": [
          24,
          25,
          26,
          27,
          28,
          29,
          30,
          31
         ],
         "y": [
          485765.3125,
          420956.84375,
          340615.84375,
          403521.875,
          427142.625,
          439172,
          457444.59375,
          485987.25
         ]
        },
        {
         "line": {
          "color": "rgba(219, 64, 82, 1.0)",
          "dash": "solid",
          "shape": "linear",
          "width": 1.3
         },
         "mode": "lines",
         "name": "lgbm_pred",
         "text": "",
         "type": "scatter",
         "x": [
          24,
          25,
          26,
          27,
          28,
          29,
          30,
          31
         ],
         "y": [
          488986.59072596516,
          411438.39429509616,
          349554.7801260669,
          401485.038719265,
          426022.27592867933,
          436029.46130789124,
          455411.75659827335,
          489438.8058954687
         ]
        }
       ],
       "layout": {
        "legend": {
         "bgcolor": "#F5F6F9",
         "font": {
          "color": "#4D5663"
         }
        },
        "paper_bgcolor": "#F5F6F9",
        "plot_bgcolor": "#F5F6F9",
        "template": {
         "data": {
          "bar": [
           {
            "error_x": {
             "color": "#2a3f5f"
            },
            "error_y": {
             "color": "#2a3f5f"
            },
            "marker": {
             "line": {
              "color": "#E5ECF6",
              "width": 0.5
             }
            },
            "type": "bar"
           }
          ],
          "barpolar": [
           {
            "marker": {
             "line": {
              "color": "#E5ECF6",
              "width": 0.5
             }
            },
            "type": "barpolar"
           }
          ],
          "carpet": [
           {
            "aaxis": {
             "endlinecolor": "#2a3f5f",
             "gridcolor": "white",
             "linecolor": "white",
             "minorgridcolor": "white",
             "startlinecolor": "#2a3f5f"
            },
            "baxis": {
             "endlinecolor": "#2a3f5f",
             "gridcolor": "white",
             "linecolor": "white",
             "minorgridcolor": "white",
             "startlinecolor": "#2a3f5f"
            },
            "type": "carpet"
           }
          ],
          "choropleth": [
           {
            "colorbar": {
             "outlinewidth": 0,
             "ticks": ""
            },
            "type": "choropleth"
           }
          ],
          "contour": [
           {
            "colorbar": {
             "outlinewidth": 0,
             "ticks": ""
            },
            "colorscale": [
             [
              0,
              "#0d0887"
             ],
             [
              0.1111111111111111,
              "#46039f"
             ],
             [
              0.2222222222222222,
              "#7201a8"
             ],
             [
              0.3333333333333333,
              "#9c179e"
             ],
             [
              0.4444444444444444,
              "#bd3786"
             ],
             [
              0.5555555555555556,
              "#d8576b"
             ],
             [
              0.6666666666666666,
              "#ed7953"
             ],
             [
              0.7777777777777778,
              "#fb9f3a"
             ],
             [
              0.8888888888888888,
              "#fdca26"
             ],
             [
              1,
              "#f0f921"
             ]
            ],
            "type": "contour"
           }
          ],
          "contourcarpet": [
           {
            "colorbar": {
             "outlinewidth": 0,
             "ticks": ""
            },
            "type": "contourcarpet"
           }
          ],
          "heatmap": [
           {
            "colorbar": {
             "outlinewidth": 0,
             "ticks": ""
            },
            "colorscale": [
             [
              0,
              "#0d0887"
             ],
             [
              0.1111111111111111,
              "#46039f"
             ],
             [
              0.2222222222222222,
              "#7201a8"
             ],
             [
              0.3333333333333333,
              "#9c179e"
             ],
             [
              0.4444444444444444,
              "#bd3786"
             ],
             [
              0.5555555555555556,
              "#d8576b"
             ],
             [
              0.6666666666666666,
              "#ed7953"
             ],
             [
              0.7777777777777778,
              "#fb9f3a"
             ],
             [
              0.8888888888888888,
              "#fdca26"
             ],
             [
              1,
              "#f0f921"
             ]
            ],
            "type": "heatmap"
           }
          ],
          "heatmapgl": [
           {
            "colorbar": {
             "outlinewidth": 0,
             "ticks": ""
            },
            "colorscale": [
             [
              0,
              "#0d0887"
             ],
             [
              0.1111111111111111,
              "#46039f"
             ],
             [
              0.2222222222222222,
              "#7201a8"
             ],
             [
              0.3333333333333333,
              "#9c179e"
             ],
             [
              0.4444444444444444,
              "#bd3786"
             ],
             [
              0.5555555555555556,
              "#d8576b"
             ],
             [
              0.6666666666666666,
              "#ed7953"
             ],
             [
              0.7777777777777778,
              "#fb9f3a"
             ],
             [
              0.8888888888888888,
              "#fdca26"
             ],
             [
              1,
              "#f0f921"
             ]
            ],
            "type": "heatmapgl"
           }
          ],
          "histogram": [
           {
            "marker": {
             "colorbar": {
              "outlinewidth": 0,
              "ticks": ""
             }
            },
            "type": "histogram"
           }
          ],
          "histogram2d": [
           {
            "colorbar": {
             "outlinewidth": 0,
             "ticks": ""
            },
            "colorscale": [
             [
              0,
              "#0d0887"
             ],
             [
              0.1111111111111111,
              "#46039f"
             ],
             [
              0.2222222222222222,
              "#7201a8"
             ],
             [
              0.3333333333333333,
              "#9c179e"
             ],
             [
              0.4444444444444444,
              "#bd3786"
             ],
             [
              0.5555555555555556,
              "#d8576b"
             ],
             [
              0.6666666666666666,
              "#ed7953"
             ],
             [
              0.7777777777777778,
              "#fb9f3a"
             ],
             [
              0.8888888888888888,
              "#fdca26"
             ],
             [
              1,
              "#f0f921"
             ]
            ],
            "type": "histogram2d"
           }
          ],
          "histogram2dcontour": [
           {
            "colorbar": {
             "outlinewidth": 0,
             "ticks": ""
            },
            "colorscale": [
             [
              0,
              "#0d0887"
             ],
             [
              0.1111111111111111,
              "#46039f"
             ],
             [
              0.2222222222222222,
              "#7201a8"
             ],
             [
              0.3333333333333333,
              "#9c179e"
             ],
             [
              0.4444444444444444,
              "#bd3786"
             ],
             [
              0.5555555555555556,
              "#d8576b"
             ],
             [
              0.6666666666666666,
              "#ed7953"
             ],
             [
              0.7777777777777778,
              "#fb9f3a"
             ],
             [
              0.8888888888888888,
              "#fdca26"
             ],
             [
              1,
              "#f0f921"
             ]
            ],
            "type": "histogram2dcontour"
           }
          ],
          "mesh3d": [
           {
            "colorbar": {
             "outlinewidth": 0,
             "ticks": ""
            },
            "type": "mesh3d"
           }
          ],
          "parcoords": [
           {
            "line": {
             "colorbar": {
              "outlinewidth": 0,
              "ticks": ""
             }
            },
            "type": "parcoords"
           }
          ],
          "pie": [
           {
            "automargin": true,
            "type": "pie"
           }
          ],
          "scatter": [
           {
            "marker": {
             "colorbar": {
              "outlinewidth": 0,
              "ticks": ""
             }
            },
            "type": "scatter"
           }
          ],
          "scatter3d": [
           {
            "line": {
             "colorbar": {
              "outlinewidth": 0,
              "ticks": ""
             }
            },
            "marker": {
             "colorbar": {
              "outlinewidth": 0,
              "ticks": ""
             }
            },
            "type": "scatter3d"
           }
          ],
          "scattercarpet": [
           {
            "marker": {
             "colorbar": {
              "outlinewidth": 0,
              "ticks": ""
             }
            },
            "type": "scattercarpet"
           }
          ],
          "scattergeo": [
           {
            "marker": {
             "colorbar": {
              "outlinewidth": 0,
              "ticks": ""
             }
            },
            "type": "scattergeo"
           }
          ],
          "scattergl": [
           {
            "marker": {
             "colorbar": {
              "outlinewidth": 0,
              "ticks": ""
             }
            },
            "type": "scattergl"
           }
          ],
          "scattermapbox": [
           {
            "marker": {
             "colorbar": {
              "outlinewidth": 0,
              "ticks": ""
             }
            },
            "type": "scattermapbox"
           }
          ],
          "scatterpolar": [
           {
            "marker": {
             "colorbar": {
              "outlinewidth": 0,
              "ticks": ""
             }
            },
            "type": "scatterpolar"
           }
          ],
          "scatterpolargl": [
           {
            "marker": {
             "colorbar": {
              "outlinewidth": 0,
              "ticks": ""
             }
            },
            "type": "scatterpolargl"
           }
          ],
          "scatterternary": [
           {
            "marker": {
             "colorbar": {
              "outlinewidth": 0,
              "ticks": ""
             }
            },
            "type": "scatterternary"
           }
          ],
          "surface": [
           {
            "colorbar": {
             "outlinewidth": 0,
             "ticks": ""
            },
            "colorscale": [
             [
              0,
              "#0d0887"
             ],
             [
              0.1111111111111111,
              "#46039f"
             ],
             [
              0.2222222222222222,
              "#7201a8"
             ],
             [
              0.3333333333333333,
              "#9c179e"
             ],
             [
              0.4444444444444444,
              "#bd3786"
             ],
             [
              0.5555555555555556,
              "#d8576b"
             ],
             [
              0.6666666666666666,
              "#ed7953"
             ],
             [
              0.7777777777777778,
              "#fb9f3a"
             ],
             [
              0.8888888888888888,
              "#fdca26"
             ],
             [
              1,
              "#f0f921"
             ]
            ],
            "type": "surface"
           }
          ],
          "table": [
           {
            "cells": {
             "fill": {
              "color": "#EBF0F8"
             },
             "line": {
              "color": "white"
             }
            },
            "header": {
             "fill": {
              "color": "#C8D4E3"
             },
             "line": {
              "color": "white"
             }
            },
            "type": "table"
           }
          ]
         },
         "layout": {
          "annotationdefaults": {
           "arrowcolor": "#2a3f5f",
           "arrowhead": 0,
           "arrowwidth": 1
          },
          "coloraxis": {
           "colorbar": {
            "outlinewidth": 0,
            "ticks": ""
           }
          },
          "colorscale": {
           "diverging": [
            [
             0,
             "#8e0152"
            ],
            [
             0.1,
             "#c51b7d"
            ],
            [
             0.2,
             "#de77ae"
            ],
            [
             0.3,
             "#f1b6da"
            ],
            [
             0.4,
             "#fde0ef"
            ],
            [
             0.5,
             "#f7f7f7"
            ],
            [
             0.6,
             "#e6f5d0"
            ],
            [
             0.7,
             "#b8e186"
            ],
            [
             0.8,
             "#7fbc41"
            ],
            [
             0.9,
             "#4d9221"
            ],
            [
             1,
             "#276419"
            ]
           ],
           "sequential": [
            [
             0,
             "#0d0887"
            ],
            [
             0.1111111111111111,
             "#46039f"
            ],
            [
             0.2222222222222222,
             "#7201a8"
            ],
            [
             0.3333333333333333,
             "#9c179e"
            ],
            [
             0.4444444444444444,
             "#bd3786"
            ],
            [
             0.5555555555555556,
             "#d8576b"
            ],
            [
             0.6666666666666666,
             "#ed7953"
            ],
            [
             0.7777777777777778,
             "#fb9f3a"
            ],
            [
             0.8888888888888888,
             "#fdca26"
            ],
            [
             1,
             "#f0f921"
            ]
           ],
           "sequentialminus": [
            [
             0,
             "#0d0887"
            ],
            [
             0.1111111111111111,
             "#46039f"
            ],
            [
             0.2222222222222222,
             "#7201a8"
            ],
            [
             0.3333333333333333,
             "#9c179e"
            ],
            [
             0.4444444444444444,
             "#bd3786"
            ],
            [
             0.5555555555555556,
             "#d8576b"
            ],
            [
             0.6666666666666666,
             "#ed7953"
            ],
            [
             0.7777777777777778,
             "#fb9f3a"
            ],
            [
             0.8888888888888888,
             "#fdca26"
            ],
            [
             1,
             "#f0f921"
            ]
           ]
          },
          "colorway": [
           "#636efa",
           "#EF553B",
           "#00cc96",
           "#ab63fa",
           "#FFA15A",
           "#19d3f3",
           "#FF6692",
           "#B6E880",
           "#FF97FF",
           "#FECB52"
          ],
          "font": {
           "color": "#2a3f5f"
          },
          "geo": {
           "bgcolor": "white",
           "lakecolor": "white",
           "landcolor": "#E5ECF6",
           "showlakes": true,
           "showland": true,
           "subunitcolor": "white"
          },
          "hoverlabel": {
           "align": "left"
          },
          "hovermode": "closest",
          "mapbox": {
           "style": "light"
          },
          "paper_bgcolor": "white",
          "plot_bgcolor": "#E5ECF6",
          "polar": {
           "angularaxis": {
            "gridcolor": "white",
            "linecolor": "white",
            "ticks": ""
           },
           "bgcolor": "#E5ECF6",
           "radialaxis": {
            "gridcolor": "white",
            "linecolor": "white",
            "ticks": ""
           }
          },
          "scene": {
           "xaxis": {
            "backgroundcolor": "#E5ECF6",
            "gridcolor": "white",
            "gridwidth": 2,
            "linecolor": "white",
            "showbackground": true,
            "ticks": "",
            "zerolinecolor": "white"
           },
           "yaxis": {
            "backgroundcolor": "#E5ECF6",
            "gridcolor": "white",
            "gridwidth": 2,
            "linecolor": "white",
            "showbackground": true,
            "ticks": "",
            "zerolinecolor": "white"
           },
           "zaxis": {
            "backgroundcolor": "#E5ECF6",
            "gridcolor": "white",
            "gridwidth": 2,
            "linecolor": "white",
            "showbackground": true,
            "ticks": "",
            "zerolinecolor": "white"
           }
          },
          "shapedefaults": {
           "line": {
            "color": "#2a3f5f"
           }
          },
          "ternary": {
           "aaxis": {
            "gridcolor": "white",
            "linecolor": "white",
            "ticks": ""
           },
           "baxis": {
            "gridcolor": "white",
            "linecolor": "white",
            "ticks": ""
           },
           "bgcolor": "#E5ECF6",
           "caxis": {
            "gridcolor": "white",
            "linecolor": "white",
            "ticks": ""
           }
          },
          "title": {
           "x": 0.05
          },
          "xaxis": {
           "automargin": true,
           "gridcolor": "white",
           "linecolor": "white",
           "ticks": "",
           "title": {
            "standoff": 15
           },
           "zerolinecolor": "white",
           "zerolinewidth": 2
          },
          "yaxis": {
           "automargin": true,
           "gridcolor": "white",
           "linecolor": "white",
           "ticks": "",
           "title": {
            "standoff": 15
           },
           "zerolinecolor": "white",
           "zerolinewidth": 2
          }
         }
        },
        "title": {
         "font": {
          "color": "#4D5663"
         },
         "text": "Prediction by Day"
        },
        "xaxis": {
         "gridcolor": "#E1E5ED",
         "showgrid": true,
         "tickfont": {
          "color": "#4D5663"
         },
         "title": {
          "font": {
           "color": "#4D5663"
          },
          "text": "Day"
         },
         "zerolinecolor": "#E1E5ED"
        },
        "yaxis": {
         "gridcolor": "#E1E5ED",
         "showgrid": true,
         "tickfont": {
          "color": "#4D5663"
         },
         "title": {
          "font": {
           "color": "#4D5663"
          },
          "text": "Count"
         },
         "zerolinecolor": "#E1E5ED"
        }
       }
      },
      "text/html": [
       "<div>\n",
       "        \n",
       "        \n",
       "            <div id=\"f663a2bb-18ac-4602-9a31-df42592ee4f7\" class=\"plotly-graph-div\" style=\"height:525px; width:100%;\"></div>\n",
       "            <script type=\"text/javascript\">\n",
       "                require([\"plotly\"], function(Plotly) {\n",
       "                    window.PLOTLYENV=window.PLOTLYENV || {};\n",
       "                    window.PLOTLYENV.BASE_URL='https://plot.ly';\n",
       "                    \n",
       "                if (document.getElementById(\"f663a2bb-18ac-4602-9a31-df42592ee4f7\")) {\n",
       "                    Plotly.newPlot(\n",
       "                        'f663a2bb-18ac-4602-9a31-df42592ee4f7',\n",
       "                        [{\"line\": {\"color\": \"rgba(255, 153, 51, 1.0)\", \"dash\": \"solid\", \"shape\": \"linear\", \"width\": 1.3}, \"mode\": \"lines\", \"name\": \"cnt\", \"text\": \"\", \"type\": \"scatter\", \"x\": [24, 25, 26, 27, 28, 29, 30, 31], \"y\": [447443, 394938, 222332, 130322, 367404, 417795, 467775, 502274]}, {\"line\": {\"color\": \"rgba(55, 128, 191, 1.0)\", \"dash\": \"solid\", \"shape\": \"linear\", \"width\": 1.3}, \"mode\": \"lines\", \"name\": \"lr_pred\", \"text\": \"\", \"type\": \"scatter\", \"x\": [24, 25, 26, 27, 28, 29, 30, 31], \"y\": [336791.473535598, 350701.44702029956, 292448.5984206202, 281889.4190258792, 318248.1507514609, 331458.00260454544, 345532.20088617946, 341502.963631523]}, {\"line\": {\"color\": \"rgba(50, 171, 96, 1.0)\", \"dash\": \"solid\", \"shape\": \"linear\", \"width\": 1.3}, \"mode\": \"lines\", \"name\": \"rf_pred\", \"text\": \"\", \"type\": \"scatter\", \"x\": [24, 25, 26, 27, 28, 29, 30, 31], \"y\": [475871.2550000004, 417389.85000000015, 345312.72000000125, 394539.7250000001, 423968.18500000023, 439734.3200000002, 455949.60000000003, 475968.8199999998]}, {\"line\": {\"color\": \"rgba(128, 0, 128, 1.0)\", \"dash\": \"solid\", \"shape\": \"linear\", \"width\": 1.3}, \"mode\": \"lines\", \"name\": \"xgb_pred\", \"text\": \"\", \"type\": \"scatter\", \"x\": [24, 25, 26, 27, 28, 29, 30, 31], \"y\": [485765.3125, 420956.84375, 340615.84375, 403521.875, 427142.625, 439172.0, 457444.59375, 485987.25]}, {\"line\": {\"color\": \"rgba(219, 64, 82, 1.0)\", \"dash\": \"solid\", \"shape\": \"linear\", \"width\": 1.3}, \"mode\": \"lines\", \"name\": \"lgbm_pred\", \"text\": \"\", \"type\": \"scatter\", \"x\": [24, 25, 26, 27, 28, 29, 30, 31], \"y\": [488986.59072596516, 411438.39429509616, 349554.7801260669, 401485.038719265, 426022.27592867933, 436029.46130789124, 455411.75659827335, 489438.8058954687]}],\n",
       "                        {\"legend\": {\"bgcolor\": \"#F5F6F9\", \"font\": {\"color\": \"#4D5663\"}}, \"paper_bgcolor\": \"#F5F6F9\", \"plot_bgcolor\": \"#F5F6F9\", \"template\": {\"data\": {\"bar\": [{\"error_x\": {\"color\": \"#2a3f5f\"}, \"error_y\": {\"color\": \"#2a3f5f\"}, \"marker\": {\"line\": {\"color\": \"#E5ECF6\", \"width\": 0.5}}, \"type\": \"bar\"}], \"barpolar\": [{\"marker\": {\"line\": {\"color\": \"#E5ECF6\", \"width\": 0.5}}, \"type\": \"barpolar\"}], \"carpet\": [{\"aaxis\": {\"endlinecolor\": \"#2a3f5f\", \"gridcolor\": \"white\", \"linecolor\": \"white\", \"minorgridcolor\": \"white\", \"startlinecolor\": \"#2a3f5f\"}, \"baxis\": {\"endlinecolor\": \"#2a3f5f\", \"gridcolor\": \"white\", \"linecolor\": \"white\", \"minorgridcolor\": \"white\", \"startlinecolor\": \"#2a3f5f\"}, \"type\": \"carpet\"}], \"choropleth\": [{\"colorbar\": {\"outlinewidth\": 0, \"ticks\": \"\"}, \"type\": \"choropleth\"}], \"contour\": [{\"colorbar\": {\"outlinewidth\": 0, \"ticks\": \"\"}, \"colorscale\": [[0.0, \"#0d0887\"], [0.1111111111111111, \"#46039f\"], [0.2222222222222222, \"#7201a8\"], [0.3333333333333333, \"#9c179e\"], [0.4444444444444444, \"#bd3786\"], [0.5555555555555556, \"#d8576b\"], [0.6666666666666666, \"#ed7953\"], [0.7777777777777778, \"#fb9f3a\"], [0.8888888888888888, \"#fdca26\"], [1.0, \"#f0f921\"]], \"type\": \"contour\"}], \"contourcarpet\": [{\"colorbar\": {\"outlinewidth\": 0, \"ticks\": \"\"}, \"type\": \"contourcarpet\"}], \"heatmap\": [{\"colorbar\": {\"outlinewidth\": 0, \"ticks\": \"\"}, \"colorscale\": [[0.0, \"#0d0887\"], [0.1111111111111111, \"#46039f\"], [0.2222222222222222, \"#7201a8\"], [0.3333333333333333, \"#9c179e\"], [0.4444444444444444, \"#bd3786\"], [0.5555555555555556, \"#d8576b\"], [0.6666666666666666, \"#ed7953\"], [0.7777777777777778, \"#fb9f3a\"], [0.8888888888888888, \"#fdca26\"], [1.0, \"#f0f921\"]], \"type\": \"heatmap\"}], \"heatmapgl\": [{\"colorbar\": {\"outlinewidth\": 0, \"ticks\": \"\"}, \"colorscale\": [[0.0, \"#0d0887\"], [0.1111111111111111, \"#46039f\"], [0.2222222222222222, \"#7201a8\"], [0.3333333333333333, \"#9c179e\"], [0.4444444444444444, \"#bd3786\"], [0.5555555555555556, \"#d8576b\"], [0.6666666666666666, \"#ed7953\"], [0.7777777777777778, \"#fb9f3a\"], [0.8888888888888888, \"#fdca26\"], [1.0, \"#f0f921\"]], \"type\": \"heatmapgl\"}], \"histogram\": [{\"marker\": {\"colorbar\": {\"outlinewidth\": 0, \"ticks\": \"\"}}, \"type\": \"histogram\"}], \"histogram2d\": [{\"colorbar\": {\"outlinewidth\": 0, \"ticks\": \"\"}, \"colorscale\": [[0.0, \"#0d0887\"], [0.1111111111111111, \"#46039f\"], [0.2222222222222222, \"#7201a8\"], [0.3333333333333333, \"#9c179e\"], [0.4444444444444444, \"#bd3786\"], [0.5555555555555556, \"#d8576b\"], [0.6666666666666666, \"#ed7953\"], [0.7777777777777778, \"#fb9f3a\"], [0.8888888888888888, \"#fdca26\"], [1.0, \"#f0f921\"]], \"type\": \"histogram2d\"}], \"histogram2dcontour\": [{\"colorbar\": {\"outlinewidth\": 0, \"ticks\": \"\"}, \"colorscale\": [[0.0, \"#0d0887\"], [0.1111111111111111, \"#46039f\"], [0.2222222222222222, \"#7201a8\"], [0.3333333333333333, \"#9c179e\"], [0.4444444444444444, \"#bd3786\"], [0.5555555555555556, \"#d8576b\"], [0.6666666666666666, \"#ed7953\"], [0.7777777777777778, \"#fb9f3a\"], [0.8888888888888888, \"#fdca26\"], [1.0, \"#f0f921\"]], \"type\": \"histogram2dcontour\"}], \"mesh3d\": [{\"colorbar\": {\"outlinewidth\": 0, \"ticks\": \"\"}, \"type\": \"mesh3d\"}], \"parcoords\": [{\"line\": {\"colorbar\": {\"outlinewidth\": 0, \"ticks\": \"\"}}, \"type\": \"parcoords\"}], \"pie\": [{\"automargin\": true, \"type\": \"pie\"}], \"scatter\": [{\"marker\": {\"colorbar\": {\"outlinewidth\": 0, \"ticks\": \"\"}}, \"type\": \"scatter\"}], \"scatter3d\": [{\"line\": {\"colorbar\": {\"outlinewidth\": 0, \"ticks\": \"\"}}, \"marker\": {\"colorbar\": {\"outlinewidth\": 0, \"ticks\": \"\"}}, \"type\": \"scatter3d\"}], \"scattercarpet\": [{\"marker\": {\"colorbar\": {\"outlinewidth\": 0, \"ticks\": \"\"}}, \"type\": \"scattercarpet\"}], \"scattergeo\": [{\"marker\": {\"colorbar\": {\"outlinewidth\": 0, \"ticks\": \"\"}}, \"type\": \"scattergeo\"}], \"scattergl\": [{\"marker\": {\"colorbar\": {\"outlinewidth\": 0, \"ticks\": \"\"}}, \"type\": \"scattergl\"}], \"scattermapbox\": [{\"marker\": {\"colorbar\": {\"outlinewidth\": 0, \"ticks\": \"\"}}, \"type\": \"scattermapbox\"}], \"scatterpolar\": [{\"marker\": {\"colorbar\": {\"outlinewidth\": 0, \"ticks\": \"\"}}, \"type\": \"scatterpolar\"}], \"scatterpolargl\": [{\"marker\": {\"colorbar\": {\"outlinewidth\": 0, \"ticks\": \"\"}}, \"type\": \"scatterpolargl\"}], \"scatterternary\": [{\"marker\": {\"colorbar\": {\"outlinewidth\": 0, \"ticks\": \"\"}}, \"type\": \"scatterternary\"}], \"surface\": [{\"colorbar\": {\"outlinewidth\": 0, \"ticks\": \"\"}, \"colorscale\": [[0.0, \"#0d0887\"], [0.1111111111111111, \"#46039f\"], [0.2222222222222222, \"#7201a8\"], [0.3333333333333333, \"#9c179e\"], [0.4444444444444444, \"#bd3786\"], [0.5555555555555556, \"#d8576b\"], [0.6666666666666666, \"#ed7953\"], [0.7777777777777778, \"#fb9f3a\"], [0.8888888888888888, \"#fdca26\"], [1.0, \"#f0f921\"]], \"type\": \"surface\"}], \"table\": [{\"cells\": {\"fill\": {\"color\": \"#EBF0F8\"}, \"line\": {\"color\": \"white\"}}, \"header\": {\"fill\": {\"color\": \"#C8D4E3\"}, \"line\": {\"color\": \"white\"}}, \"type\": \"table\"}]}, \"layout\": {\"annotationdefaults\": {\"arrowcolor\": \"#2a3f5f\", \"arrowhead\": 0, \"arrowwidth\": 1}, \"coloraxis\": {\"colorbar\": {\"outlinewidth\": 0, \"ticks\": \"\"}}, \"colorscale\": {\"diverging\": [[0, \"#8e0152\"], [0.1, \"#c51b7d\"], [0.2, \"#de77ae\"], [0.3, \"#f1b6da\"], [0.4, \"#fde0ef\"], [0.5, \"#f7f7f7\"], [0.6, \"#e6f5d0\"], [0.7, \"#b8e186\"], [0.8, \"#7fbc41\"], [0.9, \"#4d9221\"], [1, \"#276419\"]], \"sequential\": [[0.0, \"#0d0887\"], [0.1111111111111111, \"#46039f\"], [0.2222222222222222, \"#7201a8\"], [0.3333333333333333, \"#9c179e\"], [0.4444444444444444, \"#bd3786\"], [0.5555555555555556, \"#d8576b\"], [0.6666666666666666, \"#ed7953\"], [0.7777777777777778, \"#fb9f3a\"], [0.8888888888888888, \"#fdca26\"], [1.0, \"#f0f921\"]], \"sequentialminus\": [[0.0, \"#0d0887\"], [0.1111111111111111, \"#46039f\"], [0.2222222222222222, \"#7201a8\"], [0.3333333333333333, \"#9c179e\"], [0.4444444444444444, \"#bd3786\"], [0.5555555555555556, \"#d8576b\"], [0.6666666666666666, \"#ed7953\"], [0.7777777777777778, \"#fb9f3a\"], [0.8888888888888888, \"#fdca26\"], [1.0, \"#f0f921\"]]}, \"colorway\": [\"#636efa\", \"#EF553B\", \"#00cc96\", \"#ab63fa\", \"#FFA15A\", \"#19d3f3\", \"#FF6692\", \"#B6E880\", \"#FF97FF\", \"#FECB52\"], \"font\": {\"color\": \"#2a3f5f\"}, \"geo\": {\"bgcolor\": \"white\", \"lakecolor\": \"white\", \"landcolor\": \"#E5ECF6\", \"showlakes\": true, \"showland\": true, \"subunitcolor\": \"white\"}, \"hoverlabel\": {\"align\": \"left\"}, \"hovermode\": \"closest\", \"mapbox\": {\"style\": \"light\"}, \"paper_bgcolor\": \"white\", \"plot_bgcolor\": \"#E5ECF6\", \"polar\": {\"angularaxis\": {\"gridcolor\": \"white\", \"linecolor\": \"white\", \"ticks\": \"\"}, \"bgcolor\": \"#E5ECF6\", \"radialaxis\": {\"gridcolor\": \"white\", \"linecolor\": \"white\", \"ticks\": \"\"}}, \"scene\": {\"xaxis\": {\"backgroundcolor\": \"#E5ECF6\", \"gridcolor\": \"white\", \"gridwidth\": 2, \"linecolor\": \"white\", \"showbackground\": true, \"ticks\": \"\", \"zerolinecolor\": \"white\"}, \"yaxis\": {\"backgroundcolor\": \"#E5ECF6\", \"gridcolor\": \"white\", \"gridwidth\": 2, \"linecolor\": \"white\", \"showbackground\": true, \"ticks\": \"\", \"zerolinecolor\": \"white\"}, \"zaxis\": {\"backgroundcolor\": \"#E5ECF6\", \"gridcolor\": \"white\", \"gridwidth\": 2, \"linecolor\": \"white\", \"showbackground\": true, \"ticks\": \"\", \"zerolinecolor\": \"white\"}}, \"shapedefaults\": {\"line\": {\"color\": \"#2a3f5f\"}}, \"ternary\": {\"aaxis\": {\"gridcolor\": \"white\", \"linecolor\": \"white\", \"ticks\": \"\"}, \"baxis\": {\"gridcolor\": \"white\", \"linecolor\": \"white\", \"ticks\": \"\"}, \"bgcolor\": \"#E5ECF6\", \"caxis\": {\"gridcolor\": \"white\", \"linecolor\": \"white\", \"ticks\": \"\"}}, \"title\": {\"x\": 0.05}, \"xaxis\": {\"automargin\": true, \"gridcolor\": \"white\", \"linecolor\": \"white\", \"ticks\": \"\", \"title\": {\"standoff\": 15}, \"zerolinecolor\": \"white\", \"zerolinewidth\": 2}, \"yaxis\": {\"automargin\": true, \"gridcolor\": \"white\", \"linecolor\": \"white\", \"ticks\": \"\", \"title\": {\"standoff\": 15}, \"zerolinecolor\": \"white\", \"zerolinewidth\": 2}}}, \"title\": {\"font\": {\"color\": \"#4D5663\"}, \"text\": \"Prediction by Day\"}, \"xaxis\": {\"gridcolor\": \"#E1E5ED\", \"showgrid\": true, \"tickfont\": {\"color\": \"#4D5663\"}, \"title\": {\"font\": {\"color\": \"#4D5663\"}, \"text\": \"Day\"}, \"zerolinecolor\": \"#E1E5ED\"}, \"yaxis\": {\"gridcolor\": \"#E1E5ED\", \"showgrid\": true, \"tickfont\": {\"color\": \"#4D5663\"}, \"title\": {\"font\": {\"color\": \"#4D5663\"}, \"text\": \"Count\"}, \"zerolinecolor\": \"#E1E5ED\"}},\n",
       "                        {\"showLink\": true, \"linkText\": \"Export to plot.ly\", \"plotlyServerURL\": \"https://plot.ly\", \"responsive\": true}\n",
       "                    ).then(function(){\n",
       "                            \n",
       "var gd = document.getElementById('f663a2bb-18ac-4602-9a31-df42592ee4f7');\n",
       "var x = new MutationObserver(function (mutations, observer) {{\n",
       "        var display = window.getComputedStyle(gd).display;\n",
       "        if (!display || display === 'none') {{\n",
       "            console.log([gd, 'removed!']);\n",
       "            Plotly.purge(gd);\n",
       "            observer.disconnect();\n",
       "        }}\n",
       "}});\n",
       "\n",
       "// Listen for the removal of the full notebook cells\n",
       "var notebookContainer = gd.closest('#notebook-container');\n",
       "if (notebookContainer) {{\n",
       "    x.observe(notebookContainer, {childList: true});\n",
       "}}\n",
       "\n",
       "// Listen for the clearing of the current output cell\n",
       "var outputEl = gd.closest('.output');\n",
       "if (outputEl) {{\n",
       "    x.observe(outputEl, {childList: true});\n",
       "}}\n",
       "\n",
       "                        })\n",
       "                };\n",
       "                });\n",
       "            </script>\n",
       "        </div>"
      ]
     },
     "metadata": {},
     "output_type": "display_data"
    }
   ],
   "source": [
    "test_df.groupby('day')['cnt','lr_pred','rf_pred','xgb_pred','lgbm_pred','zip_code'].sum().iplot(kind='scatter', title='Prediction by Day', xTitle='Day', yTitle='Count')"
   ]
  },
  {
   "cell_type": "markdown",
   "metadata": {},
   "source": [
    "<img src=\"https://github.com/jiyoungsim/BigQuery-NYC-Taxi-Demand--EDA-and-Prediction/blob/master/figs/pred_by_day.png?raw=true\">"
   ]
  },
  {
   "cell_type": "code",
   "execution_count": 80,
   "metadata": {},
   "outputs": [
    {
     "data": {
      "application/vnd.plotly.v1+json": {
       "config": {
        "linkText": "Export to plot.ly",
        "plotlyServerURL": "https://plot.ly",
        "showLink": true
       },
       "data": [
        {
         "marker": {
          "color": "rgba(255, 153, 51, 0.6)",
          "line": {
           "color": "rgba(255, 153, 51, 1.0)",
           "width": 1
          }
         },
         "name": "cnt",
         "orientation": "v",
         "text": "",
         "type": "bar",
         "x": [
          "Weekday",
          "Weekend"
         ],
         "y": [
          1605628,
          1344655
         ]
        },
        {
         "marker": {
          "color": "rgba(55, 128, 191, 0.6)",
          "line": {
           "color": "rgba(55, 128, 191, 1.0)",
           "width": 1
          }
         },
         "name": "lr_pred",
         "orientation": "v",
         "text": "",
         "type": "bar",
         "x": [
          "Weekday",
          "Weekend"
         ],
         "y": [
          1569576.3716886921,
          1028995.8841874241
         ]
        },
        {
         "marker": {
          "color": "rgba(50, 171, 96, 0.6)",
          "line": {
           "color": "rgba(50, 171, 96, 1.0)",
           "width": 1
          }
         },
         "name": "rf_pred",
         "orientation": "v",
         "text": "",
         "type": "bar",
         "x": [
          "Weekday",
          "Weekend"
         ],
         "y": [
          2059504.550000001,
          1369229.9250000012
         ]
        },
        {
         "marker": {
          "color": "rgba(128, 0, 128, 0.6)",
          "line": {
           "color": "rgba(128, 0, 128, 1.0)",
           "width": 1
          }
         },
         "name": "xgb_pred",
         "orientation": "v",
         "text": "",
         "type": "bar",
         "x": [
          "Weekday",
          "Weekend"
         ],
         "y": [
          2067897,
          1392709.375
         ]
        },
        {
         "marker": {
          "color": "rgba(219, 64, 82, 0.6)",
          "line": {
           "color": "rgba(219, 64, 82, 1.0)",
           "width": 1
          }
         },
         "name": "lgbm_pred",
         "orientation": "v",
         "text": "",
         "type": "bar",
         "x": [
          "Weekday",
          "Weekend"
         ],
         "y": [
          2068503.3126801755,
          1389863.7909165244
         ]
        }
       ],
       "layout": {
        "legend": {
         "bgcolor": "#F5F6F9",
         "font": {
          "color": "#4D5663"
         }
        },
        "paper_bgcolor": "#F5F6F9",
        "plot_bgcolor": "#F5F6F9",
        "template": {
         "data": {
          "bar": [
           {
            "error_x": {
             "color": "#2a3f5f"
            },
            "error_y": {
             "color": "#2a3f5f"
            },
            "marker": {
             "line": {
              "color": "#E5ECF6",
              "width": 0.5
             }
            },
            "type": "bar"
           }
          ],
          "barpolar": [
           {
            "marker": {
             "line": {
              "color": "#E5ECF6",
              "width": 0.5
             }
            },
            "type": "barpolar"
           }
          ],
          "carpet": [
           {
            "aaxis": {
             "endlinecolor": "#2a3f5f",
             "gridcolor": "white",
             "linecolor": "white",
             "minorgridcolor": "white",
             "startlinecolor": "#2a3f5f"
            },
            "baxis": {
             "endlinecolor": "#2a3f5f",
             "gridcolor": "white",
             "linecolor": "white",
             "minorgridcolor": "white",
             "startlinecolor": "#2a3f5f"
            },
            "type": "carpet"
           }
          ],
          "choropleth": [
           {
            "colorbar": {
             "outlinewidth": 0,
             "ticks": ""
            },
            "type": "choropleth"
           }
          ],
          "contour": [
           {
            "colorbar": {
             "outlinewidth": 0,
             "ticks": ""
            },
            "colorscale": [
             [
              0,
              "#0d0887"
             ],
             [
              0.1111111111111111,
              "#46039f"
             ],
             [
              0.2222222222222222,
              "#7201a8"
             ],
             [
              0.3333333333333333,
              "#9c179e"
             ],
             [
              0.4444444444444444,
              "#bd3786"
             ],
             [
              0.5555555555555556,
              "#d8576b"
             ],
             [
              0.6666666666666666,
              "#ed7953"
             ],
             [
              0.7777777777777778,
              "#fb9f3a"
             ],
             [
              0.8888888888888888,
              "#fdca26"
             ],
             [
              1,
              "#f0f921"
             ]
            ],
            "type": "contour"
           }
          ],
          "contourcarpet": [
           {
            "colorbar": {
             "outlinewidth": 0,
             "ticks": ""
            },
            "type": "contourcarpet"
           }
          ],
          "heatmap": [
           {
            "colorbar": {
             "outlinewidth": 0,
             "ticks": ""
            },
            "colorscale": [
             [
              0,
              "#0d0887"
             ],
             [
              0.1111111111111111,
              "#46039f"
             ],
             [
              0.2222222222222222,
              "#7201a8"
             ],
             [
              0.3333333333333333,
              "#9c179e"
             ],
             [
              0.4444444444444444,
              "#bd3786"
             ],
             [
              0.5555555555555556,
              "#d8576b"
             ],
             [
              0.6666666666666666,
              "#ed7953"
             ],
             [
              0.7777777777777778,
              "#fb9f3a"
             ],
             [
              0.8888888888888888,
              "#fdca26"
             ],
             [
              1,
              "#f0f921"
             ]
            ],
            "type": "heatmap"
           }
          ],
          "heatmapgl": [
           {
            "colorbar": {
             "outlinewidth": 0,
             "ticks": ""
            },
            "colorscale": [
             [
              0,
              "#0d0887"
             ],
             [
              0.1111111111111111,
              "#46039f"
             ],
             [
              0.2222222222222222,
              "#7201a8"
             ],
             [
              0.3333333333333333,
              "#9c179e"
             ],
             [
              0.4444444444444444,
              "#bd3786"
             ],
             [
              0.5555555555555556,
              "#d8576b"
             ],
             [
              0.6666666666666666,
              "#ed7953"
             ],
             [
              0.7777777777777778,
              "#fb9f3a"
             ],
             [
              0.8888888888888888,
              "#fdca26"
             ],
             [
              1,
              "#f0f921"
             ]
            ],
            "type": "heatmapgl"
           }
          ],
          "histogram": [
           {
            "marker": {
             "colorbar": {
              "outlinewidth": 0,
              "ticks": ""
             }
            },
            "type": "histogram"
           }
          ],
          "histogram2d": [
           {
            "colorbar": {
             "outlinewidth": 0,
             "ticks": ""
            },
            "colorscale": [
             [
              0,
              "#0d0887"
             ],
             [
              0.1111111111111111,
              "#46039f"
             ],
             [
              0.2222222222222222,
              "#7201a8"
             ],
             [
              0.3333333333333333,
              "#9c179e"
             ],
             [
              0.4444444444444444,
              "#bd3786"
             ],
             [
              0.5555555555555556,
              "#d8576b"
             ],
             [
              0.6666666666666666,
              "#ed7953"
             ],
             [
              0.7777777777777778,
              "#fb9f3a"
             ],
             [
              0.8888888888888888,
              "#fdca26"
             ],
             [
              1,
              "#f0f921"
             ]
            ],
            "type": "histogram2d"
           }
          ],
          "histogram2dcontour": [
           {
            "colorbar": {
             "outlinewidth": 0,
             "ticks": ""
            },
            "colorscale": [
             [
              0,
              "#0d0887"
             ],
             [
              0.1111111111111111,
              "#46039f"
             ],
             [
              0.2222222222222222,
              "#7201a8"
             ],
             [
              0.3333333333333333,
              "#9c179e"
             ],
             [
              0.4444444444444444,
              "#bd3786"
             ],
             [
              0.5555555555555556,
              "#d8576b"
             ],
             [
              0.6666666666666666,
              "#ed7953"
             ],
             [
              0.7777777777777778,
              "#fb9f3a"
             ],
             [
              0.8888888888888888,
              "#fdca26"
             ],
             [
              1,
              "#f0f921"
             ]
            ],
            "type": "histogram2dcontour"
           }
          ],
          "mesh3d": [
           {
            "colorbar": {
             "outlinewidth": 0,
             "ticks": ""
            },
            "type": "mesh3d"
           }
          ],
          "parcoords": [
           {
            "line": {
             "colorbar": {
              "outlinewidth": 0,
              "ticks": ""
             }
            },
            "type": "parcoords"
           }
          ],
          "pie": [
           {
            "automargin": true,
            "type": "pie"
           }
          ],
          "scatter": [
           {
            "marker": {
             "colorbar": {
              "outlinewidth": 0,
              "ticks": ""
             }
            },
            "type": "scatter"
           }
          ],
          "scatter3d": [
           {
            "line": {
             "colorbar": {
              "outlinewidth": 0,
              "ticks": ""
             }
            },
            "marker": {
             "colorbar": {
              "outlinewidth": 0,
              "ticks": ""
             }
            },
            "type": "scatter3d"
           }
          ],
          "scattercarpet": [
           {
            "marker": {
             "colorbar": {
              "outlinewidth": 0,
              "ticks": ""
             }
            },
            "type": "scattercarpet"
           }
          ],
          "scattergeo": [
           {
            "marker": {
             "colorbar": {
              "outlinewidth": 0,
              "ticks": ""
             }
            },
            "type": "scattergeo"
           }
          ],
          "scattergl": [
           {
            "marker": {
             "colorbar": {
              "outlinewidth": 0,
              "ticks": ""
             }
            },
            "type": "scattergl"
           }
          ],
          "scattermapbox": [
           {
            "marker": {
             "colorbar": {
              "outlinewidth": 0,
              "ticks": ""
             }
            },
            "type": "scattermapbox"
           }
          ],
          "scatterpolar": [
           {
            "marker": {
             "colorbar": {
              "outlinewidth": 0,
              "ticks": ""
             }
            },
            "type": "scatterpolar"
           }
          ],
          "scatterpolargl": [
           {
            "marker": {
             "colorbar": {
              "outlinewidth": 0,
              "ticks": ""
             }
            },
            "type": "scatterpolargl"
           }
          ],
          "scatterternary": [
           {
            "marker": {
             "colorbar": {
              "outlinewidth": 0,
              "ticks": ""
             }
            },
            "type": "scatterternary"
           }
          ],
          "surface": [
           {
            "colorbar": {
             "outlinewidth": 0,
             "ticks": ""
            },
            "colorscale": [
             [
              0,
              "#0d0887"
             ],
             [
              0.1111111111111111,
              "#46039f"
             ],
             [
              0.2222222222222222,
              "#7201a8"
             ],
             [
              0.3333333333333333,
              "#9c179e"
             ],
             [
              0.4444444444444444,
              "#bd3786"
             ],
             [
              0.5555555555555556,
              "#d8576b"
             ],
             [
              0.6666666666666666,
              "#ed7953"
             ],
             [
              0.7777777777777778,
              "#fb9f3a"
             ],
             [
              0.8888888888888888,
              "#fdca26"
             ],
             [
              1,
              "#f0f921"
             ]
            ],
            "type": "surface"
           }
          ],
          "table": [
           {
            "cells": {
             "fill": {
              "color": "#EBF0F8"
             },
             "line": {
              "color": "white"
             }
            },
            "header": {
             "fill": {
              "color": "#C8D4E3"
             },
             "line": {
              "color": "white"
             }
            },
            "type": "table"
           }
          ]
         },
         "layout": {
          "annotationdefaults": {
           "arrowcolor": "#2a3f5f",
           "arrowhead": 0,
           "arrowwidth": 1
          },
          "coloraxis": {
           "colorbar": {
            "outlinewidth": 0,
            "ticks": ""
           }
          },
          "colorscale": {
           "diverging": [
            [
             0,
             "#8e0152"
            ],
            [
             0.1,
             "#c51b7d"
            ],
            [
             0.2,
             "#de77ae"
            ],
            [
             0.3,
             "#f1b6da"
            ],
            [
             0.4,
             "#fde0ef"
            ],
            [
             0.5,
             "#f7f7f7"
            ],
            [
             0.6,
             "#e6f5d0"
            ],
            [
             0.7,
             "#b8e186"
            ],
            [
             0.8,
             "#7fbc41"
            ],
            [
             0.9,
             "#4d9221"
            ],
            [
             1,
             "#276419"
            ]
           ],
           "sequential": [
            [
             0,
             "#0d0887"
            ],
            [
             0.1111111111111111,
             "#46039f"
            ],
            [
             0.2222222222222222,
             "#7201a8"
            ],
            [
             0.3333333333333333,
             "#9c179e"
            ],
            [
             0.4444444444444444,
             "#bd3786"
            ],
            [
             0.5555555555555556,
             "#d8576b"
            ],
            [
             0.6666666666666666,
             "#ed7953"
            ],
            [
             0.7777777777777778,
             "#fb9f3a"
            ],
            [
             0.8888888888888888,
             "#fdca26"
            ],
            [
             1,
             "#f0f921"
            ]
           ],
           "sequentialminus": [
            [
             0,
             "#0d0887"
            ],
            [
             0.1111111111111111,
             "#46039f"
            ],
            [
             0.2222222222222222,
             "#7201a8"
            ],
            [
             0.3333333333333333,
             "#9c179e"
            ],
            [
             0.4444444444444444,
             "#bd3786"
            ],
            [
             0.5555555555555556,
             "#d8576b"
            ],
            [
             0.6666666666666666,
             "#ed7953"
            ],
            [
             0.7777777777777778,
             "#fb9f3a"
            ],
            [
             0.8888888888888888,
             "#fdca26"
            ],
            [
             1,
             "#f0f921"
            ]
           ]
          },
          "colorway": [
           "#636efa",
           "#EF553B",
           "#00cc96",
           "#ab63fa",
           "#FFA15A",
           "#19d3f3",
           "#FF6692",
           "#B6E880",
           "#FF97FF",
           "#FECB52"
          ],
          "font": {
           "color": "#2a3f5f"
          },
          "geo": {
           "bgcolor": "white",
           "lakecolor": "white",
           "landcolor": "#E5ECF6",
           "showlakes": true,
           "showland": true,
           "subunitcolor": "white"
          },
          "hoverlabel": {
           "align": "left"
          },
          "hovermode": "closest",
          "mapbox": {
           "style": "light"
          },
          "paper_bgcolor": "white",
          "plot_bgcolor": "#E5ECF6",
          "polar": {
           "angularaxis": {
            "gridcolor": "white",
            "linecolor": "white",
            "ticks": ""
           },
           "bgcolor": "#E5ECF6",
           "radialaxis": {
            "gridcolor": "white",
            "linecolor": "white",
            "ticks": ""
           }
          },
          "scene": {
           "xaxis": {
            "backgroundcolor": "#E5ECF6",
            "gridcolor": "white",
            "gridwidth": 2,
            "linecolor": "white",
            "showbackground": true,
            "ticks": "",
            "zerolinecolor": "white"
           },
           "yaxis": {
            "backgroundcolor": "#E5ECF6",
            "gridcolor": "white",
            "gridwidth": 2,
            "linecolor": "white",
            "showbackground": true,
            "ticks": "",
            "zerolinecolor": "white"
           },
           "zaxis": {
            "backgroundcolor": "#E5ECF6",
            "gridcolor": "white",
            "gridwidth": 2,
            "linecolor": "white",
            "showbackground": true,
            "ticks": "",
            "zerolinecolor": "white"
           }
          },
          "shapedefaults": {
           "line": {
            "color": "#2a3f5f"
           }
          },
          "ternary": {
           "aaxis": {
            "gridcolor": "white",
            "linecolor": "white",
            "ticks": ""
           },
           "baxis": {
            "gridcolor": "white",
            "linecolor": "white",
            "ticks": ""
           },
           "bgcolor": "#E5ECF6",
           "caxis": {
            "gridcolor": "white",
            "linecolor": "white",
            "ticks": ""
           }
          },
          "title": {
           "x": 0.05
          },
          "xaxis": {
           "automargin": true,
           "gridcolor": "white",
           "linecolor": "white",
           "ticks": "",
           "title": {
            "standoff": 15
           },
           "zerolinecolor": "white",
           "zerolinewidth": 2
          },
          "yaxis": {
           "automargin": true,
           "gridcolor": "white",
           "linecolor": "white",
           "ticks": "",
           "title": {
            "standoff": 15
           },
           "zerolinecolor": "white",
           "zerolinewidth": 2
          }
         }
        },
        "title": {
         "font": {
          "color": "#4D5663"
         },
         "text": "Prediction by Weekday/Weekend"
        },
        "xaxis": {
         "gridcolor": "#E1E5ED",
         "showgrid": true,
         "tickfont": {
          "color": "#4D5663"
         },
         "title": {
          "font": {
           "color": "#4D5663"
          },
          "text": ""
         },
         "zerolinecolor": "#E1E5ED"
        },
        "yaxis": {
         "gridcolor": "#E1E5ED",
         "showgrid": true,
         "tickfont": {
          "color": "#4D5663"
         },
         "title": {
          "font": {
           "color": "#4D5663"
          },
          "text": "Count"
         },
         "zerolinecolor": "#E1E5ED"
        }
       }
      },
      "text/html": [
       "<div>\n",
       "        \n",
       "        \n",
       "            <div id=\"7c65e52d-eb76-467f-b0a0-0df06c32a1ee\" class=\"plotly-graph-div\" style=\"height:525px; width:100%;\"></div>\n",
       "            <script type=\"text/javascript\">\n",
       "                require([\"plotly\"], function(Plotly) {\n",
       "                    window.PLOTLYENV=window.PLOTLYENV || {};\n",
       "                    window.PLOTLYENV.BASE_URL='https://plot.ly';\n",
       "                    \n",
       "                if (document.getElementById(\"7c65e52d-eb76-467f-b0a0-0df06c32a1ee\")) {\n",
       "                    Plotly.newPlot(\n",
       "                        '7c65e52d-eb76-467f-b0a0-0df06c32a1ee',\n",
       "                        [{\"marker\": {\"color\": \"rgba(255, 153, 51, 0.6)\", \"line\": {\"color\": \"rgba(255, 153, 51, 1.0)\", \"width\": 1}}, \"name\": \"cnt\", \"orientation\": \"v\", \"text\": \"\", \"type\": \"bar\", \"x\": [\"Weekday\", \"Weekend\"], \"y\": [1605628, 1344655]}, {\"marker\": {\"color\": \"rgba(55, 128, 191, 0.6)\", \"line\": {\"color\": \"rgba(55, 128, 191, 1.0)\", \"width\": 1}}, \"name\": \"lr_pred\", \"orientation\": \"v\", \"text\": \"\", \"type\": \"bar\", \"x\": [\"Weekday\", \"Weekend\"], \"y\": [1569576.3716886921, 1028995.8841874241]}, {\"marker\": {\"color\": \"rgba(50, 171, 96, 0.6)\", \"line\": {\"color\": \"rgba(50, 171, 96, 1.0)\", \"width\": 1}}, \"name\": \"rf_pred\", \"orientation\": \"v\", \"text\": \"\", \"type\": \"bar\", \"x\": [\"Weekday\", \"Weekend\"], \"y\": [2059504.550000001, 1369229.9250000012]}, {\"marker\": {\"color\": \"rgba(128, 0, 128, 0.6)\", \"line\": {\"color\": \"rgba(128, 0, 128, 1.0)\", \"width\": 1}}, \"name\": \"xgb_pred\", \"orientation\": \"v\", \"text\": \"\", \"type\": \"bar\", \"x\": [\"Weekday\", \"Weekend\"], \"y\": [2067897.0, 1392709.375]}, {\"marker\": {\"color\": \"rgba(219, 64, 82, 0.6)\", \"line\": {\"color\": \"rgba(219, 64, 82, 1.0)\", \"width\": 1}}, \"name\": \"lgbm_pred\", \"orientation\": \"v\", \"text\": \"\", \"type\": \"bar\", \"x\": [\"Weekday\", \"Weekend\"], \"y\": [2068503.3126801755, 1389863.7909165244]}],\n",
       "                        {\"legend\": {\"bgcolor\": \"#F5F6F9\", \"font\": {\"color\": \"#4D5663\"}}, \"paper_bgcolor\": \"#F5F6F9\", \"plot_bgcolor\": \"#F5F6F9\", \"template\": {\"data\": {\"bar\": [{\"error_x\": {\"color\": \"#2a3f5f\"}, \"error_y\": {\"color\": \"#2a3f5f\"}, \"marker\": {\"line\": {\"color\": \"#E5ECF6\", \"width\": 0.5}}, \"type\": \"bar\"}], \"barpolar\": [{\"marker\": {\"line\": {\"color\": \"#E5ECF6\", \"width\": 0.5}}, \"type\": \"barpolar\"}], \"carpet\": [{\"aaxis\": {\"endlinecolor\": \"#2a3f5f\", \"gridcolor\": \"white\", \"linecolor\": \"white\", \"minorgridcolor\": \"white\", \"startlinecolor\": \"#2a3f5f\"}, \"baxis\": {\"endlinecolor\": \"#2a3f5f\", \"gridcolor\": \"white\", \"linecolor\": \"white\", \"minorgridcolor\": \"white\", \"startlinecolor\": \"#2a3f5f\"}, \"type\": \"carpet\"}], \"choropleth\": [{\"colorbar\": {\"outlinewidth\": 0, \"ticks\": \"\"}, \"type\": \"choropleth\"}], \"contour\": [{\"colorbar\": {\"outlinewidth\": 0, \"ticks\": \"\"}, \"colorscale\": [[0.0, \"#0d0887\"], [0.1111111111111111, \"#46039f\"], [0.2222222222222222, \"#7201a8\"], [0.3333333333333333, \"#9c179e\"], [0.4444444444444444, \"#bd3786\"], [0.5555555555555556, \"#d8576b\"], [0.6666666666666666, \"#ed7953\"], [0.7777777777777778, \"#fb9f3a\"], [0.8888888888888888, \"#fdca26\"], [1.0, \"#f0f921\"]], \"type\": \"contour\"}], \"contourcarpet\": [{\"colorbar\": {\"outlinewidth\": 0, \"ticks\": \"\"}, \"type\": \"contourcarpet\"}], \"heatmap\": [{\"colorbar\": {\"outlinewidth\": 0, \"ticks\": \"\"}, \"colorscale\": [[0.0, \"#0d0887\"], [0.1111111111111111, \"#46039f\"], [0.2222222222222222, \"#7201a8\"], [0.3333333333333333, \"#9c179e\"], [0.4444444444444444, \"#bd3786\"], [0.5555555555555556, \"#d8576b\"], [0.6666666666666666, \"#ed7953\"], [0.7777777777777778, \"#fb9f3a\"], [0.8888888888888888, \"#fdca26\"], [1.0, \"#f0f921\"]], \"type\": \"heatmap\"}], \"heatmapgl\": [{\"colorbar\": {\"outlinewidth\": 0, \"ticks\": \"\"}, \"colorscale\": [[0.0, \"#0d0887\"], [0.1111111111111111, \"#46039f\"], [0.2222222222222222, \"#7201a8\"], [0.3333333333333333, \"#9c179e\"], [0.4444444444444444, \"#bd3786\"], [0.5555555555555556, \"#d8576b\"], [0.6666666666666666, \"#ed7953\"], [0.7777777777777778, \"#fb9f3a\"], [0.8888888888888888, \"#fdca26\"], [1.0, \"#f0f921\"]], \"type\": \"heatmapgl\"}], \"histogram\": [{\"marker\": {\"colorbar\": {\"outlinewidth\": 0, \"ticks\": \"\"}}, \"type\": \"histogram\"}], \"histogram2d\": [{\"colorbar\": {\"outlinewidth\": 0, \"ticks\": \"\"}, \"colorscale\": [[0.0, \"#0d0887\"], [0.1111111111111111, \"#46039f\"], [0.2222222222222222, \"#7201a8\"], [0.3333333333333333, \"#9c179e\"], [0.4444444444444444, \"#bd3786\"], [0.5555555555555556, \"#d8576b\"], [0.6666666666666666, \"#ed7953\"], [0.7777777777777778, \"#fb9f3a\"], [0.8888888888888888, \"#fdca26\"], [1.0, \"#f0f921\"]], \"type\": \"histogram2d\"}], \"histogram2dcontour\": [{\"colorbar\": {\"outlinewidth\": 0, \"ticks\": \"\"}, \"colorscale\": [[0.0, \"#0d0887\"], [0.1111111111111111, \"#46039f\"], [0.2222222222222222, \"#7201a8\"], [0.3333333333333333, \"#9c179e\"], [0.4444444444444444, \"#bd3786\"], [0.5555555555555556, \"#d8576b\"], [0.6666666666666666, \"#ed7953\"], [0.7777777777777778, \"#fb9f3a\"], [0.8888888888888888, \"#fdca26\"], [1.0, \"#f0f921\"]], \"type\": \"histogram2dcontour\"}], \"mesh3d\": [{\"colorbar\": {\"outlinewidth\": 0, \"ticks\": \"\"}, \"type\": \"mesh3d\"}], \"parcoords\": [{\"line\": {\"colorbar\": {\"outlinewidth\": 0, \"ticks\": \"\"}}, \"type\": \"parcoords\"}], \"pie\": [{\"automargin\": true, \"type\": \"pie\"}], \"scatter\": [{\"marker\": {\"colorbar\": {\"outlinewidth\": 0, \"ticks\": \"\"}}, \"type\": \"scatter\"}], \"scatter3d\": [{\"line\": {\"colorbar\": {\"outlinewidth\": 0, \"ticks\": \"\"}}, \"marker\": {\"colorbar\": {\"outlinewidth\": 0, \"ticks\": \"\"}}, \"type\": \"scatter3d\"}], \"scattercarpet\": [{\"marker\": {\"colorbar\": {\"outlinewidth\": 0, \"ticks\": \"\"}}, \"type\": \"scattercarpet\"}], \"scattergeo\": [{\"marker\": {\"colorbar\": {\"outlinewidth\": 0, \"ticks\": \"\"}}, \"type\": \"scattergeo\"}], \"scattergl\": [{\"marker\": {\"colorbar\": {\"outlinewidth\": 0, \"ticks\": \"\"}}, \"type\": \"scattergl\"}], \"scattermapbox\": [{\"marker\": {\"colorbar\": {\"outlinewidth\": 0, \"ticks\": \"\"}}, \"type\": \"scattermapbox\"}], \"scatterpolar\": [{\"marker\": {\"colorbar\": {\"outlinewidth\": 0, \"ticks\": \"\"}}, \"type\": \"scatterpolar\"}], \"scatterpolargl\": [{\"marker\": {\"colorbar\": {\"outlinewidth\": 0, \"ticks\": \"\"}}, \"type\": \"scatterpolargl\"}], \"scatterternary\": [{\"marker\": {\"colorbar\": {\"outlinewidth\": 0, \"ticks\": \"\"}}, \"type\": \"scatterternary\"}], \"surface\": [{\"colorbar\": {\"outlinewidth\": 0, \"ticks\": \"\"}, \"colorscale\": [[0.0, \"#0d0887\"], [0.1111111111111111, \"#46039f\"], [0.2222222222222222, \"#7201a8\"], [0.3333333333333333, \"#9c179e\"], [0.4444444444444444, \"#bd3786\"], [0.5555555555555556, \"#d8576b\"], [0.6666666666666666, \"#ed7953\"], [0.7777777777777778, \"#fb9f3a\"], [0.8888888888888888, \"#fdca26\"], [1.0, \"#f0f921\"]], \"type\": \"surface\"}], \"table\": [{\"cells\": {\"fill\": {\"color\": \"#EBF0F8\"}, \"line\": {\"color\": \"white\"}}, \"header\": {\"fill\": {\"color\": \"#C8D4E3\"}, \"line\": {\"color\": \"white\"}}, \"type\": \"table\"}]}, \"layout\": {\"annotationdefaults\": {\"arrowcolor\": \"#2a3f5f\", \"arrowhead\": 0, \"arrowwidth\": 1}, \"coloraxis\": {\"colorbar\": {\"outlinewidth\": 0, \"ticks\": \"\"}}, \"colorscale\": {\"diverging\": [[0, \"#8e0152\"], [0.1, \"#c51b7d\"], [0.2, \"#de77ae\"], [0.3, \"#f1b6da\"], [0.4, \"#fde0ef\"], [0.5, \"#f7f7f7\"], [0.6, \"#e6f5d0\"], [0.7, \"#b8e186\"], [0.8, \"#7fbc41\"], [0.9, \"#4d9221\"], [1, \"#276419\"]], \"sequential\": [[0.0, \"#0d0887\"], [0.1111111111111111, \"#46039f\"], [0.2222222222222222, \"#7201a8\"], [0.3333333333333333, \"#9c179e\"], [0.4444444444444444, \"#bd3786\"], [0.5555555555555556, \"#d8576b\"], [0.6666666666666666, \"#ed7953\"], [0.7777777777777778, \"#fb9f3a\"], [0.8888888888888888, \"#fdca26\"], [1.0, \"#f0f921\"]], \"sequentialminus\": [[0.0, \"#0d0887\"], [0.1111111111111111, \"#46039f\"], [0.2222222222222222, \"#7201a8\"], [0.3333333333333333, \"#9c179e\"], [0.4444444444444444, \"#bd3786\"], [0.5555555555555556, \"#d8576b\"], [0.6666666666666666, \"#ed7953\"], [0.7777777777777778, \"#fb9f3a\"], [0.8888888888888888, \"#fdca26\"], [1.0, \"#f0f921\"]]}, \"colorway\": [\"#636efa\", \"#EF553B\", \"#00cc96\", \"#ab63fa\", \"#FFA15A\", \"#19d3f3\", \"#FF6692\", \"#B6E880\", \"#FF97FF\", \"#FECB52\"], \"font\": {\"color\": \"#2a3f5f\"}, \"geo\": {\"bgcolor\": \"white\", \"lakecolor\": \"white\", \"landcolor\": \"#E5ECF6\", \"showlakes\": true, \"showland\": true, \"subunitcolor\": \"white\"}, \"hoverlabel\": {\"align\": \"left\"}, \"hovermode\": \"closest\", \"mapbox\": {\"style\": \"light\"}, \"paper_bgcolor\": \"white\", \"plot_bgcolor\": \"#E5ECF6\", \"polar\": {\"angularaxis\": {\"gridcolor\": \"white\", \"linecolor\": \"white\", \"ticks\": \"\"}, \"bgcolor\": \"#E5ECF6\", \"radialaxis\": {\"gridcolor\": \"white\", \"linecolor\": \"white\", \"ticks\": \"\"}}, \"scene\": {\"xaxis\": {\"backgroundcolor\": \"#E5ECF6\", \"gridcolor\": \"white\", \"gridwidth\": 2, \"linecolor\": \"white\", \"showbackground\": true, \"ticks\": \"\", \"zerolinecolor\": \"white\"}, \"yaxis\": {\"backgroundcolor\": \"#E5ECF6\", \"gridcolor\": \"white\", \"gridwidth\": 2, \"linecolor\": \"white\", \"showbackground\": true, \"ticks\": \"\", \"zerolinecolor\": \"white\"}, \"zaxis\": {\"backgroundcolor\": \"#E5ECF6\", \"gridcolor\": \"white\", \"gridwidth\": 2, \"linecolor\": \"white\", \"showbackground\": true, \"ticks\": \"\", \"zerolinecolor\": \"white\"}}, \"shapedefaults\": {\"line\": {\"color\": \"#2a3f5f\"}}, \"ternary\": {\"aaxis\": {\"gridcolor\": \"white\", \"linecolor\": \"white\", \"ticks\": \"\"}, \"baxis\": {\"gridcolor\": \"white\", \"linecolor\": \"white\", \"ticks\": \"\"}, \"bgcolor\": \"#E5ECF6\", \"caxis\": {\"gridcolor\": \"white\", \"linecolor\": \"white\", \"ticks\": \"\"}}, \"title\": {\"x\": 0.05}, \"xaxis\": {\"automargin\": true, \"gridcolor\": \"white\", \"linecolor\": \"white\", \"ticks\": \"\", \"title\": {\"standoff\": 15}, \"zerolinecolor\": \"white\", \"zerolinewidth\": 2}, \"yaxis\": {\"automargin\": true, \"gridcolor\": \"white\", \"linecolor\": \"white\", \"ticks\": \"\", \"title\": {\"standoff\": 15}, \"zerolinecolor\": \"white\", \"zerolinewidth\": 2}}}, \"title\": {\"font\": {\"color\": \"#4D5663\"}, \"text\": \"Prediction by Weekday/Weekend\"}, \"xaxis\": {\"gridcolor\": \"#E1E5ED\", \"showgrid\": true, \"tickfont\": {\"color\": \"#4D5663\"}, \"title\": {\"font\": {\"color\": \"#4D5663\"}, \"text\": \"\"}, \"zerolinecolor\": \"#E1E5ED\"}, \"yaxis\": {\"gridcolor\": \"#E1E5ED\", \"showgrid\": true, \"tickfont\": {\"color\": \"#4D5663\"}, \"title\": {\"font\": {\"color\": \"#4D5663\"}, \"text\": \"Count\"}, \"zerolinecolor\": \"#E1E5ED\"}},\n",
       "                        {\"showLink\": true, \"linkText\": \"Export to plot.ly\", \"plotlyServerURL\": \"https://plot.ly\", \"responsive\": true}\n",
       "                    ).then(function(){\n",
       "                            \n",
       "var gd = document.getElementById('7c65e52d-eb76-467f-b0a0-0df06c32a1ee');\n",
       "var x = new MutationObserver(function (mutations, observer) {{\n",
       "        var display = window.getComputedStyle(gd).display;\n",
       "        if (!display || display === 'none') {{\n",
       "            console.log([gd, 'removed!']);\n",
       "            Plotly.purge(gd);\n",
       "            observer.disconnect();\n",
       "        }}\n",
       "}});\n",
       "\n",
       "// Listen for the removal of the full notebook cells\n",
       "var notebookContainer = gd.closest('#notebook-container');\n",
       "if (notebookContainer) {{\n",
       "    x.observe(notebookContainer, {childList: true});\n",
       "}}\n",
       "\n",
       "// Listen for the clearing of the current output cell\n",
       "var outputEl = gd.closest('.output');\n",
       "if (outputEl) {{\n",
       "    x.observe(outputEl, {childList: true});\n",
       "}}\n",
       "\n",
       "                        })\n",
       "                };\n",
       "                });\n",
       "            </script>\n",
       "        </div>"
      ]
     },
     "metadata": {},
     "output_type": "display_data"
    }
   ],
   "source": [
    "test_df.groupby('is_weekend')['cnt','lr_pred','rf_pred','xgb_pred','lgbm_pred','zip_code'].sum().rename(index={0:'Weekday', 1:'Weekend'}).iplot(kind='bar', title='Prediction by Weekday/Weekend',yTitle='Count')"
   ]
  },
  {
   "cell_type": "markdown",
   "metadata": {},
   "source": [
    "<img src=\"https://github.com/jiyoungsim/BigQuery-NYC-Taxi-Demand--EDA-and-Prediction/blob/master/figs/pred_by_is_weekend.png?raw=true\">"
   ]
  },
  {
   "cell_type": "code",
   "execution_count": null,
   "metadata": {},
   "outputs": [],
   "source": []
  }
 ],
 "metadata": {
  "kernelspec": {
   "display_name": "Python 3",
   "language": "python",
   "name": "python3"
  },
  "language_info": {
   "codemirror_mode": {
    "name": "ipython",
    "version": 3
   },
   "file_extension": ".py",
   "mimetype": "text/x-python",
   "name": "python",
   "nbconvert_exporter": "python",
   "pygments_lexer": "ipython3",
   "version": "3.7.3"
  }
 },
 "nbformat": 4,
 "nbformat_minor": 4
}
